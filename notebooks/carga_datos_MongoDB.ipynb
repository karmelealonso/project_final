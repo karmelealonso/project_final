{
 "cells": [
  {
   "cell_type": "markdown",
   "id": "f178d6c1",
   "metadata": {},
   "source": [
    "# Carga de los datos a MongoDB"
   ]
  },
  {
   "cell_type": "markdown",
   "id": "a42a9918",
   "metadata": {},
   "source": [
    "# Estudio analítico de la iconografía del Museo Nacional Del Prado"
   ]
  },
  {
   "cell_type": "markdown",
   "id": "f7442fa4",
   "metadata": {},
   "source": [
    "# Creación de la Base de Datos en MongoDB."
   ]
  },
  {
   "cell_type": "code",
   "execution_count": 2,
   "id": "8584a01f",
   "metadata": {},
   "outputs": [],
   "source": [
    "import pandas as pd\n",
    "from pymongo import MongoClient"
   ]
  },
  {
   "cell_type": "code",
   "execution_count": 3,
   "id": "e82b7f46",
   "metadata": {},
   "outputs": [],
   "source": [
    "obras_completo = pd.read_csv(\"/Users/karmelealonsoaia/Desktop/ironhack_labs/PROYECTOS/project_final/data/data_clean/obras_completo.csv\")"
   ]
  },
  {
   "cell_type": "code",
   "execution_count": 5,
   "id": "9db63a3d",
   "metadata": {},
   "outputs": [
    {
     "data": {
      "text/plain": [
       "MongoClient(host=['localhost:27017'], document_class=dict, tz_aware=False, connect=True)"
      ]
     },
     "execution_count": 5,
     "metadata": {},
     "output_type": "execute_result"
    }
   ],
   "source": [
    "client = MongoClient(\"mongodb://localhost:27017\")\n",
    "client"
   ]
  },
  {
   "cell_type": "markdown",
   "id": "6fe7f113",
   "metadata": {},
   "source": [
    "# 1. Creación de la base de datos."
   ]
  },
  {
   "cell_type": "code",
   "execution_count": 6,
   "id": "1a430663",
   "metadata": {},
   "outputs": [],
   "source": [
    "db = client[\"icongrafia_prado_completo\"]"
   ]
  },
  {
   "cell_type": "code",
   "execution_count": 10,
   "id": "a8cf35c3",
   "metadata": {},
   "outputs": [
    {
     "data": {
      "text/plain": [
       "Database(MongoClient(host=['localhost:27017'], document_class=dict, tz_aware=False, connect=True), 'icongrafia_prado_completo')"
      ]
     },
     "execution_count": 10,
     "metadata": {},
     "output_type": "execute_result"
    }
   ],
   "source": [
    "db"
   ]
  },
  {
   "cell_type": "markdown",
   "id": "78053162",
   "metadata": {},
   "source": [
    "# 2. Inserción de los datos"
   ]
  },
  {
   "cell_type": "code",
   "execution_count": 7,
   "id": "187cd693",
   "metadata": {},
   "outputs": [
    {
     "data": {
      "text/plain": [
       "<pymongo.results.InsertManyResult at 0x145867fa0>"
      ]
     },
     "execution_count": 7,
     "metadata": {},
     "output_type": "execute_result"
    }
   ],
   "source": [
    "db.obras_completo.insert_many(obras_completo.to_dict(orient=\"records\"))"
   ]
  },
  {
   "cell_type": "code",
   "execution_count": 8,
   "id": "895748b1",
   "metadata": {},
   "outputs": [
    {
     "data": {
      "text/plain": [
       "['obras_completo']"
      ]
     },
     "execution_count": 8,
     "metadata": {},
     "output_type": "execute_result"
    }
   ],
   "source": [
    "db.list_collection_names()"
   ]
  }
 ],
 "metadata": {
  "kernelspec": {
   "display_name": "Python 3 (ipykernel)",
   "language": "python",
   "name": "python3"
  },
  "language_info": {
   "codemirror_mode": {
    "name": "ipython",
    "version": 3
   },
   "file_extension": ".py",
   "mimetype": "text/x-python",
   "name": "python",
   "nbconvert_exporter": "python",
   "pygments_lexer": "ipython3",
   "version": "3.11.5"
  }
 },
 "nbformat": 4,
 "nbformat_minor": 5
}
