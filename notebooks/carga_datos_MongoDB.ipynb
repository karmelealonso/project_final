{
 "cells": [
  {
   "cell_type": "markdown",
   "id": "f178d6c1",
   "metadata": {},
   "source": [
    "# Creación e inserción de nuestros datos a un Base de Datos en MongoDB."
   ]
  },
  {
   "cell_type": "code",
   "execution_count": 1,
   "id": "8584a01f",
   "metadata": {},
   "outputs": [],
   "source": [
    "import pandas as pd\n",
    "from pymongo import MongoClient"
   ]
  },
  {
   "cell_type": "code",
   "execution_count": 2,
   "id": "e82b7f46",
   "metadata": {},
   "outputs": [],
   "source": [
    "cuadros_estudio = pd.read_csv(\"/Users/karmelealonsoaia/Desktop/ironhack_labs/PROYECTOS/project_final/data/data_def/cuadros_estudio.csv\")"
   ]
  },
  {
   "cell_type": "code",
   "execution_count": 3,
   "id": "9db63a3d",
   "metadata": {},
   "outputs": [
    {
     "data": {
      "text/plain": [
       "MongoClient(host=['localhost:27017'], document_class=dict, tz_aware=False, connect=True)"
      ]
     },
     "execution_count": 3,
     "metadata": {},
     "output_type": "execute_result"
    }
   ],
   "source": [
    "client = MongoClient(\"mongodb://localhost:27017\")\n",
    "client"
   ]
  },
  {
   "cell_type": "markdown",
   "id": "6fe7f113",
   "metadata": {},
   "source": [
    "# 1. Creación de la base de datos."
   ]
  },
  {
   "cell_type": "code",
   "execution_count": 4,
   "id": "1a430663",
   "metadata": {},
   "outputs": [],
   "source": [
    "db = client[\"icongrafia_cuadros_prado\"]"
   ]
  },
  {
   "cell_type": "code",
   "execution_count": 5,
   "id": "a8cf35c3",
   "metadata": {},
   "outputs": [
    {
     "data": {
      "text/plain": [
       "Database(MongoClient(host=['localhost:27017'], document_class=dict, tz_aware=False, connect=True), 'icongrafia_cuadros_prado')"
      ]
     },
     "execution_count": 5,
     "metadata": {},
     "output_type": "execute_result"
    }
   ],
   "source": [
    "db"
   ]
  },
  {
   "cell_type": "markdown",
   "id": "78053162",
   "metadata": {},
   "source": [
    "# 2. Inserción de los datos."
   ]
  },
  {
   "cell_type": "code",
   "execution_count": 6,
   "id": "187cd693",
   "metadata": {},
   "outputs": [
    {
     "data": {
      "text/plain": [
       "<pymongo.results.InsertManyResult at 0x149020370>"
      ]
     },
     "execution_count": 6,
     "metadata": {},
     "output_type": "execute_result"
    }
   ],
   "source": [
    "db.cuadros_estudio.insert_many(cuadros_estudio.to_dict(orient=\"records\"))"
   ]
  },
  {
   "cell_type": "code",
   "execution_count": 7,
   "id": "895748b1",
   "metadata": {},
   "outputs": [
    {
     "data": {
      "text/plain": [
       "['cuadros_estudio']"
      ]
     },
     "execution_count": 7,
     "metadata": {},
     "output_type": "execute_result"
    }
   ],
   "source": [
    "db.list_collection_names()"
   ]
  },
  {
   "cell_type": "code",
   "execution_count": 8,
   "id": "bad91844",
   "metadata": {},
   "outputs": [],
   "source": [
    "collection = db['cuadros_estudio']"
   ]
  },
  {
   "cell_type": "code",
   "execution_count": 9,
   "id": "88856400",
   "metadata": {},
   "outputs": [],
   "source": [
    "query = db.cuadros_estudio.find()"
   ]
  },
  {
   "cell_type": "code",
   "execution_count": 10,
   "id": "46701ac2",
   "metadata": {},
   "outputs": [
    {
     "data": {
      "text/plain": [
       "'for documento in query:\\n    print(documento)'"
      ]
     },
     "execution_count": 10,
     "metadata": {},
     "output_type": "execute_result"
    }
   ],
   "source": [
    "\"\"\"for documento in query:\n",
    "    print(documento)\"\"\""
   ]
  },
  {
   "cell_type": "markdown",
   "id": "2073ed4c",
   "metadata": {},
   "source": [
    "Para comprobar que todo funciona como lo esperado, vamos a probar a lanzar un par de queries:"
   ]
  },
  {
   "cell_type": "markdown",
   "id": "f52eb0e4",
   "metadata": {},
   "source": [
    "# Títulos de las obras que contengan \"Peras\" en el elemento iconográfico Flora."
   ]
  },
  {
   "cell_type": "code",
   "execution_count": 11,
   "id": "906f4c8b",
   "metadata": {},
   "outputs": [
    {
     "data": {
      "text/plain": [
       "[{'Titulo': 'El Paraíso y los Cuatro Elementos', 'Flora': 'Peras'},\n",
       " {'Titulo': 'El Paraíso y los Cuatro Elementos', 'Flora': 'Peras'},\n",
       " {'Titulo': 'El Paraíso y los Cuatro Elementos', 'Flora': 'Peras'},\n",
       " {'Titulo': 'El Paraíso y los Cuatro Elementos', 'Flora': 'Peras'},\n",
       " {'Titulo': 'El Paraíso y los Cuatro Elementos', 'Flora': 'Peras'},\n",
       " {'Titulo': 'El Paraíso y los Cuatro Elementos', 'Flora': 'Peras'},\n",
       " {'Titulo': 'El Paraíso y los Cuatro Elementos', 'Flora': 'Peras'},\n",
       " {'Titulo': 'El Paraíso y los Cuatro Elementos', 'Flora': 'Peras'},\n",
       " {'Titulo': 'Cibeles y las Estaciones dentro de un festón de frutas',\n",
       "  'Flora': 'Peras'},\n",
       " {'Titulo': 'Cibeles y las Estaciones dentro de un festón de frutas',\n",
       "  'Flora': 'Peras'},\n",
       " {'Titulo': 'Cibeles y las Estaciones dentro de un festón de frutas',\n",
       "  'Flora': 'Peras'},\n",
       " {'Titulo': 'Cibeles y las Estaciones dentro de un festón de frutas',\n",
       "  'Flora': 'Peras'},\n",
       " {'Titulo': 'Cibeles y las Estaciones dentro de un festón de frutas',\n",
       "  'Flora': 'Peras'},\n",
       " {'Titulo': 'Cibeles y las Estaciones dentro de un festón de frutas',\n",
       "  'Flora': 'Peras'},\n",
       " {'Titulo': 'Cibeles y las Estaciones dentro de un festón de frutas',\n",
       "  'Flora': 'Peras'},\n",
       " {'Titulo': 'Cibeles y las Estaciones dentro de un festón de frutas',\n",
       "  'Flora': 'Peras'},\n",
       " {'Titulo': 'La Tierra', 'Flora': 'Peras'},\n",
       " {'Titulo': 'Tres ninfas con el cuerno de la abundancia', 'Flora': 'Peras'},\n",
       " {'Titulo': 'Tres ninfas con el cuerno de la abundancia', 'Flora': 'Peras'},\n",
       " {'Titulo': 'La Virgen y el Niño con Hernán Gómez Dávila y San...',\n",
       "  'Flora': 'Peras'},\n",
       " {'Titulo': 'La Virgen y el Niño con Hernán Gómez Dávila y San...',\n",
       "  'Flora': 'Peras'},\n",
       " {'Titulo': 'Escenas de La historia de Nastagio degli Onesti',\n",
       "  'Flora': 'Peras'},\n",
       " {'Titulo': 'Escenas de La historia de Nastagio degli Onesti',\n",
       "  'Flora': 'Peras'},\n",
       " {'Titulo': 'Escenas de La historia de Nastagio degli Onesti',\n",
       "  'Flora': 'Peras'},\n",
       " {'Titulo': 'Escenas de La historia de Nastagio degli Onesti',\n",
       "  'Flora': 'Peras'},\n",
       " {'Titulo': 'Escenas de La historia de Nastagio degli Onesti',\n",
       "  'Flora': 'Peras'},\n",
       " {'Titulo': 'Escenas de La historia de Nastagio degli Onesti',\n",
       "  'Flora': 'Peras'},\n",
       " {'Titulo': 'Escenas de La historia de Nastagio degli Onesti',\n",
       "  'Flora': 'Peras'},\n",
       " {'Titulo': 'Escenas de La historia de Nastagio degli Onesti',\n",
       "  'Flora': 'Peras'},\n",
       " {'Titulo': 'Escenas de La historia de Nastagio degli Onesti',\n",
       "  'Flora': 'Peras'},\n",
       " {'Titulo': 'Escenas de La historia de Nastagio degli Onesti',\n",
       "  'Flora': 'Peras'},\n",
       " {'Titulo': 'Escenas de La historia de Nastagio degli Onesti',\n",
       "  'Flora': 'Peras'},\n",
       " {'Titulo': 'Escenas de La historia de Nastagio degli Onesti',\n",
       "  'Flora': 'Peras'},\n",
       " {'Titulo': 'Escenas de La historia de Nastagio degli Onesti',\n",
       "  'Flora': 'Peras'},\n",
       " {'Titulo': 'Escenas de La historia de Nastagio degli Onesti',\n",
       "  'Flora': 'Peras'},\n",
       " {'Titulo': 'Escenas de La historia de Nastagio degli Onesti',\n",
       "  'Flora': 'Peras'},\n",
       " {'Titulo': 'Escenas de La historia de Nastagio degli Onesti',\n",
       "  'Flora': 'Peras'},\n",
       " {'Titulo': 'Escenas de La historia de Nastagio degli Onesti',\n",
       "  'Flora': 'Peras'},\n",
       " {'Titulo': 'Escenas de La historia de Nastagio degli Onesti',\n",
       "  'Flora': 'Peras'},\n",
       " {'Titulo': 'Escenas de La historia de Nastagio degli Onesti',\n",
       "  'Flora': 'Peras'},\n",
       " {'Titulo': 'Escenas de La historia de Nastagio degli Onesti',\n",
       "  'Flora': 'Peras'},\n",
       " {'Titulo': 'Escenas de La historia de Nastagio degli Onesti',\n",
       "  'Flora': 'Peras'},\n",
       " {'Titulo': 'Escenas de La historia de Nastagio degli Onesti',\n",
       "  'Flora': 'Peras'},\n",
       " {'Titulo': 'Escenas de La historia de Nastagio degli Onesti',\n",
       "  'Flora': 'Peras'},\n",
       " {'Titulo': 'Escenas de La historia de Nastagio degli Onesti',\n",
       "  'Flora': 'Peras'},\n",
       " {'Titulo': 'Escenas de La historia de Nastagio degli Onesti',\n",
       "  'Flora': 'Peras'},\n",
       " {'Titulo': 'Escenas de La historia de Nastagio degli Onesti',\n",
       "  'Flora': 'Peras'},\n",
       " {'Titulo': 'Escenas de La historia de Nastagio degli Onesti',\n",
       "  'Flora': 'Peras'},\n",
       " {'Titulo': 'Escenas de La historia de Nastagio degli Onesti',\n",
       "  'Flora': 'Peras'},\n",
       " {'Titulo': 'Escenas de La historia de Nastagio degli Onesti',\n",
       "  'Flora': 'Peras'},\n",
       " {'Titulo': 'Escenas de La historia de Nastagio degli Onesti',\n",
       "  'Flora': 'Peras'},\n",
       " {'Titulo': 'Escenas de La historia de Nastagio degli Onesti',\n",
       "  'Flora': 'Peras'},\n",
       " {'Titulo': 'Escenas de La historia de Nastagio degli Onesti',\n",
       "  'Flora': 'Peras'},\n",
       " {'Titulo': 'Bodegón', 'Flora': 'Peras'},\n",
       " {'Titulo': 'Bodegón', 'Flora': 'Peras'},\n",
       " {'Titulo': 'Bodegón', 'Flora': 'Peras'},\n",
       " {'Titulo': 'Bodegón', 'Flora': 'Peras'},\n",
       " {'Titulo': 'Bodegón', 'Flora': 'Peras'},\n",
       " {'Titulo': 'Bodegón', 'Flora': 'Peras'},\n",
       " {'Titulo': 'Virgen con el Niño y san Juanito', 'Flora': 'Peras'},\n",
       " {'Titulo': 'Virgen con el Niño y san Juanito', 'Flora': 'Peras'},\n",
       " {'Titulo': 'Vendedora de caza y frutas', 'Flora': 'Peras'},\n",
       " {'Titulo': 'Vendedora de caza y frutas', 'Flora': 'Peras'},\n",
       " {'Titulo': 'Interior de una cocina', 'Flora': 'Peras'},\n",
       " {'Titulo': 'Interior de una cocina', 'Flora': 'Peras'},\n",
       " {'Titulo': 'Frutas y verduras', 'Flora': 'Peras'},\n",
       " {'Titulo': 'Mujer en el baño (¿Diana de Poitiers?)', 'Flora': 'Peras'},\n",
       " {'Titulo': 'Despensa', 'Flora': 'Peras'},\n",
       " {'Titulo': 'Despensa', 'Flora': 'Peras'},\n",
       " {'Titulo': 'Despensa', 'Flora': 'Peras'},\n",
       " {'Titulo': 'Despensa', 'Flora': 'Peras'},\n",
       " {'Titulo': 'Despensa', 'Flora': 'Peras'},\n",
       " {'Titulo': 'Despensa', 'Flora': 'Peras'},\n",
       " {'Titulo': 'Despensa', 'Flora': 'Peras'},\n",
       " {'Titulo': 'Despensa', 'Flora': 'Peras'},\n",
       " {'Titulo': 'La Virgen con el Niño dentro de un festón de frutas',\n",
       "  'Flora': 'Peras'},\n",
       " {'Titulo': 'Jardín con flores y frutas', 'Flora': 'Peras'},\n",
       " {'Titulo': 'Guirnalda con el Valor y la Abundancia', 'Flora': 'Peras'},\n",
       " {'Titulo': 'Guirnalda con el Valor y la Abundancia', 'Flora': 'Peras'},\n",
       " {'Titulo': 'La Abundancia y los Cuatro Elementos', 'Flora': 'Peras'},\n",
       " {'Titulo': 'La Abundancia y los Cuatro Elementos', 'Flora': 'Peras'},\n",
       " {'Titulo': 'La Abundancia y los Cuatro Elementos', 'Flora': 'Peras'},\n",
       " {'Titulo': 'La Abundancia y los Cuatro Elementos', 'Flora': 'Peras'},\n",
       " {'Titulo': 'La Abundancia y los Cuatro Elementos', 'Flora': 'Peras'},\n",
       " {'Titulo': 'La Abundancia y los Cuatro Elementos', 'Flora': 'Peras'},\n",
       " {'Titulo': 'La Abundancia y los Cuatro Elementos', 'Flora': 'Peras'},\n",
       " {'Titulo': 'La Abundancia y los Cuatro Elementos', 'Flora': 'Peras'},\n",
       " {'Titulo': 'La Abundancia y los Cuatro Elementos', 'Flora': 'Peras'},\n",
       " {'Titulo': 'La Abundancia y los Cuatro Elementos', 'Flora': 'Peras'},\n",
       " {'Titulo': 'La Abundancia y los Cuatro Elementos', 'Flora': 'Peras'},\n",
       " {'Titulo': 'La Abundancia y los Cuatro Elementos', 'Flora': 'Peras'},\n",
       " {'Titulo': 'La Abundancia y los Cuatro Elementos', 'Flora': 'Peras'},\n",
       " {'Titulo': 'La Abundancia y los Cuatro Elementos', 'Flora': 'Peras'},\n",
       " {'Titulo': 'La Abundancia y los Cuatro Elementos', 'Flora': 'Peras'},\n",
       " {'Titulo': 'Florero de rosas y lirios', 'Flora': 'Peras'}]"
      ]
     },
     "execution_count": 11,
     "metadata": {},
     "output_type": "execute_result"
    }
   ],
   "source": [
    "query = {\"Flora\": \"Peras\"}\n",
    "select = {\"Flora\": 1, \"_id\": 0, \"Titulo\": 1}\n",
    "result = list(collection.find(query, select))\n",
    "result"
   ]
  },
  {
   "cell_type": "markdown",
   "id": "a4a0e1ca",
   "metadata": {},
   "source": [
    "# Una obra cuya Fecha sea \"1562\"."
   ]
  },
  {
   "cell_type": "code",
   "execution_count": 12,
   "id": "8f4c9b6c",
   "metadata": {},
   "outputs": [
    {
     "data": {
      "text/plain": [
       "[{'Titulo': 'San Esteban en la sinagoga',\n",
       "  'Fecha': '1562',\n",
       "  'Personajes': 'San Esteban'}]"
      ]
     },
     "execution_count": 12,
     "metadata": {},
     "output_type": "execute_result"
    }
   ],
   "source": [
    "query = {\"Fecha\": \"1562\"}\n",
    "select = {\"Fecha\": 1, \"_id\": 0, \"Titulo\": 1, \"Personajes\": 1}\n",
    "result = list(collection.find(query, select).limit(1))\n",
    "result"
   ]
  }
 ],
 "metadata": {
  "kernelspec": {
   "display_name": "Python 3 (ipykernel)",
   "language": "python",
   "name": "python3"
  },
  "language_info": {
   "codemirror_mode": {
    "name": "ipython",
    "version": 3
   },
   "file_extension": ".py",
   "mimetype": "text/x-python",
   "name": "python",
   "nbconvert_exporter": "python",
   "pygments_lexer": "ipython3",
   "version": "3.11.5"
  }
 },
 "nbformat": 4,
 "nbformat_minor": 5
}
