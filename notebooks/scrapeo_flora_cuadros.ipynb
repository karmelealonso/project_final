{
 "cells": [
  {
   "cell_type": "code",
   "execution_count": 1,
   "id": "2afbaaef",
   "metadata": {},
   "outputs": [],
   "source": [
    "import pandas as pd\n",
    "from selenium.webdriver.chrome.options import Options\n",
    "from webdriver_manager.chrome import ChromeDriverManager\n",
    "\n",
    "import time\n",
    "\n",
    "import warnings\n",
    "warnings.filterwarnings('ignore')\n",
    "\n",
    "from selenium.webdriver.common.by import By"
   ]
  },
  {
   "cell_type": "code",
   "execution_count": 2,
   "id": "21bdd14b",
   "metadata": {},
   "outputs": [],
   "source": [
    "#configuracion driver\n",
    "opciones=Options()\n",
    "\n",
    "opciones.add_experimental_option('excludeSwitches', ['enable-automation'])\n",
    "opciones.add_experimental_option('useAutomationExtension', False)\n",
    "opciones.headless=False    \n",
    "opciones.add_argument('--start-maximized')      \n",
    "opciones.add_argument('--incognito')"
   ]
  },
  {
   "cell_type": "code",
   "execution_count": 3,
   "id": "5a74348d",
   "metadata": {},
   "outputs": [],
   "source": [
    "from selenium import webdriver\n",
    "\n",
    "PATH = \"driver/chromedriver\" \n",
    "driver = webdriver.Chrome(options = opciones)\n",
    "driver.get('https://www.google.es')"
   ]
  },
  {
   "cell_type": "markdown",
   "id": "29700f29",
   "metadata": {},
   "source": [
    "# Acanto (Acanthus Mollis) (3)"
   ]
  },
  {
   "cell_type": "code",
   "execution_count": 7,
   "id": "aeb0b38f",
   "metadata": {},
   "outputs": [],
   "source": [
    "\n",
    "url = 'https://www.museodelprado.es/coleccion/obras-de-arte?ecidoc:p65_E36_p138_represents_flora@@@pm:floraNode=http://museodelprado.es/items/biologicalobjectflora_547'"
   ]
  },
  {
   "cell_type": "code",
   "execution_count": 8,
   "id": "c0c2f2d2",
   "metadata": {},
   "outputs": [],
   "source": [
    "driver.get(url)"
   ]
  },
  {
   "cell_type": "code",
   "execution_count": 9,
   "id": "0df016cc",
   "metadata": {},
   "outputs": [],
   "source": [
    "data = driver.find_elements(By.XPATH, '//*[@id=\"panResultados\"]/div')[0].text.split('\\n')"
   ]
  },
  {
   "cell_type": "code",
   "execution_count": 10,
   "id": "b03e7abe",
   "metadata": {},
   "outputs": [],
   "source": [
    "resultados = []"
   ]
  },
  {
   "cell_type": "code",
   "execution_count": 11,
   "id": "2eb265a9",
   "metadata": {},
   "outputs": [
    {
     "name": "stdout",
     "output_type": "stream",
     "text": [
      "['Ofrenda a Pericles', 'Óleo sobre lienzo. Hacia 1890', 'HERNÁNDEZ AMORES, GERMÁN', 'Acanto (Acanthus Mollis)', 'Pomo con enrejillado y cabeza de Medusa en oro', 'Cincelado, Tallado, Engarzado. Siglos XVI - XVII', 'MISERONI, GIOVANNI AMBROGIO ; ANÓNIMO', 'Acanto (Acanthus Mollis)', 'Vaso de jade en forma de mascarón, sobre cuatro delfines', 'Cincelado, Fundido, Tallado. Hacia 1600', 'MISERONI, OTTAVIO ; TALLER DE LOS MISERONI ; DEBOURG, MICHEL', 'Acanto (Acanthus Mollis)']\n"
     ]
    }
   ],
   "source": [
    "for i in range(0, len(data), 3):\n",
    "    titulo, fecha, autor = map(str.strip, data[i:i+3])\n",
    "    \n",
    "    resultados.extend([titulo, fecha, autor, 'Acanto (Acanthus Mollis)'])\n",
    "\n",
    "print(resultados)"
   ]
  },
  {
   "cell_type": "markdown",
   "id": "6fa0af5d",
   "metadata": {},
   "source": [
    "# Acebo (Ilex Aquifolium) (2)"
   ]
  },
  {
   "cell_type": "code",
   "execution_count": 12,
   "id": "91573036",
   "metadata": {},
   "outputs": [],
   "source": [
    "\n",
    "url = 'https://www.museodelprado.es/coleccion/obras-de-arte?ecidoc:p65_E36_p138_represents_flora@@@pm:floraNode=http://museodelprado.es/items/biologicalobjectflora_365'"
   ]
  },
  {
   "cell_type": "code",
   "execution_count": 13,
   "id": "6ebe20da",
   "metadata": {},
   "outputs": [],
   "source": [
    "driver.get(url)"
   ]
  },
  {
   "cell_type": "code",
   "execution_count": 14,
   "id": "7c4e9758",
   "metadata": {},
   "outputs": [],
   "source": [
    "data = driver.find_elements(By.XPATH, '//*[@id=\"panResultados\"]/div')[0].text.split('\\n')"
   ]
  },
  {
   "cell_type": "code",
   "execution_count": 16,
   "id": "43d2fddc",
   "metadata": {},
   "outputs": [
    {
     "name": "stdout",
     "output_type": "stream",
     "text": [
      "['Ofrenda a Pericles', 'Óleo sobre lienzo. Hacia 1890', 'HERNÁNDEZ AMORES, GERMÁN', 'Acanto (Acanthus Mollis)', 'Pomo con enrejillado y cabeza de Medusa en oro', 'Cincelado, Tallado, Engarzado. Siglos XVI - XVII', 'MISERONI, GIOVANNI AMBROGIO ; ANÓNIMO', 'Acanto (Acanthus Mollis)', 'Vaso de jade en forma de mascarón, sobre cuatro delfines', 'Cincelado, Fundido, Tallado. Hacia 1600', 'MISERONI, OTTAVIO ; TALLER DE LOS MISERONI ; DEBOURG, MICHEL', 'Acanto (Acanthus Mollis)', 'Guirnalda con Jesús y Santa Teresa', 'Óleo sobre lienzo. Siglo XVII', 'SEGHERS, DANIEL', 'Acebo (Ilex Aquifolium)', 'Guirnalda rodeando a la Virgen María', 'Óleo sobre lámina de cobre. 1640 - 1660', 'VERENDAEL, NICOLAES VAN', 'Acebo (Ilex Aquifolium)', 'Guirnalda con Jesús y Santa Teresa', 'Óleo sobre lienzo. Siglo XVII', 'SEGHERS, DANIEL', 'Acebo (Ilex Aquifolium)', 'Guirnalda rodeando a la Virgen María', 'Óleo sobre lámina de cobre. 1640 - 1660', 'VERENDAEL, NICOLAES VAN', 'Acebo (Ilex Aquifolium)']\n"
     ]
    }
   ],
   "source": [
    "for i in range(0, len(data), 3):\n",
    "    titulo, fecha, autor = map(str.strip, data[i:i+3])\n",
    "    \n",
    "    resultados.extend([titulo, fecha, autor, 'Acebo (Ilex Aquifolium)'])\n",
    "\n",
    "print(resultados)"
   ]
  },
  {
   "cell_type": "markdown",
   "id": "7c87e379",
   "metadata": {},
   "source": [
    "# Achicoria Silvestre (Cichorium Intybus) (1)"
   ]
  },
  {
   "cell_type": "code",
   "execution_count": 13,
   "id": "b685876f",
   "metadata": {},
   "outputs": [],
   "source": [
    "\n",
    "url = 'https://www.museodelprado.es/coleccion/obras-de-arte?ecidoc:p65_E36_p138_represents_flora@@@pm:floraNode=http://museodelprado.es/items/biologicalobjectflora_394'"
   ]
  },
  {
   "cell_type": "code",
   "execution_count": 14,
   "id": "73fa0397",
   "metadata": {},
   "outputs": [],
   "source": [
    "driver.get(url)"
   ]
  },
  {
   "cell_type": "code",
   "execution_count": 15,
   "id": "c6a2c624",
   "metadata": {},
   "outputs": [],
   "source": [
    "data = driver.find_elements(By.XPATH, '//*[@id=\"panResultados\"]/div')[0].text.split('\\n')"
   ]
  },
  {
   "cell_type": "code",
   "execution_count": 16,
   "id": "424b2feb",
   "metadata": {},
   "outputs": [],
   "source": [
    "for i in range(0, len(data), 3):\n",
    "    titulo, fecha, autor = map(str.strip, data[i:i+3])\n",
    "    \n",
    "    resultados.extend([titulo, fecha, autor, 'Achicoria Silvestre (Cichorium Intybus)'])\n"
   ]
  },
  {
   "cell_type": "markdown",
   "id": "7db69ec0",
   "metadata": {},
   "source": [
    "# Aciano / Azulejo (Centaurea Cyanus) (7)"
   ]
  },
  {
   "cell_type": "code",
   "execution_count": 17,
   "id": "e46a6530",
   "metadata": {},
   "outputs": [],
   "source": [
    "\n",
    "url = 'https://www.museodelprado.es/coleccion/obras-de-arte?ecidoc:p65_E36_p138_represents_flora@@@pm:floraNode=http://museodelprado.es/items/biologicalobjectflora_390'"
   ]
  },
  {
   "cell_type": "code",
   "execution_count": 18,
   "id": "c18e6fe8",
   "metadata": {},
   "outputs": [],
   "source": [
    "driver.get(url)"
   ]
  },
  {
   "cell_type": "code",
   "execution_count": 19,
   "id": "9f1e8e4e",
   "metadata": {},
   "outputs": [],
   "source": [
    "data = driver.find_elements(By.XPATH, '//*[@id=\"panResultados\"]/div')[0].text.split('\\n')"
   ]
  },
  {
   "cell_type": "code",
   "execution_count": 20,
   "id": "56d93416",
   "metadata": {},
   "outputs": [],
   "source": [
    "for i in range(0, len(data), 3):\n",
    "    titulo, fecha, autor = map(str.strip, data[i:i+3])\n",
    "    \n",
    "    resultados.extend([titulo, fecha, autor, 'Aciano / Azulejo (Centaurea Cyanus)'])\n"
   ]
  },
  {
   "cell_type": "markdown",
   "id": "7725c40b",
   "metadata": {},
   "source": [
    "# Adelfa (Nerium Oleander)"
   ]
  },
  {
   "cell_type": "code",
   "execution_count": 21,
   "id": "f15b90dc",
   "metadata": {},
   "outputs": [],
   "source": [
    "\n",
    "url = 'https://www.museodelprado.es/coleccion/obras-de-arte?ecidoc:p65_E36_p138_represents_flora@@@pm:floraNode=http://museodelprado.es/items/biologicalobjectflora_359'"
   ]
  },
  {
   "cell_type": "code",
   "execution_count": 22,
   "id": "c14f694c",
   "metadata": {},
   "outputs": [],
   "source": [
    "driver.get(url)"
   ]
  },
  {
   "cell_type": "code",
   "execution_count": 23,
   "id": "4ffa2418",
   "metadata": {},
   "outputs": [],
   "source": [
    "data = driver.find_elements(By.XPATH, '//*[@id=\"panResultados\"]/div')[0].text.split('\\n')"
   ]
  },
  {
   "cell_type": "code",
   "execution_count": 24,
   "id": "38641136",
   "metadata": {},
   "outputs": [],
   "source": [
    "for i in range(0, len(data), 3):\n",
    "    titulo, fecha, autor = map(str.strip, data[i:i+3])\n",
    "    \n",
    "    resultados.extend([titulo, fecha, autor, 'Adelfa (Nerium Oleander)'])\n"
   ]
  },
  {
   "cell_type": "markdown",
   "id": "1f650faa",
   "metadata": {},
   "source": [
    "# Adormidera / Amapola Real (Papaver Somniferum) (43)"
   ]
  },
  {
   "cell_type": "code",
   "execution_count": 25,
   "id": "1c88f000",
   "metadata": {},
   "outputs": [],
   "source": [
    "\n",
    "url = 'https://www.museodelprado.es/coleccion/obras-de-arte?ecidoc:p65_E36_p138_represents_flora@@@pm:floraNode=http://museodelprado.es/items/biologicalobjectflora_4'"
   ]
  },
  {
   "cell_type": "code",
   "execution_count": 26,
   "id": "a49c7e30",
   "metadata": {},
   "outputs": [],
   "source": [
    "driver.get(url)"
   ]
  },
  {
   "cell_type": "code",
   "execution_count": 27,
   "id": "1d1748c8",
   "metadata": {},
   "outputs": [],
   "source": [
    "data = driver.find_elements(By.XPATH, '//*[@id=\"panResultados\"]/div')[0].text.split('\\n')"
   ]
  },
  {
   "cell_type": "code",
   "execution_count": 28,
   "id": "9e804013",
   "metadata": {},
   "outputs": [],
   "source": [
    "for i in range(0, len(data), 3):\n",
    "    titulo, fecha, autor = map(str.strip, data[i:i+3])\n",
    "    \n",
    "    resultados.extend([titulo, fecha, autor, 'Adormidera / Amapola Real (Papaver Somniferum)'])\n"
   ]
  },
  {
   "cell_type": "markdown",
   "id": "13aeb7a9",
   "metadata": {},
   "source": [
    "# Aguileña (Aquilegia Vulgaris) (27)"
   ]
  },
  {
   "cell_type": "code",
   "execution_count": 29,
   "id": "fa7828d4",
   "metadata": {},
   "outputs": [],
   "source": [
    "\n",
    "url = 'https://www.museodelprado.es/coleccion/obras-de-arte?ecidoc:p65_E36_p138_represents_flora@@@pm:floraNode=http://museodelprado.es/items/biologicalobjectflora_302'"
   ]
  },
  {
   "cell_type": "code",
   "execution_count": 30,
   "id": "77a4e02d",
   "metadata": {},
   "outputs": [],
   "source": [
    "driver.get(url)"
   ]
  },
  {
   "cell_type": "code",
   "execution_count": 31,
   "id": "5c117a4d",
   "metadata": {},
   "outputs": [],
   "source": [
    "data = driver.find_elements(By.XPATH, '//*[@id=\"panResultados\"]/div')[0].text.split('\\n')"
   ]
  },
  {
   "cell_type": "code",
   "execution_count": 32,
   "id": "7b893cd0",
   "metadata": {},
   "outputs": [],
   "source": [
    "for i in range(0, len(data), 3):\n",
    "    titulo, fecha, autor = map(str.strip, data[i:i+3])\n",
    "    \n",
    "    resultados.extend([titulo, fecha, autor, 'Aguileña (Aquilegia Vulgaris)'])\n"
   ]
  },
  {
   "cell_type": "markdown",
   "id": "c2d63a62",
   "metadata": {},
   "source": [
    "# Ajenuz / Arañuela (Nigella Damascena) (22)"
   ]
  },
  {
   "cell_type": "code",
   "execution_count": 33,
   "id": "61c4da4c",
   "metadata": {},
   "outputs": [],
   "source": [
    "\n",
    "url = 'https://www.museodelprado.es/coleccion/obras-de-arte?ecidoc:p65_E36_p138_represents_flora@@@pm:floraNode=http://museodelprado.es/items/biologicalobjectflora_343'"
   ]
  },
  {
   "cell_type": "code",
   "execution_count": 34,
   "id": "4e70d3f7",
   "metadata": {},
   "outputs": [],
   "source": [
    "driver.get(url)"
   ]
  },
  {
   "cell_type": "code",
   "execution_count": 35,
   "id": "b1e0a856",
   "metadata": {},
   "outputs": [],
   "source": [
    "data = driver.find_elements(By.XPATH, '//*[@id=\"panResultados\"]/div')[0].text.split('\\n')"
   ]
  },
  {
   "cell_type": "code",
   "execution_count": 36,
   "id": "cad1f411",
   "metadata": {},
   "outputs": [],
   "source": [
    "for i in range(0, len(data), 3):\n",
    "    titulo, fecha, autor = map(str.strip, data[i:i+3])\n",
    "    \n",
    "    resultados.extend([titulo, fecha, autor, 'Ajenuz / Arañuela (Nigella Damascena)'])\n"
   ]
  },
  {
   "cell_type": "markdown",
   "id": "bfa96b6e",
   "metadata": {},
   "source": [
    "# Alhelí de Invierno (Matthiola Incana) (14)"
   ]
  },
  {
   "cell_type": "code",
   "execution_count": 37,
   "id": "a104e02c",
   "metadata": {},
   "outputs": [],
   "source": [
    "\n",
    "url = 'https://www.museodelprado.es/coleccion/obras-de-arte?ecidoc:p65_E36_p138_represents_flora@@@pm:floraNode=http://museodelprado.es/items/biologicalobjectflora_341'"
   ]
  },
  {
   "cell_type": "code",
   "execution_count": 38,
   "id": "c162622f",
   "metadata": {},
   "outputs": [],
   "source": [
    "driver.get(url)"
   ]
  },
  {
   "cell_type": "code",
   "execution_count": 39,
   "id": "d51af8b5",
   "metadata": {},
   "outputs": [],
   "source": [
    "data = driver.find_elements(By.XPATH, '//*[@id=\"panResultados\"]/div')[0].text.split('\\n')"
   ]
  },
  {
   "cell_type": "code",
   "execution_count": 40,
   "id": "5df016bb",
   "metadata": {},
   "outputs": [],
   "source": [
    "for i in range(0, len(data), 3):\n",
    "    titulo, fecha, autor = map(str.strip, data[i:i+3])\n",
    "    \n",
    "    resultados.extend([titulo, fecha, autor, 'Alhelí de Invierno (Matthiola Incana)'])\n"
   ]
  },
  {
   "cell_type": "markdown",
   "id": "52a4c3d1",
   "metadata": {},
   "source": [
    "# Alhelí Dorado (Cheiranthus Cheiri) (9)"
   ]
  },
  {
   "cell_type": "code",
   "execution_count": 41,
   "id": "2056eca5",
   "metadata": {},
   "outputs": [],
   "source": [
    "\n",
    "url = 'https://www.museodelprado.es/coleccion/obras-de-arte?ecidoc:p65_E36_p138_represents_flora@@@pm:floraNode=http://museodelprado.es/items/biologicalobjectflora_296'"
   ]
  },
  {
   "cell_type": "code",
   "execution_count": 42,
   "id": "a54dfa0b",
   "metadata": {},
   "outputs": [],
   "source": [
    "driver.get(url)"
   ]
  },
  {
   "cell_type": "code",
   "execution_count": 43,
   "id": "daf199df",
   "metadata": {},
   "outputs": [],
   "source": [
    "data = driver.find_elements(By.XPATH, '//*[@id=\"panResultados\"]/div')[0].text.split('\\n')"
   ]
  },
  {
   "cell_type": "code",
   "execution_count": 44,
   "id": "aa37455e",
   "metadata": {},
   "outputs": [],
   "source": [
    "for i in range(0, len(data), 3):\n",
    "    titulo, fecha, autor = map(str.strip, data[i:i+3])\n",
    "    \n",
    "    resultados.extend([titulo, fecha, autor, 'Alhelí Dorado (Cheiranthus Cheiri)'])\n"
   ]
  },
  {
   "cell_type": "markdown",
   "id": "93c00729",
   "metadata": {},
   "source": [
    "# Almendro (Prunus Dulcis) (4)"
   ]
  },
  {
   "cell_type": "code",
   "execution_count": 45,
   "id": "1ba76e2e",
   "metadata": {},
   "outputs": [],
   "source": [
    "\n",
    "url = 'https://www.museodelprado.es/coleccion/obras-de-arte?ecidoc:p65_E36_p138_represents_flora@@@pm:floraNode=http://museodelprado.es/items/biologicalobjectflora_436'"
   ]
  },
  {
   "cell_type": "code",
   "execution_count": 46,
   "id": "fd800172",
   "metadata": {},
   "outputs": [],
   "source": [
    "driver.get(url)"
   ]
  },
  {
   "cell_type": "code",
   "execution_count": 47,
   "id": "93f2cb25",
   "metadata": {},
   "outputs": [],
   "source": [
    "data = driver.find_elements(By.XPATH, '//*[@id=\"panResultados\"]/div')[0].text.split('\\n')"
   ]
  },
  {
   "cell_type": "code",
   "execution_count": 48,
   "id": "25c3f2e9",
   "metadata": {},
   "outputs": [],
   "source": [
    "for i in range(0, len(data), 3):\n",
    "    titulo, fecha, autor = map(str.strip, data[i:i+3])\n",
    "    \n",
    "    resultados.extend([titulo, fecha, autor, 'Almendro (Prunus Dulcis)'])\n"
   ]
  },
  {
   "cell_type": "markdown",
   "id": "a91fe267",
   "metadata": {},
   "source": [
    "# Altamisa / Hierba Santa (Tanacetum Parthenium) (2)"
   ]
  },
  {
   "cell_type": "code",
   "execution_count": 49,
   "id": "7f8b0216",
   "metadata": {},
   "outputs": [],
   "source": [
    "\n",
    "url = 'https://www.museodelprado.es/coleccion/obras-de-arte?ecidoc:p65_E36_p138_represents_flora@@@pm:floraNode=http://museodelprado.es/items/biologicalobjectflora_426'"
   ]
  },
  {
   "cell_type": "code",
   "execution_count": 50,
   "id": "1bc5b5e6",
   "metadata": {},
   "outputs": [],
   "source": [
    "driver.get(url)"
   ]
  },
  {
   "cell_type": "code",
   "execution_count": 51,
   "id": "6deed1a3",
   "metadata": {},
   "outputs": [],
   "source": [
    "data = driver.find_elements(By.XPATH, '//*[@id=\"panResultados\"]/div')[0].text.split('\\n')"
   ]
  },
  {
   "cell_type": "code",
   "execution_count": 52,
   "id": "4796105b",
   "metadata": {},
   "outputs": [],
   "source": [
    "for i in range(0, len(data), 3):\n",
    "    titulo, fecha, autor = map(str.strip, data[i:i+3])\n",
    "    \n",
    "    resultados.extend([titulo, fecha, autor, 'Altamisa / Hierba Santa (Tanacetum Parthenium)'])\n"
   ]
  },
  {
   "cell_type": "markdown",
   "id": "c3f539c5",
   "metadata": {},
   "source": [
    "# Amapola (Papaver Rhoeas) (10)"
   ]
  },
  {
   "cell_type": "code",
   "execution_count": 53,
   "id": "b8ef4622",
   "metadata": {},
   "outputs": [],
   "source": [
    "\n",
    "url = 'https://www.museodelprado.es/coleccion/obras-de-arte?ecidoc:p65_E36_p138_represents_flora@@@pm:floraNode=http://museodelprado.es/items/biologicalobjectflora_306'"
   ]
  },
  {
   "cell_type": "code",
   "execution_count": 54,
   "id": "525fa5f2",
   "metadata": {},
   "outputs": [],
   "source": [
    "driver.get(url)"
   ]
  },
  {
   "cell_type": "code",
   "execution_count": 55,
   "id": "8abe4fc5",
   "metadata": {},
   "outputs": [],
   "source": [
    "data = driver.find_elements(By.XPATH, '//*[@id=\"panResultados\"]/div')[0].text.split('\\n')"
   ]
  },
  {
   "cell_type": "code",
   "execution_count": 56,
   "id": "dd73b09f",
   "metadata": {},
   "outputs": [],
   "source": [
    "for i in range(0, len(data), 3):\n",
    "    titulo, fecha, autor = map(str.strip, data[i:i+3])\n",
    "    \n",
    "    resultados.extend([titulo, fecha, autor, 'Amapola (Papaver Rhoeas)'])\n"
   ]
  },
  {
   "cell_type": "markdown",
   "id": "d59977c4",
   "metadata": {},
   "source": [
    "# Amor de Hombre (Tradescantia Zebrina) (1)"
   ]
  },
  {
   "cell_type": "code",
   "execution_count": 57,
   "id": "c8134f06",
   "metadata": {},
   "outputs": [],
   "source": [
    "\n",
    "url = 'https://www.museodelprado.es/coleccion/obras-de-arte?ecidoc:p65_E36_p138_represents_flora@@@pm:floraNode=http://museodelprado.es/items/biologicalobjectflora_552'"
   ]
  },
  {
   "cell_type": "code",
   "execution_count": 58,
   "id": "ae78e49b",
   "metadata": {},
   "outputs": [],
   "source": [
    "driver.get(url)"
   ]
  },
  {
   "cell_type": "code",
   "execution_count": 59,
   "id": "3381bc86",
   "metadata": {},
   "outputs": [],
   "source": [
    "data = driver.find_elements(By.XPATH, '//*[@id=\"panResultados\"]/div')[0].text.split('\\n')"
   ]
  },
  {
   "cell_type": "code",
   "execution_count": 60,
   "id": "74faa9f9",
   "metadata": {},
   "outputs": [],
   "source": [
    "for i in range(0, len(data), 3):\n",
    "    titulo, fecha, autor = map(str.strip, data[i:i+3])\n",
    "    \n",
    "    resultados.extend([titulo, fecha, autor, 'Amor de Hombre (Tradescantia Zebrina)'])\n"
   ]
  },
  {
   "cell_type": "markdown",
   "id": "499cc7ce",
   "metadata": {},
   "source": [
    "# Ancusa / Chupamieles (Anchusa Azurea) (6)"
   ]
  },
  {
   "cell_type": "code",
   "execution_count": 61,
   "id": "e18217b4",
   "metadata": {},
   "outputs": [],
   "source": [
    "\n",
    "url = 'https://www.museodelprado.es/coleccion/obras-de-arte?ecidoc:p65_E36_p138_represents_flora@@@pm:floraNode=http://museodelprado.es/items/biologicalobjectflora_370'"
   ]
  },
  {
   "cell_type": "code",
   "execution_count": 62,
   "id": "44f1e351",
   "metadata": {},
   "outputs": [],
   "source": [
    "driver.get(url)"
   ]
  },
  {
   "cell_type": "code",
   "execution_count": 63,
   "id": "8f3588ec",
   "metadata": {},
   "outputs": [],
   "source": [
    "data = driver.find_elements(By.XPATH, '//*[@id=\"panResultados\"]/div')[0].text.split('\\n')"
   ]
  },
  {
   "cell_type": "code",
   "execution_count": 64,
   "id": "40358721",
   "metadata": {},
   "outputs": [],
   "source": [
    "for i in range(0, len(data), 3):\n",
    "    titulo, fecha, autor = map(str.strip, data[i:i+3])\n",
    "    \n",
    "    resultados.extend([titulo, fecha, autor, 'Ancusa / Chupamieles (Anchusa Azurea)'])\n"
   ]
  },
  {
   "cell_type": "markdown",
   "id": "e315a558",
   "metadata": {},
   "source": [
    "# Anémona (Anemone Spp.) (124)"
   ]
  },
  {
   "cell_type": "code",
   "execution_count": 65,
   "id": "d4e7169f",
   "metadata": {},
   "outputs": [],
   "source": [
    "\n",
    "url = 'https://www.museodelprado.es/coleccion/obras-de-arte?ecidoc:p65_E36_p138_represents_flora@@@pm:floraNode=http://museodelprado.es/items/biologicalobjectflora_277'"
   ]
  },
  {
   "cell_type": "code",
   "execution_count": 66,
   "id": "d0b7ecbb",
   "metadata": {},
   "outputs": [],
   "source": [
    "driver.get(url)"
   ]
  },
  {
   "cell_type": "code",
   "execution_count": 67,
   "id": "8246b88a",
   "metadata": {},
   "outputs": [],
   "source": [
    "data = driver.find_elements(By.XPATH, '//*[@id=\"panResultados\"]/div')[0].text.split('\\n')"
   ]
  },
  {
   "cell_type": "code",
   "execution_count": 68,
   "id": "1b6c99fe",
   "metadata": {},
   "outputs": [],
   "source": [
    "for i in range(0, len(data), 3):\n",
    "    titulo, fecha, autor = map(str.strip, data[i:i+3])\n",
    "    \n",
    "    resultados.extend([titulo, fecha, autor, 'Anémona (Anemone Spp.)'])\n"
   ]
  },
  {
   "cell_type": "markdown",
   "id": "fadc5042",
   "metadata": {},
   "source": [
    "# Árbol del Paraiso (Eleagnus Angustifolia) (1)"
   ]
  },
  {
   "cell_type": "code",
   "execution_count": 69,
   "id": "29b6f4f5",
   "metadata": {},
   "outputs": [],
   "source": [
    "\n",
    "url = 'https://www.museodelprado.es/coleccion/obras-de-arte?ecidoc:p65_E36_p138_represents_flora@@@pm:floraNode=http://museodelprado.es/items/biologicalobjectflora_360'"
   ]
  },
  {
   "cell_type": "code",
   "execution_count": 70,
   "id": "676f4262",
   "metadata": {},
   "outputs": [],
   "source": [
    "driver.get(url)"
   ]
  },
  {
   "cell_type": "code",
   "execution_count": 71,
   "id": "f98b229d",
   "metadata": {},
   "outputs": [],
   "source": [
    "data = driver.find_elements(By.XPATH, '//*[@id=\"panResultados\"]/div')[0].text.split('\\n')"
   ]
  },
  {
   "cell_type": "code",
   "execution_count": 72,
   "id": "d455c769",
   "metadata": {},
   "outputs": [],
   "source": [
    "for i in range(0, len(data), 3):\n",
    "    titulo, fecha, autor = map(str.strip, data[i:i+3])\n",
    "    \n",
    "    resultados.extend([titulo, fecha, autor, 'Árbol del Paraiso (Eleagnus Angustifolia)'])\n"
   ]
  },
  {
   "cell_type": "markdown",
   "id": "b0f06300",
   "metadata": {},
   "source": [
    "# Áster (Aster Cordifolius) (1)"
   ]
  },
  {
   "cell_type": "code",
   "execution_count": 73,
   "id": "05fd88f7",
   "metadata": {},
   "outputs": [],
   "source": [
    "\n",
    "url = 'https://www.museodelprado.es/coleccion/obras-de-arte?ecidoc:p65_E36_p138_represents_flora@@@pm:floraNode=http://museodelprado.es/items/biologicalobjectflora_548'"
   ]
  },
  {
   "cell_type": "code",
   "execution_count": 74,
   "id": "a5b95279",
   "metadata": {},
   "outputs": [],
   "source": [
    "driver.get(url)"
   ]
  },
  {
   "cell_type": "code",
   "execution_count": 75,
   "id": "272f62e6",
   "metadata": {},
   "outputs": [],
   "source": [
    "data = driver.find_elements(By.XPATH, '//*[@id=\"panResultados\"]/div')[0].text.split('\\n')"
   ]
  },
  {
   "cell_type": "code",
   "execution_count": 76,
   "id": "750357e2",
   "metadata": {},
   "outputs": [],
   "source": [
    "for i in range(0, len(data), 3):\n",
    "    titulo, fecha, autor = map(str.strip, data[i:i+3])\n",
    "    \n",
    "    resultados.extend([titulo, fecha, autor, 'Áster (Aster Cordifolius)'])\n"
   ]
  },
  {
   "cell_type": "markdown",
   "id": "55b73088",
   "metadata": {},
   "source": [
    "# Azafrán (Crocus Sativus) (1)"
   ]
  },
  {
   "cell_type": "code",
   "execution_count": 77,
   "id": "a8cd9b1f",
   "metadata": {},
   "outputs": [],
   "source": [
    "\n",
    "url = 'https://www.museodelprado.es/coleccion/obras-de-arte?ecidoc:p65_E36_p138_represents_flora@@@pm:floraNode=http://museodelprado.es/items/biologicalobjectflora_414'"
   ]
  },
  {
   "cell_type": "code",
   "execution_count": 78,
   "id": "eaab269f",
   "metadata": {},
   "outputs": [],
   "source": [
    "driver.get(url)"
   ]
  },
  {
   "cell_type": "code",
   "execution_count": 79,
   "id": "c3e7426d",
   "metadata": {},
   "outputs": [],
   "source": [
    "data = driver.find_elements(By.XPATH, '//*[@id=\"panResultados\"]/div')[0].text.split('\\n')"
   ]
  },
  {
   "cell_type": "code",
   "execution_count": 80,
   "id": "1587cb9d",
   "metadata": {},
   "outputs": [],
   "source": [
    "for i in range(0, len(data), 3):\n",
    "    titulo, fecha, autor = map(str.strip, data[i:i+3])\n",
    "    \n",
    "    resultados.extend([titulo, fecha, autor, 'Azafrán (Crocus Sativus)'])\n"
   ]
  },
  {
   "cell_type": "markdown",
   "id": "f98b3371",
   "metadata": {},
   "source": [
    "# Azucena (Lilium Candidum) (134)"
   ]
  },
  {
   "cell_type": "code",
   "execution_count": 81,
   "id": "eae68563",
   "metadata": {},
   "outputs": [],
   "source": [
    "\n",
    "url = 'https://www.museodelprado.es/coleccion/obras-de-arte?ecidoc:p65_E36_p138_represents_flora@@@pm:floraNode=http://museodelprado.es/items/biologicalobjectflora_157'"
   ]
  },
  {
   "cell_type": "code",
   "execution_count": 82,
   "id": "42fbfc99",
   "metadata": {},
   "outputs": [],
   "source": [
    "driver.get(url)"
   ]
  },
  {
   "cell_type": "code",
   "execution_count": 83,
   "id": "ac5c4f0c",
   "metadata": {},
   "outputs": [],
   "source": [
    "data = driver.find_elements(By.XPATH, '//*[@id=\"panResultados\"]/div')[0].text.split('\\n')"
   ]
  },
  {
   "cell_type": "code",
   "execution_count": 84,
   "id": "ab8d10a3",
   "metadata": {},
   "outputs": [],
   "source": [
    "for i in range(0, len(data), 3):\n",
    "    titulo, fecha, autor = map(str.strip, data[i:i+3])\n",
    "    \n",
    "    resultados.extend([titulo, fecha, autor, 'Azucena (Lilium Candidum)'])\n"
   ]
  },
  {
   "cell_type": "markdown",
   "id": "4ce9a5ce",
   "metadata": {},
   "source": [
    "# Borraja (Borago Officinalis) (4)"
   ]
  },
  {
   "cell_type": "code",
   "execution_count": 85,
   "id": "701c5e53",
   "metadata": {},
   "outputs": [],
   "source": [
    "\n",
    "url = 'https://www.museodelprado.es/coleccion/obras-de-arte?ecidoc:p65_E36_p138_represents_flora@@@pm:floraNode=http://museodelprado.es/items/biologicalobjectflora_566'"
   ]
  },
  {
   "cell_type": "code",
   "execution_count": 86,
   "id": "d7a704c0",
   "metadata": {},
   "outputs": [],
   "source": [
    "driver.get(url)"
   ]
  },
  {
   "cell_type": "code",
   "execution_count": 87,
   "id": "6aaa8b7c",
   "metadata": {},
   "outputs": [],
   "source": [
    "data = driver.find_elements(By.XPATH, '//*[@id=\"panResultados\"]/div')[0].text.split('\\n')"
   ]
  },
  {
   "cell_type": "code",
   "execution_count": 88,
   "id": "9a316cc7",
   "metadata": {},
   "outputs": [],
   "source": [
    "for i in range(0, len(data), 3):\n",
    "    titulo, fecha, autor = map(str.strip, data[i:i+3])\n",
    "    \n",
    "    resultados.extend([titulo, fecha, autor, 'Borraja (Borago Officinalis)'])\n"
   ]
  },
  {
   "cell_type": "markdown",
   "id": "424297fc",
   "metadata": {},
   "source": [
    "# Cala / Alcatraz (Zantedeschia Aethiopica) (3)"
   ]
  },
  {
   "cell_type": "code",
   "execution_count": 89,
   "id": "08255073",
   "metadata": {},
   "outputs": [],
   "source": [
    "# This is the url you will scrape in this exercise\n",
    "url = \"https://www.museodelprado.es/en/the-collection/art-works?ordenarPor=pm:relevance&ecidoc:p65_E36_p138_represents_flora@@@pm:floraNode=http://museodelprado.es/items/biologicalobjectflora_441\""
   ]
  },
  {
   "cell_type": "code",
   "execution_count": 90,
   "id": "a2d57596",
   "metadata": {},
   "outputs": [],
   "source": [
    "driver.get(url)"
   ]
  },
  {
   "cell_type": "code",
   "execution_count": 91,
   "id": "797fe8da",
   "metadata": {},
   "outputs": [],
   "source": [
    "data = driver.find_elements(By.XPATH, '//*[@id=\"panResultados\"]/div')[0].text.split('\\n')"
   ]
  },
  {
   "cell_type": "code",
   "execution_count": 92,
   "id": "d2761923",
   "metadata": {},
   "outputs": [],
   "source": [
    "for i in range(0, len(data), 3):\n",
    "    titulo, fecha, autor = map(str.strip, data[i:i+3])\n",
    "    \n",
    "    resultados.extend([titulo, fecha, autor, 'Cala / Alcatraz (Zantedeschia Aethiopica)'])\n"
   ]
  },
  {
   "cell_type": "markdown",
   "id": "f342f2d5",
   "metadata": {},
   "source": [
    "# Caléndula / Maravilla (Calendula Officinalis) (20)"
   ]
  },
  {
   "cell_type": "code",
   "execution_count": 93,
   "id": "626510df",
   "metadata": {},
   "outputs": [],
   "source": [
    "\n",
    "url = 'https://www.museodelprado.es/coleccion/obras-de-arte?searchObras=calendula%20/%20maravilla%20(calendula%20officinalis)'"
   ]
  },
  {
   "cell_type": "code",
   "execution_count": 94,
   "id": "cb7ce203",
   "metadata": {},
   "outputs": [],
   "source": [
    "driver.get(url)"
   ]
  },
  {
   "cell_type": "code",
   "execution_count": 95,
   "id": "004c738a",
   "metadata": {},
   "outputs": [],
   "source": [
    "data = driver.find_elements(By.XPATH, '//*[@id=\"panResultados\"]/div')[0].text.split('\\n')"
   ]
  },
  {
   "cell_type": "code",
   "execution_count": 96,
   "id": "aa753b92",
   "metadata": {},
   "outputs": [],
   "source": [
    "for i in range(0, len(data), 3):\n",
    "    titulo, fecha, autor = map(str.strip, data[i:i+3])\n",
    "    \n",
    "    resultados.extend([titulo, fecha, autor, 'Caléndula / Maravilla (Calendula Officinalis)'])\n"
   ]
  },
  {
   "cell_type": "markdown",
   "id": "1995625d",
   "metadata": {},
   "source": [
    "# Camelia (Camellis Spp.) (3)"
   ]
  },
  {
   "cell_type": "code",
   "execution_count": 97,
   "id": "00e08dfc",
   "metadata": {},
   "outputs": [],
   "source": [
    "\n",
    "url = 'https://www.museodelprado.es/coleccion/obras-de-arte?ecidoc:p65_E36_p138_represents_flora@@@pm:floraNode=http://museodelprado.es/items/biologicalobjectflora_458'"
   ]
  },
  {
   "cell_type": "code",
   "execution_count": 98,
   "id": "c9e808ec",
   "metadata": {},
   "outputs": [],
   "source": [
    "driver.get(url)"
   ]
  },
  {
   "cell_type": "code",
   "execution_count": 99,
   "id": "2db90372",
   "metadata": {},
   "outputs": [],
   "source": [
    "data = driver.find_elements(By.XPATH, '//*[@id=\"panResultados\"]/div')[0].text.split('\\n')"
   ]
  },
  {
   "cell_type": "code",
   "execution_count": 100,
   "id": "1cd96e2c",
   "metadata": {},
   "outputs": [],
   "source": [
    "for i in range(0, len(data), 3):\n",
    "    titulo, fecha, autor = map(str.strip, data[i:i+3])\n",
    "    \n",
    "    resultados.extend([titulo, fecha, autor, 'Camelia (Camellis Spp.)'])\n"
   ]
  },
  {
   "cell_type": "markdown",
   "id": "d3b4d9f2",
   "metadata": {},
   "source": [
    "# Campanilla de Invierno (Galanthus Nivalis) (3)"
   ]
  },
  {
   "cell_type": "code",
   "execution_count": 101,
   "id": "cc28d761",
   "metadata": {},
   "outputs": [],
   "source": [
    "\n",
    "url = 'https://www.museodelprado.es/coleccion/obras-de-arte?ecidoc:p65_E36_p138_represents_flora@@@pm:floraNode=http://museodelprado.es/items/biologicalobjectflora_848'"
   ]
  },
  {
   "cell_type": "code",
   "execution_count": 102,
   "id": "f62adcb8",
   "metadata": {},
   "outputs": [],
   "source": [
    "driver.get(url)"
   ]
  },
  {
   "cell_type": "code",
   "execution_count": 103,
   "id": "8e6d146a",
   "metadata": {},
   "outputs": [],
   "source": [
    "data = driver.find_elements(By.XPATH, '//*[@id=\"panResultados\"]/div')[0].text.split('\\n')"
   ]
  },
  {
   "cell_type": "code",
   "execution_count": 104,
   "id": "62c6070b",
   "metadata": {},
   "outputs": [],
   "source": [
    "for i in range(0, len(data), 3):\n",
    "    titulo, fecha, autor = map(str.strip, data[i:i+3])\n",
    "    \n",
    "    resultados.extend([titulo, fecha, autor, 'Campanilla de Invierno (Galanthus Nivalis)'])\n"
   ]
  },
  {
   "cell_type": "markdown",
   "id": "ca0b1af2",
   "metadata": {},
   "source": [
    "# Cantueso / Tomillo Borriquero (Lavandula Stoechas) (1)"
   ]
  },
  {
   "cell_type": "code",
   "execution_count": 105,
   "id": "4613cc3c",
   "metadata": {},
   "outputs": [],
   "source": [
    "\n",
    "url = 'https://www.museodelprado.es/coleccion/obras-de-arte?ecidoc:p65_E36_p138_represents_flora@@@pm:floraNode=http://museodelprado.es/items/biologicalobjectflora_429'"
   ]
  },
  {
   "cell_type": "code",
   "execution_count": 106,
   "id": "32900dce",
   "metadata": {},
   "outputs": [],
   "source": [
    "driver.get(url)"
   ]
  },
  {
   "cell_type": "code",
   "execution_count": 107,
   "id": "4b5f1cd8",
   "metadata": {},
   "outputs": [],
   "source": [
    "data = driver.find_elements(By.XPATH, '//*[@id=\"panResultados\"]/div')[0].text.split('\\n')"
   ]
  },
  {
   "cell_type": "code",
   "execution_count": 108,
   "id": "3bad30df",
   "metadata": {},
   "outputs": [],
   "source": [
    "for i in range(0, len(data), 3):\n",
    "    titulo, fecha, autor = map(str.strip, data[i:i+3])\n",
    "    \n",
    "    resultados.extend([titulo, fecha, autor, 'Cantueso / Tomillo Borriquero (Lavandula Stoechas)'])\n"
   ]
  },
  {
   "cell_type": "markdown",
   "id": "748b21fc",
   "metadata": {},
   "source": [
    "# Capuchina (Tropaeolum Majus) (22)"
   ]
  },
  {
   "cell_type": "code",
   "execution_count": 109,
   "id": "119fc9ee",
   "metadata": {},
   "outputs": [],
   "source": [
    "\n",
    "url = 'https://www.museodelprado.es/coleccion/obras-de-arte?ecidoc:p65_E36_p138_represents_flora@@@pm:floraNode=http://museodelprado.es/items/biologicalobjectflora_332'"
   ]
  },
  {
   "cell_type": "code",
   "execution_count": 110,
   "id": "354eafeb",
   "metadata": {},
   "outputs": [],
   "source": [
    "driver.get(url)"
   ]
  },
  {
   "cell_type": "code",
   "execution_count": 111,
   "id": "d52a5610",
   "metadata": {},
   "outputs": [],
   "source": [
    "data = driver.find_elements(By.XPATH, '//*[@id=\"panResultados\"]/div')[0].text.split('\\n')"
   ]
  },
  {
   "cell_type": "code",
   "execution_count": 112,
   "id": "cd9da033",
   "metadata": {},
   "outputs": [],
   "source": [
    "for i in range(0, len(data), 3):\n",
    "    titulo, fecha, autor = map(str.strip, data[i:i+3])\n",
    "    \n",
    "    resultados.extend([titulo, fecha, autor, 'Capuchina (Tropaeolum Majus)'])\n"
   ]
  },
  {
   "cell_type": "markdown",
   "id": "57ed21f6",
   "metadata": {},
   "source": [
    "# Castaño Común (Castanea Sativa) (2)"
   ]
  },
  {
   "cell_type": "code",
   "execution_count": 113,
   "id": "da766f31",
   "metadata": {},
   "outputs": [],
   "source": [
    "\n",
    "url = 'https://www.museodelprado.es/coleccion/obras-de-arte?ecidoc:p65_E36_p138_represents_flora@@@pm:floraNode=http://museodelprado.es/items/biologicalobjectflora_448'"
   ]
  },
  {
   "cell_type": "code",
   "execution_count": 114,
   "id": "339e7f6c",
   "metadata": {},
   "outputs": [],
   "source": [
    "driver.get(url)"
   ]
  },
  {
   "cell_type": "code",
   "execution_count": 115,
   "id": "09c6cf89",
   "metadata": {},
   "outputs": [],
   "source": [
    "data = driver.find_elements(By.XPATH, '//*[@id=\"panResultados\"]/div')[0].text.split('\\n')"
   ]
  },
  {
   "cell_type": "code",
   "execution_count": 116,
   "id": "2916a721",
   "metadata": {},
   "outputs": [],
   "source": [
    "for i in range(0, len(data), 3):\n",
    "    titulo, fecha, autor = map(str.strip, data[i:i+3])\n",
    "    \n",
    "    resultados.extend([titulo, fecha, autor, 'Castaño Común (Castanea Sativa)'])\n"
   ]
  },
  {
   "cell_type": "markdown",
   "id": "970759f5",
   "metadata": {},
   "source": [
    "# Caña de Indias / Canna (Canna Indica) (3)"
   ]
  },
  {
   "cell_type": "code",
   "execution_count": 117,
   "id": "2b9ce9b8",
   "metadata": {},
   "outputs": [],
   "source": [
    "\n",
    "url = 'https://www.museodelprado.es/coleccion/obras-de-arte?ecidoc:p65_E36_p138_represents_flora@@@pm:floraNode=http://museodelprado.es/items/biologicalobjectflora_379'"
   ]
  },
  {
   "cell_type": "code",
   "execution_count": 118,
   "id": "4e807e55",
   "metadata": {},
   "outputs": [],
   "source": [
    "driver.get(url)"
   ]
  },
  {
   "cell_type": "code",
   "execution_count": 119,
   "id": "7bf26ccd",
   "metadata": {},
   "outputs": [],
   "source": [
    "data = driver.find_elements(By.XPATH, '//*[@id=\"panResultados\"]/div')[0].text.split('\\n')"
   ]
  },
  {
   "cell_type": "code",
   "execution_count": 120,
   "id": "8a90cb09",
   "metadata": {},
   "outputs": [],
   "source": [
    "for i in range(0, len(data), 3):\n",
    "    titulo, fecha, autor = map(str.strip, data[i:i+3])\n",
    "    \n",
    "    resultados.extend([titulo, fecha, autor, 'Caña de Indias / Canna (Canna Indica)'])\n"
   ]
  },
  {
   "cell_type": "markdown",
   "id": "bad289c8",
   "metadata": {},
   "source": [
    "# Celinda (Philadelphus Coronarius L.) (2)"
   ]
  },
  {
   "cell_type": "code",
   "execution_count": 121,
   "id": "b718ab70",
   "metadata": {},
   "outputs": [],
   "source": [
    "\n",
    "url = 'https://www.museodelprado.es/coleccion/obras-de-arte?ecidoc:p65_E36_p138_represents_flora@@@pm:floraNode=http://museodelprado.es/items/biologicalobjectflora_583'"
   ]
  },
  {
   "cell_type": "code",
   "execution_count": 122,
   "id": "4d8403b6",
   "metadata": {},
   "outputs": [],
   "source": [
    "driver.get(url)"
   ]
  },
  {
   "cell_type": "code",
   "execution_count": 123,
   "id": "3e46795b",
   "metadata": {},
   "outputs": [],
   "source": [
    "data = driver.find_elements(By.XPATH, '//*[@id=\"panResultados\"]/div')[0].text.split('\\n')"
   ]
  },
  {
   "cell_type": "code",
   "execution_count": 124,
   "id": "061745dc",
   "metadata": {},
   "outputs": [],
   "source": [
    "for i in range(0, len(data), 3):\n",
    "    titulo, fecha, autor = map(str.strip, data[i:i+3])\n",
    "    \n",
    "    resultados.extend([titulo, fecha, autor, 'Celinda (Philadelphus Coronarius L.)'])\n"
   ]
  },
  {
   "cell_type": "markdown",
   "id": "2bd69d89",
   "metadata": {},
   "source": [
    "# Chirivía / Pastinaca (Pastinaca Sativa) (9)"
   ]
  },
  {
   "cell_type": "code",
   "execution_count": 125,
   "id": "8d33bd31",
   "metadata": {},
   "outputs": [],
   "source": [
    "\n",
    "url = 'https://www.museodelprado.es/coleccion/obras-de-arte?ecidoc:p65_E36_p138_represents_flora@@@pm:floraNode=http://museodelprado.es/items/biologicalobjectflora_420'"
   ]
  },
  {
   "cell_type": "code",
   "execution_count": 126,
   "id": "22191141",
   "metadata": {},
   "outputs": [],
   "source": [
    "driver.get(url)"
   ]
  },
  {
   "cell_type": "code",
   "execution_count": 127,
   "id": "7e30a6f7",
   "metadata": {},
   "outputs": [],
   "source": [
    "data = driver.find_elements(By.XPATH, '//*[@id=\"panResultados\"]/div')[0].text.split('\\n')"
   ]
  },
  {
   "cell_type": "code",
   "execution_count": 128,
   "id": "8d4846f8",
   "metadata": {},
   "outputs": [],
   "source": [
    "for i in range(0, len(data), 3):\n",
    "    titulo, fecha, autor = map(str.strip, data[i:i+3])\n",
    "    \n",
    "    resultados.extend([titulo, fecha, autor, 'Chirivía / Pastinaca (Pastinaca Sativa)'])\n"
   ]
  },
  {
   "cell_type": "markdown",
   "id": "0cc95e25",
   "metadata": {},
   "source": [
    "# Chumbera / Nopal (Opuntia Ficus-Indica) (3)"
   ]
  },
  {
   "cell_type": "code",
   "execution_count": 129,
   "id": "6913230a",
   "metadata": {},
   "outputs": [],
   "source": [
    "\n",
    "url = 'https://www.museodelprado.es/coleccion/obras-de-arte?ecidoc:p65_E36_p138_represents_flora@@@pm:floraNode=http://museodelprado.es/items/biologicalobjectflora_539'"
   ]
  },
  {
   "cell_type": "code",
   "execution_count": 130,
   "id": "61a6cdb9",
   "metadata": {},
   "outputs": [],
   "source": [
    "driver.get(url)"
   ]
  },
  {
   "cell_type": "code",
   "execution_count": 131,
   "id": "6cc871d2",
   "metadata": {},
   "outputs": [],
   "source": [
    "data = driver.find_elements(By.XPATH, '//*[@id=\"panResultados\"]/div')[0].text.split('\\n')"
   ]
  },
  {
   "cell_type": "code",
   "execution_count": 132,
   "id": "eb52ac3d",
   "metadata": {},
   "outputs": [],
   "source": [
    "for i in range(0, len(data), 3):\n",
    "    titulo, fecha, autor = map(str.strip, data[i:i+3])\n",
    "    \n",
    "    resultados.extend([titulo, fecha, autor, 'Chumbera / Nopal (Opuntia Ficus-Indica)'])\n"
   ]
  },
  {
   "cell_type": "markdown",
   "id": "054a44f5",
   "metadata": {},
   "source": [
    "# Ciclamen (Cyclamen Persicum) (7)"
   ]
  },
  {
   "cell_type": "code",
   "execution_count": 133,
   "id": "8fa3a09b",
   "metadata": {},
   "outputs": [],
   "source": [
    "\n",
    "url = 'https://www.museodelprado.es/coleccion/obras-de-arte?searchObras=ciclamen'"
   ]
  },
  {
   "cell_type": "code",
   "execution_count": 134,
   "id": "8cd627b7",
   "metadata": {},
   "outputs": [],
   "source": [
    "driver.get(url)"
   ]
  },
  {
   "cell_type": "code",
   "execution_count": 135,
   "id": "5a0327b1",
   "metadata": {},
   "outputs": [],
   "source": [
    "data = driver.find_elements(By.XPATH, '//*[@id=\"panResultados\"]/div')[0].text.split('\\n')"
   ]
  },
  {
   "cell_type": "code",
   "execution_count": 136,
   "id": "269c1e8d",
   "metadata": {},
   "outputs": [],
   "source": [
    "for i in range(0, len(data), 3):\n",
    "    titulo, fecha, autor = map(str.strip, data[i:i+3])\n",
    "    \n",
    "    resultados.extend([titulo, fecha, autor, 'Chumbera / Nopal (Opuntia Ficus-Indica)'])\n"
   ]
  },
  {
   "cell_type": "markdown",
   "id": "dd17c7ed",
   "metadata": {},
   "source": [
    "# Ciprés (Cupressus) (12)"
   ]
  },
  {
   "cell_type": "code",
   "execution_count": 137,
   "id": "84f3c1ea",
   "metadata": {},
   "outputs": [],
   "source": [
    "\n",
    "url = 'https://www.museodelprado.es/coleccion/obras-de-arte?ecidoc:p65_E36_p138_represents_flora@@@pm:floraNode=http://museodelprado.es/items/biologicalobjectflora_457'"
   ]
  },
  {
   "cell_type": "code",
   "execution_count": 138,
   "id": "8d6dcea5",
   "metadata": {},
   "outputs": [],
   "source": [
    "driver.get(url)"
   ]
  },
  {
   "cell_type": "code",
   "execution_count": 139,
   "id": "bb0c8a5d",
   "metadata": {},
   "outputs": [],
   "source": [
    "data = driver.find_elements(By.XPATH, '//*[@id=\"panResultados\"]/div')[0].text.split('\\n')"
   ]
  },
  {
   "cell_type": "code",
   "execution_count": 140,
   "id": "053edaa8",
   "metadata": {},
   "outputs": [],
   "source": [
    "for i in range(0, len(data), 3):\n",
    "    titulo, fecha, autor = map(str.strip, data[i:i+3])\n",
    "    \n",
    "    resultados.extend([titulo, fecha, autor, 'Ciprés (Cupressus)'])\n"
   ]
  },
  {
   "cell_type": "markdown",
   "id": "00cbe40d",
   "metadata": {},
   "source": [
    "# Clavel (Dianthus Caryophyllus) (111)"
   ]
  },
  {
   "cell_type": "code",
   "execution_count": 141,
   "id": "27bb3d78",
   "metadata": {},
   "outputs": [],
   "source": [
    "\n",
    "url = 'https://www.museodelprado.es/coleccion/obras-de-arte?ecidoc:p65_E36_p138_represents_flora@@@pm:floraNode=http://museodelprado.es/items/biologicalobjectflora_293'"
   ]
  },
  {
   "cell_type": "code",
   "execution_count": 142,
   "id": "c1eb3de8",
   "metadata": {},
   "outputs": [],
   "source": [
    "driver.get(url)"
   ]
  },
  {
   "cell_type": "code",
   "execution_count": 143,
   "id": "653458db",
   "metadata": {},
   "outputs": [],
   "source": [
    "data = driver.find_elements(By.XPATH, '//*[@id=\"panResultados\"]/div')[0].text.split('\\n')"
   ]
  },
  {
   "cell_type": "code",
   "execution_count": 144,
   "id": "6926d349",
   "metadata": {},
   "outputs": [],
   "source": [
    "for i in range(0, len(data), 3):\n",
    "    titulo, fecha, autor = map(str.strip, data[i:i+3])\n",
    "    \n",
    "    resultados.extend([titulo, fecha, autor, 'Clavel (Dianthus Caryophyllus)'])\n"
   ]
  },
  {
   "cell_type": "markdown",
   "id": "d99e272d",
   "metadata": {},
   "source": [
    "# Clavel Chino (Dianthus Chinensis) (16)"
   ]
  },
  {
   "cell_type": "code",
   "execution_count": 145,
   "id": "7d58db1d",
   "metadata": {},
   "outputs": [],
   "source": [
    "\n",
    "url = 'https://www.museodelprado.es/coleccion/obras-de-arte?ecidoc:p65_E36_p138_represents_flora@@@pm:floraNode=http://museodelprado.es/items/biologicalobjectflora_319'"
   ]
  },
  {
   "cell_type": "code",
   "execution_count": 146,
   "id": "c9374e64",
   "metadata": {},
   "outputs": [],
   "source": [
    "driver.get(url)"
   ]
  },
  {
   "cell_type": "code",
   "execution_count": 147,
   "id": "58cffa83",
   "metadata": {},
   "outputs": [],
   "source": [
    "data = driver.find_elements(By.XPATH, '//*[@id=\"panResultados\"]/div')[0].text.split('\\n')"
   ]
  },
  {
   "cell_type": "code",
   "execution_count": 148,
   "id": "70c28ca9",
   "metadata": {},
   "outputs": [],
   "source": [
    "for i in range(0, len(data), 3):\n",
    "    titulo, fecha, autor = map(str.strip, data[i:i+3])\n",
    "    \n",
    "    resultados.extend([titulo, fecha, autor, 'Clavel Chino (Dianthus Chinensis)'])\n"
   ]
  },
  {
   "cell_type": "markdown",
   "id": "5691c0e7",
   "metadata": {},
   "source": [
    "# Clavellina (Dianthus Deltoides) (22)"
   ]
  },
  {
   "cell_type": "code",
   "execution_count": 149,
   "id": "f057de64",
   "metadata": {},
   "outputs": [],
   "source": [
    "\n",
    "url = 'https://www.museodelprado.es/coleccion/obras-de-arte?searchObras=clavellina'"
   ]
  },
  {
   "cell_type": "code",
   "execution_count": 150,
   "id": "2e4fbbfd",
   "metadata": {},
   "outputs": [],
   "source": [
    "driver.get(url)"
   ]
  },
  {
   "cell_type": "code",
   "execution_count": 151,
   "id": "7d152842",
   "metadata": {},
   "outputs": [],
   "source": [
    "data = driver.find_elements(By.XPATH, '//*[@id=\"panResultados\"]/div')[0].text.split('\\n')"
   ]
  },
  {
   "cell_type": "code",
   "execution_count": 152,
   "id": "bad3f45e",
   "metadata": {},
   "outputs": [],
   "source": [
    "for i in range(0, len(data), 3):\n",
    "    titulo, fecha, autor = map(str.strip, data[i:i+3])\n",
    "    \n",
    "    resultados.extend([titulo, fecha, autor, 'Clavellina (Dianthus Deltoides)'])\n"
   ]
  },
  {
   "cell_type": "markdown",
   "id": "45617a7e",
   "metadata": {},
   "source": [
    "# Colinabo (Brassica Napobrassica) (4)"
   ]
  },
  {
   "cell_type": "code",
   "execution_count": 153,
   "id": "e083d162",
   "metadata": {},
   "outputs": [],
   "source": [
    "\n",
    "url = 'https://www.museodelprado.es/coleccion/obras-de-arte?searchObras=colinabo%20(brassica%20napobrassica)'"
   ]
  },
  {
   "cell_type": "code",
   "execution_count": 154,
   "id": "b79426a7",
   "metadata": {},
   "outputs": [],
   "source": [
    "driver.get(url)"
   ]
  },
  {
   "cell_type": "code",
   "execution_count": 155,
   "id": "c5fc1339",
   "metadata": {},
   "outputs": [],
   "source": [
    "data = driver.find_elements(By.XPATH, '//*[@id=\"panResultados\"]/div')[0].text.split('\\n')"
   ]
  },
  {
   "cell_type": "code",
   "execution_count": 156,
   "id": "089567d6",
   "metadata": {},
   "outputs": [],
   "source": [
    "for i in range(0, len(data), 3):\n",
    "    titulo, fecha, autor = map(str.strip, data[i:i+3])\n",
    "    \n",
    "    resultados.extend([titulo, fecha, autor, 'Colinabo (Brassica Napobrassica)'])\n"
   ]
  },
  {
   "cell_type": "markdown",
   "id": "043c41db",
   "metadata": {},
   "source": [
    "# Collejón (Moricandia Arvensis) (1)"
   ]
  },
  {
   "cell_type": "code",
   "execution_count": 157,
   "id": "49579dbd",
   "metadata": {},
   "outputs": [],
   "source": [
    "\n",
    "url = 'https://www.museodelprado.es/coleccion/obras-de-arte?searchObras=collejon'"
   ]
  },
  {
   "cell_type": "code",
   "execution_count": 158,
   "id": "7059574a",
   "metadata": {},
   "outputs": [],
   "source": [
    "driver.get(url)"
   ]
  },
  {
   "cell_type": "code",
   "execution_count": 159,
   "id": "d61ded92",
   "metadata": {},
   "outputs": [],
   "source": [
    "data = driver.find_elements(By.XPATH, '//*[@id=\"panResultados\"]/div')[0].text.split('\\n')"
   ]
  },
  {
   "cell_type": "code",
   "execution_count": 160,
   "id": "0393ecaa",
   "metadata": {},
   "outputs": [],
   "source": [
    "for i in range(0, len(data), 3):\n",
    "    titulo, fecha, autor = map(str.strip, data[i:i+3])\n",
    "    \n",
    "    resultados.extend([titulo, fecha, autor, 'Collejón (Moricandia Arvensis)'])\n"
   ]
  },
  {
   "cell_type": "markdown",
   "id": "68f9d7e9",
   "metadata": {},
   "source": [
    "# Coronilla / Carolina de Jardín (Coronilla Glauca) (1)"
   ]
  },
  {
   "cell_type": "code",
   "execution_count": 161,
   "id": "819d01be",
   "metadata": {},
   "outputs": [],
   "source": [
    "\n",
    "url = 'https://www.museodelprado.es/coleccion/obras-de-arte?searchObras=coronilla%20/%20carolina%20de%20jardin%20(coronilla%20glauca)'"
   ]
  },
  {
   "cell_type": "code",
   "execution_count": 162,
   "id": "dd5e7c13",
   "metadata": {},
   "outputs": [],
   "source": [
    "driver.get(url)"
   ]
  },
  {
   "cell_type": "code",
   "execution_count": 163,
   "id": "50e58996",
   "metadata": {},
   "outputs": [],
   "source": [
    "data = driver.find_elements(By.XPATH, '//*[@id=\"panResultados\"]/div')[0].text.split('\\n')"
   ]
  },
  {
   "cell_type": "code",
   "execution_count": 164,
   "id": "940fd934",
   "metadata": {},
   "outputs": [],
   "source": [
    "for i in range(0, len(data), 3):\n",
    "    titulo, fecha, autor = map(str.strip, data[i:i+3])\n",
    "    \n",
    "    resultados.extend([titulo, fecha, autor, 'Coronilla / Carolina de Jardín (Coronilla Glauca)'])\n"
   ]
  },
  {
   "cell_type": "markdown",
   "id": "69653683",
   "metadata": {},
   "source": [
    "# Crisantemo (Chrysanthemum Spp.) (7)"
   ]
  },
  {
   "cell_type": "code",
   "execution_count": 165,
   "id": "0a3a07ed",
   "metadata": {},
   "outputs": [],
   "source": [
    "\n",
    "url = 'https://www.museodelprado.es/coleccion/obras-de-arte?searchObras=crisantemo%20(chrysanthemum%20spp%20)'"
   ]
  },
  {
   "cell_type": "code",
   "execution_count": 166,
   "id": "6ddbb979",
   "metadata": {},
   "outputs": [],
   "source": [
    "driver.get(url)"
   ]
  },
  {
   "cell_type": "code",
   "execution_count": 167,
   "id": "0bd3462c",
   "metadata": {},
   "outputs": [],
   "source": [
    "data = driver.find_elements(By.XPATH, '//*[@id=\"panResultados\"]/div')[0].text.split('\\n')"
   ]
  },
  {
   "cell_type": "code",
   "execution_count": 168,
   "id": "e494422d",
   "metadata": {},
   "outputs": [],
   "source": [
    "for i in range(0, len(data), 3):\n",
    "    titulo, fecha, autor = map(str.strip, data[i:i+3])\n",
    "    \n",
    "    resultados.extend([titulo, fecha, autor, 'Crisantemo (Chrysanthemum Spp.)'])\n"
   ]
  },
  {
   "cell_type": "markdown",
   "id": "79c0fe5d",
   "metadata": {},
   "source": [
    "# Diente de León (Taraxacum Officinale)"
   ]
  },
  {
   "cell_type": "code",
   "execution_count": 169,
   "id": "9e57a86c",
   "metadata": {},
   "outputs": [],
   "source": [
    "\n",
    "url = 'https://www.museodelprado.es/coleccion/obras-de-arte?searchObras=diente%20de%20leon%20(taraxacum%20officinale)'"
   ]
  },
  {
   "cell_type": "code",
   "execution_count": 170,
   "id": "82894409",
   "metadata": {},
   "outputs": [],
   "source": [
    "driver.get(url)"
   ]
  },
  {
   "cell_type": "code",
   "execution_count": 171,
   "id": "2a7627db",
   "metadata": {},
   "outputs": [],
   "source": [
    "data = driver.find_elements(By.XPATH, '//*[@id=\"panResultados\"]/div')[0].text.split('\\n')"
   ]
  },
  {
   "cell_type": "code",
   "execution_count": 172,
   "id": "9e69bb1b",
   "metadata": {},
   "outputs": [],
   "source": [
    "for i in range(0, len(data), 3):\n",
    "    titulo, fecha, autor = map(str.strip, data[i:i+3])\n",
    "    \n",
    "    resultados.extend([titulo, fecha, autor, 'Diente de León (Taraxacum Officinale)'])\n"
   ]
  },
  {
   "cell_type": "markdown",
   "id": "47cc9a4b",
   "metadata": {},
   "source": [
    "# Diente de León de Otoño (Scorzoneroides Autumnalis) (1)"
   ]
  },
  {
   "cell_type": "code",
   "execution_count": 173,
   "id": "5f491086",
   "metadata": {},
   "outputs": [],
   "source": [
    "\n",
    "url = 'https://www.museodelprado.es/coleccion/obras-de-arte?searchObras=diente%20de%20leon%20de%20otono%20(scorzoneroides%20autumnalis)'"
   ]
  },
  {
   "cell_type": "code",
   "execution_count": 174,
   "id": "a0fef9c1",
   "metadata": {},
   "outputs": [],
   "source": [
    "driver.get(url)"
   ]
  },
  {
   "cell_type": "code",
   "execution_count": 175,
   "id": "c8ce63ac",
   "metadata": {},
   "outputs": [],
   "source": [
    "data = driver.find_elements(By.XPATH, '//*[@id=\"panResultados\"]/div')[0].text.split('\\n')"
   ]
  },
  {
   "cell_type": "code",
   "execution_count": 176,
   "id": "5b7f2de9",
   "metadata": {},
   "outputs": [],
   "source": [
    "for i in range(0, len(data), 3):\n",
    "    titulo, fecha, autor = map(str.strip, data[i:i+3])\n",
    "    \n",
    "    resultados.extend([titulo, fecha, autor, 'Diente de León de Otoño (Scorzoneroides Autumnalis)'])\n"
   ]
  },
  {
   "cell_type": "markdown",
   "id": "ecbcdf6a",
   "metadata": {},
   "source": [
    "# Digital (Digitalis Spp.) (1)"
   ]
  },
  {
   "cell_type": "code",
   "execution_count": 177,
   "id": "4d870e62",
   "metadata": {},
   "outputs": [],
   "source": [
    "\n",
    "url = 'https://www.museodelprado.es/coleccion/obras-de-arte?searchObras=digital%20(digitalis%20spp%20)'"
   ]
  },
  {
   "cell_type": "code",
   "execution_count": 178,
   "id": "bc374b7f",
   "metadata": {},
   "outputs": [],
   "source": [
    "driver.get(url)"
   ]
  },
  {
   "cell_type": "code",
   "execution_count": 179,
   "id": "9d1fdd87",
   "metadata": {},
   "outputs": [],
   "source": [
    "data = driver.find_elements(By.XPATH, '//*[@id=\"panResultados\"]/div')[0].text.split('\\n')"
   ]
  },
  {
   "cell_type": "code",
   "execution_count": 180,
   "id": "5760e95c",
   "metadata": {},
   "outputs": [],
   "source": [
    "for i in range(0, len(data), 3):\n",
    "    titulo, fecha, autor = map(str.strip, data[i:i+3])\n",
    "    \n",
    "    resultados.extend([titulo, fecha, autor, 'Digital (Digitalis Spp.)'])\n"
   ]
  },
  {
   "cell_type": "markdown",
   "id": "5c70c54c",
   "metadata": {},
   "source": [
    "# Dondiego de Día (Convolvulaceas, Fam.) (65)"
   ]
  },
  {
   "cell_type": "code",
   "execution_count": 181,
   "id": "4ec0e43d",
   "metadata": {},
   "outputs": [],
   "source": [
    "\n",
    "url = 'https://www.museodelprado.es/coleccion/obras-de-arte?searchObras=dondiego%20de%20dia%20(convolvulaceas%20%20fam%20)'"
   ]
  },
  {
   "cell_type": "code",
   "execution_count": 182,
   "id": "f0c7638b",
   "metadata": {},
   "outputs": [],
   "source": [
    "driver.get(url)"
   ]
  },
  {
   "cell_type": "code",
   "execution_count": 183,
   "id": "8152195b",
   "metadata": {},
   "outputs": [],
   "source": [
    "data = driver.find_elements(By.XPATH, '//*[@id=\"panResultados\"]/div')[0].text.split('\\n')"
   ]
  },
  {
   "cell_type": "code",
   "execution_count": 184,
   "id": "be58fce4",
   "metadata": {},
   "outputs": [],
   "source": [
    "for i in range(0, len(data), 3):\n",
    "    titulo, fecha, autor = map(str.strip, data[i:i+3])\n",
    "    \n",
    "    resultados.extend([titulo, fecha, autor, 'Dondiego de Día (Convolvulaceas, Fam.)'])\n"
   ]
  },
  {
   "cell_type": "markdown",
   "id": "aebc5990",
   "metadata": {},
   "source": [
    "# Dondiego de Noche (Mirabilis Jalapa) (1)"
   ]
  },
  {
   "cell_type": "code",
   "execution_count": 185,
   "id": "18731078",
   "metadata": {},
   "outputs": [],
   "source": [
    "\n",
    "url = 'https://www.museodelprado.es/coleccion/obras-de-arte?searchObras=dondiego%20de%20noche%20(mirabilis%20jalapa)'"
   ]
  },
  {
   "cell_type": "code",
   "execution_count": 186,
   "id": "10c4f59d",
   "metadata": {},
   "outputs": [],
   "source": [
    "driver.get(url)"
   ]
  },
  {
   "cell_type": "code",
   "execution_count": 187,
   "id": "d5d5ead1",
   "metadata": {},
   "outputs": [],
   "source": [
    "data = driver.find_elements(By.XPATH, '//*[@id=\"panResultados\"]/div')[0].text.split('\\n')"
   ]
  },
  {
   "cell_type": "code",
   "execution_count": 188,
   "id": "89b9cfac",
   "metadata": {},
   "outputs": [],
   "source": [
    "for i in range(0, len(data), 3):\n",
    "    titulo, fecha, autor = map(str.strip, data[i:i+3])\n",
    "    \n",
    "    resultados.extend([titulo, fecha, autor, 'Dondiego de Noche (Mirabilis Jalapa)'])\n"
   ]
  },
  {
   "cell_type": "markdown",
   "id": "46aca261",
   "metadata": {},
   "source": [
    "# Dragonaria (Antirrhinum Majus) (2)"
   ]
  },
  {
   "cell_type": "code",
   "execution_count": 189,
   "id": "2bc5334c",
   "metadata": {},
   "outputs": [],
   "source": [
    "\n",
    "url = 'https://www.museodelprado.es/coleccion/obras-de-arte?searchObras=dragonaria'"
   ]
  },
  {
   "cell_type": "code",
   "execution_count": 190,
   "id": "b3f09346",
   "metadata": {},
   "outputs": [],
   "source": [
    "driver.get(url)"
   ]
  },
  {
   "cell_type": "code",
   "execution_count": 191,
   "id": "3a26e8d0",
   "metadata": {},
   "outputs": [],
   "source": [
    "data = driver.find_elements(By.XPATH, '//*[@id=\"panResultados\"]/div')[0].text.split('\\n')"
   ]
  },
  {
   "cell_type": "code",
   "execution_count": 192,
   "id": "c37bb1d0",
   "metadata": {},
   "outputs": [],
   "source": [
    "for i in range(0, len(data), 3):\n",
    "    titulo, fecha, autor = map(str.strip, data[i:i+3])\n",
    "    \n",
    "    resultados.extend([titulo, fecha, autor, 'Dragonaria (Antirrhinum Majus)'])\n"
   ]
  },
  {
   "cell_type": "markdown",
   "id": "954d096f",
   "metadata": {},
   "source": [
    "# Encina (Quercus Ilex) (5)"
   ]
  },
  {
   "cell_type": "code",
   "execution_count": 193,
   "id": "49506344",
   "metadata": {},
   "outputs": [],
   "source": [
    "\n",
    "url = 'https://www.museodelprado.es/coleccion/obras-de-arte?searchObras=encina%20(quercus%20ilex)'"
   ]
  },
  {
   "cell_type": "code",
   "execution_count": 194,
   "id": "44d9d71d",
   "metadata": {},
   "outputs": [],
   "source": [
    "driver.get(url)"
   ]
  },
  {
   "cell_type": "code",
   "execution_count": 195,
   "id": "bb9434d3",
   "metadata": {},
   "outputs": [],
   "source": [
    "data = driver.find_elements(By.XPATH, '//*[@id=\"panResultados\"]/div')[0].text.split('\\n')"
   ]
  },
  {
   "cell_type": "code",
   "execution_count": 196,
   "id": "bcc5c2fd",
   "metadata": {},
   "outputs": [],
   "source": [
    "for i in range(0, len(data), 3):\n",
    "    titulo, fecha, autor = map(str.strip, data[i:i+3])\n",
    "    \n",
    "    resultados.extend([titulo, fecha, autor, 'Encina (Quercus Ilex)'])\n"
   ]
  },
  {
   "cell_type": "markdown",
   "id": "f7b93f5f",
   "metadata": {},
   "source": [
    "# Espino Albar / Espino Blanco (Crataegus Oxyacantha L.) (3)"
   ]
  },
  {
   "cell_type": "code",
   "execution_count": 197,
   "id": "4e9fa408",
   "metadata": {},
   "outputs": [],
   "source": [
    "\n",
    "url = 'https://www.museodelprado.es/coleccion/obras-de-arte?searchObras=espino%20albar%20/%20espino%20blanco'"
   ]
  },
  {
   "cell_type": "code",
   "execution_count": 198,
   "id": "6ca61ffb",
   "metadata": {},
   "outputs": [],
   "source": [
    "driver.get(url)"
   ]
  },
  {
   "cell_type": "code",
   "execution_count": 199,
   "id": "5fa60db7",
   "metadata": {},
   "outputs": [],
   "source": [
    "data = driver.find_elements(By.XPATH, '//*[@id=\"panResultados\"]/div')[0].text.split('\\n')"
   ]
  },
  {
   "cell_type": "code",
   "execution_count": 200,
   "id": "093e2ba4",
   "metadata": {},
   "outputs": [],
   "source": [
    "for i in range(0, len(data), 3):\n",
    "    titulo, fecha, autor = map(str.strip, data[i:i+3])\n",
    "    \n",
    "    resultados.extend([titulo, fecha, autor, 'Espino Albar / Espino Blanco (Crataegus Oxyacantha L.)'])\n"
   ]
  },
  {
   "cell_type": "markdown",
   "id": "44ffbb82",
   "metadata": {},
   "source": [
    "# Espuela de Caballero (Consolida Ajacis) (15)"
   ]
  },
  {
   "cell_type": "code",
   "execution_count": 201,
   "id": "8bdcaebb",
   "metadata": {},
   "outputs": [],
   "source": [
    "\n",
    "url = 'https://www.museodelprado.es/coleccion/obras-de-arte?searchObras=espuela%20de%20caballero'"
   ]
  },
  {
   "cell_type": "code",
   "execution_count": 202,
   "id": "7b62c363",
   "metadata": {},
   "outputs": [],
   "source": [
    "driver.get(url)"
   ]
  },
  {
   "cell_type": "code",
   "execution_count": 203,
   "id": "ed978344",
   "metadata": {},
   "outputs": [],
   "source": [
    "data = driver.find_elements(By.XPATH, '//*[@id=\"panResultados\"]/div')[0].text.split('\\n')"
   ]
  },
  {
   "cell_type": "code",
   "execution_count": 204,
   "id": "21c5a5a7",
   "metadata": {},
   "outputs": [],
   "source": [
    "for i in range(0, len(data), 3):\n",
    "    titulo, fecha, autor = map(str.strip, data[i:i+3])\n",
    "    \n",
    "    resultados.extend([titulo, fecha, autor, 'Espuela de Caballero (Consolida Ajacis)'])\n"
   ]
  },
  {
   "cell_type": "markdown",
   "id": "12fc6a6b",
   "metadata": {},
   "source": [
    "# Estramonio (Datura Stramonium) (1)"
   ]
  },
  {
   "cell_type": "code",
   "execution_count": 205,
   "id": "a335eaf5",
   "metadata": {},
   "outputs": [],
   "source": [
    "\n",
    "url = 'https://www.museodelprado.es/coleccion/obras-de-arte?searchObras=estramonio%20(datura%20stramonium)'"
   ]
  },
  {
   "cell_type": "code",
   "execution_count": 206,
   "id": "9d643950",
   "metadata": {},
   "outputs": [],
   "source": [
    "driver.get(url)"
   ]
  },
  {
   "cell_type": "code",
   "execution_count": 207,
   "id": "eaea7d5c",
   "metadata": {},
   "outputs": [],
   "source": [
    "data = driver.find_elements(By.XPATH, '//*[@id=\"panResultados\"]/div')[0].text.split('\\n')"
   ]
  },
  {
   "cell_type": "code",
   "execution_count": 208,
   "id": "30a47a69",
   "metadata": {},
   "outputs": [],
   "source": [
    "for i in range(0, len(data), 3):\n",
    "    titulo, fecha, autor = map(str.strip, data[i:i+3])\n",
    "    \n",
    "    resultados.extend([titulo, fecha, autor, 'Estramonio (Datura Stramonium)'])\n"
   ]
  },
  {
   "cell_type": "markdown",
   "id": "118154a3",
   "metadata": {},
   "source": [
    "# Flor de Azahar (Citrus Aurantium) (28)"
   ]
  },
  {
   "cell_type": "code",
   "execution_count": 209,
   "id": "3d4b40c8",
   "metadata": {},
   "outputs": [],
   "source": [
    "\n",
    "url = 'https://www.museodelprado.es/coleccion/obras-de-arte?searchObras=flor%20de%20azahar%20(citrus%20aurantium)'"
   ]
  },
  {
   "cell_type": "code",
   "execution_count": 210,
   "id": "00e0b079",
   "metadata": {},
   "outputs": [],
   "source": [
    "driver.get(url)"
   ]
  },
  {
   "cell_type": "code",
   "execution_count": 211,
   "id": "33c1baa2",
   "metadata": {},
   "outputs": [],
   "source": [
    "data = driver.find_elements(By.XPATH, '//*[@id=\"panResultados\"]/div')[0].text.split('\\n')"
   ]
  },
  {
   "cell_type": "code",
   "execution_count": 212,
   "id": "d5fe8805",
   "metadata": {},
   "outputs": [],
   "source": [
    "for i in range(0, len(data), 3):\n",
    "    titulo, fecha, autor = map(str.strip, data[i:i+3])\n",
    "    \n",
    "    resultados.extend([titulo, fecha, autor, 'Flor de Azahar (Citrus Aurantium)'])\n"
   ]
  },
  {
   "cell_type": "markdown",
   "id": "21d4ba4e",
   "metadata": {},
   "source": [
    "# Fresa Silvestre (Fragaria Vesca) (3)"
   ]
  },
  {
   "cell_type": "code",
   "execution_count": 213,
   "id": "5728614f",
   "metadata": {},
   "outputs": [],
   "source": [
    "\n",
    "url = 'https://www.museodelprado.es/coleccion/obras-de-arte?searchObras=fresa%20silvestre%20(fragaria%20vesca)'"
   ]
  },
  {
   "cell_type": "code",
   "execution_count": 214,
   "id": "2aec9c9e",
   "metadata": {},
   "outputs": [],
   "source": [
    "driver.get(url)"
   ]
  },
  {
   "cell_type": "code",
   "execution_count": 215,
   "id": "e58265fc",
   "metadata": {},
   "outputs": [],
   "source": [
    "data = driver.find_elements(By.XPATH, '//*[@id=\"panResultados\"]/div')[0].text.split('\\n')"
   ]
  },
  {
   "cell_type": "code",
   "execution_count": 216,
   "id": "683c4573",
   "metadata": {},
   "outputs": [],
   "source": [
    "for i in range(0, len(data), 3):\n",
    "    titulo, fecha, autor = map(str.strip, data[i:i+3])\n",
    "    \n",
    "    resultados.extend([titulo, fecha, autor, 'Fresa Silvestre (Fragaria Vesca)'])\n"
   ]
  },
  {
   "cell_type": "markdown",
   "id": "7f8fac0b",
   "metadata": {},
   "source": [
    "# Fucsia / Pendientes de la Reina (Fuchsia Magellanica) (1)"
   ]
  },
  {
   "cell_type": "code",
   "execution_count": 217,
   "id": "0f0d33b3",
   "metadata": {},
   "outputs": [],
   "source": [
    "\n",
    "url = 'https://www.museodelprado.es/coleccion/obras-de-arte?searchObras=fucsia%20/%20pendientes%20de%20la%20reina'"
   ]
  },
  {
   "cell_type": "code",
   "execution_count": 218,
   "id": "4501647a",
   "metadata": {},
   "outputs": [],
   "source": [
    "driver.get(url)"
   ]
  },
  {
   "cell_type": "code",
   "execution_count": 219,
   "id": "c5e0ffa5",
   "metadata": {},
   "outputs": [],
   "source": [
    "data = driver.find_elements(By.XPATH, '//*[@id=\"panResultados\"]/div')[0].text.split('\\n')"
   ]
  },
  {
   "cell_type": "code",
   "execution_count": 220,
   "id": "ddbb5791",
   "metadata": {},
   "outputs": [],
   "source": [
    "for i in range(0, len(data), 3):\n",
    "    titulo, fecha, autor = map(str.strip, data[i:i+3])\n",
    "    \n",
    "    resultados.extend([titulo, fecha, autor, 'Fucsia / Pendientes de la Reina (Fuchsia Magellanica)'])\n"
   ]
  },
  {
   "cell_type": "markdown",
   "id": "10248137",
   "metadata": {},
   "source": [
    "# Geranio (Pelargonium Spp.) (2)"
   ]
  },
  {
   "cell_type": "code",
   "execution_count": 221,
   "id": "5765716a",
   "metadata": {},
   "outputs": [],
   "source": [
    "\n",
    "url = 'https://www.museodelprado.es/coleccion/obras-de-arte?searchObras=geranio%20(pelargonium%20spp%20)'"
   ]
  },
  {
   "cell_type": "code",
   "execution_count": 222,
   "id": "a20a08d1",
   "metadata": {},
   "outputs": [],
   "source": [
    "driver.get(url)"
   ]
  },
  {
   "cell_type": "code",
   "execution_count": 223,
   "id": "a169dfa1",
   "metadata": {},
   "outputs": [],
   "source": [
    "data = driver.find_elements(By.XPATH, '//*[@id=\"panResultados\"]/div')[0].text.split('\\n')"
   ]
  },
  {
   "cell_type": "code",
   "execution_count": 224,
   "id": "c4548ea4",
   "metadata": {},
   "outputs": [],
   "source": [
    "for i in range(0, len(data), 3):\n",
    "    titulo, fecha, autor = map(str.strip, data[i:i+3])\n",
    "    \n",
    "    resultados.extend([titulo, fecha, autor, 'Geranio (Pelargonium Spp.)'])\n"
   ]
  },
  {
   "cell_type": "markdown",
   "id": "f84cbac4",
   "metadata": {},
   "source": [
    "# Girasol (Helianthus Annuus) (5)"
   ]
  },
  {
   "cell_type": "code",
   "execution_count": 225,
   "id": "e9111aea",
   "metadata": {},
   "outputs": [],
   "source": [
    "\n",
    "url = 'https://www.museodelprado.es/coleccion/obras-de-arte?searchObras=girasol%20(helianthus%20annuus)'"
   ]
  },
  {
   "cell_type": "code",
   "execution_count": 226,
   "id": "21e7b695",
   "metadata": {},
   "outputs": [],
   "source": [
    "driver.get(url)"
   ]
  },
  {
   "cell_type": "code",
   "execution_count": 227,
   "id": "7ec7ba8e",
   "metadata": {},
   "outputs": [],
   "source": [
    "data = driver.find_elements(By.XPATH, '//*[@id=\"panResultados\"]/div')[0].text.split('\\n')"
   ]
  },
  {
   "cell_type": "code",
   "execution_count": 228,
   "id": "8a4a75b5",
   "metadata": {},
   "outputs": [],
   "source": [
    "for i in range(0, len(data), 3):\n",
    "    titulo, fecha, autor = map(str.strip, data[i:i+3])\n",
    "    \n",
    "    resultados.extend([titulo, fecha, autor, 'Girasol (Helianthus Annuus)'])\n"
   ]
  },
  {
   "cell_type": "markdown",
   "id": "c31786b9",
   "metadata": {},
   "source": [
    "# Gladiolo (Gladiolus Spp.) (7)"
   ]
  },
  {
   "cell_type": "code",
   "execution_count": 229,
   "id": "c843a09d",
   "metadata": {},
   "outputs": [],
   "source": [
    "\n",
    "url = 'https://www.museodelprado.es/coleccion/obras-de-arte?searchObras=gladiolo%20(gladiolus%20spp%20)'"
   ]
  },
  {
   "cell_type": "code",
   "execution_count": 230,
   "id": "1c6cbc11",
   "metadata": {},
   "outputs": [],
   "source": [
    "driver.get(url)"
   ]
  },
  {
   "cell_type": "code",
   "execution_count": 231,
   "id": "81727fa0",
   "metadata": {},
   "outputs": [],
   "source": [
    "data = driver.find_elements(By.XPATH, '//*[@id=\"panResultados\"]/div')[0].text.split('\\n')"
   ]
  },
  {
   "cell_type": "code",
   "execution_count": 232,
   "id": "3350eaca",
   "metadata": {},
   "outputs": [],
   "source": [
    "for i in range(0, len(data), 3):\n",
    "    titulo, fecha, autor = map(str.strip, data[i:i+3])\n",
    "    \n",
    "    resultados.extend([titulo, fecha, autor, 'Gladiolo (Gladiolus Spp.)'])\n"
   ]
  },
  {
   "cell_type": "markdown",
   "id": "ac85960b",
   "metadata": {},
   "source": [
    "# Glicinia (Wisteria Sinensis) (1)"
   ]
  },
  {
   "cell_type": "code",
   "execution_count": 233,
   "id": "ef031141",
   "metadata": {},
   "outputs": [],
   "source": [
    "\n",
    "url = 'https://www.museodelprado.es/coleccion/obras-de-arte?searchObras=glicinia%20(wisteria%20sinensis)'"
   ]
  },
  {
   "cell_type": "code",
   "execution_count": 234,
   "id": "06898de5",
   "metadata": {},
   "outputs": [],
   "source": [
    "driver.get(url)"
   ]
  },
  {
   "cell_type": "code",
   "execution_count": 235,
   "id": "f4b0d6d4",
   "metadata": {},
   "outputs": [],
   "source": [
    "data = driver.find_elements(By.XPATH, '//*[@id=\"panResultados\"]/div')[0].text.split('\\n')"
   ]
  },
  {
   "cell_type": "code",
   "execution_count": 236,
   "id": "f5980b3f",
   "metadata": {},
   "outputs": [],
   "source": [
    "for i in range(0, len(data), 3):\n",
    "    titulo, fecha, autor = map(str.strip, data[i:i+3])\n",
    "    \n",
    "    resultados.extend([titulo, fecha, autor, 'Glicinia (Wisteria Sinensis)'])\n"
   ]
  },
  {
   "cell_type": "markdown",
   "id": "68ced4e2",
   "metadata": {},
   "source": [
    "# Granado (Punica Granatum) (9)"
   ]
  },
  {
   "cell_type": "code",
   "execution_count": 237,
   "id": "bbc398bd",
   "metadata": {},
   "outputs": [],
   "source": [
    "\n",
    "url = 'https://www.museodelprado.es/coleccion/obras-de-arte?searchObras=granado%20(punica%20granatum)'"
   ]
  },
  {
   "cell_type": "code",
   "execution_count": 238,
   "id": "7aad2d26",
   "metadata": {},
   "outputs": [],
   "source": [
    "driver.get(url)"
   ]
  },
  {
   "cell_type": "code",
   "execution_count": 239,
   "id": "253c6615",
   "metadata": {},
   "outputs": [],
   "source": [
    "data = driver.find_elements(By.XPATH, '//*[@id=\"panResultados\"]/div')[0].text.split('\\n')"
   ]
  },
  {
   "cell_type": "code",
   "execution_count": 240,
   "id": "5224dac8",
   "metadata": {},
   "outputs": [],
   "source": [
    "for i in range(0, len(data), 3):\n",
    "    titulo, fecha, autor = map(str.strip, data[i:i+3])\n",
    "    \n",
    "    resultados.extend([titulo, fecha, autor, 'Granado (Punica Granatum)'])\n"
   ]
  },
  {
   "cell_type": "markdown",
   "id": "5c69274c",
   "metadata": {},
   "source": [
    "# Guisante de Olor (Lathyrus Odoratus) (5)"
   ]
  },
  {
   "cell_type": "code",
   "execution_count": 241,
   "id": "875035e2",
   "metadata": {},
   "outputs": [],
   "source": [
    "\n",
    "url = 'https://www.museodelprado.es/coleccion/obras-de-arte?searchObras=guisante%20de%20olor%20(lathyrus%20odoratus)'"
   ]
  },
  {
   "cell_type": "code",
   "execution_count": 242,
   "id": "15858f62",
   "metadata": {},
   "outputs": [],
   "source": [
    "driver.get(url)"
   ]
  },
  {
   "cell_type": "code",
   "execution_count": 243,
   "id": "12ff92b6",
   "metadata": {},
   "outputs": [],
   "source": [
    "data = driver.find_elements(By.XPATH, '//*[@id=\"panResultados\"]/div')[0].text.split('\\n')"
   ]
  },
  {
   "cell_type": "code",
   "execution_count": 244,
   "id": "145695ce",
   "metadata": {},
   "outputs": [],
   "source": [
    "for i in range(0, len(data), 3):\n",
    "    titulo, fecha, autor = map(str.strip, data[i:i+3])\n",
    "    \n",
    "    resultados.extend([titulo, fecha, autor, 'Guisante de Olor (Lathyrus Odoratus)'])\n"
   ]
  },
  {
   "cell_type": "markdown",
   "id": "87db1d53",
   "metadata": {},
   "source": [
    "# Haya (Fagus, de la Familia de las Fagaceae) (1)"
   ]
  },
  {
   "cell_type": "code",
   "execution_count": 245,
   "id": "5335c38b",
   "metadata": {},
   "outputs": [],
   "source": [
    "\n",
    "url = 'https://www.museodelprado.es/coleccion/obras-de-arte?searchObras=haya%20(fagus%20%20de%20la%20familia%20de%20las%20fagaceae)'"
   ]
  },
  {
   "cell_type": "code",
   "execution_count": 246,
   "id": "2f19b416",
   "metadata": {},
   "outputs": [],
   "source": [
    "driver.get(url)"
   ]
  },
  {
   "cell_type": "code",
   "execution_count": 247,
   "id": "1ecebf53",
   "metadata": {},
   "outputs": [],
   "source": [
    "data = driver.find_elements(By.XPATH, '//*[@id=\"panResultados\"]/div')[0].text.split('\\n')"
   ]
  },
  {
   "cell_type": "code",
   "execution_count": 248,
   "id": "56cbc5e5",
   "metadata": {},
   "outputs": [],
   "source": [
    "for i in range(0, len(data), 3):\n",
    "    titulo, fecha, autor = map(str.strip, data[i:i+3])\n",
    "    \n",
    "    resultados.extend([titulo, fecha, autor, 'Haya (Fagus, de la Familia de las Fagaceae)'])\n"
   ]
  },
  {
   "cell_type": "markdown",
   "id": "a350ff5f",
   "metadata": {},
   "source": [
    "# Hiedra (Hedera Spp.) (33)"
   ]
  },
  {
   "cell_type": "code",
   "execution_count": 249,
   "id": "345ace28",
   "metadata": {},
   "outputs": [],
   "source": [
    "\n",
    "url = 'https://www.museodelprado.es/coleccion/obras-de-arte?searchObras=hiedra%20(hedera%20spp%20)'"
   ]
  },
  {
   "cell_type": "code",
   "execution_count": 250,
   "id": "c2d94e65",
   "metadata": {},
   "outputs": [],
   "source": [
    "driver.get(url)"
   ]
  },
  {
   "cell_type": "code",
   "execution_count": 251,
   "id": "451a581f",
   "metadata": {},
   "outputs": [],
   "source": [
    "data = driver.find_elements(By.XPATH, '//*[@id=\"panResultados\"]/div')[0].text.split('\\n')"
   ]
  },
  {
   "cell_type": "code",
   "execution_count": 252,
   "id": "aee48dbb",
   "metadata": {},
   "outputs": [],
   "source": [
    "for i in range(0, len(data), 3):\n",
    "    titulo, fecha, autor = map(str.strip, data[i:i+3])\n",
    "    \n",
    "    resultados.extend([titulo, fecha, autor, 'Hiedra (Hedera Spp.)'])\n"
   ]
  },
  {
   "cell_type": "markdown",
   "id": "2233d163",
   "metadata": {},
   "source": [
    "# Hierba de San Benito (Geum Urbanum) (1)"
   ]
  },
  {
   "cell_type": "code",
   "execution_count": 253,
   "id": "2b0f1fbd",
   "metadata": {},
   "outputs": [],
   "source": [
    "\n",
    "url = 'https://www.museodelprado.es/coleccion/obras-de-arte?searchObras=hierba%20de%20san%20benito%20(geum%20urbanum)'"
   ]
  },
  {
   "cell_type": "code",
   "execution_count": 254,
   "id": "c17d0579",
   "metadata": {},
   "outputs": [],
   "source": [
    "driver.get(url)"
   ]
  },
  {
   "cell_type": "code",
   "execution_count": 255,
   "id": "5bf69620",
   "metadata": {},
   "outputs": [],
   "source": [
    "data = driver.find_elements(By.XPATH, '//*[@id=\"panResultados\"]/div')[0].text.split('\\n')"
   ]
  },
  {
   "cell_type": "code",
   "execution_count": 256,
   "id": "1e95622b",
   "metadata": {},
   "outputs": [],
   "source": [
    "for i in range(0, len(data), 3):\n",
    "    titulo, fecha, autor = map(str.strip, data[i:i+3])\n",
    "    \n",
    "    resultados.extend([titulo, fecha, autor, 'Hierba de San Benito (Geum Urbanum)'])\n"
   ]
  },
  {
   "cell_type": "markdown",
   "id": "3446b10b",
   "metadata": {},
   "source": [
    "# Hierba Doncella / Vincapervinca (Vinca Minor) (10)"
   ]
  },
  {
   "cell_type": "code",
   "execution_count": 257,
   "id": "721a5d0a",
   "metadata": {},
   "outputs": [],
   "source": [
    "\n",
    "url = 'https://www.museodelprado.es/coleccion/obras-de-arte?searchObras=hierba%20doncella%20/%20vincapervinca%20(vinca%20minor)'"
   ]
  },
  {
   "cell_type": "code",
   "execution_count": 258,
   "id": "0764a987",
   "metadata": {},
   "outputs": [],
   "source": [
    "driver.get(url)"
   ]
  },
  {
   "cell_type": "code",
   "execution_count": 259,
   "id": "b44c32eb",
   "metadata": {},
   "outputs": [],
   "source": [
    "data = driver.find_elements(By.XPATH, '//*[@id=\"panResultados\"]/div')[0].text.split('\\n')"
   ]
  },
  {
   "cell_type": "code",
   "execution_count": 260,
   "id": "7d29361f",
   "metadata": {},
   "outputs": [],
   "source": [
    "for i in range(0, len(data), 3):\n",
    "    titulo, fecha, autor = map(str.strip, data[i:i+3])\n",
    "    \n",
    "    resultados.extend([titulo, fecha, autor, 'Hierba Doncella / Vincapervinca (Vinca Minor)'])\n"
   ]
  },
  {
   "cell_type": "markdown",
   "id": "f6318482",
   "metadata": {},
   "source": [
    "# Higuera (Ficus Carica) (5)"
   ]
  },
  {
   "cell_type": "code",
   "execution_count": 261,
   "id": "3afd4dbd",
   "metadata": {},
   "outputs": [],
   "source": [
    "\n",
    "url = 'https://www.museodelprado.es/coleccion/obras-de-arte?searchObras=higuera%20(ficus%20carica)'"
   ]
  },
  {
   "cell_type": "code",
   "execution_count": 262,
   "id": "e7d8f224",
   "metadata": {},
   "outputs": [],
   "source": [
    "driver.get(url)"
   ]
  },
  {
   "cell_type": "code",
   "execution_count": 263,
   "id": "a94c1e12",
   "metadata": {},
   "outputs": [],
   "source": [
    "data = driver.find_elements(By.XPATH, '//*[@id=\"panResultados\"]/div')[0].text.split('\\n')"
   ]
  },
  {
   "cell_type": "code",
   "execution_count": 264,
   "id": "58fa1e73",
   "metadata": {},
   "outputs": [],
   "source": [
    "for i in range(0, len(data), 3):\n",
    "    titulo, fecha, autor = map(str.strip, data[i:i+3])\n",
    "    \n",
    "    resultados.extend([titulo, fecha, autor, 'Higuera (Ficus Carica)'])\n"
   ]
  },
  {
   "cell_type": "markdown",
   "id": "784a1e48",
   "metadata": {},
   "source": [
    "# Hortensia (Hydrangea) (3)"
   ]
  },
  {
   "cell_type": "code",
   "execution_count": 265,
   "id": "6cbbf43a",
   "metadata": {},
   "outputs": [],
   "source": [
    "\n",
    "url = 'https://www.museodelprado.es/coleccion/obras-de-arte?searchObras=hortensia%20(hydrangea)'"
   ]
  },
  {
   "cell_type": "code",
   "execution_count": 266,
   "id": "b562e9fb",
   "metadata": {},
   "outputs": [],
   "source": [
    "driver.get(url)"
   ]
  },
  {
   "cell_type": "code",
   "execution_count": 267,
   "id": "86eb6a0f",
   "metadata": {},
   "outputs": [],
   "source": [
    "data = driver.find_elements(By.XPATH, '//*[@id=\"panResultados\"]/div')[0].text.split('\\n')"
   ]
  },
  {
   "cell_type": "code",
   "execution_count": 268,
   "id": "74c2a066",
   "metadata": {},
   "outputs": [],
   "source": [
    "for i in range(0, len(data), 3):\n",
    "    titulo, fecha, autor = map(str.strip, data[i:i+3])\n",
    "    \n",
    "    resultados.extend([titulo, fecha, autor, 'Hortensia (Hydrangea)'])\n"
   ]
  },
  {
   "cell_type": "markdown",
   "id": "4df1608c",
   "metadata": {},
   "source": [
    "# Iris / Lirio Azul (Iris Xiphium) (21)"
   ]
  },
  {
   "cell_type": "code",
   "execution_count": 269,
   "id": "4f34eb1f",
   "metadata": {},
   "outputs": [],
   "source": [
    "\n",
    "url = 'https://www.museodelprado.es/coleccion/obras-de-arte?searchObras=iris%20/%20lirio%20azul'"
   ]
  },
  {
   "cell_type": "code",
   "execution_count": 270,
   "id": "b77d8050",
   "metadata": {},
   "outputs": [],
   "source": [
    "driver.get(url)"
   ]
  },
  {
   "cell_type": "code",
   "execution_count": 271,
   "id": "cef46308",
   "metadata": {},
   "outputs": [],
   "source": [
    "data = driver.find_elements(By.XPATH, '//*[@id=\"panResultados\"]/div')[0].text.split('\\n')"
   ]
  },
  {
   "cell_type": "code",
   "execution_count": 272,
   "id": "6628b8ba",
   "metadata": {},
   "outputs": [],
   "source": [
    "for i in range(0, len(data), 3):\n",
    "    titulo, fecha, autor = map(str.strip, data[i:i+3])\n",
    "    \n",
    "    resultados.extend([titulo, fecha, autor, 'Iris / Lirio Azul (Iris Xiphium)'])\n"
   ]
  },
  {
   "cell_type": "markdown",
   "id": "7846fa72",
   "metadata": {},
   "source": [
    "# Jacinto del Perú / Esquila Portuguesa (Scilla Peruviana) (4)"
   ]
  },
  {
   "cell_type": "code",
   "execution_count": 273,
   "id": "98509449",
   "metadata": {},
   "outputs": [],
   "source": [
    "\n",
    "url = 'https://www.museodelprado.es/coleccion/obras-de-arte?searchObras=jacinto%20del%20peru%20/%20esquila%20portuguesa'"
   ]
  },
  {
   "cell_type": "code",
   "execution_count": 274,
   "id": "0aa55878",
   "metadata": {},
   "outputs": [],
   "source": [
    "driver.get(url)"
   ]
  },
  {
   "cell_type": "code",
   "execution_count": 275,
   "id": "c5945254",
   "metadata": {},
   "outputs": [],
   "source": [
    "data = driver.find_elements(By.XPATH, '//*[@id=\"panResultados\"]/div')[0].text.split('\\n')"
   ]
  },
  {
   "cell_type": "code",
   "execution_count": 276,
   "id": "c214806d",
   "metadata": {},
   "outputs": [],
   "source": [
    "for i in range(0, len(data), 3):\n",
    "    titulo, fecha, autor = map(str.strip, data[i:i+3])\n",
    "    \n",
    "    resultados.extend([titulo, fecha, autor, 'Jacinto del Perú / Esquila Portuguesa (Scilla Peruviana)'])\n"
   ]
  },
  {
   "cell_type": "markdown",
   "id": "0132f6ab",
   "metadata": {},
   "source": [
    "# Jazmín (Jasminum Grandiflorum) (64)"
   ]
  },
  {
   "cell_type": "code",
   "execution_count": 277,
   "id": "2b698fe6",
   "metadata": {},
   "outputs": [],
   "source": [
    "\n",
    "url = 'https://www.museodelprado.es/coleccion/obras-de-arte?searchObras=jazmin%20(jasminum%20grandiflorum)'"
   ]
  },
  {
   "cell_type": "code",
   "execution_count": 278,
   "id": "359f53fa",
   "metadata": {},
   "outputs": [],
   "source": [
    "driver.get(url)"
   ]
  },
  {
   "cell_type": "code",
   "execution_count": 279,
   "id": "5ee8391e",
   "metadata": {},
   "outputs": [],
   "source": [
    "data = driver.find_elements(By.XPATH, '//*[@id=\"panResultados\"]/div')[0].text.split('\\n')"
   ]
  },
  {
   "cell_type": "code",
   "execution_count": 280,
   "id": "4696292c",
   "metadata": {},
   "outputs": [],
   "source": [
    "for i in range(0, len(data), 3):\n",
    "    titulo, fecha, autor = map(str.strip, data[i:i+3])\n",
    "    \n",
    "    resultados.extend([titulo, fecha, autor, 'Jazmín (Jasminum Grandiflorum)'])\n"
   ]
  },
  {
   "cell_type": "markdown",
   "id": "71b57c66",
   "metadata": {},
   "source": [
    "# Kentia (Howea Forsteriana) (1)"
   ]
  },
  {
   "cell_type": "code",
   "execution_count": 281,
   "id": "59442aa3",
   "metadata": {},
   "outputs": [],
   "source": [
    "\n",
    "url = 'https://www.museodelprado.es/coleccion/obras-de-arte?searchObras=kentia%20(howea%20forsteriana)'"
   ]
  },
  {
   "cell_type": "code",
   "execution_count": 282,
   "id": "786a2186",
   "metadata": {},
   "outputs": [],
   "source": [
    "driver.get(url)"
   ]
  },
  {
   "cell_type": "code",
   "execution_count": 283,
   "id": "4bd71d50",
   "metadata": {},
   "outputs": [],
   "source": [
    "data = driver.find_elements(By.XPATH, '//*[@id=\"panResultados\"]/div')[0].text.split('\\n')"
   ]
  },
  {
   "cell_type": "code",
   "execution_count": 284,
   "id": "a6c68be4",
   "metadata": {},
   "outputs": [],
   "source": [
    "for i in range(0, len(data), 3):\n",
    "    titulo, fecha, autor = map(str.strip, data[i:i+3])\n",
    "    \n",
    "    resultados.extend([titulo, fecha, autor, 'Kentia (Howea Forsteriana)'])\n"
   ]
  },
  {
   "cell_type": "markdown",
   "id": "9ca922d1",
   "metadata": {},
   "source": [
    "# Laurel ( Laurus Nobilis) (17)"
   ]
  },
  {
   "cell_type": "code",
   "execution_count": 285,
   "id": "4940fd96",
   "metadata": {},
   "outputs": [],
   "source": [
    "\n",
    "url = 'https://www.museodelprado.es/coleccion/obras-de-arte?searchObras=laurel%20(%20laurus%20nobilis)'"
   ]
  },
  {
   "cell_type": "code",
   "execution_count": 286,
   "id": "bfcdf852",
   "metadata": {},
   "outputs": [],
   "source": [
    "driver.get(url)"
   ]
  },
  {
   "cell_type": "code",
   "execution_count": 287,
   "id": "9e3d863d",
   "metadata": {},
   "outputs": [],
   "source": [
    "data = driver.find_elements(By.XPATH, '//*[@id=\"panResultados\"]/div')[0].text.split('\\n')"
   ]
  },
  {
   "cell_type": "code",
   "execution_count": 288,
   "id": "4c5a9067",
   "metadata": {},
   "outputs": [],
   "source": [
    "for i in range(0, len(data), 3):\n",
    "    titulo, fecha, autor = map(str.strip, data[i:i+3])\n",
    "    \n",
    "    resultados.extend([titulo, fecha, autor, 'Laurel ( Laurus Nobilis)'])\n"
   ]
  },
  {
   "cell_type": "markdown",
   "id": "a3c2f163",
   "metadata": {},
   "source": [
    "# Lilas (Syringa Vulgaris) (11)"
   ]
  },
  {
   "cell_type": "code",
   "execution_count": 289,
   "id": "d3fd4c93",
   "metadata": {},
   "outputs": [],
   "source": [
    "\n",
    "url = 'https://www.museodelprado.es/coleccion/obras-de-arte?searchObras=lilas%20(syringa%20vulgaris)'"
   ]
  },
  {
   "cell_type": "code",
   "execution_count": 290,
   "id": "c49ec047",
   "metadata": {},
   "outputs": [],
   "source": [
    "driver.get(url)"
   ]
  },
  {
   "cell_type": "code",
   "execution_count": 291,
   "id": "6c70d167",
   "metadata": {},
   "outputs": [],
   "source": [
    "data = driver.find_elements(By.XPATH, '//*[@id=\"panResultados\"]/div')[0].text.split('\\n')"
   ]
  },
  {
   "cell_type": "code",
   "execution_count": 292,
   "id": "14aed0c7",
   "metadata": {},
   "outputs": [],
   "source": [
    "for i in range(0, len(data), 3):\n",
    "    titulo, fecha, autor = map(str.strip, data[i:i+3])\n",
    "    \n",
    "    resultados.extend([titulo, fecha, autor, 'Lilas (Syringa Vulgaris)'])\n"
   ]
  },
  {
   "cell_type": "markdown",
   "id": "b212cb6b",
   "metadata": {},
   "source": [
    "# Lilium (Lilium Spp.) (34)"
   ]
  },
  {
   "cell_type": "code",
   "execution_count": 293,
   "id": "13079f82",
   "metadata": {},
   "outputs": [],
   "source": [
    "\n",
    "url = 'https://www.museodelprado.es/coleccion/obras-de-arte?searchObras=lilium%20(lilium%20spp%20)'"
   ]
  },
  {
   "cell_type": "code",
   "execution_count": 294,
   "id": "52993174",
   "metadata": {},
   "outputs": [],
   "source": [
    "driver.get(url)"
   ]
  },
  {
   "cell_type": "code",
   "execution_count": 295,
   "id": "73ce4275",
   "metadata": {},
   "outputs": [],
   "source": [
    "data = driver.find_elements(By.XPATH, '//*[@id=\"panResultados\"]/div')[0].text.split('\\n')"
   ]
  },
  {
   "cell_type": "code",
   "execution_count": 296,
   "id": "87c0a87d",
   "metadata": {},
   "outputs": [],
   "source": [
    "for i in range(0, len(data), 3):\n",
    "    titulo, fecha, autor = map(str.strip, data[i:i+3])\n",
    "    \n",
    "    resultados.extend([titulo, fecha, autor, 'Lilium (Lilium Spp.)'])\n"
   ]
  },
  {
   "cell_type": "markdown",
   "id": "c87ad3af",
   "metadata": {},
   "source": [
    "# Lirio (Iris Germanica) (85)"
   ]
  },
  {
   "cell_type": "code",
   "execution_count": 297,
   "id": "d6f68cfe",
   "metadata": {},
   "outputs": [],
   "source": [
    "\n",
    "url = 'https://www.museodelprado.es/coleccion/obras-de-arte?searchObras=lirio%20(iris%20germanica)'"
   ]
  },
  {
   "cell_type": "code",
   "execution_count": 298,
   "id": "4b674606",
   "metadata": {},
   "outputs": [],
   "source": [
    "driver.get(url)"
   ]
  },
  {
   "cell_type": "code",
   "execution_count": 299,
   "id": "d56ce971",
   "metadata": {},
   "outputs": [],
   "source": [
    "data = driver.find_elements(By.XPATH, '//*[@id=\"panResultados\"]/div')[0].text.split('\\n')"
   ]
  },
  {
   "cell_type": "code",
   "execution_count": 300,
   "id": "8639ae5e",
   "metadata": {},
   "outputs": [],
   "source": [
    "for i in range(0, len(data), 3):\n",
    "    titulo, fecha, autor = map(str.strip, data[i:i+3])\n",
    "    \n",
    "    resultados.extend([titulo, fecha, autor, 'Lirio (Iris Germanica)'])\n"
   ]
  },
  {
   "cell_type": "markdown",
   "id": "84fc7338",
   "metadata": {},
   "source": [
    "# Madreselva (Lonicera) (7)"
   ]
  },
  {
   "cell_type": "code",
   "execution_count": 301,
   "id": "2e6dbb11",
   "metadata": {},
   "outputs": [],
   "source": [
    "\n",
    "url = 'https://www.museodelprado.es/coleccion/obras-de-arte?searchObras=madreselva%20(lonicera)'"
   ]
  },
  {
   "cell_type": "code",
   "execution_count": 302,
   "id": "7bb4634d",
   "metadata": {},
   "outputs": [],
   "source": [
    "driver.get(url)"
   ]
  },
  {
   "cell_type": "code",
   "execution_count": 303,
   "id": "5a5f0641",
   "metadata": {},
   "outputs": [],
   "source": [
    "data = driver.find_elements(By.XPATH, '//*[@id=\"panResultados\"]/div')[0].text.split('\\n')"
   ]
  },
  {
   "cell_type": "code",
   "execution_count": 304,
   "id": "922b01d0",
   "metadata": {},
   "outputs": [],
   "source": [
    "for i in range(0, len(data), 3):\n",
    "    titulo, fecha, autor = map(str.strip, data[i:i+3])\n",
    "    \n",
    "    resultados.extend([titulo, fecha, autor, 'Madreselva (Lonicera)'])\n"
   ]
  },
  {
   "cell_type": "markdown",
   "id": "316e12bb",
   "metadata": {},
   "source": [
    "# Malva (Malva Sylvestris) (1)"
   ]
  },
  {
   "cell_type": "code",
   "execution_count": 305,
   "id": "0267c2bd",
   "metadata": {},
   "outputs": [],
   "source": [
    "\n",
    "url = 'https://www.museodelprado.es/coleccion/obras-de-arte?ecidoc:p65_E36_p138_represents_flora@@@pm:floraNode=http://museodelprado.es/items/biologicalobjectflora_545'"
   ]
  },
  {
   "cell_type": "code",
   "execution_count": 306,
   "id": "0f5ae124",
   "metadata": {},
   "outputs": [],
   "source": [
    "driver.get(url)"
   ]
  },
  {
   "cell_type": "code",
   "execution_count": 307,
   "id": "47f6162e",
   "metadata": {},
   "outputs": [],
   "source": [
    "data = driver.find_elements(By.XPATH, '//*[@id=\"panResultados\"]/div')[0].text.split('\\n')"
   ]
  },
  {
   "cell_type": "code",
   "execution_count": 308,
   "id": "4fa3ad2f",
   "metadata": {},
   "outputs": [],
   "source": [
    "for i in range(0, len(data), 3):\n",
    "    titulo, fecha, autor = map(str.strip, data[i:i+3])\n",
    "    \n",
    "    resultados.extend([titulo, fecha, autor, 'Malva (Malva Sylvestris)'])\n"
   ]
  },
  {
   "cell_type": "markdown",
   "id": "4ac50c1f",
   "metadata": {},
   "source": [
    "# Malva Común (Malva Sylvestris) (2)"
   ]
  },
  {
   "cell_type": "code",
   "execution_count": 309,
   "id": "c2e55d68",
   "metadata": {},
   "outputs": [],
   "source": [
    "\n",
    "url = 'https://www.museodelprado.es/coleccion/obras-de-arte?searchObras=malva%20comun%20(malva%20sylvestris)'"
   ]
  },
  {
   "cell_type": "code",
   "execution_count": 310,
   "id": "48ce0e49",
   "metadata": {},
   "outputs": [],
   "source": [
    "driver.get(url)"
   ]
  },
  {
   "cell_type": "code",
   "execution_count": 311,
   "id": "0f7a4250",
   "metadata": {},
   "outputs": [],
   "source": [
    "data = driver.find_elements(By.XPATH, '//*[@id=\"panResultados\"]/div')[0].text.split('\\n')"
   ]
  },
  {
   "cell_type": "code",
   "execution_count": 312,
   "id": "d8ce321d",
   "metadata": {},
   "outputs": [],
   "source": [
    "for i in range(0, len(data), 3):\n",
    "    titulo, fecha, autor = map(str.strip, data[i:i+3])\n",
    "    \n",
    "    resultados.extend([titulo, fecha, autor, 'Malva Común (Malva Sylvestris)'])\n"
   ]
  },
  {
   "cell_type": "markdown",
   "id": "16ded377",
   "metadata": {},
   "source": [
    "# Malva Real / Malvarrosa (Althaea Rosea) (23)"
   ]
  },
  {
   "cell_type": "code",
   "execution_count": 313,
   "id": "a65a20b1",
   "metadata": {},
   "outputs": [],
   "source": [
    "\n",
    "url = 'https://www.museodelprado.es/coleccion/obras-de-arte?searchObras=malva%20real%20/%20malvarrosa'"
   ]
  },
  {
   "cell_type": "code",
   "execution_count": 314,
   "id": "a30cfc4f",
   "metadata": {},
   "outputs": [],
   "source": [
    "driver.get(url)"
   ]
  },
  {
   "cell_type": "code",
   "execution_count": 315,
   "id": "b4ef7634",
   "metadata": {},
   "outputs": [],
   "source": [
    "data = driver.find_elements(By.XPATH, '//*[@id=\"panResultados\"]/div')[0].text.split('\\n')"
   ]
  },
  {
   "cell_type": "code",
   "execution_count": 316,
   "id": "6c6e8b82",
   "metadata": {},
   "outputs": [],
   "source": [
    "for i in range(0, len(data), 3):\n",
    "    titulo, fecha, autor = map(str.strip, data[i:i+3])\n",
    "    \n",
    "    resultados.extend([titulo, fecha, autor, 'Malva Real / Malvarrosa (Althaea Rosea)'])\n"
   ]
  },
  {
   "cell_type": "markdown",
   "id": "b6501b4d",
   "metadata": {},
   "source": [
    "# Manzano (Malus Domestica) (8)"
   ]
  },
  {
   "cell_type": "code",
   "execution_count": 317,
   "id": "d5db26a1",
   "metadata": {},
   "outputs": [],
   "source": [
    "\n",
    "url = 'https://www.museodelprado.es/coleccion/obras-de-arte?searchObras=manzano%20(malus%20domestica)'"
   ]
  },
  {
   "cell_type": "code",
   "execution_count": 318,
   "id": "ab25ed24",
   "metadata": {},
   "outputs": [],
   "source": [
    "driver.get(url)"
   ]
  },
  {
   "cell_type": "code",
   "execution_count": 319,
   "id": "94bf1b4e",
   "metadata": {},
   "outputs": [],
   "source": [
    "data = driver.find_elements(By.XPATH, '//*[@id=\"panResultados\"]/div')[0].text.split('\\n')"
   ]
  },
  {
   "cell_type": "code",
   "execution_count": 320,
   "id": "1f792e61",
   "metadata": {},
   "outputs": [],
   "source": [
    "for i in range(0, len(data), 3):\n",
    "    titulo, fecha, autor = map(str.strip, data[i:i+3])\n",
    "    \n",
    "    resultados.extend([titulo, fecha, autor, 'Manzano (Malus Domestica)'])\n"
   ]
  },
  {
   "cell_type": "markdown",
   "id": "7d678951",
   "metadata": {},
   "source": [
    "# Matricaria / Botón de Plata (Chrysanthemum Parthenium) (1)"
   ]
  },
  {
   "cell_type": "code",
   "execution_count": 321,
   "id": "27ce96b7",
   "metadata": {},
   "outputs": [],
   "source": [
    "\n",
    "url = 'https://www.museodelprado.es/coleccion/obras-de-arte?searchObras=matricaria%20/%20boton%20de%20plata%20(chrysanthemum%20parthenium)'"
   ]
  },
  {
   "cell_type": "code",
   "execution_count": 322,
   "id": "505f0044",
   "metadata": {},
   "outputs": [],
   "source": [
    "driver.get(url)"
   ]
  },
  {
   "cell_type": "code",
   "execution_count": 323,
   "id": "3a2fa1ad",
   "metadata": {},
   "outputs": [],
   "source": [
    "data = driver.find_elements(By.XPATH, '//*[@id=\"panResultados\"]/div')[0].text.split('\\n')"
   ]
  },
  {
   "cell_type": "code",
   "execution_count": 324,
   "id": "b869868a",
   "metadata": {},
   "outputs": [],
   "source": [
    "for i in range(0, len(data), 3):\n",
    "    titulo, fecha, autor = map(str.strip, data[i:i+3])\n",
    "    \n",
    "    resultados.extend([titulo, fecha, autor, 'Matricaria / Botón de Plata (Chrysanthemum Parthenium)'])\n"
   ]
  },
  {
   "cell_type": "markdown",
   "id": "bb76ce27",
   "metadata": {},
   "source": [
    "# Minutisa (Dianthus Barbatus) (1)"
   ]
  },
  {
   "cell_type": "code",
   "execution_count": 330,
   "id": "04b4bee4",
   "metadata": {},
   "outputs": [],
   "source": [
    "\n",
    "url = 'https://www.museodelprado.es/coleccion/obras-de-arte?searchObras=minutisa%20(dianthus%20barbatus)'"
   ]
  },
  {
   "cell_type": "code",
   "execution_count": 331,
   "id": "979279c6",
   "metadata": {},
   "outputs": [],
   "source": [
    "driver.get(url)"
   ]
  },
  {
   "cell_type": "code",
   "execution_count": 332,
   "id": "f420d93f",
   "metadata": {},
   "outputs": [],
   "source": [
    "data = driver.find_elements(By.XPATH, '//*[@id=\"panResultados\"]/div')[0].text.split('\\n')"
   ]
  },
  {
   "cell_type": "code",
   "execution_count": 333,
   "id": "a0aac7c5",
   "metadata": {},
   "outputs": [],
   "source": [
    "for i in range(0, len(data), 3):\n",
    "    titulo, fecha, autor = map(str.strip, data[i:i+3])\n",
    "    \n",
    "    resultados.extend([titulo, fecha, autor, 'Minutisa (Dianthus Barbatus)'])\n"
   ]
  },
  {
   "cell_type": "markdown",
   "id": "5edf5a3b",
   "metadata": {},
   "source": [
    "# Mirto / Arrayán (Myrtus Communis) (1)"
   ]
  },
  {
   "cell_type": "code",
   "execution_count": 334,
   "id": "27f91994",
   "metadata": {},
   "outputs": [],
   "source": [
    "\n",
    "url = 'https://www.museodelprado.es/coleccion/obras-de-arte?searchObras=mirto%20/%20arrayan%20(myrtus%20communis)'"
   ]
  },
  {
   "cell_type": "code",
   "execution_count": 335,
   "id": "ceee29ff",
   "metadata": {},
   "outputs": [],
   "source": [
    "driver.get(url)"
   ]
  },
  {
   "cell_type": "code",
   "execution_count": 336,
   "id": "d10793bd",
   "metadata": {},
   "outputs": [],
   "source": [
    "data = driver.find_elements(By.XPATH, '//*[@id=\"panResultados\"]/div')[0].text.split('\\n')"
   ]
  },
  {
   "cell_type": "code",
   "execution_count": 337,
   "id": "e289641b",
   "metadata": {},
   "outputs": [],
   "source": [
    "for i in range(0, len(data), 3):\n",
    "    titulo, fecha, autor = map(str.strip, data[i:i+3])\n",
    "    \n",
    "    resultados.extend([titulo, fecha, autor, 'Mirto / Arrayán (Myrtus Communis)'])\n"
   ]
  },
  {
   "cell_type": "markdown",
   "id": "374a7ab1",
   "metadata": {},
   "source": [
    "# Moral Blanco / Morera (Morus Alba) (2)"
   ]
  },
  {
   "cell_type": "code",
   "execution_count": 338,
   "id": "c5928171",
   "metadata": {},
   "outputs": [],
   "source": [
    "\n",
    "url = 'https://www.museodelprado.es/coleccion/obras-de-arte?searchObras=moral%20blanco%20/%20morera%20(morus%20alba)'"
   ]
  },
  {
   "cell_type": "code",
   "execution_count": 339,
   "id": "22ca66c3",
   "metadata": {},
   "outputs": [],
   "source": [
    "driver.get(url)"
   ]
  },
  {
   "cell_type": "code",
   "execution_count": 340,
   "id": "a613585a",
   "metadata": {},
   "outputs": [],
   "source": [
    "data = driver.find_elements(By.XPATH, '//*[@id=\"panResultados\"]/div')[0].text.split('\\n')"
   ]
  },
  {
   "cell_type": "code",
   "execution_count": 341,
   "id": "ada58cd1",
   "metadata": {},
   "outputs": [],
   "source": [
    "for i in range(0, len(data), 3):\n",
    "    titulo, fecha, autor = map(str.strip, data[i:i+3])\n",
    "    \n",
    "    resultados.extend([titulo, fecha, autor, 'Moral Blanco / Morera (Morus Alba)'])\n"
   ]
  },
  {
   "cell_type": "markdown",
   "id": "081a7ebb",
   "metadata": {},
   "source": [
    "# Muguet / Lirio del Valle (Convallaria Majalis) (10)"
   ]
  },
  {
   "cell_type": "code",
   "execution_count": 342,
   "id": "bf84bd9a",
   "metadata": {},
   "outputs": [],
   "source": [
    "\n",
    "url = 'https://www.museodelprado.es/coleccion/obras-de-arte?searchObras=muguet%20/%20lirio%20del%20valle%20(convallaria%20majalis)'"
   ]
  },
  {
   "cell_type": "code",
   "execution_count": 343,
   "id": "06ba0c4b",
   "metadata": {},
   "outputs": [],
   "source": [
    "driver.get(url)"
   ]
  },
  {
   "cell_type": "code",
   "execution_count": 344,
   "id": "c8929bb8",
   "metadata": {},
   "outputs": [],
   "source": [
    "data = driver.find_elements(By.XPATH, '//*[@id=\"panResultados\"]/div')[0].text.split('\\n')"
   ]
  },
  {
   "cell_type": "code",
   "execution_count": 345,
   "id": "ff48a889",
   "metadata": {},
   "outputs": [],
   "source": [
    "for i in range(0, len(data), 3):\n",
    "    titulo, fecha, autor = map(str.strip, data[i:i+3])\n",
    "    \n",
    "    resultados.extend([titulo, fecha, autor, 'Muguet / Lirio del Valle (Convallaria Majalis)'])\n"
   ]
  },
  {
   "cell_type": "markdown",
   "id": "c46182f5",
   "metadata": {},
   "source": [
    "# Mundillo / Bola de Nieve (Viburnum Opulus L.) (30)"
   ]
  },
  {
   "cell_type": "code",
   "execution_count": 346,
   "id": "80a429f1",
   "metadata": {},
   "outputs": [],
   "source": [
    "\n",
    "url = 'https://www.museodelprado.es/coleccion/obras-de-arte?searchObras=mundillo%20/%20bola%20de%20nieve%20(viburnum%20opulus%20l%20)'"
   ]
  },
  {
   "cell_type": "code",
   "execution_count": 347,
   "id": "6154def7",
   "metadata": {},
   "outputs": [],
   "source": [
    "driver.get(url)"
   ]
  },
  {
   "cell_type": "code",
   "execution_count": 348,
   "id": "29f807a3",
   "metadata": {},
   "outputs": [],
   "source": [
    "data = driver.find_elements(By.XPATH, '//*[@id=\"panResultados\"]/div')[0].text.split('\\n')"
   ]
  },
  {
   "cell_type": "code",
   "execution_count": 349,
   "id": "76f35ae7",
   "metadata": {},
   "outputs": [],
   "source": [
    "for i in range(0, len(data), 3):\n",
    "    titulo, fecha, autor = map(str.strip, data[i:i+3])\n",
    "    \n",
    "    resultados.extend([titulo, fecha, autor, 'Mundillo / Bola de Nieve (Viburnum Opulus L.)'])\n"
   ]
  },
  {
   "cell_type": "markdown",
   "id": "d2f6c337",
   "metadata": {},
   "source": [
    "# Nabo (Brassica Rapa) (18)"
   ]
  },
  {
   "cell_type": "code",
   "execution_count": 350,
   "id": "01f24ae0",
   "metadata": {},
   "outputs": [],
   "source": [
    "\n",
    "url = 'https://www.museodelprado.es/coleccion/obras-de-arte?searchObras=nabo%20(brassica%20rapa)'"
   ]
  },
  {
   "cell_type": "code",
   "execution_count": 351,
   "id": "ec40eeca",
   "metadata": {},
   "outputs": [],
   "source": [
    "driver.get(url)"
   ]
  },
  {
   "cell_type": "code",
   "execution_count": 352,
   "id": "04d224f5",
   "metadata": {},
   "outputs": [],
   "source": [
    "data = driver.find_elements(By.XPATH, '//*[@id=\"panResultados\"]/div')[0].text.split('\\n')"
   ]
  },
  {
   "cell_type": "code",
   "execution_count": 353,
   "id": "682cfc4d",
   "metadata": {},
   "outputs": [],
   "source": [
    "for i in range(0, len(data), 3):\n",
    "    titulo, fecha, autor = map(str.strip, data[i:i+3])\n",
    "    \n",
    "    resultados.extend([titulo, fecha, autor, 'Nabo (Brassica Rapa)'])\n"
   ]
  },
  {
   "cell_type": "markdown",
   "id": "1eef2e08",
   "metadata": {},
   "source": [
    "# Naranjo (Citrus X Sinensis) (5)"
   ]
  },
  {
   "cell_type": "code",
   "execution_count": 354,
   "id": "76be3fe8",
   "metadata": {},
   "outputs": [],
   "source": [
    "\n",
    "url = 'https://www.museodelprado.es/coleccion/obras-de-arte?searchObras=naranjo%20(citrus%20x%20sinensis)'"
   ]
  },
  {
   "cell_type": "code",
   "execution_count": 355,
   "id": "7519d126",
   "metadata": {},
   "outputs": [],
   "source": [
    "driver.get(url)"
   ]
  },
  {
   "cell_type": "code",
   "execution_count": 356,
   "id": "1488374a",
   "metadata": {},
   "outputs": [],
   "source": [
    "data = driver.find_elements(By.XPATH, '//*[@id=\"panResultados\"]/div')[0].text.split('\\n')"
   ]
  },
  {
   "cell_type": "code",
   "execution_count": 357,
   "id": "9036dc48",
   "metadata": {},
   "outputs": [],
   "source": [
    "for i in range(0, len(data), 3):\n",
    "    titulo, fecha, autor = map(str.strip, data[i:i+3])\n",
    "    \n",
    "    resultados.extend([titulo, fecha, autor, 'Naranjo (Citrus X Sinensis)'])\n"
   ]
  },
  {
   "cell_type": "markdown",
   "id": "1454db72",
   "metadata": {},
   "source": [
    "# Narciso (Narcissus Spp.) (84)"
   ]
  },
  {
   "cell_type": "code",
   "execution_count": 358,
   "id": "d7b4be1e",
   "metadata": {},
   "outputs": [],
   "source": [
    "\n",
    "url = 'https://www.museodelprado.es/coleccion/obras-de-arte?searchObras=narciso%20(narcissus%20spp%20)'"
   ]
  },
  {
   "cell_type": "code",
   "execution_count": 359,
   "id": "2bdfe832",
   "metadata": {},
   "outputs": [],
   "source": [
    "driver.get(url)"
   ]
  },
  {
   "cell_type": "code",
   "execution_count": 360,
   "id": "5f27ee1f",
   "metadata": {},
   "outputs": [],
   "source": [
    "data = driver.find_elements(By.XPATH, '//*[@id=\"panResultados\"]/div')[0].text.split('\\n')"
   ]
  },
  {
   "cell_type": "code",
   "execution_count": 361,
   "id": "2de76661",
   "metadata": {},
   "outputs": [],
   "source": [
    "for i in range(0, len(data), 3):\n",
    "    titulo, fecha, autor = map(str.strip, data[i:i+3])\n",
    "    \n",
    "    resultados.extend([titulo, fecha, autor, 'Narciso (Narcissus Spp.)'])\n"
   ]
  },
  {
   "cell_type": "markdown",
   "id": "9e5bdebf",
   "metadata": {},
   "source": [
    "# Nardo (Polianthes Tuberosa) (10)"
   ]
  },
  {
   "cell_type": "code",
   "execution_count": 362,
   "id": "cd95616c",
   "metadata": {},
   "outputs": [],
   "source": [
    "\n",
    "url = 'https://www.museodelprado.es/coleccion/obras-de-arte?searchObras=nardo%20(polianthes%20tuberosa)'"
   ]
  },
  {
   "cell_type": "code",
   "execution_count": 363,
   "id": "aec8b2ef",
   "metadata": {},
   "outputs": [],
   "source": [
    "driver.get(url)"
   ]
  },
  {
   "cell_type": "code",
   "execution_count": 364,
   "id": "8118dba2",
   "metadata": {},
   "outputs": [],
   "source": [
    "data = driver.find_elements(By.XPATH, '//*[@id=\"panResultados\"]/div')[0].text.split('\\n')"
   ]
  },
  {
   "cell_type": "code",
   "execution_count": 365,
   "id": "b335d309",
   "metadata": {},
   "outputs": [],
   "source": [
    "for i in range(0, len(data), 3):\n",
    "    titulo, fecha, autor = map(str.strip, data[i:i+3])\n",
    "    \n",
    "    resultados.extend([titulo, fecha, autor, 'Nardo (Polianthes Tuberosa)'])\n"
   ]
  },
  {
   "cell_type": "markdown",
   "id": "d15c1efb",
   "metadata": {},
   "source": [
    "# Nomeolvides (Myosotis) (1)"
   ]
  },
  {
   "cell_type": "code",
   "execution_count": 366,
   "id": "232527f1",
   "metadata": {},
   "outputs": [],
   "source": [
    "\n",
    "url = 'https://www.museodelprado.es/coleccion/obras-de-arte?searchObras=nomeolvides%20(myosotis)'"
   ]
  },
  {
   "cell_type": "code",
   "execution_count": 367,
   "id": "72ecf720",
   "metadata": {},
   "outputs": [],
   "source": [
    "driver.get(url)"
   ]
  },
  {
   "cell_type": "code",
   "execution_count": 368,
   "id": "d1cf4acc",
   "metadata": {},
   "outputs": [],
   "source": [
    "data = driver.find_elements(By.XPATH, '//*[@id=\"panResultados\"]/div')[0].text.split('\\n')"
   ]
  },
  {
   "cell_type": "code",
   "execution_count": 369,
   "id": "828ecaca",
   "metadata": {},
   "outputs": [],
   "source": [
    "for i in range(0, len(data), 3):\n",
    "    titulo, fecha, autor = map(str.strip, data[i:i+3])\n",
    "    \n",
    "    resultados.extend([titulo, fecha, autor, 'Nomeolvides (Myosotis)'])\n"
   ]
  },
  {
   "cell_type": "markdown",
   "id": "453f32ac",
   "metadata": {},
   "source": [
    "# Olivo (Olea Europaea) (13)"
   ]
  },
  {
   "cell_type": "code",
   "execution_count": 370,
   "id": "22dd6e4e",
   "metadata": {},
   "outputs": [],
   "source": [
    "\n",
    "url = 'https://www.museodelprado.es/coleccion/obras-de-arte?searchObras=olivo%20(olea%20europaea)'"
   ]
  },
  {
   "cell_type": "code",
   "execution_count": 371,
   "id": "2bdd8c50",
   "metadata": {},
   "outputs": [],
   "source": [
    "driver.get(url)"
   ]
  },
  {
   "cell_type": "code",
   "execution_count": 372,
   "id": "43297e7c",
   "metadata": {},
   "outputs": [],
   "source": [
    "data = driver.find_elements(By.XPATH, '//*[@id=\"panResultados\"]/div')[0].text.split('\\n')"
   ]
  },
  {
   "cell_type": "code",
   "execution_count": 373,
   "id": "fe736291",
   "metadata": {},
   "outputs": [],
   "source": [
    "for i in range(0, len(data), 3):\n",
    "    titulo, fecha, autor = map(str.strip, data[i:i+3])\n",
    "    \n",
    "    resultados.extend([titulo, fecha, autor, 'Olivo (Olea Europaea)'])\n"
   ]
  },
  {
   "cell_type": "markdown",
   "id": "a3ca5b8d",
   "metadata": {},
   "source": [
    "# Olmo Blanco Europeo (Ulmus Laevis Pall) (1)"
   ]
  },
  {
   "cell_type": "code",
   "execution_count": 374,
   "id": "92aa0e9f",
   "metadata": {},
   "outputs": [],
   "source": [
    "\n",
    "url = 'https://www.museodelprado.es/coleccion/obras-de-arte?searchObras=olmo%20blanco%20europeo%20(ulmus%20laevis%20pall)'"
   ]
  },
  {
   "cell_type": "code",
   "execution_count": 375,
   "id": "935be163",
   "metadata": {},
   "outputs": [],
   "source": [
    "driver.get(url)"
   ]
  },
  {
   "cell_type": "code",
   "execution_count": 376,
   "id": "d5dfe2fe",
   "metadata": {},
   "outputs": [],
   "source": [
    "data = driver.find_elements(By.XPATH, '//*[@id=\"panResultados\"]/div')[0].text.split('\\n')"
   ]
  },
  {
   "cell_type": "code",
   "execution_count": 377,
   "id": "322c7b8c",
   "metadata": {},
   "outputs": [],
   "source": [
    "for i in range(0, len(data), 3):\n",
    "    titulo, fecha, autor = map(str.strip, data[i:i+3])\n",
    "    \n",
    "    resultados.extend([titulo, fecha, autor, 'Olmo Blanco Europeo (Ulmus Laevis Pall)'])\n"
   ]
  },
  {
   "cell_type": "markdown",
   "id": "a3a4af13",
   "metadata": {},
   "source": [
    "# Ortiga Mayor (Urtica Dioica) (1)"
   ]
  },
  {
   "cell_type": "code",
   "execution_count": 378,
   "id": "60afa56d",
   "metadata": {},
   "outputs": [],
   "source": [
    "\n",
    "url = 'https://www.museodelprado.es/coleccion/obras-de-arte?searchObras=ortiga%20mayor%20(urtica%20dioica)'"
   ]
  },
  {
   "cell_type": "code",
   "execution_count": 379,
   "id": "607dbfbf",
   "metadata": {},
   "outputs": [],
   "source": [
    "driver.get(url)"
   ]
  },
  {
   "cell_type": "code",
   "execution_count": 380,
   "id": "76cffde5",
   "metadata": {},
   "outputs": [],
   "source": [
    "data = driver.find_elements(By.XPATH, '//*[@id=\"panResultados\"]/div')[0].text.split('\\n')"
   ]
  },
  {
   "cell_type": "code",
   "execution_count": 381,
   "id": "5a73052f",
   "metadata": {},
   "outputs": [],
   "source": [
    "for i in range(0, len(data), 3):\n",
    "    titulo, fecha, autor = map(str.strip, data[i:i+3])\n",
    "    \n",
    "    resultados.extend([titulo, fecha, autor, 'Ortiga Mayor (Urtica Dioica)'])\n"
   ]
  },
  {
   "cell_type": "markdown",
   "id": "d6985997",
   "metadata": {},
   "source": [
    "# Palmera (Phoenix Dactylifera) (32)"
   ]
  },
  {
   "cell_type": "code",
   "execution_count": 382,
   "id": "0c34bea8",
   "metadata": {},
   "outputs": [],
   "source": [
    "\n",
    "url = 'https://www.museodelprado.es/coleccion/obras-de-arte?searchObras=palmera%20(phoenix%20dactylifera)'"
   ]
  },
  {
   "cell_type": "code",
   "execution_count": 383,
   "id": "1acb96c5",
   "metadata": {},
   "outputs": [],
   "source": [
    "driver.get(url)"
   ]
  },
  {
   "cell_type": "code",
   "execution_count": 384,
   "id": "d9de2b17",
   "metadata": {},
   "outputs": [],
   "source": [
    "data = driver.find_elements(By.XPATH, '//*[@id=\"panResultados\"]/div')[0].text.split('\\n')"
   ]
  },
  {
   "cell_type": "code",
   "execution_count": 385,
   "id": "0f61138b",
   "metadata": {},
   "outputs": [],
   "source": [
    "for i in range(0, len(data), 3):\n",
    "    titulo, fecha, autor = map(str.strip, data[i:i+3])\n",
    "    \n",
    "    resultados.extend([titulo, fecha, autor, 'Palmera (Phoenix Dactylifera)'])\n"
   ]
  },
  {
   "cell_type": "markdown",
   "id": "38ecdb03",
   "metadata": {},
   "source": [
    "# Pasionaria / Flor de la Pasión (Passiflora Caerulea) (3)"
   ]
  },
  {
   "cell_type": "code",
   "execution_count": 386,
   "id": "f14b3ee2",
   "metadata": {},
   "outputs": [],
   "source": [
    "\n",
    "url = 'https://www.museodelprado.es/coleccion/obras-de-arte?searchObras=pasionaria%20/%20flor%20de%20la%20pasion%20(passiflora%20caerulea)'"
   ]
  },
  {
   "cell_type": "code",
   "execution_count": 387,
   "id": "12919a91",
   "metadata": {},
   "outputs": [],
   "source": [
    "driver.get(url)"
   ]
  },
  {
   "cell_type": "code",
   "execution_count": 388,
   "id": "e55dd5a3",
   "metadata": {},
   "outputs": [],
   "source": [
    "data = driver.find_elements(By.XPATH, '//*[@id=\"panResultados\"]/div')[0].text.split('\\n')"
   ]
  },
  {
   "cell_type": "code",
   "execution_count": 389,
   "id": "96a84880",
   "metadata": {},
   "outputs": [],
   "source": [
    "for i in range(0, len(data), 3):\n",
    "    titulo, fecha, autor = map(str.strip, data[i:i+3])\n",
    "    \n",
    "    resultados.extend([titulo, fecha, autor, 'Pasionaria / Flor de la Pasión (Passiflora Caerulea)'])\n"
   ]
  },
  {
   "cell_type": "markdown",
   "id": "ca3bd3cf",
   "metadata": {},
   "source": [
    "# Pensamiento (Viola Tricolor) (21)"
   ]
  },
  {
   "cell_type": "code",
   "execution_count": 390,
   "id": "fa680558",
   "metadata": {},
   "outputs": [],
   "source": [
    "\n",
    "url = 'https://www.museodelprado.es/coleccion/obras-de-arte?searchObras=pensamiento%20(viola%20tricolor)'"
   ]
  },
  {
   "cell_type": "code",
   "execution_count": 391,
   "id": "4b338720",
   "metadata": {},
   "outputs": [],
   "source": [
    "driver.get(url)"
   ]
  },
  {
   "cell_type": "code",
   "execution_count": 392,
   "id": "bf58137a",
   "metadata": {},
   "outputs": [],
   "source": [
    "data = driver.find_elements(By.XPATH, '//*[@id=\"panResultados\"]/div')[0].text.split('\\n')"
   ]
  },
  {
   "cell_type": "code",
   "execution_count": 393,
   "id": "095fa6de",
   "metadata": {},
   "outputs": [],
   "source": [
    "for i in range(0, len(data), 3):\n",
    "    titulo, fecha, autor = map(str.strip, data[i:i+3])\n",
    "    \n",
    "    resultados.extend([titulo, fecha, autor, 'Pensamiento (Viola Tricolor)'])\n"
   ]
  },
  {
   "cell_type": "markdown",
   "id": "bafa5e34",
   "metadata": {},
   "source": [
    "# Peonía (Paeonia) (28)"
   ]
  },
  {
   "cell_type": "code",
   "execution_count": 394,
   "id": "b8aa8274",
   "metadata": {},
   "outputs": [],
   "source": [
    "\n",
    "url = 'https://www.museodelprado.es/coleccion/obras-de-arte?searchObras=peonia%20(paeonia)'"
   ]
  },
  {
   "cell_type": "code",
   "execution_count": 395,
   "id": "f8555afa",
   "metadata": {},
   "outputs": [],
   "source": [
    "driver.get(url)"
   ]
  },
  {
   "cell_type": "code",
   "execution_count": 396,
   "id": "94a61abe",
   "metadata": {},
   "outputs": [],
   "source": [
    "data = driver.find_elements(By.XPATH, '//*[@id=\"panResultados\"]/div')[0].text.split('\\n')"
   ]
  },
  {
   "cell_type": "code",
   "execution_count": 397,
   "id": "08ca154e",
   "metadata": {},
   "outputs": [],
   "source": [
    "for i in range(0, len(data), 3):\n",
    "    titulo, fecha, autor = map(str.strip, data[i:i+3])\n",
    "    \n",
    "    resultados.extend([titulo, fecha, autor, 'Peonía (Paeonia)'])\n"
   ]
  },
  {
   "cell_type": "markdown",
   "id": "bbece29b",
   "metadata": {},
   "source": [
    "# Peral (Pyrus Communis) (1)"
   ]
  },
  {
   "cell_type": "code",
   "execution_count": 398,
   "id": "bb5153ac",
   "metadata": {},
   "outputs": [],
   "source": [
    "\n",
    "url = 'https://www.museodelprado.es/coleccion/obras-de-arte?searchObras=peral%20(pyrus%20communis)'"
   ]
  },
  {
   "cell_type": "code",
   "execution_count": 399,
   "id": "554f541a",
   "metadata": {},
   "outputs": [],
   "source": [
    "driver.get(url)"
   ]
  },
  {
   "cell_type": "code",
   "execution_count": 400,
   "id": "8acdcbfa",
   "metadata": {},
   "outputs": [],
   "source": [
    "data = driver.find_elements(By.XPATH, '//*[@id=\"panResultados\"]/div')[0].text.split('\\n')"
   ]
  },
  {
   "cell_type": "code",
   "execution_count": 401,
   "id": "50b11b99",
   "metadata": {},
   "outputs": [],
   "source": [
    "for i in range(0, len(data), 3):\n",
    "    titulo, fecha, autor = map(str.strip, data[i:i+3])\n",
    "    \n",
    "    resultados.extend([titulo, fecha, autor, 'Peral (Pyrus Communis)'])\n"
   ]
  },
  {
   "cell_type": "markdown",
   "id": "7e0ffce8",
   "metadata": {},
   "source": [
    "# Pino ( Pinus Spp.) (12)"
   ]
  },
  {
   "cell_type": "code",
   "execution_count": 402,
   "id": "7c175ae5",
   "metadata": {},
   "outputs": [],
   "source": [
    "\n",
    "url = 'https://www.museodelprado.es/coleccion/obras-de-arte?searchObras=pino%20(%20pinus%20spp%20)'"
   ]
  },
  {
   "cell_type": "code",
   "execution_count": 403,
   "id": "c19630bb",
   "metadata": {},
   "outputs": [],
   "source": [
    "driver.get(url)"
   ]
  },
  {
   "cell_type": "code",
   "execution_count": 404,
   "id": "d6a180ae",
   "metadata": {},
   "outputs": [],
   "source": [
    "data = driver.find_elements(By.XPATH, '//*[@id=\"panResultados\"]/div')[0].text.split('\\n')"
   ]
  },
  {
   "cell_type": "code",
   "execution_count": 405,
   "id": "1f5d95f0",
   "metadata": {},
   "outputs": [],
   "source": [
    "for i in range(0, len(data), 3):\n",
    "    titulo, fecha, autor = map(str.strip, data[i:i+3])\n",
    "    \n",
    "    resultados.extend([titulo, fecha, autor, 'Pino ( Pinus Spp.)'])\n"
   ]
  },
  {
   "cell_type": "markdown",
   "id": "1d94f466",
   "metadata": {},
   "source": [
    "# Piorno (Cytisus Hispanicus) (1)"
   ]
  },
  {
   "cell_type": "code",
   "execution_count": 410,
   "id": "dbfd26af",
   "metadata": {},
   "outputs": [],
   "source": [
    "\n",
    "url = 'https://www.museodelprado.es/coleccion/obras-de-arte?searchObras=piorno%20(cytisus%20hispanicus)'"
   ]
  },
  {
   "cell_type": "code",
   "execution_count": 411,
   "id": "2af5f389",
   "metadata": {},
   "outputs": [],
   "source": [
    "driver.get(url)"
   ]
  },
  {
   "cell_type": "code",
   "execution_count": 412,
   "id": "43fd56c6",
   "metadata": {},
   "outputs": [],
   "source": [
    "data = driver.find_elements(By.XPATH, '//*[@id=\"panResultados\"]/div')[0].text.split('\\n')"
   ]
  },
  {
   "cell_type": "code",
   "execution_count": 413,
   "id": "8107e8a3",
   "metadata": {},
   "outputs": [],
   "source": [
    "for i in range(0, len(data), 3):\n",
    "    titulo, fecha, autor = map(str.strip, data[i:i+3])\n",
    "    \n",
    "    resultados.extend([titulo, fecha, autor, 'Piorno (Cytisus Hispanicus)'])\n"
   ]
  },
  {
   "cell_type": "markdown",
   "id": "a46c0cc5",
   "metadata": {},
   "source": [
    "# Pita (Agave Spp.) (2)"
   ]
  },
  {
   "cell_type": "code",
   "execution_count": 414,
   "id": "1b9bd67f",
   "metadata": {},
   "outputs": [],
   "source": [
    "\n",
    "url = 'https://www.museodelprado.es/coleccion/obras-de-arte?searchObras=pita%20(agave%20spp%20)'"
   ]
  },
  {
   "cell_type": "code",
   "execution_count": 415,
   "id": "a391b4f3",
   "metadata": {},
   "outputs": [],
   "source": [
    "driver.get(url)"
   ]
  },
  {
   "cell_type": "code",
   "execution_count": 416,
   "id": "a14c8a6f",
   "metadata": {},
   "outputs": [],
   "source": [
    "data = driver.find_elements(By.XPATH, '//*[@id=\"panResultados\"]/div')[0].text.split('\\n')"
   ]
  },
  {
   "cell_type": "code",
   "execution_count": 417,
   "id": "11184a4e",
   "metadata": {},
   "outputs": [],
   "source": [
    "for i in range(0, len(data), 3):\n",
    "    titulo, fecha, autor = map(str.strip, data[i:i+3])\n",
    "    \n",
    "    resultados.extend([titulo, fecha, autor, 'Pita (Agave Spp.)'])\n",
    "\n"
   ]
  },
  {
   "cell_type": "markdown",
   "id": "9c424135",
   "metadata": {},
   "source": [
    "# Platanera (Musa Paradisiaca) (1)"
   ]
  },
  {
   "cell_type": "code",
   "execution_count": 418,
   "id": "7bda423b",
   "metadata": {},
   "outputs": [],
   "source": [
    "\n",
    "url = 'https://www.museodelprado.es/coleccion/obras-de-arte?searchObras=platanera%20(musa%20paradisiaca)'"
   ]
  },
  {
   "cell_type": "code",
   "execution_count": 419,
   "id": "dbc25cab",
   "metadata": {},
   "outputs": [],
   "source": [
    "driver.get(url)"
   ]
  },
  {
   "cell_type": "code",
   "execution_count": 420,
   "id": "d6594848",
   "metadata": {},
   "outputs": [],
   "source": [
    "data = driver.find_elements(By.XPATH, '//*[@id=\"panResultados\"]/div')[0].text.split('\\n')"
   ]
  },
  {
   "cell_type": "code",
   "execution_count": 421,
   "id": "02691585",
   "metadata": {},
   "outputs": [],
   "source": [
    "for i in range(0, len(data), 3):\n",
    "    titulo, fecha, autor = map(str.strip, data[i:i+3])\n",
    "    \n",
    "    resultados.extend([titulo, fecha, autor, 'Platanera (Musa Paradisiaca)'])\n",
    "\n"
   ]
  },
  {
   "cell_type": "markdown",
   "id": "8872851a",
   "metadata": {},
   "source": [
    "# Plumbago (Plumbago Auriculata) (1)"
   ]
  },
  {
   "cell_type": "code",
   "execution_count": 422,
   "id": "8d5741a1",
   "metadata": {},
   "outputs": [],
   "source": [
    "\n",
    "url = 'https://www.museodelprado.es/coleccion/obras-de-arte?searchObras=plumbago%20(plumbago%20auriculata)'"
   ]
  },
  {
   "cell_type": "code",
   "execution_count": 423,
   "id": "88dfc8a4",
   "metadata": {},
   "outputs": [],
   "source": [
    "driver.get(url)"
   ]
  },
  {
   "cell_type": "code",
   "execution_count": 424,
   "id": "543c4f78",
   "metadata": {},
   "outputs": [],
   "source": [
    "data = driver.find_elements(By.XPATH, '//*[@id=\"panResultados\"]/div')[0].text.split('\\n')"
   ]
  },
  {
   "cell_type": "code",
   "execution_count": 425,
   "id": "eea09184",
   "metadata": {},
   "outputs": [],
   "source": [
    "for i in range(0, len(data), 3):\n",
    "    titulo, fecha, autor = map(str.strip, data[i:i+3])\n",
    "    \n",
    "    resultados.extend([titulo, fecha, autor, 'Plumbago (Plumbago Auriculata)'])\n",
    "\n"
   ]
  },
  {
   "cell_type": "markdown",
   "id": "d8ef1c83",
   "metadata": {},
   "source": [
    "# Primavera (Primula Officinalis) (3)"
   ]
  },
  {
   "cell_type": "code",
   "execution_count": 426,
   "id": "5015bedc",
   "metadata": {},
   "outputs": [],
   "source": [
    "\n",
    "url = 'https://www.museodelprado.es/coleccion/obras-de-arte?searchObras=primavera%20(primula%20officinalis)'"
   ]
  },
  {
   "cell_type": "code",
   "execution_count": 427,
   "id": "f96e7dc3",
   "metadata": {},
   "outputs": [],
   "source": [
    "driver.get(url)"
   ]
  },
  {
   "cell_type": "code",
   "execution_count": 428,
   "id": "e77eba61",
   "metadata": {},
   "outputs": [],
   "source": [
    "data = driver.find_elements(By.XPATH, '//*[@id=\"panResultados\"]/div')[0].text.split('\\n')"
   ]
  },
  {
   "cell_type": "code",
   "execution_count": 429,
   "id": "3013bc68",
   "metadata": {},
   "outputs": [],
   "source": [
    "for i in range(0, len(data), 3):\n",
    "    titulo, fecha, autor = map(str.strip, data[i:i+3])\n",
    "    \n",
    "    resultados.extend([titulo, fecha, autor, 'Primavera (Primula Officinalis)'])\n",
    "\n"
   ]
  },
  {
   "cell_type": "markdown",
   "id": "58aa23c9",
   "metadata": {},
   "source": [
    "# Prímula (Primula Auricula) (14)"
   ]
  },
  {
   "cell_type": "code",
   "execution_count": 430,
   "id": "1597f9cc",
   "metadata": {},
   "outputs": [],
   "source": [
    "\n",
    "url = 'https://www.museodelprado.es/coleccion/obras-de-arte?searchObras=primula%20(primula%20auricula)'"
   ]
  },
  {
   "cell_type": "code",
   "execution_count": 431,
   "id": "8874d3b5",
   "metadata": {},
   "outputs": [],
   "source": [
    "driver.get(url)"
   ]
  },
  {
   "cell_type": "code",
   "execution_count": 432,
   "id": "7de5b157",
   "metadata": {},
   "outputs": [],
   "source": [
    "data = driver.find_elements(By.XPATH, '//*[@id=\"panResultados\"]/div')[0].text.split('\\n')"
   ]
  },
  {
   "cell_type": "code",
   "execution_count": 433,
   "id": "6e1a37a2",
   "metadata": {},
   "outputs": [],
   "source": [
    "for i in range(0, len(data), 3):\n",
    "    titulo, fecha, autor = map(str.strip, data[i:i+3])\n",
    "    \n",
    "    resultados.extend([titulo, fecha, autor, 'Prímula (Primula Auricula)'])\n",
    "\n"
   ]
  },
  {
   "cell_type": "markdown",
   "id": "6f007260",
   "metadata": {},
   "source": [
    "# Retama Amarilla (Retama Sphaerocarpa) (9)"
   ]
  },
  {
   "cell_type": "code",
   "execution_count": 434,
   "id": "0c4804c9",
   "metadata": {},
   "outputs": [],
   "source": [
    "\n",
    "url = 'https://www.museodelprado.es/coleccion/obras-de-arte?searchObras=retama%20amarilla%20(retama%20sphaerocarpa)'"
   ]
  },
  {
   "cell_type": "code",
   "execution_count": 435,
   "id": "68d577e3",
   "metadata": {},
   "outputs": [],
   "source": [
    "driver.get(url)"
   ]
  },
  {
   "cell_type": "code",
   "execution_count": 436,
   "id": "3d82268d",
   "metadata": {},
   "outputs": [],
   "source": [
    "data = driver.find_elements(By.XPATH, '//*[@id=\"panResultados\"]/div')[0].text.split('\\n')"
   ]
  },
  {
   "cell_type": "code",
   "execution_count": 437,
   "id": "1c89ab4c",
   "metadata": {},
   "outputs": [],
   "source": [
    "for i in range(0, len(data), 3):\n",
    "    titulo, fecha, autor = map(str.strip, data[i:i+3])\n",
    "    \n",
    "    resultados.extend([titulo, fecha, autor, 'Retama Amarilla (Retama Sphaerocarpa)'])\n",
    "\n"
   ]
  },
  {
   "cell_type": "markdown",
   "id": "7091965e",
   "metadata": {},
   "source": [
    "# Retama Negra (Cytisus Scoparius) (1)"
   ]
  },
  {
   "cell_type": "code",
   "execution_count": 438,
   "id": "f9b0a2c4",
   "metadata": {},
   "outputs": [],
   "source": [
    "\n",
    "url = 'https://www.museodelprado.es/coleccion/obras-de-arte?searchObras=retama%20negra%20(cytisus%20scoparius)'"
   ]
  },
  {
   "cell_type": "code",
   "execution_count": 439,
   "id": "cd7af7be",
   "metadata": {},
   "outputs": [],
   "source": [
    "driver.get(url)"
   ]
  },
  {
   "cell_type": "code",
   "execution_count": 440,
   "id": "132ad2aa",
   "metadata": {},
   "outputs": [],
   "source": [
    "data = driver.find_elements(By.XPATH, '//*[@id=\"panResultados\"]/div')[0].text.split('\\n')"
   ]
  },
  {
   "cell_type": "code",
   "execution_count": 441,
   "id": "dfa8c71b",
   "metadata": {},
   "outputs": [],
   "source": [
    "for i in range(0, len(data), 3):\n",
    "    titulo, fecha, autor = map(str.strip, data[i:i+3])\n",
    "    \n",
    "    resultados.extend([titulo, fecha, autor, 'Retama Negra (Cytisus Scoparius)'])\n",
    "\n"
   ]
  },
  {
   "cell_type": "markdown",
   "id": "c47a9deb",
   "metadata": {},
   "source": [
    "# Roble (Quercus Spp.) (21)"
   ]
  },
  {
   "cell_type": "code",
   "execution_count": 442,
   "id": "2797eeee",
   "metadata": {},
   "outputs": [],
   "source": [
    "\n",
    "url = 'https://www.museodelprado.es/coleccion/obras-de-arte?searchObras=roble%20(quercus%20spp%20)'"
   ]
  },
  {
   "cell_type": "code",
   "execution_count": 443,
   "id": "f7db198e",
   "metadata": {},
   "outputs": [],
   "source": [
    "driver.get(url)"
   ]
  },
  {
   "cell_type": "code",
   "execution_count": 444,
   "id": "c5cc0e96",
   "metadata": {},
   "outputs": [],
   "source": [
    "data = driver.find_elements(By.XPATH, '//*[@id=\"panResultados\"]/div')[0].text.split('\\n')"
   ]
  },
  {
   "cell_type": "code",
   "execution_count": 445,
   "id": "f737d80a",
   "metadata": {},
   "outputs": [],
   "source": [
    "for i in range(0, len(data), 3):\n",
    "    titulo, fecha, autor = map(str.strip, data[i:i+3])\n",
    "    \n",
    "    resultados.extend([titulo, fecha, autor, 'Roble (Quercus Spp.)'])\n",
    "\n"
   ]
  },
  {
   "cell_type": "markdown",
   "id": "96c8f387",
   "metadata": {},
   "source": [
    "# Romero (Rosmarinus Officinalis) (8)"
   ]
  },
  {
   "cell_type": "code",
   "execution_count": 446,
   "id": "440af151",
   "metadata": {},
   "outputs": [],
   "source": [
    "\n",
    "url = 'https://www.museodelprado.es/coleccion/obras-de-arte?searchObras=romero%20(rosmarinus%20officinalis)'"
   ]
  },
  {
   "cell_type": "code",
   "execution_count": 447,
   "id": "d33513d4",
   "metadata": {},
   "outputs": [],
   "source": [
    "driver.get(url)"
   ]
  },
  {
   "cell_type": "code",
   "execution_count": 448,
   "id": "cdde2537",
   "metadata": {},
   "outputs": [],
   "source": [
    "data = driver.find_elements(By.XPATH, '//*[@id=\"panResultados\"]/div')[0].text.split('\\n')"
   ]
  },
  {
   "cell_type": "code",
   "execution_count": 449,
   "id": "3f876374",
   "metadata": {},
   "outputs": [],
   "source": [
    "for i in range(0, len(data), 3):\n",
    "    titulo, fecha, autor = map(str.strip, data[i:i+3])\n",
    "    \n",
    "    resultados.extend([titulo, fecha, autor, 'Romero (Rosmarinus Officinalis)'])\n",
    "\n"
   ]
  },
  {
   "cell_type": "markdown",
   "id": "5f32fb45",
   "metadata": {},
   "source": [
    "# Rosa (Rosa) (288)"
   ]
  },
  {
   "cell_type": "code",
   "execution_count": 450,
   "id": "5bd3adf6",
   "metadata": {},
   "outputs": [],
   "source": [
    "\n",
    "url = 'https://www.museodelprado.es/coleccion/obras-de-arte?searchObras=rosa%20(rosa)'"
   ]
  },
  {
   "cell_type": "code",
   "execution_count": 451,
   "id": "057561b2",
   "metadata": {},
   "outputs": [],
   "source": [
    "driver.get(url)"
   ]
  },
  {
   "cell_type": "code",
   "execution_count": 452,
   "id": "ca232d2f",
   "metadata": {},
   "outputs": [],
   "source": [
    "data = driver.find_elements(By.XPATH, '//*[@id=\"panResultados\"]/div')[0].text.split('\\n')"
   ]
  },
  {
   "cell_type": "code",
   "execution_count": 453,
   "id": "94dc87d4",
   "metadata": {},
   "outputs": [],
   "source": [
    "for i in range(0, len(data), 3):\n",
    "    titulo, fecha, autor = map(str.strip, data[i:i+3])\n",
    "    \n",
    "    resultados.extend([titulo, fecha, autor, 'Rosa (Rosa)'])\n",
    "\n"
   ]
  },
  {
   "cell_type": "markdown",
   "id": "9507eb45",
   "metadata": {},
   "source": [
    "# Sauce (Salix) (1)"
   ]
  },
  {
   "cell_type": "code",
   "execution_count": 454,
   "id": "c9601ce0",
   "metadata": {},
   "outputs": [],
   "source": [
    "\n",
    "url = 'https://www.museodelprado.es/coleccion/obras-de-arte?searchObras=sauce%20(salix)'"
   ]
  },
  {
   "cell_type": "code",
   "execution_count": 455,
   "id": "87cc3924",
   "metadata": {},
   "outputs": [],
   "source": [
    "driver.get(url)"
   ]
  },
  {
   "cell_type": "code",
   "execution_count": 456,
   "id": "14a496cd",
   "metadata": {},
   "outputs": [],
   "source": [
    "data = driver.find_elements(By.XPATH, '//*[@id=\"panResultados\"]/div')[0].text.split('\\n')"
   ]
  },
  {
   "cell_type": "code",
   "execution_count": 457,
   "id": "9a8b68b8",
   "metadata": {},
   "outputs": [],
   "source": [
    "for i in range(0, len(data), 3):\n",
    "    titulo, fecha, autor = map(str.strip, data[i:i+3])\n",
    "    \n",
    "    resultados.extend([titulo, fecha, autor, 'Sauce (Salix)'])\n",
    "\n"
   ]
  },
  {
   "cell_type": "markdown",
   "id": "a401f50d",
   "metadata": {},
   "source": [
    "# Saúco (Sambucus Nigra) (1)"
   ]
  },
  {
   "cell_type": "code",
   "execution_count": 458,
   "id": "b25ae0b4",
   "metadata": {},
   "outputs": [],
   "source": [
    "\n",
    "url = 'https://www.museodelprado.es/coleccion/obras-de-arte?searchObras=sauco%20(sambucus%20nigra)'"
   ]
  },
  {
   "cell_type": "code",
   "execution_count": 459,
   "id": "4cb22e73",
   "metadata": {},
   "outputs": [],
   "source": [
    "driver.get(url)"
   ]
  },
  {
   "cell_type": "code",
   "execution_count": 460,
   "id": "bf3084f9",
   "metadata": {},
   "outputs": [],
   "source": [
    "data = driver.find_elements(By.XPATH, '//*[@id=\"panResultados\"]/div')[0].text.split('\\n')"
   ]
  },
  {
   "cell_type": "code",
   "execution_count": 461,
   "id": "3cf2cec1",
   "metadata": {},
   "outputs": [],
   "source": [
    "for i in range(0, len(data), 3):\n",
    "    titulo, fecha, autor = map(str.strip, data[i:i+3])\n",
    "    \n",
    "    resultados.extend([titulo, fecha, autor, 'Saúco (Sambucus Nigra)'])\n",
    "\n"
   ]
  },
  {
   "cell_type": "markdown",
   "id": "839119f8",
   "metadata": {},
   "source": [
    "# Tagetes / Clavelón de India (Tajetes Erecta) (7)"
   ]
  },
  {
   "cell_type": "code",
   "execution_count": 462,
   "id": "29a73774",
   "metadata": {},
   "outputs": [],
   "source": [
    "\n",
    "url = 'https://www.museodelprado.es/coleccion/obras-de-arte?searchObras=tagetes%20/%20clavelon%20de%20india%20(tajetes%20erecta)'"
   ]
  },
  {
   "cell_type": "code",
   "execution_count": 463,
   "id": "1fa0f379",
   "metadata": {},
   "outputs": [],
   "source": [
    "driver.get(url)"
   ]
  },
  {
   "cell_type": "code",
   "execution_count": 464,
   "id": "37cb9300",
   "metadata": {},
   "outputs": [],
   "source": [
    "data = driver.find_elements(By.XPATH, '//*[@id=\"panResultados\"]/div')[0].text.split('\\n')"
   ]
  },
  {
   "cell_type": "code",
   "execution_count": 465,
   "id": "19c7fa4c",
   "metadata": {},
   "outputs": [],
   "source": [
    "for i in range(0, len(data), 3):\n",
    "    titulo, fecha, autor = map(str.strip, data[i:i+3])\n",
    "    \n",
    "    resultados.extend([titulo, fecha, autor, 'Tagetes / Clavelón de India (Tajetes Erecta)'])\n",
    "\n"
   ]
  },
  {
   "cell_type": "markdown",
   "id": "1a484465",
   "metadata": {},
   "source": [
    "# Tejo (Taxus Baccata) (2)"
   ]
  },
  {
   "cell_type": "code",
   "execution_count": 466,
   "id": "6edd60c0",
   "metadata": {},
   "outputs": [],
   "source": [
    "\n",
    "url = 'https://www.museodelprado.es/coleccion/obras-de-arte?searchObras=tejo%20(taxus%20baccata)'"
   ]
  },
  {
   "cell_type": "code",
   "execution_count": 467,
   "id": "d74c9d39",
   "metadata": {},
   "outputs": [],
   "source": [
    "driver.get(url)"
   ]
  },
  {
   "cell_type": "code",
   "execution_count": 468,
   "id": "b37fbe58",
   "metadata": {},
   "outputs": [],
   "source": [
    "data = driver.find_elements(By.XPATH, '//*[@id=\"panResultados\"]/div')[0].text.split('\\n')"
   ]
  },
  {
   "cell_type": "code",
   "execution_count": 469,
   "id": "04201600",
   "metadata": {},
   "outputs": [],
   "source": [
    "for i in range(0, len(data), 3):\n",
    "    titulo, fecha, autor = map(str.strip, data[i:i+3])\n",
    "    \n",
    "    resultados.extend([titulo, fecha, autor, 'Tejo (Taxus Baccata)'])\n",
    "\n"
   ]
  },
  {
   "cell_type": "markdown",
   "id": "e34bbc47",
   "metadata": {},
   "source": [
    "# Trébol (Trifolium) (3)"
   ]
  },
  {
   "cell_type": "code",
   "execution_count": 470,
   "id": "e440a185",
   "metadata": {},
   "outputs": [],
   "source": [
    "\n",
    "url = 'https://www.museodelprado.es/coleccion/obras-de-arte?searchObras=trebol%20(trifolium)'"
   ]
  },
  {
   "cell_type": "code",
   "execution_count": 471,
   "id": "3f48960d",
   "metadata": {},
   "outputs": [],
   "source": [
    "driver.get(url)"
   ]
  },
  {
   "cell_type": "code",
   "execution_count": 472,
   "id": "0602e1e9",
   "metadata": {},
   "outputs": [],
   "source": [
    "data = driver.find_elements(By.XPATH, '//*[@id=\"panResultados\"]/div')[0].text.split('\\n')"
   ]
  },
  {
   "cell_type": "code",
   "execution_count": 473,
   "id": "5bfee52a",
   "metadata": {},
   "outputs": [],
   "source": [
    "for i in range(0, len(data), 3):\n",
    "    titulo, fecha, autor = map(str.strip, data[i:i+3])\n",
    "    \n",
    "    resultados.extend([titulo, fecha, autor, 'Trébol (Trifolium)'])\n",
    "\n"
   ]
  },
  {
   "cell_type": "markdown",
   "id": "e337a5cb",
   "metadata": {},
   "source": [
    "# Tulipán (Tulipa Spp.) (134)"
   ]
  },
  {
   "cell_type": "code",
   "execution_count": 474,
   "id": "50cff366",
   "metadata": {},
   "outputs": [],
   "source": [
    "\n",
    "url = 'https://www.museodelprado.es/coleccion/obras-de-arte?searchObras=tulipan%20(tulipa%20spp%20)'"
   ]
  },
  {
   "cell_type": "code",
   "execution_count": 475,
   "id": "4a697a96",
   "metadata": {},
   "outputs": [],
   "source": [
    "driver.get(url)"
   ]
  },
  {
   "cell_type": "code",
   "execution_count": 476,
   "id": "30edfebb",
   "metadata": {},
   "outputs": [],
   "source": [
    "data = driver.find_elements(By.XPATH, '//*[@id=\"panResultados\"]/div')[0].text.split('\\n')"
   ]
  },
  {
   "cell_type": "code",
   "execution_count": 477,
   "id": "ed6ca4d7",
   "metadata": {},
   "outputs": [],
   "source": [
    "for i in range(0, len(data), 3):\n",
    "    titulo, fecha, autor = map(str.strip, data[i:i+3])\n",
    "    \n",
    "    resultados.extend([titulo, fecha, autor, 'Tulipán (Tulipa Spp.)'])\n"
   ]
  },
  {
   "cell_type": "markdown",
   "id": "75894f45",
   "metadata": {},
   "source": [
    "# Vid / Parra (Vitis Vinifera) (32)"
   ]
  },
  {
   "cell_type": "code",
   "execution_count": 478,
   "id": "afb8a7bd",
   "metadata": {},
   "outputs": [],
   "source": [
    "\n",
    "url = 'https://www.museodelprado.es/coleccion/obras-de-arte?searchObras=vid%20/%20parra%20(vitis%20vinifera)'"
   ]
  },
  {
   "cell_type": "code",
   "execution_count": 479,
   "id": "20e42184",
   "metadata": {},
   "outputs": [],
   "source": [
    "driver.get(url)"
   ]
  },
  {
   "cell_type": "code",
   "execution_count": 480,
   "id": "9f9ac493",
   "metadata": {},
   "outputs": [],
   "source": [
    "data = driver.find_elements(By.XPATH, '//*[@id=\"panResultados\"]/div')[0].text.split('\\n')"
   ]
  },
  {
   "cell_type": "code",
   "execution_count": 481,
   "id": "a5812615",
   "metadata": {},
   "outputs": [],
   "source": [
    "for i in range(0, len(data), 3):\n",
    "    titulo, fecha, autor = map(str.strip, data[i:i+3])\n",
    "    \n",
    "    resultados.extend([titulo, fecha, autor, 'Vid / Parra (Vitis Vinifera)'])\n",
    "\n"
   ]
  },
  {
   "cell_type": "markdown",
   "id": "d0251133",
   "metadata": {},
   "source": [
    "# Violeta (Viola) (7)"
   ]
  },
  {
   "cell_type": "code",
   "execution_count": 482,
   "id": "0b2ace4c",
   "metadata": {},
   "outputs": [],
   "source": [
    "\n",
    "url = 'https://www.museodelprado.es/coleccion/obras-de-arte?searchObras=violeta%20(viola)'"
   ]
  },
  {
   "cell_type": "code",
   "execution_count": 483,
   "id": "10d363da",
   "metadata": {},
   "outputs": [],
   "source": [
    "driver.get(url)"
   ]
  },
  {
   "cell_type": "code",
   "execution_count": 484,
   "id": "e2835694",
   "metadata": {},
   "outputs": [],
   "source": [
    "data = driver.find_elements(By.XPATH, '//*[@id=\"panResultados\"]/div')[0].text.split('\\n')"
   ]
  },
  {
   "cell_type": "code",
   "execution_count": 485,
   "id": "8d00eacd",
   "metadata": {},
   "outputs": [],
   "source": [
    "for i in range(0, len(data), 3):\n",
    "    titulo, fecha, autor = map(str.strip, data[i:i+3])\n",
    "    \n",
    "    resultados.extend([titulo, fecha, autor, 'Violeta (Viola)'])\n",
    "\n"
   ]
  },
  {
   "cell_type": "markdown",
   "id": "7f3b76ac",
   "metadata": {},
   "source": [
    "# Zarzamora (Rubus) (9)"
   ]
  },
  {
   "cell_type": "code",
   "execution_count": 486,
   "id": "6212556f",
   "metadata": {},
   "outputs": [],
   "source": [
    "\n",
    "url = 'https://www.museodelprado.es/coleccion/obras-de-arte?searchObras=zarzamora%20(rubus)'"
   ]
  },
  {
   "cell_type": "code",
   "execution_count": 487,
   "id": "cf7927b1",
   "metadata": {},
   "outputs": [],
   "source": [
    "driver.get(url)"
   ]
  },
  {
   "cell_type": "code",
   "execution_count": 488,
   "id": "760585b8",
   "metadata": {},
   "outputs": [],
   "source": [
    "data = driver.find_elements(By.XPATH, '//*[@id=\"panResultados\"]/div')[0].text.split('\\n')"
   ]
  },
  {
   "cell_type": "code",
   "execution_count": 489,
   "id": "06c7b3cc",
   "metadata": {},
   "outputs": [],
   "source": [
    "for i in range(0, len(data), 3):\n",
    "    titulo, fecha, autor = map(str.strip, data[i:i+3])\n",
    "    \n",
    "    resultados.extend([titulo, fecha, autor, 'Zarzamora (Rubus)'])"
   ]
  },
  {
   "cell_type": "markdown",
   "id": "37a1d5c4",
   "metadata": {},
   "source": [
    "# Zulla / Pipirigallo (Hedysarum Coronarium) (1)"
   ]
  },
  {
   "cell_type": "code",
   "execution_count": 490,
   "id": "08a19270",
   "metadata": {},
   "outputs": [],
   "source": [
    "\n",
    "url = 'https://www.museodelprado.es/coleccion/obras-de-arte?searchObras=zulla%20/%20pipirigallo%20(hedysarum%20coronarium)'"
   ]
  },
  {
   "cell_type": "code",
   "execution_count": 491,
   "id": "ef33d6e8",
   "metadata": {},
   "outputs": [],
   "source": [
    "driver.get(url)"
   ]
  },
  {
   "cell_type": "code",
   "execution_count": 492,
   "id": "0f398c53",
   "metadata": {},
   "outputs": [],
   "source": [
    "data = driver.find_elements(By.XPATH, '//*[@id=\"panResultados\"]/div')[0].text.split('\\n')"
   ]
  },
  {
   "cell_type": "code",
   "execution_count": 493,
   "id": "61f3e8ee",
   "metadata": {},
   "outputs": [
    {
     "name": "stdout",
     "output_type": "stream",
     "text": [
      "['Ofrenda a Pericles', 'Óleo sobre lienzo. Hacia 1890', 'HERNÁNDEZ AMORES, GERMÁN', 'Acanto (Acanthus Mollis)', 'Pomo con enrejillado y cabeza de Medusa en oro', 'Cincelado, Tallado, Engarzado. Siglos XVI - XVII', 'MISERONI, GIOVANNI AMBROGIO ; ANÓNIMO', 'Acanto (Acanthus Mollis)', 'Vaso de jade en forma de mascarón, sobre cuatro delfines', 'Cincelado, Fundido, Tallado. Hacia 1600', 'MISERONI, OTTAVIO ; TALLER DE LOS MISERONI ; DEBOURG, MICHEL', 'Acanto (Acanthus Mollis)', 'Guirnalda con Jesús y Santa Teresa', 'Óleo sobre lienzo. Siglo XVII', 'SEGHERS, DANIEL', 'Acebo (Ilex Aquifolium)', 'Guirnalda rodeando a la Virgen María', 'Óleo sobre lámina de cobre. 1640 - 1660', 'VERENDAEL, NICOLAES VAN', 'Acebo (Ilex Aquifolium)', 'San Felipe en hornacina rodeada de flores', 'Óleo sobre lámina de cobre. 1651', 'THIELEN, JAN PHILIP VAN', 'Achicoria Silvestre (Cichorium Intybus)', 'Florero', 'Óleo sobre lienzo. Siglo XVII', 'ANÓNIMO', 'Aciano / Azulejo (Centaurea Cyanus)', 'Florero', 'Óleo sobre lienzo. Siglo XVII', 'ANÓNIMO', 'Aciano / Azulejo (Centaurea Cyanus)', 'El Olfato', 'Óleo sobre tabla. 1617 - 1618', 'RUBENS, PEDRO PABLO ; BRUEGHEL EL VIEJO, JAN', 'Aciano / Azulejo (Centaurea Cyanus)', 'Guirnalda de flores y paisaje', 'Óleo sobre lienzo. 1652', 'ARELLANO, JUAN DE', 'Aciano / Azulejo (Centaurea Cyanus)', 'Flower Vase and Ceramic Bowl', 'Óleo sobre lienzo. 1663', 'CAMPROBÍN, PEDRO DE', 'Aciano / Azulejo (Centaurea Cyanus)', 'Florero y recipiente de cristal', 'Óleo sobre lienzo. 1663', 'CAMPROBÍN, PEDRO DE', 'Aciano / Azulejo (Centaurea Cyanus)', 'Florero de cristal', 'Óleo sobre lienzo. 1668', 'ARELLANO, JUAN DE', 'Aciano / Azulejo (Centaurea Cyanus)', 'Guirnalda con la Virgen y el Niño', 'Óleo sobre tabla. Siglo XVII', 'SEGHERS, DANIEL ; SCHUT, CORNELIS', 'Adelfa (Nerium Oleander)', 'La Virgen y el Niño dentro de una guirnalda de flores', 'Óleo sobre lienzo. Siglo XVII', 'SEGHERS, DANIEL (COPIA)', 'Adelfa (Nerium Oleander)', 'Florero', 'Óleo sobre lienzo. Siglo XVII', 'ARELLANO, JOSÉ DE', 'Adelfa (Nerium Oleander)', 'Guirnalda rodeando a la Virgen María', 'Óleo sobre lámina de cobre. 1640 - 1660', 'VERENDAEL, NICOLAES VAN', 'Adelfa (Nerium Oleander)', 'San Felipe en hornacina rodeada de flores', 'Óleo sobre lámina de cobre. 1651', 'THIELEN, JAN PHILIP VAN', 'Adelfa (Nerium Oleander)', 'Guirnalda de flores con la Asunción de la Virgen', 'Óleo sobre lienzo. 1654', 'PONCE, ANTONIO', 'Adelfa (Nerium Oleander)', 'Jardín de la casa de Fortuny', 'Óleo sobre tabla. 1872 - 1877', 'FORTUNY Y MARSAL, MARIANO ; MADRAZO Y GARRETA, RAIMUNDO DE', 'Adelfa (Nerium Oleander)', 'Flores', 'Óleo sobre tabla. Hacia 1884', 'GESSA Y ARIAS, SEBASTIÁN', 'Adelfa (Nerium Oleander)', 'Cecilio Pla, junto a familiares y amigos, sentados sobre una gran...', 'Gelatina / colodión sobre placa de vidrio. Antes de 1918', 'ANÓNIMO - FOTÓGRAFO', 'Adelfa (Nerium Oleander)', 'Familiares y amigos de Cecilio Pla disfrutan de un día en el campo', 'Gelatina / colodión sobre placa de vidrio. Antes de 1918', 'ANÓNIMO - FOTÓGRAFO', 'Adelfa (Nerium Oleander)', 'La Tierra', 'Óleo sobre lienzo. Siglo XVI', 'VOS, MARTIN DE', 'Adormidera / Amapola Real (Papaver Somniferum)', 'Florero', 'Óleo sobre lienzo. Siglo XVII', 'ARELLANO, JUAN DE', 'Adormidera / Amapola Real (Papaver Somniferum)', 'Florero', 'Óleo sobre lienzo. Siglo XVII', 'PÉREZ, BARTOLOMÉ (ATRIBUIDO A)', 'Adormidera / Amapola Real (Papaver Somniferum)', 'Florero', 'Óleo sobre lienzo. Siglo XVII', 'PÉREZ, BARTOLOMÉ', 'Adormidera / Amapola Real (Papaver Somniferum)', 'Despensa', 'Óleo sobre lienzo. Siglo XVII', 'BOEL, PEETER', 'Adormidera / Amapola Real (Papaver Somniferum)', 'Despensa', 'Óleo sobre lienzo. Siglo XVII', 'BOEL, PEETER', 'Adormidera / Amapola Real (Papaver Somniferum)', 'La Abundancia y los Cuatro Elementos', 'Óleo sobre tabla. Siglo XVII', 'BRUEGHEL EL JOVEN, JAN', 'Adormidera / Amapola Real (Papaver Somniferum)', 'Guirnalda con el Niño Jesús y san Juan', 'Óleo sobre lámina de cobre. Siglo XVII', 'KESSEL EL JOVEN, JAN VAN', 'Adormidera / Amapola Real (Papaver Somniferum)', 'La Virgen con el Niño dentro de un festón de frutas', 'Óleo sobre lienzo. Siglo XVII', 'SON, JORIS VAN', 'Adormidera / Amapola Real (Papaver Somniferum)', 'Jardín con flores y frutas', 'Óleo sobre lienzo. Siglo XVII', 'ANÓNIMO', 'Adormidera / Amapola Real (Papaver Somniferum)', 'Florero', 'Óleo sobre lienzo. Siglo XVII', 'ANÓNIMO', 'Adormidera / Amapola Real (Papaver Somniferum)', 'Florero', 'Óleo sobre lienzo. Siglo XVII', 'PÉREZ, BARTOLOMÉ (ATRIBUIDO A)', 'Adormidera / Amapola Real (Papaver Somniferum)', 'Guirnalda de flores', 'Óleo sobre lienzo. Siglo XVII', 'PÉREZ, BARTOLOMÉ (ATRIBUIDO A)', 'Adormidera / Amapola Real (Papaver Somniferum)', 'Florero', 'Óleo sobre lienzo. Siglo XVII', 'ANÓNIMO', 'Adormidera / Amapola Real (Papaver Somniferum)', 'Florero', 'Óleo sobre lienzo. Siglo XVII', 'ANÓNIMO (?: CORTE, GABRIEL DE LA)', 'Adormidera / Amapola Real (Papaver Somniferum)', 'Florero', 'Óleo sobre lienzo. Siglo XVII', 'ARELLANO, JUAN DE', 'Adormidera / Amapola Real (Papaver Somniferum)', 'La Abundancia y los Cuatro Elementos', 'Óleo sobre tabla. Hacia 1615', 'BALEN, HENDRICK VAN ; BRUEGHEL EL VIEJO, JAN', 'Adormidera / Amapola Real (Papaver Somniferum)', 'Bodegón de flores', 'Óleo sobre lámina de cobre. 1633 - 1666', 'KESSEL EL VIEJO, JAN VAN', 'Adormidera / Amapola Real (Papaver Somniferum)', 'Tríptico del Jardín de las delicias', 'Grisalla, Óleo sobre tabla de madera de roble. 1490 - 1500', 'EL BOSCO', 'Aguileña (Aquilegia Vulgaris)', 'Florero', 'Óleo sobre tabla. Primer cuarto del siglo XVII', 'BRUEGHEL EL VIEJO, JAN', 'Aguileña (Aquilegia Vulgaris)', 'Guirnalda de flores con la Virgen, el Niño y San Juan', 'Óleo sobre lienzo. Primera mitad del siglo XVII', 'QUELLINUS, ERASMUS ; SEGHERS, DANIEL', 'Aguileña (Aquilegia Vulgaris)', 'Guirnalda con el Niño Jesús y san Juan', 'Óleo sobre lámina de cobre. Siglo XVII', 'KESSEL EL JOVEN, JAN VAN', 'Aguileña (Aquilegia Vulgaris)', 'Guirnalda con la Virgen y el Niño', 'Óleo sobre lienzo. Siglo XVII', 'SEGHERS, DANIEL', 'Aguileña (Aquilegia Vulgaris)', 'Guirnalda con la Virgen y el Niño', 'Óleo sobre lámina de cobre. Siglo XVII', 'SEGHERS, DANIEL ; SCHUT, CORNELIS (?)', 'Aguileña (Aquilegia Vulgaris)', 'Guirnalda con florecillas y setas y escena de brujería', 'Óleo sobre tabla. Siglo XVII', 'ANÓNIMO', 'Aguileña (Aquilegia Vulgaris)', 'Guirnalda de flores rodeando a la Sagrada Familia', 'Óleo sobre lámina de cobre. Siglo XVII', 'ANÓNIMO', 'Aguileña (Aquilegia Vulgaris)', 'Florero', 'Óleo sobre lienzo. Siglo XVII', 'ANÓNIMO', 'Aguileña (Aquilegia Vulgaris)', 'Guirnalda de flores', 'Óleo sobre lienzo. Siglo XVII', 'PÉREZ, BARTOLOMÉ (ATRIBUIDO A)', 'Aguileña (Aquilegia Vulgaris)', 'Guirnalda de frutas con la Virgen y el Niño', 'Óleo sobre lienzo. Siglo XVII', 'ANÓNIMO', 'Aguileña (Aquilegia Vulgaris)', 'Florero', 'Óleo sobre lienzo. Siglo XVII', 'ANÓNIMO', 'Aguileña (Aquilegia Vulgaris)', 'Florero', 'Óleo sobre lienzo. Siglo XVII', 'ANÓNIMO', 'Aguileña (Aquilegia Vulgaris)', 'Bodegón con flores, copa de plata dorada, almendras, frutos secos, dulces...', 'Óleo sobre tabla. 1611', 'PEETERS, CLARA', 'Aguileña (Aquilegia Vulgaris)', 'Guirnalda con la Virgen, el Niño y dos ángeles', 'Óleo sobre lámina de cobre. Hacia 1619', 'BRUEGHEL EL VIEJO, JAN ; PROCACCINI, GIULIO CESARE', 'Aguileña (Aquilegia Vulgaris)', 'El Olfato', 'Óleo sobre tabla. 1617 - 1618', 'RUBENS, PEDRO PABLO ; BRUEGHEL EL VIEJO, JAN', 'Aguileña (Aquilegia Vulgaris)', 'La diosa Flora', 'Óleo sobre lienzo. Hacia 1625', 'RUBENS, PEDRO PABLO (TALLER DE)', 'Aguileña (Aquilegia Vulgaris)', 'Ofrenda a Flora', 'Óleo sobre lienzo. 1627', 'HAMEN Y LEÓN, JUAN VAN DER', 'Aguileña (Aquilegia Vulgaris)', 'Guirnalda con la Adoración de los Reyes Magos', 'Óleo sobre lámina de cobre. Siglos XVI - XVII', 'BRUEGHEL EL JOVEN, PIETER', 'Ajenuz / Arañuela (Nigella Damascena)', 'Florero', 'Óleo sobre lámina de cobre. Siglo XVII', 'BRUEGHEL EL VIEJO, JAN', 'Ajenuz / Arañuela (Nigella Damascena)', 'Amorcillos con guirnalda de flores', 'Óleo sobre lienzo. Siglo XVII', 'ANÓNIMO', 'Ajenuz / Arañuela (Nigella Damascena)', 'Florero', 'Óleo sobre lienzo. Siglo XVII', 'ANÓNIMO', 'Ajenuz / Arañuela (Nigella Damascena)', 'Guirnalda de flores', 'Óleo sobre lienzo. Siglo XVII', 'PÉREZ, BARTOLOMÉ (ATRIBUIDO A)', 'Ajenuz / Arañuela (Nigella Damascena)', 'Guirnalda con la Virgen, el Niño y dos ángeles', 'Óleo sobre lámina de cobre. Hacia 1619', 'BRUEGHEL EL VIEJO, JAN ; PROCACCINI, GIULIO CESARE', 'Ajenuz / Arañuela (Nigella Damascena)', 'El Olfato', 'Óleo sobre tabla. 1617 - 1618', 'RUBENS, PEDRO PABLO ; BRUEGHEL EL VIEJO, JAN', 'Ajenuz / Arañuela (Nigella Damascena)', 'La Abundancia', 'Óleo sobre lámina de cobre. Hacia 1625', 'BRUEGHEL EL JOVEN, JAN', 'Ajenuz / Arañuela (Nigella Damascena)', 'Ofrenda a Flora', 'Óleo sobre lienzo. 1627', 'HAMEN Y LEÓN, JUAN VAN DER', 'Ajenuz / Arañuela (Nigella Damascena)', 'Florero', 'Óleo sobre lienzo. Segunda mitad del siglo XVII', 'ANÓNIMO', 'Ajenuz / Arañuela (Nigella Damascena)', 'Guirnalda de flores y paisaje', 'Óleo sobre lienzo. 1652', 'ARELLANO, JUAN DE', 'Ajenuz / Arañuela (Nigella Damascena)', 'Frutas y flores', 'Óleo sobre lienzo. 1664', 'SON, JORIS VAN', 'Ajenuz / Arañuela (Nigella Damascena)', 'Cesta de flores', 'Óleo sobre lienzo. 1668 - 1670', 'ARELLANO, JUAN DE', 'Ajenuz / Arañuela (Nigella Damascena)', 'Florero', 'Óleo sobre lienzo. Hacia 1676', 'PÉREZ, BARTOLOMÉ', 'Ajenuz / Arañuela (Nigella Damascena)', 'La diosa Flora', 'Óleo sobre lienzo. Hacia 1697', 'GIORDANO, LUCA - PINTOR; BELVEDERE, ANDREA - PINTOR', 'Ajenuz / Arañuela (Nigella Damascena)', 'Florero', 'Óleo sobre tabla. Segunda mitad del siglo XVIII', 'ESPINÓS, BENITO', 'Ajenuz / Arañuela (Nigella Damascena)', 'Florero', 'Óleo sobre tabla. Último tercio del siglo XVIII - Principio del siglo...', 'ESPINÓS, BENITO', 'Ajenuz / Arañuela (Nigella Damascena)', 'Flores con una vela y un papel', 'Óleo sobre tabla. Último cuarto del siglo XVIII - Principio del siglo...', 'ESPINÓS, BENITO', 'Ajenuz / Arañuela (Nigella Damascena)', 'Florero', 'Óleo sobre lienzo. Siglo XVII', 'CORTE, GABRIEL DE LA', 'Alhelí de Invierno (Matthiola Incana)', 'Florero', 'Óleo sobre lienzo. Siglo XVII', 'PÉREZ, BARTOLOMÉ (ATRIBUIDO A)', 'Alhelí de Invierno (Matthiola Incana)', 'Florero', 'Óleo sobre lienzo. Siglo XVII', 'ANÓNIMO', 'Alhelí de Invierno (Matthiola Incana)', 'Guirnalda con la Virgen, el Niño y dos ángeles', 'Óleo sobre lámina de cobre. Hacia 1619', 'BRUEGHEL EL VIEJO, JAN ; PROCACCINI, GIULIO CESARE', 'Alhelí de Invierno (Matthiola Incana)', 'El Olfato', 'Óleo sobre tabla. 1617 - 1618', 'RUBENS, PEDRO PABLO ; BRUEGHEL EL VIEJO, JAN', 'Alhelí de Invierno (Matthiola Incana)', 'Guirnalda rodeando a la Virgen María', 'Óleo sobre lámina de cobre. 1640 - 1660', 'VERENDAEL, NICOLAES VAN', 'Alhelí de Invierno (Matthiola Incana)', 'Bodegón (Hombre con mono y frutas)', 'Óleo sobre lienzo. 1660 - 1670', 'BRUEGHEL, ABRAHAM (ATRIBUIDO A); COURTOIS, GUILLAUME (ATRIBUIDO A)', 'Alhelí de Invierno (Matthiola Incana)', 'Florero', 'Óleo sobre lienzo. 1670 - 1680', 'CORTE, GABRIEL DE LA', 'Alhelí de Invierno (Matthiola Incana)', 'Ramillete de flores con lazo blanquiazul', 'Óleo sobre lienzo. 1780 - 1785', 'PARET Y ALCÁZAR, LUIS', 'Alhelí de Invierno (Matthiola Incana)', 'Florero', 'Óleo sobre tabla. 1780 - 1788', 'ESPINÓS, BENITO', 'Alhelí de Invierno (Matthiola Incana)', 'Guirnalda de flores con rodela escultórica', 'Óleo sobre lienzo. Hacia 1805', 'ROMÁ, JOSÉ', 'Alhelí de Invierno (Matthiola Incana)', 'Guirnalda de flores con Mercurio y Minerva', 'Óleo sobre tabla. 1811', 'ESPINÓS, BENITO', 'Alhelí de Invierno (Matthiola Incana)', 'Flores', 'Óleo sobre lienzo. Hacia 1884', 'GESSA Y ARIAS, SEBASTIÁN', 'Alhelí de Invierno (Matthiola Incana)', 'Marco de Anna Escher von Muralt', 'Tallado, Ensamblado a espiga pasante, Dorado al agua. Hacia 1800', 'ANÓNIMO', 'Alhelí de Invierno (Matthiola Incana)', 'Santa Ana, la Virgen y el Niño', 'Óleo sobre tabla. 1525 - 1550', 'BENSON, AMBROSIUS', 'Alhelí Dorado (Cheiranthus Cheiri)', 'Florero', 'Óleo sobre tabla. Siglo XVII', 'BRUEGHEL EL VIEJO, JAN (DISCÍPULO DE)', 'Alhelí Dorado (Cheiranthus Cheiri)', 'La diosa Flora', 'Óleo sobre lienzo. Hacia 1625', 'RUBENS, PEDRO PABLO (TALLER DE)', 'Alhelí Dorado (Cheiranthus Cheiri)', 'Guirnalda rodeando a la Virgen María', 'Óleo sobre lámina de cobre. 1640 - 1660', 'VERENDAEL, NICOLAES VAN', 'Alhelí Dorado (Cheiranthus Cheiri)', 'Florero', 'Óleo sobre lienzo. 1670 - 1680', 'CORTE, GABRIEL DE LA', 'Alhelí Dorado (Cheiranthus Cheiri)', 'Florero', 'Óleo sobre tabla. Último tercio del siglo XVIII', 'MALAINE, JOSEPH-LAURENT', 'Alhelí Dorado (Cheiranthus Cheiri)', 'Florero', 'Óleo sobre tabla. 1787 - 1793', 'MALAINE, JOSEPH-LAURENT', 'Alhelí Dorado (Cheiranthus Cheiri)', 'Narcisos, anémonas y alhelíes', 'Aguafuerte, Buril sobre papel verjurado. 1660 - 1690', 'VAUQUER, JACQUES - DIBUJANTE', 'Alhelí Dorado (Cheiranthus Cheiri)', 'Placa con jilguero y flores', 'Taracea. Segunda mitad del siglo XVII', 'BENOTTI, DOMENICO', 'Alhelí Dorado (Cheiranthus Cheiri)', 'San José con el Niño', 'Óleo sobre lienzo. Hacia 1650', 'MARTÍNEZ, SEBASTIÁN', 'Almendro (Prunus Dulcis)', 'Flower Vase and Ceramic Bowl', 'Óleo sobre lienzo. 1663', 'CAMPROBÍN, PEDRO DE', 'Almendro (Prunus Dulcis)', 'Flores con una vela y un papel', 'Óleo sobre tabla. Último cuarto del siglo XVIII - Principio del siglo...', 'ESPINÓS, BENITO', 'Almendro (Prunus Dulcis)', 'Almendros en flor. El Pardo', 'Óleo sobre lienzo. 1910', 'BERUETE, AURELIANO DE', 'Almendro (Prunus Dulcis)', 'Bodegón con florero y cachorro', 'Óleo sobre lienzo. Hacia 1625', 'HAMEN Y LEÓN, JUAN VAN DER', 'Altamisa / Hierba Santa (Tanacetum Parthenium)', 'Guirnalda de flores y paisaje', 'Óleo sobre lienzo. 1652', 'ARELLANO, JUAN DE', 'Altamisa / Hierba Santa (Tanacetum Parthenium)', 'La Tierra', 'Óleo sobre lienzo. Siglo XVI', 'VOS, MARTIN DE', 'Amapola (Papaver Rhoeas)', 'Florero', 'Óleo sobre lienzo. Siglo XVII', 'ANÓNIMO', 'Amapola (Papaver Rhoeas)', 'La Virgen y el Niño en un cuadro rodeado de flores y frutas', 'Óleo sobre tabla. 1617 - 1620', 'RUBENS, PEDRO PABLO ; BRUEGHEL EL VIEJO, JAN', 'Amapola (Papaver Rhoeas)', 'Florero con cuadriga vista de frente', 'Óleo sobre lienzo. 1643', 'HIEPES, TOMÁS', 'Amapola (Papaver Rhoeas)', 'Florero con cuadriga vista de perfil', 'Óleo sobre lienzo. 1643', 'HIEPES, TOMÁS', 'Amapola (Papaver Rhoeas)', 'Florero', 'Óleo sobre tabla. 1787 - 1793', 'MALAINE, JOSEPH-LAURENT', 'Amapola (Papaver Rhoeas)', 'Niña en un paisaje', 'Óleo sobre lienzo. 1847', 'RIBERA Y FIEVE, CARLOS LUIS DE', 'Amapola (Papaver Rhoeas)', 'La vuelta de las hadas al lago', 'Óleo sobre lienzo. Hacia 1864', 'PUEBLA Y TOLÍN, DIÓSCORO TEÓFILO', 'Amapola (Papaver Rhoeas)', 'Niña con flor en la mano', 'Óleo sobre lienzo. Hacia 1890', 'ANÓNIMO', 'Amapola (Papaver Rhoeas)', 'Copa de las Cuatro Estaciones', 'Esmaltado, Tallado, Grabado, Esmerilado. 1570 - 1600', 'TALLER DE LOS SARACHI ; FONTANA, ANNIBALE - DISEÑADOR - (?)', 'Amapola (Papaver Rhoeas)', 'Flores y frutas', 'Óleo sobre lienzo. 1887', 'RIVA Y CALLOL DE MUÑOZ, MARÍA LUISA DE LA', 'Amor de Hombre (Tradescantia Zebrina)', 'Guirnalda con la Adoración de los Reyes Magos', 'Óleo sobre lámina de cobre. Siglos XVI - XVII', 'BRUEGHEL EL JOVEN, PIETER', 'Ancusa / Chupamieles (Anchusa Azurea)', 'Florero', 'Óleo sobre tabla. Primer cuarto del siglo XVII', 'BRUEGHEL EL VIEJO, JAN', 'Ancusa / Chupamieles (Anchusa Azurea)', 'Florero', 'Óleo sobre lámina de cobre. Siglo XVII', 'BRUEGHEL EL VIEJO, JAN', 'Ancusa / Chupamieles (Anchusa Azurea)', 'Florero', 'Óleo sobre tabla. 1609 - 1615', 'BRUEGHEL EL VIEJO, JAN', 'Ancusa / Chupamieles (Anchusa Azurea)', 'Guirnalda con la Virgen, el Niño y dos ángeles', 'Óleo sobre lámina de cobre. Hacia 1619', 'BRUEGHEL EL VIEJO, JAN ; PROCACCINI, GIULIO CESARE', 'Ancusa / Chupamieles (Anchusa Azurea)', 'Florero', 'Óleo sobre tabla. 1615', 'BRUEGHEL EL VIEJO, JAN', 'Ancusa / Chupamieles (Anchusa Azurea)', 'Florero', 'Óleo sobre tabla. Primer cuarto del siglo XVII', 'BRUEGHEL EL VIEJO, JAN', 'Anémona (Anemone Spp.)', 'Florero', 'Óleo sobre lienzo. Primer cuarto del siglo XVII', 'BRUEGHEL EL VIEJO, JAN', 'Anémona (Anemone Spp.)', 'Florero', 'Óleo sobre lienzo. Primer cuarto del siglo XVII', 'BRUEGHEL EL VIEJO, JAN', 'Anémona (Anemone Spp.)', 'Guirnalda de flores con la Virgen, el Niño y San Juan', 'Óleo sobre lienzo. Primera mitad del siglo XVII', 'QUELLINUS, ERASMUS ; SEGHERS, DANIEL', 'Anémona (Anemone Spp.)', 'Florero', 'Óleo sobre lienzo. Siglo XVII', 'ARELLANO, JUAN DE', 'Anémona (Anemone Spp.)', 'Florero', 'Óleo sobre lienzo. Siglo XVII', 'ARELLANO, JUAN DE', 'Anémona (Anemone Spp.)', 'Florero', 'Óleo sobre lienzo. Siglo XVII', 'PÉREZ, BARTOLOMÉ (ATRIBUIDO A)', 'Anémona (Anemone Spp.)', 'Florero', 'Óleo sobre lienzo. Siglo XVII', 'PÉREZ, BARTOLOMÉ', 'Anémona (Anemone Spp.)', 'Florero', 'Óleo sobre lienzo. Siglo XVII', 'NUZZI, MARIO', 'Anémona (Anemone Spp.)', 'Florero', 'Óleo sobre lienzo. Siglo XVII', 'PÉREZ, BARTOLOMÉ', 'Anémona (Anemone Spp.)', 'Guirnalda con Santa Ana, la Virgen y el Niño', 'Grisalla, Óleo sobre tabla. Siglo XVII', 'BOSMANS, ANDRIES', 'Anémona (Anemone Spp.)', 'La Abundancia y los Cuatro Elementos', 'Óleo sobre tabla. Siglo XVII', 'BRUEGHEL EL JOVEN, JAN', 'Anémona (Anemone Spp.)', 'Guirnalda con la Virgen y el Niño', 'Óleo sobre lienzo. Siglo XVII', 'SEGHERS, DANIEL', 'Anémona (Anemone Spp.)', 'Guirnalda con la Virgen y el Niño', 'Óleo sobre tabla. Siglo XVII', 'SEGHERS, DANIEL ; SCHUT, CORNELIS', 'Anémona (Anemone Spp.)', 'Guirnalda con la Virgen, el Niño y san Juan', 'Óleo sobre tabla. Siglo XVII', 'SEGHERS, DANIEL ; SCHUT, CORNELIS', 'Anémona (Anemone Spp.)', 'Guirnalda con la Virgen y el Niño', 'Óleo sobre lámina de cobre. Siglo XVII', 'SEGHERS, DANIEL ; SCHUT, CORNELIS (?)', 'Anémona (Anemone Spp.)', 'Guirnalda con Jesús y Santa Teresa', 'Óleo sobre lienzo. Siglo XVII', 'SEGHERS, DANIEL', 'Anémona (Anemone Spp.)', 'Guirnalda de flores y frutas con la Piedad', 'Óleo sobre lienzo. Siglo XVII', 'HUYNEN, CORNELIUS VAN', 'Anémona (Anemone Spp.)', 'Guirnalda rodeando a la Virgen María', 'Óleo sobre lámina de cobre. 1640 - 1660', 'VERENDAEL, NICOLAES VAN', 'Árbol del Paraiso (Eleagnus Angustifolia)', 'Recuerdo de otoño', 'Óleo sobre lienzo. Hacia 1892', 'MENASSADE, EMILIA', 'Áster (Aster Cordifolius)', 'Guirnalda con la Sagrada Familia', 'Óleo sobre lámina de cobre. Siglo XVII', 'ANÓNIMO', 'Azafrán (Crocus Sativus)', 'La Anunciación', 'Óleo sobre tabla de madera de roble. 1420 - 1425', 'CAMPIN, ROBERT', 'Azucena (Lilium Candidum)', 'La Virgen anunciada', 'Temple sobre tabla. 1425 - 1450', 'PERIS SARRIÀ, GONÇAL', 'Azucena (Lilium Candidum)', 'La Anunciación', 'Óleo sobre tabla. Hacia 1470', 'MAESTRO DE SOPETRÁN', 'Azucena (Lilium Candidum)', 'La Virgen con el Niño entre Santo Domingo de Guzmán y Santo Tomás de Aquino', 'Óleo sobre tabla. 1480 - 1500', 'ANÓNIMO', 'Azucena (Lilium Candidum)', 'San Juan Evangelista', 'Óleo sobre tabla. 1490 - 1495', 'ANÓNIMO', 'Azucena (Lilium Candidum)', 'La Virgen de los Reyes Católicos', 'Técnica mixta sobre tabla. 1491 - 1493', 'MAESTRO DE LA VIRGEN DE LOS REYES CATÓLICOS', 'Azucena (Lilium Candidum)', 'Santo Domingo de Guzmán', 'Óleo sobre tabla. 1491 - 1499', 'BERRUGUETE, PEDRO', 'Azucena (Lilium Candidum)', 'La Anunciación', 'Técnica mixta sobre tabla pasada a lienzo. Hacia 1500', 'MAESTRO DE LA SISLA', 'Azucena (Lilium Candidum)', 'La Virgen del Rosario entre Santo Domingo y San Pedro Mártir', 'Óleo sobre tabla. Primer tercio del siglo XVI', 'ANÓNIMO', 'Azucena (Lilium Candidum)', 'La Anunciación, San Jerónimo y San Juan Bautista', 'Óleo sobre tabla. Siglo XVI', 'MAESTRO DE LA SANTA SANGRE', 'Azucena (Lilium Candidum)', 'La Anunciación', 'Óleo sobre tabla. Siglo XVI', 'ANÓNIMO', 'Azucena (Lilium Candidum)', 'La Tierra', 'Óleo sobre lienzo. Siglo XVI', 'VOS, MARTIN DE', 'Azucena (Lilium Candidum)', 'Mesa de los Pecados Capitales', 'Óleo sobre tabla de madera de chopo. 1505 - 1510', 'EL BOSCO', 'Azucena (Lilium Candidum)', 'Milagros de los santos médicos Cosme y Damián', 'Óleo sobre tabla. Hacia 1510', 'RINCÓN, FERNANDO DEL', 'Azucena (Lilium Candidum)', 'La Virgen con el Niño entre san Antonio de Padua y san Roque', 'Óleo sobre lienzo. Hacia 1510', 'TIZIANO, VECELLIO DI GREGORIO', 'Azucena (Lilium Candidum)', 'La Anunciación', 'Óleo sobre tabla. 1559', 'CORREA DE VIVAR, JUAN', 'Azucena (Lilium Candidum)', 'La Anunciación', 'Óleo sobre tabla. Hacia 1565', 'MORALES, LUIS DE', 'Azucena (Lilium Candidum)', 'La Anunciación', 'Óleo sobre lienzo. Finales del siglo XVI - Primer tercio del siglo XVII', 'ANÓNIMO (OBRA COPIADA DE: CARDUCHO, VICENTE)', 'Azucena (Lilium Candidum)', 'Tríptico del Jardín de las delicias', 'Grisalla, Óleo sobre tabla de madera de roble. 1490 - 1500', 'EL BOSCO', 'Borraja (Borago Officinalis)', 'Santa Ana, la Virgen, Santa Isabel, San Juan y Jesús niño', 'Óleo sobre tabla. 1525 - 1532', 'YÁÑEZ DE LA ALMEDINA, FERNANDO', 'Borraja (Borago Officinalis)', 'Guirnalda con Jesús y Santa Teresa', 'Óleo sobre lienzo. Siglo XVII', 'SEGHERS, DANIEL', 'Borraja (Borago Officinalis)', 'Paisaje dentro de una guirnalda', 'Óleo sobre lienzo. Finales del siglo XVII', 'YKENS, CATHARINA II', 'Borraja (Borago Officinalis)', 'Basket of Flowers and View of a Royal Palace of Valencia', 'Oil on canvas. 1844', 'PARRA ABRIL, MIGUEL', 'Cala / Alcatraz (Zantedeschia Aethiopica)', 'Florero', 'Óleo sobre lienzo. Siglo XVII', 'ANÓNIMO', 'Caléndula / Maravilla (Calendula Officinalis)', 'Florero', 'Óleo sobre lienzo. Siglo XVII', 'ANÓNIMO', 'Caléndula / Maravilla (Calendula Officinalis)', 'El príncipe Baltasar Carlos', 'Óleo sobre lienzo. Hacia 1635', 'VELÁZQUEZ, DIEGO RODRÍGUEZ DE SILVA Y (TALLER DE)', 'Caléndula / Maravilla (Calendula Officinalis)', 'Florero', 'Óleo sobre tabla. Primer cuarto del siglo XVII', 'BRUEGHEL EL VIEJO, JAN', 'Caléndula / Maravilla (Calendula Officinalis)', 'Guirnalda con la Virgen, el Niño y dos ángeles', 'Óleo sobre lámina de cobre. Hacia 1619', 'BRUEGHEL EL VIEJO, JAN ; PROCACCINI, GIULIO CESARE', 'Caléndula / Maravilla (Calendula Officinalis)', 'La Abundancia', 'Óleo sobre lámina de cobre. Hacia 1625', 'BRUEGHEL EL JOVEN, JAN', 'Caléndula / Maravilla (Calendula Officinalis)', 'Bodegón con florero y perro', 'Óleo sobre lienzo. Hacia 1625', 'HAMEN Y LEÓN, JUAN VAN DER', 'Caléndula / Maravilla (Calendula Officinalis)', 'Ofrenda a Flora', 'Óleo sobre lienzo. 1627', 'HAMEN Y LEÓN, JUAN VAN DER', 'Caléndula / Maravilla (Calendula Officinalis)', 'Florero', 'Óleo sobre tabla. Segunda mitad del siglo XVIII', 'ESPINÓS, BENITO', 'Caléndula / Maravilla (Calendula Officinalis)', 'Flower Vase and Ceramic Bowl', 'Óleo sobre lienzo. 1663', 'CAMPROBÍN, PEDRO DE', 'Caléndula / Maravilla (Calendula Officinalis)', 'Florero y recipiente de cristal', 'Óleo sobre lienzo. 1663', 'CAMPROBÍN, PEDRO DE', 'Caléndula / Maravilla (Calendula Officinalis)', 'Dama con una flor amarilla', 'Óleo sobre tabla. Hacia 1567', 'CRONENBURCH, ADRIAEN VAN', 'Caléndula / Maravilla (Calendula Officinalis)', 'Dama y niña', 'Óleo sobre tabla. 1567', 'CRONENBURCH, ADRIAEN VAN', 'Caléndula / Maravilla (Calendula Officinalis)', 'Bodegón con flores, copa de plata dorada, almendras, frutos secos, dulces...', 'Óleo sobre tabla. 1611', 'PEETERS, CLARA', 'Caléndula / Maravilla (Calendula Officinalis)', 'Felipe de Medici, hijo de Francisco I', 'Óleo sobre lienzo. Hacia 1581', 'ALLORI, ALESSANDRO', 'Caléndula / Maravilla (Calendula Officinalis)', 'Guirnalda de flores con la Asunción de la Virgen', 'Óleo sobre lienzo. 1654', 'PONCE, ANTONIO', 'Caléndula / Maravilla (Calendula Officinalis)', 'Guirnalda de flores y frutas con la Piedad', 'Óleo sobre lienzo. Siglo XVII', 'HUYNEN, CORNELIUS VAN', 'Caléndula / Maravilla (Calendula Officinalis)', 'Guirnalda con tres amores', 'Óleo sobre tabla. Hacia 1646', 'LUYCKS, CHRISTIAAN', 'Caléndula / Maravilla (Calendula Officinalis)', 'Guirnalda', 'Óleo sobre lienzo. 1635 - 1651', 'SEGHERS, DANIEL', 'Camelia (Camellis Spp.)', 'Josefa Manzanedo e Intentas, luego II marquesa de Manzanedo', 'Óleo sobre lienzo. 1872', 'MEISSONIER, JEAN-LOUIS-ERNEST', 'Camelia (Camellis Spp.)', 'Jarrón de flores con frutas', 'Óleo sobre lienzo. 1877', 'RODRÍGUEZ OLAVIDE, GENARO', 'Camelia (Camellis Spp.)', 'Guirnalda con tres amores', 'Óleo sobre tabla. Hacia 1646', 'LUYCKS, CHRISTIAAN', 'Campanilla de Invierno (Galanthus Nivalis)', 'Guirnalda con la Virgen y el Niño', 'Óleo sobre lámina de cobre. 1644', 'SEGHERS, DANIEL', 'Campanilla de Invierno (Galanthus Nivalis)', 'San Felipe en hornacina rodeada de flores', 'Óleo sobre lámina de cobre. 1651', 'THIELEN, JAN PHILIP VAN', 'Campanilla de Invierno (Galanthus Nivalis)', 'Espinos en flor. Plantío de los Infantes', 'Óleo sobre lienzo. 1911', 'BERUETE, AURELIANO DE', 'Cantueso / Tomillo Borriquero (Lavandula Stoechas)', 'Flores sobre un plato', 'Óleo sobre tabla. Primer cuarto del siglo XVII', 'BRUEGHEL EL VIEJO, JAN', 'Capuchina (Tropaeolum Majus)', 'Amorcillos con guirnalda de flores', 'Óleo sobre lienzo. Siglo XVII', 'ANÓNIMO', 'Capuchina (Tropaeolum Majus)', 'Florero', 'Óleo sobre lienzo. Siglo XVII', 'PÉREZ, BARTOLOMÉ (ATRIBUIDO A)', 'Capuchina (Tropaeolum Majus)', 'Guirnalda de flores', 'Óleo sobre lienzo. Siglo XVII', 'PÉREZ, BARTOLOMÉ (ATRIBUIDO A)', 'Capuchina (Tropaeolum Majus)', 'Guirnalda con la Virgen, el Niño y dos ángeles', 'Óleo sobre lámina de cobre. Hacia 1619', 'BRUEGHEL EL VIEJO, JAN ; PROCACCINI, GIULIO CESARE', 'Capuchina (Tropaeolum Majus)', 'Florero', 'Óleo sobre tabla. 1615', 'BRUEGHEL EL VIEJO, JAN', 'Capuchina (Tropaeolum Majus)', 'Guirnalda con la Virgen y el Niño', 'Óleo sobre lámina de cobre. 1644', 'SEGHERS, DANIEL', 'Capuchina (Tropaeolum Majus)', 'Muchacha con canasto de flores', 'Óleo sobre lienzo. Segunda mitad del siglo XVII', 'MARATTI, CARLO ; STANCHI, GIOVANNI', 'Capuchina (Tropaeolum Majus)', 'Florero', 'Óleo sobre lienzo. Segunda mitad del siglo XVII - Primer cuarto del...', 'TAMM, FRANZ WERNER VON', 'Capuchina (Tropaeolum Majus)', 'Jarrón con flores', 'Óleo sobre lienzo. Último cuarto del siglo XVII', 'CAFFI, MARGARITA', 'Capuchina (Tropaeolum Majus)', 'Florero', 'Óleo sobre lienzo. 1678 - 1700', 'CAFFI, MARGARITA', 'Capuchina (Tropaeolum Majus)', 'Florero', 'Óleo sobre lienzo. 1678 - 1700', 'CAFFI, MARGARITA', 'Capuchina (Tropaeolum Majus)', 'Retrato de María Isabel de Austria, hija del emperador Leopoldo I', 'Óleo sobre lienzo. Hacia 1695', 'ANÓNIMO', 'Capuchina (Tropaeolum Majus)', 'La diosa Flora', 'Óleo sobre lienzo. Hacia 1697', 'GIORDANO, LUCA - PINTOR; BELVEDERE, ANDREA - PINTOR', 'Capuchina (Tropaeolum Majus)', 'Diana en un paisaje', 'Óleo sobre lienzo. 1739', 'LOO, LOUIS-MICHEL VAN', 'Capuchina (Tropaeolum Majus)', 'Florero', 'Óleo sobre tabla. Segunda mitad del siglo XVIII', 'ESPINÓS, BENITO', 'Capuchina (Tropaeolum Majus)', 'Guirnalda de flores con Mercurio y Minerva', 'Óleo sobre tabla. 1811', 'ESPINÓS, BENITO', 'Capuchina (Tropaeolum Majus)', 'Jarrón de flores con frutas', 'Óleo sobre lienzo. 1877', 'RODRÍGUEZ OLAVIDE, GENARO', 'Capuchina (Tropaeolum Majus)', 'Octubre (Escorpión)', 'Óleo sobre lienzo. Siglos XVI - XVII', 'BASSANO, FRANCESCO', 'Castaño Común (Castanea Sativa)', 'Bodegón', 'Óleo sobre tabla. Siglo XVII', 'COOSEMANS, ALEXANDER', 'Castaño Común (Castanea Sativa)', 'La Abundancia y los Cuatro Elementos', 'Óleo sobre tabla. Siglo XVII', 'BRUEGHEL EL JOVEN, JAN', 'Caña de Indias / Canna (Canna Indica)', 'La Abundancia y los Cuatro Elementos', 'Óleo sobre tabla. Hacia 1615', 'BALEN, HENDRICK VAN ; BRUEGHEL EL VIEJO, JAN', 'Caña de Indias / Canna (Canna Indica)', 'El Olfato', 'Óleo sobre tabla. 1617 - 1618', 'RUBENS, PEDRO PABLO ; BRUEGHEL EL VIEJO, JAN', 'Caña de Indias / Canna (Canna Indica)', 'El Olfato', 'Óleo sobre tabla. 1617 - 1618', 'RUBENS, PEDRO PABLO ; BRUEGHEL EL VIEJO, JAN', 'Celinda (Philadelphus Coronarius L.)', 'Marco de Anna Escher von Muralt', 'Tallado, Ensamblado a espiga pasante, Dorado al agua. Hacia 1800', 'ANÓNIMO', 'Celinda (Philadelphus Coronarius L.)', 'La Tierra', 'Óleo sobre lienzo. Siglo XVI', 'VOS, MARTIN DE', 'Chirivía / Pastinaca (Pastinaca Sativa)', 'Filopómenes descubierto', 'Óleo sobre lienzo. Hacia 1609', 'RUBENS, PEDRO PABLO ; SNYDERS, FRANS', 'Chirivía / Pastinaca (Pastinaca Sativa)', 'Festón de frutas y hortalizas', 'Óleo sobre lienzo. Antes de 1649', 'ANÓNIMO', 'Chirivía / Pastinaca (Pastinaca Sativa)', 'Festón de frutas y verduras', 'Óleo sobre lienzo. 1638', 'UTRECHT, ADRIAEN VAN', 'Chirivía / Pastinaca (Pastinaca Sativa)', 'Una despensa', 'Óleo sobre lienzo. 1642', 'UTRECHT, ADRIAEN VAN', 'Chirivía / Pastinaca (Pastinaca Sativa)', 'Noli me tangere', 'Aguatinta litográfica, Litografía a lápiz, Raspador sobre papel...', 'COSTA, FERNANDO DE LA - LITÓGRAFO - (AUTOR DE LA OBRA ORIGINAL: POUSSIN, NICOLAS); M...', 'Chirivía / Pastinaca (Pastinaca Sativa)', 'La cocina', 'Aguatinta litográfica, Litografía a lápiz, Estampación sobre papel...', 'LÓPEZ, JUAN ANTONIO - LITÓGRAFO - (AUTOR DE LA OBRA ORIGINAL: TENIERS, DAVID); MAD...', 'Chirivía / Pastinaca (Pastinaca Sativa)', 'La cocina', 'Aguatinta litográfica, Litografía a lápiz, Raspador sobre papel...', 'LÓPEZ, JUAN ANTONIO - LITÓGRAFO - (AUTOR DE LA OBRA ORIGINAL: TENIERS, DAVID); MAD...', 'Chirivía / Pastinaca (Pastinaca Sativa)', 'La cocina', 'Aguatinta litográfica, Litografía a lápiz, Raspador sobre papel...', 'LÓPEZ, JUAN ANTONIO - LITÓGRAFO - (AUTOR DE LA OBRA ORIGINAL: TENIERS, DAVID); MAD...', 'Chirivía / Pastinaca (Pastinaca Sativa)', 'Primer desembarco de Cristóbal Colón en América', 'Óleo sobre lienzo. 1862', 'PUEBLA Y TOLÍN, DIÓSCORO TEÓFILO', 'Chumbera / Nopal (Opuntia Ficus-Indica)', 'El descanso en la marcha', 'Óleo sobre lienzo. Hacia 1876', 'BENLLIURE Y GIL, JOSÉ', 'Chumbera / Nopal (Opuntia Ficus-Indica)', 'Los escuchas marroquíes', 'Óleo sobre lienzo. Hacia 1879', 'MUÑOZ DEGRAIN, ANTONIO', 'Chumbera / Nopal (Opuntia Ficus-Indica)', 'La Abundancia y los Cuatro Elementos', 'Óleo sobre lámina de cobre. 1606', 'BRUEGHEL EL VIEJO, JAN ; CLERCK, HENDRIK DE', 'Chumbera / Nopal (Opuntia Ficus-Indica)', 'Florero', 'Óleo sobre tabla. 1615', 'BRUEGHEL EL VIEJO, JAN', 'Chumbera / Nopal (Opuntia Ficus-Indica)', 'Florero', 'Óleo sobre lienzo. Segunda mitad del siglo XVII', 'PÉREZ, BARTOLOMÉ (ATRIBUIDO A)', 'Chumbera / Nopal (Opuntia Ficus-Indica)', 'Guirnalda con la Adoración de los Reyes Magos', 'Óleo sobre lámina de cobre. Siglos XVI - XVII', 'BRUEGHEL EL JOVEN, PIETER', 'Chumbera / Nopal (Opuntia Ficus-Indica)', 'Guirnalda de flores con la Virgen, el Niño y San Juan', 'Óleo sobre lienzo. Primera mitad del siglo XVII', 'QUELLINUS, ERASMUS ; SEGHERS, DANIEL', 'Chumbera / Nopal (Opuntia Ficus-Indica)', 'Guirnalda con la Virgen, el Niño y dos ángeles', 'Óleo sobre lámina de cobre. Hacia 1619', 'BRUEGHEL EL VIEJO, JAN ; PROCACCINI, GIULIO CESARE', 'Chumbera / Nopal (Opuntia Ficus-Indica)', 'Florero', 'Gelatina / colodión sobre cartulina. 1915 - 1926', 'ROIG VILLALONGA, JUANA - FOTÓGRAFA - (ATRIBUIDO A: PÉREZ, BARTOLOMÉ; : PÉREZ...', 'Chumbera / Nopal (Opuntia Ficus-Indica)', 'Susana y los viejos', 'Óleo sobre lienzo. Hacia 1580', 'VERONÉS, PAOLO', 'Ciprés (Cupressus)', 'Familia en un jardín', 'Óleo sobre lienzo. 1679', 'KESSEL EL JOVEN, JAN VAN', 'Ciprés (Cupressus)', 'La Inmaculada Concepción', 'Óleo sobre lienzo. 1683', 'ARCO, ALONSO DEL', 'Ciprés (Cupressus)', 'Jardín de la casa de Fortuny', 'Óleo sobre tabla. 1872 - 1877', 'FORTUNY Y MARSAL, MARIANO ; MADRAZO Y GARRETA, RAIMUNDO DE', 'Ciprés (Cupressus)', 'Paisaje con cipreses', 'Óleo sobre lienzo. 1910', 'NOGUÉ Y MASSÓ, JOSÉ', 'Ciprés (Cupressus)', 'Vista de Granada y Sierra Nevada', 'Óleo sobre lienzo. Hacia 1915', 'MUÑOZ DEGRAIN, ANTONIO', 'Ciprés (Cupressus)', 'El calvario de Simat de Valldigna, o Paisaje de Simat de Valldigna', 'Óleo sobre lienzo. 1919', 'ANDREU Y SENTAMANS, TEODORO', 'Ciprés (Cupressus)', 'Perspectiva de jardín con avenidas de cipreses', 'Pluma, Tinta agrisada sobre papel agarbanzado. Finales del siglo...', 'ANÓNIMO', 'Ciprés (Cupressus)', 'Vista de la cascada del Jardín del Palacio Val de Ruel', 'Aguafuerte sobre papel verjurado. 1676 - 1703', 'AVELINE \"EL VIEJO\", PIERRE - GRABADOR; LANGLOIS, NICOLAS - EDITOR', 'Ciprés (Cupressus)', 'Susana y los viejos', 'Aguatinta litográfica, Litografía a lápiz, Estampación sobre papel...', 'GUGLIELMI, PAOLO - LITÓGRAFO - (AUTOR DE LA OBRA ORIGINAL: VERONÉS, PAOLO); MADRAZO Y...', 'Ciprés (Cupressus)', 'Susana y los viejos', 'Aguatinta litográfica, Litografía a lápiz, Raspador sobre papel...', 'GUGLIELMI, PAOLO - LITÓGRAFO - (AUTOR DE LA OBRA ORIGINAL: VERONÉS, PAOLO); MADRAZO Y...', 'Ciprés (Cupressus)', 'Susana y los viejos', 'Aguatinta litográfica, Litografía a lápiz, Raspador sobre papel...', 'GUGLIELMI, PAOLO - LITÓGRAFO - (AUTOR DE LA OBRA ORIGINAL: VERONÉS, PAOLO); MADRAZO Y...', 'Ciprés (Cupressus)', 'Mesa de los Pecados Capitales', 'Óleo sobre tabla de madera de chopo. 1505 - 1510', 'EL BOSCO', 'Clavel (Dianthus Caryophyllus)', 'Mujer en el baño (¿Diana de Poitiers?)', 'Óleo sobre tabla de madera de roble. Hacia 1566', 'CLOUET, FRANÇOIS (TALLER DE)', 'Clavel (Dianthus Caryophyllus)', 'Retrato de un joven', 'Óleo sobre lienzo. Primer tercio del siglo XVII', 'ROOS, JAN I', 'Clavel (Dianthus Caryophyllus)', 'Bodegón', 'Óleo sobre lienzo. Primera mitad del siglo XVII', 'SNYDERS, FRANS', 'Clavel (Dianthus Caryophyllus)', 'Florero', 'Óleo sobre lienzo. Siglo XVII', 'ARELLANO, JUAN DE', 'Clavel (Dianthus Caryophyllus)', 'Florero', 'Óleo sobre lienzo. Siglo XVII', 'ARELLANO, JUAN DE', 'Clavel (Dianthus Caryophyllus)', 'Florero', 'Óleo sobre lienzo. Siglo XVII', 'NUZZI, MARIO', 'Clavel (Dianthus Caryophyllus)', 'Florero', 'Óleo sobre lienzo. Siglo XVII', 'PÉREZ, BARTOLOMÉ', 'Clavel (Dianthus Caryophyllus)', 'Guirnalda con Santa Ana, la Virgen y el Niño', 'Grisalla, Óleo sobre tabla. Siglo XVII', 'BOSMANS, ANDRIES', 'Clavel (Dianthus Caryophyllus)', 'Uvas, manzana y claveles', 'Óleo sobre tabla. Siglo XVII', 'ES, JACOB FOPPENS VAN', 'Clavel (Dianthus Caryophyllus)', 'Guirnalda con el Niño Jesús y san Juan', 'Óleo sobre lámina de cobre. Siglo XVII', 'KESSEL EL JOVEN, JAN VAN', 'Clavel (Dianthus Caryophyllus)', 'Guirnalda con la Virgen y el Niño', 'Óleo sobre lienzo. Siglo XVII', 'SEGHERS, DANIEL', 'Clavel (Dianthus Caryophyllus)', 'Guirnalda con la Virgen, el Niño y san Juan', 'Óleo sobre tabla. Siglo XVII', 'SEGHERS, DANIEL ; SCHUT, CORNELIS', 'Clavel (Dianthus Caryophyllus)', 'Florero', 'Óleo sobre lienzo. Siglo XVII', 'ANÓNIMO', 'Clavel (Dianthus Caryophyllus)', 'Amorcillos con guirnalda de flores', 'Óleo sobre lienzo. Siglo XVII', 'ANÓNIMO', 'Clavel (Dianthus Caryophyllus)', 'Niño con claveles en la mano', 'Óleo sobre lienzo. Siglo XVII', 'ANÓNIMO', 'Clavel (Dianthus Caryophyllus)', 'Florero', 'Óleo sobre lienzo. Siglo XVII', 'CORTE, GABRIEL DE LA', 'Clavel (Dianthus Caryophyllus)', 'Florero', 'Óleo sobre lienzo. Siglo XVII', 'CORTE, GABRIEL DE LA', 'Clavel (Dianthus Caryophyllus)', 'Florero', 'Óleo sobre lienzo. Primer cuarto del siglo XVII', 'BRUEGHEL EL VIEJO, JAN', 'Clavel Chino (Dianthus Chinensis)', 'Florero', 'Óleo sobre lienzo. Siglo XVII', 'CORTE, GABRIEL DE LA', 'Clavel Chino (Dianthus Chinensis)', 'Florero', 'Óleo sobre lienzo. Siglo XVII', 'ANÓNIMO', 'Clavel Chino (Dianthus Chinensis)', 'Florero', 'Óleo sobre lienzo. Siglo XVII', 'CORTE, GABRIEL DE LA', 'Clavel Chino (Dianthus Chinensis)', 'Florero', 'Óleo sobre lienzo. Siglo XVII', 'CORTE, GABRIEL DE LA', 'Clavel Chino (Dianthus Chinensis)', 'Florero', 'Óleo sobre tabla. 1615', 'BRUEGHEL EL VIEJO, JAN', 'Clavel Chino (Dianthus Chinensis)', 'Guirnalda con la Virgen y el Niño', 'Óleo sobre tabla. Hacia 1621', 'BALEN, HENDRICK VAN ; BRUEGHEL EL VIEJO, JAN', 'Clavel Chino (Dianthus Chinensis)', 'El Olfato', 'Óleo sobre tabla. 1617 - 1618', 'RUBENS, PEDRO PABLO ; BRUEGHEL EL VIEJO, JAN', 'Clavel Chino (Dianthus Chinensis)', 'La Abundancia', 'Óleo sobre lámina de cobre. Hacia 1625', 'BRUEGHEL EL JOVEN, JAN', 'Clavel Chino (Dianthus Chinensis)', 'Floreros y cebollas', 'Óleo sobre lienzo. 1640 - 1642', 'NUZZI, MARIO', 'Clavel Chino (Dianthus Chinensis)', 'Florero con cuadriga vista de frente', 'Óleo sobre lienzo. 1643', 'HIEPES, TOMÁS', 'Clavel Chino (Dianthus Chinensis)', 'Florero', 'Óleo sobre lienzo. Segunda mitad del siglo XVII', 'PÉREZ, BARTOLOMÉ (ATRIBUIDO A)', 'Clavel Chino (Dianthus Chinensis)', 'Florero', 'Óleo sobre lienzo. Segunda mitad del siglo XVII', 'ANÓNIMO', 'Clavel Chino (Dianthus Chinensis)', 'Guirnalda de flores con la Asunción de la Virgen', 'Óleo sobre lienzo. 1654', 'PONCE, ANTONIO', 'Clavel Chino (Dianthus Chinensis)', 'Florero', 'Óleo sobre tabla. 1780 - 1788', 'ESPINÓS, BENITO', 'Clavel Chino (Dianthus Chinensis)', 'Florero', 'Gelatina / colodión sobre cartulina. 1915 - 1926', 'ROIG VILLALONGA, JUANA - FOTÓGRAFA - (ATRIBUIDO A: PÉREZ, BARTOLOMÉ; : PÉREZ...', 'Clavel Chino (Dianthus Chinensis)', 'Florero', 'Óleo sobre lienzo. Siglo XVII', 'ANÓNIMO', 'Clavellina (Dianthus Deltoides)', 'Florero', 'Óleo sobre lienzo. Siglo XVII', 'ANÓNIMO', 'Clavellina (Dianthus Deltoides)', 'Florero', 'Óleo sobre lienzo. Siglo XVII', 'ANÓNIMO', 'Clavellina (Dianthus Deltoides)', 'Florero', 'Óleo sobre lienzo. Siglo XVII', 'ANÓNIMO', 'Clavellina (Dianthus Deltoides)', 'Guirnalda con Santa Teresa de Jesús', 'Óleo sobre lienzo. Siglo XVII', 'ANÓNIMO', 'Clavellina (Dianthus Deltoides)', 'La diosa Flora', 'Óleo sobre lienzo. Hacia 1625', 'RUBENS, PEDRO PABLO (TALLER DE)', 'Clavellina (Dianthus Deltoides)', 'Guirnalda con la Virgen, el Niño y dos ángeles', 'Óleo sobre lámina de cobre. Hacia 1619', 'BRUEGHEL EL VIEJO, JAN ; PROCACCINI, GIULIO CESARE', 'Clavellina (Dianthus Deltoides)', 'El Olfato', 'Óleo sobre tabla. 1617 - 1618', 'RUBENS, PEDRO PABLO ; BRUEGHEL EL VIEJO, JAN', 'Clavellina (Dianthus Deltoides)', 'Ramillete de flores con lazo blanquiazul', 'Óleo sobre lienzo. 1780 - 1785', 'PARET Y ALCÁZAR, LUIS', 'Clavellina (Dianthus Deltoides)', 'Festón de flores y frutas y angelotes', 'Óleo sobre lienzo. Hacia 1620', 'SNYDERS, FRANS ; BRUEGHEL EL VIEJO, JAN ; RUBENS, PEDRO PABLO (TALLER DE)', 'Clavellina (Dianthus Deltoides)', 'Florero', 'Óleo sobre lienzo. Siglo XVII', 'PÉREZ, BARTOLOMÉ', 'Clavellina (Dianthus Deltoides)', 'Florero', 'Óleo sobre lienzo. Segunda mitad del siglo XVII', 'PÉREZ, BARTOLOMÉ (ATRIBUIDO A)', 'Clavellina (Dianthus Deltoides)', 'Florero con cuadriga vista de perfil', 'Óleo sobre lienzo. 1643', 'HIEPES, TOMÁS', 'Clavellina (Dianthus Deltoides)', 'Guirnalda de flores y paisaje', 'Óleo sobre lienzo. 1652', 'ARELLANO, JUAN DE', 'Clavellina (Dianthus Deltoides)', 'Florero de cristal', 'Óleo sobre lienzo. 1668', 'ARELLANO, JUAN DE', 'Clavellina (Dianthus Deltoides)', 'Ofrenda a Flora', 'Óleo sobre lienzo. 1627', 'HAMEN Y LEÓN, JUAN VAN DER', 'Clavellina (Dianthus Deltoides)', 'Flower Vase and Ceramic Bowl', 'Óleo sobre lienzo. 1663', 'CAMPROBÍN, PEDRO DE', 'Clavellina (Dianthus Deltoides)', 'Florero y recipiente de cristal', 'Óleo sobre lienzo. 1663', 'CAMPROBÍN, PEDRO DE', 'Clavellina (Dianthus Deltoides)', 'Festón de frutas y hortalizas', 'Óleo sobre lienzo. Antes de 1649', 'ANÓNIMO', 'Colinabo (Brassica Napobrassica)', 'Festón de frutas y hortalizas', 'Óleo sobre lienzo. Antes de 1650', 'ANÓNIMO', 'Colinabo (Brassica Napobrassica)', 'Festón de frutas y verduras', 'Óleo sobre lienzo. 1638', 'UTRECHT, ADRIAEN VAN', 'Colinabo (Brassica Napobrassica)', 'Una despensa', 'Óleo sobre lienzo. 1642', 'UTRECHT, ADRIAEN VAN', 'Colinabo (Brassica Napobrassica)', 'Santa Ana, la Virgen, Santa Isabel, San Juan y Jesús niño', 'Óleo sobre tabla. 1525 - 1532', 'YÁÑEZ DE LA ALMEDINA, FERNANDO', 'Collejón (Moricandia Arvensis)', 'Guirnalda rodeando a la Virgen María', 'Óleo sobre lámina de cobre. 1640 - 1660', 'VERENDAEL, NICOLAES VAN', 'Coronilla / Carolina de Jardín (Coronilla Glauca)', 'Florero', 'Óleo sobre lienzo. Siglo XVII', 'CORTE, GABRIEL DE LA', 'Crisantemo (Chrysanthemum Spp.)', 'Florero', 'Óleo sobre lienzo. 1640 - 1642', 'NUZZI, MARIO', 'Crisantemo (Chrysanthemum Spp.)', 'Fuente circular', 'Porcelana dura. 1719 - 1740', 'KÖNIGLICHEN PORZELLAN MANUFAKTUR', 'Crisantemo (Chrysanthemum Spp.)', 'Vaso refrescador', 'Porcelana dura. 1760 - 1770', 'KÖNIGLICHEN PORZELLAN MANUFAKTUR', 'Crisantemo (Chrysanthemum Spp.)', 'Vaso refrescador', 'Porcelana dura. Hacia 1780', 'KÖNIGLICHEN PORZELLAN MANUFAKTUR', 'Crisantemo (Chrysanthemum Spp.)', 'Vaso refrescador', 'Porcelana dura. Hacia 1780', 'KÖNIGLICHEN PORZELLAN MANUFAKTUR', 'Crisantemo (Chrysanthemum Spp.)', 'Marco de Anna Escher von Muralt', 'Tallado, Ensamblado a espiga pasante, Dorado al agua. Hacia 1800', 'ANÓNIMO', 'Crisantemo (Chrysanthemum Spp.)', 'Adoración de los Reyes Magos', 'Óleo sobre tabla. Siglo XVI', 'ANÓNIMO', 'Diente de León (Taraxacum Officinale)', 'Guirnalda con florecillas y setas y escena de brujería', 'Óleo sobre tabla. Siglo XVII', 'ANÓNIMO', 'Diente de León (Taraxacum Officinale)', 'Guirnalda con paisaje', 'Óleo sobre lienzo. 1680 - 1700', 'YKENS, CATHARINA II', 'Diente de León de Otoño (Scorzoneroides Autumnalis)', 'San Felipe en hornacina rodeada de flores', 'Óleo sobre lámina de cobre. 1651', 'THIELEN, JAN PHILIP VAN', 'Digital (Digitalis Spp.)', 'Jardín con flores y frutas', 'Óleo sobre lienzo. Siglo XVII', 'ANÓNIMO', 'Dondiego de Día (Convolvulaceas, Fam.)', 'Amorcillos con guirnalda de flores', 'Óleo sobre lienzo. Siglo XVII', 'ANÓNIMO', 'Dondiego de Día (Convolvulaceas, Fam.)', 'Florero', 'Óleo sobre lienzo. Siglo XVII', 'ANÓNIMO', 'Dondiego de Día (Convolvulaceas, Fam.)', 'Florero', 'Óleo sobre lienzo. Siglo XVII', 'ANÓNIMO', 'Dondiego de Día (Convolvulaceas, Fam.)', 'Guirnalda de flores con San José y el Niño', 'Óleo sobre lienzo. Siglo XVII', 'ANÓNIMO', 'Dondiego de Día (Convolvulaceas, Fam.)', 'Florero', 'Óleo sobre lienzo. Siglo XVII', 'ANÓNIMO (?: CORTE, GABRIEL DE LA)', 'Dondiego de Día (Convolvulaceas, Fam.)', 'Guirnalda de frutas con la Virgen y el Niño', 'Óleo sobre lienzo. Siglo XVII', 'ANÓNIMO', 'Dondiego de Día (Convolvulaceas, Fam.)', 'Florero de rosas y lirios', 'Óleo sobre lienzo. Siglo XVII', 'ANÓNIMO', 'Dondiego de Día (Convolvulaceas, Fam.)', 'Florero', 'Óleo sobre lienzo. 1650 - 1699', 'ANÓNIMO', 'Dondiego de Día (Convolvulaceas, Fam.)', 'Florero', 'Óleo sobre lienzo. Segunda mitad del siglo XVII', 'ANÓNIMO', 'Dondiego de Día (Convolvulaceas, Fam.)', 'Florero', 'Óleo sobre lienzo. Segunda mitad del siglo XVII', 'ANÓNIMO', 'Dondiego de Día (Convolvulaceas, Fam.)', 'Niña en un paisaje', 'Óleo sobre lienzo. 1847', 'RIBERA Y FIEVE, CARLOS LUIS DE', 'Dondiego de Día (Convolvulaceas, Fam.)', 'La diosa Flora', 'Óleo sobre lienzo. Hacia 1625', 'RUBENS, PEDRO PABLO (TALLER DE)', 'Dondiego de Día (Convolvulaceas, Fam.)', 'Vase of Flowers', 'Óleo sobre tabla. 1600 - 1625', 'BRUEGHEL EL VIEJO, JAN', 'Dondiego de Día (Convolvulaceas, Fam.)', 'Flores sobre un plato', 'Óleo sobre tabla. Primer cuarto del siglo XVII', 'BRUEGHEL EL VIEJO, JAN', 'Dondiego de Día (Convolvulaceas, Fam.)', 'Florero', 'Óleo sobre tabla. Siglo XVII', 'BRUEGHEL EL VIEJO, JAN (DISCÍPULO DE)', 'Dondiego de Día (Convolvulaceas, Fam.)', 'La Virgen de Atocha', 'Óleo sobre lienzo. Hacia 1680', 'CARREÑO DE MIRANDA, JUAN', 'Dondiego de Día (Convolvulaceas, Fam.)', 'Carlos III, niño, en su gabinete', 'Óleo sobre lienzo. Hacia 1724', 'RANC, JEAN', 'Dondiego de Día (Convolvulaceas, Fam.)', 'Guirnalda con paisaje', 'Óleo sobre lienzo. 1680 - 1700', 'YKENS, CATHARINA II', 'Dondiego de Noche (Mirabilis Jalapa)', 'Florero', 'Óleo sobre lienzo. Siglo XVII', 'ARELLANO, JOSÉ DE', 'Dragonaria (Antirrhinum Majus)', 'Guirnalda de flores con la Asunción de la Virgen', 'Óleo sobre lienzo. 1654', 'PONCE, ANTONIO', 'Dragonaria (Antirrhinum Majus)', 'Paisaje de montaña', 'Óleo sobre papel pegado en lienzo. Hacia 1872', 'HAES, CARLOS DE', 'Encina (Quercus Ilex)', 'Felipe IV, cazador', 'Óleo sobre lienzo. 1632 - 1634', 'VELÁZQUEZ, DIEGO RODRÍGUEZ DE SILVA Y', 'Encina (Quercus Ilex)', 'Cazador sentado a la orilla de una laguna', 'Gelatina / colodión sobre placa de vidrio. Principio del siglo XX', 'ANÓNIMO - FOTÓGRAFO', 'Encina (Quercus Ilex)', 'Nuestra Señora de Lara', 'Aguada parda, Pluma, Preparado a lápiz sobre papel verjurado...', 'ANÓNIMO', 'Encina (Quercus Ilex)', 'Escudo de la familia de los Khevenhüller, en cerámica de Talavera', 'Cerámica. Antes de 1623', 'ANÓNIMO', 'Encina (Quercus Ilex)', 'Escudo de la familia de los Khevenhüller, en cerámica de Talavera', 'Cerámica. Antes de 1623', 'ANÓNIMO', 'Encina (Quercus Ilex)', 'Espinos en flor. Plantío de los Infantes', 'Óleo sobre lienzo. 1911', 'BERUETE, AURELIANO DE', 'Espino Albar / Espino Blanco (Crataegus Oxyacantha L.)', 'Paisaje dentro de una guirnalda', 'Óleo sobre lienzo. Finales del siglo XVII', 'YKENS, CATHARINA II', 'Espino Albar / Espino Blanco (Crataegus Oxyacantha L.)', 'Rama con pájaros', 'Grafito sobre papel avitelado. 1877 - 1884', 'HAES, CARLOS DE', 'Espino Albar / Espino Blanco (Crataegus Oxyacantha L.)', 'Autorretrato', 'Óleo sobre lienzo. Hacia 1562', 'TIZIANO, VECELLIO DI GREGORIO', 'Espuela de Caballero (Consolida Ajacis)', 'Ramillete de flores con lazo azul', 'Óleo sobre lienzo. 1780 - 1785', 'PARET Y ALCÁZAR, LUIS', 'Espuela de Caballero (Consolida Ajacis)', 'Carlos III, niño, en su gabinete', 'Óleo sobre lienzo. Hacia 1724', 'RANC, JEAN', 'Espuela de Caballero (Consolida Ajacis)', 'Florero en un canastillo', 'Óleo sobre lienzo. Siglo XVII', 'PÉREZ, BARTOLOMÉ', 'Espuela de Caballero (Consolida Ajacis)', 'Florero con cuadriga vista de frente', 'Óleo sobre lienzo. 1643', 'HIEPES, TOMÁS', 'Espuela de Caballero (Consolida Ajacis)', 'La Abundancia', 'Óleo sobre lámina de cobre. Hacia 1625', 'BRUEGHEL EL JOVEN, JAN', 'Espuela de Caballero (Consolida Ajacis)', 'Guirnalda de flores y paisaje', 'Óleo sobre lienzo. 1652', 'ARELLANO, JUAN DE', 'Espuela de Caballero (Consolida Ajacis)', 'Cesta de flores', 'Óleo sobre lienzo. 1668 - 1670', 'ARELLANO, JUAN DE', 'Espuela de Caballero (Consolida Ajacis)', 'Autorretrato', 'Óleo sobre lienzo. Hacia 1830', 'CRUZ Y RÍOS, LUIS DE LA', 'Espuela de Caballero (Consolida Ajacis)', 'Florero', 'Óleo sobre lienzo. Siglo XVII', 'NUZZI, MARIO', 'Espuela de Caballero (Consolida Ajacis)', 'Floreros y cebollas', 'Óleo sobre lienzo. 1640 - 1642', 'NUZZI, MARIO', 'Espuela de Caballero (Consolida Ajacis)', 'Florero', 'Óleo sobre tabla. Último tercio del siglo XVIII - Principio del siglo...', 'ESPINÓS, BENITO', 'Espuela de Caballero (Consolida Ajacis)', 'Florero', 'Óleo sobre tabla. 1780 - 1788', 'ESPINÓS, BENITO', 'Espuela de Caballero (Consolida Ajacis)', 'Guirnalda de flores con Mercurio y Minerva', 'Óleo sobre tabla. 1811', 'ESPINÓS, BENITO', 'Espuela de Caballero (Consolida Ajacis)', 'Florero', 'Óleo sobre lienzo. 1694 - 1700', 'BELVEDERE, ANDREA', 'Espuela de Caballero (Consolida Ajacis)', 'Flores y frutas', 'Óleo sobre lienzo. 1887', 'RIVA Y CALLOL DE MUÑOZ, MARÍA LUISA DE LA', 'Espuela de Caballero (Consolida Ajacis)', 'Guirnalda con el Niño Jesús y san Juan', 'Óleo sobre lámina de cobre. Siglo XVII', 'KESSEL EL JOVEN, JAN VAN', 'Espuela de Caballero (Consolida Ajacis)', 'El amor y las flores (tríptico)', 'Temple sobre lienzo. 1910 - 1911', 'GÁRATE Y CLAVERO, JUAN JOSÉ', 'Estramonio (Datura Stramonium)', 'Joven desconocido con un ramo de azahar en la mano derecha', 'Óleo sobre lienzo. Siglo XVI', 'ANÓNIMO', 'Flor de Azahar (Citrus Aurantium)', 'Guirnalda de frutas con la Virgen y el Niño', 'Óleo sobre lienzo. Siglo XVII', 'ANÓNIMO', 'Flor de Azahar (Citrus Aurantium)', 'La diosa Flora', 'Óleo sobre lienzo. Hacia 1625', 'RUBENS, PEDRO PABLO (TALLER DE)', 'Flor de Azahar (Citrus Aurantium)', 'Florero', 'Óleo sobre lienzo. Primer cuarto del siglo XVII', 'BRUEGHEL EL VIEJO, JAN', 'Flor de Azahar (Citrus Aurantium)', 'Florero', 'Óleo sobre lienzo. Primer cuarto del siglo XVII', 'BRUEGHEL EL VIEJO, JAN', 'Flor de Azahar (Citrus Aurantium)', 'Florero', 'Óleo sobre tabla. 1615', 'BRUEGHEL EL VIEJO, JAN', 'Flor de Azahar (Citrus Aurantium)', 'El Olfato', 'Óleo sobre tabla. 1617 - 1618', 'RUBENS, PEDRO PABLO ; BRUEGHEL EL VIEJO, JAN', 'Flor de Azahar (Citrus Aurantium)', 'María Ana Victoria de Borbón, niña (futura reina de Portugal)', 'Óleo sobre lienzo. 1725', 'RANC, JEAN', 'Flor de Azahar (Citrus Aurantium)', 'Guirnalda de flores con San Antonio de Padua', 'Óleo sobre lienzo. Después de 1689', 'PÉREZ, BARTOLOMÉ', 'Flor de Azahar (Citrus Aurantium)', 'Guirnalda de flores con la Virgen, el Niño y San Juan', 'Óleo sobre lienzo. Primera mitad del siglo XVII', 'QUELLINUS, ERASMUS ; SEGHERS, DANIEL', 'Flor de Azahar (Citrus Aurantium)', 'Guirnalda con Jesús y Santa Teresa', 'Óleo sobre lienzo. Siglo XVII', 'SEGHERS, DANIEL', 'Flor de Azahar (Citrus Aurantium)', 'Guirnalda con la Virgen y el Niño', 'Óleo sobre lámina de cobre. 1644', 'SEGHERS, DANIEL', 'Flor de Azahar (Citrus Aurantium)', 'Dos genios entre guirnaldas y ramos de flores', 'Óleo sobre lienzo. Finales del siglo XVII - Principio del siglo XVIII', 'BELVEDERE, ANDREA ; SOLIMENA, FRANCESCO', 'Flor de Azahar (Citrus Aurantium)', 'El tocador de Venus', 'Óleo sobre lienzo. 1635 - 1640', 'ALBANI, FRANCESCO', 'Flor de Azahar (Citrus Aurantium)', 'Bodegón de flores', 'Óleo sobre lámina de cobre. 1633 - 1666', 'KESSEL EL VIEJO, JAN VAN', 'Flor de Azahar (Citrus Aurantium)', 'Cibeles y las Estaciones dentro de un festón de frutas', 'Óleo sobre tabla. 1615 - 1618', 'BALEN, HENDRICK VAN ; BRUEGHEL EL JOVEN, JAN', 'Flor de Azahar (Citrus Aurantium)', 'Guirnalda con la Virgen y el Niño', 'Óleo sobre tabla. Hacia 1621', 'BALEN, HENDRICK VAN ; BRUEGHEL EL VIEJO, JAN', 'Flor de Azahar (Citrus Aurantium)', 'Florero y recipiente de cristal', 'Óleo sobre lienzo. 1663', 'CAMPROBÍN, PEDRO DE', 'Flor de Azahar (Citrus Aurantium)', 'El Olfato', 'Óleo sobre tabla. 1617 - 1618', 'RUBENS, PEDRO PABLO ; BRUEGHEL EL VIEJO, JAN', 'Fresa Silvestre (Fragaria Vesca)', 'La visión de san Huberto', 'Óleo sobre tabla. 1617 - 1620', 'RUBENS, PEDRO PABLO ; BRUEGHEL EL VIEJO, JAN', 'Fresa Silvestre (Fragaria Vesca)', 'Guirnalda con paisaje', 'Óleo sobre lienzo. 1680 - 1700', 'YKENS, CATHARINA II', 'Fresa Silvestre (Fragaria Vesca)', 'Flores y frutas', 'Óleo sobre lienzo. 1887', 'RIVA Y CALLOL DE MUÑOZ, MARÍA LUISA DE LA', 'Fucsia / Pendientes de la Reina (Fuchsia Magellanica)', 'Las flores de mayo', 'Óleo sobre lienzo. 1892', 'VALLCORBA Y MEXÍA, CAYETANO', 'Geranio (Pelargonium Spp.)', 'Geranio y anémonas', 'Aguafuerte sobre papel verjurado. 1660 - 1690', 'VAUQUER, JACQUES - DIBUJANTE; POILLY I, FRANÇOIS DE - EDITOR', 'Geranio (Pelargonium Spp.)', 'Florero', 'Óleo sobre lienzo. Primer cuarto del siglo XVII', 'BRUEGHEL EL VIEJO, JAN', 'Girasol (Helianthus Annuus)', 'Florero con cuadriga vista de perfil', 'Óleo sobre lienzo. 1643', 'HIEPES, TOMÁS', 'Girasol (Helianthus Annuus)', 'Bodegón con florero y cachorro', 'Óleo sobre lienzo. Hacia 1625', 'HAMEN Y LEÓN, JUAN VAN DER', 'Girasol (Helianthus Annuus)', 'Ofrenda a Flora', 'Óleo sobre lienzo. 1627', 'HAMEN Y LEÓN, JUAN VAN DER', 'Girasol (Helianthus Annuus)', 'Guirnalda de flores con la Asunción de la Virgen', 'Óleo sobre lienzo. 1654', 'PONCE, ANTONIO', 'Girasol (Helianthus Annuus)', 'Florero', 'Óleo sobre lienzo. Siglo XVII', 'ANÓNIMO', 'Gladiolo (Gladiolus Spp.)', 'El Olfato', 'Óleo sobre tabla. 1617 - 1618', 'RUBENS, PEDRO PABLO ; BRUEGHEL EL VIEJO, JAN', 'Gladiolo (Gladiolus Spp.)', 'Cesta de flores', 'Óleo sobre lienzo. Hacia 1670', 'ARELLANO, JUAN DE', 'Gladiolo (Gladiolus Spp.)', 'Bodegón con florero y cachorro', 'Óleo sobre lienzo. Hacia 1625', 'HAMEN Y LEÓN, JUAN VAN DER', 'Gladiolo (Gladiolus Spp.)', 'Floreros', 'Óleo sobre lienzo. 1640 - 1642', 'NUZZI, MARIO', 'Gladiolo (Gladiolus Spp.)', 'Flores', 'Óleo sobre lienzo. Hacia 1884', 'GESSA Y ARIAS, SEBASTIÁN', 'Gladiolo (Gladiolus Spp.)', 'Flores y frutas', 'Óleo sobre lienzo. 1887', 'RIVA Y CALLOL DE MUÑOZ, MARÍA LUISA DE LA', 'Gladiolo (Gladiolus Spp.)', 'Florero', 'Óleo sobre lienzo. Siglo XVII', 'ARELLANO, JOSÉ DE', 'Glicinia (Wisteria Sinensis)', 'Florero', 'Óleo sobre tabla. Siglo XVII', 'BRUEGHEL EL VIEJO, JAN (DISCÍPULO DE)', 'Granado (Punica Granatum)', 'Guirnalda de flores con la Virgen, el Niño y San Juan', 'Óleo sobre lienzo. Primera mitad del siglo XVII', 'QUELLINUS, ERASMUS ; SEGHERS, DANIEL', 'Granado (Punica Granatum)', 'Guirnalda con Jesús y Santa Teresa', 'Óleo sobre lienzo. Siglo XVII', 'SEGHERS, DANIEL', 'Granado (Punica Granatum)', 'Guirnalda con la Virgen y el Niño', 'Óleo sobre lámina de cobre. 1644', 'SEGHERS, DANIEL', 'Granado (Punica Granatum)', 'Ofrenda a Flora', 'Óleo sobre lienzo. 1627', 'HAMEN Y LEÓN, JUAN VAN DER', 'Granado (Punica Granatum)', 'Uvas y granadas', 'Óleo sobre lienzo. Hacia 1920', 'RIVA Y CALLOL DE MUÑOZ, MARÍA LUISA DE LA', 'Granado (Punica Granatum)', 'Guirnalda rodeando a la Virgen María', 'Óleo sobre lámina de cobre. 1640 - 1660', 'VERENDAEL, NICOLAES VAN', 'Granado (Punica Granatum)', 'Guirnalda con paisaje', 'Óleo sobre lienzo. 1680 - 1700', 'YKENS, CATHARINA II', 'Granado (Punica Granatum)', 'Paisaje dentro de una guirnalda', 'Óleo sobre lienzo. Finales del siglo XVII', 'YKENS, CATHARINA II', 'Granado (Punica Granatum)', 'Guirnalda con la Virgen y el Niño', 'Óleo sobre tabla. Hacia 1621', 'BALEN, HENDRICK VAN ; BRUEGHEL EL VIEJO, JAN', 'Guisante de Olor (Lathyrus Odoratus)', 'Guirnalda de flores con la Virgen, el Niño y San Juan', 'Óleo sobre lienzo. Primera mitad del siglo XVII', 'QUELLINUS, ERASMUS ; SEGHERS, DANIEL', 'Guisante de Olor (Lathyrus Odoratus)', 'Guirnalda con paisaje', 'Óleo sobre lienzo. 1680 - 1700', 'YKENS, CATHARINA II', 'Guisante de Olor (Lathyrus Odoratus)', 'Florero', 'Óleo sobre tabla. Último tercio del siglo XVIII', 'MALAINE, JOSEPH-LAURENT', 'Guisante de Olor (Lathyrus Odoratus)', 'Florero con rosas y otras flores', 'Óleo sobre tabla. 1799', 'ALABERT, SANTIAGO', 'Guisante de Olor (Lathyrus Odoratus)', 'Bosque de hayas (Alsasua)', 'Óleo sobre tabla. Hacia 1875', 'HAES, CARLOS DE', 'Haya (Fagus, de la Familia de las Fagaceae)', 'Guirnalda con florecillas y setas y escena de brujería', 'Óleo sobre tabla. Siglo XVII', 'ANÓNIMO', 'Hiedra (Hedera Spp.)', 'Guirnalda con la Sagrada Familia', 'Óleo sobre lámina de cobre. Siglo XVII', 'ANÓNIMO', 'Hiedra (Hedera Spp.)', 'Guirnalda de flores rodeando a la Sagrada Familia', 'Óleo sobre lámina de cobre. Siglo XVII', 'ANÓNIMO', 'Hiedra (Hedera Spp.)', 'Guirnalda de flores y paisaje', 'Óleo sobre lienzo. 1652', 'ARELLANO, JUAN DE', 'Hiedra (Hedera Spp.)', 'Guirnalda de flores y paisaje', 'Óleo sobre lienzo. 1652', 'ARELLANO, JUAN DE', 'Hiedra (Hedera Spp.)', 'Guirnalda con la Virgen y el Niño', 'Óleo sobre lienzo. Siglo XVII', 'SEGHERS, DANIEL', 'Hiedra (Hedera Spp.)', 'La Virgen y el Niño dentro de una guirnalda de flores', 'Óleo sobre lienzo. Siglo XVII', 'SEGHERS, DANIEL (COPIA)', 'Hiedra (Hedera Spp.)', 'Guirnalda con la Virgen y el Niño', 'Óleo sobre lámina de cobre. 1644', 'SEGHERS, DANIEL', 'Hiedra (Hedera Spp.)', 'Florero', 'Óleo sobre lienzo. 1640 - 1642', 'NUZZI, MARIO', 'Hiedra (Hedera Spp.)', 'Guirnalda con la Virgen y el Niño', 'Óleo sobre tabla. Siglo XVII', 'SEGHERS, DANIEL ; SCHUT, CORNELIS', 'Hiedra (Hedera Spp.)', 'Guirnalda con la Virgen, el Niño y san Juan', 'Óleo sobre tabla. Siglo XVII', 'SEGHERS, DANIEL ; SCHUT, CORNELIS', 'Hiedra (Hedera Spp.)', 'Guirnalda con la Virgen y el Niño', 'Óleo sobre lámina de cobre. Siglo XVII', 'SEGHERS, DANIEL ; SCHUT, CORNELIS (?)', 'Hiedra (Hedera Spp.)', 'La Virgen con el Niño dentro de un festón de frutas', 'Óleo sobre lienzo. Siglo XVII', 'SON, JORIS VAN', 'Hiedra (Hedera Spp.)', 'Guirnalda de frutas rodeando al Niño Jesús como Redentor', 'Óleo sobre lienzo. Segundo tercio del siglo XVII', 'SON, JORIS VAN', 'Hiedra (Hedera Spp.)', 'Flores', 'Óleo sobre tabla. Hacia 1884', 'GESSA Y ARIAS, SEBASTIÁN', 'Hiedra (Hedera Spp.)', 'Flores', 'Óleo sobre lienzo. Hacia 1884', 'GESSA Y ARIAS, SEBASTIÁN', 'Hiedra (Hedera Spp.)', 'Fresones y rosas', 'Óleo sobre tabla. Hacia 1886', 'GESSA Y ARIAS, SEBASTIÁN', 'Hiedra (Hedera Spp.)', 'Flores y frutas', 'Óleo sobre tabla. Hacia 1897', 'GESSA Y ARIAS, SEBASTIÁN', 'Hiedra (Hedera Spp.)', 'El Descendimiento', 'Óleo sobre tabla. Antes de 1443', 'WEYDEN, ROGIER VAN DER', 'Hierba de San Benito (Geum Urbanum)', 'La visión de san Huberto', 'Óleo sobre tabla. 1617 - 1620', 'RUBENS, PEDRO PABLO ; BRUEGHEL EL VIEJO, JAN', 'Hierba Doncella / Vincapervinca (Vinca Minor)', 'La diosa Flora', 'Óleo sobre lienzo. Hacia 1625', 'RUBENS, PEDRO PABLO (TALLER DE)', 'Hierba Doncella / Vincapervinca (Vinca Minor)', 'Guirnalda con la Virgen, el Niño y dos ángeles', 'Óleo sobre lámina de cobre. Hacia 1619', 'BRUEGHEL EL VIEJO, JAN ; PROCACCINI, GIULIO CESARE', 'Hierba Doncella / Vincapervinca (Vinca Minor)', 'Florero', 'Óleo sobre tabla. 1615', 'BRUEGHEL EL VIEJO, JAN', 'Hierba Doncella / Vincapervinca (Vinca Minor)', 'El Olfato', 'Óleo sobre tabla. 1617 - 1618', 'RUBENS, PEDRO PABLO ; BRUEGHEL EL VIEJO, JAN', 'Hierba Doncella / Vincapervinca (Vinca Minor)', 'Bodegón con florero y cachorro', 'Óleo sobre lienzo. Hacia 1625', 'HAMEN Y LEÓN, JUAN VAN DER', 'Hierba Doncella / Vincapervinca (Vinca Minor)', 'Ofrenda a Flora', 'Óleo sobre lienzo. 1627', 'HAMEN Y LEÓN, JUAN VAN DER', 'Hierba Doncella / Vincapervinca (Vinca Minor)', 'Bodegón con alcachofas, flores y recipientes de vidrio', 'Óleo sobre lienzo. 1627', 'HAMEN Y LEÓN, JUAN VAN DER', 'Hierba Doncella / Vincapervinca (Vinca Minor)', 'Guirnalda con la Virgen y el Niño', 'Óleo sobre tabla. Hacia 1621', 'BALEN, HENDRICK VAN ; BRUEGHEL EL VIEJO, JAN', 'Hierba Doncella / Vincapervinca (Vinca Minor)', 'Florero de cristal con rosas y jazmines', 'Óleo sobre lienzo. 1780 - 1790', 'ROMERO, JUAN BAUTISTA', 'Hierba Doncella / Vincapervinca (Vinca Minor)', 'El Olfato', 'Óleo sobre tabla. 1617 - 1618', 'RUBENS, PEDRO PABLO ; BRUEGHEL EL VIEJO, JAN', 'Higuera (Ficus Carica)', 'Adán y Eva', 'Óleo sobre lienzo. 1628 - 1629', 'RUBENS, PEDRO PABLO (OBRA COPIADA DE: TIZIANO, VECELLIO DI GREGORIO)', 'Higuera (Ficus Carica)', 'Adán y Eva', 'Óleo sobre lienzo. Hacia 1550', 'TIZIANO, VECELLIO DI GREGORIO', 'Higuera (Ficus Carica)', 'La Tierra', 'Óleo sobre lienzo. Siglo XVI', 'VOS, MARTIN DE', 'Higuera (Ficus Carica)', 'Adán y Eva', 'Albúmina sobre cartulina. 1874 - 1899', 'J. LAURENT Y CÍA - FOTÓGRAFO - (AUTOR DE LA OBRA ORIGINAL: TIZIANO, VECELLIO DI GREGORIO)', 'Higuera (Ficus Carica)', 'La diosa Flora', 'Óleo sobre lienzo. Hacia 1697', 'GIORDANO, LUCA - PINTOR; BELVEDERE, ANDREA - PINTOR', 'Hortensia (Hydrangea)', 'Interior', 'Óleo sobre lienzo. Hacia 1929', 'MARTÍ GARCÉS DE MARCILLA, JOSÉ', 'Hortensia (Hydrangea)', 'Guirnalda rodeando a la Virgen María', 'Óleo sobre lámina de cobre. 1640 - 1660', 'VERENDAEL, NICOLAES VAN', 'Hortensia (Hydrangea)', 'La Virgen anunciada', 'Óleo sobre tabla de madera de nogal. 1480 - 1500', 'ANÓNIMO', 'Iris / Lirio Azul (Iris Xiphium)', 'Sagrada Familia con San Juanito en una orla de flores', 'Óleo sobre lienzo. Finales del siglo XVII', 'ANÓNIMO', 'Iris / Lirio Azul (Iris Xiphium)', 'El Olfato', 'Óleo sobre tabla. 1617 - 1618', 'RUBENS, PEDRO PABLO ; BRUEGHEL EL VIEJO, JAN', 'Iris / Lirio Azul (Iris Xiphium)', 'Florero', 'Óleo sobre tabla. Primer cuarto del siglo XVII', 'BRUEGHEL EL VIEJO, JAN', 'Iris / Lirio Azul (Iris Xiphium)', 'Florero', 'Óleo sobre lienzo. Primer cuarto del siglo XVII', 'BRUEGHEL EL VIEJO, JAN', 'Iris / Lirio Azul (Iris Xiphium)', 'The Immaculate Conception', 'Óleo sobre lienzo. Siglo XVII', 'RIZI, FRANCISCO', 'Iris / Lirio Azul (Iris Xiphium)', 'Florero', 'Óleo sobre lienzo. Siglo XVII', 'PÉREZ, BARTOLOMÉ (ATRIBUIDO A)', 'Iris / Lirio Azul (Iris Xiphium)', 'Guirnalda de flores con San Antonio de Padua', 'Óleo sobre lienzo. Después de 1689', 'PÉREZ, BARTOLOMÉ', 'Iris / Lirio Azul (Iris Xiphium)', 'San Juan Bautista niño con el Cordero', 'Óleo sobre lienzo. 1681', 'RUIZ DE LA IGLESIA, FRANCISCO IGNACIO', 'Iris / Lirio Azul (Iris Xiphium)', 'La Abundancia y los Cuatro Elementos', 'Óleo sobre tabla. Siglo XVII', 'BRUEGHEL EL JOVEN, JAN', 'Iris / Lirio Azul (Iris Xiphium)', 'La Abundancia', 'Óleo sobre lámina de cobre. Hacia 1625', 'BRUEGHEL EL JOVEN, JAN', 'Iris / Lirio Azul (Iris Xiphium)', 'Florero', 'Óleo sobre lienzo. 1660 - 1676', 'ARELLANO, JUAN DE', 'Iris / Lirio Azul (Iris Xiphium)', 'Bodegón con florero y cachorro', 'Óleo sobre lienzo. Hacia 1625', 'HAMEN Y LEÓN, JUAN VAN DER', 'Iris / Lirio Azul (Iris Xiphium)', 'La Abundancia y los Cuatro Elementos', 'Óleo sobre tabla. Hacia 1615', 'BALEN, HENDRICK VAN ; BRUEGHEL EL VIEJO, JAN', 'Iris / Lirio Azul (Iris Xiphium)', 'Florero', 'Óleo sobre lienzo. Siglo XVII', 'ARELLANO, JOSÉ DE', 'Iris / Lirio Azul (Iris Xiphium)', 'Bodegón con flores, copa de plata dorada, almendras, frutos secos, dulces...', 'Óleo sobre tabla. 1611', 'PEETERS, CLARA', 'Iris / Lirio Azul (Iris Xiphium)', 'Flores y frutas', 'Óleo sobre lienzo. 1887', 'RIVA Y CALLOL DE MUÑOZ, MARÍA LUISA DE LA', 'Iris / Lirio Azul (Iris Xiphium)', 'Guirnalda de flores con la Asunción de la Virgen', 'Óleo sobre lienzo. 1654', 'PONCE, ANTONIO', 'Iris / Lirio Azul (Iris Xiphium)', 'Florero', 'Óleo sobre lienzo. Segunda mitad del siglo XVII', 'ANÓNIMO', 'Jacinto del Perú / Esquila Portuguesa (Scilla Peruviana)', 'Florero', 'Óleo sobre lienzo. Siglo XVII', 'PÉREZ, BARTOLOMÉ (ATRIBUIDO A)', 'Jacinto del Perú / Esquila Portuguesa (Scilla Peruviana)', 'Florero de plata volcado sobre un paño', 'Óleo sobre lienzo. 1640 - 1642', 'NUZZI, MARIO', 'Jacinto del Perú / Esquila Portuguesa (Scilla Peruviana)', 'Florero', 'Albúmina sobre cartulina. 1900 - 1910', 'LACOSTE Y BORDE, JOSÉ - FOTÓGRAFO - (ATRIBUIDO A: PÉREZ, BARTOLOMÉ; : PÉREZ...', 'Jacinto del Perú / Esquila Portuguesa (Scilla Peruviana)', 'Guirnalda con el Valor y la Abundancia', 'Óleo sobre tabla. Siglo XVII', 'ANÓNIMO', 'Jazmín (Jasminum Grandiflorum)', 'Guirnalda de flores rodeando a la Sagrada Familia', 'Óleo sobre lámina de cobre. Siglo XVII', 'ANÓNIMO', 'Jazmín (Jasminum Grandiflorum)', 'Florero', 'Óleo sobre lienzo. Siglo XVII', 'ANÓNIMO', 'Jazmín (Jasminum Grandiflorum)', 'Florero', 'Óleo sobre lienzo. Siglo XVII', 'ANÓNIMO', 'Jazmín (Jasminum Grandiflorum)', 'Guirnalda de flores con San José y el Niño', 'Óleo sobre lienzo. Siglo XVII', 'ANÓNIMO', 'Jazmín (Jasminum Grandiflorum)', 'Florero', 'Óleo sobre lienzo. Siglo XVII', 'ANÓNIMO', 'Jazmín (Jasminum Grandiflorum)', 'Florero', 'Óleo sobre lienzo. Siglo XVII', 'ANÓNIMO', 'Jazmín (Jasminum Grandiflorum)', 'Florero', 'Óleo sobre lienzo. Siglo XVII', 'ANÓNIMO (?: CORTE, GABRIEL DE LA)', 'Jazmín (Jasminum Grandiflorum)', 'Florero', 'Óleo sobre lienzo. Siglo XVII', 'ANÓNIMO', 'Jazmín (Jasminum Grandiflorum)', 'Florero', 'Óleo sobre lienzo. Siglo XVII', 'ANÓNIMO', 'Jazmín (Jasminum Grandiflorum)', 'Guirnalda con Santa Teresa de Jesús', 'Óleo sobre lienzo. Siglo XVII', 'ANÓNIMO', 'Jazmín (Jasminum Grandiflorum)', 'Florero', 'Óleo sobre lienzo. Segunda mitad del siglo XVII', 'ANÓNIMO', 'Jazmín (Jasminum Grandiflorum)', 'Florero', 'Óleo sobre lienzo. Segunda mitad del siglo XVII', 'ANÓNIMO', 'Jazmín (Jasminum Grandiflorum)', 'Retrato de María Isabel de Austria, hija del emperador Leopoldo I', 'Óleo sobre lienzo. Hacia 1695', 'ANÓNIMO', 'Jazmín (Jasminum Grandiflorum)', 'La diosa Flora', 'Óleo sobre lienzo. Hacia 1697', 'GIORDANO, LUCA - PINTOR; BELVEDERE, ANDREA - PINTOR', 'Jazmín (Jasminum Grandiflorum)', 'La diosa Flora', 'Óleo sobre lienzo. Hacia 1625', 'RUBENS, PEDRO PABLO (TALLER DE)', 'Jazmín (Jasminum Grandiflorum)', 'Vase of Flowers', 'Óleo sobre tabla. 1600 - 1625', 'BRUEGHEL EL VIEJO, JAN', 'Jazmín (Jasminum Grandiflorum)', 'Florero', 'Óleo sobre lienzo. Primer cuarto del siglo XVII', 'BRUEGHEL EL VIEJO, JAN', 'Jazmín (Jasminum Grandiflorum)', 'Flores y frutas', 'Óleo sobre lienzo. 1887', 'RIVA Y CALLOL DE MUÑOZ, MARÍA LUISA DE LA', 'Kentia (Howea Forsteriana)', 'Amor Divino y Amor Profano', 'Óleo sobre lienzo. 1813', 'MADRAZO Y AGUDO, JOSÉ DE', 'Laurel ( Laurus Nobilis)', 'La Castidad', 'Óleo sobre lienzo. 1770 - 1771', 'CASTILLO, JOSÉ DEL', 'Laurel ( Laurus Nobilis)', 'La Religión socorrida por España', 'Óleo sobre lienzo. 1572 - 1575', 'TIZIANO, VECELLIO DI GREGORIO', 'Laurel ( Laurus Nobilis)', 'Ofrenda a Pericles', 'Óleo sobre lienzo. Hacia 1890', 'HERNÁNDEZ AMORES, GERMÁN', 'Laurel ( Laurus Nobilis)', 'Tocador de una dama romana', 'Óleo sobre lienzo. Hacia 1895', 'JIMÉNEZ MARTÍN, JUAN', 'Laurel ( Laurus Nobilis)', 'La Armonía (¿Las tres Gracias?)', 'Óleo sobre tabla. 1541 - 1544', 'BALDUNG GRIEN, HANS', 'Laurel ( Laurus Nobilis)', 'Alegoría de la Templanza', 'Óleo sobre tabla. 1513 - 1516', 'BERRUGUETE, ALONSO', 'Laurel ( Laurus Nobilis)', 'La Religión socorrida por España', 'Albúmina sobre cartulina. 1874 - 1899', 'J. LAURENT Y CÍA - FOTÓGRAFO - (AUTOR DE LA OBRA ORIGINAL: TIZIANO, VECELLIO DI GREGORIO)', 'Laurel ( Laurus Nobilis)', 'Proyecto escultórico', 'Aguada agrisada, Lápiz negro, Pluma sobre papel agarbanzado...', 'BIGARI, VITTORIO MARIA', 'Laurel ( Laurus Nobilis)', 'Cartela decorativa', 'Lápiz negro sobre papel blanco. Siglo XVIII', 'ZUGNO, FRANCESCO', 'Laurel ( Laurus Nobilis)', 'Fray José de la Purificación', 'Talla dulce: aguafuerte y buril sobre papel verjurado. 1774', 'SALVADOR CARMONA, MANUEL - GRABADOR; GONZÁLEZ VELÁZQUEZ, ANTONIO -...', 'Laurel ( Laurus Nobilis)', 'Isabel II, reina de España – Exposición de Agricultura, Madrid, 1857', 'Acuñación. 1857', 'BOUVET, LOUIS-CHARLES', 'Laurel ( Laurus Nobilis)', 'Jarrón con asas', 'Porcelana tierna. 1784 - 1803', 'REAL FÁBRICA DE PORCELANA DEL BUEN RETIRO', 'Laurel ( Laurus Nobilis)', 'Conmemoración de la cesión del Patrimonio Real por la reina Isabel II', 'Acuñación. 1865', 'CARRASCO Y CASTELL, ATANASIO - MEDALLISTA; PACHECO, M. - EDITOR', 'Laurel ( Laurus Nobilis)', 'Premio de la Academia de Ciencias Morales y Políticas', 'Acuñación. Hacia 1857', 'MARCHIONNI Y HOMBRÓN, LUIS', 'Laurel ( Laurus Nobilis)', 'A Francisco Martínez de la Rosa, en su muerte', 'Acuñación. Después de 1862', 'FERNÁNDEZ PESCADOR, EDUARDO ; ESTRUCH, ALBERTO', 'Laurel ( Laurus Nobilis)', 'Marco de Anna Escher von Muralt', 'Tallado, Ensamblado a espiga pasante, Dorado al agua. Hacia 1800', 'ANÓNIMO', 'Laurel ( Laurus Nobilis)', 'El Olfato', 'Óleo sobre tabla. 1617 - 1618', 'RUBENS, PEDRO PABLO ; BRUEGHEL EL VIEJO, JAN', 'Lilas (Syringa Vulgaris)', 'Preparativos para las Flores de Mayo', 'Óleo sobre lienzo. Hacia 1892', 'HERRER Y RODRÍGUEZ, JOAQUÍN MARÍA', 'Lilas (Syringa Vulgaris)', 'Florero', 'Óleo sobre lienzo. Siglo XVII', 'NUZZI, MARIO', 'Lilas (Syringa Vulgaris)', 'Francisca Aparicio y Mérida, marquesa de Vistabella', 'Óleo sobre lienzo. 1892', 'MASRIERA Y MANOVENS, FRANCISCO', 'Lilas (Syringa Vulgaris)', 'Flores y frutas', 'Óleo sobre lienzo. 1887', 'RIVA Y CALLOL DE MUÑOZ, MARÍA LUISA DE LA', 'Lilas (Syringa Vulgaris)', 'Guirnalda rodeando a la Virgen María', 'Óleo sobre lámina de cobre. 1640 - 1660', 'VERENDAEL, NICOLAES VAN', 'Lilas (Syringa Vulgaris)', 'Vase of Lilacs', 'Óleo sobre lienzo. Hacia 1890', 'FRANCÉS Y ARRIBAS, FERNANDA', 'Lilas (Syringa Vulgaris)', 'Copa con flores', 'Óleo sobre lienzo. Hacia 1890', 'GAMBA DE PREYDOUR, JULES-ALEXANDRE', 'Lilas (Syringa Vulgaris)', 'Florinda', 'Óleo sobre lienzo. 1894', 'ROBLES Y MARTÍNEZ, JOSÉ', 'Lilas (Syringa Vulgaris)', 'Marco de El pintor Francisco de Goya', 'Moldeado, Ensamblado, Dorado al agua. Hacia 1826', 'ANÓNIMO', 'Lilas (Syringa Vulgaris)', 'Marco de Josefa Manzanedo e Intentas de Mitjans, II marquesa de...', 'Tallado, Dorado a fuego / de molido / al mercurio / ormolú...', 'GUERET FRÈRES - FABRICANTE', 'Lilas (Syringa Vulgaris)', 'Guirnalda con el Valor y la Abundancia', 'Óleo sobre tabla. Siglo XVII', 'ANÓNIMO', 'Lilium (Lilium Spp.)', 'Guirnalda con la Sagrada Familia', 'Óleo sobre lámina de cobre. Siglo XVII', 'ANÓNIMO', 'Lilium (Lilium Spp.)', 'Florero', 'Óleo sobre lienzo. Siglo XVII', 'ANÓNIMO', 'Lilium (Lilium Spp.)', 'Florero', 'Óleo sobre lienzo. Siglo XVII', 'ANÓNIMO', 'Lilium (Lilium Spp.)', 'Dama veneciana', 'Óleo sobre lienzo. Mediados del siglo XVII', 'ANÓNIMO', 'Lilium (Lilium Spp.)', 'Sagrada Familia con San Juanito en una orla de flores', 'Óleo sobre lienzo. Finales del siglo XVII', 'ANÓNIMO', 'Lilium (Lilium Spp.)', 'La diosa Flora', 'Óleo sobre lienzo. Hacia 1697', 'GIORDANO, LUCA - PINTOR; BELVEDERE, ANDREA - PINTOR', 'Lilium (Lilium Spp.)', 'La Virgen y el Niño en un cuadro rodeado de flores y frutas', 'Óleo sobre tabla. 1617 - 1620', 'RUBENS, PEDRO PABLO ; BRUEGHEL EL VIEJO, JAN', 'Lilium (Lilium Spp.)', 'La diosa Flora', 'Óleo sobre lienzo. Hacia 1625', 'RUBENS, PEDRO PABLO (TALLER DE)', 'Lilium (Lilium Spp.)', 'Florero', 'Óleo sobre tabla. Primer cuarto del siglo XVII', 'BRUEGHEL EL VIEJO, JAN', 'Lilium (Lilium Spp.)', 'Florero', 'Óleo sobre lienzo. Primer cuarto del siglo XVII', 'BRUEGHEL EL VIEJO, JAN', 'Lilium (Lilium Spp.)', 'Florero', 'Óleo sobre lienzo. Primer cuarto del siglo XVII', 'BRUEGHEL EL VIEJO, JAN', 'Lilium (Lilium Spp.)', 'La Abundancia y los Cuatro Elementos', 'Óleo sobre lámina de cobre. 1606', 'BRUEGHEL EL VIEJO, JAN ; CLERCK, HENDRIK DE', 'Lilium (Lilium Spp.)', 'La Abundancia y los Cuatro Elementos', 'Óleo sobre tabla. Hacia 1615', 'BALEN, HENDRICK VAN ; BRUEGHEL EL VIEJO, JAN', 'Lilium (Lilium Spp.)', 'El Olfato', 'Óleo sobre tabla. 1617 - 1618', 'RUBENS, PEDRO PABLO ; BRUEGHEL EL VIEJO, JAN', 'Lilium (Lilium Spp.)', 'Florero', 'Óleo sobre lienzo. Siglo XVII', 'PÉREZ, BARTOLOMÉ', 'Lilium (Lilium Spp.)', 'Florero con cuadriga vista de frente', 'Óleo sobre lienzo. 1643', 'HIEPES, TOMÁS', 'Lilium (Lilium Spp.)', 'Florero con cuadriga vista de perfil', 'Óleo sobre lienzo. 1643', 'HIEPES, TOMÁS', 'Lilium (Lilium Spp.)', 'San Juan Bautista', 'Óleo sobre tabla. 1490 - 1495', 'ANÓNIMO', 'Lirio (Iris Germanica)', 'La Virgen y el Niño con san Jerónimo, san Francisco, san José, san Agustín y...', 'Óleo sobre lienzo. Finales del siglo XVI', 'ANÓNIMO (OBRA COPIADA DE: VELASCO, LUIS DE)', 'Lirio (Iris Germanica)', 'Florero', 'Óleo sobre lienzo. Siglo XVII', 'ANÓNIMO', 'Lirio (Iris Germanica)', 'Guirnalda de flores rodeando a la Sagrada Familia', 'Óleo sobre lámina de cobre. Siglo XVII', 'ANÓNIMO', 'Lirio (Iris Germanica)', 'Florero', 'Óleo sobre lienzo. Siglo XVII', 'ANÓNIMO', 'Lirio (Iris Germanica)', 'Florero', 'Óleo sobre lienzo. Siglo XVII', 'ANÓNIMO', 'Lirio (Iris Germanica)', 'Florero', 'Óleo sobre lienzo. Siglo XVII', 'ANÓNIMO', 'Lirio (Iris Germanica)', 'Florero', 'Óleo sobre lienzo. Siglo XVII', 'ANÓNIMO (?: CORTE, GABRIEL DE LA)', 'Lirio (Iris Germanica)', 'Florero', 'Óleo sobre lienzo. Siglo XVII', 'ANÓNIMO', 'Lirio (Iris Germanica)', 'Florero', 'Óleo sobre lienzo. Siglo XVII', 'ANÓNIMO', 'Lirio (Iris Germanica)', 'Florero de rosas y lirios', 'Óleo sobre lienzo. Siglo XVII', 'ANÓNIMO', 'Lirio (Iris Germanica)', 'Sagrada Familia con San Juanito en una orla de flores', 'Óleo sobre lienzo. Finales del siglo XVII', 'ANÓNIMO', 'Lirio (Iris Germanica)', 'El Olfato', 'Óleo sobre tabla. 1617 - 1618', 'RUBENS, PEDRO PABLO ; BRUEGHEL EL VIEJO, JAN', 'Lirio (Iris Germanica)', 'La diosa Flora', 'Óleo sobre lienzo. Hacia 1625', 'RUBENS, PEDRO PABLO (TALLER DE)', 'Lirio (Iris Germanica)', 'Florero', 'Óleo sobre tabla. Primer cuarto del siglo XVII', 'BRUEGHEL EL VIEJO, JAN', 'Lirio (Iris Germanica)', 'Florero', 'Óleo sobre lienzo. Primer cuarto del siglo XVII', 'BRUEGHEL EL VIEJO, JAN', 'Lirio (Iris Germanica)', 'Florero', 'Óleo sobre lienzo. Primer cuarto del siglo XVII', 'BRUEGHEL EL VIEJO, JAN', 'Lirio (Iris Germanica)', 'Florero', 'Óleo sobre tabla. 1609 - 1615', 'BRUEGHEL EL VIEJO, JAN', 'Lirio (Iris Germanica)', 'Guirnalda con el Valor y la Abundancia', 'Óleo sobre tabla. Siglo XVII', 'ANÓNIMO', 'Madreselva (Lonicera)', 'Guirnalda de frutas con la Virgen y el Niño', 'Óleo sobre lienzo. Siglo XVII', 'ANÓNIMO', 'Madreselva (Lonicera)', 'Vase of Flowers', 'Óleo sobre tabla. 1600 - 1625', 'BRUEGHEL EL VIEJO, JAN', 'Madreselva (Lonicera)', 'Flores y frutas', 'Óleo sobre tabla. Hacia 1897', 'GESSA Y ARIAS, SEBASTIÁN', 'Madreselva (Lonicera)', 'Guirnalda con el Niño Jesús y san Juan', 'Óleo sobre lámina de cobre. Siglo XVII', 'KESSEL EL JOVEN, JAN VAN', 'Madreselva (Lonicera)', 'Guirnalda rodeando a la Virgen María', 'Óleo sobre lámina de cobre. 1640 - 1660', 'VERENDAEL, NICOLAES VAN', 'Madreselva (Lonicera)', 'Recuerdo de otoño', 'Óleo sobre lienzo. Hacia 1892', 'MENASSADE, EMILIA', 'Madreselva (Lonicera)', 'La Oración en el Huerto', 'Óleo sobre lienzo. 1857', 'ROCA Y DELGADO, MARIANO DE LA', 'Malva (Malva Sylvestris)', 'Florero', 'Óleo sobre tabla. Primer cuarto del siglo XVII', 'BRUEGHEL EL VIEJO, JAN', 'Malva Común (Malva Sylvestris)', 'San Felipe en hornacina rodeada de flores', 'Óleo sobre lámina de cobre. 1651', 'THIELEN, JAN PHILIP VAN', 'Malva Común (Malva Sylvestris)', 'Niña en un paisaje', 'Óleo sobre lienzo. 1847', 'RIBERA Y FIEVE, CARLOS LUIS DE', 'Malva Real / Malvarrosa (Althaea Rosea)', 'El Olfato', 'Óleo sobre tabla. 1617 - 1618', 'RUBENS, PEDRO PABLO ; BRUEGHEL EL VIEJO, JAN', 'Malva Real / Malvarrosa (Althaea Rosea)', 'Adán y Eva', 'Óleo sobre lienzo. 1628 - 1629', 'RUBENS, PEDRO PABLO (OBRA COPIADA DE: TIZIANO, VECELLIO DI GREGORIO)', 'Malva Real / Malvarrosa (Althaea Rosea)', 'Malvas reales', 'Óleo sobre lienzo. 1872 - 1873', 'FORTUNY Y MARSAL, MARIANO', 'Malva Real / Malvarrosa (Althaea Rosea)', 'Jardín de la casa de Fortuny', 'Óleo sobre tabla. 1872 - 1877', 'FORTUNY Y MARSAL, MARIANO ; MADRAZO Y GARRETA, RAIMUNDO DE', 'Malva Real / Malvarrosa (Althaea Rosea)', 'Rafaela Flores Calderón', 'Óleo sobre lienzo. Hacia 1842', 'ESQUIVEL Y SUÁREZ DE URBINA, ANTONIO MARÍA', 'Malva Real / Malvarrosa (Althaea Rosea)', 'Florero', 'Óleo sobre lienzo. Siglo XVII', 'PÉREZ, BARTOLOMÉ (ATRIBUIDO A)', 'Malva Real / Malvarrosa (Althaea Rosea)', 'Florero con cuadriga vista de frente', 'Óleo sobre lienzo. 1643', 'HIEPES, TOMÁS', 'Malva Real / Malvarrosa (Althaea Rosea)', 'Florero con cuadriga vista de perfil', 'Óleo sobre lienzo. 1643', 'HIEPES, TOMÁS', 'Malva Real / Malvarrosa (Althaea Rosea)', 'La Abundancia y los Cuatro Elementos', 'Óleo sobre tabla. Siglo XVII', 'BRUEGHEL EL JOVEN, JAN', 'Malva Real / Malvarrosa (Althaea Rosea)', 'La Abundancia', 'Óleo sobre lámina de cobre. Hacia 1625', 'BRUEGHEL EL JOVEN, JAN', 'Malva Real / Malvarrosa (Althaea Rosea)', 'Guirnalda de flores y paisaje', 'Óleo sobre lienzo. 1652', 'ARELLANO, JUAN DE', 'Malva Real / Malvarrosa (Althaea Rosea)', 'Guirnalda de flores con la Virgen, el Niño y San Juan', 'Óleo sobre lienzo. Primera mitad del siglo XVII', 'QUELLINUS, ERASMUS ; SEGHERS, DANIEL', 'Malva Real / Malvarrosa (Althaea Rosea)', 'Bodegón con florero y cachorro', 'Óleo sobre lienzo. Hacia 1625', 'HAMEN Y LEÓN, JUAN VAN DER', 'Malva Real / Malvarrosa (Althaea Rosea)', 'Florero', 'Óleo sobre lienzo. Siglo XVII', 'NUZZI, MARIO', 'Malva Real / Malvarrosa (Althaea Rosea)', 'La Abundancia y los Cuatro Elementos', 'Óleo sobre tabla. Hacia 1615', 'BALEN, HENDRICK VAN ; BRUEGHEL EL VIEJO, JAN', 'Malva Real / Malvarrosa (Althaea Rosea)', 'Guirnalda de flores con la Asunción de la Virgen', 'Óleo sobre lienzo. 1654', 'PONCE, ANTONIO', 'Malva Real / Malvarrosa (Althaea Rosea)', 'Guirnalda rodeando a la Virgen María', 'Óleo sobre lámina de cobre. 1640 - 1660', 'VERENDAEL, NICOLAES VAN', 'Malva Real / Malvarrosa (Althaea Rosea)', 'Manzanos (Normandía)', 'Óleo sobre lienzo pegado a lienzo. Hacia 1877', 'HAES, CARLOS DE', 'Manzano (Malus Domestica)', 'Adán y Eva', 'Óleo sobre lienzo. 1628 - 1629', 'RUBENS, PEDRO PABLO (OBRA COPIADA DE: TIZIANO, VECELLIO DI GREGORIO)', 'Manzano (Malus Domestica)', 'Adán y Eva', 'Óleo sobre lienzo. Hacia 1550', 'TIZIANO, VECELLIO DI GREGORIO', 'Manzano (Malus Domestica)', 'Tríptico del Jardín de las delicias', 'Grisalla, Óleo sobre tabla de madera de roble. 1490 - 1500', 'EL BOSCO', 'Manzano (Malus Domestica)', 'Frutas y flores', 'Óleo sobre lienzo. 1664', 'SON, JORIS VAN', 'Manzano (Malus Domestica)', 'El flauto mágico', 'Óleo sobre lienzo. 1895', 'ALCÁZAR RUIZ, MANUEL', 'Manzano (Malus Domestica)', 'Guirnalda rodeando a la Virgen María', 'Óleo sobre lámina de cobre. 1640 - 1660', 'VERENDAEL, NICOLAES VAN', 'Manzano (Malus Domestica)', 'Adán y Eva', 'Albúmina sobre cartulina. 1874 - 1899', 'J. LAURENT Y CÍA - FOTÓGRAFO - (AUTOR DE LA OBRA ORIGINAL: TIZIANO, VECELLIO DI GREGORIO)', 'Manzano (Malus Domestica)', 'Guirnalda de flores con Mercurio y Minerva', 'Óleo sobre tabla. 1811', 'ESPINÓS, BENITO', 'Matricaria / Botón de Plata (Chrysanthemum Parthenium)', 'Guirnalda con la Virgen, el Niño y dos ángeles', 'Óleo sobre lámina de cobre. Hacia 1619', 'BRUEGHEL EL VIEJO, JAN ; PROCACCINI, GIULIO CESARE', 'Minutisa (Dianthus Barbatus)', 'Frutero de Delft y dos floreros', 'Óleo sobre lienzo. 1642', 'HIEPES, TOMÁS', 'Mirto / Arrayán (Myrtus Communis)', 'Florero', 'Óleo sobre lámina de cobre. Siglo XVII', 'BRUEGHEL EL VIEJO, JAN', 'Moral Blanco / Morera (Morus Alba)', 'La Oración en el Huerto', 'Óleo sobre lienzo. 1857', 'ROCA Y DELGADO, MARIANO DE LA', 'Moral Blanco / Morera (Morus Alba)', 'Florero', 'Óleo sobre lienzo. Siglo XVII', 'ANÓNIMO', 'Muguet / Lirio del Valle (Convallaria Majalis)', 'La visión de san Huberto', 'Óleo sobre tabla. 1617 - 1620', 'RUBENS, PEDRO PABLO ; BRUEGHEL EL VIEJO, JAN', 'Muguet / Lirio del Valle (Convallaria Majalis)', 'La diosa Flora', 'Óleo sobre lienzo. Hacia 1625', 'RUBENS, PEDRO PABLO (TALLER DE)', 'Muguet / Lirio del Valle (Convallaria Majalis)', 'Florero', 'Óleo sobre tabla. Primer cuarto del siglo XVII', 'BRUEGHEL EL VIEJO, JAN', 'Muguet / Lirio del Valle (Convallaria Majalis)', 'Guirnalda con la Virgen, el Niño y dos ángeles', 'Óleo sobre lámina de cobre. Hacia 1619', 'BRUEGHEL EL VIEJO, JAN ; PROCACCINI, GIULIO CESARE', 'Muguet / Lirio del Valle (Convallaria Majalis)', 'El Olfato', 'Óleo sobre tabla. 1617 - 1618', 'RUBENS, PEDRO PABLO ; BRUEGHEL EL VIEJO, JAN', 'Muguet / Lirio del Valle (Convallaria Majalis)', 'Guirnalda de flores con Santa Teresa de Jesús', 'Óleo sobre lienzo. Hacia 1676', 'PÉREZ, BARTOLOMÉ', 'Muguet / Lirio del Valle (Convallaria Majalis)', 'Guirnalda con la Virgen, el Niño y san Juan', 'Óleo sobre tabla. Siglo XVII', 'SEGHERS, DANIEL ; SCHUT, CORNELIS', 'Muguet / Lirio del Valle (Convallaria Majalis)', 'Felipe de Medici, hijo de Francisco I', 'Óleo sobre lienzo. Hacia 1581', 'ALLORI, ALESSANDRO', 'Muguet / Lirio del Valle (Convallaria Majalis)', 'Florero', 'Óleo sobre tabla. 1787 - 1793', 'MALAINE, JOSEPH-LAURENT', 'Muguet / Lirio del Valle (Convallaria Majalis)', 'Guirnalda de flores rodeando a la Sagrada Familia', 'Óleo sobre lámina de cobre. Siglo XVII', 'ANÓNIMO', 'Mundillo / Bola de Nieve (Viburnum Opulus L.)', 'Guirnalda de flores con San José y el Niño', 'Óleo sobre lienzo. Siglo XVII', 'ANÓNIMO', 'Mundillo / Bola de Nieve (Viburnum Opulus L.)', 'Florero', 'Óleo sobre lienzo. Siglo XVII', 'ANÓNIMO (?: CORTE, GABRIEL DE LA)', 'Mundillo / Bola de Nieve (Viburnum Opulus L.)', 'Florero', 'Óleo sobre lienzo. Siglo XVII', 'ANÓNIMO', 'Mundillo / Bola de Nieve (Viburnum Opulus L.)', 'Florero', 'Óleo sobre lienzo. Siglo XVII', 'ANÓNIMO', 'Mundillo / Bola de Nieve (Viburnum Opulus L.)', 'Florero', 'Óleo sobre lienzo. Siglo XVII', 'ANÓNIMO', 'Mundillo / Bola de Nieve (Viburnum Opulus L.)', 'El Olfato', 'Óleo sobre tabla. 1617 - 1618', 'RUBENS, PEDRO PABLO ; BRUEGHEL EL VIEJO, JAN', 'Mundillo / Bola de Nieve (Viburnum Opulus L.)', 'El príncipe Baltasar Carlos', 'Óleo sobre lienzo. Hacia 1635', 'VELÁZQUEZ, DIEGO RODRÍGUEZ DE SILVA Y (TALLER DE)', 'Mundillo / Bola de Nieve (Viburnum Opulus L.)', 'Florero', 'Óleo sobre lienzo. Siglo XVII', 'PÉREZ, BARTOLOMÉ (ATRIBUIDO A)', 'Mundillo / Bola de Nieve (Viburnum Opulus L.)', 'Florero', 'Óleo sobre lienzo. Siglo XVII', 'PÉREZ, BARTOLOMÉ (ATRIBUIDO A)', 'Mundillo / Bola de Nieve (Viburnum Opulus L.)', 'Florero', 'Óleo sobre lienzo. Siglo XVII', 'ARELLANO, JUAN DE', 'Mundillo / Bola de Nieve (Viburnum Opulus L.)', 'Florero', 'Óleo sobre lienzo. 1660 - 1676', 'ARELLANO, JUAN DE', 'Mundillo / Bola de Nieve (Viburnum Opulus L.)', 'Cesta de flores', 'Óleo sobre lienzo. 1668 - 1670', 'ARELLANO, JUAN DE', 'Mundillo / Bola de Nieve (Viburnum Opulus L.)', 'Guirnalda con la Virgen y el Niño', 'Óleo sobre lienzo. Siglo XVII', 'SEGHERS, DANIEL', 'Mundillo / Bola de Nieve (Viburnum Opulus L.)', 'Bodegón con florero y perro', 'Óleo sobre lienzo. Hacia 1625', 'HAMEN Y LEÓN, JUAN VAN DER', 'Mundillo / Bola de Nieve (Viburnum Opulus L.)', 'Ofrenda a Flora', 'Óleo sobre lienzo. 1627', 'HAMEN Y LEÓN, JUAN VAN DER', 'Mundillo / Bola de Nieve (Viburnum Opulus L.)', 'Bodegón con alcachofas, flores y recipientes de vidrio', 'Óleo sobre lienzo. 1627', 'HAMEN Y LEÓN, JUAN VAN DER', 'Mundillo / Bola de Nieve (Viburnum Opulus L.)', 'Florero', 'Óleo sobre lienzo. Siglo XVII', 'CORTE, GABRIEL DE LA', 'Mundillo / Bola de Nieve (Viburnum Opulus L.)', 'Bodegón de hortalizas', 'Óleo sobre lienzo. Siglo XVII', 'ANÓNIMO', 'Nabo (Brassica Rapa)', 'El bebedor', 'Óleo sobre lienzo. 1777', 'GOYA Y LUCIENTES, FRANCISCO DE', 'Nabo (Brassica Rapa)', 'La cocina', 'Óleo sobre tabla. 1643', 'TENIERS, DAVID', 'Nabo (Brassica Rapa)', 'La Abundancia y los Cuatro Elementos', 'Óleo sobre tabla. Hacia 1615', 'BALEN, HENDRICK VAN ; BRUEGHEL EL VIEJO, JAN', 'Nabo (Brassica Rapa)', 'La Virgen y el Niño en un cuadro rodeado de flores y frutas', 'Óleo sobre tabla. 1617 - 1620', 'RUBENS, PEDRO PABLO ; BRUEGHEL EL VIEJO, JAN', 'Nabo (Brassica Rapa)', 'Bodegón', 'Óleo sobre lienzo. 1849', 'LUCAS VELÁZQUEZ, EUGENIO', 'Nabo (Brassica Rapa)', 'Filopómenes descubierto', 'Óleo sobre lienzo. Hacia 1609', 'RUBENS, PEDRO PABLO ; SNYDERS, FRANS', 'Nabo (Brassica Rapa)', 'El invierno', 'Óleo sobre lienzo. Siglo XVI', 'BASSANO, FRANCESCO (COPIA)', 'Nabo (Brassica Rapa)', 'Octubre (Escorpión)', 'Óleo sobre lienzo. Siglos XVI - XVII', 'BASSANO, FRANCESCO', 'Nabo (Brassica Rapa)', 'La Tierra', 'Óleo sobre lienzo. Siglo XVI', 'VOS, MARTIN DE', 'Nabo (Brassica Rapa)', 'La Abundancia y los Cuatro Elementos', 'Óleo sobre tabla. Siglo XVII', 'BRUEGHEL EL JOVEN, JAN', 'Nabo (Brassica Rapa)', 'Cibeles y las Estaciones dentro de un festón de frutas', 'Óleo sobre tabla. 1615 - 1618', 'BALEN, HENDRICK VAN ; BRUEGHEL EL JOVEN, JAN', 'Nabo (Brassica Rapa)', 'Vendedores de frutas', 'Óleo sobre lienzo. Hacia 1650', 'ESPINOSA, JERÓNIMO JACINTO', 'Nabo (Brassica Rapa)', 'La Abundancia y los Cuatro Elementos', 'Óleo sobre lámina de cobre. 1606', 'BRUEGHEL EL VIEJO, JAN ; CLERCK, HENDRIK DE', 'Nabo (Brassica Rapa)', 'Una despensa', 'Óleo sobre lienzo. 1642', 'UTRECHT, ADRIAEN VAN', 'Nabo (Brassica Rapa)', 'La cocina', 'Aguatinta litográfica, Litografía a lápiz, Raspador sobre papel...', 'LÓPEZ, JUAN ANTONIO - LITÓGRAFO - (AUTOR DE LA OBRA ORIGINAL: TENIERS, DAVID); MAD...', 'Nabo (Brassica Rapa)', 'La cocina', 'Aguatinta litográfica, Litografía a lápiz, Estampación sobre papel...', 'LÓPEZ, JUAN ANTONIO - LITÓGRAFO - (AUTOR DE LA OBRA ORIGINAL: TENIERS, DAVID); MAD...', 'Nabo (Brassica Rapa)', 'La cocina', 'Aguatinta litográfica, Litografía a lápiz, Raspador sobre papel...', 'LÓPEZ, JUAN ANTONIO - LITÓGRAFO - (AUTOR DE LA OBRA ORIGINAL: TENIERS, DAVID); MAD...', 'Nabo (Brassica Rapa)', 'Reinaldo enamorado de Armida, en la isla de Orontes', 'Óleo sobre lámina de cobre. 1628 - 1630', 'TENIERS, DAVID', 'Naranjo (Citrus X Sinensis)', 'El pabellón de Carlos V en los jardines del Alcázar de Sevilla', 'Óleo sobre tabla. 1868', 'MADRAZO Y GARRETA, RAIMUNDO DE', 'Naranjo (Citrus X Sinensis)', 'El vaso de agua', 'Óleo sobre lienzo. Hacia 1882', 'MORENO CARBONERO, JOSÉ', 'Naranjo (Citrus X Sinensis)', 'Bodegón', 'Óleo sobre tabla. Siglo XVII', 'COOSEMANS, ALEXANDER', 'Naranjo (Citrus X Sinensis)', 'Floreras', 'Óleo sobre lienzo. Hacia 1920', 'RICO Y CEJUDO, JOSÉ', 'Naranjo (Citrus X Sinensis)', 'San Juan Bautista', 'Óleo sobre tabla. 1490 - 1495', 'ANÓNIMO', 'Narciso (Narcissus Spp.)', 'Jardín con flores y frutas', 'Óleo sobre lienzo. Siglo XVII', 'ANÓNIMO', 'Narciso (Narcissus Spp.)', 'Guirnalda con la Sagrada Familia', 'Óleo sobre lámina de cobre. Siglo XVII', 'ANÓNIMO', 'Narciso (Narcissus Spp.)', 'Guirnalda de flores rodeando a la Sagrada Familia', 'Óleo sobre lámina de cobre. Siglo XVII', 'ANÓNIMO', 'Narciso (Narcissus Spp.)', 'Florero', 'Óleo sobre lienzo. Siglo XVII', 'ANÓNIMO', 'Narciso (Narcissus Spp.)', 'Florero', 'Óleo sobre lienzo. Siglo XVII', 'ANÓNIMO', 'Narciso (Narcissus Spp.)', 'Florero', 'Óleo sobre lienzo. Siglo XVII', 'ANÓNIMO (?: CORTE, GABRIEL DE LA)', 'Narciso (Narcissus Spp.)', 'Florero', 'Óleo sobre lienzo. Siglo XVII', 'ANÓNIMO', 'Narciso (Narcissus Spp.)', 'Florero', 'Óleo sobre lienzo. Siglo XVII', 'ANÓNIMO', 'Narciso (Narcissus Spp.)', 'Guirnalda con Santa Teresa de Jesús', 'Óleo sobre lienzo. Siglo XVII', 'ANÓNIMO', 'Narciso (Narcissus Spp.)', 'Un florero con una sandía y uvas', 'Óleo sobre lienzo. Siglo XVII', 'ANÓNIMO', 'Narciso (Narcissus Spp.)', 'Florero', 'Óleo sobre lienzo. Segunda mitad del siglo XVII', 'ANÓNIMO', 'Narciso (Narcissus Spp.)', 'El Olfato', 'Óleo sobre tabla. 1617 - 1618', 'RUBENS, PEDRO PABLO ; BRUEGHEL EL VIEJO, JAN', 'Narciso (Narcissus Spp.)', 'La diosa Flora', 'Óleo sobre lienzo. Hacia 1625', 'RUBENS, PEDRO PABLO (TALLER DE)', 'Narciso (Narcissus Spp.)', 'Florero', 'Óleo sobre tabla. Primer cuarto del siglo XVII', 'BRUEGHEL EL VIEJO, JAN', 'Narciso (Narcissus Spp.)', 'Florero', 'Óleo sobre lienzo. Primer cuarto del siglo XVII', 'BRUEGHEL EL VIEJO, JAN', 'Narciso (Narcissus Spp.)', 'Florero', 'Óleo sobre lienzo. Primer cuarto del siglo XVII', 'BRUEGHEL EL VIEJO, JAN', 'Narciso (Narcissus Spp.)', 'Florero', 'Óleo sobre lámina de cobre. Siglo XVII', 'BRUEGHEL EL VIEJO, JAN', 'Narciso (Narcissus Spp.)', 'Amorcillos con guirnalda de flores', 'Óleo sobre lienzo. Siglo XVII', 'ANÓNIMO', 'Nardo (Polianthes Tuberosa)', 'Florero', 'Óleo sobre lienzo. Siglo XVII', 'ANÓNIMO', 'Nardo (Polianthes Tuberosa)', 'Florero', 'Óleo sobre lienzo. 1650 - 1699', 'ANÓNIMO', 'Nardo (Polianthes Tuberosa)', 'Guirnalda de flores con el Salvador', 'Óleo sobre lienzo. Siglo XVII', 'PÉREZ, BARTOLOMÉ', 'Nardo (Polianthes Tuberosa)', 'Florero', 'Óleo sobre lienzo. 1678 - 1700', 'CAFFI, MARGARITA', 'Nardo (Polianthes Tuberosa)', 'Florero', 'Óleo sobre lienzo. 1694 - 1700', 'BELVEDERE, ANDREA', 'Nardo (Polianthes Tuberosa)', 'Florero', 'Óleo sobre lienzo. 1694 - 1700', 'BELVEDERE, ANDREA', 'Nardo (Polianthes Tuberosa)', 'Flores y frutas', 'Óleo sobre lienzo. 1887', 'RIVA Y CALLOL DE MUÑOZ, MARÍA LUISA DE LA', 'Nardo (Polianthes Tuberosa)', 'Bodegón (Hombre con mono y frutas)', 'Óleo sobre lienzo. 1660 - 1670', 'BRUEGHEL, ABRAHAM (ATRIBUIDO A); COURTOIS, GUILLAUME (ATRIBUIDO A)', 'Nardo (Polianthes Tuberosa)', 'Marco de Anna Escher von Muralt', 'Tallado, Ensamblado a espiga pasante, Dorado al agua. Hacia 1800', 'ANÓNIMO', 'Nardo (Polianthes Tuberosa)', 'Guirnalda con el Niño Jesús y san Juan', 'Óleo sobre lámina de cobre. Siglo XVII', 'KESSEL EL JOVEN, JAN VAN', 'Nomeolvides (Myosotis)', 'La Inmaculada de El Escorial', 'Óleo sobre lienzo. Hacia 1665', 'MURILLO, BARTOLOMÉ ESTEBAN', 'Olivo (Olea Europaea)', \"La Inmaculada ''de Aranjuez''\", 'Óleo sobre lienzo. Hacia 1675', 'MURILLO, BARTOLOMÉ ESTEBAN', 'Olivo (Olea Europaea)', 'Alegoría de la Justicia y la Paz', 'Óleo sobre lienzo. 1753 - 1754', 'GIAQUINTO, CORRADO', 'Olivo (Olea Europaea)', 'La Oración en el Huerto', 'Óleo sobre lienzo. 1857', 'ROCA Y DELGADO, MARIANO DE LA', 'Olivo (Olea Europaea)', 'San Pedro Nolasco', 'Óleo sobre lienzo. Hacia 1655', 'CRAYER, GASPAR DE', 'Olivo (Olea Europaea)', 'El nacimiento de Venus', 'Óleo sobre lienzo. 1860', 'GÓMEZ CROS, ANTONIO', 'Olivo (Olea Europaea)', 'La Inmaculada del Escorial', 'Albúmina sobre cartulina. 1874 - 1899', 'J. LAURENT Y CÍA - FOTÓGRAFO - (AUTOR DE LA OBRA ORIGINAL: MURILLO, BARTOLOMÉ ESTEBAN)', 'Olivo (Olea Europaea)', 'Ángeles para una Inmaculada', 'Aguada parda, Pluma, Preparado a lápiz sobre papel verjurado...', 'PEREDA Y SALGADO, ANTONIO DE', 'Olivo (Olea Europaea)', 'La Inmaculada Concepción de El Escorial', 'Aguatinta litográfica, Litografía a lápiz, Litografía a pluma...', 'DECRAENE, FLORENTINO - LITÓGRAFO - (AUTOR DE LA OBRA ORIGINAL: MURILLO, BARTOLOMÉ...', 'Olivo (Olea Europaea)', 'Paisaje (Olivos)', 'Aguafuerte sobre papel avitelado. Hacia 1862', 'HAES, CARLOS DE - GRABADOR; CALCOGRAFÍA NACIONAL - EDITOR', 'Olivo (Olea Europaea)', 'Carlos de Borbón y Farnesio (Carlos VII de Nápoles y Sicilia, futuro Carlos III...', 'Acuñación. 1735', 'SCHEPER, LIVIO VITTORIO', 'Olivo (Olea Europaea)', 'A Salustiano de Olózaga', 'Acuñación. 1861', 'ESTRUCH, ALBERTO', 'Olivo (Olea Europaea)', 'Gobierno Provisional de 1868', 'Acuñación. 1868', 'MARCHIONNI Y HOMBRÓN, LUIS', 'Olivo (Olea Europaea)', 'El Olfato', 'Óleo sobre tabla. 1617 - 1618', 'RUBENS, PEDRO PABLO ; BRUEGHEL EL VIEJO, JAN', 'Olmo Blanco Europeo (Ulmus Laevis Pall)', 'Santo Tomás y un donante', 'Óleo sobre tabla. Hacia 1528', 'BENSON, AMBROSIUS', 'Ortiga Mayor (Urtica Dioica)', 'El Pecado Original. Pintura mural de la ermita de la Vera Cruz de...', 'Pintura al fresco sobre revestimiento mural trasladado a lienzo. Siglo XII', 'ANÓNIMO', 'Palmera (Phoenix Dactylifera)', 'Jesús y la samaritana', 'Óleo sobre tabla. Siglo XVI', 'ANÓNIMO', 'Palmera (Phoenix Dactylifera)', 'Palmeras de Elche', 'Óleo sobre cartón. Hacia 1861', 'HAES, CARLOS DE', 'Palmera (Phoenix Dactylifera)', 'Un bosque de palmeras (Elche)', 'Óleo sobre papel pegado en cartón. Hacia 1861', 'HAES, CARLOS DE', 'Palmera (Phoenix Dactylifera)', 'El Tránsito de la Virgen', 'Óleo sobre tabla. 1546 - 1550', 'CORREA DE VIVAR, JUAN', 'Palmera (Phoenix Dactylifera)', 'The Immaculate Conception', 'Óleo sobre lienzo. Siglo XVII', 'RIZI, FRANCISCO', 'Palmera (Phoenix Dactylifera)', 'La Inmaculada Concepción', 'Óleo sobre lienzo. 1767 - 1769', 'TIEPOLO, GIAMBATTISTA', 'Palmera (Phoenix Dactylifera)', 'Tríptico del Jardín de las delicias', 'Grisalla, Óleo sobre tabla de madera de roble. 1490 - 1500', 'EL BOSCO', 'Palmera (Phoenix Dactylifera)', 'La Inmaculada Concepción', 'Óleo sobre lienzo. 1733', 'MELÉNDEZ, MIGUEL JACINTO', 'Palmera (Phoenix Dactylifera)', 'Ofrenda a Pericles', 'Óleo sobre lienzo. Hacia 1890', 'HERNÁNDEZ AMORES, GERMÁN', 'Palmera (Phoenix Dactylifera)', 'Niño en la Puerta de la Torreta de Buñol (Valencia)', 'Gelatina / colodión sobre placa de vidrio. Antes de 1918', 'ANÓNIMO - FOTÓGRAFO', 'Palmera (Phoenix Dactylifera)', 'Vista de la ciudad de Argel desde un palmeral (Argelia)', 'Albúmina sobre papel fotográfico. Último tercio del siglo XX', 'ANÓNIMO - FOTÓGRAFO', 'Palmera (Phoenix Dactylifera)', 'La Inmaculada Concepción', 'Albúmina sobre cartulina. 1874 - 1899', 'J. LAURENT Y CÍA - FOTÓGRAFO - (AUTOR DE LA OBRA ORIGINAL: TIEPOLO, GIAMBATTISTA)', 'Palmera (Phoenix Dactylifera)', 'Descanso en la Huida a Egipto / Muerte de Germánico', 'Aguada agrisada, Lápiz negro, Pluma sobre papel agarbanzado...', 'ANÓNIMO', 'Palmera (Phoenix Dactylifera)', 'San Francisco Javier bautizando indios', 'Preparado a lápiz, Aguada parda sobre papel verjurado, amarillento...', 'ANÓNIMO (COPIA: LÓPEZ PORTAÑA, VICENTE)', 'Palmera (Phoenix Dactylifera)', 'La predicación de san Juan Bautista', 'Aguada parda, Pluma sobre papel verjurado, amarillento. 1785', 'PARET Y ALCÁZAR, LUIS', 'Palmera (Phoenix Dactylifera)', 'El Tiempo muestra a Europa el libro perdido de las Décadas de Tito Livio', 'Aguafuerte sobre papel verjurado. 1745 - 1804', 'ANÓNIMO - GRABADOR; TAYLOR (I), ISAAC - GRABADOR', 'Palmera (Phoenix Dactylifera)', 'Palmeras (Lavanderas)', 'Aguafuerte sobre papel. Hacia 1862', 'HAES, CARLOS DE', 'Palmera (Phoenix Dactylifera)', 'Florero', 'Óleo sobre lienzo. Siglo XVII', 'PÉREZ, BARTOLOMÉ', 'Pasionaria / Flor de la Pasión (Passiflora Caerulea)', 'Guirnalda de flores con San Antonio de Padua', 'Óleo sobre lienzo. Después de 1689', 'PÉREZ, BARTOLOMÉ', 'Pasionaria / Flor de la Pasión (Passiflora Caerulea)', 'Guirnalda de flores con Mercurio y Minerva', 'Óleo sobre tabla. 1811', 'ESPINÓS, BENITO', 'Pasionaria / Flor de la Pasión (Passiflora Caerulea)', 'Florero', 'Óleo sobre lienzo. Siglo XVII', 'ANÓNIMO', 'Pensamiento (Viola Tricolor)', 'Guirnalda de frutas con la Virgen y el Niño', 'Óleo sobre lienzo. Siglo XVII', 'ANÓNIMO', 'Pensamiento (Viola Tricolor)', 'Niña en un paisaje', 'Óleo sobre lienzo. 1847', 'RIBERA Y FIEVE, CARLOS LUIS DE', 'Pensamiento (Viola Tricolor)', 'El Olfato', 'Óleo sobre tabla. 1617 - 1618', 'RUBENS, PEDRO PABLO ; BRUEGHEL EL VIEJO, JAN', 'Pensamiento (Viola Tricolor)', 'La diosa Flora', 'Óleo sobre lienzo. Hacia 1625', 'RUBENS, PEDRO PABLO (TALLER DE)', 'Pensamiento (Viola Tricolor)', 'Florero', 'Óleo sobre tabla. Primer cuarto del siglo XVII', 'BRUEGHEL EL VIEJO, JAN', 'Pensamiento (Viola Tricolor)', 'Florero', 'Óleo sobre tabla. 1609 - 1615', 'BRUEGHEL EL VIEJO, JAN', 'Pensamiento (Viola Tricolor)', 'Florero', 'Óleo sobre tabla. 1615', 'BRUEGHEL EL VIEJO, JAN', 'Pensamiento (Viola Tricolor)', 'Tríptico del Jardín de las delicias', 'Grisalla, Óleo sobre tabla de madera de roble. 1490 - 1500', 'EL BOSCO', 'Pensamiento (Viola Tricolor)', 'Guirnalda con la Adoración de los Reyes Magos', 'Óleo sobre lámina de cobre. Siglos XVI - XVII', 'BRUEGHEL EL JOVEN, PIETER', 'Pensamiento (Viola Tricolor)', 'Guirnalda de flores y paisaje', 'Óleo sobre lienzo. 1652', 'ARELLANO, JUAN DE', 'Pensamiento (Viola Tricolor)', 'Guirnalda con la Virgen y el Niño', 'Óleo sobre lienzo. Siglo XVII', 'SEGHERS, DANIEL', 'Pensamiento (Viola Tricolor)', 'Guirnalda con la Virgen y el Niño', 'Óleo sobre tabla. Siglo XVII', 'SEGHERS, DANIEL ; SCHUT, CORNELIS', 'Pensamiento (Viola Tricolor)', 'Guirnalda con la Virgen, el Niño y san Juan', 'Óleo sobre tabla. Siglo XVII', 'SEGHERS, DANIEL ; SCHUT, CORNELIS', 'Pensamiento (Viola Tricolor)', 'Guirnalda con la Virgen y el Niño', 'Óleo sobre lámina de cobre. Siglo XVII', 'SEGHERS, DANIEL ; SCHUT, CORNELIS (?)', 'Pensamiento (Viola Tricolor)', 'La Virgen y el Niño dentro de una guirnalda de flores', 'Óleo sobre lienzo. Siglo XVII', 'SEGHERS, DANIEL (COPIA)', 'Pensamiento (Viola Tricolor)', 'Santa Ana, la Virgen y el Niño', 'Óleo sobre tabla. 1525 - 1550', 'BENSON, AMBROSIUS', 'Pensamiento (Viola Tricolor)', 'La Virgen con el Niño y dos ángeles que la coronan', 'Óleo sobre tabla. Hacia 1520', 'DAVID, GÉRARD', 'Pensamiento (Viola Tricolor)', 'Guirnalda con Santa Teresa de Jesús', 'Óleo sobre lienzo. Siglo XVII', 'ANÓNIMO', 'Peonía (Paeonia)', 'El Olfato', 'Óleo sobre tabla. 1617 - 1618', 'RUBENS, PEDRO PABLO ; BRUEGHEL EL VIEJO, JAN', 'Peonía (Paeonia)', 'Florero', 'Óleo sobre lienzo. Primer cuarto del siglo XVII', 'BRUEGHEL EL VIEJO, JAN', 'Peonía (Paeonia)', 'Florero', 'Óleo sobre lienzo. Primer cuarto del siglo XVII', 'BRUEGHEL EL VIEJO, JAN', 'Peonía (Paeonia)', 'Florero', 'Óleo sobre lienzo. Siglo XVII', 'PÉREZ, BARTOLOMÉ (ATRIBUIDO A)', 'Peonía (Paeonia)', 'La Tierra', 'Óleo sobre lienzo. Siglo XVI', 'VOS, MARTIN DE', 'Peonía (Paeonia)', 'La Vista y el Olfato', 'Óleo sobre lienzo. Hacia 1620', 'BALEN, HENDRICK VAN ; BRUEGHEL EL JOVEN, JAN ; FRANCKEN II, FRANS ; VRANCX...', 'Peonía (Paeonia)', 'La Abundancia', 'Óleo sobre lámina de cobre. Hacia 1625', 'BRUEGHEL EL JOVEN, JAN', 'Peonía (Paeonia)', 'Guirnalda de flores con la Virgen, el Niño y San Juan', 'Óleo sobre lienzo. Primera mitad del siglo XVII', 'QUELLINUS, ERASMUS ; SEGHERS, DANIEL', 'Peonía (Paeonia)', 'Bodegón con florero y perro', 'Óleo sobre lienzo. Hacia 1625', 'HAMEN Y LEÓN, JUAN VAN DER', 'Peonía (Paeonia)', 'Ofrenda a Flora', 'Óleo sobre lienzo. 1627', 'HAMEN Y LEÓN, JUAN VAN DER', 'Peonía (Paeonia)', 'Floreros y cebollas', 'Óleo sobre lienzo. 1640 - 1642', 'NUZZI, MARIO', 'Peonía (Paeonia)', 'Floreros', 'Óleo sobre lienzo. 1640 - 1642', 'NUZZI, MARIO', 'Peonía (Paeonia)', 'Bodegón de flores', 'Óleo sobre lámina de cobre. 1633 - 1666', 'KESSEL EL VIEJO, JAN VAN', 'Peonía (Paeonia)', 'Guirnalda de flores con Mercurio y Minerva', 'Óleo sobre tabla. 1811', 'ESPINÓS, BENITO', 'Peonía (Paeonia)', 'Bodegón con flores, copa de plata dorada, almendras, frutos secos, dulces...', 'Óleo sobre tabla. 1611', 'PEETERS, CLARA', 'Peonía (Paeonia)', 'Florero', 'Óleo sobre lienzo. 1694 - 1700', 'BELVEDERE, ANDREA', 'Peonía (Paeonia)', 'Florero sobre una silla', 'Óleo sobre lienzo. 1844', 'PARRA ABRIL, MIGUEL', 'Peonía (Paeonia)', 'Guirnalda rodeando a la Virgen María', 'Óleo sobre lámina de cobre. 1640 - 1660', 'VERENDAEL, NICOLAES VAN', 'Peral (Pyrus Communis)', 'Pinares (San Vicente de la Barquera)', 'Óleo sobre lienzo pegado a lienzo. Hacia 1872', 'HAES, CARLOS DE', 'Pino ( Pinus Spp.)', 'Un paisaje del Guadarrama', 'Óleo sobre lienzo. 1858', 'RICO Y ORTEGA, MARTÍN', 'Pino ( Pinus Spp.)', 'Espinos en flor. Plantío de los Infantes', 'Óleo sobre lienzo. 1911', 'BERUETE, AURELIANO DE', 'Pino ( Pinus Spp.)', 'Pinos de Frascati', 'Óleo sobre lienzo. 1875', 'MORERA Y GALICIA, JAIME', 'Pino ( Pinus Spp.)', 'Pinos en la costa de Asturias', 'Óleo sobre tabla. Hacia 1889', 'LHARDY GARRIGUES, AGUSTÍN', 'Pino ( Pinus Spp.)', 'Escenas de La historia de Nastagio degli Onesti', 'Técnica mixta sobre tabla. 1483', 'BOTTICELLI, SANDRO', 'Pino ( Pinus Spp.)', 'El pino de Béjar', 'Óleo sobre lienzo. 1900', 'REGOYOS Y VALDÉS, DARÍO DE', 'Pino ( Pinus Spp.)', 'Paisaje (La caída de la tarde)', 'Óleo sobre lienzo. 1884', 'CÁNOVAS Y GALLARDO, ANDRÉS', 'Pino ( Pinus Spp.)', 'Paul de Castelfusano, cercanías de Roma, o Pantano de Castelfusano', 'Óleo sobre lienzo. 1869', \"ANDRADE, ALFREDO D'\", 'Pino ( Pinus Spp.)', 'Paisaje montañoso', 'Gelatina / colodión sobre placa de vidrio. Antes de 1918', 'ANÓNIMO - FOTÓGRAFO', 'Pino ( Pinus Spp.)', 'Las Navas', 'Grafito sobre papel avitelado. Hacia 1872', 'HAES, CARLOS DE', 'Pino ( Pinus Spp.)', 'Imagen de la Virgen del Pino', 'Talla dulce: aguafuerte y buril sobre papel verjurado. 1768', 'SALVADOR CARMONA, MANUEL - GRABADOR - (AUTOR DE LA OBRA ORIGINAL: FERNÁNDEZ, JORGE)...', 'Pino ( Pinus Spp.)', 'Puerto de la Morcuera (Guadarrama)', 'Óleo sobre lienzo. Hacia 1901', 'MORERA Y GALICIA, JAIME', 'Piorno (Cytisus Hispanicus)', 'Rafaela Flores Calderón', 'Óleo sobre lienzo. Hacia 1842', 'ESQUIVEL Y SUÁREZ DE URBINA, ANTONIO MARÍA', 'Pita (Agave Spp.)', 'Primer desembarco de Cristóbal Colón en América', 'Óleo sobre lienzo. 1862', 'PUEBLA Y TOLÍN, DIÓSCORO TEÓFILO', 'Pita (Agave Spp.)', 'Primer desembarco de Cristóbal Colón en América', 'Óleo sobre lienzo. 1862', 'PUEBLA Y TOLÍN, DIÓSCORO TEÓFILO', 'Platanera (Musa Paradisiaca)', 'Flores y frutas', 'Óleo sobre lienzo. 1887', 'RIVA Y CALLOL DE MUÑOZ, MARÍA LUISA DE LA', 'Plumbago (Plumbago Auriculata)', 'Guirnalda con la Sagrada Familia', 'Óleo sobre lámina de cobre. Siglo XVII', 'ANÓNIMO', 'Primavera (Primula Officinalis)', 'El Olfato', 'Óleo sobre tabla. 1617 - 1618', 'RUBENS, PEDRO PABLO ; BRUEGHEL EL VIEJO, JAN', 'Primavera (Primula Officinalis)', 'Ramillete de flores con lazo azul', 'Óleo sobre lienzo. 1780 - 1785', 'PARET Y ALCÁZAR, LUIS', 'Primavera (Primula Officinalis)', 'Guirnalda con el Valor y la Abundancia', 'Óleo sobre tabla. Siglo XVII', 'ANÓNIMO', 'Prímula (Primula Auricula)', 'Guirnalda con la Sagrada Familia', 'Óleo sobre lámina de cobre. Siglo XVII', 'ANÓNIMO', 'Prímula (Primula Auricula)', 'Guirnalda con Santa Teresa de Jesús', 'Óleo sobre lienzo. Siglo XVII', 'ANÓNIMO', 'Prímula (Primula Auricula)', 'Florero', 'Óleo sobre lienzo. Segunda mitad del siglo XVII', 'ANÓNIMO', 'Prímula (Primula Auricula)', 'La diosa Flora', 'Óleo sobre lienzo. Hacia 1697', 'GIORDANO, LUCA - PINTOR; BELVEDERE, ANDREA - PINTOR', 'Prímula (Primula Auricula)', 'Florero', 'Óleo sobre tabla. Primer cuarto del siglo XVII', 'BRUEGHEL EL VIEJO, JAN', 'Prímula (Primula Auricula)', 'Guirnalda con la Virgen, el Niño y dos ángeles', 'Óleo sobre lámina de cobre. Hacia 1619', 'BRUEGHEL EL VIEJO, JAN ; PROCACCINI, GIULIO CESARE', 'Prímula (Primula Auricula)', 'Florero', 'Óleo sobre tabla. 1615', 'BRUEGHEL EL VIEJO, JAN', 'Prímula (Primula Auricula)', 'El Olfato', 'Óleo sobre tabla. 1617 - 1618', 'RUBENS, PEDRO PABLO ; BRUEGHEL EL VIEJO, JAN', 'Prímula (Primula Auricula)', 'Ramillete de flores con lazo azul', 'Óleo sobre lienzo. 1780 - 1785', 'PARET Y ALCÁZAR, LUIS', 'Prímula (Primula Auricula)', 'Guirnalda de flores y paisaje', 'Óleo sobre lienzo. 1652', 'ARELLANO, JUAN DE', 'Prímula (Primula Auricula)', 'Guirnalda de flores y frutas con la Piedad', 'Óleo sobre lienzo. Siglo XVII', 'HUYNEN, CORNELIUS VAN', 'Prímula (Primula Auricula)', 'Guirnalda con tres amores', 'Óleo sobre tabla. Hacia 1646', 'LUYCKS, CHRISTIAAN', 'Prímula (Primula Auricula)', 'San Felipe en hornacina rodeada de flores', 'Óleo sobre lámina de cobre. 1651', 'THIELEN, JAN PHILIP VAN', 'Prímula (Primula Auricula)', 'Florero', 'Óleo sobre lienzo. Siglo XVII', 'ANÓNIMO', 'Retama Amarilla (Retama Sphaerocarpa)', 'Guirnalda con Santa Teresa de Jesús', 'Óleo sobre lienzo. Siglo XVII', 'ANÓNIMO', 'Retama Amarilla (Retama Sphaerocarpa)', 'Florero', 'Óleo sobre lienzo. Siglo XVII', 'ANÓNIMO', 'Retama Amarilla (Retama Sphaerocarpa)', 'Florero con cuadriga vista de frente', 'Óleo sobre lienzo. 1643', 'HIEPES, TOMÁS', 'Retama Amarilla (Retama Sphaerocarpa)', 'Guirnalda de flores y paisaje', 'Óleo sobre lienzo. 1652', 'ARELLANO, JUAN DE', 'Retama Amarilla (Retama Sphaerocarpa)', 'Ofrenda a Flora', 'Óleo sobre lienzo. 1627', 'HAMEN Y LEÓN, JUAN VAN DER', 'Retama Amarilla (Retama Sphaerocarpa)', 'Bodegón con alcachofas, flores y recipientes de vidrio', 'Óleo sobre lienzo. 1627', 'HAMEN Y LEÓN, JUAN VAN DER', 'Retama Amarilla (Retama Sphaerocarpa)', 'Guirnalda de flores con la Asunción de la Virgen', 'Óleo sobre lienzo. 1654', 'PONCE, ANTONIO', 'Retama Amarilla (Retama Sphaerocarpa)', 'Guirnalda rodeando a la Virgen María', 'Óleo sobre lámina de cobre. 1640 - 1660', 'VERENDAEL, NICOLAES VAN', 'Retama Amarilla (Retama Sphaerocarpa)', 'Guirnalda con la Virgen y el Niño', 'Óleo sobre lienzo. Siglo XVII', 'SEGHERS, DANIEL', 'Retama Negra (Cytisus Scoparius)', 'Guirnalda con florecillas y setas y escena de brujería', 'Óleo sobre tabla. Siglo XVII', 'ANÓNIMO', 'Roble (Quercus Spp.)', 'Una emboscada', 'Óleo sobre lienzo. Siglo XVII', 'ANÓNIMO', 'Roble (Quercus Spp.)', 'Grupo de robles (Picos de Europa)', 'Óleo sobre papel pegado en lienzo. Hacia 1874', 'HAES, CARLOS DE', 'Roble (Quercus Spp.)', 'Robles (Picos de Europa)', 'Óleo sobre papel pegado en lienzo. Hacia 1874', 'HAES, CARLOS DE', 'Roble (Quercus Spp.)', 'Montañas (Asturias)', 'Óleo sobre lienzo pegado a lienzo. Hacia 1874', 'HAES, CARLOS DE', 'Roble (Quercus Spp.)', 'Robledal (Alsasua)', 'Óleo sobre papel pegado en lienzo. Hacia 1875', 'HAES, CARLOS DE', 'Roble (Quercus Spp.)', 'Torrentera (Alsasua)', 'Óleo sobre papel pegado en lienzo. Hacia 1875', 'HAES, CARLOS DE', 'Roble (Quercus Spp.)', 'Peñas (Alsasua)', 'Óleo sobre lienzo pegado a lienzo. Hacia 1875', 'HAES, CARLOS DE', 'Roble (Quercus Spp.)', 'El sueño de Jacob', 'Óleo sobre lienzo. 1639', 'RIBERA, JOSÉ DE', 'Roble (Quercus Spp.)', 'Banquete de bodas presidido por los Archiduques', 'Óleo sobre lienzo. 1612 - 1613', 'BRUEGHEL EL VIEJO, JAN', 'Roble (Quercus Spp.)', 'Los Archiduques Isabel Clara Eugenia y Alberto en el Palacio de Tervuren en...', 'Óleo sobre lienzo. Hacia 1621', 'BRUEGHEL EL VIEJO, JAN', 'Roble (Quercus Spp.)', 'Mary, Lady Van Dyck', 'Óleo sobre lienzo. Hacia 1640', 'DYCK, ANTON VAN', 'Roble (Quercus Spp.)', 'La Tierra', 'Óleo sobre lienzo. Siglo XVI', 'VOS, MARTIN DE', 'Roble (Quercus Spp.)', 'Diana en un paisaje', 'Óleo sobre lienzo. 1739', 'LOO, LOUIS-MICHEL VAN', 'Roble (Quercus Spp.)', 'Paisaje con un castillo', 'Óleo sobre lienzo. Siglo XVII', 'COLLANTES, FRANCISCO', 'Roble (Quercus Spp.)', 'El pastorcito', 'Óleo sobre lienzo. 1887', 'RAMÍREZ IBÁÑEZ, MANUEL', 'Roble (Quercus Spp.)', 'Una carbayera. Asturias', 'Óleo sobre lienzo. 1886', 'RAMOS ARTAL, MANUEL', 'Roble (Quercus Spp.)', 'Recuerdos del Escorial de Abajo', 'Óleo sobre lienzo. 1864', 'PONZANO Y MUR, LUIS', 'Roble (Quercus Spp.)', 'Florero', 'Óleo sobre tabla. 1615', 'BRUEGHEL EL VIEJO, JAN', 'Romero (Rosmarinus Officinalis)', 'Guirnalda con la Adoración de los Reyes Magos', 'Óleo sobre lámina de cobre. Siglos XVI - XVII', 'BRUEGHEL EL JOVEN, PIETER', 'Romero (Rosmarinus Officinalis)', 'Frutas y flores', 'Óleo sobre lienzo. 1664', 'SON, JORIS VAN', 'Romero (Rosmarinus Officinalis)', 'Mesa con mantel, salero, taza dorada, pastel, jarra, plato de porcelana con...', 'Óleo sobre tabla. Hacia 1611', 'PEETERS, CLARA', 'Romero (Rosmarinus Officinalis)', 'Bodegón con flores, copa de plata dorada, almendras, frutos secos, dulces...', 'Óleo sobre tabla. 1611', 'PEETERS, CLARA', 'Romero (Rosmarinus Officinalis)', 'Guirnalda con la Virgen, el Niño y dos ángeles', 'Óleo sobre lámina de cobre. Hacia 1619', 'BRUEGHEL EL VIEJO, JAN ; PROCACCINI, GIULIO CESARE', 'Romero (Rosmarinus Officinalis)', 'Guirnalda rodeando a la Virgen María', 'Óleo sobre lámina de cobre. 1640 - 1660', 'VERENDAEL, NICOLAES VAN', 'Romero (Rosmarinus Officinalis)', 'Florero con rosas y otras flores', 'Óleo sobre tabla. 1799', 'ALABERT, SANTIAGO', 'Romero (Rosmarinus Officinalis)', 'La Anunciación', 'Óleo sobre lienzo. Finales del siglo XVI - Primer tercio del siglo XVII', 'ANÓNIMO (OBRA COPIADA DE: CARDUCHO, VICENTE)', 'Rosa (Rosa)', 'La Primavera', 'Óleo sobre lienzo. 1601 - 1650', 'ANÓNIMO', 'Rosa (Rosa)', 'Guirnalda con el Valor y la Abundancia', 'Óleo sobre tabla. Siglo XVII', 'ANÓNIMO', 'Rosa (Rosa)', 'Jardín con flores y frutas', 'Óleo sobre lienzo. Siglo XVII', 'ANÓNIMO', 'Rosa (Rosa)', 'Amorcillos con guirnalda de flores', 'Óleo sobre lienzo. Siglo XVII', 'ANÓNIMO', 'Rosa (Rosa)', 'Guirnalda con la Sagrada Familia', 'Óleo sobre lámina de cobre. Siglo XVII', 'ANÓNIMO', 'Rosa (Rosa)', 'Guirnalda de flores rodeando a la Sagrada Familia', 'Óleo sobre lámina de cobre. Siglo XVII', 'ANÓNIMO', 'Rosa (Rosa)', 'Florero', 'Óleo sobre lienzo. Siglo XVII', 'ANÓNIMO', 'Rosa (Rosa)', 'Florero', 'Óleo sobre lienzo. Siglo XVII', 'ANÓNIMO', 'Rosa (Rosa)', 'Guirnalda de flores con San José y el Niño', 'Óleo sobre lienzo. Siglo XVII', 'ANÓNIMO', 'Rosa (Rosa)', 'Florero', 'Óleo sobre lienzo. Siglo XVII', 'ANÓNIMO', 'Rosa (Rosa)', 'Florero', 'Óleo sobre lienzo. Siglo XVII', 'ANÓNIMO', 'Rosa (Rosa)', 'Florero', 'Óleo sobre lienzo. Siglo XVII', 'ANÓNIMO', 'Rosa (Rosa)', 'Florero', 'Óleo sobre lienzo. Siglo XVII', 'ANÓNIMO', 'Rosa (Rosa)', 'Guirnalda con Santa Teresa de Jesús', 'Óleo sobre lienzo. Siglo XVII', 'ANÓNIMO', 'Rosa (Rosa)', 'Florero', 'Óleo sobre lienzo. Siglo XVII', 'ANÓNIMO', 'Rosa (Rosa)', 'Un florero con una sandía y uvas', 'Óleo sobre lienzo. Siglo XVII', 'ANÓNIMO', 'Rosa (Rosa)', 'Florero', 'Óleo sobre lienzo. Siglo XVII', 'ANÓNIMO', 'Rosa (Rosa)', 'La vuelta de las hadas al lago', 'Óleo sobre lienzo. Hacia 1864', 'PUEBLA Y TOLÍN, DIÓSCORO TEÓFILO', 'Sauce (Salix)', 'San Felipe en hornacina rodeada de flores', 'Óleo sobre lámina de cobre. 1651', 'THIELEN, JAN PHILIP VAN', 'Saúco (Sambucus Nigra)', 'Florero con cuadriga vista de frente', 'Óleo sobre lienzo. 1643', 'HIEPES, TOMÁS', 'Tagetes / Clavelón de India (Tajetes Erecta)', 'Florero con cuadriga vista de perfil', 'Óleo sobre lienzo. 1643', 'HIEPES, TOMÁS', 'Tagetes / Clavelón de India (Tajetes Erecta)', 'Dos genios entre guirnaldas y ramos de flores', 'Óleo sobre lienzo. Finales del siglo XVII - Principio del siglo XVIII', 'BELVEDERE, ANDREA ; SOLIMENA, FRANCESCO', 'Tagetes / Clavelón de India (Tajetes Erecta)', 'Florero', 'Óleo sobre lienzo. Siglo XVII', 'NUZZI, MARIO', 'Tagetes / Clavelón de India (Tajetes Erecta)', 'Florero de plata volcado sobre un paño', 'Óleo sobre lienzo. 1640 - 1642', 'NUZZI, MARIO', 'Tagetes / Clavelón de India (Tajetes Erecta)', 'Bodegón de flores', 'Óleo sobre lámina de cobre. 1633 - 1666', 'KESSEL EL VIEJO, JAN VAN', 'Tagetes / Clavelón de India (Tajetes Erecta)', 'Florero', 'Óleo sobre lienzo. 1694 - 1700', 'BELVEDERE, ANDREA', 'Tagetes / Clavelón de India (Tajetes Erecta)', 'Sabina Seupham Spalding', 'Óleo sobre lienzo. 1846', 'MADRAZO Y KUNTZ, FEDERICO DE', 'Tejo (Taxus Baccata)', 'Guirnalda rodeando a la Virgen María', 'Óleo sobre lámina de cobre. 1640 - 1660', 'VERENDAEL, NICOLAES VAN', 'Tejo (Taxus Baccata)', 'El Olfato', 'Óleo sobre tabla. 1617 - 1618', 'RUBENS, PEDRO PABLO ; BRUEGHEL EL VIEJO, JAN', 'Trébol (Trifolium)', 'La visión de san Huberto', 'Óleo sobre tabla. 1617 - 1620', 'RUBENS, PEDRO PABLO ; BRUEGHEL EL VIEJO, JAN', 'Trébol (Trifolium)', 'Santa Ana, la Virgen, Santa Isabel, San Juan y Jesús niño', 'Óleo sobre tabla. 1525 - 1532', 'YÁÑEZ DE LA ALMEDINA, FERNANDO', 'Trébol (Trifolium)', 'Guirnalda con el Valor y la Abundancia', 'Óleo sobre tabla. Siglo XVII', 'ANÓNIMO', 'Tulipán (Tulipa Spp.)', 'Jardín con flores y frutas', 'Óleo sobre lienzo. Siglo XVII', 'ANÓNIMO', 'Tulipán (Tulipa Spp.)', 'Amorcillos con guirnalda de flores', 'Óleo sobre lienzo. Siglo XVII', 'ANÓNIMO', 'Tulipán (Tulipa Spp.)', 'Guirnalda con la Sagrada Familia', 'Óleo sobre lámina de cobre. Siglo XVII', 'ANÓNIMO', 'Tulipán (Tulipa Spp.)', 'Guirnalda de flores rodeando a la Sagrada Familia', 'Óleo sobre lámina de cobre. Siglo XVII', 'ANÓNIMO', 'Tulipán (Tulipa Spp.)', 'Florero', 'Óleo sobre lienzo. Siglo XVII', 'ANÓNIMO', 'Tulipán (Tulipa Spp.)', 'Florero', 'Óleo sobre lienzo. Siglo XVII', 'ANÓNIMO', 'Tulipán (Tulipa Spp.)', 'Guirnalda de flores con San José y el Niño', 'Óleo sobre lienzo. Siglo XVII', 'ANÓNIMO', 'Tulipán (Tulipa Spp.)', 'Florero', 'Óleo sobre lienzo. Siglo XVII', 'ANÓNIMO', 'Tulipán (Tulipa Spp.)', 'Florero', 'Óleo sobre lienzo. Siglo XVII', 'ANÓNIMO', 'Tulipán (Tulipa Spp.)', 'Florero', 'Óleo sobre lienzo. Siglo XVII', 'ANÓNIMO (?: CORTE, GABRIEL DE LA)', 'Tulipán (Tulipa Spp.)', 'Florero', 'Óleo sobre lienzo. Siglo XVII', 'ANÓNIMO', 'Tulipán (Tulipa Spp.)', 'Florero', 'Óleo sobre lienzo. Siglo XVII', 'ANÓNIMO', 'Tulipán (Tulipa Spp.)', 'Guirnalda con Santa Teresa de Jesús', 'Óleo sobre lienzo. Siglo XVII', 'ANÓNIMO', 'Tulipán (Tulipa Spp.)', 'Un florero con una sandía y uvas', 'Óleo sobre lienzo. Siglo XVII', 'ANÓNIMO', 'Tulipán (Tulipa Spp.)', 'Florero', 'Óleo sobre lienzo. Siglo XVII', 'ANÓNIMO', 'Tulipán (Tulipa Spp.)', 'Florero', 'Óleo sobre lienzo. 1650 - 1699', 'ANÓNIMO', 'Tulipán (Tulipa Spp.)', 'Florero', 'Óleo sobre lienzo. Segunda mitad del siglo XVII', 'ANÓNIMO', 'Tulipán (Tulipa Spp.)', 'La vendimia o El Otoño', 'Óleo sobre lienzo. 1786', 'GOYA Y LUCIENTES, FRANCISCO DE', 'Vid / Parra (Vitis Vinifera)', 'El Otoño', 'Óleo sobre lienzo. 1805 - 1806', 'MAELLA, MARIANO SALVADOR', 'Vid / Parra (Vitis Vinifera)', 'Los borrachos, o El triunfo de Baco', 'Óleo sobre lienzo. 1628 - 1629', 'VELÁZQUEZ, DIEGO RODRÍGUEZ DE SILVA Y', 'Vid / Parra (Vitis Vinifera)', 'Eugenia Martínez Vallejo, desnuda', 'Óleo sobre lienzo. Hacia 1680', 'CARREÑO DE MIRANDA, JUAN', 'Vid / Parra (Vitis Vinifera)', 'Venus, Adonis y Cupido', 'Óleo sobre lienzo. Hacia 1590', 'CARRACCI, ANNIBALE', 'Vid / Parra (Vitis Vinifera)', 'Paisaje con una vid', 'Óleo sobre lienzo. Hacia 1645', 'HIEPES, TOMÁS', 'Vid / Parra (Vitis Vinifera)', 'El Buen Pastor', 'Óleo sobre tabla. 1693', 'RUIZ GONZÁLEZ, PEDRO', 'Vid / Parra (Vitis Vinifera)', 'Parábola de los viñadores infieles', 'Óleo sobre tabla. Hacia 1611', 'GRIMMER, ABEL', 'Vid / Parra (Vitis Vinifera)', 'Bodegón ochavado con racimos de uvas', 'Óleo sobre lienzo. 1646', 'ESPINOSA, JUAN DE', 'Vid / Parra (Vitis Vinifera)', 'La vendimia', 'Óleo sobre lienzo. 1866', 'MARTÍ Y MONSÓ, JOSÉ', 'Vid / Parra (Vitis Vinifera)', 'Adán antes de comer el fruto', 'Óleo sobre lienzo. 1871', 'VERA Y CALVO, JUAN ANTONIO', 'Vid / Parra (Vitis Vinifera)', 'Un racimo de uvas', 'Óleo sobre lienzo. 1875', 'SERRANO Y BARTOLOMÉ, JOAQUINA', 'Vid / Parra (Vitis Vinifera)', 'Cuatro racimos de uvas colgando', 'Óleo sobre lienzo. Hacia 1636', 'FERNÁNDEZ \"EL LABRADOR\", JUAN', 'Vid / Parra (Vitis Vinifera)', 'Bodegón con cuatro racimos de uvas', 'Óleo sobre lienzo. Hacia 1636', 'FERNÁNDEZ \"EL LABRADOR\", JUAN', 'Vid / Parra (Vitis Vinifera)', 'Las fiestas de Baco', 'Óleo sobre lienzo. Hacia 1892', 'PICOLO LÓPEZ, MANUEL', 'Vid / Parra (Vitis Vinifera)', 'Bodegón', 'Óleo sobre tabla. Siglo XVII', 'COOSEMANS, ALEXANDER', 'Vid / Parra (Vitis Vinifera)', 'Familia en un jardín', 'Óleo sobre lienzo. 1679', 'KESSEL EL JOVEN, JAN VAN', 'Vid / Parra (Vitis Vinifera)', 'Bodegón de uvas y granadas', 'Óleo sobre tabla. 1781', 'FERRER, JOSÉ', 'Vid / Parra (Vitis Vinifera)', 'La visión de san Huberto', 'Óleo sobre tabla. 1617 - 1620', 'RUBENS, PEDRO PABLO ; BRUEGHEL EL VIEJO, JAN', 'Violeta (Viola)', 'Guirnalda con la Virgen, el Niño y dos ángeles', 'Óleo sobre lámina de cobre. Hacia 1619', 'BRUEGHEL EL VIEJO, JAN ; PROCACCINI, GIULIO CESARE', 'Violeta (Viola)', 'El Olfato', 'Óleo sobre tabla. 1617 - 1618', 'RUBENS, PEDRO PABLO ; BRUEGHEL EL VIEJO, JAN', 'Violeta (Viola)', 'Bodegón de flores', 'Óleo sobre lámina de cobre. 1633 - 1666', 'KESSEL EL VIEJO, JAN VAN', 'Violeta (Viola)', 'Santa Ana, la Virgen y el Niño', 'Óleo sobre tabla. 1525 - 1550', 'BENSON, AMBROSIUS', 'Violeta (Viola)', 'Mesa con mantel, salero, taza dorada, pastel, jarra, plato de porcelana con...', 'Óleo sobre tabla. Hacia 1611', 'PEETERS, CLARA', 'Violeta (Viola)', 'Vendedora de flores en Roma', 'Óleo sobre lienzo. Hacia 1908', 'BERMEJO SOBERA, JOSÉ', 'Violeta (Viola)', 'Guirnalda con florecillas y setas y escena de brujería', 'Óleo sobre tabla. Siglo XVII', 'ANÓNIMO', 'Zarzamora (Rubus)', 'La Anunciación', 'Óleo sobre lienzo. 1597 - 1600', 'EL GRECO', 'Zarzamora (Rubus)', 'Tríptico del Jardín de las delicias', 'Grisalla, Óleo sobre tabla de madera de roble. 1490 - 1500', 'EL BOSCO', 'Zarzamora (Rubus)', 'Guirnalda con Jesús y Santa Teresa', 'Óleo sobre lienzo. Siglo XVII', 'SEGHERS, DANIEL', 'Zarzamora (Rubus)', 'Guirnalda con el Niño Jesús y san Juan', 'Óleo sobre lámina de cobre. Siglo XVII', 'KESSEL EL JOVEN, JAN VAN', 'Zarzamora (Rubus)', 'Guirnalda de flores y frutas con la Piedad', 'Óleo sobre lienzo. Siglo XVII', 'HUYNEN, CORNELIUS VAN', 'Zarzamora (Rubus)', 'Guirnalda de frutas con la Sagrada Familia', 'Óleo sobre lienzo. Siglo XVII', 'HUYNEN, CORNELIUS VAN', 'Zarzamora (Rubus)', 'Guirnalda con paisaje', 'Óleo sobre lienzo. 1680 - 1700', 'YKENS, CATHARINA II', 'Zarzamora (Rubus)', 'Paisaje dentro de una guirnalda', 'Óleo sobre lienzo. Finales del siglo XVII', 'YKENS, CATHARINA II', 'Zarzamora (Rubus)', 'Las tres Gracias', 'Óleo sobre tabla de madera de roble. 1630 - 1635', 'RUBENS, PEDRO PABLO', 'Zulla / Pipirigallo (Hedysarum Coronarium)']\n"
     ]
    }
   ],
   "source": [
    "for i in range(0, len(data), 3):\n",
    "    titulo, fecha, autor = map(str.strip, data[i:i+3])\n",
    "    \n",
    "    resultados.extend([titulo, fecha, autor, 'Zulla / Pipirigallo (Hedysarum Coronarium)'])\n",
    "\n",
    "print(resultados)"
   ]
  },
  {
   "cell_type": "code",
   "execution_count": 494,
   "id": "bccc1071",
   "metadata": {},
   "outputs": [],
   "source": [
    "titulos = []\n",
    "fechas = []\n",
    "autores = []"
   ]
  },
  {
   "cell_type": "code",
   "execution_count": 495,
   "id": "4df012d0",
   "metadata": {},
   "outputs": [
    {
     "name": "stdout",
     "output_type": "stream",
     "text": [
      "Títulos: ['Las tres Gracias']\n",
      "Fechas: ['Óleo sobre tabla de madera de roble. 1630 - 1635']\n",
      "Autores: ['RUBENS, PEDRO PABLO']\n"
     ]
    }
   ],
   "source": [
    "# Itero sobre los elementos de la lista:\n",
    "for i in range(0, len(data), 3):\n",
    "    \n",
    "    # Divido cada elemento por las comas:\n",
    "    titulo, fecha, autor = map(str.strip, data[i:i+3])\n",
    "    \n",
    "    \n",
    "    titulos.append(titulo)\n",
    "    fechas.append(fecha)\n",
    "    autores.append(autor)\n",
    "\n",
    "\n",
    "print(\"Títulos:\", titulos)\n",
    "print(\"Fechas:\", fechas)\n",
    "print(\"Autores:\", autores)"
   ]
  },
  {
   "cell_type": "code",
   "execution_count": 17,
   "id": "44c655f8",
   "metadata": {},
   "outputs": [],
   "source": [
    "def scrapeo_flora_data(driver, url, flora_type):\n",
    "    driver.get(url)\n",
    "    data = driver.find_elements(By.XPATH, '//*[@id=\"panResultados\"]/div')[0].text.split('\\n')\n",
    "    \n",
    "    resultados = []\n",
    "    \n",
    "    for i in range(0, len(data), 3):\n",
    "        titulo, fecha, autor = map(str.strip, data[i:i+3])\n",
    "        resultados.extend([titulo, fecha, autor, flora_type])\n",
    "    \n",
    "    return resultados\n",
    "\n",
    "# Ejemplo de uso\n",
    "url_tulipan = 'https://www.museodelprado.es/coleccion/obras-de-arte?searchObras=tulipan%20(tulipa%20spp%20)'\n",
    "url_vid_parra = 'https://www.museodelprado.es/coleccion/obras-de-arte?searchObras=vid%20/%20parra%20(vitis%20vinifera)'\n",
    "\n",
    "flora_data_tulipan = scrapeo_flora_data(driver, url_tulipan, 'Tulipán (Tulipa Spp.)')\n",
    "flora_data_vid_parra = scrapeo_flora_data(driver, url_vid_parra, 'Vid / Parra (Vitis Vinifera)')\n"
   ]
  },
  {
   "cell_type": "code",
   "execution_count": 11,
   "id": "82a848e9",
   "metadata": {},
   "outputs": [],
   "source": [
    "def scrapeo_flora_data(driver, url, flora_type):\n",
    "    driver.get(url)\n",
    "    data = driver.find_elements(By.XPATH, '//*[@id=\"panResultados\"]/div')[0].text.split('\\n')\n",
    "    \n",
    "    resultados = []\n",
    "    \n",
    "    for i in range(0, len(data), 3):\n",
    "        titulo, fecha, autor = map(str.strip, data[i:i+3])\n",
    "        resultados.append([titulo, fecha, autor, flora_type])\n",
    "    \n",
    "    return resultados\n",
    "\n",
    "\n",
    "# Ejemplo de uso\n",
    "url_tulipan = 'https://www.museodelprado.es/coleccion/obras-de-arte?searchObras=tulipan%20(tulipa%20spp%20)'\n",
    "url_vid_parra = 'https://www.museodelprado.es/coleccion/obras-de-arte?searchObras=vid%20/%20parra%20(vitis%20vinifera)'\n",
    "\n",
    "flora_data_tulipan = scrapeo_flora_data(driver, url_tulipan, 'Tulipán (Tulipa Spp.)')\n",
    "flora_data_vid_parra = scrapeo_flora_data(driver, url_vid_parra, 'Vid / Parra (Vitis Vinifera)')\n",
    "\n",
    "columns = ['Titulo', 'Tecnica_Fecha', 'Autor', 'Flora']\n",
    "flora_df_tulipan = pd.DataFrame(flora_data_tulipan, columns=columns)\n",
    "flora_df_vid_parra = pd.DataFrame(flora_data_vid_parra, columns=columns)\n",
    "\n"
   ]
  },
  {
   "cell_type": "code",
   "execution_count": 5,
   "id": "57dcdaf6",
   "metadata": {},
   "outputs": [
    {
     "data": {
      "text/html": [
       "<div>\n",
       "<style scoped>\n",
       "    .dataframe tbody tr th:only-of-type {\n",
       "        vertical-align: middle;\n",
       "    }\n",
       "\n",
       "    .dataframe tbody tr th {\n",
       "        vertical-align: top;\n",
       "    }\n",
       "\n",
       "    .dataframe thead th {\n",
       "        text-align: right;\n",
       "    }\n",
       "</style>\n",
       "<table border=\"1\" class=\"dataframe\">\n",
       "  <thead>\n",
       "    <tr style=\"text-align: right;\">\n",
       "      <th></th>\n",
       "      <th>Titulo</th>\n",
       "      <th>Tecnica_Fecha</th>\n",
       "      <th>Autor</th>\n",
       "      <th>Flora</th>\n",
       "    </tr>\n",
       "  </thead>\n",
       "  <tbody>\n",
       "    <tr>\n",
       "      <th>0</th>\n",
       "      <td>La vendimia o El Otoño</td>\n",
       "      <td>Óleo sobre lienzo. 1786</td>\n",
       "      <td>GOYA Y LUCIENTES, FRANCISCO DE</td>\n",
       "      <td>Vid / Parra (Vitis Vinifera)</td>\n",
       "    </tr>\n",
       "    <tr>\n",
       "      <th>1</th>\n",
       "      <td>El Otoño</td>\n",
       "      <td>Óleo sobre lienzo. 1805 - 1806</td>\n",
       "      <td>MAELLA, MARIANO SALVADOR</td>\n",
       "      <td>Vid / Parra (Vitis Vinifera)</td>\n",
       "    </tr>\n",
       "    <tr>\n",
       "      <th>2</th>\n",
       "      <td>Los borrachos, o El triunfo de Baco</td>\n",
       "      <td>Óleo sobre lienzo. 1628 - 1629</td>\n",
       "      <td>VELÁZQUEZ, DIEGO RODRÍGUEZ DE SILVA Y</td>\n",
       "      <td>Vid / Parra (Vitis Vinifera)</td>\n",
       "    </tr>\n",
       "    <tr>\n",
       "      <th>3</th>\n",
       "      <td>Eugenia Martínez Vallejo, desnuda</td>\n",
       "      <td>Óleo sobre lienzo. Hacia 1680</td>\n",
       "      <td>CARREÑO DE MIRANDA, JUAN</td>\n",
       "      <td>Vid / Parra (Vitis Vinifera)</td>\n",
       "    </tr>\n",
       "    <tr>\n",
       "      <th>4</th>\n",
       "      <td>Venus, Adonis y Cupido</td>\n",
       "      <td>Óleo sobre lienzo. Hacia 1590</td>\n",
       "      <td>CARRACCI, ANNIBALE</td>\n",
       "      <td>Vid / Parra (Vitis Vinifera)</td>\n",
       "    </tr>\n",
       "    <tr>\n",
       "      <th>5</th>\n",
       "      <td>Paisaje con una vid</td>\n",
       "      <td>Óleo sobre lienzo. Hacia 1645</td>\n",
       "      <td>HIEPES, TOMÁS</td>\n",
       "      <td>Vid / Parra (Vitis Vinifera)</td>\n",
       "    </tr>\n",
       "    <tr>\n",
       "      <th>6</th>\n",
       "      <td>El Buen Pastor</td>\n",
       "      <td>Óleo sobre tabla. 1693</td>\n",
       "      <td>RUIZ GONZÁLEZ, PEDRO</td>\n",
       "      <td>Vid / Parra (Vitis Vinifera)</td>\n",
       "    </tr>\n",
       "    <tr>\n",
       "      <th>7</th>\n",
       "      <td>Parábola de los viñadores infieles</td>\n",
       "      <td>Óleo sobre tabla. Hacia 1611</td>\n",
       "      <td>GRIMMER, ABEL</td>\n",
       "      <td>Vid / Parra (Vitis Vinifera)</td>\n",
       "    </tr>\n",
       "    <tr>\n",
       "      <th>8</th>\n",
       "      <td>Bodegón ochavado con racimos de uvas</td>\n",
       "      <td>Óleo sobre lienzo. 1646</td>\n",
       "      <td>ESPINOSA, JUAN DE</td>\n",
       "      <td>Vid / Parra (Vitis Vinifera)</td>\n",
       "    </tr>\n",
       "    <tr>\n",
       "      <th>9</th>\n",
       "      <td>La vendimia</td>\n",
       "      <td>Óleo sobre lienzo. 1866</td>\n",
       "      <td>MARTÍ Y MONSÓ, JOSÉ</td>\n",
       "      <td>Vid / Parra (Vitis Vinifera)</td>\n",
       "    </tr>\n",
       "    <tr>\n",
       "      <th>10</th>\n",
       "      <td>Adán antes de comer el fruto</td>\n",
       "      <td>Óleo sobre lienzo. 1871</td>\n",
       "      <td>VERA Y CALVO, JUAN ANTONIO</td>\n",
       "      <td>Vid / Parra (Vitis Vinifera)</td>\n",
       "    </tr>\n",
       "    <tr>\n",
       "      <th>11</th>\n",
       "      <td>Un racimo de uvas</td>\n",
       "      <td>Óleo sobre lienzo. 1875</td>\n",
       "      <td>SERRANO Y BARTOLOMÉ, JOAQUINA</td>\n",
       "      <td>Vid / Parra (Vitis Vinifera)</td>\n",
       "    </tr>\n",
       "    <tr>\n",
       "      <th>12</th>\n",
       "      <td>Cuatro racimos de uvas colgando</td>\n",
       "      <td>Óleo sobre lienzo. Hacia 1636</td>\n",
       "      <td>FERNÁNDEZ \"EL LABRADOR\", JUAN</td>\n",
       "      <td>Vid / Parra (Vitis Vinifera)</td>\n",
       "    </tr>\n",
       "    <tr>\n",
       "      <th>13</th>\n",
       "      <td>Bodegón con cuatro racimos de uvas</td>\n",
       "      <td>Óleo sobre lienzo. Hacia 1636</td>\n",
       "      <td>FERNÁNDEZ \"EL LABRADOR\", JUAN</td>\n",
       "      <td>Vid / Parra (Vitis Vinifera)</td>\n",
       "    </tr>\n",
       "    <tr>\n",
       "      <th>14</th>\n",
       "      <td>Las fiestas de Baco</td>\n",
       "      <td>Óleo sobre lienzo. Hacia 1892</td>\n",
       "      <td>PICOLO LÓPEZ, MANUEL</td>\n",
       "      <td>Vid / Parra (Vitis Vinifera)</td>\n",
       "    </tr>\n",
       "    <tr>\n",
       "      <th>15</th>\n",
       "      <td>Bodegón</td>\n",
       "      <td>Óleo sobre tabla. Siglo XVII</td>\n",
       "      <td>COOSEMANS, ALEXANDER</td>\n",
       "      <td>Vid / Parra (Vitis Vinifera)</td>\n",
       "    </tr>\n",
       "    <tr>\n",
       "      <th>16</th>\n",
       "      <td>Familia en un jardín</td>\n",
       "      <td>Óleo sobre lienzo. 1679</td>\n",
       "      <td>KESSEL EL JOVEN, JAN VAN</td>\n",
       "      <td>Vid / Parra (Vitis Vinifera)</td>\n",
       "    </tr>\n",
       "    <tr>\n",
       "      <th>17</th>\n",
       "      <td>Bodegón de uvas y granadas</td>\n",
       "      <td>Óleo sobre tabla. 1781</td>\n",
       "      <td>FERRER, JOSÉ</td>\n",
       "      <td>Vid / Parra (Vitis Vinifera)</td>\n",
       "    </tr>\n",
       "  </tbody>\n",
       "</table>\n",
       "</div>"
      ],
      "text/plain": [
       "                                  Titulo                   Tecnica_Fecha  \\\n",
       "0                 La vendimia o El Otoño         Óleo sobre lienzo. 1786   \n",
       "1                               El Otoño  Óleo sobre lienzo. 1805 - 1806   \n",
       "2    Los borrachos, o El triunfo de Baco  Óleo sobre lienzo. 1628 - 1629   \n",
       "3      Eugenia Martínez Vallejo, desnuda   Óleo sobre lienzo. Hacia 1680   \n",
       "4                 Venus, Adonis y Cupido   Óleo sobre lienzo. Hacia 1590   \n",
       "5                    Paisaje con una vid   Óleo sobre lienzo. Hacia 1645   \n",
       "6                         El Buen Pastor          Óleo sobre tabla. 1693   \n",
       "7     Parábola de los viñadores infieles    Óleo sobre tabla. Hacia 1611   \n",
       "8   Bodegón ochavado con racimos de uvas         Óleo sobre lienzo. 1646   \n",
       "9                            La vendimia         Óleo sobre lienzo. 1866   \n",
       "10          Adán antes de comer el fruto         Óleo sobre lienzo. 1871   \n",
       "11                     Un racimo de uvas         Óleo sobre lienzo. 1875   \n",
       "12       Cuatro racimos de uvas colgando   Óleo sobre lienzo. Hacia 1636   \n",
       "13    Bodegón con cuatro racimos de uvas   Óleo sobre lienzo. Hacia 1636   \n",
       "14                   Las fiestas de Baco   Óleo sobre lienzo. Hacia 1892   \n",
       "15                               Bodegón    Óleo sobre tabla. Siglo XVII   \n",
       "16                  Familia en un jardín         Óleo sobre lienzo. 1679   \n",
       "17            Bodegón de uvas y granadas          Óleo sobre tabla. 1781   \n",
       "\n",
       "                                    Autor                         Flora  \n",
       "0          GOYA Y LUCIENTES, FRANCISCO DE  Vid / Parra (Vitis Vinifera)  \n",
       "1                MAELLA, MARIANO SALVADOR  Vid / Parra (Vitis Vinifera)  \n",
       "2   VELÁZQUEZ, DIEGO RODRÍGUEZ DE SILVA Y  Vid / Parra (Vitis Vinifera)  \n",
       "3                CARREÑO DE MIRANDA, JUAN  Vid / Parra (Vitis Vinifera)  \n",
       "4                      CARRACCI, ANNIBALE  Vid / Parra (Vitis Vinifera)  \n",
       "5                           HIEPES, TOMÁS  Vid / Parra (Vitis Vinifera)  \n",
       "6                    RUIZ GONZÁLEZ, PEDRO  Vid / Parra (Vitis Vinifera)  \n",
       "7                           GRIMMER, ABEL  Vid / Parra (Vitis Vinifera)  \n",
       "8                       ESPINOSA, JUAN DE  Vid / Parra (Vitis Vinifera)  \n",
       "9                     MARTÍ Y MONSÓ, JOSÉ  Vid / Parra (Vitis Vinifera)  \n",
       "10             VERA Y CALVO, JUAN ANTONIO  Vid / Parra (Vitis Vinifera)  \n",
       "11          SERRANO Y BARTOLOMÉ, JOAQUINA  Vid / Parra (Vitis Vinifera)  \n",
       "12          FERNÁNDEZ \"EL LABRADOR\", JUAN  Vid / Parra (Vitis Vinifera)  \n",
       "13          FERNÁNDEZ \"EL LABRADOR\", JUAN  Vid / Parra (Vitis Vinifera)  \n",
       "14                   PICOLO LÓPEZ, MANUEL  Vid / Parra (Vitis Vinifera)  \n",
       "15                   COOSEMANS, ALEXANDER  Vid / Parra (Vitis Vinifera)  \n",
       "16               KESSEL EL JOVEN, JAN VAN  Vid / Parra (Vitis Vinifera)  \n",
       "17                           FERRER, JOSÉ  Vid / Parra (Vitis Vinifera)  "
      ]
     },
     "execution_count": 5,
     "metadata": {},
     "output_type": "execute_result"
    }
   ],
   "source": [
    "flora_df_vid_parra"
   ]
  },
  {
   "cell_type": "code",
   "execution_count": null,
   "id": "ac3534b4",
   "metadata": {},
   "outputs": [],
   "source": [
    "//*[@id=\"panResultados\"]/div/figure[3]/figcaption[1]/div/p[1]/a href también quiero que lo scrapee "
   ]
  },
  {
   "cell_type": "code",
   "execution_count": 28,
   "id": "910b03df",
   "metadata": {},
   "outputs": [],
   "source": [
    "from selenium import webdriver\n",
    "\n",
    "PATH = \"driver/chromedriver\" \n",
    "driver = webdriver.Chrome(options = opciones)\n",
    "driver.get('https://www.google.es')"
   ]
  },
  {
   "cell_type": "code",
   "execution_count": 3,
   "id": "a426124c",
   "metadata": {},
   "outputs": [],
   "source": [
    "from selenium import webdriver\n",
    "from selenium.webdriver.common.by import By\n",
    "from selenium.webdriver.support.ui import WebDriverWait\n",
    "from selenium.webdriver.support import expected_conditions as EC\n",
    "from selenium.common.exceptions import NoSuchElementException\n",
    "\n",
    "def scrapeo_flora_data(driver, url, flora_type):\n",
    "    driver.get(url)\n",
    "\n",
    "    \n",
    "    \n",
    "    resultados = []\n",
    "\n",
    "    # Espera hasta que los elementos figure estén presentes y visibles\n",
    "    wait = WebDriverWait(driver, 10)\n",
    "    wait.until(EC.presence_of_all_elements_located((By.XPATH, '//*[@id=\"panResultados\"]/div/figure')))\n",
    "    wait.until(EC.visibility_of_all_elements_located((By.XPATH, '//*[@id=\"panResultados\"]/div/figure')))\n",
    "    \n",
    "    \n",
    "    # Encuentra todos los elementos figure en el XPath especificado\n",
    "    figures = driver.find_elements(By.XPATH, '//*[@id=\"panResultados\"]/div/figure')\n",
    "    \n",
    "    for figure in figures:\n",
    "        # Extrae el enlace (href) de cada figura\n",
    "        href = figure.find_element(By.XPATH, './figcaption[1]/div/p[1]/a').get_attribute('href')\n",
    "\n",
    "        # Extrae la información de título, fecha y autor de cada figura\n",
    "        try:\n",
    "            titulo = figure.find_element(By.XPATH, './figcaption[1]/div/p[1]/a').text.strip()\n",
    "        except NoSuchElementException:\n",
    "            titulo = \"No se encontró información sobre el título\"\n",
    "        \n",
    "        try:\n",
    "            fecha = figure.find_element(By.XPATH, './figcaption[1]/div/p[2]').text.strip()\n",
    "        except NoSuchElementException:\n",
    "            fecha = \"No se encontró información sobre la fecha\"\n",
    "        \n",
    "        try:\n",
    "            autor = figure.find_element(By.XPATH, './figcaption[2]/div[2]/p').text.strip()\n",
    "        except NoSuchElementException:\n",
    "            autor = \"No se encontró información sobre el autor\"\n",
    "        \n",
    "        resultados.append([titulo, fecha, autor, flora_type, href])\n",
    "    \n",
    "    return resultados\n"
   ]
  },
  {
   "cell_type": "code",
   "execution_count": 4,
   "id": "79350f49",
   "metadata": {},
   "outputs": [
    {
     "ename": "NameError",
     "evalue": "name 'driver' is not defined",
     "output_type": "error",
     "traceback": [
      "\u001b[0;31m---------------------------------------------------------------------------\u001b[0m",
      "\u001b[0;31mNameError\u001b[0m                                 Traceback (most recent call last)",
      "Cell \u001b[0;32mIn[4], line 5\u001b[0m\n\u001b[1;32m      2\u001b[0m url_tulipan \u001b[39m=\u001b[39m \u001b[39m'\u001b[39m\u001b[39mhttps://www.museodelprado.es/coleccion/obras-de-arte?searchObras=tulipan\u001b[39m\u001b[39m%\u001b[39m\u001b[39m20(tulipa\u001b[39m\u001b[39m%20s\u001b[39;00m\u001b[39mpp\u001b[39m\u001b[39m%\u001b[39m\u001b[39m20)\u001b[39m\u001b[39m'\u001b[39m\n\u001b[1;32m      3\u001b[0m url_vid_parra \u001b[39m=\u001b[39m \u001b[39m'\u001b[39m\u001b[39mhttps://www.museodelprado.es/coleccion/obras-de-arte?searchObras=vid\u001b[39m\u001b[39m%\u001b[39m\u001b[39m20/\u001b[39m\u001b[39m%\u001b[39m\u001b[39m20parra\u001b[39m\u001b[39m%\u001b[39m\u001b[39m20(vitis\u001b[39m\u001b[39m%\u001b[39m\u001b[39m20vinifera)\u001b[39m\u001b[39m'\u001b[39m\n\u001b[0;32m----> 5\u001b[0m flora_data_tulipan \u001b[39m=\u001b[39m scrapeo_flora_data(driver, url_tulipan, \u001b[39m'\u001b[39m\u001b[39mTulipán (Tulipa Spp.)\u001b[39m\u001b[39m'\u001b[39m)\n\u001b[1;32m      6\u001b[0m flora_data_vid_parra \u001b[39m=\u001b[39m scrapeo_flora_data(driver, url_vid_parra, \u001b[39m'\u001b[39m\u001b[39mVid / Parra (Vitis Vinifera)\u001b[39m\u001b[39m'\u001b[39m)\n\u001b[1;32m      8\u001b[0m flora_df_tulipan \u001b[39m=\u001b[39m pd\u001b[39m.\u001b[39mDataFrame(flora_data_tulipan, columns\u001b[39m=\u001b[39m[\u001b[39m'\u001b[39m\u001b[39mTitulo\u001b[39m\u001b[39m'\u001b[39m, \u001b[39m'\u001b[39m\u001b[39mFecha\u001b[39m\u001b[39m'\u001b[39m, \u001b[39m'\u001b[39m\u001b[39mAutor\u001b[39m\u001b[39m'\u001b[39m, \u001b[39m'\u001b[39m\u001b[39mFlora\u001b[39m\u001b[39m'\u001b[39m, \u001b[39m'\u001b[39m\u001b[39mHref\u001b[39m\u001b[39m'\u001b[39m])\n",
      "\u001b[0;31mNameError\u001b[0m: name 'driver' is not defined"
     ]
    }
   ],
   "source": [
    "# Ejemplo de uso\n",
    "url_tulipan = 'https://www.museodelprado.es/coleccion/obras-de-arte?searchObras=tulipan%20(tulipa%20spp%20)'\n",
    "url_vid_parra = 'https://www.museodelprado.es/coleccion/obras-de-arte?searchObras=vid%20/%20parra%20(vitis%20vinifera)'\n",
    "\n",
    "flora_data_tulipan = scrapeo_flora_data(driver, url_tulipan, 'Tulipán (Tulipa Spp.)')\n",
    "flora_data_vid_parra = scrapeo_flora_data(driver, url_vid_parra, 'Vid / Parra (Vitis Vinifera)')\n",
    "\n",
    "flora_df_tulipan = pd.DataFrame(flora_data_tulipan, columns=['Titulo', 'Fecha', 'Autor', 'Flora', 'Href'])\n",
    "flora_df_vid_parra = pd.DataFrame(flora_data_vid_parra, columns=['Titulo', 'Fecha', 'Autor', 'Flora', 'Href'])"
   ]
  },
  {
   "cell_type": "code",
   "execution_count": 27,
   "id": "5adb4bec",
   "metadata": {},
   "outputs": [
    {
     "data": {
      "text/html": [
       "<div>\n",
       "<style scoped>\n",
       "    .dataframe tbody tr th:only-of-type {\n",
       "        vertical-align: middle;\n",
       "    }\n",
       "\n",
       "    .dataframe tbody tr th {\n",
       "        vertical-align: top;\n",
       "    }\n",
       "\n",
       "    .dataframe thead th {\n",
       "        text-align: right;\n",
       "    }\n",
       "</style>\n",
       "<table border=\"1\" class=\"dataframe\">\n",
       "  <thead>\n",
       "    <tr style=\"text-align: right;\">\n",
       "      <th></th>\n",
       "      <th>Titulo</th>\n",
       "      <th>Fecha</th>\n",
       "      <th>Autor</th>\n",
       "      <th>Flora</th>\n",
       "      <th>Href</th>\n",
       "    </tr>\n",
       "  </thead>\n",
       "  <tbody>\n",
       "    <tr>\n",
       "      <th>0</th>\n",
       "      <td>Guirnalda con el Valor y la Abundancia</td>\n",
       "      <td>Óleo sobre tabla. Siglo XVII</td>\n",
       "      <td>No se encontró información sobre el autor</td>\n",
       "      <td>Tulipán (Tulipa Spp.)</td>\n",
       "      <td>https://www.museodelprado.es/coleccion/obra-de...</td>\n",
       "    </tr>\n",
       "    <tr>\n",
       "      <th>1</th>\n",
       "      <td>Jardín con flores y frutas</td>\n",
       "      <td>Óleo sobre lienzo. Siglo XVII</td>\n",
       "      <td>No se encontró información sobre el autor</td>\n",
       "      <td>Tulipán (Tulipa Spp.)</td>\n",
       "      <td>https://www.museodelprado.es/coleccion/obra-de...</td>\n",
       "    </tr>\n",
       "    <tr>\n",
       "      <th>2</th>\n",
       "      <td>Amorcillos con guirnalda de flores</td>\n",
       "      <td>Óleo sobre lienzo. Siglo XVII</td>\n",
       "      <td>No se encontró información sobre el autor</td>\n",
       "      <td>Tulipán (Tulipa Spp.)</td>\n",
       "      <td>https://www.museodelprado.es/coleccion/obra-de...</td>\n",
       "    </tr>\n",
       "    <tr>\n",
       "      <th>3</th>\n",
       "      <td>Guirnalda con la Sagrada Familia</td>\n",
       "      <td>Óleo sobre lámina de cobre. Siglo XVII</td>\n",
       "      <td>No se encontró información sobre el autor</td>\n",
       "      <td>Tulipán (Tulipa Spp.)</td>\n",
       "      <td>https://www.museodelprado.es/coleccion/obra-de...</td>\n",
       "    </tr>\n",
       "    <tr>\n",
       "      <th>4</th>\n",
       "      <td>Guirnalda de flores rodeando a la Sagrada Familia</td>\n",
       "      <td>Óleo sobre lámina de cobre. Siglo XVII</td>\n",
       "      <td>No se encontró información sobre el autor</td>\n",
       "      <td>Tulipán (Tulipa Spp.)</td>\n",
       "      <td>https://www.museodelprado.es/coleccion/obra-de...</td>\n",
       "    </tr>\n",
       "    <tr>\n",
       "      <th>5</th>\n",
       "      <td>Florero</td>\n",
       "      <td>Óleo sobre lienzo. Siglo XVII</td>\n",
       "      <td>No se encontró información sobre el autor</td>\n",
       "      <td>Tulipán (Tulipa Spp.)</td>\n",
       "      <td>https://www.museodelprado.es/coleccion/obra-de...</td>\n",
       "    </tr>\n",
       "    <tr>\n",
       "      <th>6</th>\n",
       "      <td>Florero</td>\n",
       "      <td>Óleo sobre lienzo. Siglo XVII</td>\n",
       "      <td>No se encontró información sobre el autor</td>\n",
       "      <td>Tulipán (Tulipa Spp.)</td>\n",
       "      <td>https://www.museodelprado.es/coleccion/obra-de...</td>\n",
       "    </tr>\n",
       "    <tr>\n",
       "      <th>7</th>\n",
       "      <td>Guirnalda de flores con San José y el Niño</td>\n",
       "      <td>Óleo sobre lienzo. Siglo XVII</td>\n",
       "      <td>No se encontró información sobre el autor</td>\n",
       "      <td>Tulipán (Tulipa Spp.)</td>\n",
       "      <td>https://www.museodelprado.es/coleccion/obra-de...</td>\n",
       "    </tr>\n",
       "    <tr>\n",
       "      <th>8</th>\n",
       "      <td>Florero</td>\n",
       "      <td>Óleo sobre lienzo. Siglo XVII</td>\n",
       "      <td>No se encontró información sobre el autor</td>\n",
       "      <td>Tulipán (Tulipa Spp.)</td>\n",
       "      <td>https://www.museodelprado.es/coleccion/obra-de...</td>\n",
       "    </tr>\n",
       "    <tr>\n",
       "      <th>9</th>\n",
       "      <td>Florero</td>\n",
       "      <td>Óleo sobre lienzo. Siglo XVII</td>\n",
       "      <td>No se encontró información sobre el autor</td>\n",
       "      <td>Tulipán (Tulipa Spp.)</td>\n",
       "      <td>https://www.museodelprado.es/coleccion/obra-de...</td>\n",
       "    </tr>\n",
       "    <tr>\n",
       "      <th>10</th>\n",
       "      <td>Florero</td>\n",
       "      <td>Óleo sobre lienzo. Siglo XVII</td>\n",
       "      <td>No se encontró información sobre el autor</td>\n",
       "      <td>Tulipán (Tulipa Spp.)</td>\n",
       "      <td>https://www.museodelprado.es/coleccion/obra-de...</td>\n",
       "    </tr>\n",
       "    <tr>\n",
       "      <th>11</th>\n",
       "      <td>Florero</td>\n",
       "      <td>Óleo sobre lienzo. Siglo XVII</td>\n",
       "      <td>No se encontró información sobre el autor</td>\n",
       "      <td>Tulipán (Tulipa Spp.)</td>\n",
       "      <td>https://www.museodelprado.es/coleccion/obra-de...</td>\n",
       "    </tr>\n",
       "    <tr>\n",
       "      <th>12</th>\n",
       "      <td>Florero</td>\n",
       "      <td>Óleo sobre lienzo. Siglo XVII</td>\n",
       "      <td>No se encontró información sobre el autor</td>\n",
       "      <td>Tulipán (Tulipa Spp.)</td>\n",
       "      <td>https://www.museodelprado.es/coleccion/obra-de...</td>\n",
       "    </tr>\n",
       "    <tr>\n",
       "      <th>13</th>\n",
       "      <td>Guirnalda con Santa Teresa de Jesús</td>\n",
       "      <td>Óleo sobre lienzo. Siglo XVII</td>\n",
       "      <td>No se encontró información sobre el autor</td>\n",
       "      <td>Tulipán (Tulipa Spp.)</td>\n",
       "      <td>https://www.museodelprado.es/coleccion/obra-de...</td>\n",
       "    </tr>\n",
       "    <tr>\n",
       "      <th>14</th>\n",
       "      <td>Un florero con una sandía y uvas</td>\n",
       "      <td>Óleo sobre lienzo. Siglo XVII</td>\n",
       "      <td>No se encontró información sobre el autor</td>\n",
       "      <td>Tulipán (Tulipa Spp.)</td>\n",
       "      <td>https://www.museodelprado.es/coleccion/obra-de...</td>\n",
       "    </tr>\n",
       "    <tr>\n",
       "      <th>15</th>\n",
       "      <td>Florero</td>\n",
       "      <td>Óleo sobre lienzo. Siglo XVII</td>\n",
       "      <td>No se encontró información sobre el autor</td>\n",
       "      <td>Tulipán (Tulipa Spp.)</td>\n",
       "      <td>https://www.museodelprado.es/coleccion/obra-de...</td>\n",
       "    </tr>\n",
       "    <tr>\n",
       "      <th>16</th>\n",
       "      <td>Florero</td>\n",
       "      <td>Óleo sobre lienzo. 1650 - 1699</td>\n",
       "      <td>No se encontró información sobre el autor</td>\n",
       "      <td>Tulipán (Tulipa Spp.)</td>\n",
       "      <td>https://www.museodelprado.es/coleccion/obra-de...</td>\n",
       "    </tr>\n",
       "    <tr>\n",
       "      <th>17</th>\n",
       "      <td>Florero</td>\n",
       "      <td>Óleo sobre lienzo. Segunda mitad del siglo XVII</td>\n",
       "      <td>No se encontró información sobre el autor</td>\n",
       "      <td>Tulipán (Tulipa Spp.)</td>\n",
       "      <td>https://www.museodelprado.es/coleccion/obra-de...</td>\n",
       "    </tr>\n",
       "  </tbody>\n",
       "</table>\n",
       "</div>"
      ],
      "text/plain": [
       "                                               Titulo  \\\n",
       "0              Guirnalda con el Valor y la Abundancia   \n",
       "1                          Jardín con flores y frutas   \n",
       "2                  Amorcillos con guirnalda de flores   \n",
       "3                    Guirnalda con la Sagrada Familia   \n",
       "4   Guirnalda de flores rodeando a la Sagrada Familia   \n",
       "5                                             Florero   \n",
       "6                                             Florero   \n",
       "7          Guirnalda de flores con San José y el Niño   \n",
       "8                                             Florero   \n",
       "9                                             Florero   \n",
       "10                                            Florero   \n",
       "11                                            Florero   \n",
       "12                                            Florero   \n",
       "13                Guirnalda con Santa Teresa de Jesús   \n",
       "14                   Un florero con una sandía y uvas   \n",
       "15                                            Florero   \n",
       "16                                            Florero   \n",
       "17                                            Florero   \n",
       "\n",
       "                                              Fecha  \\\n",
       "0                      Óleo sobre tabla. Siglo XVII   \n",
       "1                     Óleo sobre lienzo. Siglo XVII   \n",
       "2                     Óleo sobre lienzo. Siglo XVII   \n",
       "3            Óleo sobre lámina de cobre. Siglo XVII   \n",
       "4            Óleo sobre lámina de cobre. Siglo XVII   \n",
       "5                     Óleo sobre lienzo. Siglo XVII   \n",
       "6                     Óleo sobre lienzo. Siglo XVII   \n",
       "7                     Óleo sobre lienzo. Siglo XVII   \n",
       "8                     Óleo sobre lienzo. Siglo XVII   \n",
       "9                     Óleo sobre lienzo. Siglo XVII   \n",
       "10                    Óleo sobre lienzo. Siglo XVII   \n",
       "11                    Óleo sobre lienzo. Siglo XVII   \n",
       "12                    Óleo sobre lienzo. Siglo XVII   \n",
       "13                    Óleo sobre lienzo. Siglo XVII   \n",
       "14                    Óleo sobre lienzo. Siglo XVII   \n",
       "15                    Óleo sobre lienzo. Siglo XVII   \n",
       "16                   Óleo sobre lienzo. 1650 - 1699   \n",
       "17  Óleo sobre lienzo. Segunda mitad del siglo XVII   \n",
       "\n",
       "                                        Autor                  Flora  \\\n",
       "0   No se encontró información sobre el autor  Tulipán (Tulipa Spp.)   \n",
       "1   No se encontró información sobre el autor  Tulipán (Tulipa Spp.)   \n",
       "2   No se encontró información sobre el autor  Tulipán (Tulipa Spp.)   \n",
       "3   No se encontró información sobre el autor  Tulipán (Tulipa Spp.)   \n",
       "4   No se encontró información sobre el autor  Tulipán (Tulipa Spp.)   \n",
       "5   No se encontró información sobre el autor  Tulipán (Tulipa Spp.)   \n",
       "6   No se encontró información sobre el autor  Tulipán (Tulipa Spp.)   \n",
       "7   No se encontró información sobre el autor  Tulipán (Tulipa Spp.)   \n",
       "8   No se encontró información sobre el autor  Tulipán (Tulipa Spp.)   \n",
       "9   No se encontró información sobre el autor  Tulipán (Tulipa Spp.)   \n",
       "10  No se encontró información sobre el autor  Tulipán (Tulipa Spp.)   \n",
       "11  No se encontró información sobre el autor  Tulipán (Tulipa Spp.)   \n",
       "12  No se encontró información sobre el autor  Tulipán (Tulipa Spp.)   \n",
       "13  No se encontró información sobre el autor  Tulipán (Tulipa Spp.)   \n",
       "14  No se encontró información sobre el autor  Tulipán (Tulipa Spp.)   \n",
       "15  No se encontró información sobre el autor  Tulipán (Tulipa Spp.)   \n",
       "16  No se encontró información sobre el autor  Tulipán (Tulipa Spp.)   \n",
       "17  No se encontró información sobre el autor  Tulipán (Tulipa Spp.)   \n",
       "\n",
       "                                                 Href  \n",
       "0   https://www.museodelprado.es/coleccion/obra-de...  \n",
       "1   https://www.museodelprado.es/coleccion/obra-de...  \n",
       "2   https://www.museodelprado.es/coleccion/obra-de...  \n",
       "3   https://www.museodelprado.es/coleccion/obra-de...  \n",
       "4   https://www.museodelprado.es/coleccion/obra-de...  \n",
       "5   https://www.museodelprado.es/coleccion/obra-de...  \n",
       "6   https://www.museodelprado.es/coleccion/obra-de...  \n",
       "7   https://www.museodelprado.es/coleccion/obra-de...  \n",
       "8   https://www.museodelprado.es/coleccion/obra-de...  \n",
       "9   https://www.museodelprado.es/coleccion/obra-de...  \n",
       "10  https://www.museodelprado.es/coleccion/obra-de...  \n",
       "11  https://www.museodelprado.es/coleccion/obra-de...  \n",
       "12  https://www.museodelprado.es/coleccion/obra-de...  \n",
       "13  https://www.museodelprado.es/coleccion/obra-de...  \n",
       "14  https://www.museodelprado.es/coleccion/obra-de...  \n",
       "15  https://www.museodelprado.es/coleccion/obra-de...  \n",
       "16  https://www.museodelprado.es/coleccion/obra-de...  \n",
       "17  https://www.museodelprado.es/coleccion/obra-de...  "
      ]
     },
     "execution_count": 27,
     "metadata": {},
     "output_type": "execute_result"
    }
   ],
   "source": [
    "flora_df_tulipan"
   ]
  },
  {
   "cell_type": "code",
   "execution_count": 18,
   "id": "0b3e1fc3",
   "metadata": {},
   "outputs": [],
   "source": [
    "url = 'https://www.museodelprado.es/coleccion/obras-de-arte?searchObras=zulla%20/%20pipirigallo%20(hedysarum%20coronarium)'"
   ]
  },
  {
   "cell_type": "code",
   "execution_count": 9,
   "id": "b23dbb0f",
   "metadata": {},
   "outputs": [],
   "source": [
    "from selenium import webdriver\n",
    "from selenium.webdriver.common.by import By\n",
    "from selenium.webdriver.support.ui import WebDriverWait\n",
    "from selenium.webdriver.support import expected_conditions as EC\n",
    "from selenium.common.exceptions import NoSuchElementException\n",
    "\n",
    "\n",
    "def scrapeo_flora_data(driver, url, flora_type):\n",
    "    driver.get(url)\n",
    "\n",
    "    time.sleep(4)\n",
    "    \n",
    "    resultados = []\n",
    "    \n",
    "    # Encuentra todos los elementos figure en el XPath especificado\n",
    "    figures = driver.find_elements(By.XPATH, '//*[@id=\"panResultados\"]/div/figure')\n",
    "    \n",
    "    for figure in figures:\n",
    "        # Extrae la información de cada figura\n",
    "        titulo = figure.find_element(By.XPATH, './figcaption[1]/div/p[1]/a').text.strip()\n",
    "        href = figure.find_element(By.XPATH, './figcaption[1]/div/p[1]/a').get_attribute('href')\n",
    "        fecha = figure.find_element(By.XPATH, './figcaption[1]/div/p[2]').text.strip()\n",
    "        autor = figure.find_element(By.XPATH, './figcaption[2]/div[2]/p').text.strip()\n",
    "        \n",
    "        resultados.append([titulo, fecha, autor, flora_type, href])\n",
    "    \n",
    "    return resultados\n"
   ]
  },
  {
   "cell_type": "code",
   "execution_count": 10,
   "id": "caff0641",
   "metadata": {},
   "outputs": [
    {
     "ename": "NoSuchElementException",
     "evalue": "Message: no such element: Unable to locate element: {\"method\":\"xpath\",\"selector\":\"./figcaption[2]/div[2]/p\"}\n  (Session info: chrome=120.0.6099.129); For documentation on this error, please visit: https://www.selenium.dev/documentation/webdriver/troubleshooting/errors#no-such-element-exception\nStacktrace:\n0   chromedriver                        0x00000001006dc4dc chromedriver + 4162780\n1   chromedriver                        0x00000001006d4664 chromedriver + 4130404\n2   chromedriver                        0x000000010032bbc0 chromedriver + 293824\n3   chromedriver                        0x0000000100372040 chromedriver + 581696\n4   chromedriver                        0x0000000100367250 chromedriver + 537168\n5   chromedriver                        0x00000001003b1ab0 chromedriver + 842416\n6   chromedriver                        0x00000001003656bc chromedriver + 530108\n7   chromedriver                        0x0000000100366930 chromedriver + 534832\n8   chromedriver                        0x00000001006a1e08 chromedriver + 3923464\n9   chromedriver                        0x00000001006a63dc chromedriver + 3941340\n10  chromedriver                        0x000000010068a038 chromedriver + 3825720\n11  chromedriver                        0x00000001006a6f3c chromedriver + 3944252\n12  chromedriver                        0x000000010067c6f4 chromedriver + 3770100\n13  chromedriver                        0x00000001006c3980 chromedriver + 4061568\n14  chromedriver                        0x00000001006c3af8 chromedriver + 4061944\n15  chromedriver                        0x00000001006d42e4 chromedriver + 4129508\n16  libsystem_pthread.dylib             0x00000001ac1c3fa8 _pthread_start + 148\n17  libsystem_pthread.dylib             0x00000001ac1beda0 thread_start + 8\n",
     "output_type": "error",
     "traceback": [
      "\u001b[0;31m---------------------------------------------------------------------------\u001b[0m",
      "\u001b[0;31mNoSuchElementException\u001b[0m                    Traceback (most recent call last)",
      "Cell \u001b[0;32mIn[10], line 5\u001b[0m\n\u001b[1;32m      2\u001b[0m url_tulipan \u001b[39m=\u001b[39m \u001b[39m'\u001b[39m\u001b[39mhttps://www.museodelprado.es/coleccion/obras-de-arte?searchObras=tulipan\u001b[39m\u001b[39m%\u001b[39m\u001b[39m20(tulipa\u001b[39m\u001b[39m%20s\u001b[39;00m\u001b[39mpp\u001b[39m\u001b[39m%\u001b[39m\u001b[39m20)\u001b[39m\u001b[39m'\u001b[39m\n\u001b[1;32m      3\u001b[0m url_vid_parra \u001b[39m=\u001b[39m \u001b[39m'\u001b[39m\u001b[39mhttps://www.museodelprado.es/coleccion/obras-de-arte?searchObras=vid\u001b[39m\u001b[39m%\u001b[39m\u001b[39m20/\u001b[39m\u001b[39m%\u001b[39m\u001b[39m20parra\u001b[39m\u001b[39m%\u001b[39m\u001b[39m20(vitis\u001b[39m\u001b[39m%\u001b[39m\u001b[39m20vinifera)\u001b[39m\u001b[39m'\u001b[39m\n\u001b[0;32m----> 5\u001b[0m flora_data_tulipan \u001b[39m=\u001b[39m scrapeo_flora_data(driver, url_tulipan, \u001b[39m'\u001b[39m\u001b[39mTulipán (Tulipa Spp.)\u001b[39m\u001b[39m'\u001b[39m)\n\u001b[1;32m      6\u001b[0m flora_data_vid_parra \u001b[39m=\u001b[39m scrapeo_flora_data(driver, url_vid_parra, \u001b[39m'\u001b[39m\u001b[39mVid / Parra (Vitis Vinifera)\u001b[39m\u001b[39m'\u001b[39m)\n\u001b[1;32m      8\u001b[0m columns \u001b[39m=\u001b[39m [\u001b[39m'\u001b[39m\u001b[39mTitulo\u001b[39m\u001b[39m'\u001b[39m, \u001b[39m'\u001b[39m\u001b[39mTecnica_Fecha\u001b[39m\u001b[39m'\u001b[39m, \u001b[39m'\u001b[39m\u001b[39mAutor\u001b[39m\u001b[39m'\u001b[39m, \u001b[39m'\u001b[39m\u001b[39mFlora\u001b[39m\u001b[39m'\u001b[39m]\n",
      "Cell \u001b[0;32mIn[9], line 23\u001b[0m, in \u001b[0;36mscrapeo_flora_data\u001b[0;34m(driver, url, flora_type)\u001b[0m\n\u001b[1;32m     21\u001b[0m     href \u001b[39m=\u001b[39m figure\u001b[39m.\u001b[39mfind_element(By\u001b[39m.\u001b[39mXPATH, \u001b[39m'\u001b[39m\u001b[39m./figcaption[1]/div/p[1]/a\u001b[39m\u001b[39m'\u001b[39m)\u001b[39m.\u001b[39mget_attribute(\u001b[39m'\u001b[39m\u001b[39mhref\u001b[39m\u001b[39m'\u001b[39m)\n\u001b[1;32m     22\u001b[0m     fecha \u001b[39m=\u001b[39m figure\u001b[39m.\u001b[39mfind_element(By\u001b[39m.\u001b[39mXPATH, \u001b[39m'\u001b[39m\u001b[39m./figcaption[1]/div/p[2]\u001b[39m\u001b[39m'\u001b[39m)\u001b[39m.\u001b[39mtext\u001b[39m.\u001b[39mstrip()\n\u001b[0;32m---> 23\u001b[0m     autor \u001b[39m=\u001b[39m figure\u001b[39m.\u001b[39mfind_element(By\u001b[39m.\u001b[39mXPATH, \u001b[39m'\u001b[39m\u001b[39m./figcaption[2]/div[2]/p\u001b[39m\u001b[39m'\u001b[39m)\u001b[39m.\u001b[39mtext\u001b[39m.\u001b[39mstrip()\n\u001b[1;32m     25\u001b[0m     resultados\u001b[39m.\u001b[39mappend([titulo, fecha, autor, flora_type, href])\n\u001b[1;32m     27\u001b[0m \u001b[39mreturn\u001b[39;00m resultados\n",
      "File \u001b[0;32m~/anaconda3/lib/python3.11/site-packages/selenium/webdriver/remote/webelement.py:416\u001b[0m, in \u001b[0;36mWebElement.find_element\u001b[0;34m(self, by, value)\u001b[0m\n\u001b[1;32m    413\u001b[0m     by \u001b[39m=\u001b[39m By\u001b[39m.\u001b[39mCSS_SELECTOR\n\u001b[1;32m    414\u001b[0m     value \u001b[39m=\u001b[39m \u001b[39mf\u001b[39m\u001b[39m'\u001b[39m\u001b[39m[name=\u001b[39m\u001b[39m\"\u001b[39m\u001b[39m{\u001b[39;00mvalue\u001b[39m}\u001b[39;00m\u001b[39m\"\u001b[39m\u001b[39m]\u001b[39m\u001b[39m'\u001b[39m\n\u001b[0;32m--> 416\u001b[0m \u001b[39mreturn\u001b[39;00m \u001b[39mself\u001b[39m\u001b[39m.\u001b[39m_execute(Command\u001b[39m.\u001b[39mFIND_CHILD_ELEMENT, {\u001b[39m\"\u001b[39m\u001b[39musing\u001b[39m\u001b[39m\"\u001b[39m: by, \u001b[39m\"\u001b[39m\u001b[39mvalue\u001b[39m\u001b[39m\"\u001b[39m: value})[\u001b[39m\"\u001b[39m\u001b[39mvalue\u001b[39m\u001b[39m\"\u001b[39m]\n",
      "File \u001b[0;32m~/anaconda3/lib/python3.11/site-packages/selenium/webdriver/remote/webelement.py:394\u001b[0m, in \u001b[0;36mWebElement._execute\u001b[0;34m(self, command, params)\u001b[0m\n\u001b[1;32m    392\u001b[0m     params \u001b[39m=\u001b[39m {}\n\u001b[1;32m    393\u001b[0m params[\u001b[39m\"\u001b[39m\u001b[39mid\u001b[39m\u001b[39m\"\u001b[39m] \u001b[39m=\u001b[39m \u001b[39mself\u001b[39m\u001b[39m.\u001b[39m_id\n\u001b[0;32m--> 394\u001b[0m \u001b[39mreturn\u001b[39;00m \u001b[39mself\u001b[39m\u001b[39m.\u001b[39m_parent\u001b[39m.\u001b[39mexecute(command, params)\n",
      "File \u001b[0;32m~/anaconda3/lib/python3.11/site-packages/selenium/webdriver/remote/webdriver.py:344\u001b[0m, in \u001b[0;36mWebDriver.execute\u001b[0;34m(self, driver_command, params)\u001b[0m\n\u001b[1;32m    342\u001b[0m response \u001b[39m=\u001b[39m \u001b[39mself\u001b[39m\u001b[39m.\u001b[39mcommand_executor\u001b[39m.\u001b[39mexecute(driver_command, params)\n\u001b[1;32m    343\u001b[0m \u001b[39mif\u001b[39;00m response:\n\u001b[0;32m--> 344\u001b[0m     \u001b[39mself\u001b[39m\u001b[39m.\u001b[39merror_handler\u001b[39m.\u001b[39mcheck_response(response)\n\u001b[1;32m    345\u001b[0m     response[\u001b[39m\"\u001b[39m\u001b[39mvalue\u001b[39m\u001b[39m\"\u001b[39m] \u001b[39m=\u001b[39m \u001b[39mself\u001b[39m\u001b[39m.\u001b[39m_unwrap_value(response\u001b[39m.\u001b[39mget(\u001b[39m\"\u001b[39m\u001b[39mvalue\u001b[39m\u001b[39m\"\u001b[39m, \u001b[39mNone\u001b[39;00m))\n\u001b[1;32m    346\u001b[0m     \u001b[39mreturn\u001b[39;00m response\n",
      "File \u001b[0;32m~/anaconda3/lib/python3.11/site-packages/selenium/webdriver/remote/errorhandler.py:229\u001b[0m, in \u001b[0;36mErrorHandler.check_response\u001b[0;34m(self, response)\u001b[0m\n\u001b[1;32m    227\u001b[0m         alert_text \u001b[39m=\u001b[39m value[\u001b[39m\"\u001b[39m\u001b[39malert\u001b[39m\u001b[39m\"\u001b[39m]\u001b[39m.\u001b[39mget(\u001b[39m\"\u001b[39m\u001b[39mtext\u001b[39m\u001b[39m\"\u001b[39m)\n\u001b[1;32m    228\u001b[0m     \u001b[39mraise\u001b[39;00m exception_class(message, screen, stacktrace, alert_text)  \u001b[39m# type: ignore[call-arg]  # mypy is not smart enough here\u001b[39;00m\n\u001b[0;32m--> 229\u001b[0m \u001b[39mraise\u001b[39;00m exception_class(message, screen, stacktrace)\n",
      "\u001b[0;31mNoSuchElementException\u001b[0m: Message: no such element: Unable to locate element: {\"method\":\"xpath\",\"selector\":\"./figcaption[2]/div[2]/p\"}\n  (Session info: chrome=120.0.6099.129); For documentation on this error, please visit: https://www.selenium.dev/documentation/webdriver/troubleshooting/errors#no-such-element-exception\nStacktrace:\n0   chromedriver                        0x00000001006dc4dc chromedriver + 4162780\n1   chromedriver                        0x00000001006d4664 chromedriver + 4130404\n2   chromedriver                        0x000000010032bbc0 chromedriver + 293824\n3   chromedriver                        0x0000000100372040 chromedriver + 581696\n4   chromedriver                        0x0000000100367250 chromedriver + 537168\n5   chromedriver                        0x00000001003b1ab0 chromedriver + 842416\n6   chromedriver                        0x00000001003656bc chromedriver + 530108\n7   chromedriver                        0x0000000100366930 chromedriver + 534832\n8   chromedriver                        0x00000001006a1e08 chromedriver + 3923464\n9   chromedriver                        0x00000001006a63dc chromedriver + 3941340\n10  chromedriver                        0x000000010068a038 chromedriver + 3825720\n11  chromedriver                        0x00000001006a6f3c chromedriver + 3944252\n12  chromedriver                        0x000000010067c6f4 chromedriver + 3770100\n13  chromedriver                        0x00000001006c3980 chromedriver + 4061568\n14  chromedriver                        0x00000001006c3af8 chromedriver + 4061944\n15  chromedriver                        0x00000001006d42e4 chromedriver + 4129508\n16  libsystem_pthread.dylib             0x00000001ac1c3fa8 _pthread_start + 148\n17  libsystem_pthread.dylib             0x00000001ac1beda0 thread_start + 8\n"
     ]
    }
   ],
   "source": [
    "# Ejemplo de uso\n",
    "url_tulipan = 'https://www.museodelprado.es/coleccion/obras-de-arte?searchObras=tulipan%20(tulipa%20spp%20)'\n",
    "url_vid_parra = 'https://www.museodelprado.es/coleccion/obras-de-arte?searchObras=vid%20/%20parra%20(vitis%20vinifera)'\n",
    "\n",
    "flora_data_tulipan = scrapeo_flora_data(driver, url_tulipan, 'Tulipán (Tulipa Spp.)')\n",
    "flora_data_vid_parra = scrapeo_flora_data(driver, url_vid_parra, 'Vid / Parra (Vitis Vinifera)')\n",
    "\n",
    "columns = ['Titulo', 'Tecnica_Fecha', 'Autor', 'Flora', 'href']\n",
    "flora_df_tulipan = pd.DataFrame(flora_data_tulipan, columns=columns)\n",
    "flora_df_vid_parra = pd.DataFrame(flora_data_vid_parra, columns=columns)\n",
    "\n"
   ]
  },
  {
   "cell_type": "code",
   "execution_count": 76,
   "id": "556ec42b",
   "metadata": {},
   "outputs": [
    {
     "data": {
      "text/plain": [
       "[['Las tres Gracias',\n",
       "  'Óleo sobre tabla de madera de roble. 1630 - 1635',\n",
       "  'No se encontró información sobre el autor',\n",
       "  'Zulla / Pipirigallo (Hedysarum Coronarium)',\n",
       "  'https://www.museodelprado.es/coleccion/obra-de-arte/las-tres-gracias/145eadd9-0b54-4b2d-affe-09af370b6932']]"
      ]
     },
     "execution_count": 76,
     "metadata": {},
     "output_type": "execute_result"
    }
   ],
   "source": [
    "resultados"
   ]
  },
  {
   "cell_type": "code",
   "execution_count": 42,
   "id": "26feb310",
   "metadata": {},
   "outputs": [],
   "source": [
    "driver.get(url)"
   ]
  },
  {
   "cell_type": "code",
   "execution_count": null,
   "id": "8a2f855c",
   "metadata": {},
   "outputs": [],
   "source": [
    "href_element = titulo_element.find_elements(By.XPATH, './a')\n",
    "href = href_element[0].get_attribute('href') if href_element else None\n",
    "    "
   ]
  },
  {
   "cell_type": "code",
   "execution_count": 43,
   "id": "66e73d5d",
   "metadata": {},
   "outputs": [
    {
     "name": "stdout",
     "output_type": "stream",
     "text": [
      "https://www.museodelprado.es/coleccion/obra-de-arte/las-tres-gracias/145eadd9-0b54-4b2d-affe-09af370b6932\n"
     ]
    }
   ],
   "source": [
    "from selenium import webdriver\n",
    "from selenium.webdriver.common.by import By\n",
    "from selenium.webdriver.support.ui import WebDriverWait\n",
    "from selenium.webdriver.support import expected_conditions as EC\n",
    "\n",
    "url = 'https://www.museodelprado.es/coleccion/obras-de-arte?searchObras=zulla%20/%20pipirigallo%20(hedysarum%20coronarium)'\n",
    "\n",
    "driver = webdriver.Chrome()\n",
    "driver.get(url)\n",
    "\n",
    "# Espera hasta que los elementos figure estén presentes y visibles\n",
    "wait = WebDriverWait(driver, 10)\n",
    "wait.until(EC.presence_of_all_elements_located((By.XPATH, '//*[@id=\"panResultados\"]/div/figure')))\n",
    "wait.until(EC.visibility_of_all_elements_located((By.XPATH, '//*[@id=\"panResultados\"]/div/figure')))\n",
    "\n",
    "# Encuentra todos los elementos figure en el XPath especificado\n",
    "figures = driver.find_elements(By.XPATH, '//*[@id=\"panResultados\"]/div/figure')\n",
    "\n",
    "links_de_la_pagina = []\n",
    "\n",
    "for figure in figures:\n",
    "    # Extrae el enlace (href) de cada figura\n",
    "    href = figure.find_element(By.XPATH, './figcaption[1]/div/p[1]/a').get_attribute('href')\n",
    "    links_de_la_pagina.append(href)\n",
    "\n",
    "# Imprime los enlaces encontrados\n",
    "for link in links_de_la_pagina:\n",
    "    print(link)\n",
    "\n",
    "# Cierra el navegador al finalizar\n",
    "driver.quit()\n"
   ]
  },
  {
   "cell_type": "code",
   "execution_count": 46,
   "id": "3f4c36ad",
   "metadata": {},
   "outputs": [
    {
     "ename": "NoSuchElementException",
     "evalue": "Message: no such element: Unable to locate element: {\"method\":\"xpath\",\"selector\":\"./figcaption[2]/div[2]/p\"}\n  (Session info: chrome=120.0.6099.129); For documentation on this error, please visit: https://www.selenium.dev/documentation/webdriver/troubleshooting/errors#no-such-element-exception\nStacktrace:\n0   chromedriver                        0x0000000104bcc4dc chromedriver + 4162780\n1   chromedriver                        0x0000000104bc4664 chromedriver + 4130404\n2   chromedriver                        0x000000010481bbc0 chromedriver + 293824\n3   chromedriver                        0x0000000104862040 chromedriver + 581696\n4   chromedriver                        0x0000000104857250 chromedriver + 537168\n5   chromedriver                        0x00000001048a1ab0 chromedriver + 842416\n6   chromedriver                        0x00000001048556bc chromedriver + 530108\n7   chromedriver                        0x0000000104856930 chromedriver + 534832\n8   chromedriver                        0x0000000104b91e08 chromedriver + 3923464\n9   chromedriver                        0x0000000104b963dc chromedriver + 3941340\n10  chromedriver                        0x0000000104b7a038 chromedriver + 3825720\n11  chromedriver                        0x0000000104b96f3c chromedriver + 3944252\n12  chromedriver                        0x0000000104b6c6f4 chromedriver + 3770100\n13  chromedriver                        0x0000000104bb3980 chromedriver + 4061568\n14  chromedriver                        0x0000000104bb3af8 chromedriver + 4061944\n15  chromedriver                        0x0000000104bc42e4 chromedriver + 4129508\n16  libsystem_pthread.dylib             0x00000001ac1c3fa8 _pthread_start + 148\n17  libsystem_pthread.dylib             0x00000001ac1beda0 thread_start + 8\n",
     "output_type": "error",
     "traceback": [
      "\u001b[0;31m---------------------------------------------------------------------------\u001b[0m",
      "\u001b[0;31mNoSuchElementException\u001b[0m                    Traceback (most recent call last)",
      "Cell \u001b[0;32mIn[46], line 43\u001b[0m\n\u001b[1;32m     40\u001b[0m driver \u001b[39m=\u001b[39m webdriver\u001b[39m.\u001b[39mChrome()\n\u001b[1;32m     42\u001b[0m \u001b[39m# Ejecuta la función\u001b[39;00m\n\u001b[0;32m---> 43\u001b[0m resultados \u001b[39m=\u001b[39m scrapeo_flora_data(driver, url, flora_type)\n\u001b[1;32m     45\u001b[0m \u001b[39m# Imprime los resultados\u001b[39;00m\n\u001b[1;32m     46\u001b[0m \u001b[39mfor\u001b[39;00m resultado \u001b[39min\u001b[39;00m resultados:\n",
      "Cell \u001b[0;32mIn[46], line 27\u001b[0m, in \u001b[0;36mscrapeo_flora_data\u001b[0;34m(driver, url, flora_type)\u001b[0m\n\u001b[1;32m     25\u001b[0m     titulo \u001b[39m=\u001b[39m figure\u001b[39m.\u001b[39mfind_element(By\u001b[39m.\u001b[39mXPATH, \u001b[39m'\u001b[39m\u001b[39m./figcaption[1]/div/p[1]/a\u001b[39m\u001b[39m'\u001b[39m)\u001b[39m.\u001b[39mtext\u001b[39m.\u001b[39mstrip()\n\u001b[1;32m     26\u001b[0m     fecha \u001b[39m=\u001b[39m figure\u001b[39m.\u001b[39mfind_element(By\u001b[39m.\u001b[39mXPATH, \u001b[39m'\u001b[39m\u001b[39m./figcaption[1]/div/p[2]\u001b[39m\u001b[39m'\u001b[39m)\u001b[39m.\u001b[39mtext\u001b[39m.\u001b[39mstrip()\n\u001b[0;32m---> 27\u001b[0m     autor \u001b[39m=\u001b[39m figure\u001b[39m.\u001b[39mfind_element(By\u001b[39m.\u001b[39mXPATH, \u001b[39m'\u001b[39m\u001b[39m./figcaption[2]/div[2]/p\u001b[39m\u001b[39m'\u001b[39m)\u001b[39m.\u001b[39mtext\u001b[39m.\u001b[39mstrip()\n\u001b[1;32m     29\u001b[0m     resultados\u001b[39m.\u001b[39mappend([titulo, fecha, autor, flora_type, href])\n\u001b[1;32m     31\u001b[0m \u001b[39mreturn\u001b[39;00m resultados\n",
      "File \u001b[0;32m~/anaconda3/lib/python3.11/site-packages/selenium/webdriver/remote/webelement.py:416\u001b[0m, in \u001b[0;36mWebElement.find_element\u001b[0;34m(self, by, value)\u001b[0m\n\u001b[1;32m    413\u001b[0m     by \u001b[39m=\u001b[39m By\u001b[39m.\u001b[39mCSS_SELECTOR\n\u001b[1;32m    414\u001b[0m     value \u001b[39m=\u001b[39m \u001b[39mf\u001b[39m\u001b[39m'\u001b[39m\u001b[39m[name=\u001b[39m\u001b[39m\"\u001b[39m\u001b[39m{\u001b[39;00mvalue\u001b[39m}\u001b[39;00m\u001b[39m\"\u001b[39m\u001b[39m]\u001b[39m\u001b[39m'\u001b[39m\n\u001b[0;32m--> 416\u001b[0m \u001b[39mreturn\u001b[39;00m \u001b[39mself\u001b[39m\u001b[39m.\u001b[39m_execute(Command\u001b[39m.\u001b[39mFIND_CHILD_ELEMENT, {\u001b[39m\"\u001b[39m\u001b[39musing\u001b[39m\u001b[39m\"\u001b[39m: by, \u001b[39m\"\u001b[39m\u001b[39mvalue\u001b[39m\u001b[39m\"\u001b[39m: value})[\u001b[39m\"\u001b[39m\u001b[39mvalue\u001b[39m\u001b[39m\"\u001b[39m]\n",
      "File \u001b[0;32m~/anaconda3/lib/python3.11/site-packages/selenium/webdriver/remote/webelement.py:394\u001b[0m, in \u001b[0;36mWebElement._execute\u001b[0;34m(self, command, params)\u001b[0m\n\u001b[1;32m    392\u001b[0m     params \u001b[39m=\u001b[39m {}\n\u001b[1;32m    393\u001b[0m params[\u001b[39m\"\u001b[39m\u001b[39mid\u001b[39m\u001b[39m\"\u001b[39m] \u001b[39m=\u001b[39m \u001b[39mself\u001b[39m\u001b[39m.\u001b[39m_id\n\u001b[0;32m--> 394\u001b[0m \u001b[39mreturn\u001b[39;00m \u001b[39mself\u001b[39m\u001b[39m.\u001b[39m_parent\u001b[39m.\u001b[39mexecute(command, params)\n",
      "File \u001b[0;32m~/anaconda3/lib/python3.11/site-packages/selenium/webdriver/remote/webdriver.py:344\u001b[0m, in \u001b[0;36mWebDriver.execute\u001b[0;34m(self, driver_command, params)\u001b[0m\n\u001b[1;32m    342\u001b[0m response \u001b[39m=\u001b[39m \u001b[39mself\u001b[39m\u001b[39m.\u001b[39mcommand_executor\u001b[39m.\u001b[39mexecute(driver_command, params)\n\u001b[1;32m    343\u001b[0m \u001b[39mif\u001b[39;00m response:\n\u001b[0;32m--> 344\u001b[0m     \u001b[39mself\u001b[39m\u001b[39m.\u001b[39merror_handler\u001b[39m.\u001b[39mcheck_response(response)\n\u001b[1;32m    345\u001b[0m     response[\u001b[39m\"\u001b[39m\u001b[39mvalue\u001b[39m\u001b[39m\"\u001b[39m] \u001b[39m=\u001b[39m \u001b[39mself\u001b[39m\u001b[39m.\u001b[39m_unwrap_value(response\u001b[39m.\u001b[39mget(\u001b[39m\"\u001b[39m\u001b[39mvalue\u001b[39m\u001b[39m\"\u001b[39m, \u001b[39mNone\u001b[39;00m))\n\u001b[1;32m    346\u001b[0m     \u001b[39mreturn\u001b[39;00m response\n",
      "File \u001b[0;32m~/anaconda3/lib/python3.11/site-packages/selenium/webdriver/remote/errorhandler.py:229\u001b[0m, in \u001b[0;36mErrorHandler.check_response\u001b[0;34m(self, response)\u001b[0m\n\u001b[1;32m    227\u001b[0m         alert_text \u001b[39m=\u001b[39m value[\u001b[39m\"\u001b[39m\u001b[39malert\u001b[39m\u001b[39m\"\u001b[39m]\u001b[39m.\u001b[39mget(\u001b[39m\"\u001b[39m\u001b[39mtext\u001b[39m\u001b[39m\"\u001b[39m)\n\u001b[1;32m    228\u001b[0m     \u001b[39mraise\u001b[39;00m exception_class(message, screen, stacktrace, alert_text)  \u001b[39m# type: ignore[call-arg]  # mypy is not smart enough here\u001b[39;00m\n\u001b[0;32m--> 229\u001b[0m \u001b[39mraise\u001b[39;00m exception_class(message, screen, stacktrace)\n",
      "\u001b[0;31mNoSuchElementException\u001b[0m: Message: no such element: Unable to locate element: {\"method\":\"xpath\",\"selector\":\"./figcaption[2]/div[2]/p\"}\n  (Session info: chrome=120.0.6099.129); For documentation on this error, please visit: https://www.selenium.dev/documentation/webdriver/troubleshooting/errors#no-such-element-exception\nStacktrace:\n0   chromedriver                        0x0000000104bcc4dc chromedriver + 4162780\n1   chromedriver                        0x0000000104bc4664 chromedriver + 4130404\n2   chromedriver                        0x000000010481bbc0 chromedriver + 293824\n3   chromedriver                        0x0000000104862040 chromedriver + 581696\n4   chromedriver                        0x0000000104857250 chromedriver + 537168\n5   chromedriver                        0x00000001048a1ab0 chromedriver + 842416\n6   chromedriver                        0x00000001048556bc chromedriver + 530108\n7   chromedriver                        0x0000000104856930 chromedriver + 534832\n8   chromedriver                        0x0000000104b91e08 chromedriver + 3923464\n9   chromedriver                        0x0000000104b963dc chromedriver + 3941340\n10  chromedriver                        0x0000000104b7a038 chromedriver + 3825720\n11  chromedriver                        0x0000000104b96f3c chromedriver + 3944252\n12  chromedriver                        0x0000000104b6c6f4 chromedriver + 3770100\n13  chromedriver                        0x0000000104bb3980 chromedriver + 4061568\n14  chromedriver                        0x0000000104bb3af8 chromedriver + 4061944\n15  chromedriver                        0x0000000104bc42e4 chromedriver + 4129508\n16  libsystem_pthread.dylib             0x00000001ac1c3fa8 _pthread_start + 148\n17  libsystem_pthread.dylib             0x00000001ac1beda0 thread_start + 8\n"
     ]
    }
   ],
   "source": [
    "from selenium import webdriver\n",
    "from selenium.webdriver.common.by import By\n",
    "from selenium.webdriver.support.ui import WebDriverWait\n",
    "from selenium.webdriver.support import expected_conditions as EC\n",
    "\n",
    "def scrapeo_flora_data(driver, url, flora_type):\n",
    "    driver.get(url)\n",
    "    \n",
    "    resultados = []\n",
    "    \n",
    "    # Espera hasta que los elementos figure estén presentes y visibles\n",
    "    wait = WebDriverWait(driver, 10)\n",
    "    wait.until(EC.presence_of_all_elements_located((By.XPATH, '//*[@id=\"panResultados\"]/div/figure')))\n",
    "    \n",
    "    # Encuentra todos los elementos figure en el XPath especificado\n",
    "    figures = driver.find_elements(By.XPATH, '//*[@id=\"panResultados\"]/div/figure')\n",
    "    \n",
    "    for figure in figures:\n",
    "        # Extrae el enlace (href) de cada figura\n",
    "        href = figure.find_element(By.XPATH, './figcaption[1]/div/p[1]/a').get_attribute('href')\n",
    "        \n",
    "        # Extrae la información de título, fecha y autor de cada figure\n",
    "\n",
    "        titulo = figure.find_element(By.XPATH, './figcaption[1]/div/p[1]/a').text.strip()\n",
    "        fecha = figure.find_element(By.XPATH, './figcaption[1]/div/p[2]').text.strip()\n",
    "        autor = figure.find_element(By.XPATH, './figcaption[2]/div[2]/p').text.strip()\n",
    "        \n",
    "        resultados.append([titulo, fecha, autor, flora_type, href])\n",
    "    \n",
    "    return resultados\n",
    "\n",
    "# URL específica\n",
    "url = 'https://www.museodelprado.es/coleccion/obras-de-arte?searchObras=zulla%20/%20pipirigallo%20(hedysarum%20coronarium)'\n",
    "\n",
    "# Tipo de flora\n",
    "flora_type = 'Zulla / Pipirigallo (Hedysarum Coronarium)'\n",
    "\n",
    "# Configura el driver de Selenium (asegúrate de que el navegador esté instalado y el webdriver configurado)\n",
    "driver = webdriver.Chrome()\n",
    "\n",
    "# Ejecuta la función\n",
    "resultados = scrapeo_flora_data(driver, url, flora_type)\n",
    "\n",
    "# Imprime los resultados\n",
    "for resultado in resultados:\n",
    "    print(resultado)\n",
    "\n",
    "# Cierra el navegador al finalizar\n",
    "driver.quit()\n"
   ]
  },
  {
   "cell_type": "code",
   "execution_count": 45,
   "id": "c72a15a2",
   "metadata": {},
   "outputs": [
    {
     "name": "stdout",
     "output_type": "stream",
     "text": [
      "['Las tres Gracias', 'Óleo sobre tabla de madera de roble. 1630 - 1635', 'No se encontró autor', 'Zulla / Pipirigallo (Hedysarum Coronarium)', 'https://www.museodelprado.es/coleccion/obra-de-arte/las-tres-gracias/145eadd9-0b54-4b2d-affe-09af370b6932']\n"
     ]
    }
   ],
   "source": [
    "from selenium.webdriver.common.by import By\n",
    "from selenium.webdriver.support.ui import WebDriverWait\n",
    "from selenium.webdriver.support import expected_conditions as EC\n",
    "from selenium import webdriver\n",
    "\n",
    "def scrapeo_flora_data(driver, url, flora_type):\n",
    "    driver.get(url)\n",
    "\n",
    "    time.sleep(4)\n",
    "    \n",
    "    resultados = []\n",
    "    \n",
    "    # Espera hasta que los elementos figure estén presentes y visibles\n",
    "    wait = WebDriverWait(driver, 10)\n",
    "    wait.until(EC.presence_of_all_elements_located((By.XPATH, '//*[@id=\"panResultados\"]/div/figure')))\n",
    "    wait.until(EC.visibility_of_all_elements_located((By.XPATH, '//*[@id=\"panResultados\"]/div/figure')))\n",
    "    \n",
    "    # Encuentra todos los elementos figure en el XPath especificado\n",
    "    figures = driver.find_elements(By.XPATH, '//*[@id=\"panResultados\"]/div/figure')\n",
    "    \n",
    "    for figure in figures:\n",
    "        # Extrae el enlace (href) de cada figura\n",
    "        href = figure.find_element(By.XPATH, './figcaption[1]/div/p[1]/a').get_attribute('href')\n",
    "        \n",
    "        # Extrae la información de título, fecha y autor de cada figura\n",
    "        titulo = figure.find_element(By.XPATH, './figcaption[1]/div/p[1]/a').text.strip()\n",
    "        fecha = figure.find_element(By.XPATH, './figcaption[1]/div/p[2]').text.strip()\n",
    "        \n",
    "        # Agregamos una espera antes de intentar encontrar el tercer párrafo\n",
    "        try:\n",
    "            autor = WebDriverWait(figure, 3).until(\n",
    "                EC.presence_of_element_located((By.XPATH, './figcaption[2]/div[2]/p'))\n",
    "            ).text.strip()\n",
    "        except:\n",
    "            autor = \"No se encontró autor\"\n",
    "        \n",
    "        resultados.append([titulo, fecha, autor, flora_type, href])\n",
    "    \n",
    "    return resultados\n",
    "\n",
    "# URL específica\n",
    "url = 'https://www.museodelprado.es/coleccion/obras-de-arte?searchObras=zulla%20/%20pipirigallo%20(hedysarum%20coronarium)'\n",
    "\n",
    "# Tipo de flora\n",
    "flora_type = 'Zulla / Pipirigallo (Hedysarum Coronarium)'\n",
    "\n",
    "# Configura el driver de Selenium (asegúrate de que el navegador esté instalado y el webdriver configurado)\n",
    "driver = webdriver.Chrome()\n",
    "\n",
    "# Ejecuta la función\n",
    "resultados = scrapeo_flora_data(driver, url, flora_type)\n",
    "\n",
    "# Imprime los resultados\n",
    "for resultado in resultados:\n",
    "    print(resultado)\n",
    "\n",
    "# Cierra el navegador al finalizar\n",
    "driver.quit()\n"
   ]
  },
  {
   "cell_type": "code",
   "execution_count": 63,
   "id": "9f7c65ea",
   "metadata": {},
   "outputs": [
    {
     "name": "stdout",
     "output_type": "stream",
     "text": [
      "['Escenas de La historia de Nastagio degli Onesti', 'Técnica mixta sobre tabla. 1483', 'No se encontró información sobre el autor', 'Zulla / Pipirigallo (Hedysarum Coronarium)', 'https://www.museodelprado.es/coleccion/obra-de-arte/escenas-de-la-historia-de-nastagio-degli-onesti/8fe1ac8b-2a99-447f-99f7-e4e90a421991']\n",
      "['La Tierra', 'Óleo sobre lienzo. Siglo XVI', 'No se encontró información sobre el autor', 'Zulla / Pipirigallo (Hedysarum Coronarium)', 'https://www.museodelprado.es/coleccion/obra-de-arte/la-tierra/6d28a6cd-2984-4efa-a8c0-abb0513b4825']\n",
      "['Guirnalda con la Adoración de los Reyes Magos', 'Óleo sobre lámina de cobre. Siglos XVI - XVII', 'No se encontró información sobre el autor', 'Zulla / Pipirigallo (Hedysarum Coronarium)', 'https://www.museodelprado.es/coleccion/obra-de-arte/guirnalda-con-la-adoracion-de-los-reyes-magos/e8c3288f-95b9-4cfc-bcf2-34b386670712']\n",
      "['La Virgen con el Niño, Santa Dorotea y San Jorge', 'Óleo sobre tabla. 1515 - 1518', 'No se encontró información sobre el autor', 'Zulla / Pipirigallo (Hedysarum Coronarium)', 'https://www.museodelprado.es/coleccion/obra-de-arte/la-virgen-con-el-nio-santa-dorotea-y-san-jorge/cb4b0922-04a4-4318-91ed-bbc4c7b60d78']\n",
      "['Santo Tomás y un donante', 'Óleo sobre tabla. Hacia 1528', 'No se encontró información sobre el autor', 'Zulla / Pipirigallo (Hedysarum Coronarium)', 'https://www.museodelprado.es/coleccion/obra-de-arte/santo-tomas-y-un-donante/910ba815-edca-4609-a09e-6163690b879d']\n",
      "['Santa Ana, la Virgen, Santa Isabel, San Juan y Jesús niño', 'Óleo sobre tabla. 1525 - 1532', 'No se encontró información sobre el autor', 'Zulla / Pipirigallo (Hedysarum Coronarium)', 'https://www.museodelprado.es/coleccion/obra-de-arte/santa-ana-la-virgen-santa-isabel-san-juan-y-jesus/0467e8eb-c066-4052-b257-b5cbccd8c17a']\n",
      "['Faenas campestres o La Primavera', 'Óleo sobre lienzo. Segunda mitad del siglo XVI', 'No se encontró información sobre el autor', 'Zulla / Pipirigallo (Hedysarum Coronarium)', 'https://www.museodelprado.es/coleccion/obra-de-arte/faenas-campestres-o-la-primavera/39ba90e9-c136-4a50-8779-1b5f39664a77']\n",
      "['María Tudor, reina de Inglaterra', 'Óleo sobre tabla. 1554', 'No se encontró información sobre el autor', 'Zulla / Pipirigallo (Hedysarum Coronarium)', 'https://www.museodelprado.es/coleccion/obra-de-arte/maria-tudor-reina-de-inglaterra/aef6ebc4-081a-44e6-974d-6c24aef95fc4']\n",
      "['Mujer en el baño (¿Diana de Poitiers?)', 'Óleo sobre tabla de madera de roble. Hacia 1566', 'No se encontró información sobre el autor', 'Zulla / Pipirigallo (Hedysarum Coronarium)', 'https://www.museodelprado.es/coleccion/obra-de-arte/mujer-en-el-bao-diana-de-poitiers/53802163-fa8b-4ff9-909d-a48f08dabb4a']\n",
      "['Felipe de Medici, hijo de Francisco I', 'Óleo sobre lienzo. Hacia 1581', 'No se encontró información sobre el autor', 'Zulla / Pipirigallo (Hedysarum Coronarium)', 'https://www.museodelprado.es/coleccion/obra-de-arte/felipe-de-medici-hijo-de-francisco-i/fc011fe7-fd28-450f-9f2b-a9ec09c95a4e']\n",
      "['Flora', 'Óleo sobre lienzo. Hacia 1590', 'No se encontró información sobre el autor', 'Zulla / Pipirigallo (Hedysarum Coronarium)', 'https://www.museodelprado.es/coleccion/obra-de-arte/flora/75433e89-da34-49f1-9589-a4eed9bf0def']\n",
      "['La Anunciación', 'Óleo sobre lienzo. Finales del siglo XVI - Primer tercio del siglo XVII', 'No se encontró información sobre el autor', 'Zulla / Pipirigallo (Hedysarum Coronarium)', 'https://www.museodelprado.es/coleccion/obra-de-arte/la-anunciacion/30725936-59f8-44de-8199-5938f0e939bb']\n",
      "['Vase of Flowers', 'Óleo sobre tabla. 1600 - 1625', 'No se encontró información sobre el autor', 'Zulla / Pipirigallo (Hedysarum Coronarium)', 'https://www.museodelprado.es/coleccion/obra-de-arte/vase-of-flowers/fd6a907f-5c28-45f4-9443-dcaec9646c07']\n",
      "['Flores sobre un plato', 'Óleo sobre tabla. Primer cuarto del siglo XVII', 'No se encontró información sobre el autor', 'Zulla / Pipirigallo (Hedysarum Coronarium)', 'https://www.museodelprado.es/coleccion/obra-de-arte/flores-sobre-un-plato/759e17f9-cefc-4436-b500-94b008cd1a85']\n",
      "['Florero', 'Óleo sobre lienzo. Primer cuarto del siglo XVII', 'No se encontró información sobre el autor', 'Zulla / Pipirigallo (Hedysarum Coronarium)', 'https://www.museodelprado.es/coleccion/obra-de-arte/florero/52d7209e-588d-4277-b8b7-956279c303f1']\n",
      "['Florero', 'Óleo sobre lienzo. Primer cuarto del siglo XVII', 'No se encontró información sobre el autor', 'Zulla / Pipirigallo (Hedysarum Coronarium)', 'https://www.museodelprado.es/coleccion/obra-de-arte/florero/eb0e34ad-038c-4d83-9ac3-230d46d9391c']\n",
      "['Guirnalda de flores con la Virgen, el Niño y San Juan', 'Óleo sobre lienzo. Primera mitad del siglo XVII', 'No se encontró información sobre el autor', 'Zulla / Pipirigallo (Hedysarum Coronarium)', 'https://www.museodelprado.es/coleccion/obra-de-arte/guirnalda-de-flores-con-la-virgen-el-nio-y-san/3582675b-cb97-4560-881b-7ec6d35ac146']\n",
      "['La Primavera', 'Óleo sobre lienzo. 1601 - 1650', 'No se encontró información sobre el autor', 'Zulla / Pipirigallo (Hedysarum Coronarium)', 'https://www.museodelprado.es/coleccion/obra-de-arte/la-primavera/83a9c89f-73b6-45f8-ad4d-a703d8397bae']\n"
     ]
    }
   ],
   "source": [
    "from selenium import webdriver\n",
    "from selenium.webdriver.common.by import By\n",
    "from selenium.webdriver.support.ui import WebDriverWait\n",
    "from selenium.webdriver.support import expected_conditions as EC\n",
    "from selenium.common.exceptions import NoSuchElementException\n",
    "\n",
    "def scrapeo_flora_data(driver, url, flora_type):\n",
    "    driver.get(url)\n",
    "\n",
    "    time.sleep(4)\n",
    "    \n",
    "    resultados = []\n",
    "    \n",
    "    # Espera hasta que los elementos figure estén presentes y visibles\n",
    "    wait = WebDriverWait(driver, 10)\n",
    "    wait.until(EC.presence_of_all_elements_located((By.XPATH, '//*[@id=\"panResultados\"]/div/figure')))\n",
    "    wait.until(EC.visibility_of_all_elements_located((By.XPATH, '//*[@id=\"panResultados\"]/div/figure')))\n",
    "    \n",
    "    # Encuentra todos los elementos figure en el XPath especificado\n",
    "    figures = driver.find_elements(By.XPATH, '//*[@id=\"panResultados\"]/div/figure')\n",
    "    \n",
    "    for figure in figures:\n",
    "        try:\n",
    "            # Extrae el enlace (href) de cada figura\n",
    "            href = figure.find_element(By.XPATH, './figcaption[1]/div/p[1]/a').get_attribute('href')\n",
    "\n",
    "            # Intenta extraer la información de título y fecha de cada figura\n",
    "            try:\n",
    "                titulo = figure.find_element(By.XPATH, './figcaption[1]/div/p[1]/a').text.strip()\n",
    "            except NoSuchElementException:\n",
    "                titulo = \"No se encontró información sobre el título\"\n",
    "            \n",
    "            try:\n",
    "                fecha = figure.find_element(By.XPATH, './figcaption[1]/div/p[2]').text.strip()\n",
    "            except NoSuchElementException:\n",
    "                fecha = \"No se encontró información sobre la fecha\"\n",
    "            \n",
    "            # Intenta obtener el autor\n",
    "            try:\n",
    "                autor = figure.find_element(By.XPATH, './figcaption[2]/div[2]/p').text.strip()\n",
    "            except NoSuchElementException:\n",
    "                autor = \"No se encontró información sobre el autor\"\n",
    "            \n",
    "            # Agrega más bloques try-except para otros elementos si es necesario\n",
    "            \n",
    "        except Exception as e:\n",
    "            # Si hay alguna excepción, imprime un mensaje y continua con la siguiente figura\n",
    "            print(f\"Error al procesar figura: {e}\")\n",
    "            continue\n",
    "        \n",
    "        resultados.append([titulo, fecha, autor, flora_type, href])\n",
    "    \n",
    "    return resultados\n",
    "\n",
    "# URL específica\n",
    "url = 'https://www.museodelprado.es/coleccion/obras-de-arte?ecidoc:p65_E36_p138_represents_flora@@@pm:floraNode=http://museodelprado.es/items/biologicalobjectflora_275'\n",
    "\n",
    "# Tipo de flora\n",
    "flora_type = 'Zulla / Pipirigallo (Hedysarum Coronarium)'\n",
    "\n",
    "# Configura el driver de Selenium (asegúrate de que el navegador esté instalado y el webdriver configurado)\n",
    "driver = webdriver.Chrome()\n",
    "\n",
    "# Ejecuta la función\n",
    "resultados = scrapeo_flora_data(driver, url, flora_type)\n",
    "\n",
    "# Imprime los resultados\n",
    "for resultado in resultados:\n",
    "    print(resultado)\n",
    "\n",
    "# Cierra el navegador al finalizar\n",
    "driver.quit()\n"
   ]
  },
  {
   "cell_type": "code",
   "execution_count": 70,
   "id": "8173112a",
   "metadata": {},
   "outputs": [],
   "source": [
    "import re\n",
    "import statistics as stats\n",
    "import requests as req\n",
    "import numpy as np\n",
    "import pandas as pd\n",
    "pd.set_option('display.max_columns', None)\n",
    "pd.set_option('display.max_rows', None)\n",
    "\n",
    "\n",
    "\n",
    "\n",
    "from selenium import webdriver\n",
    "from selenium.webdriver.common.keys import Keys\n",
    "from webdriver_manager.chrome import ChromeDriverManager\n",
    "from selenium.webdriver.support.ui import WebDriverWait\n",
    "from selenium.webdriver.support import expected_conditions as EC\n",
    "from selenium.webdriver import ActionChains as AC   # acciones encadenadas\n",
    "from selenium.webdriver.common.by import By\n",
    "from selenium.webdriver.chrome.options import Options\n",
    "\n",
    "\n",
    "\n",
    "import tqdm\n",
    "from bs4 import BeautifulSoup\n",
    "import time\n",
    "import re\n",
    "import json\n",
    "\n",
    "import warnings\n",
    "warnings.filterwarnings('ignore')\n",
    "\n",
    "import sys\n",
    "sys.path.append('../src')\n",
    "\n",
    "from pymongo import MongoClient"
   ]
  },
  {
   "cell_type": "code",
   "execution_count": 65,
   "id": "db3f0e4f",
   "metadata": {},
   "outputs": [
    {
     "name": "stdout",
     "output_type": "stream",
     "text": [
      "['Las tres Gracias', 'Óleo sobre tabla de madera de roble. 1630 - 1635', 'No se encontró información sobre el autor', 'Zulla / Pipirigallo (Hedysarum Coronarium)', 'https://www.museodelprado.es/coleccion/obra-de-arte/las-tres-gracias/145eadd9-0b54-4b2d-affe-09af370b6932']\n"
     ]
    }
   ],
   "source": [
    "from selenium import webdriver\n",
    "from selenium.webdriver.common.by import By\n",
    "from selenium.webdriver.support.ui import WebDriverWait\n",
    "from selenium.webdriver.support import expected_conditions as EC\n",
    "from selenium.common.exceptions import NoSuchElementException\n",
    "\n",
    "def scrapeo_flora_data(driver, url, flora_type):\n",
    "    driver.get(url)\n",
    "\n",
    "    time.sleep(4)\n",
    "    \n",
    "    resultados = []\n",
    "    \n",
    "    # Espera hasta que los elementos figure estén presentes y visibles\n",
    "    wait = WebDriverWait(driver, 10)\n",
    "    wait.until(EC.presence_of_all_elements_located((By.XPATH, '//*[@id=\"panResultados\"]/div/figure')))\n",
    "    \n",
    "    # Encuentra todos los elementos figure en el XPath especificado\n",
    "    figures = driver.find_elements(By.XPATH, '//*[@id=\"panResultados\"]/div/figure')\n",
    "    \n",
    "    for figure in figures:\n",
    "        try:\n",
    "            # Extrae el enlace (href) de cada figura\n",
    "            href = figure.find_element(By.XPATH, './figcaption[1]/div/p[1]/a').get_attribute('href')\n",
    "\n",
    "            # Intenta extraer la información de título y fecha de cada figura\n",
    "            try:\n",
    "                titulo = figure.find_element(By.XPATH, './figcaption[1]/div/p[1]/a').text.strip()\n",
    "            except NoSuchElementException:\n",
    "                titulo = \"No se encontró información sobre el título\"\n",
    "            \n",
    "            try:\n",
    "                fecha = figure.find_element(By.XPATH, './figcaption[1]/div/p[2]').text.strip()\n",
    "            except NoSuchElementException:\n",
    "                fecha = \"No se encontró información sobre la fecha\"\n",
    "            \n",
    "            # Intenta obtener el autor\n",
    "            try:\n",
    "                autor = figure.find_element(By.XPATH, './figcaption[2]/div[2]/p').text.strip()\n",
    "            except NoSuchElementException:\n",
    "                autor = \"No se encontró información sobre el autor\"\n",
    "            \n",
    "            # Agrega más bloques try-except para otros elementos si es necesario\n",
    "            \n",
    "        except Exception as e:\n",
    "            # Si hay alguna excepción, imprime un mensaje y continua con la siguiente figura\n",
    "            print(f\"Error al procesar figura: {e}\")\n",
    "            continue\n",
    "        \n",
    "        resultados.append([titulo, fecha, autor, flora_type, href])\n",
    "    \n",
    "    return resultados\n",
    "\n",
    "# URL específica\n",
    "url = 'https://www.museodelprado.es/coleccion/obras-de-arte?searchObras=zulla%20/%20pipirigallo%20(hedysarum%20coronarium)'\n",
    "\n",
    "# Tipo de flora\n",
    "flora_type = 'Zulla / Pipirigallo (Hedysarum Coronarium)'\n",
    "\n",
    "# Configura el driver de Selenium (asegúrate de que el navegador esté instalado y el webdriver configurado)\n",
    "driver = webdriver.Chrome()\n",
    "\n",
    "# Ejecuta la función\n",
    "resultados = scrapeo_flora_data(driver, url, flora_type)\n",
    "\n",
    "# Imprime los resultados\n",
    "for resultado in resultados:\n",
    "    print(resultado)\n",
    "\n",
    "# Cierra el navegador al finalizar\n",
    "driver.quit()\n"
   ]
  },
  {
   "cell_type": "code",
   "execution_count": 71,
   "id": "f28cf686",
   "metadata": {},
   "outputs": [
    {
     "data": {
      "text/plain": [
       "[['Las tres Gracias',\n",
       "  'Óleo sobre tabla de madera de roble. 1630 - 1635',\n",
       "  'No se encontró información sobre el autor',\n",
       "  'Zulla / Pipirigallo (Hedysarum Coronarium)',\n",
       "  'https://www.museodelprado.es/coleccion/obra-de-arte/las-tres-gracias/145eadd9-0b54-4b2d-affe-09af370b6932']]"
      ]
     },
     "execution_count": 71,
     "metadata": {},
     "output_type": "execute_result"
    }
   ],
   "source": [
    "from selenium import webdriver\n",
    "from selenium.webdriver.common.by import By\n",
    "from selenium.webdriver.support.ui import WebDriverWait\n",
    "from selenium.webdriver.support import expected_conditions as EC\n",
    "from selenium.common.exceptions import NoSuchElementException\n",
    "\n",
    "\n",
    "\n",
    "def scrapeo_flora_data(driver, url, flora_type):\n",
    "    driver.get(url)\n",
    "    time.sleep(4)\n",
    "    \n",
    "    \n",
    "    \n",
    "    # Espera hasta que los elementos figure estén presentes y visibles\n",
    "    wait = WebDriverWait(driver, 10)\n",
    "    wait.until(EC.presence_of_all_elements_located((By.XPATH, '//*[@id=\"panResultados\"]/div/figure')))\n",
    "    \n",
    "    # Encuentra todos los elementos figure en el XPath especificado\n",
    "    figures = driver.find_elements(By.XPATH, '//*[@id=\"panResultados\"]/div/figure')\n",
    "    resultados = []\n",
    "    \n",
    "    # Encuentra todos los elementos figure en el XPath especificado\n",
    "    figures = driver.find_elements(By.XPATH, '//*[@id=\"panResultados\"]/div/figure')\n",
    "    \n",
    "    for figure in figures:\n",
    "        try:\n",
    "\n",
    "            # Extrae la información de cada figura\n",
    "            titulo = figure.find_element(By.XPATH, './figcaption[1]/div/p[1]/a').text.strip()\n",
    "            href = figure.find_element(By.XPATH, './figcaption[1]/div/p[1]/a').get_attribute('href')\n",
    "            fecha = figure.find_element(By.XPATH, './figcaption[1]/div/p[2]').text.strip()\n",
    "            autor = figure.find_element(By.XPATH, './figcaption[2]/div[2]/p').text.strip()\n",
    "            \n",
    "            resultados.append([titulo, fecha, autor, flora_type, href])\n",
    "\n",
    "        except Exception as e:\n",
    "            # Si hay alguna excepción, imprime un mensaje y continua con la siguiente figura\n",
    "            print(f\"Error al procesar figura: {e}\")\n",
    "            continue\n",
    "        \n",
    "        resultados.append([titulo, fecha, autor, flora_type, href])\n",
    "        \n",
    "    return resultados\n",
    "resultados"
   ]
  },
  {
   "cell_type": "code",
   "execution_count": null,
   "id": "171dee77",
   "metadata": {},
   "outputs": [],
   "source": []
  }
 ],
 "metadata": {
  "kernelspec": {
   "display_name": "Python 3 (ipykernel)",
   "language": "python",
   "name": "python3"
  },
  "language_info": {
   "codemirror_mode": {
    "name": "ipython",
    "version": 3
   },
   "file_extension": ".py",
   "mimetype": "text/x-python",
   "name": "python",
   "nbconvert_exporter": "python",
   "pygments_lexer": "ipython3",
   "version": "3.11.5"
  }
 },
 "nbformat": 4,
 "nbformat_minor": 5
}
