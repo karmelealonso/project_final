{
 "cells": [
  {
   "cell_type": "code",
   "execution_count": 1,
   "metadata": {},
   "outputs": [],
   "source": [
    "#Import your libraries\n",
    "\n",
    "import numpy as np\n",
    "import pandas as pd\n",
    "import re\n",
    "import warnings\n",
    "warnings.filterwarnings('ignore')\n",
    "import pylab as plt\n",
    "import seaborn as sns\n",
    "import difflib\n",
    "#%pip install fuzzywuzzy\n",
    "from fuzzywuzzy import fuzz\n",
    "pd.set_option('display.max_columns', None)\n",
    "pd.set_option('display.max_rows', None)\n"
   ]
  },
  {
   "cell_type": "code",
   "execution_count": 2,
   "metadata": {},
   "outputs": [],
   "source": [
    "#Importo el CSV para limpiarlo y transformarlo:\n",
    "scrap_cuadros_completo = pd.read_csv(\"/Users/karmelealonsoaia/Desktop/ironhack_labs/PROYECTOS/project_final/data/data_def/scrap_cuadros_completo.csv\")"
   ]
  },
  {
   "cell_type": "code",
   "execution_count": 3,
   "metadata": {},
   "outputs": [
    {
     "data": {
      "text/plain": [
       "(44724, 10)"
      ]
     },
     "execution_count": 3,
     "metadata": {},
     "output_type": "execute_result"
    }
   ],
   "source": [
    "dim_original = scrap_cuadros_completo.shape # De esta forma guardo las dimensiones del data frame original.\n",
    "scrap_cuadros_completo.shape"
   ]
  },
  {
   "cell_type": "code",
   "execution_count": 4,
   "metadata": {},
   "outputs": [],
   "source": [
    "cuadros_completo = scrap_cuadros_completo.copy() #Hago una copia del original por si luego quiero acceder a él."
   ]
  },
  {
   "cell_type": "markdown",
   "metadata": {},
   "source": [
    "# Exploración y transformación."
   ]
  },
  {
   "cell_type": "markdown",
   "metadata": {},
   "source": [
    "En primer lugar, puesto que nuestro objeto de estudio es acerca dela información de iconografía en las obras del Museo Del Prado, eliminaré todas aquellas filas en las que los datos de las cinco columnas pertenecientes a este grupo sean valores nulos."
   ]
  },
  {
   "cell_type": "code",
   "execution_count": 5,
   "metadata": {},
   "outputs": [],
   "source": [
    "columnas_interes = ['Fauna', 'Flora', 'Personajes', 'Objetos', 'Geografico']\n",
    "cuadros_completo = cuadros_completo.dropna(subset=columnas_interes, how='all')"
   ]
  },
  {
   "cell_type": "code",
   "execution_count": 6,
   "metadata": {},
   "outputs": [
    {
     "data": {
      "text/html": [
       "<div>\n",
       "<style scoped>\n",
       "    .dataframe tbody tr th:only-of-type {\n",
       "        vertical-align: middle;\n",
       "    }\n",
       "\n",
       "    .dataframe tbody tr th {\n",
       "        vertical-align: top;\n",
       "    }\n",
       "\n",
       "    .dataframe thead th {\n",
       "        text-align: right;\n",
       "    }\n",
       "</style>\n",
       "<table border=\"1\" class=\"dataframe\">\n",
       "  <thead>\n",
       "    <tr style=\"text-align: right;\">\n",
       "      <th></th>\n",
       "      <th>Titulo</th>\n",
       "      <th>Soporte_Fecha</th>\n",
       "      <th>Autor</th>\n",
       "      <th>Personajes</th>\n",
       "      <th>Objetos</th>\n",
       "      <th>Flora</th>\n",
       "      <th>Fauna</th>\n",
       "      <th>Geografico</th>\n",
       "      <th>Escuela</th>\n",
       "      <th>Ubicacion</th>\n",
       "    </tr>\n",
       "  </thead>\n",
       "  <tbody>\n",
       "    <tr>\n",
       "      <th>0</th>\n",
       "      <td>El sumo sacerdote Aarón</td>\n",
       "      <td>Óleo sobre tabla. 1545 - 1550</td>\n",
       "      <td>JUANES, JUAN DE</td>\n",
       "      <td>Aarón\\nEliminar</td>\n",
       "      <td>NaN</td>\n",
       "      <td>NaN</td>\n",
       "      <td>NaN</td>\n",
       "      <td>NaN</td>\n",
       "      <td>NaN</td>\n",
       "      <td>Sala 051\\nEliminar</td>\n",
       "    </tr>\n",
       "    <tr>\n",
       "      <th>1</th>\n",
       "      <td>Los israelitas bebiendo el agua milagrosa</td>\n",
       "      <td>Óleo sobre lienzo. 1566 - 1568</td>\n",
       "      <td>BASSANO, JACOPO</td>\n",
       "      <td>Aarón\\nEliminar</td>\n",
       "      <td>NaN</td>\n",
       "      <td>NaN</td>\n",
       "      <td>NaN</td>\n",
       "      <td>NaN</td>\n",
       "      <td>NaN</td>\n",
       "      <td>NaN</td>\n",
       "    </tr>\n",
       "    <tr>\n",
       "      <th>2</th>\n",
       "      <td>Los israelitas bebiendo el agua milagrosa</td>\n",
       "      <td>Óleo sobre lienzo. 1566 - 1568</td>\n",
       "      <td>BASSANO, JACOPO</td>\n",
       "      <td>Moisés\\nEliminar</td>\n",
       "      <td>NaN</td>\n",
       "      <td>NaN</td>\n",
       "      <td>NaN</td>\n",
       "      <td>NaN</td>\n",
       "      <td>NaN</td>\n",
       "      <td>NaN</td>\n",
       "    </tr>\n",
       "    <tr>\n",
       "      <th>3</th>\n",
       "      <td>Retablo de la Virgen</td>\n",
       "      <td>Temple sobre tabla. 1435 - 1440</td>\n",
       "      <td>MAESTRO DE TORRALBA</td>\n",
       "      <td>Abacuc\\nEliminar</td>\n",
       "      <td>NaN</td>\n",
       "      <td>NaN</td>\n",
       "      <td>NaN</td>\n",
       "      <td>NaN</td>\n",
       "      <td>NaN</td>\n",
       "      <td>Sala 052A\\nEliminar</td>\n",
       "    </tr>\n",
       "    <tr>\n",
       "      <th>4</th>\n",
       "      <td>Retablo de la Virgen</td>\n",
       "      <td>Temple sobre tabla. 1435 - 1440</td>\n",
       "      <td>MAESTRO DE TORRALBA</td>\n",
       "      <td>Amós\\nEliminar</td>\n",
       "      <td>NaN</td>\n",
       "      <td>NaN</td>\n",
       "      <td>NaN</td>\n",
       "      <td>NaN</td>\n",
       "      <td>NaN</td>\n",
       "      <td>Sala 052A\\nEliminar</td>\n",
       "    </tr>\n",
       "  </tbody>\n",
       "</table>\n",
       "</div>"
      ],
      "text/plain": [
       "                                      Titulo                    Soporte_Fecha  \\\n",
       "0                    El sumo sacerdote Aarón    Óleo sobre tabla. 1545 - 1550   \n",
       "1  Los israelitas bebiendo el agua milagrosa   Óleo sobre lienzo. 1566 - 1568   \n",
       "2  Los israelitas bebiendo el agua milagrosa   Óleo sobre lienzo. 1566 - 1568   \n",
       "3                       Retablo de la Virgen  Temple sobre tabla. 1435 - 1440   \n",
       "4                       Retablo de la Virgen  Temple sobre tabla. 1435 - 1440   \n",
       "\n",
       "                 Autor        Personajes Objetos Flora Fauna Geografico  \\\n",
       "0      JUANES, JUAN DE   Aarón\\nEliminar     NaN   NaN   NaN        NaN   \n",
       "1      BASSANO, JACOPO   Aarón\\nEliminar     NaN   NaN   NaN        NaN   \n",
       "2      BASSANO, JACOPO  Moisés\\nEliminar     NaN   NaN   NaN        NaN   \n",
       "3  MAESTRO DE TORRALBA  Abacuc\\nEliminar     NaN   NaN   NaN        NaN   \n",
       "4  MAESTRO DE TORRALBA    Amós\\nEliminar     NaN   NaN   NaN        NaN   \n",
       "\n",
       "  Escuela            Ubicacion  \n",
       "0     NaN   Sala 051\\nEliminar  \n",
       "1     NaN                  NaN  \n",
       "2     NaN                  NaN  \n",
       "3     NaN  Sala 052A\\nEliminar  \n",
       "4     NaN  Sala 052A\\nEliminar  "
      ]
     },
     "execution_count": 6,
     "metadata": {},
     "output_type": "execute_result"
    }
   ],
   "source": [
    "cuadros_completo.head()"
   ]
  },
  {
   "cell_type": "code",
   "execution_count": 7,
   "metadata": {},
   "outputs": [
    {
     "data": {
      "text/plain": [
       "Index(['Titulo', 'Soporte_Fecha', 'Autor', 'Personajes', 'Objetos', 'Flora',\n",
       "       'Fauna', 'Geografico', 'Escuela', 'Ubicacion'],\n",
       "      dtype='object')"
      ]
     },
     "execution_count": 7,
     "metadata": {},
     "output_type": "execute_result"
    }
   ],
   "source": [
    "cuadros_completo.columns # Esto nos proporciona una enumeración de los nombres correspondientes a cada una de las columnas presentes en los datos."
   ]
  },
  {
   "cell_type": "markdown",
   "metadata": {},
   "source": [
    "Como en el scrapeo de los datos, la información acerca del soporte y la fecha la he obtenido de forma conjunta, voy a separar esta columna en dos diferentes, diferenciando la información específica de cada elemento."
   ]
  },
  {
   "cell_type": "code",
   "execution_count": 8,
   "metadata": {},
   "outputs": [],
   "source": [
    "\n",
    "cuadros_completo[['Soporte', 'Fecha']] = cuadros_completo['Soporte_Fecha'].str.split('.', n=1, expand=True)"
   ]
  },
  {
   "cell_type": "code",
   "execution_count": 9,
   "metadata": {},
   "outputs": [],
   "source": [
    "cuadros_completo.drop('Soporte_Fecha', axis=1, inplace=True) #elimino esta columna porque la información de la misma está ya contenida en las dos recién creadas."
   ]
  },
  {
   "cell_type": "code",
   "execution_count": 10,
   "metadata": {},
   "outputs": [
    {
     "name": "stdout",
     "output_type": "stream",
     "text": [
      "<class 'pandas.core.frame.DataFrame'>\n",
      "Index: 42633 entries, 0 to 42632\n",
      "Data columns (total 11 columns):\n",
      " #   Column      Non-Null Count  Dtype \n",
      "---  ------      --------------  ----- \n",
      " 0   Titulo      42633 non-null  object\n",
      " 1   Autor       42599 non-null  object\n",
      " 2   Personajes  13157 non-null  object\n",
      " 3   Objetos     30494 non-null  object\n",
      " 4   Flora       27784 non-null  object\n",
      " 5   Fauna       30674 non-null  object\n",
      " 6   Geografico  4508 non-null   object\n",
      " 7   Escuela     11756 non-null  object\n",
      " 8   Ubicacion   31382 non-null  object\n",
      " 9   Soporte     42633 non-null  object\n",
      " 10  Fecha       42608 non-null  object\n",
      "dtypes: object(11)\n",
      "memory usage: 3.9+ MB\n"
     ]
    }
   ],
   "source": [
    "cuadros_completo.info() # De este modo conzco el tipo de dato y los valores nulos que tiene cada una de las columnas."
   ]
  },
  {
   "cell_type": "code",
   "execution_count": 11,
   "metadata": {},
   "outputs": [],
   "source": [
    "#Relleno aquí los valores nulos con la palabra \"Desconocido\":\n",
    "cuadros_completo = cuadros_completo.fillna('Desconocido')"
   ]
  },
  {
   "cell_type": "markdown",
   "metadata": {},
   "source": [
    "# 1. \"Soporte\"."
   ]
  },
  {
   "cell_type": "code",
   "execution_count": 12,
   "metadata": {},
   "outputs": [],
   "source": [
    "#cuadros_completo['Soporte'].unique()"
   ]
  },
  {
   "cell_type": "code",
   "execution_count": 13,
   "metadata": {},
   "outputs": [
    {
     "data": {
      "text/html": [
       "<div>\n",
       "<style scoped>\n",
       "    .dataframe tbody tr th:only-of-type {\n",
       "        vertical-align: middle;\n",
       "    }\n",
       "\n",
       "    .dataframe tbody tr th {\n",
       "        vertical-align: top;\n",
       "    }\n",
       "\n",
       "    .dataframe thead th {\n",
       "        text-align: right;\n",
       "    }\n",
       "</style>\n",
       "<table border=\"1\" class=\"dataframe\">\n",
       "  <thead>\n",
       "    <tr style=\"text-align: right;\">\n",
       "      <th></th>\n",
       "      <th>Titulo</th>\n",
       "      <th>Autor</th>\n",
       "      <th>Personajes</th>\n",
       "      <th>Objetos</th>\n",
       "      <th>Flora</th>\n",
       "      <th>Fauna</th>\n",
       "      <th>Geografico</th>\n",
       "      <th>Escuela</th>\n",
       "      <th>Ubicacion</th>\n",
       "      <th>Soporte</th>\n",
       "      <th>Fecha</th>\n",
       "    </tr>\n",
       "  </thead>\n",
       "  <tbody>\n",
       "    <tr>\n",
       "      <th>3365</th>\n",
       "      <td>Guerras carlistas de 1873-1874</td>\n",
       "      <td>ANÓNIMO</td>\n",
       "      <td>Alfonso XII\\nEliminar</td>\n",
       "      <td>Desconocido</td>\n",
       "      <td>Desconocido</td>\n",
       "      <td>Desconocido</td>\n",
       "      <td>Desconocido</td>\n",
       "      <td>Desconocido</td>\n",
       "      <td>Desconocido</td>\n",
       "      <td>Después de 1874</td>\n",
       "      <td>Desconocido</td>\n",
       "    </tr>\n",
       "  </tbody>\n",
       "</table>\n",
       "</div>"
      ],
      "text/plain": [
       "                              Titulo    Autor             Personajes  \\\n",
       "3365  Guerras carlistas de 1873-1874  ANÓNIMO  Alfonso XII\\nEliminar   \n",
       "\n",
       "          Objetos        Flora        Fauna   Geografico      Escuela  \\\n",
       "3365  Desconocido  Desconocido  Desconocido  Desconocido  Desconocido   \n",
       "\n",
       "        Ubicacion          Soporte        Fecha  \n",
       "3365  Desconocido  Después de 1874  Desconocido  "
      ]
     },
     "execution_count": 13,
     "metadata": {},
     "output_type": "execute_result"
    }
   ],
   "source": [
    "cuadros_completo.loc[cuadros_completo['Soporte'] == 'Después de 1874']"
   ]
  },
  {
   "cell_type": "markdown",
   "metadata": {},
   "source": [
    "He podido observar que al separar la columna \"Soporte_Fecha\" existente anteriormente, como lo he hecho a partir del primer punto existente, al no contar, en algunos casos con la información del Soporte, la in formación de la Fecha se ha quedado en la columna de Soporte, por lo tanto, voy a modificar esto:"
   ]
  },
  {
   "cell_type": "code",
   "execution_count": 14,
   "metadata": {},
   "outputs": [],
   "source": [
    "# Definir una función lambda para verificar si hay un número o la palabra \"Siglo\" en la cadena\n",
    "condicion = lambda x: any(char.isdigit() for char in x) or 'Siglo' in x\n",
    "\n"
   ]
  },
  {
   "cell_type": "code",
   "execution_count": 15,
   "metadata": {},
   "outputs": [],
   "source": [
    "# Filtrar las filas que cumplen con la condición\n",
    "filas_condicion = cuadros_completo[cuadros_completo['Soporte'].apply(condicion)]"
   ]
  },
  {
   "cell_type": "code",
   "execution_count": 16,
   "metadata": {},
   "outputs": [],
   "source": [
    "# Mover los valores de 'Soporte' a 'Fecha' y asignar el valor 'Desconocido' a 'Soporte'\n",
    "cuadros_completo.loc[filas_condicion.index, 'Fecha'] = cuadros_completo.loc[filas_condicion.index, 'Soporte']\n",
    "cuadros_completo.loc[filas_condicion.index, 'Soporte'] = 'Desconocido'\n"
   ]
  },
  {
   "cell_type": "markdown",
   "metadata": {},
   "source": [
    "# 2. \"Fecha\""
   ]
  },
  {
   "cell_type": "code",
   "execution_count": 17,
   "metadata": {},
   "outputs": [
    {
     "data": {
      "text/html": [
       "<div>\n",
       "<style scoped>\n",
       "    .dataframe tbody tr th:only-of-type {\n",
       "        vertical-align: middle;\n",
       "    }\n",
       "\n",
       "    .dataframe tbody tr th {\n",
       "        vertical-align: top;\n",
       "    }\n",
       "\n",
       "    .dataframe thead th {\n",
       "        text-align: right;\n",
       "    }\n",
       "</style>\n",
       "<table border=\"1\" class=\"dataframe\">\n",
       "  <thead>\n",
       "    <tr style=\"text-align: right;\">\n",
       "      <th></th>\n",
       "      <th>Fecha</th>\n",
       "    </tr>\n",
       "  </thead>\n",
       "  <tbody>\n",
       "    <tr>\n",
       "      <th>0</th>\n",
       "      <td>1545 - 1550</td>\n",
       "    </tr>\n",
       "    <tr>\n",
       "      <th>1</th>\n",
       "      <td>1566 - 1568</td>\n",
       "    </tr>\n",
       "    <tr>\n",
       "      <th>2</th>\n",
       "      <td>1566 - 1568</td>\n",
       "    </tr>\n",
       "    <tr>\n",
       "      <th>3</th>\n",
       "      <td>1435 - 1440</td>\n",
       "    </tr>\n",
       "    <tr>\n",
       "      <th>4</th>\n",
       "      <td>1435 - 1440</td>\n",
       "    </tr>\n",
       "  </tbody>\n",
       "</table>\n",
       "</div>"
      ],
      "text/plain": [
       "          Fecha\n",
       "0   1545 - 1550\n",
       "1   1566 - 1568\n",
       "2   1566 - 1568\n",
       "3   1435 - 1440\n",
       "4   1435 - 1440"
      ]
     },
     "execution_count": 17,
     "metadata": {},
     "output_type": "execute_result"
    }
   ],
   "source": [
    "cuadros_completo[['Fecha']].head()"
   ]
  },
  {
   "cell_type": "code",
   "execution_count": 18,
   "metadata": {},
   "outputs": [],
   "source": [
    "def transformar_fechas(fecha):\n",
    "    dic_fechas = {\n",
    "        'Primer cuarto del siglo XVII': '1625',\n",
    "        'Siglo XVII': '1650',\n",
    "        'Siglos XVII': '1650',\n",
    "        'Finales del siglo XVII - Principio del siglo XVIII': '1700',\n",
    "        'Finales del siglo III a.C. - Primera mitad del siglo II a.C.': '(-225)',\n",
    "        'Siglo XVI': '1550',\n",
    "        'Segunda mitad del siglo XVI': '1575',\n",
    "        'Principio del siglo XX': '1901',\n",
    "        'Último tercio del siglo XVIII': '1790',\n",
    "        'Finales del siglo XVI - Primer tercio del siglo XVII': '1600',\n",
    "        'Primera mitad del siglo XVII': '1625',\n",
    "        'Segunda mitad del siglo XVII': '1675',\n",
    "        'Finales del siglo XVII': '1692',\n",
    "        'Siglo XVIII': '1750',\n",
    "        'Finales del siglo XVIII': '1792',\n",
    "        'Siglos XVI - XVII': '1600',\n",
    "        'Segunda mitad del siglo XVII - Primer cuarto del siglo XVIII': '1685',\n",
    "        'Siglo I a.C.': '(-100)',\n",
    "        'Finales del siglo XVI': '1692',\n",
    "        'Primer tercio del siglo XVII': '1615',\n",
    "        'Siglo III a.C.': '(-300)',\n",
    "        'Primer tercio del siglo XVI': '1515',\n",
    "        'Segundo tercio del siglo XVII': '1660',\n",
    "        'Siglo XII': '1150',\n",
    "        'Último cuarto del siglo XVIII - Principio del siglo XIX': '1792',\n",
    "        'Último cuarto del siglo XVII': '1690',\n",
    "        'Siglos IV a.C. - III a.C.': '(-300)',\n",
    "        'Mediados del siglo XVII': '1650',\n",
    "        'Siglo XIX': '1850',\n",
    "        'XVI': '1550',\n",
    "        'Primer cuarto del siglo XX': '1925',\n",
    "        'Principio del siglo II a.C': '(-200)',\n",
    "        '211 a.C': '(-211)',\n",
    "        'Primera mitad del siglo II a.C': '(-200)',\n",
    "        '212 a.C': '(-212)',\n",
    "        '218 a.C': '(-218)',\n",
    "        '241 a.C': '(-241)',\n",
    "        'Finales del siglo XV': '1492',\n",
    "        'Siglo XX': '1959',\n",
    "        'Primer cuarto del siglo III':'200',\n",
    "        'Siglo XV': '1450',\n",
    "        '9 a.C': '(-9)',\n",
    "        '27 a.C': '(-27)',\n",
    "        'Último cuarto del siglo XV': '1475',\n",
    "        'Primera mitad del siglo XX': '1925',\n",
    "        'Mediados del siglo I': '50',\n",
    "        'Siglo II a.C': '(-200)',\n",
    "        'Mediados del siglo II a.C': '(-125)'\n",
    "    }\n",
    "\n",
    "    for clave, valor in dic_fechas.items():\n",
    "        if clave.lower() in fecha.lower():\n",
    "            return valor\n",
    "\n",
    "    return fecha\n",
    "\n",
    "cuadros_completo['Fecha'] = cuadros_completo['Fecha'].apply(transformar_fechas)\n"
   ]
  },
  {
   "cell_type": "code",
   "execution_count": 19,
   "metadata": {},
   "outputs": [],
   "source": [
    "def eliminar_temp(fecha):\n",
    "    palabras_eliminar = ['Hacia', 'Después de', 'Antes de']\n",
    "\n",
    "    for palabra in palabras_eliminar:\n",
    "        if palabra in fecha:\n",
    "            fecha = fecha.replace(palabra, '').strip()\n",
    "\n",
    "    return fecha\n",
    "# Aplicar la función a toda la columna 'Fecha'\n",
    "cuadros_completo['Fecha'] = cuadros_completo['Fecha'].apply(eliminar_temp)"
   ]
  },
  {
   "cell_type": "code",
   "execution_count": 20,
   "metadata": {},
   "outputs": [],
   "source": [
    "filtro = ~cuadros_completo['Fecha'].str.contains(r'\\d|X|V|I|Desconocido', regex=True)\n",
    "#Vamos a rellenarlos con la palabra \"Desconocido\"\n",
    "cuadros_completo.loc[filtro, 'Fecha'] = 'Desconocido'"
   ]
  },
  {
   "cell_type": "code",
   "execution_count": 21,
   "metadata": {},
   "outputs": [],
   "source": [
    "# Eliminar '-…' al final de cada valor en la columna 'Fecha'\n",
    "cuadros_completo['Fecha'] = cuadros_completo['Fecha'].str.rstrip('-...')"
   ]
  },
  {
   "cell_type": "code",
   "execution_count": 22,
   "metadata": {},
   "outputs": [
    {
     "data": {
      "text/plain": [
       "0"
      ]
     },
     "execution_count": 22,
     "metadata": {},
     "output_type": "execute_result"
    }
   ],
   "source": [
    "cuadros_completo['Fecha'].isnull().sum()"
   ]
  },
  {
   "cell_type": "code",
   "execution_count": 23,
   "metadata": {},
   "outputs": [],
   "source": [
    "def obtener_segundo_numero(fecha):\n",
    "    # Verificar si hay un guion (\"-\") en la cadena\n",
    "    if '-' in fecha:\n",
    "        partes = fecha.split('-')\n",
    "        \n",
    "        # Verificar si la segunda parte es un número o convertible a número\n",
    "        try:\n",
    "            segundo_numero = int(partes[1].strip())\n",
    "        except ValueError:\n",
    "            # En caso de que no sea un número o no sea convertible a número, asignar 'Desconocido'\n",
    "            segundo_numero = 'Desconocido'\n",
    "        \n",
    "        return segundo_numero\n",
    "    else:\n",
    "        # Si no hay guion, conservar el valor original\n",
    "        return fecha\n",
    "\n",
    "cuadros_completo['Fecha'] = cuadros_completo['Fecha'].apply(obtener_segundo_numero)\n",
    "\n"
   ]
  },
  {
   "cell_type": "markdown",
   "metadata": {},
   "source": [
    "# 3. \"Autor\"."
   ]
  },
  {
   "cell_type": "code",
   "execution_count": 24,
   "metadata": {},
   "outputs": [
    {
     "data": {
      "text/plain": [
       "True"
      ]
     },
     "execution_count": 24,
     "metadata": {},
     "output_type": "execute_result"
    }
   ],
   "source": [
    "cuadros_completo['Autor'].str.contains('Desconocido').any()"
   ]
  },
  {
   "cell_type": "code",
   "execution_count": 25,
   "metadata": {},
   "outputs": [
    {
     "data": {
      "text/plain": [
       "34"
      ]
     },
     "execution_count": 25,
     "metadata": {},
     "output_type": "execute_result"
    }
   ],
   "source": [
    "cuadros_completo['Autor'].str.contains('Desconocido').sum()"
   ]
  },
  {
   "cell_type": "code",
   "execution_count": 26,
   "metadata": {},
   "outputs": [],
   "source": [
    "#uadros_completo['Autor'].unique()"
   ]
  },
  {
   "cell_type": "markdown",
   "metadata": {},
   "source": [
    "# 4. Columnas relacionadas con la Iconografía \"Escuela\" y \"Ubicación\"."
   ]
  },
  {
   "cell_type": "code",
   "execution_count": 30,
   "metadata": {},
   "outputs": [],
   "source": [
    "columnas_a_limpiar = ['Personajes', 'Objetos', 'Flora', 'Fauna', 'Geografico', 'Escuela', 'Ubicacion']"
   ]
  },
  {
   "cell_type": "code",
   "execution_count": 31,
   "metadata": {},
   "outputs": [],
   "source": [
    "def reemplazar_coma(columna):\n",
    "    if '\\nEliminar\\n' in columna:\n",
    "        return columna.replace('\\nEliminar\\n', ', ')\n",
    "    elif '\\nEliminar' in columna:\n",
    "        return columna.replace('\\nEliminar', '')\n",
    "    else:\n",
    "        return columna\n",
    "\n",
    "# Aplicar la función a las columnas especificadas\n",
    "for columna in columnas_a_limpiar:\n",
    "    cuadros_completo[columna] = cuadros_completo[columna].apply(reemplazar_coma)\n"
   ]
  },
  {
   "cell_type": "code",
   "execution_count": 33,
   "metadata": {},
   "outputs": [],
   "source": [
    "objetos_eliminar = [\n",
    "    \"Armas\", \"Objeto de escritorio\", \"Alimentos\", \n",
    "    \"Objeto para la Higiene\", \"Objeto de Iluminación\", \n",
    "    \"Objetos de Iconografía Cristiana\", \"Reloj\", \n",
    "    \"Textil\", \"Objeto Uso Individual\", \n",
    "    \"Objetos Artísticos\", \"Objeto Óptico\", \n",
    "    \"Elemento de Arquitectura\", \"Enseres Domésticos\", \n",
    "    \"Instrumentos Musicales\", \"Libro\", \n",
    "    \"Elementos Heráldicos y Nobiliarios\", \n",
    "    \"Elementos para Comercio\", \n",
    "    \"Herramienta / Utensilios de Trabajo\", \n",
    "    \"Transporte\", \"Elementos Mitológicos\", \n",
    "    \"Instrumentos Científicos\", \n",
    "    \"Juego / Juguete\", \"Bandera\", \n",
    "    \"Mueble\", \"Espejo\"\n",
    "]\n",
    "\n",
    "# Identificar las filas que cumplen con la condición\n",
    "condicion_obj_eliminar = cuadros_completo['Objetos'].isin(objetos_eliminar)\n",
    "\n"
   ]
  },
  {
   "cell_type": "code",
   "execution_count": 34,
   "metadata": {},
   "outputs": [],
   "source": [
    "# Eliminar las filas que cumplen con la condición\n",
    "cuadros_completo.drop(cuadros_completo[condicion_obj_eliminar].index, inplace=True)"
   ]
  },
  {
   "cell_type": "code",
   "execution_count": 35,
   "metadata": {},
   "outputs": [],
   "source": [
    "#cuadros_completo['Objetos'].unique()"
   ]
  },
  {
   "cell_type": "code",
   "execution_count": 36,
   "metadata": {},
   "outputs": [],
   "source": [
    "geo_eliminar = [\n",
    "    \"España\", \"Mexico (Méjico)\", \"Alemania\", \n",
    "    \"Israel\", \"Holanda\", \"Francia\", \n",
    "    \"Italia\", \"Portugal\", \"Reino Unido\", \n",
    "    \"Suiza\", \"Turquía\", \"Antillas\", \n",
    "    \"Bélgica\", \"Magreb\", \"República Checa (Chequia)\", \n",
    "    \"Eslovenia\", \"Brasil\", \"Egipto\", \"Gracia\"\n",
    "]\n",
    "\n",
    "# Identificar las filas que cumplen con la condición\n",
    "condicion_eliminar_geo = cuadros_completo['Geografico'].isin(geo_eliminar)\n",
    "\n",
    "# Eliminar las filas que cumplen con la condición\n",
    "cuadros_completo.drop(cuadros_completo[condicion_eliminar_geo].index, inplace=True)\n"
   ]
  },
  {
   "cell_type": "code",
   "execution_count": 37,
   "metadata": {},
   "outputs": [],
   "source": [
    "#cuadros_completo['Geografico'].unique()"
   ]
  },
  {
   "cell_type": "code",
   "execution_count": 39,
   "metadata": {},
   "outputs": [
    {
     "data": {
      "text/plain": [
       "Titulo        0\n",
       "Autor         0\n",
       "Personajes    0\n",
       "Objetos       0\n",
       "Flora         0\n",
       "Fauna         0\n",
       "Geografico    0\n",
       "Escuela       0\n",
       "Ubicacion     0\n",
       "Soporte       0\n",
       "Fecha         0\n",
       "dtype: int64"
      ]
     },
     "execution_count": 39,
     "metadata": {},
     "output_type": "execute_result"
    }
   ],
   "source": [
    "cuadros_completo.isnull().sum()"
   ]
  },
  {
   "cell_type": "code",
   "execution_count": 40,
   "metadata": {},
   "outputs": [
    {
     "data": {
      "text/html": [
       "<div>\n",
       "<style scoped>\n",
       "    .dataframe tbody tr th:only-of-type {\n",
       "        vertical-align: middle;\n",
       "    }\n",
       "\n",
       "    .dataframe tbody tr th {\n",
       "        vertical-align: top;\n",
       "    }\n",
       "\n",
       "    .dataframe thead th {\n",
       "        text-align: right;\n",
       "    }\n",
       "</style>\n",
       "<table border=\"1\" class=\"dataframe\">\n",
       "  <thead>\n",
       "    <tr style=\"text-align: right;\">\n",
       "      <th></th>\n",
       "      <th>Titulo</th>\n",
       "      <th>Autor</th>\n",
       "      <th>Personajes</th>\n",
       "      <th>Objetos</th>\n",
       "      <th>Flora</th>\n",
       "      <th>Fauna</th>\n",
       "      <th>Geografico</th>\n",
       "      <th>Escuela</th>\n",
       "      <th>Ubicacion</th>\n",
       "      <th>Soporte</th>\n",
       "      <th>Fecha</th>\n",
       "    </tr>\n",
       "  </thead>\n",
       "  <tbody>\n",
       "    <tr>\n",
       "      <th>42625</th>\n",
       "      <td>Incendio en la Cartuja de Praga y persecución ...</td>\n",
       "      <td>CARDUCHO, VICENTE</td>\n",
       "      <td>Desconocido</td>\n",
       "      <td>Desconocido</td>\n",
       "      <td>Desconocido</td>\n",
       "      <td>Desconocido</td>\n",
       "      <td>República Checa (Chequia), Praga</td>\n",
       "      <td>Desconocido</td>\n",
       "      <td>Desconocido</td>\n",
       "      <td>Óleo sobre lienzo</td>\n",
       "      <td>1632</td>\n",
       "    </tr>\n",
       "    <tr>\n",
       "      <th>42627</th>\n",
       "      <td>Incendio en la Cartuja de Praga y persecución ...</td>\n",
       "      <td>CARDUCHO, VICENTE</td>\n",
       "      <td>Desconocido</td>\n",
       "      <td>Desconocido</td>\n",
       "      <td>Desconocido</td>\n",
       "      <td>Desconocido</td>\n",
       "      <td>República Checa (Chequia), Praga</td>\n",
       "      <td>Desconocido</td>\n",
       "      <td>Desconocido</td>\n",
       "      <td>Óleo sobre lienzo</td>\n",
       "      <td>1632</td>\n",
       "    </tr>\n",
       "    <tr>\n",
       "      <th>42629</th>\n",
       "      <td>Martirio del padre Andrés, prior de la Cartuja...</td>\n",
       "      <td>CARDUCHO, VICENTE</td>\n",
       "      <td>Desconocido</td>\n",
       "      <td>Desconocido</td>\n",
       "      <td>Desconocido</td>\n",
       "      <td>Desconocido</td>\n",
       "      <td>Eslovenia, Seiz</td>\n",
       "      <td>Desconocido</td>\n",
       "      <td>Desconocido</td>\n",
       "      <td>Óleo sobre lienzo</td>\n",
       "      <td>1632</td>\n",
       "    </tr>\n",
       "    <tr>\n",
       "      <th>42631</th>\n",
       "      <td>Martirio del padre Andrés, prior de la Cartuja...</td>\n",
       "      <td>CARDUCHO, VICENTE</td>\n",
       "      <td>Desconocido</td>\n",
       "      <td>Desconocido</td>\n",
       "      <td>Desconocido</td>\n",
       "      <td>Desconocido</td>\n",
       "      <td>Eslovenia, Seiz</td>\n",
       "      <td>Desconocido</td>\n",
       "      <td>Desconocido</td>\n",
       "      <td>Óleo sobre lienzo</td>\n",
       "      <td>1632</td>\n",
       "    </tr>\n",
       "    <tr>\n",
       "      <th>42632</th>\n",
       "      <td>Lecture on Sculpture by Sir Richard...</td>\n",
       "      <td>SCHARF EL VIEJO, GEORGE - LITÓGRAFO; HULLMANDE...</td>\n",
       "      <td>Desconocido</td>\n",
       "      <td>Desconocido</td>\n",
       "      <td>Desconocido</td>\n",
       "      <td>Desconocido</td>\n",
       "      <td>Reino Unido, Londres</td>\n",
       "      <td>Desconocido</td>\n",
       "      <td>Desconocido</td>\n",
       "      <td>Cromolitografía, Estampa iluminada sobre papel</td>\n",
       "      <td>Desconocido</td>\n",
       "    </tr>\n",
       "  </tbody>\n",
       "</table>\n",
       "</div>"
      ],
      "text/plain": [
       "                                                  Titulo  \\\n",
       "42625  Incendio en la Cartuja de Praga y persecución ...   \n",
       "42627  Incendio en la Cartuja de Praga y persecución ...   \n",
       "42629  Martirio del padre Andrés, prior de la Cartuja...   \n",
       "42631  Martirio del padre Andrés, prior de la Cartuja...   \n",
       "42632             Lecture on Sculpture by Sir Richard...   \n",
       "\n",
       "                                                   Autor   Personajes  \\\n",
       "42625                                  CARDUCHO, VICENTE  Desconocido   \n",
       "42627                                  CARDUCHO, VICENTE  Desconocido   \n",
       "42629                                  CARDUCHO, VICENTE  Desconocido   \n",
       "42631                                  CARDUCHO, VICENTE  Desconocido   \n",
       "42632  SCHARF EL VIEJO, GEORGE - LITÓGRAFO; HULLMANDE...  Desconocido   \n",
       "\n",
       "           Objetos        Flora        Fauna  \\\n",
       "42625  Desconocido  Desconocido  Desconocido   \n",
       "42627  Desconocido  Desconocido  Desconocido   \n",
       "42629  Desconocido  Desconocido  Desconocido   \n",
       "42631  Desconocido  Desconocido  Desconocido   \n",
       "42632  Desconocido  Desconocido  Desconocido   \n",
       "\n",
       "                             Geografico      Escuela    Ubicacion  \\\n",
       "42625  República Checa (Chequia), Praga  Desconocido  Desconocido   \n",
       "42627  República Checa (Chequia), Praga  Desconocido  Desconocido   \n",
       "42629                   Eslovenia, Seiz  Desconocido  Desconocido   \n",
       "42631                   Eslovenia, Seiz  Desconocido  Desconocido   \n",
       "42632              Reino Unido, Londres  Desconocido  Desconocido   \n",
       "\n",
       "                                              Soporte        Fecha  \n",
       "42625                               Óleo sobre lienzo         1632  \n",
       "42627                               Óleo sobre lienzo         1632  \n",
       "42629                               Óleo sobre lienzo         1632  \n",
       "42631                               Óleo sobre lienzo         1632  \n",
       "42632  Cromolitografía, Estampa iluminada sobre papel  Desconocido  "
      ]
     },
     "execution_count": 40,
     "metadata": {},
     "output_type": "execute_result"
    }
   ],
   "source": [
    "cuadros_completo.tail()"
   ]
  },
  {
   "cell_type": "code",
   "execution_count": 41,
   "metadata": {},
   "outputs": [
    {
     "data": {
      "text/plain": [
       "True"
      ]
     },
     "execution_count": 41,
     "metadata": {},
     "output_type": "execute_result"
    }
   ],
   "source": [
    "cuadros_completo.duplicated().any()"
   ]
  },
  {
   "cell_type": "code",
   "execution_count": 42,
   "metadata": {},
   "outputs": [],
   "source": [
    "cuadros_completo = cuadros_completo.drop_duplicates()"
   ]
  },
  {
   "cell_type": "markdown",
   "metadata": {},
   "source": [
    "# Creación de TituloID"
   ]
  },
  {
   "cell_type": "code",
   "execution_count": 44,
   "metadata": {},
   "outputs": [],
   "source": [
    "\n",
    "# Crear una nueva columna 'id'\n",
    "cuadros_completo['TituloID'] = 0\n",
    "\n",
    "# Inicializar el contador de id\n",
    "contador_id = 1\n",
    "\n",
    "# Iterar sobre las filas del DataFrame\n",
    "for i, fila in cuadros_completo.iterrows():\n",
    "    # Crear una condición para comparar las columnas deseadas\n",
    "    condition = (cuadros_completo['Autor'] == fila['Autor']) & \\\n",
    "                (cuadros_completo['Titulo'] == fila['Titulo']) & \\\n",
    "                (cuadros_completo['Fecha'] == fila['Fecha']) & \\\n",
    "                (cuadros_completo['Escuela'] == fila['Escuela']) & \\\n",
    "                (cuadros_completo['Ubicacion'] == fila['Ubicacion'])\n",
    "    \n",
    "    # Asignar el mismo id a las filas que cumplan la condición\n",
    "    cuadros_completo.loc[condition, 'TituloID'] = contador_id\n",
    "    \n",
    "    # Incrementar el contador de id\n",
    "    contador_id += 1\n"
   ]
  },
  {
   "cell_type": "code",
   "execution_count": 48,
   "metadata": {},
   "outputs": [
    {
     "data": {
      "text/html": [
       "<div>\n",
       "<style scoped>\n",
       "    .dataframe tbody tr th:only-of-type {\n",
       "        vertical-align: middle;\n",
       "    }\n",
       "\n",
       "    .dataframe tbody tr th {\n",
       "        vertical-align: top;\n",
       "    }\n",
       "\n",
       "    .dataframe thead th {\n",
       "        text-align: right;\n",
       "    }\n",
       "</style>\n",
       "<table border=\"1\" class=\"dataframe\">\n",
       "  <thead>\n",
       "    <tr style=\"text-align: right;\">\n",
       "      <th></th>\n",
       "      <th>TituloID</th>\n",
       "      <th>Titulo</th>\n",
       "      <th>Autor</th>\n",
       "      <th>Fecha</th>\n",
       "      <th>Escuela</th>\n",
       "      <th>Objetos</th>\n",
       "      <th>Fauna</th>\n",
       "      <th>Flora</th>\n",
       "      <th>Geografico</th>\n",
       "      <th>Personajes</th>\n",
       "    </tr>\n",
       "  </thead>\n",
       "  <tbody>\n",
       "    <tr>\n",
       "      <th>42613</th>\n",
       "      <td>15203</td>\n",
       "      <td>Isla de Cuba. La Ceiba</td>\n",
       "      <td>FREDRICKS Y DARIES - FOTÓGRAFO - (AUTOR DE LA ...</td>\n",
       "      <td>1885</td>\n",
       "      <td>Desconocido</td>\n",
       "      <td>Desconocido</td>\n",
       "      <td>Desconocido</td>\n",
       "      <td>Desconocido</td>\n",
       "      <td>Antillas, Cuba</td>\n",
       "      <td>Desconocido</td>\n",
       "    </tr>\n",
       "    <tr>\n",
       "      <th>42618</th>\n",
       "      <td>15204</td>\n",
       "      <td>Recuperación de la isla de San Cristóbal</td>\n",
       "      <td>JOLLIVET, PIERRE-JULES - LITÓGRAFO - (AUTOR DE...</td>\n",
       "      <td>Desconocido</td>\n",
       "      <td>Desconocido</td>\n",
       "      <td>Desconocido</td>\n",
       "      <td>Desconocido</td>\n",
       "      <td>Desconocido</td>\n",
       "      <td>Antillas, Isla De San Cristóbal</td>\n",
       "      <td>Desconocido</td>\n",
       "    </tr>\n",
       "    <tr>\n",
       "      <th>42625</th>\n",
       "      <td>15205</td>\n",
       "      <td>Incendio en la Cartuja de Praga y persecución ...</td>\n",
       "      <td>CARDUCHO, VICENTE</td>\n",
       "      <td>1632</td>\n",
       "      <td>Desconocido</td>\n",
       "      <td>Desconocido</td>\n",
       "      <td>Desconocido</td>\n",
       "      <td>Desconocido</td>\n",
       "      <td>República Checa (Chequia), Praga</td>\n",
       "      <td>Desconocido</td>\n",
       "    </tr>\n",
       "    <tr>\n",
       "      <th>42629</th>\n",
       "      <td>15206</td>\n",
       "      <td>Martirio del padre Andrés, prior de la Cartuja...</td>\n",
       "      <td>CARDUCHO, VICENTE</td>\n",
       "      <td>1632</td>\n",
       "      <td>Desconocido</td>\n",
       "      <td>Desconocido</td>\n",
       "      <td>Desconocido</td>\n",
       "      <td>Desconocido</td>\n",
       "      <td>Eslovenia, Seiz</td>\n",
       "      <td>Desconocido</td>\n",
       "    </tr>\n",
       "    <tr>\n",
       "      <th>42632</th>\n",
       "      <td>15207</td>\n",
       "      <td>Lecture on Sculpture by Sir Richard...</td>\n",
       "      <td>SCHARF EL VIEJO, GEORGE - LITÓGRAFO; HULLMANDE...</td>\n",
       "      <td>Desconocido</td>\n",
       "      <td>Desconocido</td>\n",
       "      <td>Desconocido</td>\n",
       "      <td>Desconocido</td>\n",
       "      <td>Desconocido</td>\n",
       "      <td>Reino Unido, Londres</td>\n",
       "      <td>Desconocido</td>\n",
       "    </tr>\n",
       "  </tbody>\n",
       "</table>\n",
       "</div>"
      ],
      "text/plain": [
       "       TituloID                                             Titulo  \\\n",
       "42613     15203                             Isla de Cuba. La Ceiba   \n",
       "42618     15204           Recuperación de la isla de San Cristóbal   \n",
       "42625     15205  Incendio en la Cartuja de Praga y persecución ...   \n",
       "42629     15206  Martirio del padre Andrés, prior de la Cartuja...   \n",
       "42632     15207             Lecture on Sculpture by Sir Richard...   \n",
       "\n",
       "                                                   Autor        Fecha  \\\n",
       "42613  FREDRICKS Y DARIES - FOTÓGRAFO - (AUTOR DE LA ...         1885   \n",
       "42618  JOLLIVET, PIERRE-JULES - LITÓGRAFO - (AUTOR DE...  Desconocido   \n",
       "42625                                  CARDUCHO, VICENTE         1632   \n",
       "42629                                  CARDUCHO, VICENTE         1632   \n",
       "42632  SCHARF EL VIEJO, GEORGE - LITÓGRAFO; HULLMANDE...  Desconocido   \n",
       "\n",
       "           Escuela      Objetos        Fauna        Flora  \\\n",
       "42613  Desconocido  Desconocido  Desconocido  Desconocido   \n",
       "42618  Desconocido  Desconocido  Desconocido  Desconocido   \n",
       "42625  Desconocido  Desconocido  Desconocido  Desconocido   \n",
       "42629  Desconocido  Desconocido  Desconocido  Desconocido   \n",
       "42632  Desconocido  Desconocido  Desconocido  Desconocido   \n",
       "\n",
       "                             Geografico   Personajes  \n",
       "42613                    Antillas, Cuba  Desconocido  \n",
       "42618   Antillas, Isla De San Cristóbal  Desconocido  \n",
       "42625  República Checa (Chequia), Praga  Desconocido  \n",
       "42629                   Eslovenia, Seiz  Desconocido  \n",
       "42632              Reino Unido, Londres  Desconocido  "
      ]
     },
     "execution_count": 48,
     "metadata": {},
     "output_type": "execute_result"
    }
   ],
   "source": [
    "cuadros_completo.tail()"
   ]
  },
  {
   "cell_type": "code",
   "execution_count": 46,
   "metadata": {},
   "outputs": [],
   "source": [
    "nuevo_orden = [\"TituloID\", \"Titulo\", \"Autor\", \"Fecha\", \"Escuela\", \"Objetos\", \"Fauna\", \"Flora\", \"Geografico\", \"Personajes\"]\n",
    "cuadros_completo = cuadros_completo.reindex(columns=nuevo_orden)"
   ]
  },
  {
   "cell_type": "code",
   "execution_count": 47,
   "metadata": {},
   "outputs": [
    {
     "data": {
      "text/html": [
       "<div>\n",
       "<style scoped>\n",
       "    .dataframe tbody tr th:only-of-type {\n",
       "        vertical-align: middle;\n",
       "    }\n",
       "\n",
       "    .dataframe tbody tr th {\n",
       "        vertical-align: top;\n",
       "    }\n",
       "\n",
       "    .dataframe thead th {\n",
       "        text-align: right;\n",
       "    }\n",
       "</style>\n",
       "<table border=\"1\" class=\"dataframe\">\n",
       "  <thead>\n",
       "    <tr style=\"text-align: right;\">\n",
       "      <th></th>\n",
       "      <th>TituloID</th>\n",
       "      <th>Titulo</th>\n",
       "      <th>Autor</th>\n",
       "      <th>Fecha</th>\n",
       "      <th>Escuela</th>\n",
       "      <th>Objetos</th>\n",
       "      <th>Fauna</th>\n",
       "      <th>Flora</th>\n",
       "      <th>Geografico</th>\n",
       "      <th>Personajes</th>\n",
       "    </tr>\n",
       "  </thead>\n",
       "  <tbody>\n",
       "    <tr>\n",
       "      <th>0</th>\n",
       "      <td>1</td>\n",
       "      <td>El sumo sacerdote Aarón</td>\n",
       "      <td>JUANES, JUAN DE</td>\n",
       "      <td>1550</td>\n",
       "      <td>Desconocido</td>\n",
       "      <td>Desconocido</td>\n",
       "      <td>Desconocido</td>\n",
       "      <td>Desconocido</td>\n",
       "      <td>Desconocido</td>\n",
       "      <td>Aarón</td>\n",
       "    </tr>\n",
       "    <tr>\n",
       "      <th>1</th>\n",
       "      <td>3</td>\n",
       "      <td>Los israelitas bebiendo el agua milagrosa</td>\n",
       "      <td>BASSANO, JACOPO</td>\n",
       "      <td>1568</td>\n",
       "      <td>Desconocido</td>\n",
       "      <td>Desconocido</td>\n",
       "      <td>Desconocido</td>\n",
       "      <td>Desconocido</td>\n",
       "      <td>Desconocido</td>\n",
       "      <td>Aarón</td>\n",
       "    </tr>\n",
       "    <tr>\n",
       "      <th>2</th>\n",
       "      <td>3</td>\n",
       "      <td>Los israelitas bebiendo el agua milagrosa</td>\n",
       "      <td>BASSANO, JACOPO</td>\n",
       "      <td>1568</td>\n",
       "      <td>Desconocido</td>\n",
       "      <td>Desconocido</td>\n",
       "      <td>Desconocido</td>\n",
       "      <td>Desconocido</td>\n",
       "      <td>Desconocido</td>\n",
       "      <td>Moisés</td>\n",
       "    </tr>\n",
       "    <tr>\n",
       "      <th>3</th>\n",
       "      <td>20</td>\n",
       "      <td>Retablo de la Virgen</td>\n",
       "      <td>MAESTRO DE TORRALBA</td>\n",
       "      <td>1440</td>\n",
       "      <td>Desconocido</td>\n",
       "      <td>Desconocido</td>\n",
       "      <td>Desconocido</td>\n",
       "      <td>Desconocido</td>\n",
       "      <td>Desconocido</td>\n",
       "      <td>Abacuc</td>\n",
       "    </tr>\n",
       "    <tr>\n",
       "      <th>4</th>\n",
       "      <td>20</td>\n",
       "      <td>Retablo de la Virgen</td>\n",
       "      <td>MAESTRO DE TORRALBA</td>\n",
       "      <td>1440</td>\n",
       "      <td>Desconocido</td>\n",
       "      <td>Desconocido</td>\n",
       "      <td>Desconocido</td>\n",
       "      <td>Desconocido</td>\n",
       "      <td>Desconocido</td>\n",
       "      <td>Amós</td>\n",
       "    </tr>\n",
       "  </tbody>\n",
       "</table>\n",
       "</div>"
      ],
      "text/plain": [
       "   TituloID                                     Titulo                Autor  \\\n",
       "0         1                    El sumo sacerdote Aarón      JUANES, JUAN DE   \n",
       "1         3  Los israelitas bebiendo el agua milagrosa      BASSANO, JACOPO   \n",
       "2         3  Los israelitas bebiendo el agua milagrosa      BASSANO, JACOPO   \n",
       "3        20                       Retablo de la Virgen  MAESTRO DE TORRALBA   \n",
       "4        20                       Retablo de la Virgen  MAESTRO DE TORRALBA   \n",
       "\n",
       "  Fecha      Escuela      Objetos        Fauna        Flora   Geografico  \\\n",
       "0  1550  Desconocido  Desconocido  Desconocido  Desconocido  Desconocido   \n",
       "1  1568  Desconocido  Desconocido  Desconocido  Desconocido  Desconocido   \n",
       "2  1568  Desconocido  Desconocido  Desconocido  Desconocido  Desconocido   \n",
       "3  1440  Desconocido  Desconocido  Desconocido  Desconocido  Desconocido   \n",
       "4  1440  Desconocido  Desconocido  Desconocido  Desconocido  Desconocido   \n",
       "\n",
       "  Personajes  \n",
       "0      Aarón  \n",
       "1      Aarón  \n",
       "2     Moisés  \n",
       "3     Abacuc  \n",
       "4       Amós  "
      ]
     },
     "execution_count": 47,
     "metadata": {},
     "output_type": "execute_result"
    }
   ],
   "source": [
    "cuadros_completo.head()"
   ]
  },
  {
   "cell_type": "markdown",
   "metadata": {},
   "source": [
    "# Exportación del DataFrame."
   ]
  },
  {
   "cell_type": "code",
   "execution_count": 49,
   "metadata": {},
   "outputs": [],
   "source": [
    "#cuadros_completo.to_csv(\"/Users/karmelealonsoaia/Desktop/ironhack_labs/PROYECTOS/project_final/data/data_def/cuadros_estudio.csv\", index=False)"
   ]
  },
  {
   "cell_type": "code",
   "execution_count": null,
   "metadata": {},
   "outputs": [],
   "source": []
  }
 ],
 "metadata": {
  "kernelspec": {
   "display_name": "final_project",
   "language": "python",
   "name": "python3"
  },
  "language_info": {
   "codemirror_mode": {
    "name": "ipython",
    "version": 3
   },
   "file_extension": ".py",
   "mimetype": "text/x-python",
   "name": "python",
   "nbconvert_exporter": "python",
   "pygments_lexer": "ipython3",
   "version": "3.11.5"
  },
  "orig_nbformat": 4
 },
 "nbformat": 4,
 "nbformat_minor": 2
}
