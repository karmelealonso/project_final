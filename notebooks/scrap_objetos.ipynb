{
 "cells": [
  {
   "cell_type": "code",
   "execution_count": 24,
   "metadata": {},
   "outputs": [],
   "source": [
    "import time\n",
    "import re\n",
    "import json\n",
    "import statistics as stats\n",
    "import requests as req\n",
    "import numpy as np\n",
    "import pandas as pd\n",
    "from unidecode import unidecode\n",
    "from selenium import webdriver\n",
    "from selenium.webdriver.common.keys import Keys\n",
    "from selenium.webdriver.chrome.options import Options\n",
    "from webdriver_manager.chrome import ChromeDriverManager\n",
    "from selenium.webdriver.support.ui import WebDriverWait\n",
    "from selenium.webdriver.support import expected_conditions as EC\n",
    "from selenium.webdriver import ActionChains as AC\n",
    "from selenium.webdriver.common.by import By\n",
    "from selenium.common.exceptions import NoSuchElementException\n",
    "import tqdm\n",
    "import feedparser\n",
    "import warnings\n",
    "\n",
    "warnings.filterwarnings('ignore')\n",
    "pd.set_option('display.max_columns', None)\n",
    "pd.set_option('display.max_rows', None)\n"
   ]
  },
  {
   "cell_type": "code",
   "execution_count": 25,
   "metadata": {},
   "outputs": [],
   "source": [
    "# Configurar opciones de Chrome\n",
    "chrome_options = Options()\n",
    "\n",
    "chrome_options.add_argument(r\"user-data-dir=C:\\\\Users\\\\User\\\\AppData\\\\Local\\\\Google\\\\Chrome\\\\User Data\")\n",
    "chrome_options.add_argument(\"--remote-allow-origins=*\")\n",
    "chrome_options.add_experimental_option(\"useAutomationExtension\", False) \n",
    "chrome_options.add_experimental_option(\"excludeSwitches\", [\"enable-automation\"])\n",
    "chrome_options.add_argument(\"user-data-dir=selenium-cookies\")\n",
    "chrome_options.add_argument('--headless')  # Habilitar si no queremos ver la ventana\n",
    "chrome_options.add_experimental_option(\"detach\", True)  # Esta opción corrige el error de cierre repentino\n",
    "chrome_options.add_argument('--start-minimized')\n",
    "chrome_options.add_argument('--disable-gpu')\n",
    "chrome_options.add_argument('--disable-dev-shm-usage')\n",
    "chrome_options.add_argument('--no-sandbox')\n",
    "chrome_options.add_argument('--disable-extensions')\n",
    "chrome_options.add_argument('--disable-infobars')\n"
   ]
  },
  {
   "cell_type": "code",
   "execution_count": 20,
   "metadata": {},
   "outputs": [
    {
     "name": "stdout",
     "output_type": "stream",
     "text": [
      "Navegador abierto correctamente\n"
     ]
    }
   ],
   "source": [
    "# Intenta abrir el navegador\n",
    "try:\n",
    "    driver = webdriver.Chrome(options=chrome_options)\n",
    "    print(\"Navegador abierto correctamente\")\n",
    "except Exception as e:\n",
    "    print(f\"Error al abrir el navegador: {e}\")\n",
    "    exit()  # Sale del script si no se pudo abrir el navegador\n"
   ]
  },
  {
   "cell_type": "code",
   "execution_count": 26,
   "metadata": {},
   "outputs": [],
   "source": [
    "# Otras importaciones y configuraciones de Selenium\n",
    "driver = webdriver.Chrome(options=chrome_options)\n"
   ]
  },
  {
   "cell_type": "code",
   "execution_count": 27,
   "metadata": {},
   "outputs": [
    {
     "ename": "TimeoutException",
     "evalue": "Message: \n",
     "output_type": "error",
     "traceback": [
      "\u001b[0;31m---------------------------------------------------------------------------\u001b[0m",
      "\u001b[0;31mTimeoutException\u001b[0m                          Traceback (most recent call last)",
      "Cell \u001b[0;32mIn[27], line 27\u001b[0m\n\u001b[1;32m     24\u001b[0m xpath_elementos \u001b[39m=\u001b[39m \u001b[39m'\u001b[39m\u001b[39m//*[@id=\u001b[39m\u001b[39m\"\u001b[39m\u001b[39mecidoc--p65_E36_p138_represents_object---pm--objectNode\u001b[39m\u001b[39m\"\u001b[39m\u001b[39m]/ul[1]/li\u001b[39m\u001b[39m'\u001b[39m\n\u001b[1;32m     26\u001b[0m \u001b[39m# Obtener hrefs\u001b[39;00m\n\u001b[0;32m---> 27\u001b[0m hrefs \u001b[39m=\u001b[39m obtener_hrefs(driver, xpath_elementos)\n\u001b[1;32m     29\u001b[0m \u001b[39m# Imprimir los hrefs obtenidos\u001b[39;00m\n\u001b[1;32m     30\u001b[0m \u001b[39mprint\u001b[39m(hrefs)\n",
      "Cell \u001b[0;32mIn[27], line 7\u001b[0m, in \u001b[0;36mobtener_hrefs\u001b[0;34m(driver, xpath)\u001b[0m\n\u001b[1;32m      5\u001b[0m \u001b[39m# Espera explícita para asegurarse de que los elementos estén presentes antes de buscarlos\u001b[39;00m\n\u001b[1;32m      6\u001b[0m wait \u001b[39m=\u001b[39m WebDriverWait(driver, \u001b[39m10\u001b[39m)\n\u001b[0;32m----> 7\u001b[0m elementos \u001b[39m=\u001b[39m wait\u001b[39m.\u001b[39;49muntil(EC\u001b[39m.\u001b[39;49mpresence_of_all_elements_located((By\u001b[39m.\u001b[39;49mXPATH, xpath)))\n\u001b[1;32m      9\u001b[0m hrefs \u001b[39m=\u001b[39m []\n\u001b[1;32m     11\u001b[0m \u001b[39mfor\u001b[39;00m elemento \u001b[39min\u001b[39;00m elementos:\n",
      "File \u001b[0;32m~/anaconda3/envs/final_project/lib/python3.11/site-packages/selenium/webdriver/support/wait.py:105\u001b[0m, in \u001b[0;36mWebDriverWait.until\u001b[0;34m(self, method, message)\u001b[0m\n\u001b[1;32m    103\u001b[0m     \u001b[39mif\u001b[39;00m time\u001b[39m.\u001b[39mmonotonic() \u001b[39m>\u001b[39m end_time:\n\u001b[1;32m    104\u001b[0m         \u001b[39mbreak\u001b[39;00m\n\u001b[0;32m--> 105\u001b[0m \u001b[39mraise\u001b[39;00m TimeoutException(message, screen, stacktrace)\n",
      "\u001b[0;31mTimeoutException\u001b[0m: Message: \n"
     ]
    }
   ],
   "source": [
    "def obtener_hrefs(driver, xpath):\n",
    "    # Espera implícita para asegurarse de que la página esté completamente cargada\n",
    "    driver.implicitly_wait(10)\n",
    "    \n",
    "    # Espera explícita para asegurarse de que los elementos estén presentes antes de buscarlos\n",
    "    wait = WebDriverWait(driver, 10)\n",
    "    elementos = wait.until(EC.presence_of_all_elements_located((By.XPATH, xpath)))\n",
    "    \n",
    "    hrefs = []\n",
    "    \n",
    "    for elemento in elementos:\n",
    "        try:\n",
    "            # Obtén el enlace (href) dentro del elemento\n",
    "            href = elemento.find_element(By.XPATH, './/a').get_attribute('href')\n",
    "            hrefs.append(href)\n",
    "        except NoSuchElementException:\n",
    "            # Manejo de excepción si no se encuentra el elemento href\n",
    "            print(\"No se encontró el elemento href en:\", elemento.text)\n",
    "    \n",
    "    return hrefs\n",
    "\n",
    "# Ejemplo de uso\n",
    "url = 'https://www.museodelprado.es/coleccion/obras-de-arte?ecidoc:p65_E36_p138_represents_object@@@pm:objectNode=http://museodelprado.es/items/object_1'\n",
    "xpath_elementos = '//*[@id=\"ecidoc--p65_E36_p138_represents_object---pm--objectNode\"]/ul[1]/li'\n",
    "\n",
    "# Obtener hrefs\n",
    "hrefs = obtener_hrefs(driver, xpath_elementos)\n",
    "\n",
    "# Imprimir los hrefs obtenidos\n",
    "print(hrefs)\n"
   ]
  },
  {
   "cell_type": "code",
   "execution_count": null,
   "metadata": {},
   "outputs": [],
   "source": []
  },
  {
   "cell_type": "code",
   "execution_count": 12,
   "metadata": {},
   "outputs": [
    {
     "name": "stdout",
     "output_type": "stream",
     "text": [
      "Hrefs para Armas:\n"
     ]
    },
    {
     "ename": "TimeoutException",
     "evalue": "Message: \n",
     "output_type": "error",
     "traceback": [
      "\u001b[0;31m---------------------------------------------------------------------------\u001b[0m",
      "\u001b[0;31mTimeoutException\u001b[0m                          Traceback (most recent call last)",
      "Cell \u001b[0;32mIn[12], line 32\u001b[0m\n\u001b[1;32m     30\u001b[0m \u001b[39mfor\u001b[39;00m tipo, xpath \u001b[39min\u001b[39;00m diccionario_xpaths\u001b[39m.\u001b[39mitems():\n\u001b[1;32m     31\u001b[0m     \u001b[39mprint\u001b[39m(\u001b[39mf\u001b[39m\u001b[39m'\u001b[39m\u001b[39mHrefs para \u001b[39m\u001b[39m{\u001b[39;00mtipo\u001b[39m}\u001b[39;00m\u001b[39m:\u001b[39m\u001b[39m'\u001b[39m)\n\u001b[0;32m---> 32\u001b[0m     hrefs \u001b[39m=\u001b[39m obtener_hrefs(driver, xpath)\n\u001b[1;32m     33\u001b[0m     \u001b[39mprint\u001b[39m(hrefs)\n\u001b[1;32m     34\u001b[0m     \u001b[39mprint\u001b[39m()\n",
      "Cell \u001b[0;32mIn[12], line 7\u001b[0m, in \u001b[0;36mobtener_hrefs\u001b[0;34m(driver, xpath)\u001b[0m\n\u001b[1;32m      5\u001b[0m \u001b[39m# Espera explícita para asegurarse de que los elementos estén presentes antes de buscarlos\u001b[39;00m\n\u001b[1;32m      6\u001b[0m wait \u001b[39m=\u001b[39m WebDriverWait(driver, \u001b[39m10\u001b[39m)\n\u001b[0;32m----> 7\u001b[0m elementos \u001b[39m=\u001b[39m wait\u001b[39m.\u001b[39;49muntil(EC\u001b[39m.\u001b[39;49mpresence_of_all_elements_located((By\u001b[39m.\u001b[39;49mXPATH, xpath)))\n\u001b[1;32m      9\u001b[0m hrefs \u001b[39m=\u001b[39m []\n\u001b[1;32m     11\u001b[0m \u001b[39mfor\u001b[39;00m elemento \u001b[39min\u001b[39;00m elementos:\n",
      "File \u001b[0;32m~/anaconda3/envs/final_project/lib/python3.11/site-packages/selenium/webdriver/support/wait.py:105\u001b[0m, in \u001b[0;36mWebDriverWait.until\u001b[0;34m(self, method, message)\u001b[0m\n\u001b[1;32m    103\u001b[0m     \u001b[39mif\u001b[39;00m time\u001b[39m.\u001b[39mmonotonic() \u001b[39m>\u001b[39m end_time:\n\u001b[1;32m    104\u001b[0m         \u001b[39mbreak\u001b[39;00m\n\u001b[0;32m--> 105\u001b[0m \u001b[39mraise\u001b[39;00m TimeoutException(message, screen, stacktrace)\n",
      "\u001b[0;31mTimeoutException\u001b[0m: Message: \n"
     ]
    }
   ],
   "source": [
    "def obtener_hrefs(driver, xpath):\n",
    "    # Espera implícita para asegurarse de que la página esté completamente cargada\n",
    "    driver.implicitly_wait(10)\n",
    "    \n",
    "    # Espera explícita para asegurarse de que los elementos estén presentes antes de buscarlos\n",
    "    wait = WebDriverWait(driver, 10)\n",
    "    elementos = wait.until(EC.presence_of_all_elements_located((By.XPATH, xpath)))\n",
    "    \n",
    "    hrefs = []\n",
    "    \n",
    "    for elemento in elementos:\n",
    "        try:\n",
    "            # Obtén el enlace (href) dentro del elemento\n",
    "            href = elemento.find_element(By.XPATH, './/a').get_attribute('href')\n",
    "            hrefs.append(href)\n",
    "        except NoSuchElementException:\n",
    "            # Manejo de excepción si no se encuentra el elemento href\n",
    "            print(\"No se encontró el elemento href en:\", elemento.text)\n",
    "    \n",
    "    return hrefs\n",
    "\n",
    "# Ejemplo de uso\n",
    "url = 'tu_url_aqui'\n",
    "\n",
    "tipos_objetos = ['Armas', 'Alimentos', 'Otros']  # Puedes agregar más tipos según sea necesario\n",
    "xpath_base = '//*[@id=\"ecidoc--p65_E36_p138_represents_object---pm--objectNode\"]/ul[1]/li[{}]/div/p[1]/a'\n",
    "\n",
    "diccionario_xpaths = {tipo: xpath_base.format(i) for i, tipo in enumerate(tipos_objetos, start=1)}\n",
    "\n",
    "for tipo, xpath in diccionario_xpaths.items():\n",
    "    print(f'Hrefs para {tipo}:')\n",
    "    hrefs = obtener_hrefs(driver, xpath)\n",
    "    print(hrefs)\n",
    "    print()\n"
   ]
  },
  {
   "cell_type": "code",
   "execution_count": null,
   "metadata": {},
   "outputs": [],
   "source": [
    "for href in hrefs:\n",
    "    print(href)"
   ]
  },
  {
   "cell_type": "code",
   "execution_count": 14,
   "metadata": {},
   "outputs": [
    {
     "name": "stdout",
     "output_type": "stream",
     "text": [
      "{'tipo1': '//*[@id=\"ecidoc--p65_E36_p138_represents_object---pm--objectNode\"]/ul[1]/li[1]/div/p[1]/a', 'tipo2': '//*[@id=\"ecidoc--p65_E36_p138_represents_object---pm--objectNode\"]/ul[1]/li[2]/div/p[1]/a', 'tipo3': '//*[@id=\"ecidoc--p65_E36_p138_represents_object---pm--objectNode\"]/ul[1]/li[3]/div/p[1]/a', 'tipo4': '//*[@id=\"ecidoc--p65_E36_p138_represents_object---pm--objectNode\"]/ul[1]/li[4]/div/p[1]/a', 'tipo5': '//*[@id=\"ecidoc--p65_E36_p138_represents_object---pm--objectNode\"]/ul[1]/li[5]/div/p[1]/a', 'tipo6': '//*[@id=\"ecidoc--p65_E36_p138_represents_object---pm--objectNode\"]/ul[1]/li[6]/div/p[1]/a', 'tipo7': '//*[@id=\"ecidoc--p65_E36_p138_represents_object---pm--objectNode\"]/ul[1]/li[7]/div/p[1]/a', 'tipo8': '//*[@id=\"ecidoc--p65_E36_p138_represents_object---pm--objectNode\"]/ul[1]/li[8]/div/p[1]/a', 'tipo9': '//*[@id=\"ecidoc--p65_E36_p138_represents_object---pm--objectNode\"]/ul[1]/li[9]/div/p[1]/a', 'tipo10': '//*[@id=\"ecidoc--p65_E36_p138_represents_object---pm--objectNode\"]/ul[1]/li[10]/div/p[1]/a', 'tipo11': '//*[@id=\"ecidoc--p65_E36_p138_represents_object---pm--objectNode\"]/ul[1]/li[11]/div/p[1]/a', 'tipo12': '//*[@id=\"ecidoc--p65_E36_p138_represents_object---pm--objectNode\"]/ul[1]/li[12]/div/p[1]/a', 'tipo13': '//*[@id=\"ecidoc--p65_E36_p138_represents_object---pm--objectNode\"]/ul[1]/li[13]/div/p[1]/a', 'tipo14': '//*[@id=\"ecidoc--p65_E36_p138_represents_object---pm--objectNode\"]/ul[1]/li[14]/div/p[1]/a', 'tipo15': '//*[@id=\"ecidoc--p65_E36_p138_represents_object---pm--objectNode\"]/ul[1]/li[15]/div/p[1]/a', 'tipo16': '//*[@id=\"ecidoc--p65_E36_p138_represents_object---pm--objectNode\"]/ul[1]/li[16]/div/p[1]/a', 'tipo17': '//*[@id=\"ecidoc--p65_E36_p138_represents_object---pm--objectNode\"]/ul[1]/li[17]/div/p[1]/a', 'tipo18': '//*[@id=\"ecidoc--p65_E36_p138_represents_object---pm--objectNode\"]/ul[1]/li[18]/div/p[1]/a', 'tipo19': '//*[@id=\"ecidoc--p65_E36_p138_represents_object---pm--objectNode\"]/ul[1]/li[19]/div/p[1]/a', 'tipo20': '//*[@id=\"ecidoc--p65_E36_p138_represents_object---pm--objectNode\"]/ul[1]/li[20]/div/p[1]/a', 'tipo21': '//*[@id=\"ecidoc--p65_E36_p138_represents_object---pm--objectNode\"]/ul[1]/li[21]/div/p[1]/a', 'tipo22': '//*[@id=\"ecidoc--p65_E36_p138_represents_object---pm--objectNode\"]/ul[1]/li[22]/div/p[1]/a', 'tipo23': '//*[@id=\"ecidoc--p65_E36_p138_represents_object---pm--objectNode\"]/ul[1]/li[23]/div/p[1]/a', 'tipo24': '//*[@id=\"ecidoc--p65_E36_p138_represents_object---pm--objectNode\"]/ul[1]/li[24]/div/p[1]/a', 'tipo25': '//*[@id=\"ecidoc--p65_E36_p138_represents_object---pm--objectNode\"]/ul[1]/li[25]/div/p[1]/a', 'tipo26': '//*[@id=\"ecidoc--p65_E36_p138_represents_object---pm--objectNode\"]/ul[1]/li[26]/div/p[1]/a', 'tipo27': '//*[@id=\"ecidoc--p65_E36_p138_represents_object---pm--objectNode\"]/ul[1]/li[27]/div/p[1]/a', 'tipo28': '//*[@id=\"ecidoc--p65_E36_p138_represents_object---pm--objectNode\"]/ul[1]/li[28]/div/p[1]/a', 'tipo29': '//*[@id=\"ecidoc--p65_E36_p138_represents_object---pm--objectNode\"]/ul[1]/li[29]/div/p[1]/a', 'tipo30': '//*[@id=\"ecidoc--p65_E36_p138_represents_object---pm--objectNode\"]/ul[1]/li[30]/div/p[1]/a', 'tipo31': '//*[@id=\"ecidoc--p65_E36_p138_represents_object---pm--objectNode\"]/ul[1]/li[31]/div/p[1]/a', 'tipo32': '//*[@id=\"ecidoc--p65_E36_p138_represents_object---pm--objectNode\"]/ul[1]/li[32]/div/p[1]/a', 'tipo33': '//*[@id=\"ecidoc--p65_E36_p138_represents_object---pm--objectNode\"]/ul[1]/li[33]/div/p[1]/a', 'tipo34': '//*[@id=\"ecidoc--p65_E36_p138_represents_object---pm--objectNode\"]/ul[1]/li[34]/div/p[1]/a', 'tipo35': '//*[@id=\"ecidoc--p65_E36_p138_represents_object---pm--objectNode\"]/ul[1]/li[35]/div/p[1]/a', 'tipo36': '//*[@id=\"ecidoc--p65_E36_p138_represents_object---pm--objectNode\"]/ul[1]/li[36]/div/p[1]/a', 'tipo37': '//*[@id=\"ecidoc--p65_E36_p138_represents_object---pm--objectNode\"]/ul[1]/li[37]/div/p[1]/a', 'tipo38': '//*[@id=\"ecidoc--p65_E36_p138_represents_object---pm--objectNode\"]/ul[1]/li[38]/div/p[1]/a', 'tipo39': '//*[@id=\"ecidoc--p65_E36_p138_represents_object---pm--objectNode\"]/ul[1]/li[39]/div/p[1]/a', 'tipo40': '//*[@id=\"ecidoc--p65_E36_p138_represents_object---pm--objectNode\"]/ul[1]/li[40]/div/p[1]/a'}\n"
     ]
    }
   ],
   "source": [
    "\n",
    "def obtener_hrefs(driver, xpath):\n",
    "    # Espera implícita para asegurarse de que la página esté completamente cargada\n",
    "    driver.implicitly_wait(10)\n",
    "    \n",
    "    # Espera explícita para asegurarse de que los elementos estén presentes antes de buscarlos\n",
    "    wait = WebDriverWait(driver, 20)  # Aumenta el tiempo de espera a 20 segundos\n",
    "    try:\n",
    "        elementos = wait.until(EC.presence_of_all_elements_located((By.XPATH, xpath)))\n",
    "    except TimeoutException:\n",
    "        print(f'Tiempo de espera agotado para el XPath: {xpath}')\n",
    "        return []\n",
    "\n",
    "    hrefs = []\n",
    "    \n",
    "    for elemento in elementos:\n",
    "        try:\n",
    "            # Obtén el enlace (href) dentro del elemento\n",
    "            href = elemento.find_element(By.XPATH, './/a').get_attribute('href')\n",
    "            hrefs.append(href)\n",
    "        except NoSuchElementException:\n",
    "            # Manejo de excepción si no se encuentra el elemento href\n",
    "            print(\"No se encontró el elemento href en:\", elemento.text)\n",
    "    \n",
    "    return hrefs\n",
    "\n",
    "# Ejemplo de uso\n",
    "url = 'https://www.museodelprado.es/coleccion/obras-de-arte?'\n",
    "\n",
    "# Construir diccionario de xpaths con un bucle\n",
    "xpath_base = '//*[@id=\"ecidoc--p65_E36_p138_represents_object---pm--objectNode\"]/ul[1]/li[{}]/div/p[1]/a'\n",
    "diccionario_xpaths = {}\n",
    "\n",
    "for i in range(1, 41):  # Cambia el rango según la cantidad de elementos que tengas\n",
    "    tipo = f'tipo{i}'\n",
    "    xpath = xpath_base.format(i)\n",
    "    diccionario_xpaths[tipo] = xpath\n",
    "\n",
    "# Imprimir el diccionario para verificar\n",
    "print(diccionario_xpaths)\n"
   ]
  },
  {
   "cell_type": "code",
   "execution_count": 12,
   "metadata": {},
   "outputs": [
    {
     "name": "stdout",
     "output_type": "stream",
     "text": [
      "//*[@id=\"ecidoc--p65_E36_p138_represents_object---pm--objectNode\"]/ul[1]/li[1]/div/p[1]/a\n",
      "//*[@id=\"ecidoc--p65_E36_p138_represents_object---pm--objectNode\"]/ul[1]/li[2]/div/p[1]/a\n",
      "//*[@id=\"ecidoc--p65_E36_p138_represents_object---pm--objectNode\"]/ul[1]/li[3]/div/p[1]/a\n",
      "//*[@id=\"ecidoc--p65_E36_p138_represents_object---pm--objectNode\"]/ul[1]/li[4]/div/p[1]/a\n",
      "//*[@id=\"ecidoc--p65_E36_p138_represents_object---pm--objectNode\"]/ul[1]/li[5]/div/p[1]/a\n",
      "//*[@id=\"ecidoc--p65_E36_p138_represents_object---pm--objectNode\"]/ul[1]/li[6]/div/p[1]/a\n",
      "//*[@id=\"ecidoc--p65_E36_p138_represents_object---pm--objectNode\"]/ul[1]/li[7]/div/p[1]/a\n",
      "//*[@id=\"ecidoc--p65_E36_p138_represents_object---pm--objectNode\"]/ul[1]/li[8]/div/p[1]/a\n",
      "//*[@id=\"ecidoc--p65_E36_p138_represents_object---pm--objectNode\"]/ul[1]/li[9]/div/p[1]/a\n",
      "//*[@id=\"ecidoc--p65_E36_p138_represents_object---pm--objectNode\"]/ul[1]/li[10]/div/p[1]/a\n",
      "//*[@id=\"ecidoc--p65_E36_p138_represents_object---pm--objectNode\"]/ul[1]/li[11]/div/p[1]/a\n",
      "//*[@id=\"ecidoc--p65_E36_p138_represents_object---pm--objectNode\"]/ul[1]/li[12]/div/p[1]/a\n",
      "//*[@id=\"ecidoc--p65_E36_p138_represents_object---pm--objectNode\"]/ul[1]/li[13]/div/p[1]/a\n",
      "//*[@id=\"ecidoc--p65_E36_p138_represents_object---pm--objectNode\"]/ul[1]/li[14]/div/p[1]/a\n",
      "//*[@id=\"ecidoc--p65_E36_p138_represents_object---pm--objectNode\"]/ul[1]/li[15]/div/p[1]/a\n",
      "//*[@id=\"ecidoc--p65_E36_p138_represents_object---pm--objectNode\"]/ul[1]/li[16]/div/p[1]/a\n",
      "//*[@id=\"ecidoc--p65_E36_p138_represents_object---pm--objectNode\"]/ul[1]/li[17]/div/p[1]/a\n",
      "//*[@id=\"ecidoc--p65_E36_p138_represents_object---pm--objectNode\"]/ul[1]/li[18]/div/p[1]/a\n",
      "//*[@id=\"ecidoc--p65_E36_p138_represents_object---pm--objectNode\"]/ul[1]/li[19]/div/p[1]/a\n",
      "//*[@id=\"ecidoc--p65_E36_p138_represents_object---pm--objectNode\"]/ul[1]/li[20]/div/p[1]/a\n",
      "//*[@id=\"ecidoc--p65_E36_p138_represents_object---pm--objectNode\"]/ul[1]/li[21]/div/p[1]/a\n",
      "//*[@id=\"ecidoc--p65_E36_p138_represents_object---pm--objectNode\"]/ul[1]/li[22]/div/p[1]/a\n",
      "//*[@id=\"ecidoc--p65_E36_p138_represents_object---pm--objectNode\"]/ul[1]/li[23]/div/p[1]/a\n",
      "//*[@id=\"ecidoc--p65_E36_p138_represents_object---pm--objectNode\"]/ul[1]/li[24]/div/p[1]/a\n",
      "//*[@id=\"ecidoc--p65_E36_p138_represents_object---pm--objectNode\"]/ul[1]/li[25]/div/p[1]/a\n",
      "//*[@id=\"ecidoc--p65_E36_p138_represents_object---pm--objectNode\"]/ul[1]/li[26]/div/p[1]/a\n",
      "//*[@id=\"ecidoc--p65_E36_p138_represents_object---pm--objectNode\"]/ul[1]/li[27]/div/p[1]/a\n",
      "//*[@id=\"ecidoc--p65_E36_p138_represents_object---pm--objectNode\"]/ul[1]/li[28]/div/p[1]/a\n",
      "//*[@id=\"ecidoc--p65_E36_p138_represents_object---pm--objectNode\"]/ul[1]/li[29]/div/p[1]/a\n",
      "//*[@id=\"ecidoc--p65_E36_p138_represents_object---pm--objectNode\"]/ul[1]/li[30]/div/p[1]/a\n",
      "//*[@id=\"ecidoc--p65_E36_p138_represents_object---pm--objectNode\"]/ul[1]/li[31]/div/p[1]/a\n",
      "//*[@id=\"ecidoc--p65_E36_p138_represents_object---pm--objectNode\"]/ul[1]/li[32]/div/p[1]/a\n",
      "//*[@id=\"ecidoc--p65_E36_p138_represents_object---pm--objectNode\"]/ul[1]/li[33]/div/p[1]/a\n",
      "//*[@id=\"ecidoc--p65_E36_p138_represents_object---pm--objectNode\"]/ul[1]/li[34]/div/p[1]/a\n",
      "//*[@id=\"ecidoc--p65_E36_p138_represents_object---pm--objectNode\"]/ul[1]/li[35]/div/p[1]/a\n",
      "//*[@id=\"ecidoc--p65_E36_p138_represents_object---pm--objectNode\"]/ul[1]/li[36]/div/p[1]/a\n",
      "//*[@id=\"ecidoc--p65_E36_p138_represents_object---pm--objectNode\"]/ul[1]/li[37]/div/p[1]/a\n",
      "//*[@id=\"ecidoc--p65_E36_p138_represents_object---pm--objectNode\"]/ul[1]/li[38]/div/p[1]/a\n",
      "//*[@id=\"ecidoc--p65_E36_p138_represents_object---pm--objectNode\"]/ul[1]/li[39]/div/p[1]/a\n",
      "//*[@id=\"ecidoc--p65_E36_p138_represents_object---pm--objectNode\"]/ul[1]/li[40]/div/p[1]/a\n"
     ]
    }
   ],
   "source": [
    "def generar_xpaths(base_xpath, inicio, fin):\n",
    "    return [base_xpath.format(i) for i in range(inicio, fin + 1)]\n",
    "\n",
    "# Ejemplo de uso\n",
    "base_xpath = '//*[@id=\"ecidoc--p65_E36_p138_represents_object---pm--objectNode\"]/ul[1]/li[{}]/div/p[1]/a'\n",
    "inicio = 1\n",
    "fin = 40\n",
    "\n",
    "xpaths_generados = generar_xpaths(base_xpath, inicio, fin)\n",
    "\n",
    "for xpath in xpaths_generados:\n",
    "    print(xpath)"
   ]
  },
  {
   "cell_type": "code",
   "execution_count": 22,
   "metadata": {},
   "outputs": [
    {
     "ename": "NameError",
     "evalue": "name 'generar_xpaths' is not defined",
     "output_type": "error",
     "traceback": [
      "\u001b[0;31m---------------------------------------------------------------------------\u001b[0m",
      "\u001b[0;31mNameError\u001b[0m                                 Traceback (most recent call last)",
      "Cell \u001b[0;32mIn[22], line 29\u001b[0m\n\u001b[1;32m     26\u001b[0m inicio \u001b[39m=\u001b[39m \u001b[39m1\u001b[39m\n\u001b[1;32m     27\u001b[0m fin \u001b[39m=\u001b[39m \u001b[39m40\u001b[39m\n\u001b[0;32m---> 29\u001b[0m xpaths_generados \u001b[39m=\u001b[39m generar_xpaths(base_xpath, inicio, fin)\n\u001b[1;32m     31\u001b[0m \u001b[39m# Obtener hrefs\u001b[39;00m\n\u001b[1;32m     32\u001b[0m hrefs_totales \u001b[39m=\u001b[39m obtener_hrefs(driver, xpaths_generados)\n",
      "\u001b[0;31mNameError\u001b[0m: name 'generar_xpaths' is not defined"
     ]
    }
   ],
   "source": [
    "def obtener_hrefs(driver, xpaths):\n",
    "    # Espera implícita para asegurarse de que la página esté completamente cargada\n",
    "    driver.implicitly_wait(10)\n",
    "    \n",
    "    hrefs_totales = []\n",
    "\n",
    "    for xpath in xpaths:\n",
    "        # Espera explícita para asegurarse de que los elementos estén presentes antes de buscarlos\n",
    "        wait = WebDriverWait(driver, 10)\n",
    "        elementos = wait.until(EC.presence_of_all_elements_located((By.XPATH, xpath)))\n",
    "        \n",
    "        for elemento in elementos:\n",
    "            try:\n",
    "                # Obtén el enlace (href) dentro del elemento\n",
    "                href = elemento.find_element(By.XPATH, './/a').get_attribute('href')\n",
    "                hrefs_totales.append(href)\n",
    "            except NoSuchElementException:\n",
    "                # Manejo de excepción si no se encuentra el elemento href\n",
    "                print(\"No se encontró el elemento href en:\", elemento.text)\n",
    "\n",
    "    return hrefs_totales\n",
    "\n",
    "# Ejemplo de uso\n",
    "url = 'https://www.museodelprado.es/coleccion/obras-de-arte?ecidoc:p65_E36_p138_represents_object@@@pm:objectNode=http://museodelprado.es/items/object_1'\n",
    "base_xpath = '//*[@id=\"ecidoc--p65_E36_p138_represents_object---pm--objectNode\"]/ul[1]/li[{}]/div/p[1]/a'\n",
    "inicio = 1\n",
    "fin = 40\n",
    "\n",
    "xpaths_generados = generar_xpaths(base_xpath, inicio, fin)\n",
    "\n",
    "# Obtener hrefs\n",
    "hrefs_totales = obtener_hrefs(driver, xpaths_generados)\n",
    "\n",
    "# Imprimir los hrefs obtenidos\n",
    "print(hrefs_totales)\n"
   ]
  },
  {
   "cell_type": "code",
   "execution_count": 23,
   "metadata": {},
   "outputs": [
    {
     "ename": "NameError",
     "evalue": "name 'generar_xpaths' is not defined",
     "output_type": "error",
     "traceback": [
      "\u001b[0;31m---------------------------------------------------------------------------\u001b[0m",
      "\u001b[0;31mNameError\u001b[0m                                 Traceback (most recent call last)",
      "Cell \u001b[0;32mIn[23], line 43\u001b[0m\n\u001b[1;32m     40\u001b[0m inicio \u001b[39m=\u001b[39m \u001b[39m1\u001b[39m\n\u001b[1;32m     41\u001b[0m fin \u001b[39m=\u001b[39m \u001b[39m40\u001b[39m\n\u001b[0;32m---> 43\u001b[0m xpaths_generados \u001b[39m=\u001b[39m generar_xpaths(base_xpath, inicio, fin)\n\u001b[1;32m     45\u001b[0m \u001b[39m# Obtener hrefs\u001b[39;00m\n\u001b[1;32m     46\u001b[0m hrefs \u001b[39m=\u001b[39m obtener_hrefs(driver, xpaths_generados)\n",
      "\u001b[0;31mNameError\u001b[0m: name 'generar_xpaths' is not defined"
     ]
    }
   ],
   "source": [
    "def obtener_hrefs(driver, xpaths):\n",
    "    # Espera implícita para asegurarse de que la página esté completamente cargada\n",
    "    driver.implicitly_wait(10)\n",
    "    \n",
    "    hrefs_totales = []\n",
    "\n",
    "    for xpath in xpaths:\n",
    "        print(f'Buscando elementos con el XPath: {xpath}')\n",
    "        \n",
    "        # Espera explícita para asegurarse de que la página esté completamente cargada\n",
    "        wait_page_load = WebDriverWait(driver, 20)\n",
    "        try:\n",
    "            wait_page_load.until(EC.presence_of_element_located((By.XPATH, '/Resultados\"]/*[@id=\"pan')))\n",
    "        except TimeoutException:\n",
    "            print('Tiempo de espera agotado para cargar la página')\n",
    "            continue\n",
    "\n",
    "        # Espera explícita para asegurarse de que los elementos estén presentes antes de buscarlos\n",
    "        wait = WebDriverWait(driver, 10)\n",
    "        try:\n",
    "            elementos = wait.until(EC.presence_of_all_elements_located((By.XPATH, xpath)))\n",
    "        except TimeoutException:\n",
    "            print(f'Tiempo de espera agotado para el XPath: {xpath}')\n",
    "            continue\n",
    "\n",
    "        for elemento in elementos:\n",
    "            try:\n",
    "                # Obtén el enlace (href) dentro del elemento\n",
    "                href = elemento.find_element(By.XPATH, './/a').get_attribute('href')\n",
    "                hrefs_totales.append(href)\n",
    "            except NoSuchElementException:\n",
    "                # Manejo de excepción si no se encuentra el elemento href\n",
    "                print(\"No se encontró el elemento href en:\", elemento.text)\n",
    "\n",
    "    return hrefs_totales\n",
    "\n",
    "# Ejemplo de uso\n",
    "url = 'https://www.museodelprado.es/coleccion/obras-de-arte?ecidoc:p65_E36_p138_represents_object@@@pm:objectNode=http://museodelprado.es/items/object_1'\n",
    "base_xpath = '//*[@id=\"ecidoc--p65_E36_p138_represents_object---pm--objectNode\"]/ul[1]/li[{}]/div/p[1]/a'\n",
    "inicio = 1\n",
    "fin = 40\n",
    "\n",
    "xpaths_generados = generar_xpaths(base_xpath, inicio, fin)\n",
    "\n",
    "# Obtener hrefs\n",
    "hrefs = obtener_hrefs(driver, xpaths_generados)\n",
    "\n",
    "# Imprimir los hrefs obtenidos\n",
    "print(hrefs)"
   ]
  },
  {
   "cell_type": "code",
   "execution_count": null,
   "metadata": {},
   "outputs": [],
   "source": []
  }
 ],
 "metadata": {
  "kernelspec": {
   "display_name": "final_project",
   "language": "python",
   "name": "python3"
  },
  "language_info": {
   "codemirror_mode": {
    "name": "ipython",
    "version": 3
   },
   "file_extension": ".py",
   "mimetype": "text/x-python",
   "name": "python",
   "nbconvert_exporter": "python",
   "pygments_lexer": "ipython3",
   "version": "3.11.5"
  },
  "orig_nbformat": 4
 },
 "nbformat": 4,
 "nbformat_minor": 2
}
