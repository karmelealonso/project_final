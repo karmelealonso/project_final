{
 "cells": [
  {
   "cell_type": "markdown",
   "id": "28148e79",
   "metadata": {},
   "source": [
    "# Estudio analítico de la iconografía del Museo Nacional Del Prado"
   ]
  },
  {
   "cell_type": "code",
   "execution_count": 1,
   "id": "01e96fe1",
   "metadata": {},
   "outputs": [],
   "source": [
    "#Import your libraries\n",
    "\n",
    "import numpy as np\n",
    "import pandas as pd\n",
    "import re\n",
    "import warnings\n",
    "warnings.filterwarnings('ignore')\n",
    "import pylab as plt\n",
    "import seaborn as sns\n",
    "import difflib\n",
    "import networkx as nx\n",
    "from pymongo import MongoClient\n",
    "import plotly.express as px\n",
    "from scipy.stats import ttest_ind"
   ]
  },
  {
   "cell_type": "code",
   "execution_count": 2,
   "id": "6abdb565",
   "metadata": {},
   "outputs": [],
   "source": [
    "#%pip install pyecharts\n",
    "from pyecharts import options as opts\n",
    "from pyecharts.charts import Pie\n",
    "from pyecharts.commons.utils import JsCode\n",
    "from pyecharts.globals import ThemeType"
   ]
  },
  {
   "cell_type": "markdown",
   "id": "f15208c0",
   "metadata": {},
   "source": [
    "# Importación de los datos desde MongoDB."
   ]
  },
  {
   "cell_type": "code",
   "execution_count": 3,
   "id": "338ebaf5",
   "metadata": {},
   "outputs": [],
   "source": [
    "# Conectar a la base de datos MongoDB\n",
    "client = MongoClient(\"mongodb://localhost:27017\")\n",
    "db = client[\"icongrafia_prado_completo\"]"
   ]
  },
  {
   "cell_type": "code",
   "execution_count": 4,
   "id": "080112fe",
   "metadata": {},
   "outputs": [],
   "source": [
    "# Se obtienen el documento de la colección \"obras_completo\"\n",
    "cursor = db.obras_completo.find()\n",
    "\n",
    "# Convertir los documentos a un DataFrame\n",
    "obras_completo = pd.DataFrame(list(cursor))"
   ]
  },
  {
   "cell_type": "code",
   "execution_count": 5,
   "id": "4ebee247",
   "metadata": {},
   "outputs": [
    {
     "data": {
      "text/plain": [
       "655"
      ]
     },
     "execution_count": 5,
     "metadata": {},
     "output_type": "execute_result"
    }
   ],
   "source": [
    "num_documentos = db.obras_completo.count_documents({})\n",
    "num_documentos"
   ]
  },
  {
   "cell_type": "code",
   "execution_count": 6,
   "id": "f44fc0ba",
   "metadata": {},
   "outputs": [
    {
     "data": {
      "text/plain": [
       "368"
      ]
     },
     "execution_count": 6,
     "metadata": {},
     "output_type": "execute_result"
    }
   ],
   "source": [
    "cantidad_titulos_escuela_espanola = db.obras_completo.count_documents({\"Escuela\": \"Española\"})\n",
    "cantidad_titulos_escuela_espanola "
   ]
  },
  {
   "cell_type": "markdown",
   "id": "42adf749",
   "metadata": {},
   "source": [
    "# Exploración inicial de los datos."
   ]
  },
  {
   "cell_type": "markdown",
   "id": "d87cc10b",
   "metadata": {},
   "source": [
    "Para llevar a cabo un análisis comprehensivo del dataframe presente, se procederá a realizar una exploración detallada de sus características fundamentales. \n",
    "\n",
    "Inicialmente, se examinarán las columnas que componen el dataframe, desglosando exhaustivamente la información contenida en cada una de ellas. Este paso es crucial para obtener una visión clara de las variables y el tipo de dato con el que contamos. También se evaluarán las dimensiones del dataframe para comprender la amplitud de la información que se está manejando. \n",
    "\n",
    "Se prestará especial atención a la presencia de valores nulos y duplicados. En caso de haberlos, se procederá a estudiarlos.  \n",
    "\n",
    "Este proceso sienta las bases necesarias y proporcionaun punto de partida sólido para los análisis descriptivos y estadísticos que se realizarán más adelante."
   ]
  },
  {
   "cell_type": "code",
   "execution_count": 7,
   "id": "b3426932",
   "metadata": {},
   "outputs": [
    {
     "data": {
      "text/html": [
       "<div>\n",
       "<style scoped>\n",
       "    .dataframe tbody tr th:only-of-type {\n",
       "        vertical-align: middle;\n",
       "    }\n",
       "\n",
       "    .dataframe tbody tr th {\n",
       "        vertical-align: top;\n",
       "    }\n",
       "\n",
       "    .dataframe thead th {\n",
       "        text-align: right;\n",
       "    }\n",
       "</style>\n",
       "<table border=\"1\" class=\"dataframe\">\n",
       "  <thead>\n",
       "    <tr style=\"text-align: right;\">\n",
       "      <th></th>\n",
       "      <th>_id</th>\n",
       "      <th>TituloID</th>\n",
       "      <th>Título</th>\n",
       "      <th>Autor</th>\n",
       "      <th>Fecha</th>\n",
       "      <th>Año</th>\n",
       "      <th>Escuela</th>\n",
       "      <th>Objetos</th>\n",
       "      <th>Fauna</th>\n",
       "      <th>Flora</th>\n",
       "      <th>Lugar</th>\n",
       "      <th>Personajes</th>\n",
       "      <th>Obra_uri</th>\n",
       "      <th>Imágenes</th>\n",
       "      <th>Fecha_rango</th>\n",
       "    </tr>\n",
       "  </thead>\n",
       "  <tbody>\n",
       "    <tr>\n",
       "      <th>0</th>\n",
       "      <td>656e181b545b8cc16df86793</td>\n",
       "      <td>0</td>\n",
       "      <td>\"Floreros\"</td>\n",
       "      <td>Nuzzi, Mario</td>\n",
       "      <td>1640 - 1642</td>\n",
       "      <td>1640</td>\n",
       "      <td>Italiana</td>\n",
       "      <td>Enseres domésticos ; Florero ; Instrumentos de...</td>\n",
       "      <td>NaN</td>\n",
       "      <td>Anémona (Anemone spp.) ; Gladiolo (Gladiolus s...</td>\n",
       "      <td>NaN</td>\n",
       "      <td>NaN</td>\n",
       "      <td>http://museodelprado.es/items/E22_Man-Made_Obj...</td>\n",
       "      <td>https://content3.cdnprado.net/imagenes/Documen...</td>\n",
       "      <td>1640 - 1642</td>\n",
       "    </tr>\n",
       "    <tr>\n",
       "      <th>1</th>\n",
       "      <td>656e181b545b8cc16df86794</td>\n",
       "      <td>1</td>\n",
       "      <td>\"La Anunciación\"</td>\n",
       "      <td>Maestro de la Sisla</td>\n",
       "      <td>Hacia  1500</td>\n",
       "      <td>1495</td>\n",
       "      <td>Española</td>\n",
       "      <td>Libro</td>\n",
       "      <td>NaN</td>\n",
       "      <td>Azucena (Lilium candidum)</td>\n",
       "      <td>NaN</td>\n",
       "      <td>Virgen María</td>\n",
       "      <td>http://museodelprado.es/items/E22_Man-Made_Obj...</td>\n",
       "      <td>https://content3.cdnprado.net/imagenes/Documen...</td>\n",
       "      <td>1495</td>\n",
       "    </tr>\n",
       "    <tr>\n",
       "      <th>2</th>\n",
       "      <td>656e181b545b8cc16df86795</td>\n",
       "      <td>2</td>\n",
       "      <td>\"Copa de la Vendimia\"</td>\n",
       "      <td>Fontana, Annibale ; Taller de los Sarachi</td>\n",
       "      <td>1570 - 1600</td>\n",
       "      <td>1570</td>\n",
       "      <td>Italiana</td>\n",
       "      <td>NaN</td>\n",
       "      <td>NaN</td>\n",
       "      <td>Vid / Parra (Vitis vinifera)</td>\n",
       "      <td>NaN</td>\n",
       "      <td>NaN</td>\n",
       "      <td>http://museodelprado.es/items/E22_Man-Made_Obj...</td>\n",
       "      <td>https://content3.cdnprado.net/imagenes/Documen...</td>\n",
       "      <td>1570 - 1600</td>\n",
       "    </tr>\n",
       "    <tr>\n",
       "      <th>3</th>\n",
       "      <td>656e181b545b8cc16df86796</td>\n",
       "      <td>3</td>\n",
       "      <td>\"Florero\"</td>\n",
       "      <td>Pérez, Bartolomé</td>\n",
       "      <td>Hacia  1676</td>\n",
       "      <td>1671</td>\n",
       "      <td>Española</td>\n",
       "      <td>NaN</td>\n",
       "      <td>Artrópodos (Filo: Arthropoda)</td>\n",
       "      <td>Ajenuz / Arañuela (Nigella damascena) ; Anémon...</td>\n",
       "      <td>NaN</td>\n",
       "      <td>NaN</td>\n",
       "      <td>http://museodelprado.es/items/E22_Man-Made_Obj...</td>\n",
       "      <td>https://content3.cdnprado.net/imagenes/Documen...</td>\n",
       "      <td>1671</td>\n",
       "    </tr>\n",
       "    <tr>\n",
       "      <th>4</th>\n",
       "      <td>656e181b545b8cc16df86797</td>\n",
       "      <td>4</td>\n",
       "      <td>\"La Inmaculada Concepción\"</td>\n",
       "      <td>Maella, Mariano Salvador</td>\n",
       "      <td>Hacia  1781</td>\n",
       "      <td>1776</td>\n",
       "      <td>Española</td>\n",
       "      <td>Elementos heráldicos y nobiliarios ; Insignia ...</td>\n",
       "      <td>NaN</td>\n",
       "      <td>Azucena (Lilium candidum)</td>\n",
       "      <td>NaN</td>\n",
       "      <td>Virgen María ; Ángel / ángeles</td>\n",
       "      <td>http://museodelprado.es/items/E22_Man-Made_Obj...</td>\n",
       "      <td>https://content3.cdnprado.net/imagenes/Documen...</td>\n",
       "      <td>1776</td>\n",
       "    </tr>\n",
       "  </tbody>\n",
       "</table>\n",
       "</div>"
      ],
      "text/plain": [
       "                        _id  TituloID                      Título  \\\n",
       "0  656e181b545b8cc16df86793         0                  \"Floreros\"   \n",
       "1  656e181b545b8cc16df86794         1            \"La Anunciación\"   \n",
       "2  656e181b545b8cc16df86795         2       \"Copa de la Vendimia\"   \n",
       "3  656e181b545b8cc16df86796         3                   \"Florero\"   \n",
       "4  656e181b545b8cc16df86797         4  \"La Inmaculada Concepción\"   \n",
       "\n",
       "                                       Autor        Fecha   Año   Escuela  \\\n",
       "0                               Nuzzi, Mario  1640 - 1642  1640  Italiana   \n",
       "1                        Maestro de la Sisla  Hacia  1500  1495  Española   \n",
       "2  Fontana, Annibale ; Taller de los Sarachi  1570 - 1600  1570  Italiana   \n",
       "3                           Pérez, Bartolomé  Hacia  1676  1671  Española   \n",
       "4                   Maella, Mariano Salvador  Hacia  1781  1776  Española   \n",
       "\n",
       "                                             Objetos  \\\n",
       "0  Enseres domésticos ; Florero ; Instrumentos de...   \n",
       "1                                              Libro   \n",
       "2                                                NaN   \n",
       "3                                                NaN   \n",
       "4  Elementos heráldicos y nobiliarios ; Insignia ...   \n",
       "\n",
       "                           Fauna  \\\n",
       "0                            NaN   \n",
       "1                            NaN   \n",
       "2                            NaN   \n",
       "3  Artrópodos (Filo: Arthropoda)   \n",
       "4                            NaN   \n",
       "\n",
       "                                               Flora Lugar  \\\n",
       "0  Anémona (Anemone spp.) ; Gladiolo (Gladiolus s...   NaN   \n",
       "1                          Azucena (Lilium candidum)   NaN   \n",
       "2                       Vid / Parra (Vitis vinifera)   NaN   \n",
       "3  Ajenuz / Arañuela (Nigella damascena) ; Anémon...   NaN   \n",
       "4                          Azucena (Lilium candidum)   NaN   \n",
       "\n",
       "                       Personajes  \\\n",
       "0                             NaN   \n",
       "1                    Virgen María   \n",
       "2                             NaN   \n",
       "3                             NaN   \n",
       "4  Virgen María ; Ángel / ángeles   \n",
       "\n",
       "                                            Obra_uri  \\\n",
       "0  http://museodelprado.es/items/E22_Man-Made_Obj...   \n",
       "1  http://museodelprado.es/items/E22_Man-Made_Obj...   \n",
       "2  http://museodelprado.es/items/E22_Man-Made_Obj...   \n",
       "3  http://museodelprado.es/items/E22_Man-Made_Obj...   \n",
       "4  http://museodelprado.es/items/E22_Man-Made_Obj...   \n",
       "\n",
       "                                            Imágenes  Fecha_rango  \n",
       "0  https://content3.cdnprado.net/imagenes/Documen...  1640 - 1642  \n",
       "1  https://content3.cdnprado.net/imagenes/Documen...         1495  \n",
       "2  https://content3.cdnprado.net/imagenes/Documen...  1570 - 1600  \n",
       "3  https://content3.cdnprado.net/imagenes/Documen...         1671  \n",
       "4  https://content3.cdnprado.net/imagenes/Documen...         1776  "
      ]
     },
     "execution_count": 7,
     "metadata": {},
     "output_type": "execute_result"
    }
   ],
   "source": [
    "obras_completo.head()"
   ]
  },
  {
   "cell_type": "code",
   "execution_count": 8,
   "id": "9154a70b",
   "metadata": {},
   "outputs": [
    {
     "data": {
      "text/plain": [
       "array(['Italiana', 'Española', 'Flamenca', 'Francesa',\n",
       "       'Hispano-cartaginesa', 'Italiana ; Veneciana',\n",
       "       'Castellana ; Española', 'Francesa ; Italiana', 'Holandesa',\n",
       "       'Alemana', 'Española ; Madrileña', 'Italiana ; Napolitana',\n",
       "       'Arte Clásico ; Roma', 'Boloñesa ; Italiana', 'Gala',\n",
       "       'Desconocida', 'Púnica', 'Hispano-flamenca',\n",
       "       'Española ; Valenciana', 'Florentina ; Italiana', 'Inglesa',\n",
       "       'Sueca', 'Castellana ; Española ; Toledana',\n",
       "       'Francesa ; Italiana ; Milanesa', 'Portuguesa'], dtype=object)"
      ]
     },
     "execution_count": 8,
     "metadata": {},
     "output_type": "execute_result"
    }
   ],
   "source": [
    "obras_completo['Escuela'].unique()"
   ]
  },
  {
   "cell_type": "code",
   "execution_count": 9,
   "id": "69136464",
   "metadata": {},
   "outputs": [],
   "source": [
    "obras_completo = obras_completo[obras_completo['Escuela'] != 'Desconocida'] #Elimino las filas en las que la escuela es desconocida.\n",
    "obras_completo = obras_completo.reset_index(drop=True)"
   ]
  },
  {
   "cell_type": "code",
   "execution_count": 10,
   "id": "0630cdda",
   "metadata": {},
   "outputs": [
    {
     "data": {
      "text/plain": [
       "Index(['_id', 'TituloID', 'Título', 'Autor', 'Fecha', 'Año', 'Escuela',\n",
       "       'Objetos', 'Fauna', 'Flora', 'Lugar', 'Personajes', 'Obra_uri',\n",
       "       'Imágenes', 'Fecha_rango'],\n",
       "      dtype='object')"
      ]
     },
     "execution_count": 10,
     "metadata": {},
     "output_type": "execute_result"
    }
   ],
   "source": [
    "obras_completo.columns"
   ]
  },
  {
   "cell_type": "code",
   "execution_count": 11,
   "id": "f1245f12",
   "metadata": {},
   "outputs": [
    {
     "data": {
      "text/plain": [
       "_id              0\n",
       "TituloID         0\n",
       "Título           0\n",
       "Autor            0\n",
       "Fecha            0\n",
       "Año              0\n",
       "Escuela          0\n",
       "Objetos        331\n",
       "Fauna          462\n",
       "Flora            0\n",
       "Lugar          602\n",
       "Personajes     343\n",
       "Obra_uri         0\n",
       "Imágenes         0\n",
       "Fecha_rango      0\n",
       "dtype: int64"
      ]
     },
     "execution_count": 11,
     "metadata": {},
     "output_type": "execute_result"
    }
   ],
   "source": [
    "obras_completo.isnull().sum()"
   ]
  },
  {
   "cell_type": "code",
   "execution_count": 12,
   "id": "f8c46fc5",
   "metadata": {},
   "outputs": [
    {
     "name": "stdout",
     "output_type": "stream",
     "text": [
      "<class 'pandas.core.frame.DataFrame'>\n",
      "RangeIndex: 649 entries, 0 to 648\n",
      "Data columns (total 15 columns):\n",
      " #   Column       Non-Null Count  Dtype \n",
      "---  ------       --------------  ----- \n",
      " 0   _id          649 non-null    object\n",
      " 1   TituloID     649 non-null    int64 \n",
      " 2   Título       649 non-null    object\n",
      " 3   Autor        649 non-null    object\n",
      " 4   Fecha        649 non-null    object\n",
      " 5   Año          649 non-null    int64 \n",
      " 6   Escuela      649 non-null    object\n",
      " 7   Objetos      318 non-null    object\n",
      " 8   Fauna        187 non-null    object\n",
      " 9   Flora        649 non-null    object\n",
      " 10  Lugar        47 non-null     object\n",
      " 11  Personajes   306 non-null    object\n",
      " 12  Obra_uri     649 non-null    object\n",
      " 13  Imágenes     649 non-null    object\n",
      " 14  Fecha_rango  649 non-null    object\n",
      "dtypes: int64(2), object(13)\n",
      "memory usage: 76.2+ KB\n"
     ]
    }
   ],
   "source": [
    "obras_completo.info()"
   ]
  },
  {
   "cell_type": "code",
   "execution_count": 13,
   "id": "9b4102f9",
   "metadata": {},
   "outputs": [
    {
     "data": {
      "text/html": [
       "<div>\n",
       "<style scoped>\n",
       "    .dataframe tbody tr th:only-of-type {\n",
       "        vertical-align: middle;\n",
       "    }\n",
       "\n",
       "    .dataframe tbody tr th {\n",
       "        vertical-align: top;\n",
       "    }\n",
       "\n",
       "    .dataframe thead th {\n",
       "        text-align: right;\n",
       "    }\n",
       "</style>\n",
       "<table border=\"1\" class=\"dataframe\">\n",
       "  <thead>\n",
       "    <tr style=\"text-align: right;\">\n",
       "      <th></th>\n",
       "      <th>_id</th>\n",
       "      <th>Título</th>\n",
       "      <th>Autor</th>\n",
       "      <th>Fecha</th>\n",
       "      <th>Escuela</th>\n",
       "      <th>Objetos</th>\n",
       "      <th>Fauna</th>\n",
       "      <th>Flora</th>\n",
       "      <th>Lugar</th>\n",
       "      <th>Personajes</th>\n",
       "      <th>Obra_uri</th>\n",
       "      <th>Imágenes</th>\n",
       "      <th>Fecha_rango</th>\n",
       "    </tr>\n",
       "  </thead>\n",
       "  <tbody>\n",
       "    <tr>\n",
       "      <th>count</th>\n",
       "      <td>649</td>\n",
       "      <td>649</td>\n",
       "      <td>649</td>\n",
       "      <td>649</td>\n",
       "      <td>649</td>\n",
       "      <td>318</td>\n",
       "      <td>187</td>\n",
       "      <td>649</td>\n",
       "      <td>47</td>\n",
       "      <td>306</td>\n",
       "      <td>649</td>\n",
       "      <td>649</td>\n",
       "      <td>649</td>\n",
       "    </tr>\n",
       "    <tr>\n",
       "      <th>unique</th>\n",
       "      <td>649</td>\n",
       "      <td>456</td>\n",
       "      <td>299</td>\n",
       "      <td>324</td>\n",
       "      <td>24</td>\n",
       "      <td>213</td>\n",
       "      <td>110</td>\n",
       "      <td>303</td>\n",
       "      <td>26</td>\n",
       "      <td>145</td>\n",
       "      <td>649</td>\n",
       "      <td>649</td>\n",
       "      <td>296</td>\n",
       "    </tr>\n",
       "    <tr>\n",
       "      <th>top</th>\n",
       "      <td>656e181b545b8cc16df86793</td>\n",
       "      <td>\"Florero\"</td>\n",
       "      <td>Anónimo</td>\n",
       "      <td>Siglo XVII</td>\n",
       "      <td>Española</td>\n",
       "      <td>Enseres domésticos ; Florero</td>\n",
       "      <td>Paloma (Columba ssp)</td>\n",
       "      <td>Azucena (Lilium candidum)</td>\n",
       "      <td>Alsasua ; España ; Navarra</td>\n",
       "      <td>Virgen María</td>\n",
       "      <td>http://museodelprado.es/items/E22_Man-Made_Obj...</td>\n",
       "      <td>https://content3.cdnprado.net/imagenes/Documen...</td>\n",
       "      <td>Siglo XVII</td>\n",
       "    </tr>\n",
       "    <tr>\n",
       "      <th>freq</th>\n",
       "      <td>1</td>\n",
       "      <td>68</td>\n",
       "      <td>80</td>\n",
       "      <td>81</td>\n",
       "      <td>368</td>\n",
       "      <td>19</td>\n",
       "      <td>30</td>\n",
       "      <td>79</td>\n",
       "      <td>4</td>\n",
       "      <td>18</td>\n",
       "      <td>1</td>\n",
       "      <td>1</td>\n",
       "      <td>81</td>\n",
       "    </tr>\n",
       "  </tbody>\n",
       "</table>\n",
       "</div>"
      ],
      "text/plain": [
       "                             _id     Título    Autor       Fecha   Escuela  \\\n",
       "count                        649        649      649         649       649   \n",
       "unique                       649        456      299         324        24   \n",
       "top     656e181b545b8cc16df86793  \"Florero\"  Anónimo  Siglo XVII  Española   \n",
       "freq                           1         68       80          81       368   \n",
       "\n",
       "                             Objetos                 Fauna  \\\n",
       "count                            318                   187   \n",
       "unique                           213                   110   \n",
       "top     Enseres domésticos ; Florero  Paloma (Columba ssp)   \n",
       "freq                              19                    30   \n",
       "\n",
       "                            Flora                       Lugar    Personajes  \\\n",
       "count                         649                          47           306   \n",
       "unique                        303                          26           145   \n",
       "top     Azucena (Lilium candidum)  Alsasua ; España ; Navarra  Virgen María   \n",
       "freq                           79                           4            18   \n",
       "\n",
       "                                                 Obra_uri  \\\n",
       "count                                                 649   \n",
       "unique                                                649   \n",
       "top     http://museodelprado.es/items/E22_Man-Made_Obj...   \n",
       "freq                                                    1   \n",
       "\n",
       "                                                 Imágenes Fecha_rango  \n",
       "count                                                 649         649  \n",
       "unique                                                649         296  \n",
       "top     https://content3.cdnprado.net/imagenes/Documen...  Siglo XVII  \n",
       "freq                                                    1          81  "
      ]
     },
     "execution_count": 13,
     "metadata": {},
     "output_type": "execute_result"
    }
   ],
   "source": [
    "obras_completo.describe(include='object')"
   ]
  },
  {
   "cell_type": "code",
   "execution_count": 14,
   "id": "3d308f5e",
   "metadata": {},
   "outputs": [
    {
     "data": {
      "text/html": [
       "<div>\n",
       "<style scoped>\n",
       "    .dataframe tbody tr th:only-of-type {\n",
       "        vertical-align: middle;\n",
       "    }\n",
       "\n",
       "    .dataframe tbody tr th {\n",
       "        vertical-align: top;\n",
       "    }\n",
       "\n",
       "    .dataframe thead th {\n",
       "        text-align: right;\n",
       "    }\n",
       "</style>\n",
       "<table border=\"1\" class=\"dataframe\">\n",
       "  <thead>\n",
       "    <tr style=\"text-align: right;\">\n",
       "      <th></th>\n",
       "      <th>TituloID</th>\n",
       "      <th>Año</th>\n",
       "    </tr>\n",
       "  </thead>\n",
       "  <tbody>\n",
       "    <tr>\n",
       "      <th>count</th>\n",
       "      <td>649.000000</td>\n",
       "      <td>649.000000</td>\n",
       "    </tr>\n",
       "    <tr>\n",
       "      <th>mean</th>\n",
       "      <td>326.206471</td>\n",
       "      <td>1694.241911</td>\n",
       "    </tr>\n",
       "    <tr>\n",
       "      <th>std</th>\n",
       "      <td>189.507705</td>\n",
       "      <td>234.762248</td>\n",
       "    </tr>\n",
       "    <tr>\n",
       "      <th>min</th>\n",
       "      <td>0.000000</td>\n",
       "      <td>-400.000000</td>\n",
       "    </tr>\n",
       "    <tr>\n",
       "      <th>25%</th>\n",
       "      <td>162.000000</td>\n",
       "      <td>1601.000000</td>\n",
       "    </tr>\n",
       "    <tr>\n",
       "      <th>50%</th>\n",
       "      <td>325.000000</td>\n",
       "      <td>1680.000000</td>\n",
       "    </tr>\n",
       "    <tr>\n",
       "      <th>75%</th>\n",
       "      <td>490.000000</td>\n",
       "      <td>1832.000000</td>\n",
       "    </tr>\n",
       "    <tr>\n",
       "      <th>max</th>\n",
       "      <td>654.000000</td>\n",
       "      <td>1931.000000</td>\n",
       "    </tr>\n",
       "  </tbody>\n",
       "</table>\n",
       "</div>"
      ],
      "text/plain": [
       "         TituloID          Año\n",
       "count  649.000000   649.000000\n",
       "mean   326.206471  1694.241911\n",
       "std    189.507705   234.762248\n",
       "min      0.000000  -400.000000\n",
       "25%    162.000000  1601.000000\n",
       "50%    325.000000  1680.000000\n",
       "75%    490.000000  1832.000000\n",
       "max    654.000000  1931.000000"
      ]
     },
     "execution_count": 14,
     "metadata": {},
     "output_type": "execute_result"
    }
   ],
   "source": [
    "obras_completo.describe()"
   ]
  },
  {
   "cell_type": "markdown",
   "id": "80ab2396",
   "metadata": {},
   "source": [
    "Tras un breve estudio del dataframe, se ha identificado la presencia de valores nulos especialmente en las cinco columnas correspondientes a los datos iconográficos de las obras. Algunos cuadros se caracterizan por contener únicamente una de las categorías, ya sea personajes, flora, fauna... Esta diversidad ha generado la aparición de valores nulos en las columnas correspondientes a los tipos de iconografía, como mencionaba anteriormente. \n",
    "\n",
    "Por este motivo, se procederá a rellenar los valores nulos en función de la naturaleza específica de cada obra y garantizar así la integridad de los datos para futuros análisis."
   ]
  },
  {
   "cell_type": "code",
   "execution_count": 15,
   "id": "d17fae46",
   "metadata": {},
   "outputs": [],
   "source": [
    "obras_completo['Objetos'] = obras_completo['Objetos'].fillna('Desconocidos')\n",
    "obras_completo['Fauna'] = obras_completo['Fauna'].fillna('Desconocida')\n",
    "obras_completo['Lugar'] = obras_completo['Lugar'].fillna('Desconocido')\n",
    "obras_completo['Personajes'] = obras_completo['Personajes'].fillna('Desconocidos')"
   ]
  },
  {
   "cell_type": "code",
   "execution_count": 16,
   "id": "1e28e982",
   "metadata": {},
   "outputs": [
    {
     "data": {
      "text/plain": [
       "_id            False\n",
       "TituloID       False\n",
       "Título         False\n",
       "Autor          False\n",
       "Fecha          False\n",
       "Año            False\n",
       "Escuela        False\n",
       "Objetos        False\n",
       "Fauna          False\n",
       "Flora          False\n",
       "Lugar          False\n",
       "Personajes     False\n",
       "Obra_uri       False\n",
       "Imágenes       False\n",
       "Fecha_rango    False\n",
       "dtype: bool"
      ]
     },
     "execution_count": 16,
     "metadata": {},
     "output_type": "execute_result"
    }
   ],
   "source": [
    "obras_completo.isnull().any()"
   ]
  },
  {
   "cell_type": "markdown",
   "id": "0d58d448",
   "metadata": {},
   "source": [
    "Ahora comprobamos la presencia de duplicados. Con gran suerte, no encontramos ninguno, por lo que no centraremos más nuestro atención en este ambito."
   ]
  },
  {
   "cell_type": "code",
   "execution_count": 17,
   "id": "83051565",
   "metadata": {},
   "outputs": [
    {
     "data": {
      "text/html": [
       "<div>\n",
       "<style scoped>\n",
       "    .dataframe tbody tr th:only-of-type {\n",
       "        vertical-align: middle;\n",
       "    }\n",
       "\n",
       "    .dataframe tbody tr th {\n",
       "        vertical-align: top;\n",
       "    }\n",
       "\n",
       "    .dataframe thead th {\n",
       "        text-align: right;\n",
       "    }\n",
       "</style>\n",
       "<table border=\"1\" class=\"dataframe\">\n",
       "  <thead>\n",
       "    <tr style=\"text-align: right;\">\n",
       "      <th></th>\n",
       "      <th>_id</th>\n",
       "      <th>TituloID</th>\n",
       "      <th>Título</th>\n",
       "      <th>Autor</th>\n",
       "      <th>Fecha</th>\n",
       "      <th>Año</th>\n",
       "      <th>Escuela</th>\n",
       "      <th>Objetos</th>\n",
       "      <th>Fauna</th>\n",
       "      <th>Flora</th>\n",
       "      <th>Lugar</th>\n",
       "      <th>Personajes</th>\n",
       "      <th>Obra_uri</th>\n",
       "      <th>Imágenes</th>\n",
       "      <th>Fecha_rango</th>\n",
       "    </tr>\n",
       "  </thead>\n",
       "  <tbody>\n",
       "  </tbody>\n",
       "</table>\n",
       "</div>"
      ],
      "text/plain": [
       "Empty DataFrame\n",
       "Columns: [_id, TituloID, Título, Autor, Fecha, Año, Escuela, Objetos, Fauna, Flora, Lugar, Personajes, Obra_uri, Imágenes, Fecha_rango]\n",
       "Index: []"
      ]
     },
     "execution_count": 17,
     "metadata": {},
     "output_type": "execute_result"
    }
   ],
   "source": [
    "duplicados = obras_completo[obras_completo.duplicated()]\n",
    "duplicados"
   ]
  },
  {
   "cell_type": "markdown",
   "id": "6e9daedf",
   "metadata": {},
   "source": [
    "Con el propósito de facilitar futuros análisis descriptivos y estadísticos, se llevará a cabo la descomposición de los valores en cada una de las celdas seleccionadas mediante el método \".explode( )\". \n",
    "\n",
    "Esto permitirá la separación de cada valor individual contenido en las celdas, facilitando así el poder realizar cálculos futuros como recuentos, porcentajes u otras tareas que requieran la manipulación de datos numéricos en lugar de categóricos."
   ]
  },
  {
   "cell_type": "code",
   "execution_count": 18,
   "id": "ccde2094",
   "metadata": {},
   "outputs": [],
   "source": [
    "cols = ['Personajes', 'Objetos', 'Fauna', 'Flora', 'Lugar']"
   ]
  },
  {
   "cell_type": "code",
   "execution_count": 19,
   "id": "0a81f6df",
   "metadata": {},
   "outputs": [],
   "source": [
    "for col in cols:\n",
    "    obras_completo[col] = obras_completo[col].str.split(';')\n",
    "    obras_completo = obras_completo.explode(col)\n",
    "    obras_completo[col] = obras_completo[col].str.strip()"
   ]
  },
  {
   "cell_type": "code",
   "execution_count": 20,
   "id": "2a023f60",
   "metadata": {},
   "outputs": [],
   "source": [
    "obras_completo = obras_completo.reset_index(drop=True)"
   ]
  },
  {
   "cell_type": "code",
   "execution_count": 21,
   "id": "424293e1",
   "metadata": {},
   "outputs": [
    {
     "data": {
      "text/html": [
       "<div>\n",
       "<style scoped>\n",
       "    .dataframe tbody tr th:only-of-type {\n",
       "        vertical-align: middle;\n",
       "    }\n",
       "\n",
       "    .dataframe tbody tr th {\n",
       "        vertical-align: top;\n",
       "    }\n",
       "\n",
       "    .dataframe thead th {\n",
       "        text-align: right;\n",
       "    }\n",
       "</style>\n",
       "<table border=\"1\" class=\"dataframe\">\n",
       "  <thead>\n",
       "    <tr style=\"text-align: right;\">\n",
       "      <th></th>\n",
       "      <th>_id</th>\n",
       "      <th>TituloID</th>\n",
       "      <th>Título</th>\n",
       "      <th>Autor</th>\n",
       "      <th>Fecha</th>\n",
       "      <th>Año</th>\n",
       "      <th>Escuela</th>\n",
       "      <th>Objetos</th>\n",
       "      <th>Fauna</th>\n",
       "      <th>Flora</th>\n",
       "      <th>Lugar</th>\n",
       "      <th>Personajes</th>\n",
       "      <th>Obra_uri</th>\n",
       "      <th>Imágenes</th>\n",
       "      <th>Fecha_rango</th>\n",
       "    </tr>\n",
       "  </thead>\n",
       "  <tbody>\n",
       "    <tr>\n",
       "      <th>0</th>\n",
       "      <td>656e181b545b8cc16df86793</td>\n",
       "      <td>0</td>\n",
       "      <td>\"Floreros\"</td>\n",
       "      <td>Nuzzi, Mario</td>\n",
       "      <td>1640 - 1642</td>\n",
       "      <td>1640</td>\n",
       "      <td>Italiana</td>\n",
       "      <td>Enseres domésticos</td>\n",
       "      <td>Desconocida</td>\n",
       "      <td>Anémona (Anemone spp.)</td>\n",
       "      <td>Desconocido</td>\n",
       "      <td>Desconocidos</td>\n",
       "      <td>http://museodelprado.es/items/E22_Man-Made_Obj...</td>\n",
       "      <td>https://content3.cdnprado.net/imagenes/Documen...</td>\n",
       "      <td>1640 - 1642</td>\n",
       "    </tr>\n",
       "    <tr>\n",
       "      <th>1</th>\n",
       "      <td>656e181b545b8cc16df86793</td>\n",
       "      <td>0</td>\n",
       "      <td>\"Floreros\"</td>\n",
       "      <td>Nuzzi, Mario</td>\n",
       "      <td>1640 - 1642</td>\n",
       "      <td>1640</td>\n",
       "      <td>Italiana</td>\n",
       "      <td>Enseres domésticos</td>\n",
       "      <td>Desconocida</td>\n",
       "      <td>Gladiolo (Gladiolus spp.)</td>\n",
       "      <td>Desconocido</td>\n",
       "      <td>Desconocidos</td>\n",
       "      <td>http://museodelprado.es/items/E22_Man-Made_Obj...</td>\n",
       "      <td>https://content3.cdnprado.net/imagenes/Documen...</td>\n",
       "      <td>1640 - 1642</td>\n",
       "    </tr>\n",
       "    <tr>\n",
       "      <th>2</th>\n",
       "      <td>656e181b545b8cc16df86793</td>\n",
       "      <td>0</td>\n",
       "      <td>\"Floreros\"</td>\n",
       "      <td>Nuzzi, Mario</td>\n",
       "      <td>1640 - 1642</td>\n",
       "      <td>1640</td>\n",
       "      <td>Italiana</td>\n",
       "      <td>Enseres domésticos</td>\n",
       "      <td>Desconocida</td>\n",
       "      <td>Lirio (Iris germanica)</td>\n",
       "      <td>Desconocido</td>\n",
       "      <td>Desconocidos</td>\n",
       "      <td>http://museodelprado.es/items/E22_Man-Made_Obj...</td>\n",
       "      <td>https://content3.cdnprado.net/imagenes/Documen...</td>\n",
       "      <td>1640 - 1642</td>\n",
       "    </tr>\n",
       "    <tr>\n",
       "      <th>3</th>\n",
       "      <td>656e181b545b8cc16df86793</td>\n",
       "      <td>0</td>\n",
       "      <td>\"Floreros\"</td>\n",
       "      <td>Nuzzi, Mario</td>\n",
       "      <td>1640 - 1642</td>\n",
       "      <td>1640</td>\n",
       "      <td>Italiana</td>\n",
       "      <td>Enseres domésticos</td>\n",
       "      <td>Desconocida</td>\n",
       "      <td>Mundillo / Bola de nieve (Viburnum opulus L.)</td>\n",
       "      <td>Desconocido</td>\n",
       "      <td>Desconocidos</td>\n",
       "      <td>http://museodelprado.es/items/E22_Man-Made_Obj...</td>\n",
       "      <td>https://content3.cdnprado.net/imagenes/Documen...</td>\n",
       "      <td>1640 - 1642</td>\n",
       "    </tr>\n",
       "    <tr>\n",
       "      <th>4</th>\n",
       "      <td>656e181b545b8cc16df86793</td>\n",
       "      <td>0</td>\n",
       "      <td>\"Floreros\"</td>\n",
       "      <td>Nuzzi, Mario</td>\n",
       "      <td>1640 - 1642</td>\n",
       "      <td>1640</td>\n",
       "      <td>Italiana</td>\n",
       "      <td>Enseres domésticos</td>\n",
       "      <td>Desconocida</td>\n",
       "      <td>Peonía (Paeonia)</td>\n",
       "      <td>Desconocido</td>\n",
       "      <td>Desconocidos</td>\n",
       "      <td>http://museodelprado.es/items/E22_Man-Made_Obj...</td>\n",
       "      <td>https://content3.cdnprado.net/imagenes/Documen...</td>\n",
       "      <td>1640 - 1642</td>\n",
       "    </tr>\n",
       "  </tbody>\n",
       "</table>\n",
       "</div>"
      ],
      "text/plain": [
       "                        _id  TituloID      Título         Autor        Fecha  \\\n",
       "0  656e181b545b8cc16df86793         0  \"Floreros\"  Nuzzi, Mario  1640 - 1642   \n",
       "1  656e181b545b8cc16df86793         0  \"Floreros\"  Nuzzi, Mario  1640 - 1642   \n",
       "2  656e181b545b8cc16df86793         0  \"Floreros\"  Nuzzi, Mario  1640 - 1642   \n",
       "3  656e181b545b8cc16df86793         0  \"Floreros\"  Nuzzi, Mario  1640 - 1642   \n",
       "4  656e181b545b8cc16df86793         0  \"Floreros\"  Nuzzi, Mario  1640 - 1642   \n",
       "\n",
       "    Año   Escuela             Objetos        Fauna  \\\n",
       "0  1640  Italiana  Enseres domésticos  Desconocida   \n",
       "1  1640  Italiana  Enseres domésticos  Desconocida   \n",
       "2  1640  Italiana  Enseres domésticos  Desconocida   \n",
       "3  1640  Italiana  Enseres domésticos  Desconocida   \n",
       "4  1640  Italiana  Enseres domésticos  Desconocida   \n",
       "\n",
       "                                           Flora        Lugar    Personajes  \\\n",
       "0                         Anémona (Anemone spp.)  Desconocido  Desconocidos   \n",
       "1                      Gladiolo (Gladiolus spp.)  Desconocido  Desconocidos   \n",
       "2                         Lirio (Iris germanica)  Desconocido  Desconocidos   \n",
       "3  Mundillo / Bola de nieve (Viburnum opulus L.)  Desconocido  Desconocidos   \n",
       "4                               Peonía (Paeonia)  Desconocido  Desconocidos   \n",
       "\n",
       "                                            Obra_uri  \\\n",
       "0  http://museodelprado.es/items/E22_Man-Made_Obj...   \n",
       "1  http://museodelprado.es/items/E22_Man-Made_Obj...   \n",
       "2  http://museodelprado.es/items/E22_Man-Made_Obj...   \n",
       "3  http://museodelprado.es/items/E22_Man-Made_Obj...   \n",
       "4  http://museodelprado.es/items/E22_Man-Made_Obj...   \n",
       "\n",
       "                                            Imágenes  Fecha_rango  \n",
       "0  https://content3.cdnprado.net/imagenes/Documen...  1640 - 1642  \n",
       "1  https://content3.cdnprado.net/imagenes/Documen...  1640 - 1642  \n",
       "2  https://content3.cdnprado.net/imagenes/Documen...  1640 - 1642  \n",
       "3  https://content3.cdnprado.net/imagenes/Documen...  1640 - 1642  \n",
       "4  https://content3.cdnprado.net/imagenes/Documen...  1640 - 1642  "
      ]
     },
     "execution_count": 21,
     "metadata": {},
     "output_type": "execute_result"
    }
   ],
   "source": [
    "obras_completo.head()"
   ]
  },
  {
   "cell_type": "markdown",
   "id": "79772b1c",
   "metadata": {},
   "source": [
    "Tras el procedimiento anterior, se ha observado un aumento considerable en la cantidad de valores nulos en el dataframe. \n",
    "\n",
    "Para abordar esta situación, se rellenarán estos nuevos valores nulos de manera análoga a la estrategia previamente empleada:"
   ]
  },
  {
   "cell_type": "code",
   "execution_count": 22,
   "id": "7cd5bacb",
   "metadata": {},
   "outputs": [],
   "source": [
    "obras_completo['Objetos'] = obras_completo['Objetos'].fillna('Desconocidos')\n",
    "obras_completo['Fauna'] = obras_completo['Fauna'].fillna('Desconocida')\n",
    "obras_completo['Lugar'] = obras_completo['Lugar'].fillna('Desconocido')\n",
    "obras_completo['Personajes'] = obras_completo['Personajes'].fillna('Desconocidos')"
   ]
  },
  {
   "cell_type": "markdown",
   "id": "58c5b076",
   "metadata": {},
   "source": [
    "En base a la columna de años, se procederá a la creación de rangos temporales con el objetivo de facilitar análisis subsiguientes. \n",
    "\n",
    "Se establecerán rangos de 200 años cada uno, con la finalidad de gestionar y comprender de manera más accesible la distribución temporal de los datos."
   ]
  },
  {
   "cell_type": "code",
   "execution_count": 23,
   "id": "5748b05b",
   "metadata": {},
   "outputs": [
    {
     "name": "stdout",
     "output_type": "stream",
     "text": [
      "Rango total de años: (-400, 1931)\n"
     ]
    }
   ],
   "source": [
    "rango_total = obras_completo['Año'].min(), obras_completo['Año'].max()\n",
    "print(\"Rango total de años:\", rango_total)"
   ]
  },
  {
   "cell_type": "code",
   "execution_count": 24,
   "id": "e8ea7d65",
   "metadata": {},
   "outputs": [
    {
     "data": {
      "text/html": [
       "<div>\n",
       "<style scoped>\n",
       "    .dataframe tbody tr th:only-of-type {\n",
       "        vertical-align: middle;\n",
       "    }\n",
       "\n",
       "    .dataframe tbody tr th {\n",
       "        vertical-align: top;\n",
       "    }\n",
       "\n",
       "    .dataframe thead th {\n",
       "        text-align: right;\n",
       "    }\n",
       "</style>\n",
       "<table border=\"1\" class=\"dataframe\">\n",
       "  <thead>\n",
       "    <tr style=\"text-align: right;\">\n",
       "      <th></th>\n",
       "      <th>Año</th>\n",
       "      <th>Año_rango</th>\n",
       "    </tr>\n",
       "  </thead>\n",
       "  <tbody>\n",
       "    <tr>\n",
       "      <th>0</th>\n",
       "      <td>1640</td>\n",
       "      <td>1601 - 1800</td>\n",
       "    </tr>\n",
       "    <tr>\n",
       "      <th>1</th>\n",
       "      <td>1640</td>\n",
       "      <td>1601 - 1800</td>\n",
       "    </tr>\n",
       "    <tr>\n",
       "      <th>2</th>\n",
       "      <td>1640</td>\n",
       "      <td>1601 - 1800</td>\n",
       "    </tr>\n",
       "    <tr>\n",
       "      <th>3</th>\n",
       "      <td>1640</td>\n",
       "      <td>1601 - 1800</td>\n",
       "    </tr>\n",
       "    <tr>\n",
       "      <th>4</th>\n",
       "      <td>1640</td>\n",
       "      <td>1601 - 1800</td>\n",
       "    </tr>\n",
       "  </tbody>\n",
       "</table>\n",
       "</div>"
      ],
      "text/plain": [
       "    Año    Año_rango\n",
       "0  1640  1601 - 1800\n",
       "1  1640  1601 - 1800\n",
       "2  1640  1601 - 1800\n",
       "3  1640  1601 - 1800\n",
       "4  1640  1601 - 1800"
      ]
     },
     "execution_count": 24,
     "metadata": {},
     "output_type": "execute_result"
    }
   ],
   "source": [
    "particiones = [-400, -200, 0, 200, 400, 600, 800, 1000, 1200, 1400, 1600, 1800, 2000]\n",
    "\n",
    "etiquetas = ['(-400) - (-200)', '(-201) - 0', '1 - 200', '201 - 400', '401 - 600', '601 - 800', '801 - 1000', '1001 - 1200', '1201 - 1400', '1401 - 1600', '1601 - 1800', '1801 - 2000']\n",
    "\n",
    "#Asignación de etiquetas a cada rango:\n",
    "obras_completo['Año_rango'] = pd.cut(obras_completo['Año'], particiones, labels=etiquetas)\n",
    "\n",
    "obras_completo[['Año', 'Año_rango']].head(5)"
   ]
  },
  {
   "cell_type": "markdown",
   "id": "949312e7",
   "metadata": {},
   "source": [
    "Se llevará a cabo la eliminación de ciertas columnas que, si bien podrían ser relevantes para otras tareas, resultan prescindibles para el estudio específico que se llevará a cabo a continuación. \n",
    "\n",
    "Estas columnas se descartarán con el propósito de simplificar el conjunto de datos y concentrarse de manera más efectiva en las variables cruciales para el análisis inmediato."
   ]
  },
  {
   "cell_type": "code",
   "execution_count": 25,
   "id": "0f369f8d",
   "metadata": {},
   "outputs": [],
   "source": [
    "cols_eliminar = [\"TituloID\", \"Fecha\", \"Obra_uri\", \"Imágenes\"]"
   ]
  },
  {
   "cell_type": "code",
   "execution_count": 26,
   "id": "0e7546aa",
   "metadata": {},
   "outputs": [],
   "source": [
    "obras_completo = obras_completo.drop(cols_eliminar, axis=1) # A continuación elimino otras que se encuentran en una parte anterior de la tabla pero que tampoco necesito tenerlas en cuenta de cara al estudio que se pretende realizar."
   ]
  },
  {
   "cell_type": "code",
   "execution_count": 27,
   "id": "1d42eb06",
   "metadata": {},
   "outputs": [],
   "source": [
    "prueba = obras_completo.head(1000)"
   ]
  },
  {
   "cell_type": "markdown",
   "id": "6f7b519f",
   "metadata": {},
   "source": [
    "# Exportación del DataFrame."
   ]
  },
  {
   "cell_type": "markdown",
   "id": "6a0e69a0",
   "metadata": {},
   "source": [
    "Exportamos este Dataframe, pues es el que luego utilizaremos para llevar a cabo el resto del estudio de elementos iconográficos en las pobras del Museo del Prado."
   ]
  },
  {
   "cell_type": "code",
   "execution_count": 28,
   "id": "4f814ffb",
   "metadata": {},
   "outputs": [],
   "source": [
    "obras_completo.to_csv(\"/Users/karmelealonsoaia/Desktop/ironhack_labs/PROYECTOS/project_final/data/data_clean/obras_completo.csv\", index=False)"
   ]
  },
  {
   "cell_type": "markdown",
   "id": "c6981f06",
   "metadata": {},
   "source": [
    "# Análisis de personajes a lo largo del tiempo."
   ]
  },
  {
   "cell_type": "markdown",
   "id": "6ae0c7c9",
   "metadata": {},
   "source": [
    "En la fase inicial de este estudio, se enfocará la atención en realizar un análisis detallado acerca de cómo ha evolucionado la representación de personajes iconográficos a lo largo de los años. \n",
    "\n",
    "Se busca identificar tendencias y patrones en la representación artística, examinando las fluctuaciones en la frecuencia de los personajes a través del tiempo. \n",
    "\n",
    "Este análisis permitirá comprender mejor las preferencias y enfoques de los artistas en distintas épocas, explorando si existen cambios significativos en la representación de ciertos tipos de personajes y discerniendo qué aspectos específicos han sido destacados o modificados a lo largo de la historia. \n",
    "\n",
    "El objetivo último es extraer algunas conclusiones para una mejor comprensión de las dinámicas artísticas."
   ]
  },
  {
   "cell_type": "markdown",
   "id": "b7def4c7",
   "metadata": {},
   "source": [
    "El estudio se llevará a cabo mediante una serie de enfoques analíticos que abordarán diversas facetas de la representación de personajes a lo largo del tiempo:"
   ]
  },
  {
   "cell_type": "markdown",
   "id": "2c93e4f8",
   "metadata": {},
   "source": [
    "1. Estudio Comparativo/Descriptivo:\n",
    "Esta fase implica una comparación entre la frecuencia de aparición de varios personajes a lo largo de los años. Este enfoque permitirá identificar posibles correlaciones entre eventos históricos o cambios artísticos y las variaciones en la representación de personajes a lo largo del tiempo.\n",
    "Para captar las tendencias temporales se plantearán gráficos de líneas temporales que nos muestren la frecuencia de aparición de un personaje específico a lo largo del tiempo.\n",
    "\n",
    "2. Estudio estadísticos y Análisis de cambios significativos:\n",
    "Se investigarán cambios bruscos en la frecuencia de aparición de personajes a lo largo de ciertos períodos de tiempo. \n",
    "Se realizará un análisis detallado para examinar cómo la diversidad de personajes ha variado a lo largo de los años. Utilizando algunos índices específicos, se cuantificará la presencia de diferentes tipos de personajes en distintas épocas.\n",
    "\n",
    "Estas metodologías seleccionadas se complementan entre sí para ofrecer un análisis profundo y preciso de la evolución temporal de la representación de personajes, considerando aspectos comparativos, cambios significativos, diversidad y análisis estadístico para obtener una visión completa y fundamentada de la dinámica artística a lo largo del tiempo."
   ]
  },
  {
   "cell_type": "code",
   "execution_count": 29,
   "id": "db692ddc",
   "metadata": {},
   "outputs": [],
   "source": [
    "personajes_año_rango = obras_completo[['Personajes', 'Año_rango']]"
   ]
  },
  {
   "cell_type": "code",
   "execution_count": 30,
   "id": "9d0c69d5",
   "metadata": {},
   "outputs": [],
   "source": [
    "personajes_año_rango = personajes_año_rango[personajes_año_rango['Personajes'] != 'Desconocidos']\n",
    "personajes_año_rango = personajes_año_rango.reset_index(drop=True)"
   ]
  },
  {
   "cell_type": "code",
   "execution_count": 31,
   "id": "9d7bc6de",
   "metadata": {},
   "outputs": [
    {
     "data": {
      "text/html": [
       "<div>\n",
       "<style scoped>\n",
       "    .dataframe tbody tr th:only-of-type {\n",
       "        vertical-align: middle;\n",
       "    }\n",
       "\n",
       "    .dataframe tbody tr th {\n",
       "        vertical-align: top;\n",
       "    }\n",
       "\n",
       "    .dataframe thead th {\n",
       "        text-align: right;\n",
       "    }\n",
       "</style>\n",
       "<table border=\"1\" class=\"dataframe\">\n",
       "  <thead>\n",
       "    <tr style=\"text-align: right;\">\n",
       "      <th></th>\n",
       "      <th>Personajes</th>\n",
       "      <th>Año_rango</th>\n",
       "    </tr>\n",
       "  </thead>\n",
       "  <tbody>\n",
       "    <tr>\n",
       "      <th>0</th>\n",
       "      <td>Virgen María</td>\n",
       "      <td>1401 - 1600</td>\n",
       "    </tr>\n",
       "    <tr>\n",
       "      <th>1</th>\n",
       "      <td>Virgen María</td>\n",
       "      <td>1601 - 1800</td>\n",
       "    </tr>\n",
       "    <tr>\n",
       "      <th>2</th>\n",
       "      <td>Virgen María</td>\n",
       "      <td>1601 - 1800</td>\n",
       "    </tr>\n",
       "    <tr>\n",
       "      <th>3</th>\n",
       "      <td>Virgen María</td>\n",
       "      <td>1601 - 1800</td>\n",
       "    </tr>\n",
       "    <tr>\n",
       "      <th>4</th>\n",
       "      <td>Virgen María</td>\n",
       "      <td>1601 - 1800</td>\n",
       "    </tr>\n",
       "  </tbody>\n",
       "</table>\n",
       "</div>"
      ],
      "text/plain": [
       "     Personajes    Año_rango\n",
       "0  Virgen María  1401 - 1600\n",
       "1  Virgen María  1601 - 1800\n",
       "2  Virgen María  1601 - 1800\n",
       "3  Virgen María  1601 - 1800\n",
       "4  Virgen María  1601 - 1800"
      ]
     },
     "execution_count": 31,
     "metadata": {},
     "output_type": "execute_result"
    }
   ],
   "source": [
    "personajes_año_rango.head()"
   ]
  },
  {
   "cell_type": "code",
   "execution_count": 32,
   "id": "a6910a38",
   "metadata": {},
   "outputs": [
    {
     "data": {
      "text/plain": [
       "(12657, 2)"
      ]
     },
     "execution_count": 32,
     "metadata": {},
     "output_type": "execute_result"
    }
   ],
   "source": [
    "personajes_año_rango.shape"
   ]
  },
  {
   "cell_type": "code",
   "execution_count": 33,
   "id": "967d3cbb",
   "metadata": {},
   "outputs": [
    {
     "data": {
      "text/plain": [
       "Personajes\n",
       "Virgen María                2733\n",
       "Jesús                       1508\n",
       "Hera/Juno                   1025\n",
       "Afrodita/Venus               844\n",
       "Flora                        706\n",
       "                            ... \n",
       "San Nicodemo                   1\n",
       "Ninfas                         1\n",
       "José de Arimatea               1\n",
       "Eugenia Martínez Vallejo       1\n",
       "Europa                         1\n",
       "Name: count, Length: 139, dtype: int64"
      ]
     },
     "execution_count": 33,
     "metadata": {},
     "output_type": "execute_result"
    }
   ],
   "source": [
    "personajes_año_rango['Personajes'].value_counts()"
   ]
  },
  {
   "cell_type": "markdown",
   "id": "f5ae999b",
   "metadata": {},
   "source": [
    "En este contexto, donde nos movemos con datos categóricos, la tabla de contingencia es lo adecuado para realizar un análisis que nos permitirá examinar la distribución conjunta de las categorías en ambas columnas: \"Personajes\" y \"Año_rango\". Esto nos permitirá visualizar de manera precisa cómo se vinculan los personajes con los distintos rangos de años. \n",
    "\n",
    "Este enfoque nos permitirá entender la relación entre los diferentes personajes y el momento en el que eran representados."
   ]
  },
  {
   "cell_type": "code",
   "execution_count": 34,
   "id": "9078672c",
   "metadata": {},
   "outputs": [
    {
     "data": {
      "text/html": [
       "<div>\n",
       "<style scoped>\n",
       "    .dataframe tbody tr th:only-of-type {\n",
       "        vertical-align: middle;\n",
       "    }\n",
       "\n",
       "    .dataframe tbody tr th {\n",
       "        vertical-align: top;\n",
       "    }\n",
       "\n",
       "    .dataframe thead th {\n",
       "        text-align: right;\n",
       "    }\n",
       "</style>\n",
       "<table border=\"1\" class=\"dataframe\">\n",
       "  <thead>\n",
       "    <tr style=\"text-align: right;\">\n",
       "      <th>Año_rango</th>\n",
       "      <th>(-400) - (-200)</th>\n",
       "      <th>(-201) - 0</th>\n",
       "      <th>1001 - 1200</th>\n",
       "      <th>1401 - 1600</th>\n",
       "      <th>1601 - 1800</th>\n",
       "      <th>1801 - 2000</th>\n",
       "    </tr>\n",
       "    <tr>\n",
       "      <th>Personajes</th>\n",
       "      <th></th>\n",
       "      <th></th>\n",
       "      <th></th>\n",
       "      <th></th>\n",
       "      <th></th>\n",
       "      <th></th>\n",
       "    </tr>\n",
       "  </thead>\n",
       "  <tbody>\n",
       "    <tr>\n",
       "      <th>Adonis</th>\n",
       "      <td>0</td>\n",
       "      <td>0</td>\n",
       "      <td>0</td>\n",
       "      <td>4</td>\n",
       "      <td>14</td>\n",
       "      <td>0</td>\n",
       "    </tr>\n",
       "    <tr>\n",
       "      <th>Adán</th>\n",
       "      <td>0</td>\n",
       "      <td>0</td>\n",
       "      <td>1</td>\n",
       "      <td>2</td>\n",
       "      <td>3</td>\n",
       "      <td>3</td>\n",
       "    </tr>\n",
       "    <tr>\n",
       "      <th>Afrodita/Venus</th>\n",
       "      <td>0</td>\n",
       "      <td>0</td>\n",
       "      <td>0</td>\n",
       "      <td>4</td>\n",
       "      <td>778</td>\n",
       "      <td>62</td>\n",
       "    </tr>\n",
       "    <tr>\n",
       "      <th>Aglae</th>\n",
       "      <td>0</td>\n",
       "      <td>0</td>\n",
       "      <td>0</td>\n",
       "      <td>0</td>\n",
       "      <td>4</td>\n",
       "      <td>13</td>\n",
       "    </tr>\n",
       "    <tr>\n",
       "      <th>Alberto de Austria</th>\n",
       "      <td>0</td>\n",
       "      <td>0</td>\n",
       "      <td>0</td>\n",
       "      <td>0</td>\n",
       "      <td>136</td>\n",
       "      <td>0</td>\n",
       "    </tr>\n",
       "    <tr>\n",
       "      <th>...</th>\n",
       "      <td>...</td>\n",
       "      <td>...</td>\n",
       "      <td>...</td>\n",
       "      <td>...</td>\n",
       "      <td>...</td>\n",
       "      <td>...</td>\n",
       "    </tr>\n",
       "    <tr>\n",
       "      <th>Tudor, María</th>\n",
       "      <td>0</td>\n",
       "      <td>0</td>\n",
       "      <td>0</td>\n",
       "      <td>4</td>\n",
       "      <td>0</td>\n",
       "      <td>0</td>\n",
       "    </tr>\n",
       "    <tr>\n",
       "      <th>Virgen María</th>\n",
       "      <td>0</td>\n",
       "      <td>0</td>\n",
       "      <td>0</td>\n",
       "      <td>221</td>\n",
       "      <td>2306</td>\n",
       "      <td>206</td>\n",
       "    </tr>\n",
       "    <tr>\n",
       "      <th>Vázquez de la Varga, Pura</th>\n",
       "      <td>0</td>\n",
       "      <td>0</td>\n",
       "      <td>0</td>\n",
       "      <td>0</td>\n",
       "      <td>0</td>\n",
       "      <td>2</td>\n",
       "    </tr>\n",
       "    <tr>\n",
       "      <th>Ángel / ángeles</th>\n",
       "      <td>0</td>\n",
       "      <td>0</td>\n",
       "      <td>0</td>\n",
       "      <td>38</td>\n",
       "      <td>205</td>\n",
       "      <td>157</td>\n",
       "    </tr>\n",
       "    <tr>\n",
       "      <th>Ángeles Ortiz, Manuel</th>\n",
       "      <td>0</td>\n",
       "      <td>0</td>\n",
       "      <td>0</td>\n",
       "      <td>0</td>\n",
       "      <td>0</td>\n",
       "      <td>2</td>\n",
       "    </tr>\n",
       "  </tbody>\n",
       "</table>\n",
       "<p>139 rows × 6 columns</p>\n",
       "</div>"
      ],
      "text/plain": [
       "Año_rango                  (-400) - (-200)  (-201) - 0  1001 - 1200  \\\n",
       "Personajes                                                            \n",
       "Adonis                                   0           0            0   \n",
       "Adán                                     0           0            1   \n",
       "Afrodita/Venus                           0           0            0   \n",
       "Aglae                                    0           0            0   \n",
       "Alberto de Austria                       0           0            0   \n",
       "...                                    ...         ...          ...   \n",
       "Tudor, María                             0           0            0   \n",
       "Virgen María                             0           0            0   \n",
       "Vázquez de la Varga, Pura                0           0            0   \n",
       "Ángel / ángeles                          0           0            0   \n",
       "Ángeles Ortiz, Manuel                    0           0            0   \n",
       "\n",
       "Año_rango                  1401 - 1600  1601 - 1800  1801 - 2000  \n",
       "Personajes                                                        \n",
       "Adonis                               4           14            0  \n",
       "Adán                                 2            3            3  \n",
       "Afrodita/Venus                       4          778           62  \n",
       "Aglae                                0            4           13  \n",
       "Alberto de Austria                   0          136            0  \n",
       "...                                ...          ...          ...  \n",
       "Tudor, María                         4            0            0  \n",
       "Virgen María                       221         2306          206  \n",
       "Vázquez de la Varga, Pura            0            0            2  \n",
       "Ángel / ángeles                     38          205          157  \n",
       "Ángeles Ortiz, Manuel                0            0            2  \n",
       "\n",
       "[139 rows x 6 columns]"
      ]
     },
     "execution_count": 34,
     "metadata": {},
     "output_type": "execute_result"
    }
   ],
   "source": [
    "tabla_contingencia = pd.crosstab(personajes_año_rango['Personajes'], personajes_año_rango['Año_rango'])\n",
    "tabla_contingencia"
   ]
  },
  {
   "cell_type": "markdown",
   "id": "2bdbd7d4",
   "metadata": {},
   "source": [
    "Una vez generada la tabla de contingencia, podemos llevar a cabo un análisis más específico al identificar los nombres que predominan en cada rando de años. Un enfoque efectivo para lograr esto es obtener el nombre que tiene la frecuencia máxima en cada rango, revelando así los personajes más recurrentes en cada período temporal."
   ]
  },
  {
   "cell_type": "code",
   "execution_count": 35,
   "id": "26e2db50",
   "metadata": {},
   "outputs": [
    {
     "data": {
      "text/plain": [
       "Personajes\n",
       "Adonis                       1601 - 1800\n",
       "Adán                         1601 - 1800\n",
       "Afrodita/Venus               1601 - 1800\n",
       "Aglae                        1801 - 2000\n",
       "Alberto de Austria           1601 - 1800\n",
       "                                ...     \n",
       "Tudor, María                 1401 - 1600\n",
       "Virgen María                 1601 - 1800\n",
       "Vázquez de la Varga, Pura    1801 - 2000\n",
       "Ángel / ángeles              1601 - 1800\n",
       "Ángeles Ortiz, Manuel        1801 - 2000\n",
       "Length: 139, dtype: category\n",
       "Categories (12, object): ['(-400) - (-200)' < '(-201) - 0' < '1 - 200' < '201 - 400' ... '1201 - 1400' < '1401 - 1600' < '1601 - 1800' < '1801 - 2000']"
      ]
     },
     "execution_count": 35,
     "metadata": {},
     "output_type": "execute_result"
    }
   ],
   "source": [
    "personajes_mas_comunes = tabla_contingencia.idxmax(axis=1)\n",
    "personajes_mas_comunes"
   ]
  },
  {
   "cell_type": "markdown",
   "id": "7714fda5",
   "metadata": {},
   "source": [
    "Me gustaría encontrar el personaje que, de forma general, más se repite:"
   ]
  },
  {
   "cell_type": "code",
   "execution_count": 36,
   "id": "bf9709a7",
   "metadata": {},
   "outputs": [
    {
     "name": "stdout",
     "output_type": "stream",
     "text": [
      "Personaje más común: Virgen María\n"
     ]
    }
   ],
   "source": [
    "total_por_personaje = tabla_contingencia.sum(axis=1)\n",
    "\n",
    "personaje_mas_comun = total_por_personaje .idxmax()\n",
    "print(\"Personaje más común:\", personaje_mas_comun)"
   ]
  },
  {
   "cell_type": "markdown",
   "id": "d9c2431c",
   "metadata": {},
   "source": [
    "Y a continuación el rango de fechas en el que más destaca el personaje recién obtenido:"
   ]
  },
  {
   "cell_type": "code",
   "execution_count": 37,
   "id": "78b8b7f8",
   "metadata": {},
   "outputs": [
    {
     "name": "stdout",
     "output_type": "stream",
     "text": [
      "Rango de fechas más común para Virgen María : 1601 - 1800\n"
     ]
    }
   ],
   "source": [
    "datos_personaje_mas_comun = personajes_año_rango[personajes_año_rango['Personajes'] == personaje_mas_comun]\n",
    "\n",
    "rango_mas_comun = datos_personaje_mas_comun['Año_rango'].value_counts().idxmax() #rango de fechas más común para el personaje Virgen María.\n",
    "print(\"Rango de fechas más común para\", personaje_mas_comun, \":\", rango_mas_comun)"
   ]
  },
  {
   "cell_type": "markdown",
   "id": "637add26",
   "metadata": {},
   "source": [
    "Ahora lo haré con los diez personajes más frecuentes, ya que estos serán los protagonistas principales en la mayoría de los estudios subsiguientes. \n",
    "\n",
    "Al seleccionar un grupo más reducido de personajes lograremos una representación visual más clara en los gráficos."
   ]
  },
  {
   "cell_type": "code",
   "execution_count": 38,
   "id": "f1b21f0f",
   "metadata": {},
   "outputs": [
    {
     "name": "stdout",
     "output_type": "stream",
     "text": [
      "Virgen María: 1601 - 1800\n",
      "Jesús: 1601 - 1800\n",
      "Hera/Juno: 1601 - 1800\n",
      "Afrodita/Venus: 1601 - 1800\n",
      "Flora: 1601 - 1800\n",
      "San José: 1601 - 1800\n",
      "Deméter/Ceres: 1601 - 1800\n",
      "San Juan Bautista: 1601 - 1800\n",
      "Ángel / ángeles: 1601 - 1800\n",
      "Dionisio / Baco: 1801 - 2000\n"
     ]
    }
   ],
   "source": [
    "personajes_mas_comunes = personajes_año_rango['Personajes'].value_counts().nlargest(10).index #10 personajes más comunes.\n",
    "\n",
    "for personaje in personajes_mas_comunes:\n",
    "    datos_personaje = personajes_año_rango[personajes_año_rango['Personajes'] == personaje]\n",
    "    rango_mas_comun = datos_personaje['Año_rango'].value_counts().idxmax()\n",
    "    print(f\"{personaje}: {rango_mas_comun}\")"
   ]
  },
  {
   "cell_type": "markdown",
   "id": "fbe5ac15",
   "metadata": {},
   "source": [
    "A continuación, procederé a crear un gráfico circular (pie chart) que destacará a los diez personajes más frecuentes en nuestro dataframe, es decir, aquellos que han sido más comunmente representados. Este gráfico ofrecerá una visualización clara y concisa de la distribución de la representación de personajes, permitiéndonos identificar visualmente la prevalencia de cada uno de los diez personajes principales en el conjunto de datos."
   ]
  },
  {
   "cell_type": "code",
   "execution_count": 39,
   "id": "6560a414",
   "metadata": {},
   "outputs": [],
   "source": [
    "personajes_año_rango['Frecuencia'] = personajes_año_rango.groupby(['Año_rango', 'Personajes'])['Personajes'].transform('count')"
   ]
  },
  {
   "cell_type": "code",
   "execution_count": 40,
   "id": "237e5a6b",
   "metadata": {},
   "outputs": [
    {
     "data": {
      "text/html": [
       "\n",
       "<script>\n",
       "    require.config({\n",
       "        paths: {\n",
       "            'echarts':'https://assets.pyecharts.org/assets/v5/echarts.min'\n",
       "        }\n",
       "    });\n",
       "</script>\n",
       "\n",
       "        <div id=\"5f41490adb3843e8a1e88d5687be2065\" style=\"width:900px; height:500px;\"></div>\n",
       "\n",
       "<script>\n",
       "        require(['echarts'], function(echarts) {\n",
       "                var chart_5f41490adb3843e8a1e88d5687be2065 = echarts.init(\n",
       "                    document.getElementById('5f41490adb3843e8a1e88d5687be2065'), 'light', {renderer: 'canvas'});\n",
       "                var option_5f41490adb3843e8a1e88d5687be2065 = {\n",
       "    \"animation\": true,\n",
       "    \"animationThreshold\": 2000,\n",
       "    \"animationDuration\": 1000,\n",
       "    \"animationEasing\": \"cubicOut\",\n",
       "    \"animationDelay\": 0,\n",
       "    \"animationDurationUpdate\": 300,\n",
       "    \"animationEasingUpdate\": \"cubicOut\",\n",
       "    \"animationDelayUpdate\": 0,\n",
       "    \"aria\": {\n",
       "        \"enabled\": false\n",
       "    },\n",
       "    \"series\": [\n",
       "        {\n",
       "            \"type\": \"pie\",\n",
       "            \"name\": \"Personajes\",\n",
       "            \"colorBy\": \"data\",\n",
       "            \"legendHoverLink\": true,\n",
       "            \"selectedMode\": false,\n",
       "            \"selectedOffset\": 10,\n",
       "            \"clockwise\": true,\n",
       "            \"startAngle\": 90,\n",
       "            \"minAngle\": 0,\n",
       "            \"minShowLabelAngle\": 0,\n",
       "            \"avoidLabelOverlap\": true,\n",
       "            \"stillShowZeroSum\": true,\n",
       "            \"percentPrecision\": 2,\n",
       "            \"showEmptyCircle\": true,\n",
       "            \"emptyCircleStyle\": {\n",
       "                \"color\": \"lightgray\",\n",
       "                \"borderColor\": \"#000\",\n",
       "                \"borderWidth\": 0,\n",
       "                \"borderType\": \"solid\",\n",
       "                \"borderDashOffset\": 0,\n",
       "                \"borderCap\": \"butt\",\n",
       "                \"borderJoin\": \"bevel\",\n",
       "                \"borderMiterLimit\": 10,\n",
       "                \"opacity\": 1\n",
       "            },\n",
       "            \"data\": [\n",
       "                {\n",
       "                    \"name\": \"Afrodita/Venus\",\n",
       "                    \"value\": 5.982156176324059\n",
       "                },\n",
       "                {\n",
       "                    \"name\": \"Dem\\u00e9ter/Ceres\",\n",
       "                    \"value\": 3.206630315409013\n",
       "                },\n",
       "                {\n",
       "                    \"name\": \"Dionisio / Baco\",\n",
       "                    \"value\": 0.4317722549155267\n",
       "                },\n",
       "                {\n",
       "                    \"name\": \"Flora\",\n",
       "                    \"value\": 4.853475257945279\n",
       "                },\n",
       "                {\n",
       "                    \"name\": \"Hera/Juno\",\n",
       "                    \"value\": 10.317762027944894\n",
       "                },\n",
       "                {\n",
       "                    \"name\": \"Jes\\u00fas\",\n",
       "                    \"value\": 17.674320215998083\n",
       "                },\n",
       "                {\n",
       "                    \"name\": \"San Jos\\u00e9\",\n",
       "                    \"value\": 2.775044651787746\n",
       "                },\n",
       "                {\n",
       "                    \"name\": \"San Juan Bautista\",\n",
       "                    \"value\": 0.9711389424575035\n",
       "                },\n",
       "                {\n",
       "                    \"name\": \"Virgen Mar\\u00eda\",\n",
       "                    \"value\": 53.11874090551577\n",
       "                },\n",
       "                {\n",
       "                    \"name\": \"\\u00c1ngel / \\u00e1ngeles\",\n",
       "                    \"value\": 0.66895925170213\n",
       "                }\n",
       "            ],\n",
       "            \"radius\": [\n",
       "                \"30%\",\n",
       "                \"75%\"\n",
       "            ],\n",
       "            \"center\": [\n",
       "                \"50%\",\n",
       "                \"50%\"\n",
       "            ],\n",
       "            \"label\": {\n",
       "                \"show\": false,\n",
       "                \"position\": \"center\",\n",
       "                \"margin\": 8\n",
       "            },\n",
       "            \"labelLine\": {\n",
       "                \"show\": true,\n",
       "                \"showAbove\": false,\n",
       "                \"length\": 15,\n",
       "                \"length2\": 15,\n",
       "                \"smooth\": false,\n",
       "                \"minTurnAngle\": 90,\n",
       "                \"maxSurfaceAngle\": 90\n",
       "            }\n",
       "        }\n",
       "    ],\n",
       "    \"legend\": [\n",
       "        {\n",
       "            \"data\": [\n",
       "                \"Afrodita/Venus\",\n",
       "                \"Dem\\u00e9ter/Ceres\",\n",
       "                \"Dionisio / Baco\",\n",
       "                \"Flora\",\n",
       "                \"Hera/Juno\",\n",
       "                \"Jes\\u00fas\",\n",
       "                \"San Jos\\u00e9\",\n",
       "                \"San Juan Bautista\",\n",
       "                \"Virgen Mar\\u00eda\",\n",
       "                \"\\u00c1ngel / \\u00e1ngeles\"\n",
       "            ],\n",
       "            \"selected\": {},\n",
       "            \"show\": true,\n",
       "            \"left\": \"80%\",\n",
       "            \"orient\": \"vertical\",\n",
       "            \"padding\": 5,\n",
       "            \"itemGap\": 10,\n",
       "            \"itemWidth\": 25,\n",
       "            \"itemHeight\": 14,\n",
       "            \"backgroundColor\": \"transparent\",\n",
       "            \"borderColor\": \"#ccc\",\n",
       "            \"borderWidth\": 1,\n",
       "            \"borderRadius\": 0,\n",
       "            \"pageButtonItemGap\": 5,\n",
       "            \"pageButtonPosition\": \"end\",\n",
       "            \"pageFormatter\": \"{current}/{total}\",\n",
       "            \"pageIconColor\": \"#2f4554\",\n",
       "            \"pageIconInactiveColor\": \"#aaa\",\n",
       "            \"pageIconSize\": 15,\n",
       "            \"animationDurationUpdate\": 800,\n",
       "            \"selector\": false,\n",
       "            \"selectorPosition\": \"auto\",\n",
       "            \"selectorItemGap\": 7,\n",
       "            \"selectorButtonGap\": 10\n",
       "        }\n",
       "    ],\n",
       "    \"tooltip\": {\n",
       "        \"show\": true,\n",
       "        \"trigger\": \"item\",\n",
       "        \"triggerOn\": \"mousemove|click\",\n",
       "        \"axisPointer\": {\n",
       "            \"type\": \"line\"\n",
       "        },\n",
       "        \"showContent\": true,\n",
       "        \"alwaysShowContent\": false,\n",
       "        \"showDelay\": 0,\n",
       "        \"hideDelay\": 100,\n",
       "        \"enterable\": false,\n",
       "        \"confine\": false,\n",
       "        \"appendToBody\": false,\n",
       "        \"transitionDuration\": 0.4,\n",
       "        \"textStyle\": {\n",
       "            \"fontSize\": 14\n",
       "        },\n",
       "        \"borderWidth\": 0,\n",
       "        \"padding\": 5,\n",
       "        \"order\": \"seriesAsc\"\n",
       "    },\n",
       "    \"title\": [\n",
       "        {\n",
       "            \"show\": true,\n",
       "            \"text\": \"Distribuci\\u00f3n de Frecuencia de Personajes\",\n",
       "            \"target\": \"blank\",\n",
       "            \"subtarget\": \"blank\",\n",
       "            \"padding\": 5,\n",
       "            \"itemGap\": 10,\n",
       "            \"textAlign\": \"auto\",\n",
       "            \"textVerticalAlign\": \"auto\",\n",
       "            \"triggerEvent\": false\n",
       "        }\n",
       "    ]\n",
       "};\n",
       "                chart_5f41490adb3843e8a1e88d5687be2065.setOption(option_5f41490adb3843e8a1e88d5687be2065);\n",
       "        });\n",
       "    </script>\n"
      ],
      "text/plain": [
       "<pyecharts.render.display.HTML at 0x147b19dd0>"
      ]
     },
     "execution_count": 40,
     "metadata": {},
     "output_type": "execute_result"
    }
   ],
   "source": [
    "personajes_mas_comunes = personajes_año_rango['Personajes'].value_counts().nlargest(10).index\n",
    "\n",
    "# Filtro el DataFrame para incluir solo los 10 personajes más comunes\n",
    "df_top_10 = personajes_año_rango[personajes_año_rango['Personajes'].isin(personajes_mas_comunes)]\n",
    "\n",
    "# Calculo la frecuencia total\n",
    "frecuencia_total = df_top_10['Frecuencia'].sum()\n",
    "\n",
    "# Creo el gráfico de pastel\n",
    "pie_chart = (\n",
    "    Pie(init_opts=opts.InitOpts(theme=ThemeType.LIGHT))\n",
    "    .add(\n",
    "        series_name=\"Personajes\",\n",
    "        data_pair=[(personaje, personaje_total['Frecuencia'].sum() / frecuencia_total * 100) \n",
    "                   for personaje, personaje_total in df_top_10.groupby('Personajes')],\n",
    "        radius=[\"30%\", \"75%\"],\n",
    "        center=[\"50%\", \"50%\"],\n",
    "        label_opts=opts.LabelOpts(is_show=False, position=\"center\"),\n",
    "    )\n",
    "    .set_global_opts(\n",
    "        title_opts=opts.TitleOpts(title=\"Distribución de Frecuencia de Personajes\"),\n",
    "        legend_opts=opts.LegendOpts(pos_left=\"80%\", orient=\"vertical\"),\n",
    "    )\n",
    ")\n",
    "\n",
    "\n",
    "pie_chart.render_notebook()\n"
   ]
  },
  {
   "cell_type": "markdown",
   "id": "e80b0b6a",
   "metadata": {},
   "source": [
    "Ahora procederé a la creación de un Gráfico de Líneas Temporales por Personaje (utlizaré en este caso también solo los diez más comunes), una representación visual que ilustrará la evolución de la frecuencia de cada personaje a lo largo de los años. Este gráfico general nos ofrecerá una visión panorámica de la distribución temporal de los personajes más comunes, permitiéndonos identificar tendencias generales en su representación a lo largo de las diferentes épocas.\n",
    "\n",
    "En un análisis más detallado, he diseñado un segundo gráfico que se enfoca en los años en los que los personajes más comunes alcanzan su mayor recurrencia. Este \"zoom\" nos proporcionará una visión más específica y detallada de los períodos temporales en los que estos personajes destacan de manera significativa.\n",
    "\n",
    "Posteriormente, hemos segmentado la información en gráficos individuales, uno por cada personaje. Este enfoque más específico nos permitirá examinar la frecuencia de representación de cada personaje de manera aislada."
   ]
  },
  {
   "cell_type": "code",
   "execution_count": null,
   "id": "63e4110f",
   "metadata": {},
   "outputs": [
    {
     "data": {
      "text/html": [
       "<div>\n",
       "<style scoped>\n",
       "    .dataframe tbody tr th:only-of-type {\n",
       "        vertical-align: middle;\n",
       "    }\n",
       "\n",
       "    .dataframe tbody tr th {\n",
       "        vertical-align: top;\n",
       "    }\n",
       "\n",
       "    .dataframe thead th {\n",
       "        text-align: right;\n",
       "    }\n",
       "</style>\n",
       "<table border=\"1\" class=\"dataframe\">\n",
       "  <thead>\n",
       "    <tr style=\"text-align: right;\">\n",
       "      <th></th>\n",
       "      <th>Personajes</th>\n",
       "      <th>Año_rango</th>\n",
       "      <th>Frecuencia</th>\n",
       "    </tr>\n",
       "  </thead>\n",
       "  <tbody>\n",
       "    <tr>\n",
       "      <th>0</th>\n",
       "      <td>Virgen María</td>\n",
       "      <td>1401 - 1600</td>\n",
       "      <td>221</td>\n",
       "    </tr>\n",
       "    <tr>\n",
       "      <th>1</th>\n",
       "      <td>Virgen María</td>\n",
       "      <td>1601 - 1800</td>\n",
       "      <td>2306</td>\n",
       "    </tr>\n",
       "    <tr>\n",
       "      <th>2</th>\n",
       "      <td>Virgen María</td>\n",
       "      <td>1601 - 1800</td>\n",
       "      <td>2306</td>\n",
       "    </tr>\n",
       "    <tr>\n",
       "      <th>3</th>\n",
       "      <td>Virgen María</td>\n",
       "      <td>1601 - 1800</td>\n",
       "      <td>2306</td>\n",
       "    </tr>\n",
       "    <tr>\n",
       "      <th>4</th>\n",
       "      <td>Virgen María</td>\n",
       "      <td>1601 - 1800</td>\n",
       "      <td>2306</td>\n",
       "    </tr>\n",
       "  </tbody>\n",
       "</table>\n",
       "</div>"
      ],
      "text/plain": [
       "     Personajes    Año_rango  Frecuencia\n",
       "0  Virgen María  1401 - 1600         221\n",
       "1  Virgen María  1601 - 1800        2306\n",
       "2  Virgen María  1601 - 1800        2306\n",
       "3  Virgen María  1601 - 1800        2306\n",
       "4  Virgen María  1601 - 1800        2306"
      ]
     },
     "execution_count": 101,
     "metadata": {},
     "output_type": "execute_result"
    }
   ],
   "source": [
    "personajes_año_rango.head()"
   ]
  },
  {
   "cell_type": "code",
   "execution_count": null,
   "id": "25dabb13",
   "metadata": {},
   "outputs": [
    {
     "data": {
      "image/png": "[encoded data removed]",
      "text/plain": [
       "<Figure size 1400x800 with 1 Axes>"
      ]
     },
     "metadata": {},
     "output_type": "display_data"
    }
   ],
   "source": [
    "# Se establece el estilo de la cuadrícula:\n",
    "sns.set(style=\"whitegrid\")\n",
    "\n",
    "\n",
    "plt.figure(figsize=(14, 8))\n",
    "\n",
    "# Se itera sobre los personajes y dibuja líneas con colores diferentes:\n",
    "for i, personaje in enumerate(personajes_mas_comunes):\n",
    "    sns.lineplot(x='Año_rango', y='Frecuencia', data=df_top_10[df_top_10['Personajes'] == personaje], label=personaje, marker='o')\n",
    "\n",
    "# Se ajusta el diseño del gráfico:\n",
    "plt.title('Frecuencia de Aparición de Personajes a lo largo del Tiempo')\n",
    "plt.xlabel('Año_Rango')\n",
    "plt.ylabel('Frecuencia')\n",
    "plt.legend(title='Personajes', loc='upper left', bbox_to_anchor=(1, 1))\n",
    "\n",
    "plt.show()"
   ]
  },
  {
   "cell_type": "code",
   "execution_count": null,
   "id": "606da08f",
   "metadata": {},
   "outputs": [
    {
     "data": {
      "image/png": "[encoded data removed]",
      "text/plain": [
       "<Figure size 1400x800 with 1 Axes>"
      ]
     },
     "metadata": {},
     "output_type": "display_data"
    }
   ],
   "source": [
    "# Se incluyen solo los diez personajes más comunes y el rango de años más destacado en los mismos:\n",
    "top_10_data = personajes_año_rango[\n",
    "    (personajes_año_rango['Personajes'].isin(personajes_mas_comunes)) &\n",
    "    (personajes_año_rango['Año_rango'].str.contains('1400|1500|1600|1700|1800|1900|2000'))\n",
    "]\n",
    "\n",
    "# Se establece el estilo de la cuadrícula:\n",
    "sns.set(style=\"whitegrid\")\n",
    "\n",
    "plt.figure(figsize=(14, 8))\n",
    "\n",
    "# Se itera sobre los personajes y dibuja líneas con colores diferentes:\n",
    "for i, personaje in enumerate(personajes_mas_comunes):\n",
    "    sns.lineplot(x='Año_rango', y='Frecuencia', data=top_10_data[top_10_data['Personajes'] == personaje], label=personaje, marker='o')\n",
    "\n",
    "# Se ajusta el diseño del gráfico:\n",
    "plt.title('Frecuencia de Aparición de Personajes a lo largo del Tiempo')\n",
    "plt.xlabel('Año_Rango')\n",
    "plt.ylabel('Frecuencia')\n",
    "plt.legend(title='Personajes', loc='upper left', bbox_to_anchor=(1, 1))\n",
    "\n",
    "plt.show()"
   ]
  },
  {
   "cell_type": "code",
   "execution_count": null,
   "id": "747c20b7",
   "metadata": {},
   "outputs": [
    {
     "data": {
      "image/png": "[encoded data removed]",
      "text/plain": [
       "<Figure size 1400x1200 with 10 Axes>"
      ]
     },
     "metadata": {},
     "output_type": "display_data"
    }
   ],
   "source": [
    "\n",
    "top_10_data = personajes_año_rango[personajes_año_rango['Personajes'].isin(personajes_mas_comunes)] #Filtro para incluir solo los personajes más comunes.\n",
    "\n",
    "sns.set(style=\"whitegrid\")\n",
    "\n",
    "# Se crean subgráficos para cada personaje:\n",
    "plt.figure(figsize=(14, 12))\n",
    "for i, personaje in enumerate(personajes_mas_comunes, 1):\n",
    "    plt.subplot(5, 2, i)\n",
    "    sns.lineplot(x='Año_rango', y='Frecuencia', data=top_10_data[top_10_data['Personajes'] == personaje], marker='o')\n",
    "    plt.title(personaje)\n",
    "    plt.xlabel('Año_Rango')\n",
    "    plt.ylabel('Frecuencia')\n",
    "\n",
    "# Se ajusta el diseño de los subgráficos:\n",
    "plt.tight_layout()\n",
    "\n",
    "plt.show()"
   ]
  },
  {
   "cell_type": "markdown",
   "id": "6141e72a",
   "metadata": {},
   "source": [
    "4.  de Cambios Significativos: Identificación de Cambios Bruscos: Investiga y analiza cambios significativos en la frecuencia de aparición de personajes en ciertos períodos de tiempo."
   ]
  },
  {
   "cell_type": "markdown",
   "id": "42e2961c",
   "metadata": {},
   "source": [
    "Vamos ahora a identificar y analizar cambios bruscos en la frecuencia de aparición de personages a lo largo del tiempo. Nos centraremos en identificar y comprender los momentos en los que se produjeron variaciones significativas en la aparición de estos personajes. Este análisis nos permitirá investigar de cerca los periodos específicos en los que se observan cambios bruscos en la representación de los personajes."
   ]
  },
  {
   "cell_type": "code",
   "execution_count": null,
   "id": "a6dfdff6",
   "metadata": {},
   "outputs": [
    {
     "data": {
      "image/png": "[encoded data removed]",
      "text/plain": [
       "<Figure size 1200x600 with 1 Axes>"
      ]
     },
     "metadata": {},
     "output_type": "display_data"
    }
   ],
   "source": [
    "# Gráfico de líneas para ver cambios a lo largo del tiempo\n",
    "plt.figure(figsize=(12, 6))\n",
    "sns.lineplot(x='Año_rango', y='Frecuencia', data=personajes_año_rango)\n",
    "plt.title('Cambios en la Frecuencia de Aparición a lo Largo del Tiempo')\n",
    "plt.xlabel('Año_Rango')\n",
    "plt.ylabel('Frecuencia')\n",
    "plt.xticks(rotation=45)\n",
    "plt.show()"
   ]
  },
  {
   "cell_type": "markdown",
   "id": "eb431368",
   "metadata": {},
   "source": [
    "Vamos a llevar a cabo un análisis estadístico para comparar dos periodos consecutivos, y para ello, optaremos por la aplicación de una prueba t de Student. Esta herramienta nos permitirá evaluar si existen diferencias significativas entre las medias de los dos periodos, proporcionando así evidencias estadísticos sobre la variación en la representación de los personajes a lo largo del tiempo."
   ]
  },
  {
   "cell_type": "code",
   "execution_count": null,
   "id": "6c5f9392",
   "metadata": {},
   "outputs": [
    {
     "data": {
      "text/plain": [
       "(-1.6844468848399714, 0.09239139762534457)"
      ]
     },
     "execution_count": 106,
     "metadata": {},
     "output_type": "execute_result"
    }
   ],
   "source": [
    "from scipy.stats import ttest_ind\n",
    "\n",
    "# Se filtra el rango 1001 al 1400 para periodo_anterior:\n",
    "periodo_anterior = personajes_año_rango.loc[(personajes_año_rango['Año_rango'] == '1001 - 1200') | (personajes_año_rango['Año_rango'] == '1201 - 1400'), 'Frecuencia']\n",
    "\n",
    "# Se filtra el rango 1401 al 2000 para periodo_actual:\n",
    "periodo_actual = personajes_año_rango.loc[(personajes_año_rango['Año_rango'] == '1401 - 1600') | (personajes_año_rango['Año_rango'] == '1601 - 2000'), 'Frecuencia'].shift(1).dropna()\n",
    "\n",
    "resultado_prueba_t, p_valor = ttest_ind(periodo_anterior, periodo_actual)\n",
    "resultado_prueba_t, p_valor"
   ]
  },
  {
   "cell_type": "markdown",
   "id": "221cd330",
   "metadata": {},
   "source": [
    "Aquí observamos dos resultados fundamentales:\n",
    "\n",
    "- El \"resultado_prueba_t\": es un número que indica cuánto difieren las medias de los dos grupos en términos de desviación estándar. Un valor mayor en valor absoluto indica una mayor diferencia.\n",
    "\n",
    "- El \"p_valor\": un valor p bajo (generalmente menos de 0.05) sugiere que hay evidencia suficiente para rechazar la hipótesis nula de que no hay diferencia significativa.\n",
    "Entonces, si el valor p es menor que un umbral comúnmente aceptado (como 0.05), se suele interpretar como que hay una diferencia significativa entre las frecuencias de los dos períodos."
   ]
  },
  {
   "cell_type": "markdown",
   "id": "14e1d4d2",
   "metadata": {},
   "source": [
    "Así, como conclusión, el resultado de la prueba t para la comparación de dos periodos consecutivos arrojó un valor t de aproximadamente -1.68 y un p-valor de alrededor de 0.092. Este resultado sugiere que la diferencia entre las medias de los dos periodos no es estadísticamente significativa a un nivel de confianza del 95%.\n",
    "\n",
    "En términos más simples, no hay evidencia suficiente para rechazar la hipótesis nula, que establece que no hay diferencia significativa entre los dos periodos en términos de la representación de los personajes. El p-valor de 0.092 es mayor que el umbral típicamente utilizado de 0.05, lo que indica que no hay suficiente evidencia para concluir que la diferencia observada no se debe simplemente al azar."
   ]
  },
  {
   "cell_type": "markdown",
   "id": "2d958970",
   "metadata": {},
   "source": [
    "# Análisis de los grupos compositivos más frecuentes entre personajes."
   ]
  },
  {
   "cell_type": "markdown",
   "id": "4cd212a7",
   "metadata": {},
   "source": [
    "Observando la recurrencia de personajes a lo largo de las distintas épocas y su evolución en la representación artística, me surge la idea de explorar cómo se relacionan entre sí. \n",
    "\n",
    "En este sentido, considero interesante examinar si estos personajes suelen ser representados conjuntamente en un mismo cuadro, si aparecen de manera individual. En definitiva, cómo suelen ser representados y junto a qué. \n",
    "\n",
    "Para llevar a cabo esta exploración, agregaré ahora la columna que contiene los títulos de las obras. La presencia de varios personajes bajo un mismo título indica que han sido representados juntos. \n",
    "\n",
    "Con esta información, podremos analizar las tendencias y relaciones entre personajes a lo largo de la historia."
   ]
  },
  {
   "cell_type": "markdown",
   "id": "25879746",
   "metadata": {},
   "source": [
    "De nuevo, me centraré en loque sigue en los diez personajes más comunes, con el fin de que la representación sea más clara y evidente a la vista."
   ]
  },
  {
   "cell_type": "code",
   "execution_count": null,
   "id": "a424583b",
   "metadata": {},
   "outputs": [
    {
     "data": {
      "text/html": [
       "<div>\n",
       "<style scoped>\n",
       "    .dataframe tbody tr th:only-of-type {\n",
       "        vertical-align: middle;\n",
       "    }\n",
       "\n",
       "    .dataframe tbody tr th {\n",
       "        vertical-align: top;\n",
       "    }\n",
       "\n",
       "    .dataframe thead th {\n",
       "        text-align: right;\n",
       "    }\n",
       "</style>\n",
       "<table border=\"1\" class=\"dataframe\">\n",
       "  <thead>\n",
       "    <tr style=\"text-align: right;\">\n",
       "      <th></th>\n",
       "      <th>Título</th>\n",
       "      <th>Personajes</th>\n",
       "      <th>Año_rango</th>\n",
       "    </tr>\n",
       "  </thead>\n",
       "  <tbody>\n",
       "    <tr>\n",
       "      <th>0</th>\n",
       "      <td>\"Floreros\"</td>\n",
       "      <td>Desconocidos</td>\n",
       "      <td>1601 - 1800</td>\n",
       "    </tr>\n",
       "    <tr>\n",
       "      <th>1</th>\n",
       "      <td>\"Floreros\"</td>\n",
       "      <td>Desconocidos</td>\n",
       "      <td>1601 - 1800</td>\n",
       "    </tr>\n",
       "    <tr>\n",
       "      <th>2</th>\n",
       "      <td>\"Floreros\"</td>\n",
       "      <td>Desconocidos</td>\n",
       "      <td>1601 - 1800</td>\n",
       "    </tr>\n",
       "    <tr>\n",
       "      <th>3</th>\n",
       "      <td>\"Floreros\"</td>\n",
       "      <td>Desconocidos</td>\n",
       "      <td>1601 - 1800</td>\n",
       "    </tr>\n",
       "    <tr>\n",
       "      <th>4</th>\n",
       "      <td>\"Floreros\"</td>\n",
       "      <td>Desconocidos</td>\n",
       "      <td>1601 - 1800</td>\n",
       "    </tr>\n",
       "    <tr>\n",
       "      <th>...</th>\n",
       "      <td>...</td>\n",
       "      <td>...</td>\n",
       "      <td>...</td>\n",
       "    </tr>\n",
       "    <tr>\n",
       "      <th>21709</th>\n",
       "      <td>\"Niños jugando a los dados\"</td>\n",
       "      <td>Desconocidos</td>\n",
       "      <td>1801 - 2000</td>\n",
       "    </tr>\n",
       "    <tr>\n",
       "      <th>21710</th>\n",
       "      <td>\"Niños jugando a los dados\"</td>\n",
       "      <td>Desconocidos</td>\n",
       "      <td>1801 - 2000</td>\n",
       "    </tr>\n",
       "    <tr>\n",
       "      <th>21711</th>\n",
       "      <td>\"Niños jugando a los dados\"</td>\n",
       "      <td>Desconocidos</td>\n",
       "      <td>1801 - 2000</td>\n",
       "    </tr>\n",
       "    <tr>\n",
       "      <th>21712</th>\n",
       "      <td>\"Niños jugando a los dados\"</td>\n",
       "      <td>Desconocidos</td>\n",
       "      <td>1801 - 2000</td>\n",
       "    </tr>\n",
       "    <tr>\n",
       "      <th>21713</th>\n",
       "      <td>\"Niños jugando a los dados\"</td>\n",
       "      <td>Desconocidos</td>\n",
       "      <td>1801 - 2000</td>\n",
       "    </tr>\n",
       "  </tbody>\n",
       "</table>\n",
       "<p>21714 rows × 3 columns</p>\n",
       "</div>"
      ],
      "text/plain": [
       "                            Título    Personajes    Año_rango\n",
       "0                       \"Floreros\"  Desconocidos  1601 - 1800\n",
       "1                       \"Floreros\"  Desconocidos  1601 - 1800\n",
       "2                       \"Floreros\"  Desconocidos  1601 - 1800\n",
       "3                       \"Floreros\"  Desconocidos  1601 - 1800\n",
       "4                       \"Floreros\"  Desconocidos  1601 - 1800\n",
       "...                            ...           ...          ...\n",
       "21709  \"Niños jugando a los dados\"  Desconocidos  1801 - 2000\n",
       "21710  \"Niños jugando a los dados\"  Desconocidos  1801 - 2000\n",
       "21711  \"Niños jugando a los dados\"  Desconocidos  1801 - 2000\n",
       "21712  \"Niños jugando a los dados\"  Desconocidos  1801 - 2000\n",
       "21713  \"Niños jugando a los dados\"  Desconocidos  1801 - 2000\n",
       "\n",
       "[21714 rows x 3 columns]"
      ]
     },
     "execution_count": 108,
     "metadata": {},
     "output_type": "execute_result"
    }
   ],
   "source": [
    "titulo_personajes_año_rango = obras_completo[[\"Título\", \"Personajes\", \"Año_rango\"]]\n",
    "titulo_personajes_año_rango"
   ]
  },
  {
   "cell_type": "code",
   "execution_count": null,
   "id": "f016fede",
   "metadata": {},
   "outputs": [],
   "source": [
    "#Me deshazgo de todos los valores donde el personaje es \"Desconocido\":\n",
    "titulo_personajes_año_rango = titulo_personajes_año_rango[titulo_personajes_año_rango['Personajes'] != 'Desconocidos']\n",
    "titulo_personajes_año_rango = titulo_personajes_año_rango.reset_index(drop=True)"
   ]
  },
  {
   "cell_type": "code",
   "execution_count": null,
   "id": "5a80ba0b",
   "metadata": {},
   "outputs": [
    {
     "data": {
      "text/html": [
       "<div>\n",
       "<style scoped>\n",
       "    .dataframe tbody tr th:only-of-type {\n",
       "        vertical-align: middle;\n",
       "    }\n",
       "\n",
       "    .dataframe tbody tr th {\n",
       "        vertical-align: top;\n",
       "    }\n",
       "\n",
       "    .dataframe thead th {\n",
       "        text-align: right;\n",
       "    }\n",
       "</style>\n",
       "<table border=\"1\" class=\"dataframe\">\n",
       "  <thead>\n",
       "    <tr style=\"text-align: right;\">\n",
       "      <th></th>\n",
       "      <th>Título</th>\n",
       "      <th>Personajes</th>\n",
       "      <th>Año_rango</th>\n",
       "    </tr>\n",
       "  </thead>\n",
       "  <tbody>\n",
       "    <tr>\n",
       "      <th>0</th>\n",
       "      <td>\"La Anunciación\"</td>\n",
       "      <td>Virgen María</td>\n",
       "      <td>1401 - 1600</td>\n",
       "    </tr>\n",
       "    <tr>\n",
       "      <th>1</th>\n",
       "      <td>\"La Inmaculada Concepción\"</td>\n",
       "      <td>Virgen María</td>\n",
       "      <td>1601 - 1800</td>\n",
       "    </tr>\n",
       "    <tr>\n",
       "      <th>2</th>\n",
       "      <td>\"La Inmaculada Concepción\"</td>\n",
       "      <td>Virgen María</td>\n",
       "      <td>1601 - 1800</td>\n",
       "    </tr>\n",
       "    <tr>\n",
       "      <th>3</th>\n",
       "      <td>\"La Inmaculada Concepción\"</td>\n",
       "      <td>Virgen María</td>\n",
       "      <td>1601 - 1800</td>\n",
       "    </tr>\n",
       "    <tr>\n",
       "      <th>4</th>\n",
       "      <td>\"La Inmaculada Concepción\"</td>\n",
       "      <td>Virgen María</td>\n",
       "      <td>1601 - 1800</td>\n",
       "    </tr>\n",
       "    <tr>\n",
       "      <th>...</th>\n",
       "      <td>...</td>\n",
       "      <td>...</td>\n",
       "      <td>...</td>\n",
       "    </tr>\n",
       "    <tr>\n",
       "      <th>12652</th>\n",
       "      <td>\"La Virgen con el Niño\"</td>\n",
       "      <td>Jesús</td>\n",
       "      <td>1401 - 1600</td>\n",
       "    </tr>\n",
       "    <tr>\n",
       "      <th>12653</th>\n",
       "      <td>\"La Virgen con el Niño\"</td>\n",
       "      <td>Jesús</td>\n",
       "      <td>1401 - 1600</td>\n",
       "    </tr>\n",
       "    <tr>\n",
       "      <th>12654</th>\n",
       "      <td>\"La Virgen con el Niño\"</td>\n",
       "      <td>Virgen María</td>\n",
       "      <td>1401 - 1600</td>\n",
       "    </tr>\n",
       "    <tr>\n",
       "      <th>12655</th>\n",
       "      <td>\"La Virgen con el Niño\"</td>\n",
       "      <td>Virgen María</td>\n",
       "      <td>1401 - 1600</td>\n",
       "    </tr>\n",
       "    <tr>\n",
       "      <th>12656</th>\n",
       "      <td>\"La Virgen con el Niño\"</td>\n",
       "      <td>Virgen María</td>\n",
       "      <td>1401 - 1600</td>\n",
       "    </tr>\n",
       "  </tbody>\n",
       "</table>\n",
       "<p>12657 rows × 3 columns</p>\n",
       "</div>"
      ],
      "text/plain": [
       "                           Título    Personajes    Año_rango\n",
       "0                \"La Anunciación\"  Virgen María  1401 - 1600\n",
       "1      \"La Inmaculada Concepción\"  Virgen María  1601 - 1800\n",
       "2      \"La Inmaculada Concepción\"  Virgen María  1601 - 1800\n",
       "3      \"La Inmaculada Concepción\"  Virgen María  1601 - 1800\n",
       "4      \"La Inmaculada Concepción\"  Virgen María  1601 - 1800\n",
       "...                           ...           ...          ...\n",
       "12652     \"La Virgen con el Niño\"         Jesús  1401 - 1600\n",
       "12653     \"La Virgen con el Niño\"         Jesús  1401 - 1600\n",
       "12654     \"La Virgen con el Niño\"  Virgen María  1401 - 1600\n",
       "12655     \"La Virgen con el Niño\"  Virgen María  1401 - 1600\n",
       "12656     \"La Virgen con el Niño\"  Virgen María  1401 - 1600\n",
       "\n",
       "[12657 rows x 3 columns]"
      ]
     },
     "execution_count": 110,
     "metadata": {},
     "output_type": "execute_result"
    }
   ],
   "source": [
    "titulo_personajes_año_rango"
   ]
  },
  {
   "cell_type": "code",
   "execution_count": null,
   "id": "7e52695f",
   "metadata": {},
   "outputs": [],
   "source": [
    "titulo_personajes_frecuencia = titulo_personajes_año_rango.groupby(['Título', 'Personajes']).size().reset_index(name='Frecuencia')"
   ]
  },
  {
   "cell_type": "code",
   "execution_count": null,
   "id": "22d94c42",
   "metadata": {},
   "outputs": [],
   "source": [
    "# Calculo cuantos personajes contiene cada obra:\n",
    "titulo_personajes_unicos = titulo_personajes_frecuencia.groupby('Título')['Personajes'].nunique().reset_index(name='Cantidad_Personajes_Unicos')"
   ]
  },
  {
   "cell_type": "code",
   "execution_count": null,
   "id": "ba27beee",
   "metadata": {},
   "outputs": [
    {
     "data": {
      "text/html": [
       "<div>\n",
       "<style scoped>\n",
       "    .dataframe tbody tr th:only-of-type {\n",
       "        vertical-align: middle;\n",
       "    }\n",
       "\n",
       "    .dataframe tbody tr th {\n",
       "        vertical-align: top;\n",
       "    }\n",
       "\n",
       "    .dataframe thead th {\n",
       "        text-align: right;\n",
       "    }\n",
       "</style>\n",
       "<table border=\"1\" class=\"dataframe\">\n",
       "  <thead>\n",
       "    <tr style=\"text-align: right;\">\n",
       "      <th></th>\n",
       "      <th>Título</th>\n",
       "      <th>Cantidad_Personajes_Unicos</th>\n",
       "    </tr>\n",
       "  </thead>\n",
       "  <tbody>\n",
       "    <tr>\n",
       "      <th>0</th>\n",
       "      <td>\"A Francisco Martínez de la Rosa, en su muerte\"</td>\n",
       "      <td>1</td>\n",
       "    </tr>\n",
       "    <tr>\n",
       "      <th>1</th>\n",
       "      <td>\"A Salustiano de Olózaga\"</td>\n",
       "      <td>1</td>\n",
       "    </tr>\n",
       "    <tr>\n",
       "      <th>2</th>\n",
       "      <td>\"Adoración de los Reyes Magos\"</td>\n",
       "      <td>4</td>\n",
       "    </tr>\n",
       "    <tr>\n",
       "      <th>3</th>\n",
       "      <td>\"Adoración del Sagrado Corazón de Jesús\"</td>\n",
       "      <td>11</td>\n",
       "    </tr>\n",
       "    <tr>\n",
       "      <th>4</th>\n",
       "      <td>\"Adán antes de comer el fruto\"</td>\n",
       "      <td>1</td>\n",
       "    </tr>\n",
       "    <tr>\n",
       "      <th>...</th>\n",
       "      <td>...</td>\n",
       "      <td>...</td>\n",
       "    </tr>\n",
       "    <tr>\n",
       "      <th>209</th>\n",
       "      <td>\"Venus descubre a Adonis muerto\"</td>\n",
       "      <td>3</td>\n",
       "    </tr>\n",
       "    <tr>\n",
       "      <th>210</th>\n",
       "      <td>\"Venus, Adonis y Cupido\"</td>\n",
       "      <td>3</td>\n",
       "    </tr>\n",
       "    <tr>\n",
       "      <th>211</th>\n",
       "      <td>\"Visión de Santa Teresa / Apuntes\"</td>\n",
       "      <td>1</td>\n",
       "    </tr>\n",
       "    <tr>\n",
       "      <th>212</th>\n",
       "      <td>\"Visión de san Francisco en la Porciúncula\"</td>\n",
       "      <td>4</td>\n",
       "    </tr>\n",
       "    <tr>\n",
       "      <th>213</th>\n",
       "      <td>\"Ángel con corona de azucenas\"</td>\n",
       "      <td>1</td>\n",
       "    </tr>\n",
       "  </tbody>\n",
       "</table>\n",
       "<p>214 rows × 2 columns</p>\n",
       "</div>"
      ],
      "text/plain": [
       "                                              Título  \\\n",
       "0    \"A Francisco Martínez de la Rosa, en su muerte\"   \n",
       "1                          \"A Salustiano de Olózaga\"   \n",
       "2                     \"Adoración de los Reyes Magos\"   \n",
       "3           \"Adoración del Sagrado Corazón de Jesús\"   \n",
       "4                     \"Adán antes de comer el fruto\"   \n",
       "..                                               ...   \n",
       "209                 \"Venus descubre a Adonis muerto\"   \n",
       "210                         \"Venus, Adonis y Cupido\"   \n",
       "211               \"Visión de Santa Teresa / Apuntes\"   \n",
       "212      \"Visión de san Francisco en la Porciúncula\"   \n",
       "213                   \"Ángel con corona de azucenas\"   \n",
       "\n",
       "     Cantidad_Personajes_Unicos  \n",
       "0                             1  \n",
       "1                             1  \n",
       "2                             4  \n",
       "3                            11  \n",
       "4                             1  \n",
       "..                          ...  \n",
       "209                           3  \n",
       "210                           3  \n",
       "211                           1  \n",
       "212                           4  \n",
       "213                           1  \n",
       "\n",
       "[214 rows x 2 columns]"
      ]
     },
     "execution_count": 113,
     "metadata": {},
     "output_type": "execute_result"
    }
   ],
   "source": [
    "titulo_personajes_unicos"
   ]
  },
  {
   "cell_type": "code",
   "execution_count": null,
   "id": "722113a0",
   "metadata": {},
   "outputs": [
    {
     "data": {
      "text/html": [
       "<div>\n",
       "<style scoped>\n",
       "    .dataframe tbody tr th:only-of-type {\n",
       "        vertical-align: middle;\n",
       "    }\n",
       "\n",
       "    .dataframe tbody tr th {\n",
       "        vertical-align: top;\n",
       "    }\n",
       "\n",
       "    .dataframe thead th {\n",
       "        text-align: right;\n",
       "    }\n",
       "</style>\n",
       "<table border=\"1\" class=\"dataframe\">\n",
       "  <thead>\n",
       "    <tr style=\"text-align: right;\">\n",
       "      <th></th>\n",
       "      <th>Título</th>\n",
       "      <th>Personajes_en_obra</th>\n",
       "    </tr>\n",
       "  </thead>\n",
       "  <tbody>\n",
       "    <tr>\n",
       "      <th>0</th>\n",
       "      <td>\"A Francisco Martínez de la Rosa, en su muerte\"</td>\n",
       "      <td>[Francisco Martínez de la Rosa]</td>\n",
       "    </tr>\n",
       "    <tr>\n",
       "      <th>1</th>\n",
       "      <td>\"A Salustiano de Olózaga\"</td>\n",
       "      <td>[Salustiano de Olózaga]</td>\n",
       "    </tr>\n",
       "    <tr>\n",
       "      <th>2</th>\n",
       "      <td>\"Adoración de los Reyes Magos\"</td>\n",
       "      <td>[Jesús, Reyes Magos, San José, Virgen María]</td>\n",
       "    </tr>\n",
       "    <tr>\n",
       "      <th>3</th>\n",
       "      <td>\"Adoración del Sagrado Corazón de Jesús\"</td>\n",
       "      <td>[San Agustín, San Bernardo de Claraval, San Fr...</td>\n",
       "    </tr>\n",
       "    <tr>\n",
       "      <th>4</th>\n",
       "      <td>\"Adán antes de comer el fruto\"</td>\n",
       "      <td>[Adán]</td>\n",
       "    </tr>\n",
       "    <tr>\n",
       "      <th>...</th>\n",
       "      <td>...</td>\n",
       "      <td>...</td>\n",
       "    </tr>\n",
       "    <tr>\n",
       "      <th>209</th>\n",
       "      <td>\"Venus descubre a Adonis muerto\"</td>\n",
       "      <td>[Adonis, Afrodita/Venus, Cupido/Eros]</td>\n",
       "    </tr>\n",
       "    <tr>\n",
       "      <th>210</th>\n",
       "      <td>\"Venus, Adonis y Cupido\"</td>\n",
       "      <td>[Adonis, Afrodita/Venus, Cupido/Eros]</td>\n",
       "    </tr>\n",
       "    <tr>\n",
       "      <th>211</th>\n",
       "      <td>\"Visión de Santa Teresa / Apuntes\"</td>\n",
       "      <td>[Ángel / ángeles]</td>\n",
       "    </tr>\n",
       "    <tr>\n",
       "      <th>212</th>\n",
       "      <td>\"Visión de san Francisco en la Porciúncula\"</td>\n",
       "      <td>[Jesús, San Francisco de Asís, Virgen María, Á...</td>\n",
       "    </tr>\n",
       "    <tr>\n",
       "      <th>213</th>\n",
       "      <td>\"Ángel con corona de azucenas\"</td>\n",
       "      <td>[Ángel / ángeles]</td>\n",
       "    </tr>\n",
       "  </tbody>\n",
       "</table>\n",
       "<p>214 rows × 2 columns</p>\n",
       "</div>"
      ],
      "text/plain": [
       "                                              Título  \\\n",
       "0    \"A Francisco Martínez de la Rosa, en su muerte\"   \n",
       "1                          \"A Salustiano de Olózaga\"   \n",
       "2                     \"Adoración de los Reyes Magos\"   \n",
       "3           \"Adoración del Sagrado Corazón de Jesús\"   \n",
       "4                     \"Adán antes de comer el fruto\"   \n",
       "..                                               ...   \n",
       "209                 \"Venus descubre a Adonis muerto\"   \n",
       "210                         \"Venus, Adonis y Cupido\"   \n",
       "211               \"Visión de Santa Teresa / Apuntes\"   \n",
       "212      \"Visión de san Francisco en la Porciúncula\"   \n",
       "213                   \"Ángel con corona de azucenas\"   \n",
       "\n",
       "                                    Personajes_en_obra  \n",
       "0                      [Francisco Martínez de la Rosa]  \n",
       "1                              [Salustiano de Olózaga]  \n",
       "2         [Jesús, Reyes Magos, San José, Virgen María]  \n",
       "3    [San Agustín, San Bernardo de Claraval, San Fr...  \n",
       "4                                               [Adán]  \n",
       "..                                                 ...  \n",
       "209              [Adonis, Afrodita/Venus, Cupido/Eros]  \n",
       "210              [Adonis, Afrodita/Venus, Cupido/Eros]  \n",
       "211                                  [Ángel / ángeles]  \n",
       "212  [Jesús, San Francisco de Asís, Virgen María, Á...  \n",
       "213                                  [Ángel / ángeles]  \n",
       "\n",
       "[214 rows x 2 columns]"
      ]
     },
     "execution_count": 114,
     "metadata": {},
     "output_type": "execute_result"
    }
   ],
   "source": [
    "# Agrupo por el título para obtener la lista de los personajes representados en cada una de las obras:\n",
    "titulo_personajes = titulo_personajes_frecuencia.groupby('Título')['Personajes'].unique().reset_index(name='Personajes_en_obra')\n",
    "titulo_personajes"
   ]
  },
  {
   "cell_type": "code",
   "execution_count": null,
   "id": "5f830c9b",
   "metadata": {},
   "outputs": [
    {
     "data": {
      "text/html": [
       "<div>\n",
       "<style scoped>\n",
       "    .dataframe tbody tr th:only-of-type {\n",
       "        vertical-align: middle;\n",
       "    }\n",
       "\n",
       "    .dataframe tbody tr th {\n",
       "        vertical-align: top;\n",
       "    }\n",
       "\n",
       "    .dataframe thead th {\n",
       "        text-align: right;\n",
       "    }\n",
       "</style>\n",
       "<table border=\"1\" class=\"dataframe\">\n",
       "  <thead>\n",
       "    <tr style=\"text-align: right;\">\n",
       "      <th></th>\n",
       "      <th>Personajes</th>\n",
       "      <th>Frecuencia</th>\n",
       "    </tr>\n",
       "  </thead>\n",
       "  <tbody>\n",
       "    <tr>\n",
       "      <th>0</th>\n",
       "      <td>Virgen María</td>\n",
       "      <td>2733</td>\n",
       "    </tr>\n",
       "    <tr>\n",
       "      <th>1</th>\n",
       "      <td>Jesús</td>\n",
       "      <td>1508</td>\n",
       "    </tr>\n",
       "    <tr>\n",
       "      <th>2</th>\n",
       "      <td>Hera/Juno</td>\n",
       "      <td>1025</td>\n",
       "    </tr>\n",
       "    <tr>\n",
       "      <th>3</th>\n",
       "      <td>Afrodita/Venus</td>\n",
       "      <td>844</td>\n",
       "    </tr>\n",
       "    <tr>\n",
       "      <th>4</th>\n",
       "      <td>Flora</td>\n",
       "      <td>706</td>\n",
       "    </tr>\n",
       "    <tr>\n",
       "      <th>5</th>\n",
       "      <td>San José</td>\n",
       "      <td>674</td>\n",
       "    </tr>\n",
       "    <tr>\n",
       "      <th>6</th>\n",
       "      <td>Deméter/Ceres</td>\n",
       "      <td>625</td>\n",
       "    </tr>\n",
       "    <tr>\n",
       "      <th>7</th>\n",
       "      <td>San Juan Bautista</td>\n",
       "      <td>460</td>\n",
       "    </tr>\n",
       "    <tr>\n",
       "      <th>8</th>\n",
       "      <td>Ángel / ángeles</td>\n",
       "      <td>400</td>\n",
       "    </tr>\n",
       "    <tr>\n",
       "      <th>9</th>\n",
       "      <td>Dionisio / Baco</td>\n",
       "      <td>268</td>\n",
       "    </tr>\n",
       "  </tbody>\n",
       "</table>\n",
       "</div>"
      ],
      "text/plain": [
       "          Personajes  Frecuencia\n",
       "0       Virgen María        2733\n",
       "1              Jesús        1508\n",
       "2          Hera/Juno        1025\n",
       "3     Afrodita/Venus         844\n",
       "4              Flora         706\n",
       "5           San José         674\n",
       "6      Deméter/Ceres         625\n",
       "7  San Juan Bautista         460\n",
       "8    Ángel / ángeles         400\n",
       "9    Dionisio / Baco         268"
      ]
     },
     "execution_count": 115,
     "metadata": {},
     "output_type": "execute_result"
    }
   ],
   "source": [
    "#Como decía, solo me interesan los 10 personajes que más aparecen en las obras:\n",
    "top_10_personajes_en_obras = titulo_personajes_frecuencia.groupby('Personajes').sum()['Frecuencia'].nlargest(10).reset_index()\n",
    "top_10_personajes_en_obras"
   ]
  },
  {
   "cell_type": "code",
   "execution_count": null,
   "id": "7bcf7ab1",
   "metadata": {},
   "outputs": [
    {
     "data": {
      "text/html": [
       "<div>\n",
       "<style scoped>\n",
       "    .dataframe tbody tr th:only-of-type {\n",
       "        vertical-align: middle;\n",
       "    }\n",
       "\n",
       "    .dataframe tbody tr th {\n",
       "        vertical-align: top;\n",
       "    }\n",
       "\n",
       "    .dataframe thead th {\n",
       "        text-align: right;\n",
       "    }\n",
       "</style>\n",
       "<table border=\"1\" class=\"dataframe\">\n",
       "  <thead>\n",
       "    <tr style=\"text-align: right;\">\n",
       "      <th></th>\n",
       "      <th>Título</th>\n",
       "      <th>Personajes_en_obra</th>\n",
       "    </tr>\n",
       "  </thead>\n",
       "  <tbody>\n",
       "    <tr>\n",
       "      <th>0</th>\n",
       "      <td>\"A Francisco Martínez de la Rosa, en su muerte\"</td>\n",
       "      <td>[Francisco Martínez de la Rosa]</td>\n",
       "    </tr>\n",
       "    <tr>\n",
       "      <th>1</th>\n",
       "      <td>\"A Salustiano de Olózaga\"</td>\n",
       "      <td>[Salustiano de Olózaga]</td>\n",
       "    </tr>\n",
       "    <tr>\n",
       "      <th>2</th>\n",
       "      <td>\"Adoración de los Reyes Magos\"</td>\n",
       "      <td>[Jesús, Reyes Magos, San José, Virgen María]</td>\n",
       "    </tr>\n",
       "    <tr>\n",
       "      <th>3</th>\n",
       "      <td>\"Adoración del Sagrado Corazón de Jesús\"</td>\n",
       "      <td>[San Agustín, San Bernardo de Claraval, San Fr...</td>\n",
       "    </tr>\n",
       "    <tr>\n",
       "      <th>4</th>\n",
       "      <td>\"Adán antes de comer el fruto\"</td>\n",
       "      <td>[Adán]</td>\n",
       "    </tr>\n",
       "    <tr>\n",
       "      <th>...</th>\n",
       "      <td>...</td>\n",
       "      <td>...</td>\n",
       "    </tr>\n",
       "    <tr>\n",
       "      <th>209</th>\n",
       "      <td>\"Venus descubre a Adonis muerto\"</td>\n",
       "      <td>[Adonis, Afrodita/Venus, Cupido/Eros]</td>\n",
       "    </tr>\n",
       "    <tr>\n",
       "      <th>210</th>\n",
       "      <td>\"Venus, Adonis y Cupido\"</td>\n",
       "      <td>[Adonis, Afrodita/Venus, Cupido/Eros]</td>\n",
       "    </tr>\n",
       "    <tr>\n",
       "      <th>211</th>\n",
       "      <td>\"Visión de Santa Teresa / Apuntes\"</td>\n",
       "      <td>[Ángel / ángeles]</td>\n",
       "    </tr>\n",
       "    <tr>\n",
       "      <th>212</th>\n",
       "      <td>\"Visión de san Francisco en la Porciúncula\"</td>\n",
       "      <td>[Jesús, San Francisco de Asís, Virgen María, Á...</td>\n",
       "    </tr>\n",
       "    <tr>\n",
       "      <th>213</th>\n",
       "      <td>\"Ángel con corona de azucenas\"</td>\n",
       "      <td>[Ángel / ángeles]</td>\n",
       "    </tr>\n",
       "  </tbody>\n",
       "</table>\n",
       "<p>214 rows × 2 columns</p>\n",
       "</div>"
      ],
      "text/plain": [
       "                                              Título  \\\n",
       "0    \"A Francisco Martínez de la Rosa, en su muerte\"   \n",
       "1                          \"A Salustiano de Olózaga\"   \n",
       "2                     \"Adoración de los Reyes Magos\"   \n",
       "3           \"Adoración del Sagrado Corazón de Jesús\"   \n",
       "4                     \"Adán antes de comer el fruto\"   \n",
       "..                                               ...   \n",
       "209                 \"Venus descubre a Adonis muerto\"   \n",
       "210                         \"Venus, Adonis y Cupido\"   \n",
       "211               \"Visión de Santa Teresa / Apuntes\"   \n",
       "212      \"Visión de san Francisco en la Porciúncula\"   \n",
       "213                   \"Ángel con corona de azucenas\"   \n",
       "\n",
       "                                    Personajes_en_obra  \n",
       "0                      [Francisco Martínez de la Rosa]  \n",
       "1                              [Salustiano de Olózaga]  \n",
       "2         [Jesús, Reyes Magos, San José, Virgen María]  \n",
       "3    [San Agustín, San Bernardo de Claraval, San Fr...  \n",
       "4                                               [Adán]  \n",
       "..                                                 ...  \n",
       "209              [Adonis, Afrodita/Venus, Cupido/Eros]  \n",
       "210              [Adonis, Afrodita/Venus, Cupido/Eros]  \n",
       "211                                  [Ángel / ángeles]  \n",
       "212  [Jesús, San Francisco de Asís, Virgen María, Á...  \n",
       "213                                  [Ángel / ángeles]  \n",
       "\n",
       "[214 rows x 2 columns]"
      ]
     },
     "execution_count": 116,
     "metadata": {},
     "output_type": "execute_result"
    }
   ],
   "source": [
    "#Selecciono solo los 10 personajes más recurrentes:\n",
    "personajes_comunes = [\"Virgen María\", \"Jesús\", \"Hera/Juno\", \"Afrodita/Venus\", \"Flora\", \"San José\", \"Deméter/Ceres\", \"San Juan Bautista\", \"Ángel / ángeles\", \"Dionisio / Baco\"]\n",
    "\n",
    "# Filtro el DataFrame original para incluir solo las filas que contengan las obras en las que aparecen los 10 personajes recién mencionados:\n",
    "titulo_personajes_comunes = titulo_personajes[titulo_personajes['Personajes_en_obra'].apply(lambda x: any(personaje in x for personaje in personajes_comunes))]\n",
    "titulo_personajes"
   ]
  },
  {
   "cell_type": "markdown",
   "id": "84aaa09e",
   "metadata": {},
   "source": [
    "Decido ahora utilizar un mapa de calor en el análisis de las relaciones entre personajes en las obras de arte, pues me parece que representa de manera clara las frecuencias de aparición conjunta. Los mapas de calor ofrecen una perspectiva intuitiva que facilita la identificación de conexiones entre los diferentes personajes estudiados.\n",
    "\n",
    "La paleta de colores simplifica la identificación de los personajes que tienden a ser representados juntos con mayor frecuencia, así como aquellos que comparten menor presencia en las obras."
   ]
  },
  {
   "cell_type": "code",
   "execution_count": null,
   "id": "8e46c17c",
   "metadata": {},
   "outputs": [
    {
     "data": {
      "text/html": [
       "<div>\n",
       "<style scoped>\n",
       "    .dataframe tbody tr th:only-of-type {\n",
       "        vertical-align: middle;\n",
       "    }\n",
       "\n",
       "    .dataframe tbody tr th {\n",
       "        vertical-align: top;\n",
       "    }\n",
       "\n",
       "    .dataframe thead th {\n",
       "        text-align: right;\n",
       "    }\n",
       "</style>\n",
       "<table border=\"1\" class=\"dataframe\">\n",
       "  <thead>\n",
       "    <tr style=\"text-align: right;\">\n",
       "      <th></th>\n",
       "      <th>Título</th>\n",
       "      <th>Personajes_en_obra</th>\n",
       "    </tr>\n",
       "  </thead>\n",
       "  <tbody>\n",
       "    <tr>\n",
       "      <th>0</th>\n",
       "      <td>\"A Francisco Martínez de la Rosa, en su muerte\"</td>\n",
       "      <td>[]</td>\n",
       "    </tr>\n",
       "    <tr>\n",
       "      <th>1</th>\n",
       "      <td>\"A Salustiano de Olózaga\"</td>\n",
       "      <td>[]</td>\n",
       "    </tr>\n",
       "    <tr>\n",
       "      <th>2</th>\n",
       "      <td>\"Adoración de los Reyes Magos\"</td>\n",
       "      <td>[Jesús, San José, Virgen María]</td>\n",
       "    </tr>\n",
       "    <tr>\n",
       "      <th>3</th>\n",
       "      <td>\"Adoración del Sagrado Corazón de Jesús\"</td>\n",
       "      <td>[Virgen María]</td>\n",
       "    </tr>\n",
       "    <tr>\n",
       "      <th>4</th>\n",
       "      <td>\"Adán antes de comer el fruto\"</td>\n",
       "      <td>[]</td>\n",
       "    </tr>\n",
       "    <tr>\n",
       "      <th>...</th>\n",
       "      <td>...</td>\n",
       "      <td>...</td>\n",
       "    </tr>\n",
       "    <tr>\n",
       "      <th>209</th>\n",
       "      <td>\"Venus descubre a Adonis muerto\"</td>\n",
       "      <td>[Afrodita/Venus]</td>\n",
       "    </tr>\n",
       "    <tr>\n",
       "      <th>210</th>\n",
       "      <td>\"Venus, Adonis y Cupido\"</td>\n",
       "      <td>[Afrodita/Venus]</td>\n",
       "    </tr>\n",
       "    <tr>\n",
       "      <th>211</th>\n",
       "      <td>\"Visión de Santa Teresa / Apuntes\"</td>\n",
       "      <td>[Ángel / ángeles]</td>\n",
       "    </tr>\n",
       "    <tr>\n",
       "      <th>212</th>\n",
       "      <td>\"Visión de san Francisco en la Porciúncula\"</td>\n",
       "      <td>[Jesús, Virgen María, Ángel / ángeles]</td>\n",
       "    </tr>\n",
       "    <tr>\n",
       "      <th>213</th>\n",
       "      <td>\"Ángel con corona de azucenas\"</td>\n",
       "      <td>[Ángel / ángeles]</td>\n",
       "    </tr>\n",
       "  </tbody>\n",
       "</table>\n",
       "<p>214 rows × 2 columns</p>\n",
       "</div>"
      ],
      "text/plain": [
       "                                              Título  \\\n",
       "0    \"A Francisco Martínez de la Rosa, en su muerte\"   \n",
       "1                          \"A Salustiano de Olózaga\"   \n",
       "2                     \"Adoración de los Reyes Magos\"   \n",
       "3           \"Adoración del Sagrado Corazón de Jesús\"   \n",
       "4                     \"Adán antes de comer el fruto\"   \n",
       "..                                               ...   \n",
       "209                 \"Venus descubre a Adonis muerto\"   \n",
       "210                         \"Venus, Adonis y Cupido\"   \n",
       "211               \"Visión de Santa Teresa / Apuntes\"   \n",
       "212      \"Visión de san Francisco en la Porciúncula\"   \n",
       "213                   \"Ángel con corona de azucenas\"   \n",
       "\n",
       "                         Personajes_en_obra  \n",
       "0                                        []  \n",
       "1                                        []  \n",
       "2           [Jesús, San José, Virgen María]  \n",
       "3                            [Virgen María]  \n",
       "4                                        []  \n",
       "..                                      ...  \n",
       "209                        [Afrodita/Venus]  \n",
       "210                        [Afrodita/Venus]  \n",
       "211                       [Ángel / ángeles]  \n",
       "212  [Jesús, Virgen María, Ángel / ángeles]  \n",
       "213                       [Ángel / ángeles]  \n",
       "\n",
       "[214 rows x 2 columns]"
      ]
     },
     "execution_count": 118,
     "metadata": {},
     "output_type": "execute_result"
    }
   ],
   "source": [
    "titulo_personajes"
   ]
  },
  {
   "cell_type": "code",
   "execution_count": null,
   "metadata": {},
   "outputs": [
    {
     "name": "stdout",
     "output_type": "stream",
     "text": [
      "[[ 0 38  0  0  0 19  0  9 21  0]\n",
      " [38  0  0  0  0 20  0  9 16  0]\n",
      " [ 0  0  0  1  1  0  1  0  0  0]\n",
      " [ 0  0  1  0  1  0  1  0  0  0]\n",
      " [ 0  0  1  1  0  0  1  0  0  0]\n",
      " [19 20  0  0  0  0  0  5  7  0]\n",
      " [ 0  0  1  1  1  0  0  0  0  1]\n",
      " [ 9  9  0  0  0  5  0  0  2  0]\n",
      " [21 16  0  0  0  7  0  2  0  0]\n",
      " [ 0  0  0  0  0  0  1  0  0  0]]\n"
     ]
    },
    {
     "data": {
      "application/vnd.plotly.v1+json": {
       "config": {
        "plotlyServerURL": "https://plot.ly"
       },
       "data": [
        {
         "coloraxis": "coloraxis",
         "hovertemplate": "Personaje 1: %{x}<br>Personaje 2: %{y}<br>Frecuencia: %{z}<extra></extra>",
         "name": "0",
         "type": "heatmap",
         "x": [
          "Virgen María",
          "Jesús",
          "Hera/Juno",
          "Afrodita/Venus",
          "Flora",
          "San José",
          "Deméter/Ceres",
          "San Juan Bautista",
          "Ángel / ángeles",
          "Dionisio / Baco"
         ],
         "xaxis": "x",
         "y": [
          "Virgen María",
          "Jesús",
          "Hera/Juno",
          "Afrodita/Venus",
          "Flora",
          "San José",
          "Deméter/Ceres",
          "San Juan Bautista",
          "Ángel / ángeles",
          "Dionisio / Baco"
         ],
         "yaxis": "y",
         "z": [
          [
           0,
           38,
           0,
           0,
           0,
           19,
           0,
           9,
           21,
           0
          ],
          [
           38,
           0,
           0,
           0,
           0,
           20,
           0,
           9,
           16,
           0
          ],
          [
           0,
           0,
           0,
           1,
           1,
           0,
           1,
           0,
           0,
           0
          ],
          [
           0,
           0,
           1,
           0,
           1,
           0,
           1,
           0,
           0,
           0
          ],
          [
           0,
           0,
           1,
           1,
           0,
           0,
           1,
           0,
           0,
           0
          ],
          [
           19,
           20,
           0,
           0,
           0,
           0,
           0,
           5,
           7,
           0
          ],
          [
           0,
           0,
           1,
           1,
           1,
           0,
           0,
           0,
           0,
           1
          ],
          [
           9,
           9,
           0,
           0,
           0,
           5,
           0,
           0,
           2,
           0
          ],
          [
           21,
           16,
           0,
           0,
           0,
           7,
           0,
           2,
           0,
           0
          ],
          [
           0,
           0,
           0,
           0,
           0,
           0,
           1,
           0,
           0,
           0
          ]
         ]
        }
       ],
       "layout": {
        "annotations": [
         {
          "showarrow": false,
          "text": "0",
          "x": "Virgen María",
          "xref": "x",
          "y": "Virgen María",
          "yref": "y"
         },
         {
          "showarrow": false,
          "text": "38",
          "x": "Jesús",
          "xref": "x",
          "y": "Virgen María",
          "yref": "y"
         },
         {
          "showarrow": false,
          "text": "0",
          "x": "Hera/Juno",
          "xref": "x",
          "y": "Virgen María",
          "yref": "y"
         },
         {
          "showarrow": false,
          "text": "0",
          "x": "Afrodita/Venus",
          "xref": "x",
          "y": "Virgen María",
          "yref": "y"
         },
         {
          "showarrow": false,
          "text": "0",
          "x": "Flora",
          "xref": "x",
          "y": "Virgen María",
          "yref": "y"
         },
         {
          "showarrow": false,
          "text": "19",
          "x": "San José",
          "xref": "x",
          "y": "Virgen María",
          "yref": "y"
         },
         {
          "showarrow": false,
          "text": "0",
          "x": "Deméter/Ceres",
          "xref": "x",
          "y": "Virgen María",
          "yref": "y"
         },
         {
          "showarrow": false,
          "text": "9",
          "x": "San Juan Bautista",
          "xref": "x",
          "y": "Virgen María",
          "yref": "y"
         },
         {
          "showarrow": false,
          "text": "21",
          "x": "Ángel / ángeles",
          "xref": "x",
          "y": "Virgen María",
          "yref": "y"
         },
         {
          "showarrow": false,
          "text": "0",
          "x": "Dionisio / Baco",
          "xref": "x",
          "y": "Virgen María",
          "yref": "y"
         },
         {
          "showarrow": false,
          "text": "38",
          "x": "Virgen María",
          "xref": "x",
          "y": "Jesús",
          "yref": "y"
         },
         {
          "showarrow": false,
          "text": "0",
          "x": "Jesús",
          "xref": "x",
          "y": "Jesús",
          "yref": "y"
         },
         {
          "showarrow": false,
          "text": "0",
          "x": "Hera/Juno",
          "xref": "x",
          "y": "Jesús",
          "yref": "y"
         },
         {
          "showarrow": false,
          "text": "0",
          "x": "Afrodita/Venus",
          "xref": "x",
          "y": "Jesús",
          "yref": "y"
         },
         {
          "showarrow": false,
          "text": "0",
          "x": "Flora",
          "xref": "x",
          "y": "Jesús",
          "yref": "y"
         },
         {
          "showarrow": false,
          "text": "20",
          "x": "San José",
          "xref": "x",
          "y": "Jesús",
          "yref": "y"
         },
         {
          "showarrow": false,
          "text": "0",
          "x": "Deméter/Ceres",
          "xref": "x",
          "y": "Jesús",
          "yref": "y"
         },
         {
          "showarrow": false,
          "text": "9",
          "x": "San Juan Bautista",
          "xref": "x",
          "y": "Jesús",
          "yref": "y"
         },
         {
          "showarrow": false,
          "text": "16",
          "x": "Ángel / ángeles",
          "xref": "x",
          "y": "Jesús",
          "yref": "y"
         },
         {
          "showarrow": false,
          "text": "0",
          "x": "Dionisio / Baco",
          "xref": "x",
          "y": "Jesús",
          "yref": "y"
         },
         {
          "showarrow": false,
          "text": "0",
          "x": "Virgen María",
          "xref": "x",
          "y": "Hera/Juno",
          "yref": "y"
         },
         {
          "showarrow": false,
          "text": "0",
          "x": "Jesús",
          "xref": "x",
          "y": "Hera/Juno",
          "yref": "y"
         },
         {
          "showarrow": false,
          "text": "0",
          "x": "Hera/Juno",
          "xref": "x",
          "y": "Hera/Juno",
          "yref": "y"
         },
         {
          "showarrow": false,
          "text": "1",
          "x": "Afrodita/Venus",
          "xref": "x",
          "y": "Hera/Juno",
          "yref": "y"
         },
         {
          "showarrow": false,
          "text": "1",
          "x": "Flora",
          "xref": "x",
          "y": "Hera/Juno",
          "yref": "y"
         },
         {
          "showarrow": false,
          "text": "0",
          "x": "San José",
          "xref": "x",
          "y": "Hera/Juno",
          "yref": "y"
         },
         {
          "showarrow": false,
          "text": "1",
          "x": "Deméter/Ceres",
          "xref": "x",
          "y": "Hera/Juno",
          "yref": "y"
         },
         {
          "showarrow": false,
          "text": "0",
          "x": "San Juan Bautista",
          "xref": "x",
          "y": "Hera/Juno",
          "yref": "y"
         },
         {
          "showarrow": false,
          "text": "0",
          "x": "Ángel / ángeles",
          "xref": "x",
          "y": "Hera/Juno",
          "yref": "y"
         },
         {
          "showarrow": false,
          "text": "0",
          "x": "Dionisio / Baco",
          "xref": "x",
          "y": "Hera/Juno",
          "yref": "y"
         },
         {
          "showarrow": false,
          "text": "0",
          "x": "Virgen María",
          "xref": "x",
          "y": "Afrodita/Venus",
          "yref": "y"
         },
         {
          "showarrow": false,
          "text": "0",
          "x": "Jesús",
          "xref": "x",
          "y": "Afrodita/Venus",
          "yref": "y"
         },
         {
          "showarrow": false,
          "text": "1",
          "x": "Hera/Juno",
          "xref": "x",
          "y": "Afrodita/Venus",
          "yref": "y"
         },
         {
          "showarrow": false,
          "text": "0",
          "x": "Afrodita/Venus",
          "xref": "x",
          "y": "Afrodita/Venus",
          "yref": "y"
         },
         {
          "showarrow": false,
          "text": "1",
          "x": "Flora",
          "xref": "x",
          "y": "Afrodita/Venus",
          "yref": "y"
         },
         {
          "showarrow": false,
          "text": "0",
          "x": "San José",
          "xref": "x",
          "y": "Afrodita/Venus",
          "yref": "y"
         },
         {
          "showarrow": false,
          "text": "1",
          "x": "Deméter/Ceres",
          "xref": "x",
          "y": "Afrodita/Venus",
          "yref": "y"
         },
         {
          "showarrow": false,
          "text": "0",
          "x": "San Juan Bautista",
          "xref": "x",
          "y": "Afrodita/Venus",
          "yref": "y"
         },
         {
          "showarrow": false,
          "text": "0",
          "x": "Ángel / ángeles",
          "xref": "x",
          "y": "Afrodita/Venus",
          "yref": "y"
         },
         {
          "showarrow": false,
          "text": "0",
          "x": "Dionisio / Baco",
          "xref": "x",
          "y": "Afrodita/Venus",
          "yref": "y"
         },
         {
          "showarrow": false,
          "text": "0",
          "x": "Virgen María",
          "xref": "x",
          "y": "Flora",
          "yref": "y"
         },
         {
          "showarrow": false,
          "text": "0",
          "x": "Jesús",
          "xref": "x",
          "y": "Flora",
          "yref": "y"
         },
         {
          "showarrow": false,
          "text": "1",
          "x": "Hera/Juno",
          "xref": "x",
          "y": "Flora",
          "yref": "y"
         },
         {
          "showarrow": false,
          "text": "1",
          "x": "Afrodita/Venus",
          "xref": "x",
          "y": "Flora",
          "yref": "y"
         },
         {
          "showarrow": false,
          "text": "0",
          "x": "Flora",
          "xref": "x",
          "y": "Flora",
          "yref": "y"
         },
         {
          "showarrow": false,
          "text": "0",
          "x": "San José",
          "xref": "x",
          "y": "Flora",
          "yref": "y"
         },
         {
          "showarrow": false,
          "text": "1",
          "x": "Deméter/Ceres",
          "xref": "x",
          "y": "Flora",
          "yref": "y"
         },
         {
          "showarrow": false,
          "text": "0",
          "x": "San Juan Bautista",
          "xref": "x",
          "y": "Flora",
          "yref": "y"
         },
         {
          "showarrow": false,
          "text": "0",
          "x": "Ángel / ángeles",
          "xref": "x",
          "y": "Flora",
          "yref": "y"
         },
         {
          "showarrow": false,
          "text": "0",
          "x": "Dionisio / Baco",
          "xref": "x",
          "y": "Flora",
          "yref": "y"
         },
         {
          "showarrow": false,
          "text": "19",
          "x": "Virgen María",
          "xref": "x",
          "y": "San José",
          "yref": "y"
         },
         {
          "showarrow": false,
          "text": "20",
          "x": "Jesús",
          "xref": "x",
          "y": "San José",
          "yref": "y"
         },
         {
          "showarrow": false,
          "text": "0",
          "x": "Hera/Juno",
          "xref": "x",
          "y": "San José",
          "yref": "y"
         },
         {
          "showarrow": false,
          "text": "0",
          "x": "Afrodita/Venus",
          "xref": "x",
          "y": "San José",
          "yref": "y"
         },
         {
          "showarrow": false,
          "text": "0",
          "x": "Flora",
          "xref": "x",
          "y": "San José",
          "yref": "y"
         },
         {
          "showarrow": false,
          "text": "0",
          "x": "San José",
          "xref": "x",
          "y": "San José",
          "yref": "y"
         },
         {
          "showarrow": false,
          "text": "0",
          "x": "Deméter/Ceres",
          "xref": "x",
          "y": "San José",
          "yref": "y"
         },
         {
          "showarrow": false,
          "text": "5",
          "x": "San Juan Bautista",
          "xref": "x",
          "y": "San José",
          "yref": "y"
         },
         {
          "showarrow": false,
          "text": "7",
          "x": "Ángel / ángeles",
          "xref": "x",
          "y": "San José",
          "yref": "y"
         },
         {
          "showarrow": false,
          "text": "0",
          "x": "Dionisio / Baco",
          "xref": "x",
          "y": "San José",
          "yref": "y"
         },
         {
          "showarrow": false,
          "text": "0",
          "x": "Virgen María",
          "xref": "x",
          "y": "Deméter/Ceres",
          "yref": "y"
         },
         {
          "showarrow": false,
          "text": "0",
          "x": "Jesús",
          "xref": "x",
          "y": "Deméter/Ceres",
          "yref": "y"
         },
         {
          "showarrow": false,
          "text": "1",
          "x": "Hera/Juno",
          "xref": "x",
          "y": "Deméter/Ceres",
          "yref": "y"
         },
         {
          "showarrow": false,
          "text": "1",
          "x": "Afrodita/Venus",
          "xref": "x",
          "y": "Deméter/Ceres",
          "yref": "y"
         },
         {
          "showarrow": false,
          "text": "1",
          "x": "Flora",
          "xref": "x",
          "y": "Deméter/Ceres",
          "yref": "y"
         },
         {
          "showarrow": false,
          "text": "0",
          "x": "San José",
          "xref": "x",
          "y": "Deméter/Ceres",
          "yref": "y"
         },
         {
          "showarrow": false,
          "text": "0",
          "x": "Deméter/Ceres",
          "xref": "x",
          "y": "Deméter/Ceres",
          "yref": "y"
         },
         {
          "showarrow": false,
          "text": "0",
          "x": "San Juan Bautista",
          "xref": "x",
          "y": "Deméter/Ceres",
          "yref": "y"
         },
         {
          "showarrow": false,
          "text": "0",
          "x": "Ángel / ángeles",
          "xref": "x",
          "y": "Deméter/Ceres",
          "yref": "y"
         },
         {
          "showarrow": false,
          "text": "1",
          "x": "Dionisio / Baco",
          "xref": "x",
          "y": "Deméter/Ceres",
          "yref": "y"
         },
         {
          "showarrow": false,
          "text": "9",
          "x": "Virgen María",
          "xref": "x",
          "y": "San Juan Bautista",
          "yref": "y"
         },
         {
          "showarrow": false,
          "text": "9",
          "x": "Jesús",
          "xref": "x",
          "y": "San Juan Bautista",
          "yref": "y"
         },
         {
          "showarrow": false,
          "text": "0",
          "x": "Hera/Juno",
          "xref": "x",
          "y": "San Juan Bautista",
          "yref": "y"
         },
         {
          "showarrow": false,
          "text": "0",
          "x": "Afrodita/Venus",
          "xref": "x",
          "y": "San Juan Bautista",
          "yref": "y"
         },
         {
          "showarrow": false,
          "text": "0",
          "x": "Flora",
          "xref": "x",
          "y": "San Juan Bautista",
          "yref": "y"
         },
         {
          "showarrow": false,
          "text": "5",
          "x": "San José",
          "xref": "x",
          "y": "San Juan Bautista",
          "yref": "y"
         },
         {
          "showarrow": false,
          "text": "0",
          "x": "Deméter/Ceres",
          "xref": "x",
          "y": "San Juan Bautista",
          "yref": "y"
         },
         {
          "showarrow": false,
          "text": "0",
          "x": "San Juan Bautista",
          "xref": "x",
          "y": "San Juan Bautista",
          "yref": "y"
         },
         {
          "showarrow": false,
          "text": "2",
          "x": "Ángel / ángeles",
          "xref": "x",
          "y": "San Juan Bautista",
          "yref": "y"
         },
         {
          "showarrow": false,
          "text": "0",
          "x": "Dionisio / Baco",
          "xref": "x",
          "y": "San Juan Bautista",
          "yref": "y"
         },
         {
          "showarrow": false,
          "text": "21",
          "x": "Virgen María",
          "xref": "x",
          "y": "Ángel / ángeles",
          "yref": "y"
         },
         {
          "showarrow": false,
          "text": "16",
          "x": "Jesús",
          "xref": "x",
          "y": "Ángel / ángeles",
          "yref": "y"
         },
         {
          "showarrow": false,
          "text": "0",
          "x": "Hera/Juno",
          "xref": "x",
          "y": "Ángel / ángeles",
          "yref": "y"
         },
         {
          "showarrow": false,
          "text": "0",
          "x": "Afrodita/Venus",
          "xref": "x",
          "y": "Ángel / ángeles",
          "yref": "y"
         },
         {
          "showarrow": false,
          "text": "0",
          "x": "Flora",
          "xref": "x",
          "y": "Ángel / ángeles",
          "yref": "y"
         },
         {
          "showarrow": false,
          "text": "7",
          "x": "San José",
          "xref": "x",
          "y": "Ángel / ángeles",
          "yref": "y"
         },
         {
          "showarrow": false,
          "text": "0",
          "x": "Deméter/Ceres",
          "xref": "x",
          "y": "Ángel / ángeles",
          "yref": "y"
         },
         {
          "showarrow": false,
          "text": "2",
          "x": "San Juan Bautista",
          "xref": "x",
          "y": "Ángel / ángeles",
          "yref": "y"
         },
         {
          "showarrow": false,
          "text": "0",
          "x": "Ángel / ángeles",
          "xref": "x",
          "y": "Ángel / ángeles",
          "yref": "y"
         },
         {
          "showarrow": false,
          "text": "0",
          "x": "Dionisio / Baco",
          "xref": "x",
          "y": "Ángel / ángeles",
          "yref": "y"
         },
         {
          "showarrow": false,
          "text": "0",
          "x": "Virgen María",
          "xref": "x",
          "y": "Dionisio / Baco",
          "yref": "y"
         },
         {
          "showarrow": false,
          "text": "0",
          "x": "Jesús",
          "xref": "x",
          "y": "Dionisio / Baco",
          "yref": "y"
         },
         {
          "showarrow": false,
          "text": "0",
          "x": "Hera/Juno",
          "xref": "x",
          "y": "Dionisio / Baco",
          "yref": "y"
         },
         {
          "showarrow": false,
          "text": "0",
          "x": "Afrodita/Venus",
          "xref": "x",
          "y": "Dionisio / Baco",
          "yref": "y"
         },
         {
          "showarrow": false,
          "text": "0",
          "x": "Flora",
          "xref": "x",
          "y": "Dionisio / Baco",
          "yref": "y"
         },
         {
          "showarrow": false,
          "text": "0",
          "x": "San José",
          "xref": "x",
          "y": "Dionisio / Baco",
          "yref": "y"
         },
         {
          "showarrow": false,
          "text": "1",
          "x": "Deméter/Ceres",
          "xref": "x",
          "y": "Dionisio / Baco",
          "yref": "y"
         },
         {
          "showarrow": false,
          "text": "0",
          "x": "San Juan Bautista",
          "xref": "x",
          "y": "Dionisio / Baco",
          "yref": "y"
         },
         {
          "showarrow": false,
          "text": "0",
          "x": "Ángel / ángeles",
          "xref": "x",
          "y": "Dionisio / Baco",
          "yref": "y"
         },
         {
          "showarrow": false,
          "text": "0",
          "x": "Dionisio / Baco",
          "xref": "x",
          "y": "Dionisio / Baco",
          "yref": "y"
         }
        ],
        "coloraxis": {
         "colorbar": {
          "title": {
           "text": "Frecuencia"
          }
         },
         "colorscale": [
          [
           0,
           "#440154"
          ],
          [
           0.1111111111111111,
           "#482878"
          ],
          [
           0.2222222222222222,
           "#3e4989"
          ],
          [
           0.3333333333333333,
           "#31688e"
          ],
          [
           0.4444444444444444,
           "#26828e"
          ],
          [
           0.5555555555555556,
           "#1f9e89"
          ],
          [
           0.6666666666666666,
           "#35b779"
          ],
          [
           0.7777777777777778,
           "#6ece58"
          ],
          [
           0.8888888888888888,
           "#b5de2b"
          ],
          [
           1,
           "#fde725"
          ]
         ]
        },
        "height": 600,
        "template": {
         "data": {
          "bar": [
           {
            "error_x": {
             "color": "#2a3f5f"
            },
            "error_y": {
             "color": "#2a3f5f"
            },
            "marker": {
             "line": {
              "color": "#E5ECF6",
              "width": 0.5
             },
             "pattern": {
              "fillmode": "overlay",
              "size": 10,
              "solidity": 0.2
             }
            },
            "type": "bar"
           }
          ],
          "barpolar": [
           {
            "marker": {
             "line": {
              "color": "#E5ECF6",
              "width": 0.5
             },
             "pattern": {
              "fillmode": "overlay",
              "size": 10,
              "solidity": 0.2
             }
            },
            "type": "barpolar"
           }
          ],
          "carpet": [
           {
            "aaxis": {
             "endlinecolor": "#2a3f5f",
             "gridcolor": "white",
             "linecolor": "white",
             "minorgridcolor": "white",
             "startlinecolor": "#2a3f5f"
            },
            "baxis": {
             "endlinecolor": "#2a3f5f",
             "gridcolor": "white",
             "linecolor": "white",
             "minorgridcolor": "white",
             "startlinecolor": "#2a3f5f"
            },
            "type": "carpet"
           }
          ],
          "choropleth": [
           {
            "colorbar": {
             "outlinewidth": 0,
             "ticks": ""
            },
            "type": "choropleth"
           }
          ],
          "contour": [
           {
            "colorbar": {
             "outlinewidth": 0,
             "ticks": ""
            },
            "colorscale": [
             [
              0,
              "#0d0887"
             ],
             [
              0.1111111111111111,
              "#46039f"
             ],
             [
              0.2222222222222222,
              "#7201a8"
             ],
             [
              0.3333333333333333,
              "#9c179e"
             ],
             [
              0.4444444444444444,
              "#bd3786"
             ],
             [
              0.5555555555555556,
              "#d8576b"
             ],
             [
              0.6666666666666666,
              "#ed7953"
             ],
             [
              0.7777777777777778,
              "#fb9f3a"
             ],
             [
              0.8888888888888888,
              "#fdca26"
             ],
             [
              1,
              "#f0f921"
             ]
            ],
            "type": "contour"
           }
          ],
          "contourcarpet": [
           {
            "colorbar": {
             "outlinewidth": 0,
             "ticks": ""
            },
            "type": "contourcarpet"
           }
          ],
          "heatmap": [
           {
            "colorbar": {
             "outlinewidth": 0,
             "ticks": ""
            },
            "colorscale": [
             [
              0,
              "#0d0887"
             ],
             [
              0.1111111111111111,
              "#46039f"
             ],
             [
              0.2222222222222222,
              "#7201a8"
             ],
             [
              0.3333333333333333,
              "#9c179e"
             ],
             [
              0.4444444444444444,
              "#bd3786"
             ],
             [
              0.5555555555555556,
              "#d8576b"
             ],
             [
              0.6666666666666666,
              "#ed7953"
             ],
             [
              0.7777777777777778,
              "#fb9f3a"
             ],
             [
              0.8888888888888888,
              "#fdca26"
             ],
             [
              1,
              "#f0f921"
             ]
            ],
            "type": "heatmap"
           }
          ],
          "heatmapgl": [
           {
            "colorbar": {
             "outlinewidth": 0,
             "ticks": ""
            },
            "colorscale": [
             [
              0,
              "#0d0887"
             ],
             [
              0.1111111111111111,
              "#46039f"
             ],
             [
              0.2222222222222222,
              "#7201a8"
             ],
             [
              0.3333333333333333,
              "#9c179e"
             ],
             [
              0.4444444444444444,
              "#bd3786"
             ],
             [
              0.5555555555555556,
              "#d8576b"
             ],
             [
              0.6666666666666666,
              "#ed7953"
             ],
             [
              0.7777777777777778,
              "#fb9f3a"
             ],
             [
              0.8888888888888888,
              "#fdca26"
             ],
             [
              1,
              "#f0f921"
             ]
            ],
            "type": "heatmapgl"
           }
          ],
          "histogram": [
           {
            "marker": {
             "pattern": {
              "fillmode": "overlay",
              "size": 10,
              "solidity": 0.2
             }
            },
            "type": "histogram"
           }
          ],
          "histogram2d": [
           {
            "colorbar": {
             "outlinewidth": 0,
             "ticks": ""
            },
            "colorscale": [
             [
              0,
              "#0d0887"
             ],
             [
              0.1111111111111111,
              "#46039f"
             ],
             [
              0.2222222222222222,
              "#7201a8"
             ],
             [
              0.3333333333333333,
              "#9c179e"
             ],
             [
              0.4444444444444444,
              "#bd3786"
             ],
             [
              0.5555555555555556,
              "#d8576b"
             ],
             [
              0.6666666666666666,
              "#ed7953"
             ],
             [
              0.7777777777777778,
              "#fb9f3a"
             ],
             [
              0.8888888888888888,
              "#fdca26"
             ],
             [
              1,
              "#f0f921"
             ]
            ],
            "type": "histogram2d"
           }
          ],
          "histogram2dcontour": [
           {
            "colorbar": {
             "outlinewidth": 0,
             "ticks": ""
            },
            "colorscale": [
             [
              0,
              "#0d0887"
             ],
             [
              0.1111111111111111,
              "#46039f"
             ],
             [
              0.2222222222222222,
              "#7201a8"
             ],
             [
              0.3333333333333333,
              "#9c179e"
             ],
             [
              0.4444444444444444,
              "#bd3786"
             ],
             [
              0.5555555555555556,
              "#d8576b"
             ],
             [
              0.6666666666666666,
              "#ed7953"
             ],
             [
              0.7777777777777778,
              "#fb9f3a"
             ],
             [
              0.8888888888888888,
              "#fdca26"
             ],
             [
              1,
              "#f0f921"
             ]
            ],
            "type": "histogram2dcontour"
           }
          ],
          "mesh3d": [
           {
            "colorbar": {
             "outlinewidth": 0,
             "ticks": ""
            },
            "type": "mesh3d"
           }
          ],
          "parcoords": [
           {
            "line": {
             "colorbar": {
              "outlinewidth": 0,
              "ticks": ""
             }
            },
            "type": "parcoords"
           }
          ],
          "pie": [
           {
            "automargin": true,
            "type": "pie"
           }
          ],
          "scatter": [
           {
            "fillpattern": {
             "fillmode": "overlay",
             "size": 10,
             "solidity": 0.2
            },
            "type": "scatter"
           }
          ],
          "scatter3d": [
           {
            "line": {
             "colorbar": {
              "outlinewidth": 0,
              "ticks": ""
             }
            },
            "marker": {
             "colorbar": {
              "outlinewidth": 0,
              "ticks": ""
             }
            },
            "type": "scatter3d"
           }
          ],
          "scattercarpet": [
           {
            "marker": {
             "colorbar": {
              "outlinewidth": 0,
              "ticks": ""
             }
            },
            "type": "scattercarpet"
           }
          ],
          "scattergeo": [
           {
            "marker": {
             "colorbar": {
              "outlinewidth": 0,
              "ticks": ""
             }
            },
            "type": "scattergeo"
           }
          ],
          "scattergl": [
           {
            "marker": {
             "colorbar": {
              "outlinewidth": 0,
              "ticks": ""
             }
            },
            "type": "scattergl"
           }
          ],
          "scattermapbox": [
           {
            "marker": {
             "colorbar": {
              "outlinewidth": 0,
              "ticks": ""
             }
            },
            "type": "scattermapbox"
           }
          ],
          "scatterpolar": [
           {
            "marker": {
             "colorbar": {
              "outlinewidth": 0,
              "ticks": ""
             }
            },
            "type": "scatterpolar"
           }
          ],
          "scatterpolargl": [
           {
            "marker": {
             "colorbar": {
              "outlinewidth": 0,
              "ticks": ""
             }
            },
            "type": "scatterpolargl"
           }
          ],
          "scatterternary": [
           {
            "marker": {
             "colorbar": {
              "outlinewidth": 0,
              "ticks": ""
             }
            },
            "type": "scatterternary"
           }
          ],
          "surface": [
           {
            "colorbar": {
             "outlinewidth": 0,
             "ticks": ""
            },
            "colorscale": [
             [
              0,
              "#0d0887"
             ],
             [
              0.1111111111111111,
              "#46039f"
             ],
             [
              0.2222222222222222,
              "#7201a8"
             ],
             [
              0.3333333333333333,
              "#9c179e"
             ],
             [
              0.4444444444444444,
              "#bd3786"
             ],
             [
              0.5555555555555556,
              "#d8576b"
             ],
             [
              0.6666666666666666,
              "#ed7953"
             ],
             [
              0.7777777777777778,
              "#fb9f3a"
             ],
             [
              0.8888888888888888,
              "#fdca26"
             ],
             [
              1,
              "#f0f921"
             ]
            ],
            "type": "surface"
           }
          ],
          "table": [
           {
            "cells": {
             "fill": {
              "color": "#EBF0F8"
             },
             "line": {
              "color": "white"
             }
            },
            "header": {
             "fill": {
              "color": "#C8D4E3"
             },
             "line": {
              "color": "white"
             }
            },
            "type": "table"
           }
          ]
         },
         "layout": {
          "annotationdefaults": {
           "arrowcolor": "#2a3f5f",
           "arrowhead": 0,
           "arrowwidth": 1
          },
          "autotypenumbers": "strict",
          "coloraxis": {
           "colorbar": {
            "outlinewidth": 0,
            "ticks": ""
           }
          },
          "colorscale": {
           "diverging": [
            [
             0,
             "#8e0152"
            ],
            [
             0.1,
             "#c51b7d"
            ],
            [
             0.2,
             "#de77ae"
            ],
            [
             0.3,
             "#f1b6da"
            ],
            [
             0.4,
             "#fde0ef"
            ],
            [
             0.5,
             "#f7f7f7"
            ],
            [
             0.6,
             "#e6f5d0"
            ],
            [
             0.7,
             "#b8e186"
            ],
            [
             0.8,
             "#7fbc41"
            ],
            [
             0.9,
             "#4d9221"
            ],
            [
             1,
             "#276419"
            ]
           ],
           "sequential": [
            [
             0,
             "#0d0887"
            ],
            [
             0.1111111111111111,
             "#46039f"
            ],
            [
             0.2222222222222222,
             "#7201a8"
            ],
            [
             0.3333333333333333,
             "#9c179e"
            ],
            [
             0.4444444444444444,
             "#bd3786"
            ],
            [
             0.5555555555555556,
             "#d8576b"
            ],
            [
             0.6666666666666666,
             "#ed7953"
            ],
            [
             0.7777777777777778,
             "#fb9f3a"
            ],
            [
             0.8888888888888888,
             "#fdca26"
            ],
            [
             1,
             "#f0f921"
            ]
           ],
           "sequentialminus": [
            [
             0,
             "#0d0887"
            ],
            [
             0.1111111111111111,
             "#46039f"
            ],
            [
             0.2222222222222222,
             "#7201a8"
            ],
            [
             0.3333333333333333,
             "#9c179e"
            ],
            [
             0.4444444444444444,
             "#bd3786"
            ],
            [
             0.5555555555555556,
             "#d8576b"
            ],
            [
             0.6666666666666666,
             "#ed7953"
            ],
            [
             0.7777777777777778,
             "#fb9f3a"
            ],
            [
             0.8888888888888888,
             "#fdca26"
            ],
            [
             1,
             "#f0f921"
            ]
           ]
          },
          "colorway": [
           "#636efa",
           "#EF553B",
           "#00cc96",
           "#ab63fa",
           "#FFA15A",
           "#19d3f3",
           "#FF6692",
           "#B6E880",
           "#FF97FF",
           "#FECB52"
          ],
          "font": {
           "color": "#2a3f5f"
          },
          "geo": {
           "bgcolor": "white",
           "lakecolor": "white",
           "landcolor": "#E5ECF6",
           "showlakes": true,
           "showland": true,
           "subunitcolor": "white"
          },
          "hoverlabel": {
           "align": "left"
          },
          "hovermode": "closest",
          "mapbox": {
           "style": "light"
          },
          "paper_bgcolor": "white",
          "plot_bgcolor": "#E5ECF6",
          "polar": {
           "angularaxis": {
            "gridcolor": "white",
            "linecolor": "white",
            "ticks": ""
           },
           "bgcolor": "#E5ECF6",
           "radialaxis": {
            "gridcolor": "white",
            "linecolor": "white",
            "ticks": ""
           }
          },
          "scene": {
           "xaxis": {
            "backgroundcolor": "#E5ECF6",
            "gridcolor": "white",
            "gridwidth": 2,
            "linecolor": "white",
            "showbackground": true,
            "ticks": "",
            "zerolinecolor": "white"
           },
           "yaxis": {
            "backgroundcolor": "#E5ECF6",
            "gridcolor": "white",
            "gridwidth": 2,
            "linecolor": "white",
            "showbackground": true,
            "ticks": "",
            "zerolinecolor": "white"
           },
           "zaxis": {
            "backgroundcolor": "#E5ECF6",
            "gridcolor": "white",
            "gridwidth": 2,
            "linecolor": "white",
            "showbackground": true,
            "ticks": "",
            "zerolinecolor": "white"
           }
          },
          "shapedefaults": {
           "line": {
            "color": "#2a3f5f"
           }
          },
          "ternary": {
           "aaxis": {
            "gridcolor": "white",
            "linecolor": "white",
            "ticks": ""
           },
           "baxis": {
            "gridcolor": "white",
            "linecolor": "white",
            "ticks": ""
           },
           "bgcolor": "#E5ECF6",
           "caxis": {
            "gridcolor": "white",
            "linecolor": "white",
            "ticks": ""
           }
          },
          "title": {
           "x": 0.05
          },
          "xaxis": {
           "automargin": true,
           "gridcolor": "white",
           "linecolor": "white",
           "ticks": "",
           "title": {
            "standoff": 15
           },
           "zerolinecolor": "white",
           "zerolinewidth": 2
          },
          "yaxis": {
           "automargin": true,
           "gridcolor": "white",
           "linecolor": "white",
           "ticks": "",
           "title": {
            "standoff": 15
           },
           "zerolinecolor": "white",
           "zerolinewidth": 2
          }
         }
        },
        "title": {
         "text": "Mapa de Correlaciones entre los 10 Personajes Más Comunes"
        },
        "width": 800,
        "xaxis": {
         "anchor": "y",
         "constrain": "domain",
         "domain": [
          0,
          1
         ],
         "scaleanchor": "y",
         "title": {
          "text": "Personaje 1"
         }
        },
        "yaxis": {
         "anchor": "x",
         "autorange": "reversed",
         "constrain": "domain",
         "domain": [
          0,
          1
         ],
         "title": {
          "text": "Personaje 2"
         }
        }
       }
      }
     },
     "metadata": {},
     "output_type": "display_data"
    }
   ],
   "source": [
    "# Creamos la matriz de correlaciones\n",
    "correlation_matrix = pd.DataFrame(0, index=personajes_comunes, columns=personajes_comunes)\n",
    "\n",
    "for personajes_en_obra in titulo_personajes['Personajes_en_obra']:\n",
    "    for i in range(len(personajes_en_obra)):\n",
    "        for j in range(i + 1, len(personajes_en_obra)):\n",
    "            personaje1 = personajes_en_obra[i]\n",
    "            personaje2 = personajes_en_obra[j]\n",
    "\n",
    "            correlation_matrix.at[personaje1, personaje2] += 1\n",
    "            correlation_matrix.at[personaje2, personaje1] += 1\n",
    "\n",
    "# Convertimos la matriz a un formato adecuado para Plotly\n",
    "correlation_matrix_plotly = correlation_matrix.unstack().reset_index()\n",
    "correlation_matrix_plotly.columns = ['Personaje1', 'Personaje2', 'Frecuencia']\n",
    "\n",
    "# Creamos el heatmap interactivo con Plotly Express\n",
    "fig = px.imshow(correlation_matrix.values,\n",
    "                x=personajes_comunes,\n",
    "                y=personajes_comunes,\n",
    "                labels=dict(x=\"Personaje 1\", y=\"Personaje 2\", color=\"Frecuencia\"),\n",
    "                title='Mapa de Correlaciones entre los 10 Personajes Más Comunes',\n",
    "                color_continuous_scale=\"Viridis\",\n",
    "                width=800, height=600)\n",
    "\n",
    "print(correlation_matrix.values)\n",
    "\n",
    "# Añadimos el texto de frecuencia a la matriz de correlaciones\n",
    "annotations = []\n",
    "for i, row in enumerate(correlation_matrix.values):\n",
    "    for j, value in enumerate(row):\n",
    "        annotations.append(dict(text=str(value), x=personajes_comunes[j], y=personajes_comunes[i],\n",
    "                                xref='x1', yref='y1', showarrow=False))\n",
    "\n",
    "fig.update_layout(annotations=annotations)\n",
    "\n",
    "\n",
    "# Mostramos la figura\n",
    "fig.show()"
   ]
  },
  {
   "cell_type": "markdown",
   "id": "4df9bfb0",
   "metadata": {},
   "source": [
    "Como puede verse, este mapa de calor proporciona una representación gráfica de las relaciones y frecuencias entre los personajes, con colores y números que permiten una interpretación visual de las asociaciones más fuertes o frecuentes.\n",
    "\n",
    "En términos de conclusiones, los valores en la diagonal de la matriz reflejan la frecuencia individual de aparición de cada personaje, mientras que los valores fuera de la diagonal indican cuántas veces dos personajes específicos comparten espacio en una obra. Además, los colores nos permiten inferir como de fuerte es este vínculo entre dos personajes."
   ]
  },
  {
   "cell_type": "markdown",
   "id": "8ea6a57a",
   "metadata": {},
   "source": [
    "# Análisis de personajes según las escuelas"
   ]
  },
  {
   "cell_type": "markdown",
   "id": "4261a059",
   "metadata": {},
   "source": [
    "La rica diversidad de las escuelas artísticas ha desempeñado un papel crucial en la evolución del arte a lo largo de la historia. En este contexto, la representación de personajes en las obras de arte se presenta como un fascinante objeto de estudio."
   ]
  },
  {
   "cell_type": "markdown",
   "id": "e5c23b0f",
   "metadata": {},
   "source": [
    "Me propongo ahora llevar a cabo un estudio sobre la representación de personajes en obras de diferentes escuelas artísticas. El objetivo principal de esta investigación es analizar cómo la presencia de ciertos personajes específicos varía según las distintas escuelas artísticas. \n",
    "\n",
    "Para ello, exploraré la distribución y frecuencia de estos personajes en diversas escuelas, con el fin de identificar patrones, preferencias y cambios temáticos que puedan estar vinculados a movimientos artísticos específicos. Este análisis permitirá arrojar luz sobre la relación entre la elección de personajes y las características estilísticas y temáticas distintivas de cada escuela artística."
   ]
  },
  {
   "cell_type": "code",
   "execution_count": null,
   "id": "30540ab9",
   "metadata": {},
   "outputs": [],
   "source": [
    "personajes_escuela = obras_completo[['Personajes', 'Escuela', 'Año_rango']]"
   ]
  },
  {
   "cell_type": "code",
   "execution_count": null,
   "id": "51745d6c",
   "metadata": {},
   "outputs": [],
   "source": [
    "personajes_escuela = personajes_escuela[personajes_escuela['Personajes'] != 'Desconocidos'] #Elimino las filas en las que el personajes es deconocido.\n",
    "personajes_escuela = personajes_escuela.reset_index(drop=True)"
   ]
  },
  {
   "cell_type": "code",
   "execution_count": null,
   "id": "7ef27538",
   "metadata": {},
   "outputs": [],
   "source": [
    "personajes_escuela = personajes_escuela[personajes_escuela['Escuela'] != 'Desconocida'] #Elimino las filas en las que la Escuela es desconocida.\n",
    "personajes_escuela = personajes_escuela.reset_index(drop=True)"
   ]
  },
  {
   "cell_type": "code",
   "execution_count": null,
   "id": "8d9a7a2e",
   "metadata": {},
   "outputs": [
    {
     "data": {
      "text/html": [
       "<div>\n",
       "<style scoped>\n",
       "    .dataframe tbody tr th:only-of-type {\n",
       "        vertical-align: middle;\n",
       "    }\n",
       "\n",
       "    .dataframe tbody tr th {\n",
       "        vertical-align: top;\n",
       "    }\n",
       "\n",
       "    .dataframe thead th {\n",
       "        text-align: right;\n",
       "    }\n",
       "</style>\n",
       "<table border=\"1\" class=\"dataframe\">\n",
       "  <thead>\n",
       "    <tr style=\"text-align: right;\">\n",
       "      <th></th>\n",
       "      <th>Personajes</th>\n",
       "      <th>Escuela</th>\n",
       "      <th>Año_rango</th>\n",
       "    </tr>\n",
       "  </thead>\n",
       "  <tbody>\n",
       "    <tr>\n",
       "      <th>0</th>\n",
       "      <td>Virgen María</td>\n",
       "      <td>Española</td>\n",
       "      <td>1401 - 1600</td>\n",
       "    </tr>\n",
       "    <tr>\n",
       "      <th>1</th>\n",
       "      <td>Virgen María</td>\n",
       "      <td>Española</td>\n",
       "      <td>1601 - 1800</td>\n",
       "    </tr>\n",
       "    <tr>\n",
       "      <th>2</th>\n",
       "      <td>Virgen María</td>\n",
       "      <td>Española</td>\n",
       "      <td>1601 - 1800</td>\n",
       "    </tr>\n",
       "    <tr>\n",
       "      <th>3</th>\n",
       "      <td>Virgen María</td>\n",
       "      <td>Española</td>\n",
       "      <td>1601 - 1800</td>\n",
       "    </tr>\n",
       "    <tr>\n",
       "      <th>4</th>\n",
       "      <td>Virgen María</td>\n",
       "      <td>Española</td>\n",
       "      <td>1601 - 1800</td>\n",
       "    </tr>\n",
       "  </tbody>\n",
       "</table>\n",
       "</div>"
      ],
      "text/plain": [
       "     Personajes   Escuela    Año_rango\n",
       "0  Virgen María  Española  1401 - 1600\n",
       "1  Virgen María  Española  1601 - 1800\n",
       "2  Virgen María  Española  1601 - 1800\n",
       "3  Virgen María  Española  1601 - 1800\n",
       "4  Virgen María  Española  1601 - 1800"
      ]
     },
     "execution_count": 123,
     "metadata": {},
     "output_type": "execute_result"
    }
   ],
   "source": [
    "personajes_escuela.head()"
   ]
  },
  {
   "cell_type": "code",
   "execution_count": null,
   "id": "fb6300cc",
   "metadata": {},
   "outputs": [
    {
     "data": {
      "text/plain": [
       "array(['Española', 'Flamenca', 'Italiana', 'Hispano-cartaginesa',\n",
       "       'Italiana ; Veneciana', 'Castellana ; Española', 'Francesa',\n",
       "       'Alemana', 'Española ; Madrileña', 'Italiana ; Napolitana',\n",
       "       'Boloñesa ; Italiana', 'Hispano-flamenca', 'Española ; Valenciana',\n",
       "       'Inglesa', 'Sueca', 'Castellana ; Española ; Toledana',\n",
       "       'Francesa ; Italiana ; Milanesa', 'Púnica'], dtype=object)"
      ]
     },
     "execution_count": 124,
     "metadata": {},
     "output_type": "execute_result"
    }
   ],
   "source": [
    "personajes_escuela['Escuela'].unique()"
   ]
  },
  {
   "cell_type": "markdown",
   "id": "770b42c9",
   "metadata": {},
   "source": [
    "Procedo ahora a aplicar el mismo proceso que había hecho al comienzo con los diferentes elementos iconográficos:"
   ]
  },
  {
   "cell_type": "code",
   "execution_count": null,
   "id": "4e82002b",
   "metadata": {},
   "outputs": [],
   "source": [
    "personajes_escuela['Escuela'] = personajes_escuela['Escuela'].str.split(';')"
   ]
  },
  {
   "cell_type": "code",
   "execution_count": null,
   "id": "8cce3e70",
   "metadata": {},
   "outputs": [],
   "source": [
    "personajes_escuela = personajes_escuela.explode('Escuela')\n",
    "\n",
    "personajes_escuela = personajes_escuela.reset_index(drop=True)"
   ]
  },
  {
   "cell_type": "code",
   "execution_count": null,
   "id": "b790fcf7",
   "metadata": {},
   "outputs": [],
   "source": [
    "personajes_escuela['Escuela'] = personajes_escuela['Escuela'].str.strip()"
   ]
  },
  {
   "cell_type": "code",
   "execution_count": null,
   "id": "1c0779ec",
   "metadata": {},
   "outputs": [
    {
     "data": {
      "text/plain": [
       "array(['Española', 'Flamenca', 'Italiana', 'Hispano-cartaginesa',\n",
       "       'Veneciana', 'Castellana', 'Francesa', 'Alemana', 'Madrileña',\n",
       "       'Napolitana', 'Boloñesa', 'Hispano-flamenca', 'Valenciana',\n",
       "       'Inglesa', 'Sueca', 'Toledana', 'Milanesa', 'Púnica'], dtype=object)"
      ]
     },
     "execution_count": 128,
     "metadata": {},
     "output_type": "execute_result"
    }
   ],
   "source": [
    "personajes_escuela['Escuela'].unique()"
   ]
  },
  {
   "cell_type": "markdown",
   "id": "d3a3c1cd",
   "metadata": {},
   "source": [
    "A continuación, busco simplificar la estructura del análisis, focalizándonos en las corrientes artísticas más prominentes. Para ello, llevaré a cabo la unificación de las diversas escuelas artísticas, considerando la relación de \"escuela-subescuela\" entre las mismas. Optaré por consolidar únicamente las escuelas más amplias que, a su vez, engloban a las subescuelas correspondientes."
   ]
  },
  {
   "cell_type": "code",
   "execution_count": null,
   "id": "999457b4",
   "metadata": {},
   "outputs": [],
   "source": [
    "def modificar_escuela(escuela):\n",
    "    if pd.notna(escuela):\n",
    "        escuela = str(escuela)  # Convertir a cadena si no es nulo\n",
    "        if 'Veneciana' in escuela:\n",
    "            return 'Italiana'\n",
    "        elif 'Castellana' in escuela:\n",
    "            return 'Española'\n",
    "        elif 'Valenciana' in escuela:\n",
    "            return 'Española'\n",
    "        elif 'Napolitana' in escuela:\n",
    "            return 'Italiana'\n",
    "        elif 'Boloñesa' in escuela:\n",
    "            return 'Italiana'\n",
    "        elif 'Madrileña' in escuela:\n",
    "            return 'Española'\n",
    "        elif 'Florentina' in escuela:\n",
    "            return 'Italiana'\n",
    "        elif 'Toledana' in escuela:\n",
    "            return 'Española'\n",
    "        elif 'Milanesa' in escuela:\n",
    "            return 'Italiana'\n",
    "    \n",
    "    return escuela\n",
    "\n",
    "personajes_escuela['Escuela'] = personajes_escuela['Escuela'].apply(modificar_escuela)"
   ]
  },
  {
   "cell_type": "markdown",
   "id": "3fa9cb06",
   "metadata": {},
   "source": [
    "Me parece en este caso también interesante hacer una tabla de contingencia, pues es una herramienta muy buena, al tratarse de una estructura ordenada y cuantitativa que facilita la interpretación, para explorar y entender las relaciones entre las diferentes variables categóricas que queremos estudiar."
   ]
  },
  {
   "cell_type": "code",
   "execution_count": null,
   "id": "6b88d811",
   "metadata": {},
   "outputs": [
    {
     "data": {
      "text/html": [
       "<div>\n",
       "<style scoped>\n",
       "    .dataframe tbody tr th:only-of-type {\n",
       "        vertical-align: middle;\n",
       "    }\n",
       "\n",
       "    .dataframe tbody tr th {\n",
       "        vertical-align: top;\n",
       "    }\n",
       "\n",
       "    .dataframe thead th {\n",
       "        text-align: right;\n",
       "    }\n",
       "</style>\n",
       "<table border=\"1\" class=\"dataframe\">\n",
       "  <thead>\n",
       "    <tr style=\"text-align: right;\">\n",
       "      <th>Escuela</th>\n",
       "      <th>Alemana</th>\n",
       "      <th>Española</th>\n",
       "      <th>Flamenca</th>\n",
       "      <th>Francesa</th>\n",
       "      <th>Hispano-cartaginesa</th>\n",
       "      <th>Hispano-flamenca</th>\n",
       "      <th>Inglesa</th>\n",
       "      <th>Italiana</th>\n",
       "      <th>Púnica</th>\n",
       "      <th>Sueca</th>\n",
       "    </tr>\n",
       "    <tr>\n",
       "      <th>Personajes</th>\n",
       "      <th></th>\n",
       "      <th></th>\n",
       "      <th></th>\n",
       "      <th></th>\n",
       "      <th></th>\n",
       "      <th></th>\n",
       "      <th></th>\n",
       "      <th></th>\n",
       "      <th></th>\n",
       "      <th></th>\n",
       "    </tr>\n",
       "  </thead>\n",
       "  <tbody>\n",
       "    <tr>\n",
       "      <th>Adonis</th>\n",
       "      <td>0</td>\n",
       "      <td>14</td>\n",
       "      <td>0</td>\n",
       "      <td>0</td>\n",
       "      <td>0</td>\n",
       "      <td>0</td>\n",
       "      <td>0</td>\n",
       "      <td>4</td>\n",
       "      <td>0</td>\n",
       "      <td>0</td>\n",
       "    </tr>\n",
       "    <tr>\n",
       "      <th>Adán</th>\n",
       "      <td>0</td>\n",
       "      <td>4</td>\n",
       "      <td>3</td>\n",
       "      <td>0</td>\n",
       "      <td>0</td>\n",
       "      <td>0</td>\n",
       "      <td>0</td>\n",
       "      <td>4</td>\n",
       "      <td>0</td>\n",
       "      <td>0</td>\n",
       "    </tr>\n",
       "    <tr>\n",
       "      <th>Afrodita/Venus</th>\n",
       "      <td>0</td>\n",
       "      <td>76</td>\n",
       "      <td>684</td>\n",
       "      <td>0</td>\n",
       "      <td>0</td>\n",
       "      <td>0</td>\n",
       "      <td>0</td>\n",
       "      <td>84</td>\n",
       "      <td>0</td>\n",
       "      <td>0</td>\n",
       "    </tr>\n",
       "    <tr>\n",
       "      <th>Aglae</th>\n",
       "      <td>0</td>\n",
       "      <td>0</td>\n",
       "      <td>4</td>\n",
       "      <td>13</td>\n",
       "      <td>0</td>\n",
       "      <td>0</td>\n",
       "      <td>0</td>\n",
       "      <td>0</td>\n",
       "      <td>0</td>\n",
       "      <td>0</td>\n",
       "    </tr>\n",
       "    <tr>\n",
       "      <th>Alberto de Austria</th>\n",
       "      <td>0</td>\n",
       "      <td>0</td>\n",
       "      <td>136</td>\n",
       "      <td>0</td>\n",
       "      <td>0</td>\n",
       "      <td>0</td>\n",
       "      <td>0</td>\n",
       "      <td>0</td>\n",
       "      <td>0</td>\n",
       "      <td>0</td>\n",
       "    </tr>\n",
       "    <tr>\n",
       "      <th>...</th>\n",
       "      <td>...</td>\n",
       "      <td>...</td>\n",
       "      <td>...</td>\n",
       "      <td>...</td>\n",
       "      <td>...</td>\n",
       "      <td>...</td>\n",
       "      <td>...</td>\n",
       "      <td>...</td>\n",
       "      <td>...</td>\n",
       "      <td>...</td>\n",
       "    </tr>\n",
       "    <tr>\n",
       "      <th>Tudor, María</th>\n",
       "      <td>0</td>\n",
       "      <td>0</td>\n",
       "      <td>4</td>\n",
       "      <td>0</td>\n",
       "      <td>0</td>\n",
       "      <td>0</td>\n",
       "      <td>0</td>\n",
       "      <td>0</td>\n",
       "      <td>0</td>\n",
       "      <td>0</td>\n",
       "    </tr>\n",
       "    <tr>\n",
       "      <th>Virgen María</th>\n",
       "      <td>0</td>\n",
       "      <td>467</td>\n",
       "      <td>2240</td>\n",
       "      <td>46</td>\n",
       "      <td>0</td>\n",
       "      <td>3</td>\n",
       "      <td>0</td>\n",
       "      <td>54</td>\n",
       "      <td>0</td>\n",
       "      <td>0</td>\n",
       "    </tr>\n",
       "    <tr>\n",
       "      <th>Vázquez de la Varga, Pura</th>\n",
       "      <td>0</td>\n",
       "      <td>2</td>\n",
       "      <td>0</td>\n",
       "      <td>0</td>\n",
       "      <td>0</td>\n",
       "      <td>0</td>\n",
       "      <td>0</td>\n",
       "      <td>0</td>\n",
       "      <td>0</td>\n",
       "      <td>0</td>\n",
       "    </tr>\n",
       "    <tr>\n",
       "      <th>Ángel / ángeles</th>\n",
       "      <td>0</td>\n",
       "      <td>332</td>\n",
       "      <td>51</td>\n",
       "      <td>4</td>\n",
       "      <td>0</td>\n",
       "      <td>0</td>\n",
       "      <td>0</td>\n",
       "      <td>30</td>\n",
       "      <td>0</td>\n",
       "      <td>0</td>\n",
       "    </tr>\n",
       "    <tr>\n",
       "      <th>Ángeles Ortiz, Manuel</th>\n",
       "      <td>0</td>\n",
       "      <td>2</td>\n",
       "      <td>0</td>\n",
       "      <td>0</td>\n",
       "      <td>0</td>\n",
       "      <td>0</td>\n",
       "      <td>0</td>\n",
       "      <td>0</td>\n",
       "      <td>0</td>\n",
       "      <td>0</td>\n",
       "    </tr>\n",
       "  </tbody>\n",
       "</table>\n",
       "<p>139 rows × 10 columns</p>\n",
       "</div>"
      ],
      "text/plain": [
       "Escuela                    Alemana  Española  Flamenca  Francesa  \\\n",
       "Personajes                                                         \n",
       "Adonis                           0        14         0         0   \n",
       "Adán                             0         4         3         0   \n",
       "Afrodita/Venus                   0        76       684         0   \n",
       "Aglae                            0         0         4        13   \n",
       "Alberto de Austria               0         0       136         0   \n",
       "...                            ...       ...       ...       ...   \n",
       "Tudor, María                     0         0         4         0   \n",
       "Virgen María                     0       467      2240        46   \n",
       "Vázquez de la Varga, Pura        0         2         0         0   \n",
       "Ángel / ángeles                  0       332        51         4   \n",
       "Ángeles Ortiz, Manuel            0         2         0         0   \n",
       "\n",
       "Escuela                    Hispano-cartaginesa  Hispano-flamenca  Inglesa  \\\n",
       "Personajes                                                                  \n",
       "Adonis                                       0                 0        0   \n",
       "Adán                                         0                 0        0   \n",
       "Afrodita/Venus                               0                 0        0   \n",
       "Aglae                                        0                 0        0   \n",
       "Alberto de Austria                           0                 0        0   \n",
       "...                                        ...               ...      ...   \n",
       "Tudor, María                                 0                 0        0   \n",
       "Virgen María                                 0                 3        0   \n",
       "Vázquez de la Varga, Pura                    0                 0        0   \n",
       "Ángel / ángeles                              0                 0        0   \n",
       "Ángeles Ortiz, Manuel                        0                 0        0   \n",
       "\n",
       "Escuela                    Italiana  Púnica  Sueca  \n",
       "Personajes                                          \n",
       "Adonis                            4       0      0  \n",
       "Adán                              4       0      0  \n",
       "Afrodita/Venus                   84       0      0  \n",
       "Aglae                             0       0      0  \n",
       "Alberto de Austria                0       0      0  \n",
       "...                             ...     ...    ...  \n",
       "Tudor, María                      0       0      0  \n",
       "Virgen María                     54       0      0  \n",
       "Vázquez de la Varga, Pura         0       0      0  \n",
       "Ángel / ángeles                  30       0      0  \n",
       "Ángeles Ortiz, Manuel             0       0      0  \n",
       "\n",
       "[139 rows x 10 columns]"
      ]
     },
     "execution_count": 130,
     "metadata": {},
     "output_type": "execute_result"
    }
   ],
   "source": [
    "tabla_contingencia_personajes_escuela = pd.crosstab(personajes_escuela['Personajes'], personajes_escuela['Escuela'])\n",
    "tabla_contingencia_personajes_escuela"
   ]
  },
  {
   "cell_type": "code",
   "execution_count": null,
   "id": "e1b44ed4",
   "metadata": {},
   "outputs": [
    {
     "data": {
      "text/plain": [
       "(12956, 3)"
      ]
     },
     "execution_count": 131,
     "metadata": {},
     "output_type": "execute_result"
    }
   ],
   "source": [
    "personajes_escuela.shape"
   ]
  },
  {
   "cell_type": "markdown",
   "id": "93704d7b",
   "metadata": {},
   "source": [
    "Tras la creación de la tabla de contingencia, me dispongo a identificar los personajes que predominan en cada \"Escuela\"."
   ]
  },
  {
   "cell_type": "code",
   "execution_count": null,
   "id": "be6c8bb2",
   "metadata": {},
   "outputs": [
    {
     "data": {
      "text/plain": [
       "Personajes\n",
       "Adonis                       Española\n",
       "Adán                         Española\n",
       "Afrodita/Venus               Flamenca\n",
       "Aglae                        Francesa\n",
       "Alberto de Austria           Flamenca\n",
       "                               ...   \n",
       "Tudor, María                 Flamenca\n",
       "Virgen María                 Flamenca\n",
       "Vázquez de la Varga, Pura    Española\n",
       "Ángel / ángeles              Española\n",
       "Ángeles Ortiz, Manuel        Española\n",
       "Length: 139, dtype: object"
      ]
     },
     "execution_count": 132,
     "metadata": {},
     "output_type": "execute_result"
    }
   ],
   "source": [
    "personajes_mas_comunes_escuela = tabla_contingencia_personajes_escuela.idxmax(axis=1)\n",
    "personajes_mas_comunes_escuela"
   ]
  },
  {
   "cell_type": "code",
   "execution_count": null,
   "id": "a1240610",
   "metadata": {},
   "outputs": [
    {
     "name": "stdout",
     "output_type": "stream",
     "text": [
      "Personaje más común: Virgen María\n"
     ]
    }
   ],
   "source": [
    "total_por_personaje_escuela = tabla_contingencia_personajes_escuela.sum(axis=1)\n",
    "\n",
    "personaje_mas_comun_escuela = total_por_personaje_escuela .idxmax()\n",
    "print(\"Personaje más común:\", personaje_mas_comun_escuela)"
   ]
  },
  {
   "cell_type": "code",
   "execution_count": null,
   "id": "661636d8",
   "metadata": {},
   "outputs": [
    {
     "name": "stdout",
     "output_type": "stream",
     "text": [
      "Escuela más común para Virgen María : Flamenca\n"
     ]
    }
   ],
   "source": [
    "datos_personaje_mas_comun_escuela = personajes_escuela[personajes_escuela['Personajes'] == personaje_mas_comun_escuela]\n",
    "\n",
    "escuela_mas_comun = datos_personaje_mas_comun_escuela['Escuela'].value_counts().idxmax()\n",
    "print(\"Escuela más común para\", personaje_mas_comun_escuela, \":\", escuela_mas_comun)"
   ]
  },
  {
   "cell_type": "code",
   "execution_count": null,
   "id": "a0967706",
   "metadata": {},
   "outputs": [
    {
     "name": "stdout",
     "output_type": "stream",
     "text": [
      "Escuela más común para Virgen María: Flamenca\n",
      "Escuela más común para Jesús: Flamenca\n",
      "Escuela más común para Hera/Juno: Flamenca\n",
      "Escuela más común para Afrodita/Venus: Flamenca\n",
      "Escuela más común para Flora: Flamenca\n",
      "Escuela más común para San José: Flamenca\n",
      "Escuela más común para Deméter/Ceres: Flamenca\n",
      "Escuela más común para San Juan Bautista: Flamenca\n",
      "Escuela más común para Ángel / ángeles: Española\n",
      "Escuela más común para Dionisio / Baco: Española\n"
     ]
    }
   ],
   "source": [
    "personajes_mas_comunes_escuela = personajes_escuela['Personajes'].value_counts().nlargest(10).index\n",
    "\n",
    "for personaje in personajes_mas_comunes_escuela:\n",
    "    datos_personaje_escuela = personajes_escuela[personajes_escuela['Personajes'] == personaje]\n",
    "    escuela_mas_comun = datos_personaje_escuela['Escuela'].value_counts().idxmax()\n",
    "    print(f\"Escuela más común para {personaje}: {escuela_mas_comun}\")"
   ]
  },
  {
   "cell_type": "code",
   "execution_count": null,
   "id": "63650d86",
   "metadata": {},
   "outputs": [
    {
     "data": {
      "image/png": "[encoded data removed]",
      "text/plain": [
       "<Figure size 1600x800 with 2 Axes>"
      ]
     },
     "metadata": {},
     "output_type": "display_data"
    }
   ],
   "source": [
    "diez_personajes_mas_comunes = personajes_escuela['Personajes'].value_counts().nlargest(10).index\n",
    "\n",
    "df_personajes_comunes = personajes_escuela[personajes_escuela['Personajes'].isin(diez_personajes_mas_comunes)]\n",
    "\n",
    "# Se cuenta la frecuencia:\n",
    "tabla_contingencia_personajes_escuela = pd.crosstab(df_personajes_comunes['Personajes'], df_personajes_comunes['Escuela'])\n",
    "\n",
    "plt.figure(figsize=(16, 8))\n",
    "sns.heatmap(tabla_contingencia_personajes_escuela, cmap='Blues', annot=True, fmt='d', cbar_kws={'label': 'Frecuencia'})\n",
    "plt.title('Distribución de 10 Personajes Más Comunes por Escuela')\n",
    "plt.xlabel('Escuela')\n",
    "plt.ylabel('Personajes')\n",
    "plt.show()"
   ]
  },
  {
   "cell_type": "markdown",
   "id": "6ee8b38f",
   "metadata": {},
   "source": [
    "Me propongo visualizar la frecuencia de los diez personajes más comunes y su aparición en las diferentes escuelas artísticas a través de un gráfico de barras. \n",
    "\n",
    "Esta representación gráfica permitirá una comprensión visual inmediata de cómo se distribuyen los personajes en las distintas escuelas artísticas."
   ]
  },
  {
   "cell_type": "code",
   "execution_count": null,
   "id": "e8dba79b",
   "metadata": {},
   "outputs": [
    {
     "data": {
      "image/png": "[encoded data removed]",
      "text/plain": [
       "<Figure size 1600x800 with 1 Axes>"
      ]
     },
     "metadata": {},
     "output_type": "display_data"
    }
   ],
   "source": [
    "colores_blues_oscuros = sns.color_palette(\"Blues_d\", 10)\n",
    "\n",
    "# Gráfico de barras para la relación entre 'Personajes' y 'Escuela' con barras más anchas y colores más oscuros\n",
    "plt.figure(figsize=(16, 8))\n",
    "sns.countplot(x='Personajes', hue='Escuela', data=df_personajes_comunes, palette=colores_blues_oscuros, saturation=0.75, width=1.5)\n",
    "plt.title('Frecuencia de los 10 Personajes Más Comunes por Escuela')\n",
    "plt.xlabel('Personajes')\n",
    "plt.ylabel('Frecuencia')\n",
    "plt.legend(title='Escuela', bbox_to_anchor=(1, 1))\n",
    "plt.show()"
   ]
  },
  {
   "cell_type": "markdown",
   "id": "307eb107",
   "metadata": {},
   "source": [
    "# Creación de tablas para Streamlit"
   ]
  },
  {
   "cell_type": "code",
   "execution_count": null,
   "id": "0f5e2390",
   "metadata": {},
   "outputs": [
    {
     "data": {
      "text/html": [
       "<div>\n",
       "<style scoped>\n",
       "    .dataframe tbody tr th:only-of-type {\n",
       "        vertical-align: middle;\n",
       "    }\n",
       "\n",
       "    .dataframe tbody tr th {\n",
       "        vertical-align: top;\n",
       "    }\n",
       "\n",
       "    .dataframe thead th {\n",
       "        text-align: right;\n",
       "    }\n",
       "</style>\n",
       "<table border=\"1\" class=\"dataframe\">\n",
       "  <thead>\n",
       "    <tr style=\"text-align: right;\">\n",
       "      <th></th>\n",
       "      <th>_id</th>\n",
       "      <th>Título</th>\n",
       "      <th>Autor</th>\n",
       "      <th>Año</th>\n",
       "      <th>Escuela</th>\n",
       "      <th>Objetos</th>\n",
       "      <th>Fauna</th>\n",
       "      <th>Flora</th>\n",
       "      <th>Lugar</th>\n",
       "      <th>Personajes</th>\n",
       "      <th>Imágenes</th>\n",
       "      <th>Fecha_rango</th>\n",
       "      <th>Año_rango</th>\n",
       "    </tr>\n",
       "  </thead>\n",
       "  <tbody>\n",
       "    <tr>\n",
       "      <th>0</th>\n",
       "      <td>656e181b545b8cc16df86793</td>\n",
       "      <td>\"Floreros\"</td>\n",
       "      <td>Nuzzi, Mario</td>\n",
       "      <td>1640</td>\n",
       "      <td>Italiana</td>\n",
       "      <td>Enseres domésticos</td>\n",
       "      <td>Desconocida</td>\n",
       "      <td>Anémona (Anemone spp.)</td>\n",
       "      <td>Desconocido</td>\n",
       "      <td>Desconocidos</td>\n",
       "      <td>https://content3.cdnprado.net/imagenes/Documen...</td>\n",
       "      <td>1640 - 1642</td>\n",
       "      <td>1601 - 1800</td>\n",
       "    </tr>\n",
       "    <tr>\n",
       "      <th>1</th>\n",
       "      <td>656e181b545b8cc16df86793</td>\n",
       "      <td>\"Floreros\"</td>\n",
       "      <td>Nuzzi, Mario</td>\n",
       "      <td>1640</td>\n",
       "      <td>Italiana</td>\n",
       "      <td>Enseres domésticos</td>\n",
       "      <td>Desconocida</td>\n",
       "      <td>Gladiolo (Gladiolus spp.)</td>\n",
       "      <td>Desconocido</td>\n",
       "      <td>Desconocidos</td>\n",
       "      <td>https://content3.cdnprado.net/imagenes/Documen...</td>\n",
       "      <td>1640 - 1642</td>\n",
       "      <td>1601 - 1800</td>\n",
       "    </tr>\n",
       "    <tr>\n",
       "      <th>2</th>\n",
       "      <td>656e181b545b8cc16df86793</td>\n",
       "      <td>\"Floreros\"</td>\n",
       "      <td>Nuzzi, Mario</td>\n",
       "      <td>1640</td>\n",
       "      <td>Italiana</td>\n",
       "      <td>Enseres domésticos</td>\n",
       "      <td>Desconocida</td>\n",
       "      <td>Lirio (Iris germanica)</td>\n",
       "      <td>Desconocido</td>\n",
       "      <td>Desconocidos</td>\n",
       "      <td>https://content3.cdnprado.net/imagenes/Documen...</td>\n",
       "      <td>1640 - 1642</td>\n",
       "      <td>1601 - 1800</td>\n",
       "    </tr>\n",
       "    <tr>\n",
       "      <th>3</th>\n",
       "      <td>656e181b545b8cc16df86793</td>\n",
       "      <td>\"Floreros\"</td>\n",
       "      <td>Nuzzi, Mario</td>\n",
       "      <td>1640</td>\n",
       "      <td>Italiana</td>\n",
       "      <td>Enseres domésticos</td>\n",
       "      <td>Desconocida</td>\n",
       "      <td>Mundillo / Bola de nieve (Viburnum opulus L.)</td>\n",
       "      <td>Desconocido</td>\n",
       "      <td>Desconocidos</td>\n",
       "      <td>https://content3.cdnprado.net/imagenes/Documen...</td>\n",
       "      <td>1640 - 1642</td>\n",
       "      <td>1601 - 1800</td>\n",
       "    </tr>\n",
       "    <tr>\n",
       "      <th>4</th>\n",
       "      <td>656e181b545b8cc16df86793</td>\n",
       "      <td>\"Floreros\"</td>\n",
       "      <td>Nuzzi, Mario</td>\n",
       "      <td>1640</td>\n",
       "      <td>Italiana</td>\n",
       "      <td>Enseres domésticos</td>\n",
       "      <td>Desconocida</td>\n",
       "      <td>Peonía (Paeonia)</td>\n",
       "      <td>Desconocido</td>\n",
       "      <td>Desconocidos</td>\n",
       "      <td>https://content3.cdnprado.net/imagenes/Documen...</td>\n",
       "      <td>1640 - 1642</td>\n",
       "      <td>1601 - 1800</td>\n",
       "    </tr>\n",
       "  </tbody>\n",
       "</table>\n",
       "</div>"
      ],
      "text/plain": [
       "                        _id      Título         Autor   Año   Escuela  \\\n",
       "0  656e181b545b8cc16df86793  \"Floreros\"  Nuzzi, Mario  1640  Italiana   \n",
       "1  656e181b545b8cc16df86793  \"Floreros\"  Nuzzi, Mario  1640  Italiana   \n",
       "2  656e181b545b8cc16df86793  \"Floreros\"  Nuzzi, Mario  1640  Italiana   \n",
       "3  656e181b545b8cc16df86793  \"Floreros\"  Nuzzi, Mario  1640  Italiana   \n",
       "4  656e181b545b8cc16df86793  \"Floreros\"  Nuzzi, Mario  1640  Italiana   \n",
       "\n",
       "              Objetos        Fauna  \\\n",
       "0  Enseres domésticos  Desconocida   \n",
       "1  Enseres domésticos  Desconocida   \n",
       "2  Enseres domésticos  Desconocida   \n",
       "3  Enseres domésticos  Desconocida   \n",
       "4  Enseres domésticos  Desconocida   \n",
       "\n",
       "                                           Flora        Lugar    Personajes  \\\n",
       "0                         Anémona (Anemone spp.)  Desconocido  Desconocidos   \n",
       "1                      Gladiolo (Gladiolus spp.)  Desconocido  Desconocidos   \n",
       "2                         Lirio (Iris germanica)  Desconocido  Desconocidos   \n",
       "3  Mundillo / Bola de nieve (Viburnum opulus L.)  Desconocido  Desconocidos   \n",
       "4                               Peonía (Paeonia)  Desconocido  Desconocidos   \n",
       "\n",
       "                                            Imágenes  Fecha_rango    Año_rango  \n",
       "0  https://content3.cdnprado.net/imagenes/Documen...  1640 - 1642  1601 - 1800  \n",
       "1  https://content3.cdnprado.net/imagenes/Documen...  1640 - 1642  1601 - 1800  \n",
       "2  https://content3.cdnprado.net/imagenes/Documen...  1640 - 1642  1601 - 1800  \n",
       "3  https://content3.cdnprado.net/imagenes/Documen...  1640 - 1642  1601 - 1800  \n",
       "4  https://content3.cdnprado.net/imagenes/Documen...  1640 - 1642  1601 - 1800  "
      ]
     },
     "execution_count": 43,
     "metadata": {},
     "output_type": "execute_result"
    }
   ],
   "source": [
    "obras_completo.head()"
   ]
  },
  {
   "cell_type": "code",
   "execution_count": null,
   "id": "340e0451",
   "metadata": {},
   "outputs": [],
   "source": [
    "personajes_streamlit = obras_completo[['Personajes', 'Escuela', 'Año_rango', 'Año', 'Título']]"
   ]
  },
  {
   "cell_type": "code",
   "execution_count": null,
   "id": "e2097167",
   "metadata": {},
   "outputs": [],
   "source": [
    "personajes_streamlit = personajes_streamlit[personajes_streamlit['Personajes'] != 'Desconocidos'] #Elimino las filas en las que el personajes es deconocido.\n",
    "personajes_streamlit = personajes_streamlit.reset_index(drop=True)"
   ]
  },
  {
   "cell_type": "code",
   "execution_count": null,
   "id": "7ae24213",
   "metadata": {},
   "outputs": [],
   "source": [
    "objetos_streamlit = obras_completo[['Objetos', 'Escuela', 'Año_rango', 'Año', 'Título']]"
   ]
  },
  {
   "cell_type": "code",
   "execution_count": null,
   "id": "4ff99a06",
   "metadata": {},
   "outputs": [],
   "source": [
    "objetos_streamlit = objetos_streamlit[objetos_streamlit['Objetos'] != 'Desconocidos'] #Elimino las filas en las que el personajes es deconocido.\n",
    "objetos_streamlit = objetos_streamlit.reset_index(drop=True)"
   ]
  },
  {
   "cell_type": "code",
   "execution_count": null,
   "id": "21fde7a3",
   "metadata": {},
   "outputs": [],
   "source": [
    "fauna_streamlit = obras_completo[['Fauna', 'Escuela', 'Año_rango', 'Año', 'Título']]"
   ]
  },
  {
   "cell_type": "code",
   "execution_count": null,
   "id": "a9e3e584",
   "metadata": {},
   "outputs": [],
   "source": [
    "fauna_streamlit = fauna_streamlit[fauna_streamlit['Fauna'] != 'Desconocida'] #Elimino las filas en las que el personajes es deconocido.\n",
    "fauna_streamlit = fauna_streamlit.reset_index(drop=True)"
   ]
  },
  {
   "cell_type": "code",
   "execution_count": null,
   "id": "75ef1ed7",
   "metadata": {},
   "outputs": [],
   "source": [
    "flora_streamlit = obras_completo[['Flora', 'Escuela', 'Año_rango', 'Año', 'Título']]"
   ]
  },
  {
   "cell_type": "code",
   "execution_count": null,
   "id": "93d4a658",
   "metadata": {},
   "outputs": [],
   "source": [
    "flora_streamlit = flora_streamlit[flora_streamlit['Flora'] != 'Desconocida'] #Elimino las filas en las que el personajes es deconocido.\n",
    "flora_streamlit = flora_streamlit.reset_index(drop=True)"
   ]
  },
  {
   "cell_type": "code",
   "execution_count": null,
   "id": "838eb3c6",
   "metadata": {},
   "outputs": [],
   "source": [
    "lugar_streamlit = obras_completo[['Lugar', 'Escuela', 'Año_rango', 'Año', 'Título']]"
   ]
  },
  {
   "cell_type": "code",
   "execution_count": null,
   "id": "9a015e92",
   "metadata": {},
   "outputs": [],
   "source": [
    "lugar_streamlit = lugar_streamlit[lugar_streamlit['Lugar'] != 'Desconocido'] #Elimino las filas en las que el personajes es deconocido.\n",
    "lugar_streamlit = lugar_streamlit.reset_index(drop=True)"
   ]
  },
  {
   "cell_type": "code",
   "execution_count": null,
   "id": "34f669be",
   "metadata": {},
   "outputs": [
    {
     "data": {
      "text/plain": [
       "array(['Alicante', 'Elche', 'España', 'Las Navas', 'Ávila', 'El Escorial',\n",
       "       'Madrid', 'Valencia', 'Italia', 'Guadarrama', 'Francia',\n",
       "       'Normandía', 'Cantabria', 'San Vicente de la Barquera', 'Sevilla',\n",
       "       'Alsasua', 'Navarra', 'Granada', 'Asturias', 'Picos de Europa',\n",
       "       'Palermo', 'Sicilia', 'Magreb', 'Marruecos', 'Buñol', 'Bruselas',\n",
       "       'Bélgica', 'Brabante, Tervuren', 'Gran Canaria', 'Islas Canarias',\n",
       "       'Aranjuez', 'El Pardo', 'Roma', 'Frascati', 'Salamanca', 'Venecia'],\n",
       "      dtype=object)"
      ]
     },
     "execution_count": 35,
     "metadata": {},
     "output_type": "execute_result"
    }
   ],
   "source": [
    "lugar_streamlit[\"Lugar\"].unique()"
   ]
  },
  {
   "cell_type": "code",
   "execution_count": null,
   "id": "001ff571",
   "metadata": {},
   "outputs": [],
   "source": [
    "lugares_excluir = [\"España\", \"Italia\", \"Bélgica\", \"Francia\", \"Marruecos\", \"Bruselas\"]\n",
    "indices_excluir = lugar_streamlit[lugar_streamlit['Lugar'].isin(lugares_excluir)].index\n",
    "lugar_streamlit = lugar_streamlit.drop(indices_excluir)"
   ]
  },
  {
   "cell_type": "code",
   "execution_count": null,
   "id": "74dab930",
   "metadata": {},
   "outputs": [
    {
     "data": {
      "text/plain": [
       "array(['Alicante', 'Elche', 'Las Navas', 'Ávila', 'El Escorial', 'Madrid',\n",
       "       'Valencia', 'Guadarrama', 'Normandía', 'Cantabria',\n",
       "       'San Vicente de la Barquera', 'Sevilla', 'Alsasua', 'Navarra',\n",
       "       'Granada', 'Asturias', 'Picos de Europa', 'Palermo', 'Sicilia',\n",
       "       'Magreb', 'Buñol', 'Brabante, Tervuren', 'Gran Canaria',\n",
       "       'Islas Canarias', 'Aranjuez', 'El Pardo', 'Roma', 'Frascati',\n",
       "       'Salamanca', 'Venecia'], dtype=object)"
      ]
     },
     "execution_count": 38,
     "metadata": {},
     "output_type": "execute_result"
    }
   ],
   "source": [
    "lugar_streamlit[\"Lugar\"].unique()"
   ]
  },
  {
   "cell_type": "markdown",
   "id": "e9f353eb",
   "metadata": {},
   "source": [
    "# Exportación de los DataFrames"
   ]
  },
  {
   "cell_type": "code",
   "execution_count": 1,
   "id": "73586035",
   "metadata": {},
   "outputs": [],
   "source": [
    "#personajes_streamlit.to_csv(\"/Users/karmelealonsoaia/Desktop/ironhack_labs/PROYECTOS/project_final/data/data_clean/data_streamlit/personajes_streamlit.csv\", index=False)\n",
    "#objetos_streamlit.to_csv(\"/Users/karmelealonsoaia/Desktop/ironhack_labs/PROYECTOS/project_final/data/data_clean/data_streamlit/objetos_streamlit.csv\", index=False)\n",
    "#fauna_streamlit.to_csv(\"/Users/karmelealonsoaia/Desktop/ironhack_labs/PROYECTOS/project_final/data/data_clean/data_streamlit/fauna_streamlit.csv\", index=False)\n",
    "#flora_streamlit.to_csv(\"/Users/karmelealonsoaia/Desktop/ironhack_labs/PROYECTOS/project_final/data/data_clean/data_streamlit/flora_streamlit.csv\", index=False)\n",
    "#lugar_streamlit.to_csv(\"/Users/karmelealonsoaia/Desktop/ironhack_labs/PROYECTOS/project_final/data/data_clean/data_streamlit/lugar_streamlit.csv\", index=False)\n",
    "\n"
   ]
  }
 ],
 "metadata": {
  "kernelspec": {
   "display_name": "Python 3 (ipykernel)",
   "language": "python",
   "name": "python3"
  },
  "language_info": {
   "codemirror_mode": {
    "name": "ipython",
    "version": 3
   },
   "file_extension": ".py",
   "mimetype": "text/x-python",
   "name": "python",
   "nbconvert_exporter": "python",
   "pygments_lexer": "ipython3",
   "version": "3.11.5"
  }
 },
 "nbformat": 4,
 "nbformat_minor": 5
}
