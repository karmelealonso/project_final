{
 "cells": [
  {
   "cell_type": "code",
   "execution_count": 264,
   "id": "2afbaaef",
   "metadata": {},
   "outputs": [],
   "source": [
    "import pandas as pd\n",
    "from selenium.webdriver.chrome.options import Options\n",
    "from webdriver_manager.chrome import ChromeDriverManager"
   ]
  },
  {
   "cell_type": "code",
   "execution_count": 265,
   "id": "639b05da",
   "metadata": {},
   "outputs": [],
   "source": [
    "import time\n",
    "\n",
    "import warnings\n",
    "warnings.filterwarnings('ignore')\n",
    "\n",
    "from selenium.webdriver.common.by import By"
   ]
  },
  {
   "cell_type": "code",
   "execution_count": 266,
   "id": "21bdd14b",
   "metadata": {},
   "outputs": [],
   "source": [
    "#driver configuration\n",
    "opciones=Options()\n",
    "\n",
    "opciones.add_experimental_option('excludeSwitches', ['enable-automation'])\n",
    "opciones.add_experimental_option('useAutomationExtension', False)\n",
    "opciones.headless=False    # si True, no aperece la ventana (headless=no visible)\n",
    "opciones.add_argument('--start-maximized')         # comienza maximizado\n",
    "#opciones.add_argument('user-data-dir=selenium')    # mantiene las cookies\n",
    "#opciones.add_extension('driver_folder/adblock.crx')       # adblocker\n",
    "opciones.add_argument('--incognito')"
   ]
  },
  {
   "cell_type": "code",
   "execution_count": 267,
   "id": "5a74348d",
   "metadata": {},
   "outputs": [],
   "source": [
    "from selenium import webdriver\n",
    "\n",
    "PATH = \"driver/chromedriver\" \n",
    "driver = webdriver.Chrome(options = opciones)\n",
    "driver.get('https://www.google.es')"
   ]
  },
  {
   "cell_type": "markdown",
   "id": "29700f29",
   "metadata": {},
   "source": [
    "# Acanto (Acanthus Mollis) (3)"
   ]
  },
  {
   "cell_type": "code",
   "execution_count": 292,
   "id": "aeb0b38f",
   "metadata": {},
   "outputs": [],
   "source": [
    "# This is the url you will scrape in this exercise\n",
    "url = 'https://www.museodelprado.es/coleccion/obras-de-arte?ecidoc:p65_E36_p138_represents_flora@@@pm:floraNode=http://museodelprado.es/items/biologicalobjectflora_547'"
   ]
  },
  {
   "cell_type": "code",
   "execution_count": 293,
   "id": "c0c2f2d2",
   "metadata": {},
   "outputs": [],
   "source": [
    "driver.get(url)"
   ]
  },
  {
   "cell_type": "code",
   "execution_count": 294,
   "id": "0df016cc",
   "metadata": {},
   "outputs": [],
   "source": [
    "data = driver.find_elements(By.XPATH, '//*[@id=\"panResultados\"]/div')[0].text.split('\\n')"
   ]
  },
  {
   "cell_type": "code",
   "execution_count": 295,
   "id": "b03e7abe",
   "metadata": {},
   "outputs": [
    {
     "name": "stdout",
     "output_type": "stream",
     "text": [
      "['Ofrenda a Pericles', 'Óleo sobre lienzo. Hacia 1890', 'HERNÁNDEZ AMORES, GERMÁN', 'Acanto (Acanthus Mollis)', 'Pomo con enrejillado y cabeza de Medusa en oro', 'Cincelado, Tallado, Engarzado. Siglos XVI - XVII', 'MISERONI, GIOVANNI AMBROGIO ; ANÓNIMO', 'Acanto (Acanthus Mollis)', 'Vaso de jade en forma de mascarón, sobre cuatro delfines', 'Cincelado, Fundido, Tallado. Hacia 1600', 'MISERONI, OTTAVIO ; TALLER DE LOS MISERONI ; DEBOURG, MICHEL', 'Acanto (Acanthus Mollis)']\n"
     ]
    }
   ],
   "source": [
    "resultados = []"
   ]
  },
  {
   "cell_type": "code",
   "execution_count": null,
   "id": "2eb265a9",
   "metadata": {},
   "outputs": [],
   "source": [
    "for i in range(0, len(data), 3):\n",
    "    titulo, fecha, autor = map(str.strip, data[i:i+3])\n",
    "    \n",
    "    resultados.extend([titulo, fecha, autor, 'Acanto (Acanthus Mollis)'])\n",
    "\n",
    "print(resultados)"
   ]
  },
  {
   "cell_type": "markdown",
   "id": "6fa0af5d",
   "metadata": {},
   "source": [
    "# Acebo (Ilex Aquifolium) (2)"
   ]
  },
  {
   "cell_type": "code",
   "execution_count": 296,
   "id": "91573036",
   "metadata": {},
   "outputs": [],
   "source": [
    "# This is the url you will scrape in this exercise\n",
    "url = 'https://www.museodelprado.es/coleccion/obras-de-arte?ecidoc:p65_E36_p138_represents_flora@@@pm:floraNode=http://museodelprado.es/items/biologicalobjectflora_365'"
   ]
  },
  {
   "cell_type": "code",
   "execution_count": 297,
   "id": "6ebe20da",
   "metadata": {},
   "outputs": [],
   "source": [
    "driver.get(url)"
   ]
  },
  {
   "cell_type": "code",
   "execution_count": 298,
   "id": "7c4e9758",
   "metadata": {},
   "outputs": [],
   "source": [
    "data = driver.find_elements(By.XPATH, '//*[@id=\"panResultados\"]/div')[0].text.split('\\n')"
   ]
  },
  {
   "cell_type": "code",
   "execution_count": 299,
   "id": "43d2fddc",
   "metadata": {},
   "outputs": [
    {
     "name": "stdout",
     "output_type": "stream",
     "text": [
      "['Ofrenda a Pericles', 'Óleo sobre lienzo. Hacia 1890', 'HERNÁNDEZ AMORES, GERMÁN', 'Acanto (Acanthus Mollis)', 'Pomo con enrejillado y cabeza de Medusa en oro', 'Cincelado, Tallado, Engarzado. Siglos XVI - XVII', 'MISERONI, GIOVANNI AMBROGIO ; ANÓNIMO', 'Acanto (Acanthus Mollis)', 'Vaso de jade en forma de mascarón, sobre cuatro delfines', 'Cincelado, Fundido, Tallado. Hacia 1600', 'MISERONI, OTTAVIO ; TALLER DE LOS MISERONI ; DEBOURG, MICHEL', 'Acanto (Acanthus Mollis)', 'Guirnalda con Jesús y Santa Teresa', 'Óleo sobre lienzo. Siglo XVII', 'SEGHERS, DANIEL', 'Acebo (Ilex Aquifolium)', 'Guirnalda rodeando a la Virgen María', 'Óleo sobre lámina de cobre. 1640 - 1660', 'VERENDAEL, NICOLAES VAN', 'Acebo (Ilex Aquifolium)']\n"
     ]
    }
   ],
   "source": [
    "for i in range(0, len(data), 3):\n",
    "    titulo, fecha, autor = map(str.strip, data[i:i+3])\n",
    "    \n",
    "    resultados.extend([titulo, fecha, autor, 'Acebo (Ilex Aquifolium)'])\n"
   ]
  },
  {
   "cell_type": "markdown",
   "id": "7c87e379",
   "metadata": {},
   "source": [
    "# Achicoria Silvestre (Cichorium Intybus) (1)"
   ]
  },
  {
   "cell_type": "code",
   "execution_count": 38,
   "id": "b685876f",
   "metadata": {},
   "outputs": [],
   "source": [
    "# This is the url you will scrape in this exercise\n",
    "url = 'https://www.museodelprado.es/coleccion/obras-de-arte?ecidoc:p65_E36_p138_represents_flora@@@pm:floraNode=http://museodelprado.es/items/biologicalobjectflora_394'"
   ]
  },
  {
   "cell_type": "code",
   "execution_count": 39,
   "id": "73fa0397",
   "metadata": {},
   "outputs": [],
   "source": [
    "driver.get(url)"
   ]
  },
  {
   "cell_type": "code",
   "execution_count": 40,
   "id": "c6a2c624",
   "metadata": {},
   "outputs": [
    {
     "data": {
      "text/plain": [
       "['San Felipe en hornacina rodeada de flores',\n",
       " 'Óleo sobre lámina de cobre. 1651',\n",
       " 'THIELEN, JAN PHILIP VAN']"
      ]
     },
     "execution_count": 40,
     "metadata": {},
     "output_type": "execute_result"
    }
   ],
   "source": [
    "data = driver.find_elements(By.XPATH, '//*[@id=\"panResultados\"]/div')[0].text.split('\\n')"
   ]
  },
  {
   "cell_type": "code",
   "execution_count": null,
   "id": "424b2feb",
   "metadata": {},
   "outputs": [],
   "source": [
    "for i in range(0, len(data), 3):\n",
    "    titulo, fecha, autor = map(str.strip, data[i:i+3])\n",
    "    \n",
    "    resultados.extend([titulo, fecha, autor, 'Achicoria Silvestre (Cichorium Intybus)'])\n"
   ]
  },
  {
   "cell_type": "markdown",
   "id": "7db69ec0",
   "metadata": {},
   "source": [
    "# Aciano / Azulejo (Centaurea Cyanus) (7)"
   ]
  },
  {
   "cell_type": "code",
   "execution_count": 44,
   "id": "e46a6530",
   "metadata": {},
   "outputs": [],
   "source": [
    "# This is the url you will scrape in this exercise\n",
    "url = 'https://www.museodelprado.es/coleccion/obras-de-arte?ecidoc:p65_E36_p138_represents_flora@@@pm:floraNode=http://museodelprado.es/items/biologicalobjectflora_390'"
   ]
  },
  {
   "cell_type": "code",
   "execution_count": 45,
   "id": "c18e6fe8",
   "metadata": {},
   "outputs": [],
   "source": [
    "driver.get(url)"
   ]
  },
  {
   "cell_type": "code",
   "execution_count": 47,
   "id": "9f1e8e4e",
   "metadata": {},
   "outputs": [
    {
     "data": {
      "text/plain": [
       "['Florero',\n",
       " 'Óleo sobre lienzo. Siglo XVII',\n",
       " 'ANÓNIMO',\n",
       " 'Florero',\n",
       " 'Óleo sobre lienzo. Siglo XVII',\n",
       " 'ANÓNIMO',\n",
       " 'El Olfato',\n",
       " 'Óleo sobre tabla. 1617 - 1618',\n",
       " 'RUBENS, PEDRO PABLO ; BRUEGHEL EL VIEJO, JAN',\n",
       " 'Guirnalda de flores y paisaje',\n",
       " 'Óleo sobre lienzo. 1652',\n",
       " 'ARELLANO, JUAN DE',\n",
       " 'Florero y cuenco de cerámica',\n",
       " 'Óleo sobre lienzo. 1663',\n",
       " 'CAMPROBÍN, PEDRO DE',\n",
       " 'Florero y recipiente de cristal',\n",
       " 'Óleo sobre lienzo. 1663',\n",
       " 'CAMPROBÍN, PEDRO DE',\n",
       " 'Florero de cristal',\n",
       " 'Óleo sobre lienzo. 1668',\n",
       " 'ARELLANO, JUAN DE']"
      ]
     },
     "execution_count": 47,
     "metadata": {},
     "output_type": "execute_result"
    }
   ],
   "source": [
    "data = driver.find_elements(By.XPATH, '//*[@id=\"panResultados\"]/div')[0].text.split('\\n')"
   ]
  },
  {
   "cell_type": "code",
   "execution_count": null,
   "id": "56d93416",
   "metadata": {},
   "outputs": [],
   "source": [
    "for i in range(0, len(data), 3):\n",
    "    titulo, fecha, autor = map(str.strip, data[i:i+3])\n",
    "    \n",
    "    resultados.extend([titulo, fecha, autor, 'Aciano / Azulejo (Centaurea Cyanus)'])\n"
   ]
  },
  {
   "cell_type": "markdown",
   "id": "7725c40b",
   "metadata": {},
   "source": [
    "# Adelfa (Nerium Oleander)"
   ]
  },
  {
   "cell_type": "code",
   "execution_count": 48,
   "id": "f15b90dc",
   "metadata": {},
   "outputs": [],
   "source": [
    "# This is the url you will scrape in this exercise\n",
    "url = 'https://www.museodelprado.es/coleccion/obras-de-arte?ecidoc:p65_E36_p138_represents_flora@@@pm:floraNode=http://museodelprado.es/items/biologicalobjectflora_359'"
   ]
  },
  {
   "cell_type": "code",
   "execution_count": 49,
   "id": "c14f694c",
   "metadata": {},
   "outputs": [],
   "source": [
    "driver.get(url)"
   ]
  },
  {
   "cell_type": "code",
   "execution_count": 50,
   "id": "4ffa2418",
   "metadata": {},
   "outputs": [
    {
     "data": {
      "text/plain": [
       "['Guirnalda con la Virgen y el Niño',\n",
       " 'Óleo sobre tabla. Siglo XVII',\n",
       " 'SEGHERS, DANIEL ; SCHUT, CORNELIS',\n",
       " 'La Virgen y el Niño dentro de una guirnalda de flores',\n",
       " 'Óleo sobre lienzo. Siglo XVII',\n",
       " 'SEGHERS, DANIEL (COPIA)',\n",
       " 'Florero',\n",
       " 'Óleo sobre lienzo. Siglo XVII',\n",
       " 'ARELLANO, JOSÉ DE',\n",
       " 'Guirnalda rodeando a la Virgen María',\n",
       " 'Óleo sobre lámina de cobre. 1640 - 1660',\n",
       " 'VERENDAEL, NICOLAES VAN',\n",
       " 'San Felipe en hornacina rodeada de flores',\n",
       " 'Óleo sobre lámina de cobre. 1651',\n",
       " 'THIELEN, JAN PHILIP VAN',\n",
       " 'Guirnalda de flores con la Asunción de la Virgen',\n",
       " 'Óleo sobre lienzo. 1654',\n",
       " 'PONCE, ANTONIO',\n",
       " 'Jardín de la casa de Fortuny',\n",
       " 'Óleo sobre tabla. 1872 - 1877',\n",
       " 'FORTUNY Y MARSAL, MARIANO ; MADRAZO Y GARRETA, RAIMUNDO DE',\n",
       " 'Flores',\n",
       " 'Óleo sobre tabla. Hacia 1884',\n",
       " 'GESSA Y ARIAS, SEBASTIÁN',\n",
       " 'Cecilio Pla, junto a familiares y amigos, sentados sobre una gran...',\n",
       " 'Gelatina / colodión sobre placa de vidrio. Antes de 1918',\n",
       " 'ANÓNIMO - FOTÓGRAFO',\n",
       " 'Familiares y amigos de Cecilio Pla disfrutan de un día en el campo',\n",
       " 'Gelatina / colodión sobre placa de vidrio. Antes de 1918',\n",
       " 'ANÓNIMO - FOTÓGRAFO']"
      ]
     },
     "execution_count": 50,
     "metadata": {},
     "output_type": "execute_result"
    }
   ],
   "source": [
    "data = driver.find_elements(By.XPATH, '//*[@id=\"panResultados\"]/div')[0].text.split('\\n')"
   ]
  },
  {
   "cell_type": "code",
   "execution_count": null,
   "id": "38641136",
   "metadata": {},
   "outputs": [],
   "source": [
    "for i in range(0, len(data), 3):\n",
    "    titulo, fecha, autor = map(str.strip, data[i:i+3])\n",
    "    \n",
    "    resultados.extend([titulo, fecha, autor, 'Adelfa (Nerium Oleander)'])\n"
   ]
  },
  {
   "cell_type": "markdown",
   "id": "1f650faa",
   "metadata": {},
   "source": [
    "# Adormidera / Amapola Real (Papaver Somniferum) (43)"
   ]
  },
  {
   "cell_type": "code",
   "execution_count": 51,
   "id": "1c88f000",
   "metadata": {},
   "outputs": [],
   "source": [
    "# This is the url you will scrape in this exercise\n",
    "url = 'https://www.museodelprado.es/coleccion/obras-de-arte?ecidoc:p65_E36_p138_represents_flora@@@pm:floraNode=http://museodelprado.es/items/biologicalobjectflora_4'"
   ]
  },
  {
   "cell_type": "code",
   "execution_count": 52,
   "id": "a49c7e30",
   "metadata": {},
   "outputs": [],
   "source": [
    "driver.get(url)"
   ]
  },
  {
   "cell_type": "code",
   "execution_count": 53,
   "id": "1d1748c8",
   "metadata": {},
   "outputs": [
    {
     "data": {
      "text/plain": [
       "['La Tierra',\n",
       " 'Óleo sobre lienzo. Siglo XVI',\n",
       " 'VOS, MARTIN DE',\n",
       " 'Florero',\n",
       " 'Óleo sobre lienzo. Siglo XVII',\n",
       " 'ARELLANO, JUAN DE',\n",
       " 'Florero',\n",
       " 'Óleo sobre lienzo. Siglo XVII',\n",
       " 'PÉREZ, BARTOLOMÉ (ATRIBUIDO A)',\n",
       " 'Florero',\n",
       " 'Óleo sobre lienzo. Siglo XVII',\n",
       " 'PÉREZ, BARTOLOMÉ',\n",
       " 'Despensa',\n",
       " 'Óleo sobre lienzo. Siglo XVII',\n",
       " 'BOEL, PEETER',\n",
       " 'Despensa',\n",
       " 'Óleo sobre lienzo. Siglo XVII',\n",
       " 'BOEL, PEETER',\n",
       " 'La Abundancia y los Cuatro Elementos',\n",
       " 'Óleo sobre tabla. Siglo XVII',\n",
       " 'BRUEGHEL EL JOVEN, JAN',\n",
       " 'Guirnalda con el Niño Jesús y san Juan',\n",
       " 'Óleo sobre lámina de cobre. Siglo XVII',\n",
       " 'KESSEL EL JOVEN, JAN VAN',\n",
       " 'La Virgen con el Niño dentro de un festón de frutas',\n",
       " 'Óleo sobre lienzo. Siglo XVII',\n",
       " 'SON, JORIS VAN',\n",
       " 'Jardín con flores y frutas',\n",
       " 'Óleo sobre lienzo. Siglo XVII',\n",
       " 'ANÓNIMO',\n",
       " 'Florero',\n",
       " 'Óleo sobre lienzo. Siglo XVII',\n",
       " 'ANÓNIMO',\n",
       " 'Florero',\n",
       " 'Óleo sobre lienzo. Siglo XVII',\n",
       " 'PÉREZ, BARTOLOMÉ (ATRIBUIDO A)',\n",
       " 'Guirnalda de flores',\n",
       " 'Óleo sobre lienzo. Siglo XVII',\n",
       " 'PÉREZ, BARTOLOMÉ (ATRIBUIDO A)',\n",
       " 'Florero',\n",
       " 'Óleo sobre lienzo. Siglo XVII',\n",
       " 'ANÓNIMO',\n",
       " 'Florero',\n",
       " 'Óleo sobre lienzo. Siglo XVII',\n",
       " 'ANÓNIMO (?: CORTE, GABRIEL DE LA)',\n",
       " 'Florero',\n",
       " 'Óleo sobre lienzo. Siglo XVII',\n",
       " 'ARELLANO, JUAN DE',\n",
       " 'La Abundancia y los Cuatro Elementos',\n",
       " 'Óleo sobre tabla. Hacia 1615',\n",
       " 'BALEN, HENDRICK VAN ; BRUEGHEL EL VIEJO, JAN',\n",
       " 'Bodegón de flores',\n",
       " 'Óleo sobre lámina de cobre. 1633 - 1666',\n",
       " 'KESSEL EL VIEJO, JAN VAN']"
      ]
     },
     "execution_count": 53,
     "metadata": {},
     "output_type": "execute_result"
    }
   ],
   "source": [
    "data = driver.find_elements(By.XPATH, '//*[@id=\"panResultados\"]/div')[0].text.split('\\n')"
   ]
  },
  {
   "cell_type": "code",
   "execution_count": null,
   "id": "9e804013",
   "metadata": {},
   "outputs": [],
   "source": [
    "for i in range(0, len(data), 3):\n",
    "    titulo, fecha, autor = map(str.strip, data[i:i+3])\n",
    "    \n",
    "    resultados.extend([titulo, fecha, autor, 'Adormidera / Amapola Real (Papaver Somniferum)'])\n"
   ]
  },
  {
   "cell_type": "markdown",
   "id": "13aeb7a9",
   "metadata": {},
   "source": [
    "# Aguileña (Aquilegia Vulgaris) (27)"
   ]
  },
  {
   "cell_type": "code",
   "execution_count": 54,
   "id": "fa7828d4",
   "metadata": {},
   "outputs": [],
   "source": [
    "# This is the url you will scrape in this exercise\n",
    "url = 'https://www.museodelprado.es/coleccion/obras-de-arte?ecidoc:p65_E36_p138_represents_flora@@@pm:floraNode=http://museodelprado.es/items/biologicalobjectflora_302'"
   ]
  },
  {
   "cell_type": "code",
   "execution_count": 55,
   "id": "77a4e02d",
   "metadata": {},
   "outputs": [],
   "source": [
    "driver.get(url)"
   ]
  },
  {
   "cell_type": "code",
   "execution_count": 56,
   "id": "5c117a4d",
   "metadata": {},
   "outputs": [
    {
     "data": {
      "text/plain": [
       "['Tríptico del Jardín de las delicias',\n",
       " 'Grisalla, Óleo sobre tabla de madera de roble. 1490 - 1500',\n",
       " 'EL BOSCO',\n",
       " 'Florero',\n",
       " 'Óleo sobre tabla. Primer cuarto del siglo XVII',\n",
       " 'BRUEGHEL EL VIEJO, JAN',\n",
       " 'Guirnalda de flores con la Virgen, el Niño y San Juan',\n",
       " 'Óleo sobre lienzo. Primera mitad del siglo XVII',\n",
       " 'QUELLINUS, ERASMUS ; SEGHERS, DANIEL',\n",
       " 'Guirnalda con el Niño Jesús y san Juan',\n",
       " 'Óleo sobre lámina de cobre. Siglo XVII',\n",
       " 'KESSEL EL JOVEN, JAN VAN',\n",
       " 'Guirnalda con la Virgen y el Niño',\n",
       " 'Óleo sobre lienzo. Siglo XVII',\n",
       " 'SEGHERS, DANIEL',\n",
       " 'Guirnalda con la Virgen y el Niño',\n",
       " 'Óleo sobre lámina de cobre. Siglo XVII',\n",
       " 'SEGHERS, DANIEL ; SCHUT, CORNELIS (?)',\n",
       " 'Guirnalda con florecillas y setas y escena de brujería',\n",
       " 'Óleo sobre tabla. Siglo XVII',\n",
       " 'ANÓNIMO',\n",
       " 'Guirnalda de flores rodeando a la Sagrada Familia',\n",
       " 'Óleo sobre lámina de cobre. Siglo XVII',\n",
       " 'ANÓNIMO',\n",
       " 'Florero',\n",
       " 'Óleo sobre lienzo. Siglo XVII',\n",
       " 'ANÓNIMO',\n",
       " 'Guirnalda de flores',\n",
       " 'Óleo sobre lienzo. Siglo XVII',\n",
       " 'PÉREZ, BARTOLOMÉ (ATRIBUIDO A)',\n",
       " 'Guirnalda de frutas con la Virgen y el Niño',\n",
       " 'Óleo sobre lienzo. Siglo XVII',\n",
       " 'ANÓNIMO',\n",
       " 'Florero',\n",
       " 'Óleo sobre lienzo. Siglo XVII',\n",
       " 'ANÓNIMO',\n",
       " 'Florero',\n",
       " 'Óleo sobre lienzo. Siglo XVII',\n",
       " 'ANÓNIMO',\n",
       " 'Bodegón con flores, copa de plata dorada, almendras, frutos secos, dulces...',\n",
       " 'Óleo sobre tabla. 1611',\n",
       " 'PEETERS, CLARA',\n",
       " 'Guirnalda con la Virgen, el Niño y dos ángeles',\n",
       " 'Óleo sobre lámina de cobre. Hacia 1619',\n",
       " 'BRUEGHEL EL VIEJO, JAN ; PROCACCINI, GIULIO CESARE',\n",
       " 'El Olfato',\n",
       " 'Óleo sobre tabla. 1617 - 1618',\n",
       " 'RUBENS, PEDRO PABLO ; BRUEGHEL EL VIEJO, JAN',\n",
       " 'La diosa Flora',\n",
       " 'Óleo sobre lienzo. Hacia 1625',\n",
       " 'RUBENS, PEDRO PABLO (TALLER DE)',\n",
       " 'Ofrenda a Flora',\n",
       " 'Óleo sobre lienzo. 1627',\n",
       " 'HAMEN Y LEÓN, JUAN VAN DER']"
      ]
     },
     "execution_count": 56,
     "metadata": {},
     "output_type": "execute_result"
    }
   ],
   "source": [
    "data = driver.find_elements(By.XPATH, '//*[@id=\"panResultados\"]/div')[0].text.split('\\n')"
   ]
  },
  {
   "cell_type": "code",
   "execution_count": null,
   "id": "7b893cd0",
   "metadata": {},
   "outputs": [],
   "source": [
    "for i in range(0, len(data), 3):\n",
    "    titulo, fecha, autor = map(str.strip, data[i:i+3])\n",
    "    \n",
    "    resultados.extend([titulo, fecha, autor, 'Aguileña (Aquilegia Vulgaris)'])\n"
   ]
  },
  {
   "cell_type": "markdown",
   "id": "c2d63a62",
   "metadata": {},
   "source": [
    "# Ajenuz / Arañuela (Nigella Damascena) (22)"
   ]
  },
  {
   "cell_type": "code",
   "execution_count": 59,
   "id": "61c4da4c",
   "metadata": {},
   "outputs": [],
   "source": [
    "# This is the url you will scrape in this exercise\n",
    "url = 'https://www.museodelprado.es/coleccion/obras-de-arte?ecidoc:p65_E36_p138_represents_flora@@@pm:floraNode=http://museodelprado.es/items/biologicalobjectflora_343'"
   ]
  },
  {
   "cell_type": "code",
   "execution_count": 60,
   "id": "4e70d3f7",
   "metadata": {},
   "outputs": [],
   "source": [
    "driver.get(url)"
   ]
  },
  {
   "cell_type": "code",
   "execution_count": 61,
   "id": "b1e0a856",
   "metadata": {},
   "outputs": [
    {
     "data": {
      "text/plain": [
       "['Guirnalda con la Adoración de los Reyes Magos',\n",
       " 'Óleo sobre lámina de cobre. Siglos XVI - XVII',\n",
       " 'BRUEGHEL EL JOVEN, PIETER',\n",
       " 'Florero',\n",
       " 'Óleo sobre lámina de cobre. Siglo XVII',\n",
       " 'BRUEGHEL EL VIEJO, JAN',\n",
       " 'Amorcillos con guirnalda de flores',\n",
       " 'Óleo sobre lienzo. Siglo XVII',\n",
       " 'ANÓNIMO',\n",
       " 'Florero',\n",
       " 'Óleo sobre lienzo. Siglo XVII',\n",
       " 'ANÓNIMO',\n",
       " 'Guirnalda de flores',\n",
       " 'Óleo sobre lienzo. Siglo XVII',\n",
       " 'PÉREZ, BARTOLOMÉ (ATRIBUIDO A)',\n",
       " 'Guirnalda con la Virgen, el Niño y dos ángeles',\n",
       " 'Óleo sobre lámina de cobre. Hacia 1619',\n",
       " 'BRUEGHEL EL VIEJO, JAN ; PROCACCINI, GIULIO CESARE',\n",
       " 'El Olfato',\n",
       " 'Óleo sobre tabla. 1617 - 1618',\n",
       " 'RUBENS, PEDRO PABLO ; BRUEGHEL EL VIEJO, JAN',\n",
       " 'La Abundancia',\n",
       " 'Óleo sobre lámina de cobre. Hacia 1625',\n",
       " 'BRUEGHEL EL JOVEN, JAN',\n",
       " 'Ofrenda a Flora',\n",
       " 'Óleo sobre lienzo. 1627',\n",
       " 'HAMEN Y LEÓN, JUAN VAN DER',\n",
       " 'Florero',\n",
       " 'Óleo sobre lienzo. Segunda mitad del siglo XVII',\n",
       " 'ANÓNIMO',\n",
       " 'Guirnalda de flores y paisaje',\n",
       " 'Óleo sobre lienzo. 1652',\n",
       " 'ARELLANO, JUAN DE',\n",
       " 'Frutas y flores',\n",
       " 'Óleo sobre lienzo. 1664',\n",
       " 'SON, JORIS VAN',\n",
       " 'Cesta de flores',\n",
       " 'Óleo sobre lienzo. 1668 - 1670',\n",
       " 'ARELLANO, JUAN DE',\n",
       " 'Florero',\n",
       " 'Óleo sobre lienzo. Hacia 1676',\n",
       " 'PÉREZ, BARTOLOMÉ',\n",
       " 'La diosa Flora',\n",
       " 'Óleo sobre lienzo. Hacia 1697',\n",
       " 'GIORDANO, LUCA - PINTOR; BELVEDERE, ANDREA - PINTOR',\n",
       " 'Florero',\n",
       " 'Óleo sobre tabla. Segunda mitad del siglo XVIII',\n",
       " 'ESPINÓS, BENITO',\n",
       " 'Florero',\n",
       " 'Óleo sobre tabla. Último tercio del siglo XVIII - Principio del siglo...',\n",
       " 'ESPINÓS, BENITO',\n",
       " 'Flores con una vela y un papel',\n",
       " 'Óleo sobre tabla. Último cuarto del siglo XVIII - Principio del siglo...',\n",
       " 'ESPINÓS, BENITO']"
      ]
     },
     "execution_count": 61,
     "metadata": {},
     "output_type": "execute_result"
    }
   ],
   "source": [
    "data = driver.find_elements(By.XPATH, '//*[@id=\"panResultados\"]/div')[0].text.split('\\n')"
   ]
  },
  {
   "cell_type": "code",
   "execution_count": null,
   "id": "cad1f411",
   "metadata": {},
   "outputs": [],
   "source": [
    "for i in range(0, len(data), 3):\n",
    "    titulo, fecha, autor = map(str.strip, data[i:i+3])\n",
    "    \n",
    "    resultados.extend([titulo, fecha, autor, 'Ajenuz / Arañuela (Nigella Damascena)'])\n"
   ]
  },
  {
   "cell_type": "markdown",
   "id": "bfa96b6e",
   "metadata": {},
   "source": [
    "# Alhelí de Invierno (Matthiola Incana) (14)"
   ]
  },
  {
   "cell_type": "code",
   "execution_count": 82,
   "id": "a104e02c",
   "metadata": {},
   "outputs": [],
   "source": [
    "# This is the url you will scrape in this exercise\n",
    "url = 'https://www.museodelprado.es/coleccion/obras-de-arte?ecidoc:p65_E36_p138_represents_flora@@@pm:floraNode=http://museodelprado.es/items/biologicalobjectflora_341'"
   ]
  },
  {
   "cell_type": "code",
   "execution_count": null,
   "id": "c162622f",
   "metadata": {},
   "outputs": [],
   "source": [
    "driver.get(url)"
   ]
  },
  {
   "cell_type": "code",
   "execution_count": 83,
   "id": "d51af8b5",
   "metadata": {},
   "outputs": [
    {
     "data": {
      "text/plain": [
       "['Florero',\n",
       " 'Óleo sobre lienzo. Siglo XVII',\n",
       " 'CORTE, GABRIEL DE LA',\n",
       " 'Florero',\n",
       " 'Óleo sobre lienzo. Siglo XVII',\n",
       " 'PÉREZ, BARTOLOMÉ (ATRIBUIDO A)',\n",
       " 'Florero',\n",
       " 'Óleo sobre lienzo. Siglo XVII',\n",
       " 'ANÓNIMO',\n",
       " 'Guirnalda con la Virgen, el Niño y dos ángeles',\n",
       " 'Óleo sobre lámina de cobre. Hacia 1619',\n",
       " 'BRUEGHEL EL VIEJO, JAN ; PROCACCINI, GIULIO CESARE',\n",
       " 'El Olfato',\n",
       " 'Óleo sobre tabla. 1617 - 1618',\n",
       " 'RUBENS, PEDRO PABLO ; BRUEGHEL EL VIEJO, JAN',\n",
       " 'Guirnalda rodeando a la Virgen María',\n",
       " 'Óleo sobre lámina de cobre. 1640 - 1660',\n",
       " 'VERENDAEL, NICOLAES VAN',\n",
       " 'Bodegón (Hombre con mono y frutas)',\n",
       " 'Óleo sobre lienzo. 1660 - 1670',\n",
       " 'BRUEGHEL, ABRAHAM (ATRIBUIDO A); COURTOIS, GUILLAUME (ATRIBUIDO A)',\n",
       " 'Florero',\n",
       " 'Óleo sobre lienzo. 1670 - 1680',\n",
       " 'CORTE, GABRIEL DE LA',\n",
       " 'Ramillete de flores con lazo blanquiazul',\n",
       " 'Óleo sobre lienzo. 1780 - 1785',\n",
       " 'PARET Y ALCÁZAR, LUIS',\n",
       " 'Florero',\n",
       " 'Óleo sobre tabla. 1780 - 1788',\n",
       " 'ESPINÓS, BENITO',\n",
       " 'Guirnalda de flores con rodela escultórica',\n",
       " 'Óleo sobre lienzo. Hacia 1805',\n",
       " 'ROMÁ, JOSÉ',\n",
       " 'Guirnalda de flores con Mercurio y Minerva',\n",
       " 'Óleo sobre tabla. 1811',\n",
       " 'ESPINÓS, BENITO',\n",
       " 'Flores',\n",
       " 'Óleo sobre lienzo. Hacia 1884',\n",
       " 'GESSA Y ARIAS, SEBASTIÁN',\n",
       " 'Marco de Anna Escher von Muralt',\n",
       " 'Tallado, Ensamblado a espiga pasante, Dorado al agua. Hacia 1800',\n",
       " 'ANÓNIMO']"
      ]
     },
     "execution_count": 83,
     "metadata": {},
     "output_type": "execute_result"
    }
   ],
   "source": [
    "data = driver.find_elements(By.XPATH, '//*[@id=\"panResultados\"]/div')[0].text.split('\\n')"
   ]
  },
  {
   "cell_type": "code",
   "execution_count": null,
   "id": "5df016bb",
   "metadata": {},
   "outputs": [],
   "source": [
    "for i in range(0, len(data), 3):\n",
    "    titulo, fecha, autor = map(str.strip, data[i:i+3])\n",
    "    \n",
    "    resultados.extend([titulo, fecha, autor, 'Alhelí de Invierno (Matthiola Incana)'])\n"
   ]
  },
  {
   "cell_type": "markdown",
   "id": "52a4c3d1",
   "metadata": {},
   "source": [
    "# Alhelí Dorado (Cheiranthus Cheiri) (9)"
   ]
  },
  {
   "cell_type": "code",
   "execution_count": 84,
   "id": "2056eca5",
   "metadata": {},
   "outputs": [],
   "source": [
    "# This is the url you will scrape in this exercise\n",
    "url = 'https://www.museodelprado.es/coleccion/obras-de-arte?ecidoc:p65_E36_p138_represents_flora@@@pm:floraNode=http://museodelprado.es/items/biologicalobjectflora_296'"
   ]
  },
  {
   "cell_type": "code",
   "execution_count": 85,
   "id": "a54dfa0b",
   "metadata": {},
   "outputs": [],
   "source": [
    "driver.get(url)"
   ]
  },
  {
   "cell_type": "code",
   "execution_count": 86,
   "id": "daf199df",
   "metadata": {},
   "outputs": [
    {
     "data": {
      "text/plain": [
       "['Santa Ana, la Virgen y el Niño',\n",
       " 'Óleo sobre tabla. 1525 - 1550',\n",
       " 'BENSON, AMBROSIUS',\n",
       " 'Florero',\n",
       " 'Óleo sobre tabla. Siglo XVII',\n",
       " 'BRUEGHEL EL VIEJO, JAN (DISCÍPULO DE)',\n",
       " 'La diosa Flora',\n",
       " 'Óleo sobre lienzo. Hacia 1625',\n",
       " 'RUBENS, PEDRO PABLO (TALLER DE)',\n",
       " 'Guirnalda rodeando a la Virgen María',\n",
       " 'Óleo sobre lámina de cobre. 1640 - 1660',\n",
       " 'VERENDAEL, NICOLAES VAN',\n",
       " 'Florero',\n",
       " 'Óleo sobre lienzo. 1670 - 1680',\n",
       " 'CORTE, GABRIEL DE LA',\n",
       " 'Florero',\n",
       " 'Óleo sobre tabla. Último tercio del siglo XVIII',\n",
       " 'MALAINE, JOSEPH-LAURENT',\n",
       " 'Florero',\n",
       " 'Óleo sobre tabla. 1787 - 1793',\n",
       " 'MALAINE, JOSEPH-LAURENT',\n",
       " 'Narcisos, anémonas y alhelíes',\n",
       " 'Aguafuerte, Buril sobre papel verjurado. 1660 - 1690',\n",
       " 'VAUQUER, JACQUES - DIBUJANTE',\n",
       " 'Placa con jilguero y flores',\n",
       " 'Taracea. Segunda mitad del siglo XVII',\n",
       " 'BENOTTI, DOMENICO']"
      ]
     },
     "execution_count": 86,
     "metadata": {},
     "output_type": "execute_result"
    }
   ],
   "source": [
    "data = driver.find_elements(By.XPATH, '//*[@id=\"panResultados\"]/div')[0].text.split('\\n')"
   ]
  },
  {
   "cell_type": "code",
   "execution_count": null,
   "id": "aa37455e",
   "metadata": {},
   "outputs": [],
   "source": [
    "for i in range(0, len(data), 3):\n",
    "    titulo, fecha, autor = map(str.strip, data[i:i+3])\n",
    "    \n",
    "    resultados.extend([titulo, fecha, autor, 'Alhelí Dorado (Cheiranthus Cheiri)'])\n"
   ]
  },
  {
   "cell_type": "markdown",
   "id": "93c00729",
   "metadata": {},
   "source": [
    "# Almendro (Prunus Dulcis) (4)"
   ]
  },
  {
   "cell_type": "code",
   "execution_count": 87,
   "id": "1ba76e2e",
   "metadata": {},
   "outputs": [],
   "source": [
    "# This is the url you will scrape in this exercise\n",
    "url = 'https://www.museodelprado.es/coleccion/obras-de-arte?ecidoc:p65_E36_p138_represents_flora@@@pm:floraNode=http://museodelprado.es/items/biologicalobjectflora_436'"
   ]
  },
  {
   "cell_type": "code",
   "execution_count": 88,
   "id": "fd800172",
   "metadata": {},
   "outputs": [],
   "source": [
    "driver.get(url)"
   ]
  },
  {
   "cell_type": "code",
   "execution_count": 89,
   "id": "93f2cb25",
   "metadata": {},
   "outputs": [
    {
     "data": {
      "text/plain": [
       "['San José con el Niño',\n",
       " 'Óleo sobre lienzo. Hacia 1650',\n",
       " 'MARTÍNEZ, SEBASTIÁN',\n",
       " 'Florero y cuenco de cerámica',\n",
       " 'Óleo sobre lienzo. 1663',\n",
       " 'CAMPROBÍN, PEDRO DE',\n",
       " 'Flores con una vela y un papel',\n",
       " 'Óleo sobre tabla. Último cuarto del siglo XVIII - Principio del siglo...',\n",
       " 'ESPINÓS, BENITO',\n",
       " 'Almendros en flor. El Pardo',\n",
       " 'Óleo sobre lienzo. 1910',\n",
       " 'BERUETE, AURELIANO DE']"
      ]
     },
     "execution_count": 89,
     "metadata": {},
     "output_type": "execute_result"
    }
   ],
   "source": [
    "data = driver.find_elements(By.XPATH, '//*[@id=\"panResultados\"]/div')[0].text.split('\\n')"
   ]
  },
  {
   "cell_type": "code",
   "execution_count": null,
   "id": "25c3f2e9",
   "metadata": {},
   "outputs": [],
   "source": [
    "for i in range(0, len(data), 3):\n",
    "    titulo, fecha, autor = map(str.strip, data[i:i+3])\n",
    "    \n",
    "    resultados.extend([titulo, fecha, autor, 'Almendro (Prunus Dulcis)'])\n"
   ]
  },
  {
   "cell_type": "markdown",
   "id": "a91fe267",
   "metadata": {},
   "source": [
    "# Altamisa / Hierba Santa (Tanacetum Parthenium) (2)"
   ]
  },
  {
   "cell_type": "code",
   "execution_count": 90,
   "id": "7f8b0216",
   "metadata": {},
   "outputs": [],
   "source": [
    "# This is the url you will scrape in this exercise\n",
    "url = 'https://www.museodelprado.es/coleccion/obras-de-arte?ecidoc:p65_E36_p138_represents_flora@@@pm:floraNode=http://museodelprado.es/items/biologicalobjectflora_426'"
   ]
  },
  {
   "cell_type": "code",
   "execution_count": 91,
   "id": "1bc5b5e6",
   "metadata": {},
   "outputs": [],
   "source": [
    "driver.get(url)"
   ]
  },
  {
   "cell_type": "code",
   "execution_count": 92,
   "id": "6deed1a3",
   "metadata": {},
   "outputs": [
    {
     "data": {
      "text/plain": [
       "['Bodegón con florero y cachorro',\n",
       " 'Óleo sobre lienzo. Hacia 1625',\n",
       " 'HAMEN Y LEÓN, JUAN VAN DER',\n",
       " 'Guirnalda de flores y paisaje',\n",
       " 'Óleo sobre lienzo. 1652',\n",
       " 'ARELLANO, JUAN DE']"
      ]
     },
     "execution_count": 92,
     "metadata": {},
     "output_type": "execute_result"
    }
   ],
   "source": [
    "data = driver.find_elements(By.XPATH, '//*[@id=\"panResultados\"]/div')[0].text.split('\\n')"
   ]
  },
  {
   "cell_type": "code",
   "execution_count": null,
   "id": "4796105b",
   "metadata": {},
   "outputs": [],
   "source": [
    "for i in range(0, len(data), 3):\n",
    "    titulo, fecha, autor = map(str.strip, data[i:i+3])\n",
    "    \n",
    "    resultados.extend([titulo, fecha, autor, 'Altamisa / Hierba Santa (Tanacetum Parthenium)'])\n"
   ]
  },
  {
   "cell_type": "markdown",
   "id": "c3f539c5",
   "metadata": {},
   "source": [
    "# Amapola (Papaver Rhoeas) (10)"
   ]
  },
  {
   "cell_type": "code",
   "execution_count": 93,
   "id": "b8ef4622",
   "metadata": {},
   "outputs": [],
   "source": [
    "# This is the url you will scrape in this exercise\n",
    "url = 'https://www.museodelprado.es/coleccion/obras-de-arte?ecidoc:p65_E36_p138_represents_flora@@@pm:floraNode=http://museodelprado.es/items/biologicalobjectflora_306'"
   ]
  },
  {
   "cell_type": "code",
   "execution_count": 94,
   "id": "525fa5f2",
   "metadata": {},
   "outputs": [],
   "source": [
    "driver.get(url)"
   ]
  },
  {
   "cell_type": "code",
   "execution_count": 95,
   "id": "8abe4fc5",
   "metadata": {},
   "outputs": [
    {
     "data": {
      "text/plain": [
       "['La Tierra',\n",
       " 'Óleo sobre lienzo. Siglo XVI',\n",
       " 'VOS, MARTIN DE',\n",
       " 'Florero',\n",
       " 'Óleo sobre lienzo. Siglo XVII',\n",
       " 'ANÓNIMO',\n",
       " 'La Virgen y el Niño en un cuadro rodeado de flores y frutas',\n",
       " 'Óleo sobre tabla. 1617 - 1620',\n",
       " 'RUBENS, PEDRO PABLO ; BRUEGHEL EL VIEJO, JAN',\n",
       " 'Florero con cuadriga vista de frente',\n",
       " 'Óleo sobre lienzo. 1643',\n",
       " 'HIEPES, TOMÁS',\n",
       " 'Florero con cuadriga vista de perfil',\n",
       " 'Óleo sobre lienzo. 1643',\n",
       " 'HIEPES, TOMÁS',\n",
       " 'Florero',\n",
       " 'Óleo sobre tabla. 1787 - 1793',\n",
       " 'MALAINE, JOSEPH-LAURENT',\n",
       " 'Niña en un paisaje',\n",
       " 'Óleo sobre lienzo. 1847',\n",
       " 'RIBERA Y FIEVE, CARLOS LUIS DE',\n",
       " 'La vuelta de las hadas al lago',\n",
       " 'Óleo sobre lienzo. Hacia 1864',\n",
       " 'PUEBLA Y TOLÍN, DIÓSCORO TEÓFILO',\n",
       " 'Niña con flor en la mano',\n",
       " 'Óleo sobre lienzo. Hacia 1890',\n",
       " 'ANÓNIMO',\n",
       " 'Copa de las Cuatro Estaciones',\n",
       " 'Grabado, Esmaltado, Tallado, Esmerilado. 1570 - 1600',\n",
       " 'TALLER DE LOS SARACHI ; FONTANA, ANNIBALE - DISEÑADOR - (?)']"
      ]
     },
     "execution_count": 95,
     "metadata": {},
     "output_type": "execute_result"
    }
   ],
   "source": [
    "data = driver.find_elements(By.XPATH, '//*[@id=\"panResultados\"]/div')[0].text.split('\\n')"
   ]
  },
  {
   "cell_type": "code",
   "execution_count": null,
   "id": "dd73b09f",
   "metadata": {},
   "outputs": [],
   "source": [
    "for i in range(0, len(data), 3):\n",
    "    titulo, fecha, autor = map(str.strip, data[i:i+3])\n",
    "    \n",
    "    resultados.extend([titulo, fecha, autor, 'Amapola (Papaver Rhoeas)'])\n"
   ]
  },
  {
   "cell_type": "markdown",
   "id": "d59977c4",
   "metadata": {},
   "source": [
    "# Amor de Hombre (Tradescantia Zebrina) (1)"
   ]
  },
  {
   "cell_type": "code",
   "execution_count": 96,
   "id": "c8134f06",
   "metadata": {},
   "outputs": [],
   "source": [
    "# This is the url you will scrape in this exercise\n",
    "url = 'https://www.museodelprado.es/coleccion/obras-de-arte?ecidoc:p65_E36_p138_represents_flora@@@pm:floraNode=http://museodelprado.es/items/biologicalobjectflora_552'"
   ]
  },
  {
   "cell_type": "code",
   "execution_count": 97,
   "id": "ae78e49b",
   "metadata": {},
   "outputs": [],
   "source": [
    "driver.get(url)"
   ]
  },
  {
   "cell_type": "code",
   "execution_count": 98,
   "id": "3381bc86",
   "metadata": {},
   "outputs": [
    {
     "data": {
      "text/plain": [
       "['Flores y frutas',\n",
       " 'Óleo sobre lienzo. 1887',\n",
       " 'RIVA Y CALLOL DE MUÑOZ, MARÍA LUISA DE LA']"
      ]
     },
     "execution_count": 98,
     "metadata": {},
     "output_type": "execute_result"
    }
   ],
   "source": [
    "data = driver.find_elements(By.XPATH, '//*[@id=\"panResultados\"]/div')[0].text.split('\\n')"
   ]
  },
  {
   "cell_type": "code",
   "execution_count": null,
   "id": "74faa9f9",
   "metadata": {},
   "outputs": [],
   "source": [
    "for i in range(0, len(data), 3):\n",
    "    titulo, fecha, autor = map(str.strip, data[i:i+3])\n",
    "    \n",
    "    resultados.extend([titulo, fecha, autor, 'Amor de Hombre (Tradescantia Zebrina)'])\n"
   ]
  },
  {
   "cell_type": "markdown",
   "id": "499cc7ce",
   "metadata": {},
   "source": [
    "# Ancusa / Chupamieles (Anchusa Azurea) (6)"
   ]
  },
  {
   "cell_type": "code",
   "execution_count": 99,
   "id": "e18217b4",
   "metadata": {},
   "outputs": [],
   "source": [
    "# This is the url you will scrape in this exercise\n",
    "url = 'https://www.museodelprado.es/coleccion/obras-de-arte?ecidoc:p65_E36_p138_represents_flora@@@pm:floraNode=http://museodelprado.es/items/biologicalobjectflora_370'"
   ]
  },
  {
   "cell_type": "code",
   "execution_count": 100,
   "id": "44f1e351",
   "metadata": {},
   "outputs": [],
   "source": [
    "driver.get(url)"
   ]
  },
  {
   "cell_type": "code",
   "execution_count": 101,
   "id": "8f3588ec",
   "metadata": {},
   "outputs": [
    {
     "data": {
      "text/plain": [
       "['Guirnalda con la Adoración de los Reyes Magos',\n",
       " 'Óleo sobre lámina de cobre. Siglos XVI - XVII',\n",
       " 'BRUEGHEL EL JOVEN, PIETER',\n",
       " 'Florero',\n",
       " 'Óleo sobre tabla. Primer cuarto del siglo XVII',\n",
       " 'BRUEGHEL EL VIEJO, JAN',\n",
       " 'Florero',\n",
       " 'Óleo sobre lámina de cobre. Siglo XVII',\n",
       " 'BRUEGHEL EL VIEJO, JAN',\n",
       " 'Florero',\n",
       " 'Óleo sobre tabla. 1609 - 1615',\n",
       " 'BRUEGHEL EL VIEJO, JAN',\n",
       " 'Guirnalda con la Virgen, el Niño y dos ángeles',\n",
       " 'Óleo sobre lámina de cobre. Hacia 1619',\n",
       " 'BRUEGHEL EL VIEJO, JAN ; PROCACCINI, GIULIO CESARE',\n",
       " 'Florero',\n",
       " 'Óleo sobre tabla. 1615',\n",
       " 'BRUEGHEL EL VIEJO, JAN']"
      ]
     },
     "execution_count": 101,
     "metadata": {},
     "output_type": "execute_result"
    }
   ],
   "source": [
    "data = driver.find_elements(By.XPATH, '//*[@id=\"panResultados\"]/div')[0].text.split('\\n')"
   ]
  },
  {
   "cell_type": "code",
   "execution_count": null,
   "id": "40358721",
   "metadata": {},
   "outputs": [],
   "source": [
    "for i in range(0, len(data), 3):\n",
    "    titulo, fecha, autor = map(str.strip, data[i:i+3])\n",
    "    \n",
    "    resultados.extend([titulo, fecha, autor, 'Ancusa / Chupamieles (Anchusa Azurea)'])\n"
   ]
  },
  {
   "cell_type": "markdown",
   "id": "e315a558",
   "metadata": {},
   "source": [
    "# Anémona (Anemone Spp.) (124)"
   ]
  },
  {
   "cell_type": "code",
   "execution_count": 102,
   "id": "d4e7169f",
   "metadata": {},
   "outputs": [],
   "source": [
    "# This is the url you will scrape in this exercise\n",
    "url = 'https://www.museodelprado.es/coleccion/obras-de-arte?ecidoc:p65_E36_p138_represents_flora@@@pm:floraNode=http://museodelprado.es/items/biologicalobjectflora_277'"
   ]
  },
  {
   "cell_type": "code",
   "execution_count": 103,
   "id": "d0b7ecbb",
   "metadata": {},
   "outputs": [],
   "source": [
    "driver.get(url)"
   ]
  },
  {
   "cell_type": "code",
   "execution_count": 104,
   "id": "8246b88a",
   "metadata": {},
   "outputs": [
    {
     "data": {
      "text/plain": [
       "['Florero',\n",
       " 'Óleo sobre tabla. Primer cuarto del siglo XVII',\n",
       " 'BRUEGHEL EL VIEJO, JAN',\n",
       " 'Florero',\n",
       " 'Óleo sobre lienzo. Primer cuarto del siglo XVII',\n",
       " 'BRUEGHEL EL VIEJO, JAN',\n",
       " 'Florero',\n",
       " 'Óleo sobre lienzo. Primer cuarto del siglo XVII',\n",
       " 'BRUEGHEL EL VIEJO, JAN',\n",
       " 'Guirnalda de flores con la Virgen, el Niño y San Juan',\n",
       " 'Óleo sobre lienzo. Primera mitad del siglo XVII',\n",
       " 'QUELLINUS, ERASMUS ; SEGHERS, DANIEL',\n",
       " 'Florero',\n",
       " 'Óleo sobre lienzo. Siglo XVII',\n",
       " 'ARELLANO, JUAN DE',\n",
       " 'Florero',\n",
       " 'Óleo sobre lienzo. Siglo XVII',\n",
       " 'ARELLANO, JUAN DE',\n",
       " 'Florero',\n",
       " 'Óleo sobre lienzo. Siglo XVII',\n",
       " 'PÉREZ, BARTOLOMÉ (ATRIBUIDO A)',\n",
       " 'Florero',\n",
       " 'Óleo sobre lienzo. Siglo XVII',\n",
       " 'PÉREZ, BARTOLOMÉ',\n",
       " 'Florero',\n",
       " 'Óleo sobre lienzo. Siglo XVII',\n",
       " 'NUZZI, MARIO',\n",
       " 'Florero',\n",
       " 'Óleo sobre lienzo. Siglo XVII',\n",
       " 'PÉREZ, BARTOLOMÉ',\n",
       " 'Guirnalda con Santa Ana, la Virgen y el Niño',\n",
       " 'Grisalla, Óleo sobre tabla. Siglo XVII',\n",
       " 'BOSMANS, ANDRIES',\n",
       " 'La Abundancia y los Cuatro Elementos',\n",
       " 'Óleo sobre tabla. Siglo XVII',\n",
       " 'BRUEGHEL EL JOVEN, JAN',\n",
       " 'Guirnalda con la Virgen y el Niño',\n",
       " 'Óleo sobre lienzo. Siglo XVII',\n",
       " 'SEGHERS, DANIEL',\n",
       " 'Guirnalda con la Virgen y el Niño',\n",
       " 'Óleo sobre tabla. Siglo XVII',\n",
       " 'SEGHERS, DANIEL ; SCHUT, CORNELIS',\n",
       " 'Guirnalda con la Virgen, el Niño y san Juan',\n",
       " 'Óleo sobre tabla. Siglo XVII',\n",
       " 'SEGHERS, DANIEL ; SCHUT, CORNELIS',\n",
       " 'Guirnalda con la Virgen y el Niño',\n",
       " 'Óleo sobre lámina de cobre. Siglo XVII',\n",
       " 'SEGHERS, DANIEL ; SCHUT, CORNELIS (?)',\n",
       " 'Guirnalda con Jesús y Santa Teresa',\n",
       " 'Óleo sobre lienzo. Siglo XVII',\n",
       " 'SEGHERS, DANIEL',\n",
       " 'Guirnalda de flores y frutas con la Piedad',\n",
       " 'Óleo sobre lienzo. Siglo XVII',\n",
       " 'HUYNEN, CORNELIUS VAN']"
      ]
     },
     "execution_count": 104,
     "metadata": {},
     "output_type": "execute_result"
    }
   ],
   "source": [
    "data = driver.find_elements(By.XPATH, '//*[@id=\"panResultados\"]/div')[0].text.split('\\n')"
   ]
  },
  {
   "cell_type": "code",
   "execution_count": null,
   "id": "1b6c99fe",
   "metadata": {},
   "outputs": [],
   "source": [
    "for i in range(0, len(data), 3):\n",
    "    titulo, fecha, autor = map(str.strip, data[i:i+3])\n",
    "    \n",
    "    resultados.extend([titulo, fecha, autor, 'Anémona (Anemone Spp.)'])\n"
   ]
  },
  {
   "cell_type": "markdown",
   "id": "fadc5042",
   "metadata": {},
   "source": [
    "# Árbol del Paraiso (Eleagnus Angustifolia) (1)"
   ]
  },
  {
   "cell_type": "code",
   "execution_count": 105,
   "id": "29b6f4f5",
   "metadata": {},
   "outputs": [],
   "source": [
    "# This is the url you will scrape in this exercise\n",
    "url = 'https://www.museodelprado.es/coleccion/obras-de-arte?ecidoc:p65_E36_p138_represents_flora@@@pm:floraNode=http://museodelprado.es/items/biologicalobjectflora_360'"
   ]
  },
  {
   "cell_type": "code",
   "execution_count": 106,
   "id": "676f4262",
   "metadata": {},
   "outputs": [],
   "source": [
    "driver.get(url)"
   ]
  },
  {
   "cell_type": "code",
   "execution_count": 107,
   "id": "f98b229d",
   "metadata": {},
   "outputs": [
    {
     "data": {
      "text/plain": [
       "['Guirnalda rodeando a la Virgen María',\n",
       " 'Óleo sobre lámina de cobre. 1640 - 1660',\n",
       " 'VERENDAEL, NICOLAES VAN']"
      ]
     },
     "execution_count": 107,
     "metadata": {},
     "output_type": "execute_result"
    }
   ],
   "source": [
    "data = driver.find_elements(By.XPATH, '//*[@id=\"panResultados\"]/div')[0].text.split('\\n')"
   ]
  },
  {
   "cell_type": "code",
   "execution_count": null,
   "id": "d455c769",
   "metadata": {},
   "outputs": [],
   "source": [
    "for i in range(0, len(data), 3):\n",
    "    titulo, fecha, autor = map(str.strip, data[i:i+3])\n",
    "    \n",
    "    resultados.extend([titulo, fecha, autor, 'Árbol del Paraiso (Eleagnus Angustifolia)'])\n"
   ]
  },
  {
   "cell_type": "markdown",
   "id": "b0f06300",
   "metadata": {},
   "source": [
    "# Áster (Aster Cordifolius) (1)"
   ]
  },
  {
   "cell_type": "code",
   "execution_count": 108,
   "id": "05fd88f7",
   "metadata": {},
   "outputs": [],
   "source": [
    "# This is the url you will scrape in this exercise\n",
    "url = 'https://www.museodelprado.es/coleccion/obras-de-arte?ecidoc:p65_E36_p138_represents_flora@@@pm:floraNode=http://museodelprado.es/items/biologicalobjectflora_548'"
   ]
  },
  {
   "cell_type": "code",
   "execution_count": 109,
   "id": "a5b95279",
   "metadata": {},
   "outputs": [],
   "source": [
    "driver.get(url)"
   ]
  },
  {
   "cell_type": "code",
   "execution_count": 110,
   "id": "272f62e6",
   "metadata": {},
   "outputs": [
    {
     "data": {
      "text/plain": [
       "['Recuerdo de otoño', 'Óleo sobre lienzo. Hacia 1892', 'MENASSADE, EMILIA']"
      ]
     },
     "execution_count": 110,
     "metadata": {},
     "output_type": "execute_result"
    }
   ],
   "source": [
    "data = driver.find_elements(By.XPATH, '//*[@id=\"panResultados\"]/div')[0].text.split('\\n')"
   ]
  },
  {
   "cell_type": "code",
   "execution_count": null,
   "id": "750357e2",
   "metadata": {},
   "outputs": [],
   "source": [
    "for i in range(0, len(data), 3):\n",
    "    titulo, fecha, autor = map(str.strip, data[i:i+3])\n",
    "    \n",
    "    resultados.extend([titulo, fecha, autor, 'Áster (Aster Cordifolius)'])\n"
   ]
  },
  {
   "cell_type": "markdown",
   "id": "55b73088",
   "metadata": {},
   "source": [
    "# Azafrán (Crocus Sativus) (1)"
   ]
  },
  {
   "cell_type": "code",
   "execution_count": 111,
   "id": "a8cd9b1f",
   "metadata": {},
   "outputs": [],
   "source": [
    "# This is the url you will scrape in this exercise\n",
    "url = 'https://www.museodelprado.es/coleccion/obras-de-arte?ecidoc:p65_E36_p138_represents_flora@@@pm:floraNode=http://museodelprado.es/items/biologicalobjectflora_414'"
   ]
  },
  {
   "cell_type": "code",
   "execution_count": 112,
   "id": "eaab269f",
   "metadata": {},
   "outputs": [],
   "source": [
    "driver.get(url)"
   ]
  },
  {
   "cell_type": "code",
   "execution_count": 113,
   "id": "c3e7426d",
   "metadata": {},
   "outputs": [
    {
     "data": {
      "text/plain": [
       "['Guirnalda con la Sagrada Familia',\n",
       " 'Óleo sobre lámina de cobre. Siglo XVII',\n",
       " 'ANÓNIMO']"
      ]
     },
     "execution_count": 113,
     "metadata": {},
     "output_type": "execute_result"
    }
   ],
   "source": [
    "data = driver.find_elements(By.XPATH, '//*[@id=\"panResultados\"]/div')[0].text.split('\\n')"
   ]
  },
  {
   "cell_type": "code",
   "execution_count": null,
   "id": "1587cb9d",
   "metadata": {},
   "outputs": [],
   "source": [
    "for i in range(0, len(data), 3):\n",
    "    titulo, fecha, autor = map(str.strip, data[i:i+3])\n",
    "    \n",
    "    resultados.extend([titulo, fecha, autor, 'Azafrán (Crocus Sativus)'])\n"
   ]
  },
  {
   "cell_type": "markdown",
   "id": "f98b3371",
   "metadata": {},
   "source": [
    "# Azucena (Lilium Candidum) (134)"
   ]
  },
  {
   "cell_type": "code",
   "execution_count": 114,
   "id": "eae68563",
   "metadata": {},
   "outputs": [],
   "source": [
    "# This is the url you will scrape in this exercise\n",
    "url = 'https://www.museodelprado.es/coleccion/obras-de-arte?ecidoc:p65_E36_p138_represents_flora@@@pm:floraNode=http://museodelprado.es/items/biologicalobjectflora_157'"
   ]
  },
  {
   "cell_type": "code",
   "execution_count": 115,
   "id": "42fbfc99",
   "metadata": {},
   "outputs": [],
   "source": [
    "driver.get(url)"
   ]
  },
  {
   "cell_type": "code",
   "execution_count": 116,
   "id": "ac5c4f0c",
   "metadata": {},
   "outputs": [
    {
     "data": {
      "text/plain": [
       "['La Anunciación',\n",
       " 'Óleo sobre tabla de madera de roble. 1420 - 1425',\n",
       " 'CAMPIN, ROBERT',\n",
       " 'La Virgen anunciada',\n",
       " 'Temple sobre tabla. 1425 - 1450',\n",
       " 'PERIS SARRIÀ, GONÇAL',\n",
       " 'La Anunciación',\n",
       " 'Óleo sobre tabla. Hacia 1470',\n",
       " 'MAESTRO DE SOPETRÁN',\n",
       " 'La Virgen con el Niño entre Santo Domingo de Guzmán y Santo Tomás de Aquino',\n",
       " 'Óleo sobre tabla. 1480 - 1500',\n",
       " 'ANÓNIMO',\n",
       " 'San Juan Evangelista',\n",
       " 'Óleo sobre tabla. 1490 - 1495',\n",
       " 'ANÓNIMO',\n",
       " 'La Virgen de los Reyes Católicos',\n",
       " 'Técnica mixta sobre tabla. 1491 - 1493',\n",
       " 'MAESTRO DE LA VIRGEN DE LOS REYES CATÓLICOS',\n",
       " 'Santo Domingo de Guzmán',\n",
       " 'Óleo sobre tabla. 1491 - 1499',\n",
       " 'BERRUGUETE, PEDRO',\n",
       " 'La Anunciación',\n",
       " 'Técnica mixta sobre tabla pasada a lienzo. Hacia 1500',\n",
       " 'MAESTRO DE LA SISLA',\n",
       " 'La Virgen del Rosario entre Santo Domingo y San Pedro Mártir',\n",
       " 'Óleo sobre tabla. Primer tercio del siglo XVI',\n",
       " 'ANÓNIMO',\n",
       " 'La Anunciación, San Jerónimo y San Juan Bautista',\n",
       " 'Óleo sobre tabla. Siglo XVI',\n",
       " 'MAESTRO DE LA SANTA SANGRE',\n",
       " 'La Anunciación',\n",
       " 'Óleo sobre tabla. Siglo XVI',\n",
       " 'ANÓNIMO',\n",
       " 'La Tierra',\n",
       " 'Óleo sobre lienzo. Siglo XVI',\n",
       " 'VOS, MARTIN DE',\n",
       " 'Mesa de los Pecados Capitales',\n",
       " 'Óleo sobre tabla de madera de chopo. 1505 - 1510',\n",
       " 'EL BOSCO',\n",
       " 'Milagros de los santos médicos Cosme y Damián',\n",
       " 'Óleo sobre tabla. Hacia 1510',\n",
       " 'RINCÓN, FERNANDO DEL',\n",
       " 'La Virgen con el Niño entre san Antonio de Padua y san Roque',\n",
       " 'Óleo sobre lienzo. Hacia 1510',\n",
       " 'TIZIANO, VECELLIO DI GREGORIO',\n",
       " 'La Anunciación',\n",
       " 'Óleo sobre tabla. 1559',\n",
       " 'CORREA DE VIVAR, JUAN',\n",
       " 'La Anunciación',\n",
       " 'Óleo sobre tabla. Hacia 1565',\n",
       " 'MORALES, LUIS DE',\n",
       " 'La Anunciación',\n",
       " 'Óleo sobre lienzo. Finales del siglo XVI - Primer tercio del siglo XVII',\n",
       " 'ANÓNIMO (OBRA COPIADA DE: CARDUCHO, VICENTE)']"
      ]
     },
     "execution_count": 116,
     "metadata": {},
     "output_type": "execute_result"
    }
   ],
   "source": [
    "data = driver.find_elements(By.XPATH, '//*[@id=\"panResultados\"]/div')[0].text.split('\\n')"
   ]
  },
  {
   "cell_type": "code",
   "execution_count": null,
   "id": "ab8d10a3",
   "metadata": {},
   "outputs": [],
   "source": [
    "for i in range(0, len(data), 3):\n",
    "    titulo, fecha, autor = map(str.strip, data[i:i+3])\n",
    "    \n",
    "    resultados.extend([titulo, fecha, autor, 'Azucena (Lilium Candidum)'])\n"
   ]
  },
  {
   "cell_type": "markdown",
   "id": "4ce9a5ce",
   "metadata": {},
   "source": [
    "# Borraja (Borago Officinalis) (4)"
   ]
  },
  {
   "cell_type": "code",
   "execution_count": 127,
   "id": "701c5e53",
   "metadata": {},
   "outputs": [],
   "source": [
    "# This is the url you will scrape in this exercise\n",
    "url = 'https://www.museodelprado.es/coleccion/obras-de-arte?ecidoc:p65_E36_p138_represents_flora@@@pm:floraNode=http://museodelprado.es/items/biologicalobjectflora_566'"
   ]
  },
  {
   "cell_type": "code",
   "execution_count": 128,
   "id": "d7a704c0",
   "metadata": {},
   "outputs": [],
   "source": [
    "driver.get(url)"
   ]
  },
  {
   "cell_type": "code",
   "execution_count": null,
   "id": "6aaa8b7c",
   "metadata": {},
   "outputs": [],
   "source": [
    "data = driver.find_elements(By.XPATH, '//*[@id=\"panResultados\"]/div')[0].text.split('\\n')"
   ]
  },
  {
   "cell_type": "code",
   "execution_count": null,
   "id": "9a316cc7",
   "metadata": {},
   "outputs": [],
   "source": [
    "for i in range(0, len(data), 3):\n",
    "    titulo, fecha, autor = map(str.strip, data[i:i+3])\n",
    "    \n",
    "    resultados.extend([titulo, fecha, autor, 'Borraja (Borago Officinalis)'])\n"
   ]
  },
  {
   "cell_type": "markdown",
   "id": "424297fc",
   "metadata": {},
   "source": [
    "# Cala / Alcatraz (Zantedeschia Aethiopica) (3)"
   ]
  },
  {
   "cell_type": "code",
   "execution_count": null,
   "id": "08255073",
   "metadata": {},
   "outputs": [],
   "source": [
    "# This is the url you will scrape in this exercise\n",
    "url = "
   ]
  },
  {
   "cell_type": "code",
   "execution_count": null,
   "id": "a2d57596",
   "metadata": {},
   "outputs": [],
   "source": [
    "driver.get(url)"
   ]
  },
  {
   "cell_type": "code",
   "execution_count": 129,
   "id": "797fe8da",
   "metadata": {},
   "outputs": [
    {
     "data": {
      "text/plain": [
       "['Tríptico del Jardín de las delicias',\n",
       " 'Grisalla, Óleo sobre tabla de madera de roble. 1490 - 1500',\n",
       " 'EL BOSCO',\n",
       " 'Santa Ana, la Virgen, Santa Isabel, San Juan y Jesús niño',\n",
       " 'Óleo sobre tabla. 1525 - 1532',\n",
       " 'YÁÑEZ DE LA ALMEDINA, FERNANDO',\n",
       " 'Guirnalda con Jesús y Santa Teresa',\n",
       " 'Óleo sobre lienzo. Siglo XVII',\n",
       " 'SEGHERS, DANIEL',\n",
       " 'Paisaje dentro de una guirnalda',\n",
       " 'Óleo sobre lienzo. Finales del siglo XVII',\n",
       " 'YKENS, CATHARINA II']"
      ]
     },
     "execution_count": 129,
     "metadata": {},
     "output_type": "execute_result"
    }
   ],
   "source": [
    "data = driver.find_elements(By.XPATH, '//*[@id=\"panResultados\"]/div')[0].text.split('\\n')"
   ]
  },
  {
   "cell_type": "code",
   "execution_count": null,
   "id": "d2761923",
   "metadata": {},
   "outputs": [],
   "source": [
    "for i in range(0, len(data), 3):\n",
    "    titulo, fecha, autor = map(str.strip, data[i:i+3])\n",
    "    \n",
    "    resultados.extend([titulo, fecha, autor, 'Cala / Alcatraz (Zantedeschia Aethiopica)'])\n"
   ]
  },
  {
   "cell_type": "markdown",
   "id": "f342f2d5",
   "metadata": {},
   "source": [
    "# Caléndula / Maravilla (Calendula Officinalis) (20)"
   ]
  },
  {
   "cell_type": "code",
   "execution_count": null,
   "id": "626510df",
   "metadata": {},
   "outputs": [],
   "source": [
    "# This is the url you will scrape in this exercise\n",
    "url = 'https://www.museodelprado.es/coleccion/obras-de-arte?searchObras=calendula%20/%20maravilla%20(calendula%20officinalis)'"
   ]
  },
  {
   "cell_type": "code",
   "execution_count": null,
   "id": "cb7ce203",
   "metadata": {},
   "outputs": [],
   "source": [
    "driver.get(url)"
   ]
  },
  {
   "cell_type": "code",
   "execution_count": 130,
   "id": "004c738a",
   "metadata": {},
   "outputs": [
    {
     "data": {
      "text/plain": [
       "['Tríptico del Jardín de las delicias',\n",
       " 'Grisalla, Óleo sobre tabla de madera de roble. 1490 - 1500',\n",
       " 'EL BOSCO',\n",
       " 'Santa Ana, la Virgen, Santa Isabel, San Juan y Jesús niño',\n",
       " 'Óleo sobre tabla. 1525 - 1532',\n",
       " 'YÁÑEZ DE LA ALMEDINA, FERNANDO',\n",
       " 'Guirnalda con Jesús y Santa Teresa',\n",
       " 'Óleo sobre lienzo. Siglo XVII',\n",
       " 'SEGHERS, DANIEL',\n",
       " 'Paisaje dentro de una guirnalda',\n",
       " 'Óleo sobre lienzo. Finales del siglo XVII',\n",
       " 'YKENS, CATHARINA II']"
      ]
     },
     "execution_count": 130,
     "metadata": {},
     "output_type": "execute_result"
    }
   ],
   "source": [
    "data = driver.find_elements(By.XPATH, '//*[@id=\"panResultados\"]/div')[0].text.split('\\n')"
   ]
  },
  {
   "cell_type": "code",
   "execution_count": null,
   "id": "aa753b92",
   "metadata": {},
   "outputs": [],
   "source": [
    "for i in range(0, len(data), 3):\n",
    "    titulo, fecha, autor = map(str.strip, data[i:i+3])\n",
    "    \n",
    "    resultados.extend([titulo, fecha, autor, 'Caléndula / Maravilla (Calendula Officinalis)'])\n"
   ]
  },
  {
   "cell_type": "markdown",
   "id": "1995625d",
   "metadata": {},
   "source": [
    "# Camelia (Camellis Spp.) (3)"
   ]
  },
  {
   "cell_type": "code",
   "execution_count": 131,
   "id": "00e08dfc",
   "metadata": {},
   "outputs": [],
   "source": [
    "# This is the url you will scrape in this exercise\n",
    "url = 'https://www.museodelprado.es/coleccion/obras-de-arte?ecidoc:p65_E36_p138_represents_flora@@@pm:floraNode=http://museodelprado.es/items/biologicalobjectflora_458'"
   ]
  },
  {
   "cell_type": "code",
   "execution_count": 132,
   "id": "c9e808ec",
   "metadata": {},
   "outputs": [],
   "source": [
    "driver.get(url)"
   ]
  },
  {
   "cell_type": "code",
   "execution_count": 133,
   "id": "2db90372",
   "metadata": {},
   "outputs": [
    {
     "data": {
      "text/plain": [
       "['Guirnalda',\n",
       " 'Óleo sobre lienzo. 1635 - 1651',\n",
       " 'SEGHERS, DANIEL',\n",
       " 'Josefa Manzanedo e Intentas, luego II marquesa de Manzanedo',\n",
       " 'Óleo sobre lienzo. 1872',\n",
       " 'MEISSONIER, JEAN-LOUIS-ERNEST',\n",
       " 'Jarrón de flores con frutas',\n",
       " 'Óleo sobre lienzo. 1877',\n",
       " 'RODRÍGUEZ OLAVIDE, GENARO']"
      ]
     },
     "execution_count": 133,
     "metadata": {},
     "output_type": "execute_result"
    }
   ],
   "source": [
    "data = driver.find_elements(By.XPATH, '//*[@id=\"panResultados\"]/div')[0].text.split('\\n')"
   ]
  },
  {
   "cell_type": "code",
   "execution_count": null,
   "id": "1cd96e2c",
   "metadata": {},
   "outputs": [],
   "source": [
    "for i in range(0, len(data), 3):\n",
    "    titulo, fecha, autor = map(str.strip, data[i:i+3])\n",
    "    \n",
    "    resultados.extend([titulo, fecha, autor, 'Camelia (Camellis Spp.)'])\n"
   ]
  },
  {
   "cell_type": "markdown",
   "id": "d3b4d9f2",
   "metadata": {},
   "source": [
    "# Campanilla de Invierno (Galanthus Nivalis) (3)"
   ]
  },
  {
   "cell_type": "code",
   "execution_count": 134,
   "id": "cc28d761",
   "metadata": {},
   "outputs": [],
   "source": [
    "# This is the url you will scrape in this exercise\n",
    "url = 'https://www.museodelprado.es/coleccion/obras-de-arte?ecidoc:p65_E36_p138_represents_flora@@@pm:floraNode=http://museodelprado.es/items/biologicalobjectflora_848'"
   ]
  },
  {
   "cell_type": "code",
   "execution_count": 135,
   "id": "f62adcb8",
   "metadata": {},
   "outputs": [],
   "source": [
    "driver.get(url)"
   ]
  },
  {
   "cell_type": "code",
   "execution_count": 136,
   "id": "8e6d146a",
   "metadata": {},
   "outputs": [
    {
     "data": {
      "text/plain": [
       "['Guirnalda con tres amores',\n",
       " 'Óleo sobre tabla. Hacia 1646',\n",
       " 'LUYCKS, CHRISTIAAN',\n",
       " 'Guirnalda con la Virgen y el Niño',\n",
       " 'Óleo sobre lámina de cobre. 1644',\n",
       " 'SEGHERS, DANIEL',\n",
       " 'San Felipe en hornacina rodeada de flores',\n",
       " 'Óleo sobre lámina de cobre. 1651',\n",
       " 'THIELEN, JAN PHILIP VAN']"
      ]
     },
     "execution_count": 136,
     "metadata": {},
     "output_type": "execute_result"
    }
   ],
   "source": [
    "data = driver.find_elements(By.XPATH, '//*[@id=\"panResultados\"]/div')[0].text.split('\\n')"
   ]
  },
  {
   "cell_type": "code",
   "execution_count": null,
   "id": "62c6070b",
   "metadata": {},
   "outputs": [],
   "source": [
    "for i in range(0, len(data), 3):\n",
    "    titulo, fecha, autor = map(str.strip, data[i:i+3])\n",
    "    \n",
    "    resultados.extend([titulo, fecha, autor, 'Campanilla de Invierno (Galanthus Nivalis)'])\n"
   ]
  },
  {
   "cell_type": "markdown",
   "id": "ca0b1af2",
   "metadata": {},
   "source": [
    "# Cantueso / Tomillo Borriquero (Lavandula Stoechas) (1)"
   ]
  },
  {
   "cell_type": "code",
   "execution_count": 137,
   "id": "4613cc3c",
   "metadata": {},
   "outputs": [],
   "source": [
    "# This is the url you will scrape in this exercise\n",
    "url = 'https://www.museodelprado.es/coleccion/obras-de-arte?ecidoc:p65_E36_p138_represents_flora@@@pm:floraNode=http://museodelprado.es/items/biologicalobjectflora_429'"
   ]
  },
  {
   "cell_type": "code",
   "execution_count": 138,
   "id": "32900dce",
   "metadata": {},
   "outputs": [],
   "source": [
    "driver.get(url)"
   ]
  },
  {
   "cell_type": "code",
   "execution_count": 139,
   "id": "4b5f1cd8",
   "metadata": {},
   "outputs": [
    {
     "data": {
      "text/plain": [
       "['Espinos en flor. Plantío de los Infantes',\n",
       " 'Óleo sobre lienzo. 1911',\n",
       " 'BERUETE, AURELIANO DE']"
      ]
     },
     "execution_count": 139,
     "metadata": {},
     "output_type": "execute_result"
    }
   ],
   "source": [
    "data = driver.find_elements(By.XPATH, '//*[@id=\"panResultados\"]/div')[0].text.split('\\n')"
   ]
  },
  {
   "cell_type": "code",
   "execution_count": null,
   "id": "3bad30df",
   "metadata": {},
   "outputs": [],
   "source": [
    "for i in range(0, len(data), 3):\n",
    "    titulo, fecha, autor = map(str.strip, data[i:i+3])\n",
    "    \n",
    "    resultados.extend([titulo, fecha, autor, 'Cantueso / Tomillo Borriquero (Lavandula Stoechas)'])\n"
   ]
  },
  {
   "cell_type": "markdown",
   "id": "748b21fc",
   "metadata": {},
   "source": [
    "# Capuchina (Tropaeolum Majus) (22)"
   ]
  },
  {
   "cell_type": "code",
   "execution_count": 140,
   "id": "119fc9ee",
   "metadata": {},
   "outputs": [],
   "source": [
    "# This is the url you will scrape in this exercise\n",
    "url = 'https://www.museodelprado.es/coleccion/obras-de-arte?ecidoc:p65_E36_p138_represents_flora@@@pm:floraNode=http://museodelprado.es/items/biologicalobjectflora_332'"
   ]
  },
  {
   "cell_type": "code",
   "execution_count": 141,
   "id": "354eafeb",
   "metadata": {},
   "outputs": [],
   "source": [
    "driver.get(url)"
   ]
  },
  {
   "cell_type": "code",
   "execution_count": 142,
   "id": "d52a5610",
   "metadata": {},
   "outputs": [
    {
     "data": {
      "text/plain": [
       "['Flores sobre un plato',\n",
       " 'Óleo sobre tabla. Primer cuarto del siglo XVII',\n",
       " 'BRUEGHEL EL VIEJO, JAN',\n",
       " 'Amorcillos con guirnalda de flores',\n",
       " 'Óleo sobre lienzo. Siglo XVII',\n",
       " 'ANÓNIMO',\n",
       " 'Florero',\n",
       " 'Óleo sobre lienzo. Siglo XVII',\n",
       " 'PÉREZ, BARTOLOMÉ (ATRIBUIDO A)',\n",
       " 'Guirnalda de flores',\n",
       " 'Óleo sobre lienzo. Siglo XVII',\n",
       " 'PÉREZ, BARTOLOMÉ (ATRIBUIDO A)',\n",
       " 'Guirnalda con la Virgen, el Niño y dos ángeles',\n",
       " 'Óleo sobre lámina de cobre. Hacia 1619',\n",
       " 'BRUEGHEL EL VIEJO, JAN ; PROCACCINI, GIULIO CESARE',\n",
       " 'Florero',\n",
       " 'Óleo sobre tabla. 1615',\n",
       " 'BRUEGHEL EL VIEJO, JAN',\n",
       " 'Guirnalda con la Virgen y el Niño',\n",
       " 'Óleo sobre lámina de cobre. 1644',\n",
       " 'SEGHERS, DANIEL',\n",
       " 'Muchacha con canasto de flores',\n",
       " 'Óleo sobre lienzo. Segunda mitad del siglo XVII',\n",
       " 'MARATTI, CARLO ; STANCHI, GIOVANNI',\n",
       " 'Florero',\n",
       " 'Óleo sobre lienzo. Segunda mitad del siglo XVII - Primer cuarto del...',\n",
       " 'TAMM, FRANZ WERNER VON',\n",
       " 'Jarrón con flores',\n",
       " 'Óleo sobre lienzo. Último cuarto del siglo XVII',\n",
       " 'CAFFI, MARGARITA',\n",
       " 'Florero',\n",
       " 'Óleo sobre lienzo. 1678 - 1700',\n",
       " 'CAFFI, MARGARITA',\n",
       " 'Florero',\n",
       " 'Óleo sobre lienzo. 1678 - 1700',\n",
       " 'CAFFI, MARGARITA',\n",
       " 'Retrato de María Isabel de Austria, hija del emperador Leopoldo I',\n",
       " 'Óleo sobre lienzo. Hacia 1695',\n",
       " 'ANÓNIMO',\n",
       " 'La diosa Flora',\n",
       " 'Óleo sobre lienzo. Hacia 1697',\n",
       " 'GIORDANO, LUCA - PINTOR; BELVEDERE, ANDREA - PINTOR',\n",
       " 'Diana en un paisaje',\n",
       " 'Óleo sobre lienzo. 1739',\n",
       " 'LOO, LOUIS-MICHEL VAN',\n",
       " 'Florero',\n",
       " 'Óleo sobre tabla. Segunda mitad del siglo XVIII',\n",
       " 'ESPINÓS, BENITO',\n",
       " 'Guirnalda de flores con Mercurio y Minerva',\n",
       " 'Óleo sobre tabla. 1811',\n",
       " 'ESPINÓS, BENITO',\n",
       " 'Jarrón de flores con frutas',\n",
       " 'Óleo sobre lienzo. 1877',\n",
       " 'RODRÍGUEZ OLAVIDE, GENARO']"
      ]
     },
     "execution_count": 142,
     "metadata": {},
     "output_type": "execute_result"
    }
   ],
   "source": [
    "data = driver.find_elements(By.XPATH, '//*[@id=\"panResultados\"]/div')[0].text.split('\\n')"
   ]
  },
  {
   "cell_type": "code",
   "execution_count": null,
   "id": "cd9da033",
   "metadata": {},
   "outputs": [],
   "source": [
    "for i in range(0, len(data), 3):\n",
    "    titulo, fecha, autor = map(str.strip, data[i:i+3])\n",
    "    \n",
    "    resultados.extend([titulo, fecha, autor, 'Capuchina (Tropaeolum Majus)'])\n"
   ]
  },
  {
   "cell_type": "markdown",
   "id": "57ed21f6",
   "metadata": {},
   "source": [
    "# Castaño Común (Castanea Sativa) (2)"
   ]
  },
  {
   "cell_type": "code",
   "execution_count": 143,
   "id": "da766f31",
   "metadata": {},
   "outputs": [],
   "source": [
    "# This is the url you will scrape in this exercise\n",
    "url = 'https://www.museodelprado.es/coleccion/obras-de-arte?ecidoc:p65_E36_p138_represents_flora@@@pm:floraNode=http://museodelprado.es/items/biologicalobjectflora_448'"
   ]
  },
  {
   "cell_type": "code",
   "execution_count": 144,
   "id": "339e7f6c",
   "metadata": {},
   "outputs": [],
   "source": [
    "driver.get(url)"
   ]
  },
  {
   "cell_type": "code",
   "execution_count": 145,
   "id": "09c6cf89",
   "metadata": {},
   "outputs": [
    {
     "data": {
      "text/plain": [
       "['Octubre (Escorpión)',\n",
       " 'Óleo sobre lienzo. Siglos XVI - XVII',\n",
       " 'BASSANO, FRANCESCO',\n",
       " 'Bodegón',\n",
       " 'Óleo sobre tabla. Siglo XVII',\n",
       " 'COOSEMANS, ALEXANDER']"
      ]
     },
     "execution_count": 145,
     "metadata": {},
     "output_type": "execute_result"
    }
   ],
   "source": [
    "data = driver.find_elements(By.XPATH, '//*[@id=\"panResultados\"]/div')[0].text.split('\\n')"
   ]
  },
  {
   "cell_type": "code",
   "execution_count": null,
   "id": "2916a721",
   "metadata": {},
   "outputs": [],
   "source": [
    "for i in range(0, len(data), 3):\n",
    "    titulo, fecha, autor = map(str.strip, data[i:i+3])\n",
    "    \n",
    "    resultados.extend([titulo, fecha, autor, 'Castaño Común (Castanea Sativa)'])\n"
   ]
  },
  {
   "cell_type": "markdown",
   "id": "970759f5",
   "metadata": {},
   "source": [
    "# Caña de Indias / Canna (Canna Indica) (3)"
   ]
  },
  {
   "cell_type": "code",
   "execution_count": 146,
   "id": "2b9ce9b8",
   "metadata": {},
   "outputs": [],
   "source": [
    "# This is the url you will scrape in this exercise\n",
    "url = 'https://www.museodelprado.es/coleccion/obras-de-arte?ecidoc:p65_E36_p138_represents_flora@@@pm:floraNode=http://museodelprado.es/items/biologicalobjectflora_379'"
   ]
  },
  {
   "cell_type": "code",
   "execution_count": 147,
   "id": "4e807e55",
   "metadata": {},
   "outputs": [],
   "source": [
    "driver.get(url)"
   ]
  },
  {
   "cell_type": "code",
   "execution_count": 148,
   "id": "7bf26ccd",
   "metadata": {},
   "outputs": [
    {
     "data": {
      "text/plain": [
       "['La Abundancia y los Cuatro Elementos',\n",
       " 'Óleo sobre tabla. Siglo XVII',\n",
       " 'BRUEGHEL EL JOVEN, JAN',\n",
       " 'La Abundancia y los Cuatro Elementos',\n",
       " 'Óleo sobre tabla. Hacia 1615',\n",
       " 'BALEN, HENDRICK VAN ; BRUEGHEL EL VIEJO, JAN',\n",
       " 'El Olfato',\n",
       " 'Óleo sobre tabla. 1617 - 1618',\n",
       " 'RUBENS, PEDRO PABLO ; BRUEGHEL EL VIEJO, JAN']"
      ]
     },
     "execution_count": 148,
     "metadata": {},
     "output_type": "execute_result"
    }
   ],
   "source": [
    "data = driver.find_elements(By.XPATH, '//*[@id=\"panResultados\"]/div')[0].text.split('\\n')"
   ]
  },
  {
   "cell_type": "code",
   "execution_count": null,
   "id": "8a90cb09",
   "metadata": {},
   "outputs": [],
   "source": [
    "for i in range(0, len(data), 3):\n",
    "    titulo, fecha, autor = map(str.strip, data[i:i+3])\n",
    "    \n",
    "    resultados.extend([titulo, fecha, autor, 'Caña de Indias / Canna (Canna Indica)'])\n"
   ]
  },
  {
   "cell_type": "markdown",
   "id": "bad289c8",
   "metadata": {},
   "source": [
    "# Celinda (Philadelphus Coronarius L.) (2)"
   ]
  },
  {
   "cell_type": "code",
   "execution_count": 149,
   "id": "b718ab70",
   "metadata": {},
   "outputs": [],
   "source": [
    "# This is the url you will scrape in this exercise\n",
    "url = 'https://www.museodelprado.es/coleccion/obras-de-arte?ecidoc:p65_E36_p138_represents_flora@@@pm:floraNode=http://museodelprado.es/items/biologicalobjectflora_583'"
   ]
  },
  {
   "cell_type": "code",
   "execution_count": 150,
   "id": "4d8403b6",
   "metadata": {},
   "outputs": [],
   "source": [
    "driver.get(url)"
   ]
  },
  {
   "cell_type": "code",
   "execution_count": 151,
   "id": "3e46795b",
   "metadata": {},
   "outputs": [
    {
     "data": {
      "text/plain": [
       "['El Olfato',\n",
       " 'Óleo sobre tabla. 1617 - 1618',\n",
       " 'RUBENS, PEDRO PABLO ; BRUEGHEL EL VIEJO, JAN',\n",
       " 'Marco de Anna Escher von Muralt',\n",
       " 'Tallado, Ensamblado a espiga pasante, Dorado al agua. Hacia 1800',\n",
       " 'ANÓNIMO']"
      ]
     },
     "execution_count": 151,
     "metadata": {},
     "output_type": "execute_result"
    }
   ],
   "source": [
    "data = driver.find_elements(By.XPATH, '//*[@id=\"panResultados\"]/div')[0].text.split('\\n')"
   ]
  },
  {
   "cell_type": "code",
   "execution_count": null,
   "id": "061745dc",
   "metadata": {},
   "outputs": [],
   "source": [
    "for i in range(0, len(data), 3):\n",
    "    titulo, fecha, autor = map(str.strip, data[i:i+3])\n",
    "    \n",
    "    resultados.extend([titulo, fecha, autor, 'Celinda (Philadelphus Coronarius L.)'])\n"
   ]
  },
  {
   "cell_type": "markdown",
   "id": "2bd69d89",
   "metadata": {},
   "source": [
    "# Chirivía / Pastinaca (Pastinaca Sativa) (9)"
   ]
  },
  {
   "cell_type": "code",
   "execution_count": 152,
   "id": "8d33bd31",
   "metadata": {},
   "outputs": [],
   "source": [
    "# This is the url you will scrape in this exercise\n",
    "url = 'https://www.museodelprado.es/coleccion/obras-de-arte?ecidoc:p65_E36_p138_represents_flora@@@pm:floraNode=http://museodelprado.es/items/biologicalobjectflora_420'"
   ]
  },
  {
   "cell_type": "code",
   "execution_count": 153,
   "id": "22191141",
   "metadata": {},
   "outputs": [],
   "source": [
    "driver.get(url)"
   ]
  },
  {
   "cell_type": "code",
   "execution_count": 154,
   "id": "7e30a6f7",
   "metadata": {},
   "outputs": [
    {
     "data": {
      "text/plain": [
       "['La Tierra',\n",
       " 'Óleo sobre lienzo. Siglo XVI',\n",
       " 'VOS, MARTIN DE',\n",
       " 'Filopómenes descubierto',\n",
       " 'Óleo sobre lienzo. Hacia 1609',\n",
       " 'RUBENS, PEDRO PABLO ; SNYDERS, FRANS',\n",
       " 'Festón de frutas y hortalizas',\n",
       " 'Óleo sobre lienzo. Antes de 1649',\n",
       " 'ANÓNIMO',\n",
       " 'Festón de frutas y verduras',\n",
       " 'Óleo sobre lienzo. 1638',\n",
       " 'UTRECHT, ADRIAEN VAN',\n",
       " 'Una despensa',\n",
       " 'Óleo sobre lienzo. 1642',\n",
       " 'UTRECHT, ADRIAEN VAN',\n",
       " 'Noli me tangere',\n",
       " 'Aguatinta litográfica, Litografía a lápiz, Raspador sobre papel...',\n",
       " 'COSTA, FERNANDO DE LA - LITÓGRAFO - (AUTOR DE LA OBRA ORIGINAL: POUSSIN, NICOLAS); M...',\n",
       " 'La cocina',\n",
       " 'Aguatinta litográfica, Litografía a lápiz, Estampación sobre papel...',\n",
       " 'LÓPEZ, JUAN ANTONIO - LITÓGRAFO - (AUTOR DE LA OBRA ORIGINAL: TENIERS, DAVID); MAD...',\n",
       " 'La cocina',\n",
       " 'Aguatinta litográfica, Litografía a lápiz, Raspador sobre papel...',\n",
       " 'LÓPEZ, JUAN ANTONIO - LITÓGRAFO - (AUTOR DE LA OBRA ORIGINAL: TENIERS, DAVID); MAD...',\n",
       " 'La cocina',\n",
       " 'Aguatinta litográfica, Litografía a lápiz, Raspador sobre papel...',\n",
       " 'LÓPEZ, JUAN ANTONIO - LITÓGRAFO - (AUTOR DE LA OBRA ORIGINAL: TENIERS, DAVID); MAD...']"
      ]
     },
     "execution_count": 154,
     "metadata": {},
     "output_type": "execute_result"
    }
   ],
   "source": [
    "data = driver.find_elements(By.XPATH, '//*[@id=\"panResultados\"]/div')[0].text.split('\\n')"
   ]
  },
  {
   "cell_type": "code",
   "execution_count": null,
   "id": "8d4846f8",
   "metadata": {},
   "outputs": [],
   "source": [
    "for i in range(0, len(data), 3):\n",
    "    titulo, fecha, autor = map(str.strip, data[i:i+3])\n",
    "    \n",
    "    resultados.extend([titulo, fecha, autor, 'Chirivía / Pastinaca (Pastinaca Sativa)'])\n"
   ]
  },
  {
   "cell_type": "markdown",
   "id": "0cc95e25",
   "metadata": {},
   "source": [
    "# Chumbera / Nopal (Opuntia Ficus-Indica) (3)"
   ]
  },
  {
   "cell_type": "code",
   "execution_count": 155,
   "id": "6913230a",
   "metadata": {},
   "outputs": [],
   "source": [
    "# This is the url you will scrape in this exercise\n",
    "url = 'https://www.museodelprado.es/coleccion/obras-de-arte?ecidoc:p65_E36_p138_represents_flora@@@pm:floraNode=http://museodelprado.es/items/biologicalobjectflora_539'"
   ]
  },
  {
   "cell_type": "code",
   "execution_count": 156,
   "id": "61a6cdb9",
   "metadata": {},
   "outputs": [],
   "source": [
    "driver.get(url)"
   ]
  },
  {
   "cell_type": "code",
   "execution_count": 157,
   "id": "6cc871d2",
   "metadata": {},
   "outputs": [
    {
     "data": {
      "text/plain": [
       "['Primer desembarco de Cristóbal Colón en América',\n",
       " 'Óleo sobre lienzo. 1862',\n",
       " 'PUEBLA Y TOLÍN, DIÓSCORO TEÓFILO',\n",
       " 'El descanso en la marcha',\n",
       " 'Óleo sobre lienzo. Hacia 1876',\n",
       " 'BENLLIURE Y GIL, JOSÉ',\n",
       " 'Los escuchas marroquíes',\n",
       " 'Óleo sobre lienzo. Hacia 1879',\n",
       " 'MUÑOZ DEGRAIN, ANTONIO']"
      ]
     },
     "execution_count": 157,
     "metadata": {},
     "output_type": "execute_result"
    }
   ],
   "source": [
    "data = driver.find_elements(By.XPATH, '//*[@id=\"panResultados\"]/div')[0].text.split('\\n')"
   ]
  },
  {
   "cell_type": "code",
   "execution_count": null,
   "id": "eb52ac3d",
   "metadata": {},
   "outputs": [],
   "source": [
    "for i in range(0, len(data), 3):\n",
    "    titulo, fecha, autor = map(str.strip, data[i:i+3])\n",
    "    \n",
    "    resultados.extend([titulo, fecha, autor, 'Chumbera / Nopal (Opuntia Ficus-Indica)'])\n"
   ]
  },
  {
   "cell_type": "markdown",
   "id": "054a44f5",
   "metadata": {},
   "source": [
    "# Ciclamen (Cyclamen Persicum) (7)"
   ]
  },
  {
   "cell_type": "code",
   "execution_count": 170,
   "id": "8fa3a09b",
   "metadata": {},
   "outputs": [],
   "source": [
    "# This is the url you will scrape in this exercise\n",
    "url = 'https://www.museodelprado.es/coleccion/obras-de-arte?searchObras=ciclamen'"
   ]
  },
  {
   "cell_type": "code",
   "execution_count": 171,
   "id": "8cd627b7",
   "metadata": {},
   "outputs": [],
   "source": [
    "driver.get(url)"
   ]
  },
  {
   "cell_type": "code",
   "execution_count": 172,
   "id": "5a0327b1",
   "metadata": {},
   "outputs": [
    {
     "data": {
      "text/plain": [
       "['La Abundancia y los Cuatro Elementos',\n",
       " 'Óleo sobre lámina de cobre. 1606',\n",
       " 'BRUEGHEL EL VIEJO, JAN ; CLERCK, HENDRIK DE',\n",
       " 'Florero',\n",
       " 'Óleo sobre tabla. 1615',\n",
       " 'BRUEGHEL EL VIEJO, JAN',\n",
       " 'Florero',\n",
       " 'Óleo sobre lienzo. Segunda mitad del siglo XVII',\n",
       " 'PÉREZ, BARTOLOMÉ (ATRIBUIDO A)',\n",
       " 'Guirnalda con la Adoración de los Reyes Magos',\n",
       " 'Óleo sobre lámina de cobre. Siglos XVI - XVII',\n",
       " 'BRUEGHEL EL JOVEN, PIETER',\n",
       " 'Guirnalda de flores con la Virgen, el Niño y San Juan',\n",
       " 'Óleo sobre lienzo. Primera mitad del siglo XVII',\n",
       " 'QUELLINUS, ERASMUS ; SEGHERS, DANIEL',\n",
       " 'Guirnalda con la Virgen, el Niño y dos ángeles',\n",
       " 'Óleo sobre lámina de cobre. Hacia 1619',\n",
       " 'BRUEGHEL EL VIEJO, JAN ; PROCACCINI, GIULIO CESARE',\n",
       " 'Florero',\n",
       " 'Gelatina / colodión sobre cartulina. 1915 - 1926',\n",
       " 'ROIG VILLALONGA, JUANA - FOTÓGRAFA - (ATRIBUIDO A: PÉREZ, BARTOLOMÉ; : PÉREZ...']"
      ]
     },
     "execution_count": 172,
     "metadata": {},
     "output_type": "execute_result"
    }
   ],
   "source": [
    "data = driver.find_elements(By.XPATH, '//*[@id=\"panResultados\"]/div')[0].text.split('\\n')"
   ]
  },
  {
   "cell_type": "code",
   "execution_count": null,
   "id": "269c1e8d",
   "metadata": {},
   "outputs": [],
   "source": [
    "for i in range(0, len(data), 3):\n",
    "    titulo, fecha, autor = map(str.strip, data[i:i+3])\n",
    "    \n",
    "    resultados.extend([titulo, fecha, autor, 'Chumbera / Nopal (Opuntia Ficus-Indica)'])\n"
   ]
  },
  {
   "cell_type": "markdown",
   "id": "dd17c7ed",
   "metadata": {},
   "source": [
    "# Ciprés (Cupressus) (12)"
   ]
  },
  {
   "cell_type": "code",
   "execution_count": 158,
   "id": "84f3c1ea",
   "metadata": {},
   "outputs": [],
   "source": [
    "# This is the url you will scrape in this exercise\n",
    "url = 'https://www.museodelprado.es/coleccion/obras-de-arte?ecidoc:p65_E36_p138_represents_flora@@@pm:floraNode=http://museodelprado.es/items/biologicalobjectflora_457'"
   ]
  },
  {
   "cell_type": "code",
   "execution_count": 159,
   "id": "8d6dcea5",
   "metadata": {},
   "outputs": [],
   "source": [
    "driver.get(url)"
   ]
  },
  {
   "cell_type": "code",
   "execution_count": 160,
   "id": "bb0c8a5d",
   "metadata": {},
   "outputs": [
    {
     "data": {
      "text/plain": [
       "['Susana y los viejos',\n",
       " 'Óleo sobre lienzo. Hacia 1580',\n",
       " 'VERONÉS, PAOLO',\n",
       " 'Familia en un jardín',\n",
       " 'Óleo sobre lienzo. 1679',\n",
       " 'KESSEL EL JOVEN, JAN VAN',\n",
       " 'La Inmaculada Concepción',\n",
       " 'Óleo sobre lienzo. 1683',\n",
       " 'ARCO, ALONSO DEL',\n",
       " 'Jardín de la casa de Fortuny',\n",
       " 'Óleo sobre tabla. 1872 - 1877',\n",
       " 'FORTUNY Y MARSAL, MARIANO ; MADRAZO Y GARRETA, RAIMUNDO DE',\n",
       " 'Paisaje con cipreses',\n",
       " 'Óleo sobre lienzo. 1910',\n",
       " 'NOGUÉ Y MASSÓ, JOSÉ',\n",
       " 'Vista de Granada y Sierra Nevada',\n",
       " 'Óleo sobre lienzo. Hacia 1915',\n",
       " 'MUÑOZ DEGRAIN, ANTONIO',\n",
       " 'El calvario de Simat de Valldigna, o Paisaje de Simat de Valldigna',\n",
       " 'Óleo sobre lienzo. 1919',\n",
       " 'ANDREU Y SENTAMANS, TEODORO',\n",
       " 'Perspectiva de jardín con avenidas de cipreses',\n",
       " 'Pluma, Tinta agrisada sobre papel agarbanzado. Finales del siglo...',\n",
       " 'ANÓNIMO',\n",
       " 'Vista de la cascada del Jardín del Palacio Val de Ruel',\n",
       " 'Aguafuerte sobre papel verjurado. 1676 - 1703',\n",
       " 'AVELINE \"EL VIEJO\", PIERRE - GRABADOR; LANGLOIS, NICOLAS - EDITOR',\n",
       " 'Susana y los viejos',\n",
       " 'Aguatinta litográfica, Litografía a lápiz, Estampación sobre papel...',\n",
       " 'GUGLIELMI, PAOLO - LITÓGRAFO - (AUTOR DE LA OBRA ORIGINAL: VERONÉS, PAOLO); MADRAZO Y...',\n",
       " 'Susana y los viejos',\n",
       " 'Aguatinta litográfica, Litografía a lápiz, Raspador sobre papel...',\n",
       " 'GUGLIELMI, PAOLO - LITÓGRAFO - (AUTOR DE LA OBRA ORIGINAL: VERONÉS, PAOLO); MADRAZO Y...',\n",
       " 'Susana y los viejos',\n",
       " 'Aguatinta litográfica, Litografía a lápiz, Raspador sobre papel...',\n",
       " 'GUGLIELMI, PAOLO - LITÓGRAFO - (AUTOR DE LA OBRA ORIGINAL: VERONÉS, PAOLO); MADRAZO Y...']"
      ]
     },
     "execution_count": 160,
     "metadata": {},
     "output_type": "execute_result"
    }
   ],
   "source": [
    "data = driver.find_elements(By.XPATH, '//*[@id=\"panResultados\"]/div')[0].text.split('\\n')"
   ]
  },
  {
   "cell_type": "code",
   "execution_count": null,
   "id": "053edaa8",
   "metadata": {},
   "outputs": [],
   "source": [
    "for i in range(0, len(data), 3):\n",
    "    titulo, fecha, autor = map(str.strip, data[i:i+3])\n",
    "    \n",
    "    resultados.extend([titulo, fecha, autor, 'Ciprés (Cupressus)'])\n"
   ]
  },
  {
   "cell_type": "markdown",
   "id": "00cbe40d",
   "metadata": {},
   "source": [
    "# Clavel (Dianthus Caryophyllus) (111)"
   ]
  },
  {
   "cell_type": "code",
   "execution_count": 161,
   "id": "27bb3d78",
   "metadata": {},
   "outputs": [],
   "source": [
    "# This is the url you will scrape in this exercise\n",
    "url = 'https://www.museodelprado.es/coleccion/obras-de-arte?ecidoc:p65_E36_p138_represents_flora@@@pm:floraNode=http://museodelprado.es/items/biologicalobjectflora_293'"
   ]
  },
  {
   "cell_type": "code",
   "execution_count": 162,
   "id": "c1eb3de8",
   "metadata": {},
   "outputs": [],
   "source": [
    "driver.get(url)"
   ]
  },
  {
   "cell_type": "code",
   "execution_count": 163,
   "id": "653458db",
   "metadata": {},
   "outputs": [
    {
     "data": {
      "text/plain": [
       "['Mesa de los Pecados Capitales',\n",
       " 'Óleo sobre tabla de madera de chopo. 1505 - 1510',\n",
       " 'EL BOSCO',\n",
       " 'Mujer en el baño (¿Diana de Poitiers?)',\n",
       " 'Óleo sobre tabla de madera de roble. Hacia 1566',\n",
       " 'CLOUET, FRANÇOIS (TALLER DE)',\n",
       " 'Retrato de un joven',\n",
       " 'Óleo sobre lienzo. Primer tercio del siglo XVII',\n",
       " 'ROOS, JAN I',\n",
       " 'Bodegón',\n",
       " 'Óleo sobre lienzo. Primera mitad del siglo XVII',\n",
       " 'SNYDERS, FRANS',\n",
       " 'Florero',\n",
       " 'Óleo sobre lienzo. Siglo XVII',\n",
       " 'ARELLANO, JUAN DE',\n",
       " 'Florero',\n",
       " 'Óleo sobre lienzo. Siglo XVII',\n",
       " 'ARELLANO, JUAN DE',\n",
       " 'Florero',\n",
       " 'Óleo sobre lienzo. Siglo XVII',\n",
       " 'NUZZI, MARIO',\n",
       " 'Florero',\n",
       " 'Óleo sobre lienzo. Siglo XVII',\n",
       " 'PÉREZ, BARTOLOMÉ',\n",
       " 'Guirnalda con Santa Ana, la Virgen y el Niño',\n",
       " 'Grisalla, Óleo sobre tabla. Siglo XVII',\n",
       " 'BOSMANS, ANDRIES',\n",
       " 'Uvas, manzana y claveles',\n",
       " 'Óleo sobre tabla. Siglo XVII',\n",
       " 'ES, JACOB FOPPENS VAN',\n",
       " 'Guirnalda con el Niño Jesús y san Juan',\n",
       " 'Óleo sobre lámina de cobre. Siglo XVII',\n",
       " 'KESSEL EL JOVEN, JAN VAN',\n",
       " 'Guirnalda con la Virgen y el Niño',\n",
       " 'Óleo sobre lienzo. Siglo XVII',\n",
       " 'SEGHERS, DANIEL',\n",
       " 'Guirnalda con la Virgen, el Niño y san Juan',\n",
       " 'Óleo sobre tabla. Siglo XVII',\n",
       " 'SEGHERS, DANIEL ; SCHUT, CORNELIS',\n",
       " 'Florero',\n",
       " 'Óleo sobre lienzo. Siglo XVII',\n",
       " 'ANÓNIMO',\n",
       " 'Amorcillos con guirnalda de flores',\n",
       " 'Óleo sobre lienzo. Siglo XVII',\n",
       " 'ANÓNIMO',\n",
       " 'Niño con claveles en la mano',\n",
       " 'Óleo sobre lienzo. Siglo XVII',\n",
       " 'ANÓNIMO',\n",
       " 'Florero',\n",
       " 'Óleo sobre lienzo. Siglo XVII',\n",
       " 'CORTE, GABRIEL DE LA',\n",
       " 'Florero',\n",
       " 'Óleo sobre lienzo. Siglo XVII',\n",
       " 'CORTE, GABRIEL DE LA']"
      ]
     },
     "execution_count": 163,
     "metadata": {},
     "output_type": "execute_result"
    }
   ],
   "source": [
    "data = driver.find_elements(By.XPATH, '//*[@id=\"panResultados\"]/div')[0].text.split('\\n')"
   ]
  },
  {
   "cell_type": "code",
   "execution_count": null,
   "id": "6926d349",
   "metadata": {},
   "outputs": [],
   "source": [
    "for i in range(0, len(data), 3):\n",
    "    titulo, fecha, autor = map(str.strip, data[i:i+3])\n",
    "    \n",
    "    resultados.extend([titulo, fecha, autor, 'Clavel (Dianthus Caryophyllus)'])\n"
   ]
  },
  {
   "cell_type": "markdown",
   "id": "d99e272d",
   "metadata": {},
   "source": [
    "# Clavel Chino (Dianthus Chinensis) (16)"
   ]
  },
  {
   "cell_type": "code",
   "execution_count": 164,
   "id": "7d58db1d",
   "metadata": {},
   "outputs": [],
   "source": [
    "# This is the url you will scrape in this exercise\n",
    "url = 'https://www.museodelprado.es/coleccion/obras-de-arte?ecidoc:p65_E36_p138_represents_flora@@@pm:floraNode=http://museodelprado.es/items/biologicalobjectflora_319'"
   ]
  },
  {
   "cell_type": "code",
   "execution_count": 165,
   "id": "c9374e64",
   "metadata": {},
   "outputs": [],
   "source": [
    "driver.get(url)"
   ]
  },
  {
   "cell_type": "code",
   "execution_count": 166,
   "id": "58cffa83",
   "metadata": {},
   "outputs": [
    {
     "data": {
      "text/plain": [
       "['Florero',\n",
       " 'Óleo sobre lienzo. Primer cuarto del siglo XVII',\n",
       " 'BRUEGHEL EL VIEJO, JAN',\n",
       " 'Florero',\n",
       " 'Óleo sobre lienzo. Siglo XVII',\n",
       " 'CORTE, GABRIEL DE LA',\n",
       " 'Florero',\n",
       " 'Óleo sobre lienzo. Siglo XVII',\n",
       " 'ANÓNIMO',\n",
       " 'Florero',\n",
       " 'Óleo sobre lienzo. Siglo XVII',\n",
       " 'CORTE, GABRIEL DE LA',\n",
       " 'Florero',\n",
       " 'Óleo sobre lienzo. Siglo XVII',\n",
       " 'CORTE, GABRIEL DE LA',\n",
       " 'Florero',\n",
       " 'Óleo sobre tabla. 1615',\n",
       " 'BRUEGHEL EL VIEJO, JAN',\n",
       " 'Guirnalda con la Virgen y el Niño',\n",
       " 'Óleo sobre tabla. Hacia 1621',\n",
       " 'BALEN, HENDRICK VAN ; BRUEGHEL EL VIEJO, JAN',\n",
       " 'El Olfato',\n",
       " 'Óleo sobre tabla. 1617 - 1618',\n",
       " 'RUBENS, PEDRO PABLO ; BRUEGHEL EL VIEJO, JAN',\n",
       " 'La Abundancia',\n",
       " 'Óleo sobre lámina de cobre. Hacia 1625',\n",
       " 'BRUEGHEL EL JOVEN, JAN',\n",
       " 'Floreros y cebollas',\n",
       " 'Óleo sobre lienzo. 1640 - 1642',\n",
       " 'NUZZI, MARIO',\n",
       " 'Florero con cuadriga vista de frente',\n",
       " 'Óleo sobre lienzo. 1643',\n",
       " 'HIEPES, TOMÁS',\n",
       " 'Florero',\n",
       " 'Óleo sobre lienzo. Segunda mitad del siglo XVII',\n",
       " 'PÉREZ, BARTOLOMÉ (ATRIBUIDO A)',\n",
       " 'Florero',\n",
       " 'Óleo sobre lienzo. Segunda mitad del siglo XVII',\n",
       " 'ANÓNIMO',\n",
       " 'Guirnalda de flores con la Asunción de la Virgen',\n",
       " 'Óleo sobre lienzo. 1654',\n",
       " 'PONCE, ANTONIO',\n",
       " 'Florero',\n",
       " 'Óleo sobre tabla. 1780 - 1788',\n",
       " 'ESPINÓS, BENITO',\n",
       " 'Florero',\n",
       " 'Gelatina / colodión sobre cartulina. 1915 - 1926',\n",
       " 'ROIG VILLALONGA, JUANA - FOTÓGRAFA - (ATRIBUIDO A: PÉREZ, BARTOLOMÉ; : PÉREZ...']"
      ]
     },
     "execution_count": 166,
     "metadata": {},
     "output_type": "execute_result"
    }
   ],
   "source": [
    "data = driver.find_elements(By.XPATH, '//*[@id=\"panResultados\"]/div')[0].text.split('\\n')"
   ]
  },
  {
   "cell_type": "code",
   "execution_count": null,
   "id": "70c28ca9",
   "metadata": {},
   "outputs": [],
   "source": [
    "for i in range(0, len(data), 3):\n",
    "    titulo, fecha, autor = map(str.strip, data[i:i+3])\n",
    "    \n",
    "    resultados.extend([titulo, fecha, autor, 'Clavel Chino (Dianthus Chinensis)'])\n"
   ]
  },
  {
   "cell_type": "markdown",
   "id": "5691c0e7",
   "metadata": {},
   "source": [
    "# Clavellina (Dianthus Deltoides) (22)"
   ]
  },
  {
   "cell_type": "code",
   "execution_count": 167,
   "id": "f057de64",
   "metadata": {},
   "outputs": [],
   "source": [
    "# This is the url you will scrape in this exercise\n",
    "url = 'https://www.museodelprado.es/coleccion/obras-de-arte?searchObras=clavellina'"
   ]
  },
  {
   "cell_type": "code",
   "execution_count": 168,
   "id": "2e4fbbfd",
   "metadata": {},
   "outputs": [],
   "source": [
    "driver.get(url)"
   ]
  },
  {
   "cell_type": "code",
   "execution_count": 169,
   "id": "7d152842",
   "metadata": {},
   "outputs": [
    {
     "data": {
      "text/plain": [
       "['Florero',\n",
       " 'Óleo sobre lienzo. Siglo XVII',\n",
       " 'ANÓNIMO',\n",
       " 'Florero',\n",
       " 'Óleo sobre lienzo. Siglo XVII',\n",
       " 'ANÓNIMO',\n",
       " 'Florero',\n",
       " 'Óleo sobre lienzo. Siglo XVII',\n",
       " 'ANÓNIMO',\n",
       " 'Florero',\n",
       " 'Óleo sobre lienzo. Siglo XVII',\n",
       " 'ANÓNIMO',\n",
       " 'Guirnalda con Santa Teresa de Jesús',\n",
       " 'Óleo sobre lienzo. Siglo XVII',\n",
       " 'ANÓNIMO',\n",
       " 'La diosa Flora',\n",
       " 'Óleo sobre lienzo. Hacia 1625',\n",
       " 'RUBENS, PEDRO PABLO (TALLER DE)',\n",
       " 'Guirnalda con la Virgen, el Niño y dos ángeles',\n",
       " 'Óleo sobre lámina de cobre. Hacia 1619',\n",
       " 'BRUEGHEL EL VIEJO, JAN ; PROCACCINI, GIULIO CESARE',\n",
       " 'El Olfato',\n",
       " 'Óleo sobre tabla. 1617 - 1618',\n",
       " 'RUBENS, PEDRO PABLO ; BRUEGHEL EL VIEJO, JAN',\n",
       " 'Ramillete de flores con lazo blanquiazul',\n",
       " 'Óleo sobre lienzo. 1780 - 1785',\n",
       " 'PARET Y ALCÁZAR, LUIS',\n",
       " 'Festón de flores y frutas y angelotes',\n",
       " 'Óleo sobre lienzo. Hacia 1620',\n",
       " 'SNYDERS, FRANS ; BRUEGHEL EL VIEJO, JAN ; RUBENS, PEDRO PABLO (TALLER DE)',\n",
       " 'Florero',\n",
       " 'Óleo sobre lienzo. Siglo XVII',\n",
       " 'PÉREZ, BARTOLOMÉ',\n",
       " 'Florero',\n",
       " 'Óleo sobre lienzo. Segunda mitad del siglo XVII',\n",
       " 'PÉREZ, BARTOLOMÉ (ATRIBUIDO A)',\n",
       " 'Florero con cuadriga vista de perfil',\n",
       " 'Óleo sobre lienzo. 1643',\n",
       " 'HIEPES, TOMÁS',\n",
       " 'Guirnalda de flores y paisaje',\n",
       " 'Óleo sobre lienzo. 1652',\n",
       " 'ARELLANO, JUAN DE',\n",
       " 'Florero de cristal',\n",
       " 'Óleo sobre lienzo. 1668',\n",
       " 'ARELLANO, JUAN DE',\n",
       " 'Ofrenda a Flora',\n",
       " 'Óleo sobre lienzo. 1627',\n",
       " 'HAMEN Y LEÓN, JUAN VAN DER',\n",
       " 'Dama y niña',\n",
       " 'Óleo sobre tabla. 1567',\n",
       " 'CRONENBURCH, ADRIAEN VAN',\n",
       " 'Florero y cuenco de cerámica',\n",
       " 'Óleo sobre lienzo. 1663',\n",
       " 'CAMPROBÍN, PEDRO DE']"
      ]
     },
     "execution_count": 169,
     "metadata": {},
     "output_type": "execute_result"
    }
   ],
   "source": [
    "data = driver.find_elements(By.XPATH, '//*[@id=\"panResultados\"]/div')[0].text.split('\\n')"
   ]
  },
  {
   "cell_type": "code",
   "execution_count": null,
   "id": "bad3f45e",
   "metadata": {},
   "outputs": [],
   "source": [
    "for i in range(0, len(data), 3):\n",
    "    titulo, fecha, autor = map(str.strip, data[i:i+3])\n",
    "    \n",
    "    resultados.extend([titulo, fecha, autor, 'Clavellina (Dianthus Deltoides)'])\n"
   ]
  },
  {
   "cell_type": "markdown",
   "id": "45617a7e",
   "metadata": {},
   "source": [
    "# Colinabo (Brassica Napobrassica) (4)"
   ]
  },
  {
   "cell_type": "code",
   "execution_count": 173,
   "id": "e083d162",
   "metadata": {},
   "outputs": [],
   "source": [
    "# This is the url you will scrape in this exercise\n",
    "url = 'https://www.museodelprado.es/coleccion/obras-de-arte?searchObras=colinabo%20(brassica%20napobrassica)'"
   ]
  },
  {
   "cell_type": "code",
   "execution_count": 174,
   "id": "b79426a7",
   "metadata": {},
   "outputs": [],
   "source": [
    "driver.get(url)"
   ]
  },
  {
   "cell_type": "code",
   "execution_count": 175,
   "id": "c5fc1339",
   "metadata": {},
   "outputs": [
    {
     "data": {
      "text/plain": [
       "['Festón de frutas y hortalizas',\n",
       " 'Óleo sobre lienzo. Antes de 1649',\n",
       " 'ANÓNIMO',\n",
       " 'Festón de frutas y hortalizas',\n",
       " 'Óleo sobre lienzo. Antes de 1650',\n",
       " 'ANÓNIMO',\n",
       " 'Festón de frutas y verduras',\n",
       " 'Óleo sobre lienzo. 1638',\n",
       " 'UTRECHT, ADRIAEN VAN',\n",
       " 'Una despensa',\n",
       " 'Óleo sobre lienzo. 1642',\n",
       " 'UTRECHT, ADRIAEN VAN']"
      ]
     },
     "execution_count": 175,
     "metadata": {},
     "output_type": "execute_result"
    }
   ],
   "source": [
    "data = driver.find_elements(By.XPATH, '//*[@id=\"panResultados\"]/div')[0].text.split('\\n')"
   ]
  },
  {
   "cell_type": "code",
   "execution_count": null,
   "id": "089567d6",
   "metadata": {},
   "outputs": [],
   "source": [
    "for i in range(0, len(data), 3):\n",
    "    titulo, fecha, autor = map(str.strip, data[i:i+3])\n",
    "    \n",
    "    resultados.extend([titulo, fecha, autor, 'Colinabo (Brassica Napobrassica)'])\n"
   ]
  },
  {
   "cell_type": "markdown",
   "id": "043c41db",
   "metadata": {},
   "source": [
    "# Collejón (Moricandia Arvensis) (1)"
   ]
  },
  {
   "cell_type": "code",
   "execution_count": 176,
   "id": "49579dbd",
   "metadata": {},
   "outputs": [],
   "source": [
    "# This is the url you will scrape in this exercise\n",
    "url = 'https://www.museodelprado.es/coleccion/obras-de-arte?searchObras=collejon'"
   ]
  },
  {
   "cell_type": "code",
   "execution_count": 177,
   "id": "7059574a",
   "metadata": {},
   "outputs": [],
   "source": [
    "driver.get(url)"
   ]
  },
  {
   "cell_type": "code",
   "execution_count": 178,
   "id": "d61ded92",
   "metadata": {},
   "outputs": [
    {
     "data": {
      "text/plain": [
       "['Santa Ana, la Virgen, Santa Isabel, San Juan y Jesús niño',\n",
       " 'Óleo sobre tabla. 1525 - 1532',\n",
       " 'YÁÑEZ DE LA ALMEDINA, FERNANDO']"
      ]
     },
     "execution_count": 178,
     "metadata": {},
     "output_type": "execute_result"
    }
   ],
   "source": [
    "data = driver.find_elements(By.XPATH, '//*[@id=\"panResultados\"]/div')[0].text.split('\\n')"
   ]
  },
  {
   "cell_type": "code",
   "execution_count": null,
   "id": "0393ecaa",
   "metadata": {},
   "outputs": [],
   "source": [
    "for i in range(0, len(data), 3):\n",
    "    titulo, fecha, autor = map(str.strip, data[i:i+3])\n",
    "    \n",
    "    resultados.extend([titulo, fecha, autor, 'Collejón (Moricandia Arvensis)'])\n"
   ]
  },
  {
   "cell_type": "markdown",
   "id": "68f9d7e9",
   "metadata": {},
   "source": [
    "# Coronilla / Carolina de Jardín (Coronilla Glauca) (1)"
   ]
  },
  {
   "cell_type": "code",
   "execution_count": 179,
   "id": "819d01be",
   "metadata": {},
   "outputs": [],
   "source": [
    "# This is the url you will scrape in this exercise\n",
    "url = 'https://www.museodelprado.es/coleccion/obras-de-arte?searchObras=coronilla%20/%20carolina%20de%20jardin%20(coronilla%20glauca)'"
   ]
  },
  {
   "cell_type": "code",
   "execution_count": 180,
   "id": "dd5e7c13",
   "metadata": {},
   "outputs": [],
   "source": [
    "driver.get(url)"
   ]
  },
  {
   "cell_type": "code",
   "execution_count": 181,
   "id": "50e58996",
   "metadata": {},
   "outputs": [
    {
     "data": {
      "text/plain": [
       "['Guirnalda rodeando a la Virgen María',\n",
       " 'Óleo sobre lámina de cobre. 1640 - 1660',\n",
       " 'VERENDAEL, NICOLAES VAN']"
      ]
     },
     "execution_count": 181,
     "metadata": {},
     "output_type": "execute_result"
    }
   ],
   "source": [
    "data = driver.find_elements(By.XPATH, '//*[@id=\"panResultados\"]/div')[0].text.split('\\n')"
   ]
  },
  {
   "cell_type": "code",
   "execution_count": null,
   "id": "940fd934",
   "metadata": {},
   "outputs": [],
   "source": [
    "for i in range(0, len(data), 3):\n",
    "    titulo, fecha, autor = map(str.strip, data[i:i+3])\n",
    "    \n",
    "    resultados.extend([titulo, fecha, autor, 'Coronilla / Carolina de Jardín (Coronilla Glauca)'])\n"
   ]
  },
  {
   "cell_type": "markdown",
   "id": "69653683",
   "metadata": {},
   "source": [
    "# Crisantemo (Chrysanthemum Spp.) (7)"
   ]
  },
  {
   "cell_type": "code",
   "execution_count": 182,
   "id": "0a3a07ed",
   "metadata": {},
   "outputs": [],
   "source": [
    "# This is the url you will scrape in this exercise\n",
    "url = 'https://www.museodelprado.es/coleccion/obras-de-arte?searchObras=crisantemo%20(chrysanthemum%20spp%20)'"
   ]
  },
  {
   "cell_type": "code",
   "execution_count": 183,
   "id": "6ddbb979",
   "metadata": {},
   "outputs": [],
   "source": [
    "driver.get(url)"
   ]
  },
  {
   "cell_type": "code",
   "execution_count": 184,
   "id": "0bd3462c",
   "metadata": {},
   "outputs": [
    {
     "data": {
      "text/plain": [
       "['Florero',\n",
       " 'Óleo sobre lienzo. Siglo XVII',\n",
       " 'CORTE, GABRIEL DE LA',\n",
       " 'Florero',\n",
       " 'Óleo sobre lienzo. 1640 - 1642',\n",
       " 'NUZZI, MARIO',\n",
       " 'Fuente circular',\n",
       " 'Porcelana dura. 1719 - 1740',\n",
       " 'KÖNIGLICHEN PORZELLAN MANUFAKTUR',\n",
       " 'Vaso refrescador',\n",
       " 'Porcelana dura. 1760 - 1770',\n",
       " 'KÖNIGLICHEN PORZELLAN MANUFAKTUR',\n",
       " 'Vaso refrescador',\n",
       " 'Porcelana dura. Hacia 1780',\n",
       " 'KÖNIGLICHEN PORZELLAN MANUFAKTUR',\n",
       " 'Vaso refrescador',\n",
       " 'Porcelana dura. Hacia 1780',\n",
       " 'KÖNIGLICHEN PORZELLAN MANUFAKTUR',\n",
       " 'Marco de Anna Escher von Muralt',\n",
       " 'Tallado, Ensamblado a espiga pasante, Dorado al agua. Hacia 1800',\n",
       " 'ANÓNIMO']"
      ]
     },
     "execution_count": 184,
     "metadata": {},
     "output_type": "execute_result"
    }
   ],
   "source": [
    "data = driver.find_elements(By.XPATH, '//*[@id=\"panResultados\"]/div')[0].text.split('\\n')"
   ]
  },
  {
   "cell_type": "code",
   "execution_count": null,
   "id": "e494422d",
   "metadata": {},
   "outputs": [],
   "source": [
    "for i in range(0, len(data), 3):\n",
    "    titulo, fecha, autor = map(str.strip, data[i:i+3])\n",
    "    \n",
    "    resultados.extend([titulo, fecha, autor, 'Crisantemo (Chrysanthemum Spp.)'])\n"
   ]
  },
  {
   "cell_type": "markdown",
   "id": "79c0fe5d",
   "metadata": {},
   "source": [
    "# Diente de León (Taraxacum Officinale)"
   ]
  },
  {
   "cell_type": "code",
   "execution_count": 185,
   "id": "9e57a86c",
   "metadata": {},
   "outputs": [],
   "source": [
    "# This is the url you will scrape in this exercise\n",
    "url = 'https://www.museodelprado.es/coleccion/obras-de-arte?searchObras=diente%20de%20leon%20(taraxacum%20officinale)'"
   ]
  },
  {
   "cell_type": "code",
   "execution_count": 186,
   "id": "82894409",
   "metadata": {},
   "outputs": [],
   "source": [
    "driver.get(url)"
   ]
  },
  {
   "cell_type": "code",
   "execution_count": 187,
   "id": "2a7627db",
   "metadata": {},
   "outputs": [
    {
     "data": {
      "text/plain": [
       "['Adoración de los Reyes Magos',\n",
       " 'Óleo sobre tabla. Siglo XVI',\n",
       " 'ANÓNIMO',\n",
       " 'Guirnalda con florecillas y setas y escena de brujería',\n",
       " 'Óleo sobre tabla. Siglo XVII',\n",
       " 'ANÓNIMO']"
      ]
     },
     "execution_count": 187,
     "metadata": {},
     "output_type": "execute_result"
    }
   ],
   "source": [
    "data = driver.find_elements(By.XPATH, '//*[@id=\"panResultados\"]/div')[0].text.split('\\n')"
   ]
  },
  {
   "cell_type": "code",
   "execution_count": null,
   "id": "9e69bb1b",
   "metadata": {},
   "outputs": [],
   "source": [
    "for i in range(0, len(data), 3):\n",
    "    titulo, fecha, autor = map(str.strip, data[i:i+3])\n",
    "    \n",
    "    resultados.extend([titulo, fecha, autor, 'Diente de León (Taraxacum Officinale)'])\n"
   ]
  },
  {
   "cell_type": "markdown",
   "id": "47cc9a4b",
   "metadata": {},
   "source": [
    "# Diente de León de Otoño (Scorzoneroides Autumnalis) (1)"
   ]
  },
  {
   "cell_type": "code",
   "execution_count": 188,
   "id": "5f491086",
   "metadata": {},
   "outputs": [],
   "source": [
    "# This is the url you will scrape in this exercise\n",
    "url = 'https://www.museodelprado.es/coleccion/obras-de-arte?searchObras=diente%20de%20leon%20de%20otono%20(scorzoneroides%20autumnalis)'"
   ]
  },
  {
   "cell_type": "code",
   "execution_count": 189,
   "id": "a0fef9c1",
   "metadata": {},
   "outputs": [],
   "source": [
    "driver.get(url)"
   ]
  },
  {
   "cell_type": "code",
   "execution_count": 190,
   "id": "c8ce63ac",
   "metadata": {},
   "outputs": [
    {
     "data": {
      "text/plain": [
       "['Guirnalda con paisaje',\n",
       " 'Óleo sobre lienzo. 1680 - 1700',\n",
       " 'YKENS, CATHARINA II']"
      ]
     },
     "execution_count": 190,
     "metadata": {},
     "output_type": "execute_result"
    }
   ],
   "source": [
    "data = driver.find_elements(By.XPATH, '//*[@id=\"panResultados\"]/div')[0].text.split('\\n')"
   ]
  },
  {
   "cell_type": "code",
   "execution_count": null,
   "id": "5b7f2de9",
   "metadata": {},
   "outputs": [],
   "source": [
    "for i in range(0, len(data), 3):\n",
    "    titulo, fecha, autor = map(str.strip, data[i:i+3])\n",
    "    \n",
    "    resultados.extend([titulo, fecha, autor, 'Diente de León de Otoño (Scorzoneroides Autumnalis)'])\n"
   ]
  },
  {
   "cell_type": "markdown",
   "id": "ecbcdf6a",
   "metadata": {},
   "source": [
    "# Digital (Digitalis Spp.) (1)"
   ]
  },
  {
   "cell_type": "code",
   "execution_count": 191,
   "id": "4d870e62",
   "metadata": {},
   "outputs": [],
   "source": [
    "# This is the url you will scrape in this exercise\n",
    "url = 'https://www.museodelprado.es/coleccion/obras-de-arte?searchObras=digital%20(digitalis%20spp%20)'"
   ]
  },
  {
   "cell_type": "code",
   "execution_count": 192,
   "id": "bc374b7f",
   "metadata": {},
   "outputs": [],
   "source": [
    "driver.get(url)"
   ]
  },
  {
   "cell_type": "code",
   "execution_count": 193,
   "id": "9d1fdd87",
   "metadata": {},
   "outputs": [
    {
     "data": {
      "text/plain": [
       "['San Felipe en hornacina rodeada de flores',\n",
       " 'Óleo sobre lámina de cobre. 1651',\n",
       " 'THIELEN, JAN PHILIP VAN']"
      ]
     },
     "execution_count": 193,
     "metadata": {},
     "output_type": "execute_result"
    }
   ],
   "source": [
    "data = driver.find_elements(By.XPATH, '//*[@id=\"panResultados\"]/div')[0].text.split('\\n')"
   ]
  },
  {
   "cell_type": "code",
   "execution_count": null,
   "id": "5760e95c",
   "metadata": {},
   "outputs": [],
   "source": [
    "for i in range(0, len(data), 3):\n",
    "    titulo, fecha, autor = map(str.strip, data[i:i+3])\n",
    "    \n",
    "    resultados.extend([titulo, fecha, autor, 'Digital (Digitalis Spp.)'])\n"
   ]
  },
  {
   "cell_type": "markdown",
   "id": "5c70c54c",
   "metadata": {},
   "source": [
    "# Dondiego de Día (Convolvulaceas, Fam.) (65)"
   ]
  },
  {
   "cell_type": "code",
   "execution_count": 194,
   "id": "4ec0e43d",
   "metadata": {},
   "outputs": [],
   "source": [
    "# This is the url you will scrape in this exercise\n",
    "url = 'https://www.museodelprado.es/coleccion/obras-de-arte?searchObras=dondiego%20de%20dia%20(convolvulaceas%20%20fam%20)'"
   ]
  },
  {
   "cell_type": "code",
   "execution_count": 195,
   "id": "f0c7638b",
   "metadata": {},
   "outputs": [],
   "source": [
    "driver.get(url)"
   ]
  },
  {
   "cell_type": "code",
   "execution_count": 196,
   "id": "8152195b",
   "metadata": {},
   "outputs": [
    {
     "data": {
      "text/plain": [
       "['Jardín con flores y frutas',\n",
       " 'Óleo sobre lienzo. Siglo XVII',\n",
       " 'ANÓNIMO',\n",
       " 'Amorcillos con guirnalda de flores',\n",
       " 'Óleo sobre lienzo. Siglo XVII',\n",
       " 'ANÓNIMO',\n",
       " 'Florero',\n",
       " 'Óleo sobre lienzo. Siglo XVII',\n",
       " 'ANÓNIMO',\n",
       " 'Florero',\n",
       " 'Óleo sobre lienzo. Siglo XVII',\n",
       " 'ANÓNIMO',\n",
       " 'Guirnalda de flores con San José y el Niño',\n",
       " 'Óleo sobre lienzo. Siglo XVII',\n",
       " 'ANÓNIMO',\n",
       " 'Florero',\n",
       " 'Óleo sobre lienzo. Siglo XVII',\n",
       " 'ANÓNIMO (?: CORTE, GABRIEL DE LA)',\n",
       " 'Guirnalda de frutas con la Virgen y el Niño',\n",
       " 'Óleo sobre lienzo. Siglo XVII',\n",
       " 'ANÓNIMO',\n",
       " 'Florero de rosas y lirios',\n",
       " 'Óleo sobre lienzo. Siglo XVII',\n",
       " 'ANÓNIMO',\n",
       " 'Florero',\n",
       " 'Óleo sobre lienzo. 1650 - 1699',\n",
       " 'ANÓNIMO',\n",
       " 'Florero',\n",
       " 'Óleo sobre lienzo. Segunda mitad del siglo XVII',\n",
       " 'ANÓNIMO',\n",
       " 'Florero',\n",
       " 'Óleo sobre lienzo. Segunda mitad del siglo XVII',\n",
       " 'ANÓNIMO',\n",
       " 'Niña en un paisaje',\n",
       " 'Óleo sobre lienzo. 1847',\n",
       " 'RIBERA Y FIEVE, CARLOS LUIS DE',\n",
       " 'La diosa Flora',\n",
       " 'Óleo sobre lienzo. Hacia 1625',\n",
       " 'RUBENS, PEDRO PABLO (TALLER DE)',\n",
       " 'Florero',\n",
       " 'Óleo sobre tabla. 1600 - 1625',\n",
       " 'BRUEGHEL EL VIEJO, JAN',\n",
       " 'Flores sobre un plato',\n",
       " 'Óleo sobre tabla. Primer cuarto del siglo XVII',\n",
       " 'BRUEGHEL EL VIEJO, JAN',\n",
       " 'Florero',\n",
       " 'Óleo sobre tabla. Siglo XVII',\n",
       " 'BRUEGHEL EL VIEJO, JAN (DISCÍPULO DE)',\n",
       " 'La Virgen de Atocha',\n",
       " 'Óleo sobre lienzo. Hacia 1680',\n",
       " 'CARREÑO DE MIRANDA, JUAN',\n",
       " 'Carlos III, niño, en su gabinete',\n",
       " 'Óleo sobre lienzo. Hacia 1724',\n",
       " 'RANC, JEAN']"
      ]
     },
     "execution_count": 196,
     "metadata": {},
     "output_type": "execute_result"
    }
   ],
   "source": [
    "data = driver.find_elements(By.XPATH, '//*[@id=\"panResultados\"]/div')[0].text.split('\\n')"
   ]
  },
  {
   "cell_type": "code",
   "execution_count": null,
   "id": "be58fce4",
   "metadata": {},
   "outputs": [],
   "source": [
    "for i in range(0, len(data), 3):\n",
    "    titulo, fecha, autor = map(str.strip, data[i:i+3])\n",
    "    \n",
    "    resultados.extend([titulo, fecha, autor, 'Dondiego de Día (Convolvulaceas, Fam.)'])\n"
   ]
  },
  {
   "cell_type": "markdown",
   "id": "aebc5990",
   "metadata": {},
   "source": [
    "# Dondiego de Noche (Mirabilis Jalapa) (1)"
   ]
  },
  {
   "cell_type": "code",
   "execution_count": 197,
   "id": "18731078",
   "metadata": {},
   "outputs": [],
   "source": [
    "# This is the url you will scrape in this exercise\n",
    "url = 'https://www.museodelprado.es/coleccion/obras-de-arte?searchObras=dondiego%20de%20noche%20(mirabilis%20jalapa)'"
   ]
  },
  {
   "cell_type": "code",
   "execution_count": 198,
   "id": "10c4f59d",
   "metadata": {},
   "outputs": [],
   "source": [
    "driver.get(url)"
   ]
  },
  {
   "cell_type": "code",
   "execution_count": 199,
   "id": "d5d5ead1",
   "metadata": {},
   "outputs": [
    {
     "data": {
      "text/plain": [
       "['Guirnalda con paisaje',\n",
       " 'Óleo sobre lienzo. 1680 - 1700',\n",
       " 'YKENS, CATHARINA II']"
      ]
     },
     "execution_count": 199,
     "metadata": {},
     "output_type": "execute_result"
    }
   ],
   "source": [
    "data = driver.find_elements(By.XPATH, '//*[@id=\"panResultados\"]/div')[0].text.split('\\n')"
   ]
  },
  {
   "cell_type": "code",
   "execution_count": null,
   "id": "89b9cfac",
   "metadata": {},
   "outputs": [],
   "source": [
    "for i in range(0, len(data), 3):\n",
    "    titulo, fecha, autor = map(str.strip, data[i:i+3])\n",
    "    \n",
    "    resultados.extend([titulo, fecha, autor, 'Dondiego de Noche (Mirabilis Jalapa)'])\n"
   ]
  },
  {
   "cell_type": "markdown",
   "id": "46aca261",
   "metadata": {},
   "source": [
    "# Dragonaria (Antirrhinum Majus) (2)"
   ]
  },
  {
   "cell_type": "code",
   "execution_count": 200,
   "id": "2bc5334c",
   "metadata": {},
   "outputs": [],
   "source": [
    "# This is the url you will scrape in this exercise\n",
    "url = 'https://www.museodelprado.es/coleccion/obras-de-arte?searchObras=dragonaria'"
   ]
  },
  {
   "cell_type": "code",
   "execution_count": 201,
   "id": "b3f09346",
   "metadata": {},
   "outputs": [],
   "source": [
    "driver.get(url)"
   ]
  },
  {
   "cell_type": "code",
   "execution_count": 202,
   "id": "3a26e8d0",
   "metadata": {},
   "outputs": [
    {
     "data": {
      "text/plain": [
       "['Florero',\n",
       " 'Óleo sobre lienzo. Siglo XVII',\n",
       " 'ARELLANO, JOSÉ DE',\n",
       " 'Guirnalda de flores con la Asunción de la Virgen',\n",
       " 'Óleo sobre lienzo. 1654',\n",
       " 'PONCE, ANTONIO']"
      ]
     },
     "execution_count": 202,
     "metadata": {},
     "output_type": "execute_result"
    }
   ],
   "source": [
    "data = driver.find_elements(By.XPATH, '//*[@id=\"panResultados\"]/div')[0].text.split('\\n')"
   ]
  },
  {
   "cell_type": "code",
   "execution_count": null,
   "id": "c37bb1d0",
   "metadata": {},
   "outputs": [],
   "source": [
    "for i in range(0, len(data), 3):\n",
    "    titulo, fecha, autor = map(str.strip, data[i:i+3])\n",
    "    \n",
    "    resultados.extend([titulo, fecha, autor, 'Dragonaria (Antirrhinum Majus)'])\n"
   ]
  },
  {
   "cell_type": "markdown",
   "id": "954d096f",
   "metadata": {},
   "source": [
    "# Encina (Quercus Ilex) (5)"
   ]
  },
  {
   "cell_type": "code",
   "execution_count": 203,
   "id": "49506344",
   "metadata": {},
   "outputs": [],
   "source": [
    "# This is the url you will scrape in this exercise\n",
    "url = 'https://www.museodelprado.es/coleccion/obras-de-arte?searchObras=encina%20(quercus%20ilex)'"
   ]
  },
  {
   "cell_type": "code",
   "execution_count": 204,
   "id": "44d9d71d",
   "metadata": {},
   "outputs": [],
   "source": [
    "driver.get(url)"
   ]
  },
  {
   "cell_type": "code",
   "execution_count": 205,
   "id": "bb9434d3",
   "metadata": {},
   "outputs": [
    {
     "data": {
      "text/plain": [
       "['Paisaje de montaña',\n",
       " 'Óleo sobre papel pegado en lienzo. Hacia 1872',\n",
       " 'HAES, CARLOS DE',\n",
       " 'Felipe IV, cazador',\n",
       " 'Óleo sobre lienzo. 1632 - 1634',\n",
       " 'VELÁZQUEZ, DIEGO RODRÍGUEZ DE SILVA Y',\n",
       " 'Cazador sentado a la orilla de una laguna',\n",
       " 'Gelatina / colodión sobre placa de vidrio. Principio del siglo XX',\n",
       " 'ANÓNIMO - FOTÓGRAFO',\n",
       " 'Nuestra Señora de Lara',\n",
       " 'Aguada parda, Pluma, Preparado a lápiz sobre papel verjurado...',\n",
       " 'ANÓNIMO',\n",
       " 'Escudo de la familia de los Khevenhüller, en cerámica de Talavera',\n",
       " 'Cerámica. Antes de 1623',\n",
       " 'ANÓNIMO',\n",
       " 'Escudo de la familia de los Khevenhüller, en cerámica de Talavera',\n",
       " 'Cerámica. Antes de 1623',\n",
       " 'ANÓNIMO']"
      ]
     },
     "execution_count": 205,
     "metadata": {},
     "output_type": "execute_result"
    }
   ],
   "source": [
    "data = driver.find_elements(By.XPATH, '//*[@id=\"panResultados\"]/div')[0].text.split('\\n')"
   ]
  },
  {
   "cell_type": "code",
   "execution_count": null,
   "id": "bcc5c2fd",
   "metadata": {},
   "outputs": [],
   "source": [
    "for i in range(0, len(data), 3):\n",
    "    titulo, fecha, autor = map(str.strip, data[i:i+3])\n",
    "    \n",
    "    resultados.extend([titulo, fecha, autor, 'Encina (Quercus Ilex)'])\n"
   ]
  },
  {
   "cell_type": "markdown",
   "id": "f7b93f5f",
   "metadata": {},
   "source": [
    "# Espino Albar / Espino Blanco (Crataegus Oxyacantha L.) (3)"
   ]
  },
  {
   "cell_type": "code",
   "execution_count": 206,
   "id": "4e9fa408",
   "metadata": {},
   "outputs": [],
   "source": [
    "# This is the url you will scrape in this exercise\n",
    "url = 'https://www.museodelprado.es/coleccion/obras-de-arte?searchObras=espino%20albar%20/%20espino%20blanco'"
   ]
  },
  {
   "cell_type": "code",
   "execution_count": 207,
   "id": "6ca61ffb",
   "metadata": {},
   "outputs": [],
   "source": [
    "driver.get(url)"
   ]
  },
  {
   "cell_type": "code",
   "execution_count": 208,
   "id": "5fa60db7",
   "metadata": {},
   "outputs": [
    {
     "data": {
      "text/plain": [
       "['Espinos en flor. Plantío de los Infantes',\n",
       " 'Óleo sobre lienzo. 1911',\n",
       " 'BERUETE, AURELIANO DE',\n",
       " 'Paisaje dentro de una guirnalda',\n",
       " 'Óleo sobre lienzo. Finales del siglo XVII',\n",
       " 'YKENS, CATHARINA II',\n",
       " 'Rama con pájaros',\n",
       " 'Grafito sobre papel avitelado. 1877 - 1884',\n",
       " 'HAES, CARLOS DE']"
      ]
     },
     "execution_count": 208,
     "metadata": {},
     "output_type": "execute_result"
    }
   ],
   "source": [
    "data = driver.find_elements(By.XPATH, '//*[@id=\"panResultados\"]/div')[0].text.split('\\n')"
   ]
  },
  {
   "cell_type": "code",
   "execution_count": null,
   "id": "093e2ba4",
   "metadata": {},
   "outputs": [],
   "source": [
    "for i in range(0, len(data), 3):\n",
    "    titulo, fecha, autor = map(str.strip, data[i:i+3])\n",
    "    \n",
    "    resultados.extend([titulo, fecha, autor, 'Espino Albar / Espino Blanco (Crataegus Oxyacantha L.)'])\n"
   ]
  },
  {
   "cell_type": "markdown",
   "id": "44ffbb82",
   "metadata": {},
   "source": [
    "# Espuela de Caballero (Consolida Ajacis) (15)"
   ]
  },
  {
   "cell_type": "code",
   "execution_count": 209,
   "id": "8bdcaebb",
   "metadata": {},
   "outputs": [],
   "source": [
    "# This is the url you will scrape in this exercise\n",
    "url = 'https://www.museodelprado.es/coleccion/obras-de-arte?searchObras=espuela%20de%20caballero'"
   ]
  },
  {
   "cell_type": "code",
   "execution_count": 210,
   "id": "7b62c363",
   "metadata": {},
   "outputs": [],
   "source": [
    "driver.get(url)"
   ]
  },
  {
   "cell_type": "code",
   "execution_count": 211,
   "id": "ed978344",
   "metadata": {},
   "outputs": [
    {
     "data": {
      "text/plain": [
       "['Autorretrato',\n",
       " 'Óleo sobre lienzo. Hacia 1562',\n",
       " 'TIZIANO, VECELLIO DI GREGORIO',\n",
       " 'Ramillete de flores con lazo azul',\n",
       " 'Óleo sobre lienzo. 1780 - 1785',\n",
       " 'PARET Y ALCÁZAR, LUIS',\n",
       " 'Carlos III, niño, en su gabinete',\n",
       " 'Óleo sobre lienzo. Hacia 1724',\n",
       " 'RANC, JEAN',\n",
       " 'Florero en un canastillo',\n",
       " 'Óleo sobre lienzo. Siglo XVII',\n",
       " 'PÉREZ, BARTOLOMÉ',\n",
       " 'Florero con cuadriga vista de frente',\n",
       " 'Óleo sobre lienzo. 1643',\n",
       " 'HIEPES, TOMÁS',\n",
       " 'Guirnalda de flores y paisaje',\n",
       " 'Óleo sobre lienzo. 1652',\n",
       " 'ARELLANO, JUAN DE',\n",
       " 'Cesta de flores',\n",
       " 'Óleo sobre lienzo. 1668 - 1670',\n",
       " 'ARELLANO, JUAN DE',\n",
       " 'La Abundancia',\n",
       " 'Óleo sobre lámina de cobre. Hacia 1625',\n",
       " 'BRUEGHEL EL JOVEN, JAN',\n",
       " 'Autorretrato',\n",
       " 'Óleo sobre lienzo. Hacia 1830',\n",
       " 'CRUZ Y RÍOS, LUIS DE LA',\n",
       " 'Florero',\n",
       " 'Óleo sobre lienzo. Siglo XVII',\n",
       " 'NUZZI, MARIO',\n",
       " 'Floreros y cebollas',\n",
       " 'Óleo sobre lienzo. 1640 - 1642',\n",
       " 'NUZZI, MARIO',\n",
       " 'Florero',\n",
       " 'Óleo sobre tabla. Último tercio del siglo XVIII - Principio del siglo...',\n",
       " 'ESPINÓS, BENITO',\n",
       " 'Florero',\n",
       " 'Óleo sobre tabla. 1780 - 1788',\n",
       " 'ESPINÓS, BENITO',\n",
       " 'Guirnalda de flores con Mercurio y Minerva',\n",
       " 'Óleo sobre tabla. 1811',\n",
       " 'ESPINÓS, BENITO',\n",
       " 'Florero',\n",
       " 'Óleo sobre lienzo. 1694 - 1700',\n",
       " 'BELVEDERE, ANDREA',\n",
       " 'Flores y frutas',\n",
       " 'Óleo sobre lienzo. 1887',\n",
       " 'RIVA Y CALLOL DE MUÑOZ, MARÍA LUISA DE LA',\n",
       " 'Guirnalda con el Niño Jesús y san Juan',\n",
       " 'Óleo sobre lámina de cobre. Siglo XVII',\n",
       " 'KESSEL EL JOVEN, JAN VAN']"
      ]
     },
     "execution_count": 211,
     "metadata": {},
     "output_type": "execute_result"
    }
   ],
   "source": [
    "data = driver.find_elements(By.XPATH, '//*[@id=\"panResultados\"]/div')[0].text.split('\\n')"
   ]
  },
  {
   "cell_type": "code",
   "execution_count": null,
   "id": "21c5a5a7",
   "metadata": {},
   "outputs": [],
   "source": [
    "for i in range(0, len(data), 3):\n",
    "    titulo, fecha, autor = map(str.strip, data[i:i+3])\n",
    "    \n",
    "    resultados.extend([titulo, fecha, autor, 'Espuela de Caballero (Consolida Ajacis)'])\n"
   ]
  },
  {
   "cell_type": "markdown",
   "id": "12fc6a6b",
   "metadata": {},
   "source": [
    "# Estramonio (Datura Stramonium) (1)"
   ]
  },
  {
   "cell_type": "code",
   "execution_count": 212,
   "id": "a335eaf5",
   "metadata": {},
   "outputs": [],
   "source": [
    "# This is the url you will scrape in this exercise\n",
    "url = 'https://www.museodelprado.es/coleccion/obras-de-arte?searchObras=estramonio%20(datura%20stramonium)'"
   ]
  },
  {
   "cell_type": "code",
   "execution_count": 213,
   "id": "9d643950",
   "metadata": {},
   "outputs": [],
   "source": [
    "driver.get(url)"
   ]
  },
  {
   "cell_type": "code",
   "execution_count": 214,
   "id": "eaea7d5c",
   "metadata": {},
   "outputs": [
    {
     "data": {
      "text/plain": [
       "['El amor y las flores (tríptico)',\n",
       " 'Temple sobre lienzo. 1910 - 1911',\n",
       " 'GÁRATE Y CLAVERO, JUAN JOSÉ']"
      ]
     },
     "execution_count": 214,
     "metadata": {},
     "output_type": "execute_result"
    }
   ],
   "source": [
    "data = driver.find_elements(By.XPATH, '//*[@id=\"panResultados\"]/div')[0].text.split('\\n')"
   ]
  },
  {
   "cell_type": "code",
   "execution_count": null,
   "id": "30a47a69",
   "metadata": {},
   "outputs": [],
   "source": [
    "for i in range(0, len(data), 3):\n",
    "    titulo, fecha, autor = map(str.strip, data[i:i+3])\n",
    "    \n",
    "    resultados.extend([titulo, fecha, autor, 'Estramonio (Datura Stramonium)'])\n"
   ]
  },
  {
   "cell_type": "markdown",
   "id": "118154a3",
   "metadata": {},
   "source": [
    "# Flor de Azahar (Citrus Aurantium) (28)"
   ]
  },
  {
   "cell_type": "code",
   "execution_count": 215,
   "id": "3d4b40c8",
   "metadata": {},
   "outputs": [],
   "source": [
    "# This is the url you will scrape in this exercise\n",
    "url = 'https://www.museodelprado.es/coleccion/obras-de-arte?searchObras=flor%20de%20azahar%20(citrus%20aurantium)'"
   ]
  },
  {
   "cell_type": "code",
   "execution_count": 216,
   "id": "00e0b079",
   "metadata": {},
   "outputs": [],
   "source": [
    "driver.get(url)"
   ]
  },
  {
   "cell_type": "code",
   "execution_count": 217,
   "id": "33c1baa2",
   "metadata": {},
   "outputs": [
    {
     "data": {
      "text/plain": [
       "['Joven desconocido con un ramo de azahar en la mano derecha',\n",
       " 'Óleo sobre lienzo. Siglo XVI',\n",
       " 'ANÓNIMO',\n",
       " 'Guirnalda de frutas con la Virgen y el Niño',\n",
       " 'Óleo sobre lienzo. Siglo XVII',\n",
       " 'ANÓNIMO',\n",
       " 'La diosa Flora',\n",
       " 'Óleo sobre lienzo. Hacia 1625',\n",
       " 'RUBENS, PEDRO PABLO (TALLER DE)',\n",
       " 'Florero',\n",
       " 'Óleo sobre lienzo. Primer cuarto del siglo XVII',\n",
       " 'BRUEGHEL EL VIEJO, JAN',\n",
       " 'Florero',\n",
       " 'Óleo sobre lienzo. Primer cuarto del siglo XVII',\n",
       " 'BRUEGHEL EL VIEJO, JAN',\n",
       " 'Florero',\n",
       " 'Óleo sobre tabla. 1615',\n",
       " 'BRUEGHEL EL VIEJO, JAN',\n",
       " 'El Olfato',\n",
       " 'Óleo sobre tabla. 1617 - 1618',\n",
       " 'RUBENS, PEDRO PABLO ; BRUEGHEL EL VIEJO, JAN',\n",
       " 'María Ana Victoria de Borbón, niña (futura reina de Portugal)',\n",
       " 'Óleo sobre lienzo. 1725',\n",
       " 'RANC, JEAN',\n",
       " 'Guirnalda de flores con San Antonio de Padua',\n",
       " 'Óleo sobre lienzo. Después de 1689',\n",
       " 'PÉREZ, BARTOLOMÉ',\n",
       " 'Guirnalda de flores con la Virgen, el Niño y San Juan',\n",
       " 'Óleo sobre lienzo. Primera mitad del siglo XVII',\n",
       " 'QUELLINUS, ERASMUS ; SEGHERS, DANIEL',\n",
       " 'Guirnalda con Jesús y Santa Teresa',\n",
       " 'Óleo sobre lienzo. Siglo XVII',\n",
       " 'SEGHERS, DANIEL',\n",
       " 'Guirnalda con la Virgen y el Niño',\n",
       " 'Óleo sobre lámina de cobre. 1644',\n",
       " 'SEGHERS, DANIEL',\n",
       " 'Dos genios entre guirnaldas y ramos de flores',\n",
       " 'Óleo sobre lienzo. Finales del siglo XVII - Principio del siglo XVIII',\n",
       " 'BELVEDERE, ANDREA ; SOLIMENA, FRANCESCO',\n",
       " 'El tocador de Venus',\n",
       " 'Óleo sobre lienzo. 1635 - 1640',\n",
       " 'ALBANI, FRANCESCO',\n",
       " 'Bodegón de flores',\n",
       " 'Óleo sobre lámina de cobre. 1633 - 1666',\n",
       " 'KESSEL EL VIEJO, JAN VAN',\n",
       " 'Cibeles y las Estaciones dentro de un festón de frutas',\n",
       " 'Óleo sobre tabla. 1615 - 1618',\n",
       " 'BALEN, HENDRICK VAN ; BRUEGHEL EL JOVEN, JAN',\n",
       " 'Guirnalda con la Virgen y el Niño',\n",
       " 'Óleo sobre tabla. Hacia 1621',\n",
       " 'BALEN, HENDRICK VAN ; BRUEGHEL EL VIEJO, JAN',\n",
       " 'Florero y recipiente de cristal',\n",
       " 'Óleo sobre lienzo. 1663',\n",
       " 'CAMPROBÍN, PEDRO DE']"
      ]
     },
     "execution_count": 217,
     "metadata": {},
     "output_type": "execute_result"
    }
   ],
   "source": [
    "data = driver.find_elements(By.XPATH, '//*[@id=\"panResultados\"]/div')[0].text.split('\\n')"
   ]
  },
  {
   "cell_type": "code",
   "execution_count": null,
   "id": "d5fe8805",
   "metadata": {},
   "outputs": [],
   "source": [
    "for i in range(0, len(data), 3):\n",
    "    titulo, fecha, autor = map(str.strip, data[i:i+3])\n",
    "    \n",
    "    resultados.extend([titulo, fecha, autor, 'Flor de Azahar (Citrus Aurantium)'])\n"
   ]
  },
  {
   "cell_type": "markdown",
   "id": "21d4ba4e",
   "metadata": {},
   "source": [
    "# Fresa Silvestre (Fragaria Vesca) (3)"
   ]
  },
  {
   "cell_type": "code",
   "execution_count": 218,
   "id": "5728614f",
   "metadata": {},
   "outputs": [],
   "source": [
    "# This is the url you will scrape in this exercise\n",
    "url = 'https://www.museodelprado.es/coleccion/obras-de-arte?searchObras=fresa%20silvestre%20(fragaria%20vesca)'"
   ]
  },
  {
   "cell_type": "code",
   "execution_count": 219,
   "id": "2aec9c9e",
   "metadata": {},
   "outputs": [],
   "source": [
    "driver.get(url)"
   ]
  },
  {
   "cell_type": "code",
   "execution_count": 220,
   "id": "e58265fc",
   "metadata": {},
   "outputs": [
    {
     "data": {
      "text/plain": [
       "['El Olfato',\n",
       " 'Óleo sobre tabla. 1617 - 1618',\n",
       " 'RUBENS, PEDRO PABLO ; BRUEGHEL EL VIEJO, JAN',\n",
       " 'La visión de san Huberto',\n",
       " 'Óleo sobre tabla. 1617 - 1620',\n",
       " 'RUBENS, PEDRO PABLO ; BRUEGHEL EL VIEJO, JAN',\n",
       " 'Guirnalda con paisaje',\n",
       " 'Óleo sobre lienzo. 1680 - 1700',\n",
       " 'YKENS, CATHARINA II']"
      ]
     },
     "execution_count": 220,
     "metadata": {},
     "output_type": "execute_result"
    }
   ],
   "source": [
    "data = driver.find_elements(By.XPATH, '//*[@id=\"panResultados\"]/div')[0].text.split('\\n')"
   ]
  },
  {
   "cell_type": "code",
   "execution_count": null,
   "id": "683c4573",
   "metadata": {},
   "outputs": [],
   "source": [
    "for i in range(0, len(data), 3):\n",
    "    titulo, fecha, autor = map(str.strip, data[i:i+3])\n",
    "    \n",
    "    resultados.extend([titulo, fecha, autor, 'Fresa Silvestre (Fragaria Vesca)'])\n"
   ]
  },
  {
   "cell_type": "markdown",
   "id": "7f8fac0b",
   "metadata": {},
   "source": [
    "# Fucsia / Pendientes de la Reina (Fuchsia Magellanica) (1)"
   ]
  },
  {
   "cell_type": "code",
   "execution_count": 221,
   "id": "0f0d33b3",
   "metadata": {},
   "outputs": [],
   "source": [
    "# This is the url you will scrape in this exercise\n",
    "url = 'https://www.museodelprado.es/coleccion/obras-de-arte?searchObras=fucsia%20/%20pendientes%20de%20la%20reina'"
   ]
  },
  {
   "cell_type": "code",
   "execution_count": 222,
   "id": "4501647a",
   "metadata": {},
   "outputs": [],
   "source": [
    "driver.get(url)"
   ]
  },
  {
   "cell_type": "code",
   "execution_count": 223,
   "id": "c5e0ffa5",
   "metadata": {},
   "outputs": [
    {
     "data": {
      "text/plain": [
       "['Flores y frutas',\n",
       " 'Óleo sobre lienzo. 1887',\n",
       " 'RIVA Y CALLOL DE MUÑOZ, MARÍA LUISA DE LA']"
      ]
     },
     "execution_count": 223,
     "metadata": {},
     "output_type": "execute_result"
    }
   ],
   "source": [
    "data = driver.find_elements(By.XPATH, '//*[@id=\"panResultados\"]/div')[0].text.split('\\n')"
   ]
  },
  {
   "cell_type": "code",
   "execution_count": null,
   "id": "ddbb5791",
   "metadata": {},
   "outputs": [],
   "source": [
    "for i in range(0, len(data), 3):\n",
    "    titulo, fecha, autor = map(str.strip, data[i:i+3])\n",
    "    \n",
    "    resultados.extend([titulo, fecha, autor, 'Fucsia / Pendientes de la Reina (Fuchsia Magellanica)'])\n"
   ]
  },
  {
   "cell_type": "markdown",
   "id": "10248137",
   "metadata": {},
   "source": [
    "# Geranio (Pelargonium Spp.) (2)"
   ]
  },
  {
   "cell_type": "code",
   "execution_count": 224,
   "id": "5765716a",
   "metadata": {},
   "outputs": [],
   "source": [
    "# This is the url you will scrape in this exercise\n",
    "url = 'https://www.museodelprado.es/coleccion/obras-de-arte?searchObras=geranio%20(pelargonium%20spp%20)'"
   ]
  },
  {
   "cell_type": "code",
   "execution_count": 225,
   "id": "a20a08d1",
   "metadata": {},
   "outputs": [],
   "source": [
    "driver.get(url)"
   ]
  },
  {
   "cell_type": "code",
   "execution_count": 226,
   "id": "a169dfa1",
   "metadata": {},
   "outputs": [
    {
     "data": {
      "text/plain": [
       "['Las flores de mayo',\n",
       " 'Óleo sobre lienzo. 1892',\n",
       " 'VALLCORBA Y MEXÍA, CAYETANO',\n",
       " 'Geranio y anémonas',\n",
       " 'Aguafuerte sobre papel verjurado. 1660 - 1690',\n",
       " 'VAUQUER, JACQUES - DIBUJANTE; POILLY I, FRANÇOIS DE - EDITOR']"
      ]
     },
     "execution_count": 226,
     "metadata": {},
     "output_type": "execute_result"
    }
   ],
   "source": [
    "data = driver.find_elements(By.XPATH, '//*[@id=\"panResultados\"]/div')[0].text.split('\\n')"
   ]
  },
  {
   "cell_type": "code",
   "execution_count": null,
   "id": "c4548ea4",
   "metadata": {},
   "outputs": [],
   "source": [
    "for i in range(0, len(data), 3):\n",
    "    titulo, fecha, autor = map(str.strip, data[i:i+3])\n",
    "    \n",
    "    resultados.extend([titulo, fecha, autor, 'Geranio (Pelargonium Spp.)'])\n"
   ]
  },
  {
   "cell_type": "markdown",
   "id": "f84cbac4",
   "metadata": {},
   "source": [
    "# Girasol (Helianthus Annuus) (5)"
   ]
  },
  {
   "cell_type": "code",
   "execution_count": 227,
   "id": "e9111aea",
   "metadata": {},
   "outputs": [],
   "source": [
    "# This is the url you will scrape in this exercise\n",
    "url = 'https://www.museodelprado.es/coleccion/obras-de-arte?searchObras=girasol%20(helianthus%20annuus)'"
   ]
  },
  {
   "cell_type": "code",
   "execution_count": 228,
   "id": "21e7b695",
   "metadata": {},
   "outputs": [],
   "source": [
    "driver.get(url)"
   ]
  },
  {
   "cell_type": "code",
   "execution_count": 229,
   "id": "7ec7ba8e",
   "metadata": {},
   "outputs": [
    {
     "data": {
      "text/plain": [
       "['Florero',\n",
       " 'Óleo sobre lienzo. Primer cuarto del siglo XVII',\n",
       " 'BRUEGHEL EL VIEJO, JAN',\n",
       " 'Florero con cuadriga vista de perfil',\n",
       " 'Óleo sobre lienzo. 1643',\n",
       " 'HIEPES, TOMÁS',\n",
       " 'Bodegón con florero y cachorro',\n",
       " 'Óleo sobre lienzo. Hacia 1625',\n",
       " 'HAMEN Y LEÓN, JUAN VAN DER',\n",
       " 'Ofrenda a Flora',\n",
       " 'Óleo sobre lienzo. 1627',\n",
       " 'HAMEN Y LEÓN, JUAN VAN DER',\n",
       " 'Guirnalda de flores con la Asunción de la Virgen',\n",
       " 'Óleo sobre lienzo. 1654',\n",
       " 'PONCE, ANTONIO']"
      ]
     },
     "execution_count": 229,
     "metadata": {},
     "output_type": "execute_result"
    }
   ],
   "source": [
    "data = driver.find_elements(By.XPATH, '//*[@id=\"panResultados\"]/div')[0].text.split('\\n')"
   ]
  },
  {
   "cell_type": "code",
   "execution_count": null,
   "id": "8a4a75b5",
   "metadata": {},
   "outputs": [],
   "source": [
    "for i in range(0, len(data), 3):\n",
    "    titulo, fecha, autor = map(str.strip, data[i:i+3])\n",
    "    \n",
    "    resultados.extend([titulo, fecha, autor, 'Girasol (Helianthus Annuus)'])\n"
   ]
  },
  {
   "cell_type": "markdown",
   "id": "c31786b9",
   "metadata": {},
   "source": [
    "# Gladiolo (Gladiolus Spp.) (7)"
   ]
  },
  {
   "cell_type": "code",
   "execution_count": 230,
   "id": "c843a09d",
   "metadata": {},
   "outputs": [],
   "source": [
    "# This is the url you will scrape in this exercise\n",
    "url = 'https://www.museodelprado.es/coleccion/obras-de-arte?searchObras=gladiolo%20(gladiolus%20spp%20)'"
   ]
  },
  {
   "cell_type": "code",
   "execution_count": 231,
   "id": "1c6cbc11",
   "metadata": {},
   "outputs": [],
   "source": [
    "driver.get(url)"
   ]
  },
  {
   "cell_type": "code",
   "execution_count": 232,
   "id": "81727fa0",
   "metadata": {},
   "outputs": [
    {
     "data": {
      "text/plain": [
       "['Florero',\n",
       " 'Óleo sobre lienzo. Siglo XVII',\n",
       " 'ANÓNIMO',\n",
       " 'El Olfato',\n",
       " 'Óleo sobre tabla. 1617 - 1618',\n",
       " 'RUBENS, PEDRO PABLO ; BRUEGHEL EL VIEJO, JAN',\n",
       " 'Cesta de flores',\n",
       " 'Óleo sobre lienzo. Hacia 1670',\n",
       " 'ARELLANO, JUAN DE',\n",
       " 'Bodegón con florero y cachorro',\n",
       " 'Óleo sobre lienzo. Hacia 1625',\n",
       " 'HAMEN Y LEÓN, JUAN VAN DER',\n",
       " 'Floreros',\n",
       " 'Óleo sobre lienzo. 1640 - 1642',\n",
       " 'NUZZI, MARIO',\n",
       " 'Flores',\n",
       " 'Óleo sobre lienzo. Hacia 1884',\n",
       " 'GESSA Y ARIAS, SEBASTIÁN',\n",
       " 'Flores y frutas',\n",
       " 'Óleo sobre lienzo. 1887',\n",
       " 'RIVA Y CALLOL DE MUÑOZ, MARÍA LUISA DE LA']"
      ]
     },
     "execution_count": 232,
     "metadata": {},
     "output_type": "execute_result"
    }
   ],
   "source": [
    "data = driver.find_elements(By.XPATH, '//*[@id=\"panResultados\"]/div')[0].text.split('\\n')"
   ]
  },
  {
   "cell_type": "code",
   "execution_count": null,
   "id": "3350eaca",
   "metadata": {},
   "outputs": [],
   "source": [
    "for i in range(0, len(data), 3):\n",
    "    titulo, fecha, autor = map(str.strip, data[i:i+3])\n",
    "    \n",
    "    resultados.extend([titulo, fecha, autor, 'Gladiolo (Gladiolus Spp.)'])\n"
   ]
  },
  {
   "cell_type": "markdown",
   "id": "ac85960b",
   "metadata": {},
   "source": [
    "# Glicinia (Wisteria Sinensis) (1)"
   ]
  },
  {
   "cell_type": "code",
   "execution_count": 233,
   "id": "ef031141",
   "metadata": {},
   "outputs": [],
   "source": [
    "# This is the url you will scrape in this exercise\n",
    "url = 'https://www.museodelprado.es/coleccion/obras-de-arte?searchObras=glicinia%20(wisteria%20sinensis)'"
   ]
  },
  {
   "cell_type": "code",
   "execution_count": 234,
   "id": "06898de5",
   "metadata": {},
   "outputs": [],
   "source": [
    "driver.get(url)"
   ]
  },
  {
   "cell_type": "code",
   "execution_count": 235,
   "id": "f4b0d6d4",
   "metadata": {},
   "outputs": [
    {
     "data": {
      "text/plain": [
       "['Florero', 'Óleo sobre lienzo. Siglo XVII', 'ARELLANO, JOSÉ DE']"
      ]
     },
     "execution_count": 235,
     "metadata": {},
     "output_type": "execute_result"
    }
   ],
   "source": [
    "data = driver.find_elements(By.XPATH, '//*[@id=\"panResultados\"]/div')[0].text.split('\\n')"
   ]
  },
  {
   "cell_type": "code",
   "execution_count": null,
   "id": "f5980b3f",
   "metadata": {},
   "outputs": [],
   "source": [
    "for i in range(0, len(data), 3):\n",
    "    titulo, fecha, autor = map(str.strip, data[i:i+3])\n",
    "    \n",
    "    resultados.extend([titulo, fecha, autor, 'Glicinia (Wisteria Sinensis)'])\n"
   ]
  },
  {
   "cell_type": "markdown",
   "id": "68ced4e2",
   "metadata": {},
   "source": [
    "# Granado (Punica Granatum) (9)"
   ]
  },
  {
   "cell_type": "code",
   "execution_count": 236,
   "id": "bbc398bd",
   "metadata": {},
   "outputs": [],
   "source": [
    "# This is the url you will scrape in this exercise\n",
    "url = 'https://www.museodelprado.es/coleccion/obras-de-arte?searchObras=granado%20(punica%20granatum)'"
   ]
  },
  {
   "cell_type": "code",
   "execution_count": 237,
   "id": "7aad2d26",
   "metadata": {},
   "outputs": [],
   "source": [
    "driver.get(url)"
   ]
  },
  {
   "cell_type": "code",
   "execution_count": 238,
   "id": "253c6615",
   "metadata": {},
   "outputs": [
    {
     "data": {
      "text/plain": [
       "['Florero',\n",
       " 'Óleo sobre tabla. Siglo XVII',\n",
       " 'BRUEGHEL EL VIEJO, JAN (DISCÍPULO DE)',\n",
       " 'Guirnalda de flores con la Virgen, el Niño y San Juan',\n",
       " 'Óleo sobre lienzo. Primera mitad del siglo XVII',\n",
       " 'QUELLINUS, ERASMUS ; SEGHERS, DANIEL',\n",
       " 'Guirnalda con Jesús y Santa Teresa',\n",
       " 'Óleo sobre lienzo. Siglo XVII',\n",
       " 'SEGHERS, DANIEL',\n",
       " 'Guirnalda con la Virgen y el Niño',\n",
       " 'Óleo sobre lámina de cobre. 1644',\n",
       " 'SEGHERS, DANIEL',\n",
       " 'Ofrenda a Flora',\n",
       " 'Óleo sobre lienzo. 1627',\n",
       " 'HAMEN Y LEÓN, JUAN VAN DER',\n",
       " 'Uvas y granadas',\n",
       " 'Óleo sobre lienzo. Hacia 1920',\n",
       " 'RIVA Y CALLOL DE MUÑOZ, MARÍA LUISA DE LA',\n",
       " 'Guirnalda rodeando a la Virgen María',\n",
       " 'Óleo sobre lámina de cobre. 1640 - 1660',\n",
       " 'VERENDAEL, NICOLAES VAN',\n",
       " 'Guirnalda con paisaje',\n",
       " 'Óleo sobre lienzo. 1680 - 1700',\n",
       " 'YKENS, CATHARINA II',\n",
       " 'Paisaje dentro de una guirnalda',\n",
       " 'Óleo sobre lienzo. Finales del siglo XVII',\n",
       " 'YKENS, CATHARINA II']"
      ]
     },
     "execution_count": 238,
     "metadata": {},
     "output_type": "execute_result"
    }
   ],
   "source": [
    "data = driver.find_elements(By.XPATH, '//*[@id=\"panResultados\"]/div')[0].text.split('\\n')"
   ]
  },
  {
   "cell_type": "code",
   "execution_count": null,
   "id": "5224dac8",
   "metadata": {},
   "outputs": [],
   "source": [
    "for i in range(0, len(data), 3):\n",
    "    titulo, fecha, autor = map(str.strip, data[i:i+3])\n",
    "    \n",
    "    resultados.extend([titulo, fecha, autor, 'Granado (Punica Granatum)'])\n"
   ]
  },
  {
   "cell_type": "markdown",
   "id": "5c69274c",
   "metadata": {},
   "source": [
    "# Guisante de Olor (Lathyrus Odoratus) (5)"
   ]
  },
  {
   "cell_type": "code",
   "execution_count": 239,
   "id": "875035e2",
   "metadata": {},
   "outputs": [],
   "source": [
    "# This is the url you will scrape in this exercise\n",
    "url = 'https://www.museodelprado.es/coleccion/obras-de-arte?searchObras=guisante%20de%20olor%20(lathyrus%20odoratus)'"
   ]
  },
  {
   "cell_type": "code",
   "execution_count": 240,
   "id": "15858f62",
   "metadata": {},
   "outputs": [],
   "source": [
    "driver.get(url)"
   ]
  },
  {
   "cell_type": "code",
   "execution_count": 241,
   "id": "12ff92b6",
   "metadata": {},
   "outputs": [
    {
     "data": {
      "text/plain": [
       "['Guirnalda con la Virgen y el Niño',\n",
       " 'Óleo sobre tabla. Hacia 1621',\n",
       " 'BALEN, HENDRICK VAN ; BRUEGHEL EL VIEJO, JAN',\n",
       " 'Guirnalda de flores con la Virgen, el Niño y San Juan',\n",
       " 'Óleo sobre lienzo. Primera mitad del siglo XVII',\n",
       " 'QUELLINUS, ERASMUS ; SEGHERS, DANIEL',\n",
       " 'Guirnalda con paisaje',\n",
       " 'Óleo sobre lienzo. 1680 - 1700',\n",
       " 'YKENS, CATHARINA II',\n",
       " 'Florero',\n",
       " 'Óleo sobre tabla. Último tercio del siglo XVIII',\n",
       " 'MALAINE, JOSEPH-LAURENT',\n",
       " 'Florero con rosas y otras flores',\n",
       " 'Óleo sobre tabla. 1799',\n",
       " 'ALABERT, SANTIAGO']"
      ]
     },
     "execution_count": 241,
     "metadata": {},
     "output_type": "execute_result"
    }
   ],
   "source": [
    "data = driver.find_elements(By.XPATH, '//*[@id=\"panResultados\"]/div')[0].text.split('\\n')"
   ]
  },
  {
   "cell_type": "code",
   "execution_count": null,
   "id": "145695ce",
   "metadata": {},
   "outputs": [],
   "source": [
    "for i in range(0, len(data), 3):\n",
    "    titulo, fecha, autor = map(str.strip, data[i:i+3])\n",
    "    \n",
    "    resultados.extend([titulo, fecha, autor, 'Guisante de Olor (Lathyrus Odoratus)'])\n"
   ]
  },
  {
   "cell_type": "markdown",
   "id": "87db1d53",
   "metadata": {},
   "source": [
    "# Haya (Fagus, de la Familia de las Fagaceae) (1)"
   ]
  },
  {
   "cell_type": "code",
   "execution_count": 242,
   "id": "5335c38b",
   "metadata": {},
   "outputs": [],
   "source": [
    "# This is the url you will scrape in this exercise\n",
    "url = 'https://www.museodelprado.es/coleccion/obras-de-arte?searchObras=haya%20(fagus%20%20de%20la%20familia%20de%20las%20fagaceae)'"
   ]
  },
  {
   "cell_type": "code",
   "execution_count": 243,
   "id": "2f19b416",
   "metadata": {},
   "outputs": [],
   "source": [
    "driver.get(url)"
   ]
  },
  {
   "cell_type": "code",
   "execution_count": 244,
   "id": "1ecebf53",
   "metadata": {},
   "outputs": [
    {
     "data": {
      "text/plain": [
       "['Bosque de hayas (Alsasua)',\n",
       " 'Óleo sobre tabla. Hacia 1875',\n",
       " 'HAES, CARLOS DE']"
      ]
     },
     "execution_count": 244,
     "metadata": {},
     "output_type": "execute_result"
    }
   ],
   "source": [
    "data = driver.find_elements(By.XPATH, '//*[@id=\"panResultados\"]/div')[0].text.split('\\n')"
   ]
  },
  {
   "cell_type": "code",
   "execution_count": null,
   "id": "56cbc5e5",
   "metadata": {},
   "outputs": [],
   "source": [
    "for i in range(0, len(data), 3):\n",
    "    titulo, fecha, autor = map(str.strip, data[i:i+3])\n",
    "    \n",
    "    resultados.extend([titulo, fecha, autor, 'Haya (Fagus, de la Familia de las Fagaceae)'])\n"
   ]
  },
  {
   "cell_type": "markdown",
   "id": "a350ff5f",
   "metadata": {},
   "source": [
    "# Hiedra (Hedera Spp.) (33)"
   ]
  },
  {
   "cell_type": "code",
   "execution_count": 245,
   "id": "345ace28",
   "metadata": {},
   "outputs": [],
   "source": [
    "# This is the url you will scrape in this exercise\n",
    "url = 'https://www.museodelprado.es/coleccion/obras-de-arte?searchObras=hiedra%20(hedera%20spp%20)'"
   ]
  },
  {
   "cell_type": "code",
   "execution_count": 246,
   "id": "c2d94e65",
   "metadata": {},
   "outputs": [],
   "source": [
    "driver.get(url)"
   ]
  },
  {
   "cell_type": "code",
   "execution_count": 247,
   "id": "451a581f",
   "metadata": {},
   "outputs": [
    {
     "data": {
      "text/plain": [
       "['Guirnalda con florecillas y setas y escena de brujería',\n",
       " 'Óleo sobre tabla. Siglo XVII',\n",
       " 'ANÓNIMO',\n",
       " 'Guirnalda con la Sagrada Familia',\n",
       " 'Óleo sobre lámina de cobre. Siglo XVII',\n",
       " 'ANÓNIMO',\n",
       " 'Guirnalda de flores rodeando a la Sagrada Familia',\n",
       " 'Óleo sobre lámina de cobre. Siglo XVII',\n",
       " 'ANÓNIMO',\n",
       " 'Guirnalda de flores y paisaje',\n",
       " 'Óleo sobre lienzo. 1652',\n",
       " 'ARELLANO, JUAN DE',\n",
       " 'Guirnalda de flores y paisaje',\n",
       " 'Óleo sobre lienzo. 1652',\n",
       " 'ARELLANO, JUAN DE',\n",
       " 'Guirnalda con la Virgen y el Niño',\n",
       " 'Óleo sobre lienzo. Siglo XVII',\n",
       " 'SEGHERS, DANIEL',\n",
       " 'La Virgen y el Niño dentro de una guirnalda de flores',\n",
       " 'Óleo sobre lienzo. Siglo XVII',\n",
       " 'SEGHERS, DANIEL (COPIA)',\n",
       " 'Guirnalda con la Virgen y el Niño',\n",
       " 'Óleo sobre lámina de cobre. 1644',\n",
       " 'SEGHERS, DANIEL',\n",
       " 'Florero',\n",
       " 'Óleo sobre lienzo. 1640 - 1642',\n",
       " 'NUZZI, MARIO',\n",
       " 'Guirnalda con la Virgen y el Niño',\n",
       " 'Óleo sobre tabla. Siglo XVII',\n",
       " 'SEGHERS, DANIEL ; SCHUT, CORNELIS',\n",
       " 'Guirnalda con la Virgen, el Niño y san Juan',\n",
       " 'Óleo sobre tabla. Siglo XVII',\n",
       " 'SEGHERS, DANIEL ; SCHUT, CORNELIS',\n",
       " 'Guirnalda con la Virgen y el Niño',\n",
       " 'Óleo sobre lámina de cobre. Siglo XVII',\n",
       " 'SEGHERS, DANIEL ; SCHUT, CORNELIS (?)',\n",
       " 'La Virgen con el Niño dentro de un festón de frutas',\n",
       " 'Óleo sobre lienzo. Siglo XVII',\n",
       " 'SON, JORIS VAN',\n",
       " 'Guirnalda de frutas rodeando al Niño Jesús como Redentor',\n",
       " 'Óleo sobre lienzo. Segundo tercio del siglo XVII',\n",
       " 'SON, JORIS VAN',\n",
       " 'Flores',\n",
       " 'Óleo sobre tabla. Hacia 1884',\n",
       " 'GESSA Y ARIAS, SEBASTIÁN',\n",
       " 'Flores',\n",
       " 'Óleo sobre lienzo. Hacia 1884',\n",
       " 'GESSA Y ARIAS, SEBASTIÁN',\n",
       " 'Fresones y rosas',\n",
       " 'Óleo sobre tabla. Hacia 1886',\n",
       " 'GESSA Y ARIAS, SEBASTIÁN',\n",
       " 'Flores y frutas',\n",
       " 'Óleo sobre tabla. Hacia 1897',\n",
       " 'GESSA Y ARIAS, SEBASTIÁN']"
      ]
     },
     "execution_count": 247,
     "metadata": {},
     "output_type": "execute_result"
    }
   ],
   "source": [
    "data = driver.find_elements(By.XPATH, '//*[@id=\"panResultados\"]/div')[0].text.split('\\n')"
   ]
  },
  {
   "cell_type": "code",
   "execution_count": null,
   "id": "aee48dbb",
   "metadata": {},
   "outputs": [],
   "source": [
    "for i in range(0, len(data), 3):\n",
    "    titulo, fecha, autor = map(str.strip, data[i:i+3])\n",
    "    \n",
    "    resultados.extend([titulo, fecha, autor, 'Hiedra (Hedera Spp.)'])\n"
   ]
  },
  {
   "cell_type": "markdown",
   "id": "2233d163",
   "metadata": {},
   "source": [
    "# Hierba de San Benito (Geum Urbanum) (1)"
   ]
  },
  {
   "cell_type": "code",
   "execution_count": 248,
   "id": "2b0f1fbd",
   "metadata": {},
   "outputs": [],
   "source": [
    "# This is the url you will scrape in this exercise\n",
    "url = 'https://www.museodelprado.es/coleccion/obras-de-arte?searchObras=hierba%20de%20san%20benito%20(geum%20urbanum)'"
   ]
  },
  {
   "cell_type": "code",
   "execution_count": 249,
   "id": "c17d0579",
   "metadata": {},
   "outputs": [],
   "source": [
    "driver.get(url)"
   ]
  },
  {
   "cell_type": "code",
   "execution_count": 250,
   "id": "5bf69620",
   "metadata": {},
   "outputs": [
    {
     "data": {
      "text/plain": [
       "['El Descendimiento',\n",
       " 'Óleo sobre tabla. Antes de 1443',\n",
       " 'WEYDEN, ROGIER VAN DER']"
      ]
     },
     "execution_count": 250,
     "metadata": {},
     "output_type": "execute_result"
    }
   ],
   "source": [
    "data = driver.find_elements(By.XPATH, '//*[@id=\"panResultados\"]/div')[0].text.split('\\n')"
   ]
  },
  {
   "cell_type": "code",
   "execution_count": null,
   "id": "1e95622b",
   "metadata": {},
   "outputs": [],
   "source": [
    "for i in range(0, len(data), 3):\n",
    "    titulo, fecha, autor = map(str.strip, data[i:i+3])\n",
    "    \n",
    "    resultados.extend([titulo, fecha, autor, 'Hierba de San Benito (Geum Urbanum)'])\n"
   ]
  },
  {
   "cell_type": "markdown",
   "id": "3446b10b",
   "metadata": {},
   "source": [
    "# Hierba Doncella / Vincapervinca (Vinca Minor) (10)"
   ]
  },
  {
   "cell_type": "code",
   "execution_count": 251,
   "id": "721a5d0a",
   "metadata": {},
   "outputs": [],
   "source": [
    "# This is the url you will scrape in this exercise\n",
    "url = 'https://www.museodelprado.es/coleccion/obras-de-arte?searchObras=hierba%20doncella%20/%20vincapervinca%20(vinca%20minor)'"
   ]
  },
  {
   "cell_type": "code",
   "execution_count": 252,
   "id": "0764a987",
   "metadata": {},
   "outputs": [],
   "source": [
    "driver.get(url)"
   ]
  },
  {
   "cell_type": "code",
   "execution_count": 253,
   "id": "b44c32eb",
   "metadata": {},
   "outputs": [
    {
     "data": {
      "text/plain": [
       "['La visión de san Huberto',\n",
       " 'Óleo sobre tabla. 1617 - 1620',\n",
       " 'RUBENS, PEDRO PABLO ; BRUEGHEL EL VIEJO, JAN',\n",
       " 'La diosa Flora',\n",
       " 'Óleo sobre lienzo. Hacia 1625',\n",
       " 'RUBENS, PEDRO PABLO (TALLER DE)',\n",
       " 'Guirnalda con la Virgen, el Niño y dos ángeles',\n",
       " 'Óleo sobre lámina de cobre. Hacia 1619',\n",
       " 'BRUEGHEL EL VIEJO, JAN ; PROCACCINI, GIULIO CESARE',\n",
       " 'Florero',\n",
       " 'Óleo sobre tabla. 1615',\n",
       " 'BRUEGHEL EL VIEJO, JAN',\n",
       " 'El Olfato',\n",
       " 'Óleo sobre tabla. 1617 - 1618',\n",
       " 'RUBENS, PEDRO PABLO ; BRUEGHEL EL VIEJO, JAN',\n",
       " 'Bodegón con florero y cachorro',\n",
       " 'Óleo sobre lienzo. Hacia 1625',\n",
       " 'HAMEN Y LEÓN, JUAN VAN DER',\n",
       " 'Ofrenda a Flora',\n",
       " 'Óleo sobre lienzo. 1627',\n",
       " 'HAMEN Y LEÓN, JUAN VAN DER',\n",
       " 'Bodegón con alcachofas, flores y recipientes de vidrio',\n",
       " 'Óleo sobre lienzo. 1627',\n",
       " 'HAMEN Y LEÓN, JUAN VAN DER',\n",
       " 'Guirnalda con la Virgen y el Niño',\n",
       " 'Óleo sobre tabla. Hacia 1621',\n",
       " 'BALEN, HENDRICK VAN ; BRUEGHEL EL VIEJO, JAN',\n",
       " 'Florero de cristal con rosas y jazmines',\n",
       " 'Óleo sobre lienzo. 1780 - 1790',\n",
       " 'ROMERO, JUAN BAUTISTA']"
      ]
     },
     "execution_count": 253,
     "metadata": {},
     "output_type": "execute_result"
    }
   ],
   "source": [
    "data = driver.find_elements(By.XPATH, '//*[@id=\"panResultados\"]/div')[0].text.split('\\n')"
   ]
  },
  {
   "cell_type": "code",
   "execution_count": null,
   "id": "7d29361f",
   "metadata": {},
   "outputs": [],
   "source": [
    "for i in range(0, len(data), 3):\n",
    "    titulo, fecha, autor = map(str.strip, data[i:i+3])\n",
    "    \n",
    "    resultados.extend([titulo, fecha, autor, 'Hierba Doncella / Vincapervinca (Vinca Minor)'])\n"
   ]
  },
  {
   "cell_type": "markdown",
   "id": "f6318482",
   "metadata": {},
   "source": [
    "# Higuera (Ficus Carica) (5)"
   ]
  },
  {
   "cell_type": "code",
   "execution_count": 254,
   "id": "3afd4dbd",
   "metadata": {},
   "outputs": [],
   "source": [
    "# This is the url you will scrape in this exercise\n",
    "url = 'https://www.museodelprado.es/coleccion/obras-de-arte?searchObras=higuera%20(ficus%20carica)'"
   ]
  },
  {
   "cell_type": "code",
   "execution_count": 255,
   "id": "e7d8f224",
   "metadata": {},
   "outputs": [],
   "source": [
    "driver.get(url)"
   ]
  },
  {
   "cell_type": "code",
   "execution_count": 256,
   "id": "a94c1e12",
   "metadata": {},
   "outputs": [
    {
     "data": {
      "text/plain": [
       "['El Olfato',\n",
       " 'Óleo sobre tabla. 1617 - 1618',\n",
       " 'RUBENS, PEDRO PABLO ; BRUEGHEL EL VIEJO, JAN',\n",
       " 'Adán y Eva',\n",
       " 'Óleo sobre lienzo. 1628 - 1629',\n",
       " 'RUBENS, PEDRO PABLO (OBRA COPIADA DE: TIZIANO, VECELLIO DI GREGORIO)',\n",
       " 'Adán y Eva',\n",
       " 'Óleo sobre lienzo. Hacia 1550',\n",
       " 'TIZIANO, VECELLIO DI GREGORIO',\n",
       " 'La Tierra',\n",
       " 'Óleo sobre lienzo. Siglo XVI',\n",
       " 'VOS, MARTIN DE',\n",
       " 'Adán y Eva',\n",
       " 'Albúmina sobre cartulina. 1874 - 1899',\n",
       " 'J. LAURENT Y CÍA - FOTÓGRAFO - (AUTOR DE LA OBRA ORIGINAL: TIZIANO, VECELLIO DI GREGORIO)']"
      ]
     },
     "execution_count": 256,
     "metadata": {},
     "output_type": "execute_result"
    }
   ],
   "source": [
    "data = driver.find_elements(By.XPATH, '//*[@id=\"panResultados\"]/div')[0].text.split('\\n')"
   ]
  },
  {
   "cell_type": "code",
   "execution_count": null,
   "id": "58fa1e73",
   "metadata": {},
   "outputs": [],
   "source": [
    "for i in range(0, len(data), 3):\n",
    "    titulo, fecha, autor = map(str.strip, data[i:i+3])\n",
    "    \n",
    "    resultados.extend([titulo, fecha, autor, 'Higuera (Ficus Carica)'])\n"
   ]
  },
  {
   "cell_type": "markdown",
   "id": "784a1e48",
   "metadata": {},
   "source": [
    "# Hortensia (Hydrangea) (3)"
   ]
  },
  {
   "cell_type": "code",
   "execution_count": 257,
   "id": "6cbbf43a",
   "metadata": {},
   "outputs": [],
   "source": [
    "# This is the url you will scrape in this exercise\n",
    "url = 'https://www.museodelprado.es/coleccion/obras-de-arte?searchObras=hortensia%20(hydrangea)'"
   ]
  },
  {
   "cell_type": "code",
   "execution_count": 258,
   "id": "b562e9fb",
   "metadata": {},
   "outputs": [],
   "source": [
    "driver.get(url)"
   ]
  },
  {
   "cell_type": "code",
   "execution_count": 259,
   "id": "86eb6a0f",
   "metadata": {},
   "outputs": [
    {
     "data": {
      "text/plain": [
       "['La diosa Flora',\n",
       " 'Óleo sobre lienzo. Hacia 1697',\n",
       " 'GIORDANO, LUCA - PINTOR; BELVEDERE, ANDREA - PINTOR',\n",
       " 'Interior',\n",
       " 'Óleo sobre lienzo. Hacia 1929',\n",
       " 'MARTÍ GARCÉS DE MARCILLA, JOSÉ',\n",
       " 'Guirnalda rodeando a la Virgen María',\n",
       " 'Óleo sobre lámina de cobre. 1640 - 1660',\n",
       " 'VERENDAEL, NICOLAES VAN']"
      ]
     },
     "execution_count": 259,
     "metadata": {},
     "output_type": "execute_result"
    }
   ],
   "source": [
    "data = driver.find_elements(By.XPATH, '//*[@id=\"panResultados\"]/div')[0].text.split('\\n')"
   ]
  },
  {
   "cell_type": "code",
   "execution_count": null,
   "id": "74c2a066",
   "metadata": {},
   "outputs": [],
   "source": [
    "for i in range(0, len(data), 3):\n",
    "    titulo, fecha, autor = map(str.strip, data[i:i+3])\n",
    "    \n",
    "    resultados.extend([titulo, fecha, autor, 'Hortensia (Hydrangea)'])\n"
   ]
  },
  {
   "cell_type": "markdown",
   "id": "4df1608c",
   "metadata": {},
   "source": [
    "# Iris / Lirio Azul (Iris Xiphium) (21)"
   ]
  },
  {
   "cell_type": "code",
   "execution_count": 260,
   "id": "4f34eb1f",
   "metadata": {},
   "outputs": [],
   "source": [
    "# This is the url you will scrape in this exercise\n",
    "url = 'https://www.museodelprado.es/coleccion/obras-de-arte?searchObras=iris%20/%20lirio%20azul'"
   ]
  },
  {
   "cell_type": "code",
   "execution_count": 261,
   "id": "b77d8050",
   "metadata": {},
   "outputs": [],
   "source": [
    "driver.get(url)"
   ]
  },
  {
   "cell_type": "code",
   "execution_count": 262,
   "id": "cef46308",
   "metadata": {},
   "outputs": [
    {
     "data": {
      "text/plain": [
       "['La Virgen anunciada',\n",
       " 'Óleo sobre tabla de madera de nogal. 1480 - 1500',\n",
       " 'ANÓNIMO',\n",
       " 'Sagrada Familia con San Juanito en una orla de flores',\n",
       " 'Óleo sobre lienzo. Finales del siglo XVII',\n",
       " 'ANÓNIMO',\n",
       " 'El Olfato',\n",
       " 'Óleo sobre tabla. 1617 - 1618',\n",
       " 'RUBENS, PEDRO PABLO ; BRUEGHEL EL VIEJO, JAN',\n",
       " 'Florero',\n",
       " 'Óleo sobre tabla. Primer cuarto del siglo XVII',\n",
       " 'BRUEGHEL EL VIEJO, JAN',\n",
       " 'Florero',\n",
       " 'Óleo sobre lienzo. Primer cuarto del siglo XVII',\n",
       " 'BRUEGHEL EL VIEJO, JAN',\n",
       " 'La Inmaculada Concepción',\n",
       " 'Óleo sobre lienzo. Siglo XVII',\n",
       " 'RIZI, FRANCISCO',\n",
       " 'Florero',\n",
       " 'Óleo sobre lienzo. Siglo XVII',\n",
       " 'PÉREZ, BARTOLOMÉ (ATRIBUIDO A)',\n",
       " 'Guirnalda de flores con San Antonio de Padua',\n",
       " 'Óleo sobre lienzo. Después de 1689',\n",
       " 'PÉREZ, BARTOLOMÉ',\n",
       " 'San Juan Bautista niño con el Cordero',\n",
       " 'Óleo sobre lienzo. 1681',\n",
       " 'RUIZ DE LA IGLESIA, FRANCISCO IGNACIO',\n",
       " 'Florero',\n",
       " 'Óleo sobre lienzo. 1660 - 1676',\n",
       " 'ARELLANO, JUAN DE',\n",
       " 'La Abundancia y los Cuatro Elementos',\n",
       " 'Óleo sobre tabla. Siglo XVII',\n",
       " 'BRUEGHEL EL JOVEN, JAN',\n",
       " 'La Abundancia',\n",
       " 'Óleo sobre lámina de cobre. Hacia 1625',\n",
       " 'BRUEGHEL EL JOVEN, JAN',\n",
       " 'Bodegón con florero y cachorro',\n",
       " 'Óleo sobre lienzo. Hacia 1625',\n",
       " 'HAMEN Y LEÓN, JUAN VAN DER',\n",
       " 'La Abundancia y los Cuatro Elementos',\n",
       " 'Óleo sobre tabla. Hacia 1615',\n",
       " 'BALEN, HENDRICK VAN ; BRUEGHEL EL VIEJO, JAN',\n",
       " 'Florero',\n",
       " 'Óleo sobre lienzo. Siglo XVII',\n",
       " 'ARELLANO, JOSÉ DE',\n",
       " 'Bodegón con flores, copa de plata dorada, almendras, frutos secos, dulces...',\n",
       " 'Óleo sobre tabla. 1611',\n",
       " 'PEETERS, CLARA',\n",
       " 'Flores y frutas',\n",
       " 'Óleo sobre lienzo. 1887',\n",
       " 'RIVA Y CALLOL DE MUÑOZ, MARÍA LUISA DE LA',\n",
       " 'Guirnalda de flores con la Asunción de la Virgen',\n",
       " 'Óleo sobre lienzo. 1654',\n",
       " 'PONCE, ANTONIO']"
      ]
     },
     "execution_count": 262,
     "metadata": {},
     "output_type": "execute_result"
    }
   ],
   "source": [
    "data = driver.find_elements(By.XPATH, '//*[@id=\"panResultados\"]/div')[0].text.split('\\n')"
   ]
  },
  {
   "cell_type": "code",
   "execution_count": null,
   "id": "6628b8ba",
   "metadata": {},
   "outputs": [],
   "source": [
    "for i in range(0, len(data), 3):\n",
    "    titulo, fecha, autor = map(str.strip, data[i:i+3])\n",
    "    \n",
    "    resultados.extend([titulo, fecha, autor, 'Iris / Lirio Azul (Iris Xiphium)'])\n"
   ]
  },
  {
   "cell_type": "markdown",
   "id": "7846fa72",
   "metadata": {},
   "source": [
    "# Jacinto del Perú / Esquila Portuguesa (Scilla Peruviana) (4)"
   ]
  },
  {
   "cell_type": "code",
   "execution_count": null,
   "id": "98509449",
   "metadata": {},
   "outputs": [],
   "source": [
    "# This is the url you will scrape in this exercise\n",
    "url = 'https://www.museodelprado.es/coleccion/obras-de-arte?searchObras=jacinto%20del%20peru%20/%20esquila%20portuguesa'"
   ]
  },
  {
   "cell_type": "code",
   "execution_count": null,
   "id": "0aa55878",
   "metadata": {},
   "outputs": [],
   "source": [
    "driver.get(url)"
   ]
  },
  {
   "cell_type": "code",
   "execution_count": null,
   "id": "c5945254",
   "metadata": {},
   "outputs": [],
   "source": [
    "data = driver.find_elements(By.XPATH, '//*[@id=\"panResultados\"]/div')[0].text.split('\\n')"
   ]
  },
  {
   "cell_type": "code",
   "execution_count": null,
   "id": "c214806d",
   "metadata": {},
   "outputs": [],
   "source": [
    "for i in range(0, len(data), 3):\n",
    "    titulo, fecha, autor = map(str.strip, data[i:i+3])\n",
    "    \n",
    "    resultados.extend([titulo, fecha, autor, 'Jacinto del Perú / Esquila Portuguesa (Scilla Peruviana)'])\n"
   ]
  },
  {
   "cell_type": "markdown",
   "id": "0132f6ab",
   "metadata": {},
   "source": [
    "# Jazmín (Jasminum Grandiflorum) (64)"
   ]
  },
  {
   "cell_type": "code",
   "execution_count": null,
   "id": "2b698fe6",
   "metadata": {},
   "outputs": [],
   "source": [
    "# This is the url you will scrape in this exercise\n",
    "url = 'https://www.museodelprado.es/coleccion/obras-de-arte?searchObras=jazmin%20(jasminum%20grandiflorum)'"
   ]
  },
  {
   "cell_type": "code",
   "execution_count": null,
   "id": "359f53fa",
   "metadata": {},
   "outputs": [],
   "source": [
    "driver.get(url)"
   ]
  },
  {
   "cell_type": "code",
   "execution_count": null,
   "id": "5ee8391e",
   "metadata": {},
   "outputs": [],
   "source": [
    "data = driver.find_elements(By.XPATH, '//*[@id=\"panResultados\"]/div')[0].text.split('\\n')"
   ]
  },
  {
   "cell_type": "code",
   "execution_count": null,
   "id": "4696292c",
   "metadata": {},
   "outputs": [],
   "source": [
    "for i in range(0, len(data), 3):\n",
    "    titulo, fecha, autor = map(str.strip, data[i:i+3])\n",
    "    \n",
    "    resultados.extend([titulo, fecha, autor, 'Jazmín (Jasminum Grandiflorum)'])\n"
   ]
  },
  {
   "cell_type": "markdown",
   "id": "71b57c66",
   "metadata": {},
   "source": [
    "# Kentia (Howea Forsteriana) (1)"
   ]
  },
  {
   "cell_type": "code",
   "execution_count": null,
   "id": "59442aa3",
   "metadata": {},
   "outputs": [],
   "source": [
    "# This is the url you will scrape in this exercise\n",
    "url = 'https://www.museodelprado.es/coleccion/obras-de-arte?searchObras=kentia%20(howea%20forsteriana)'"
   ]
  },
  {
   "cell_type": "code",
   "execution_count": null,
   "id": "786a2186",
   "metadata": {},
   "outputs": [],
   "source": [
    "driver.get(url)"
   ]
  },
  {
   "cell_type": "code",
   "execution_count": null,
   "id": "4bd71d50",
   "metadata": {},
   "outputs": [],
   "source": [
    "data = driver.find_elements(By.XPATH, '//*[@id=\"panResultados\"]/div')[0].text.split('\\n')"
   ]
  },
  {
   "cell_type": "code",
   "execution_count": null,
   "id": "a6c68be4",
   "metadata": {},
   "outputs": [],
   "source": [
    "for i in range(0, len(data), 3):\n",
    "    titulo, fecha, autor = map(str.strip, data[i:i+3])\n",
    "    \n",
    "    resultados.extend([titulo, fecha, autor, 'Kentia (Howea Forsteriana)'])\n"
   ]
  },
  {
   "cell_type": "markdown",
   "id": "9ca922d1",
   "metadata": {},
   "source": [
    "# Laurel ( Laurus Nobilis) (17)"
   ]
  },
  {
   "cell_type": "code",
   "execution_count": null,
   "id": "4940fd96",
   "metadata": {},
   "outputs": [],
   "source": [
    "# This is the url you will scrape in this exercise\n",
    "url = 'https://www.museodelprado.es/coleccion/obras-de-arte?searchObras=laurel%20(%20laurus%20nobilis)'"
   ]
  },
  {
   "cell_type": "code",
   "execution_count": null,
   "id": "bfcdf852",
   "metadata": {},
   "outputs": [],
   "source": [
    "driver.get(url)"
   ]
  },
  {
   "cell_type": "code",
   "execution_count": null,
   "id": "9e3d863d",
   "metadata": {},
   "outputs": [],
   "source": [
    "data = driver.find_elements(By.XPATH, '//*[@id=\"panResultados\"]/div')[0].text.split('\\n')"
   ]
  },
  {
   "cell_type": "code",
   "execution_count": null,
   "id": "4c5a9067",
   "metadata": {},
   "outputs": [],
   "source": [
    "for i in range(0, len(data), 3):\n",
    "    titulo, fecha, autor = map(str.strip, data[i:i+3])\n",
    "    \n",
    "    resultados.extend([titulo, fecha, autor, 'Laurel ( Laurus Nobilis)'])\n"
   ]
  },
  {
   "cell_type": "markdown",
   "id": "a3c2f163",
   "metadata": {},
   "source": [
    "# Lilas (Syringa Vulgaris) (11)"
   ]
  },
  {
   "cell_type": "code",
   "execution_count": null,
   "id": "d3fd4c93",
   "metadata": {},
   "outputs": [],
   "source": [
    "# This is the url you will scrape in this exercise\n",
    "url = 'https://www.museodelprado.es/coleccion/obras-de-arte?searchObras=lilas%20(syringa%20vulgaris)'"
   ]
  },
  {
   "cell_type": "code",
   "execution_count": null,
   "id": "c49ec047",
   "metadata": {},
   "outputs": [],
   "source": [
    "driver.get(url)"
   ]
  },
  {
   "cell_type": "code",
   "execution_count": null,
   "id": "6c70d167",
   "metadata": {},
   "outputs": [],
   "source": [
    "data = driver.find_elements(By.XPATH, '//*[@id=\"panResultados\"]/div')[0].text.split('\\n')"
   ]
  },
  {
   "cell_type": "code",
   "execution_count": null,
   "id": "14aed0c7",
   "metadata": {},
   "outputs": [],
   "source": [
    "for i in range(0, len(data), 3):\n",
    "    titulo, fecha, autor = map(str.strip, data[i:i+3])\n",
    "    \n",
    "    resultados.extend([titulo, fecha, autor, 'Lilas (Syringa Vulgaris)'])\n"
   ]
  },
  {
   "cell_type": "markdown",
   "id": "b212cb6b",
   "metadata": {},
   "source": [
    "# Lilium (Lilium Spp.) (34)"
   ]
  },
  {
   "cell_type": "code",
   "execution_count": null,
   "id": "13079f82",
   "metadata": {},
   "outputs": [],
   "source": [
    "# This is the url you will scrape in this exercise\n",
    "url = 'https://www.museodelprado.es/coleccion/obras-de-arte?searchObras=lilium%20(lilium%20spp%20)'"
   ]
  },
  {
   "cell_type": "code",
   "execution_count": null,
   "id": "52993174",
   "metadata": {},
   "outputs": [],
   "source": [
    "driver.get(url)"
   ]
  },
  {
   "cell_type": "code",
   "execution_count": null,
   "id": "73ce4275",
   "metadata": {},
   "outputs": [],
   "source": [
    "data = driver.find_elements(By.XPATH, '//*[@id=\"panResultados\"]/div')[0].text.split('\\n')"
   ]
  },
  {
   "cell_type": "code",
   "execution_count": null,
   "id": "87c0a87d",
   "metadata": {},
   "outputs": [],
   "source": [
    "for i in range(0, len(data), 3):\n",
    "    titulo, fecha, autor = map(str.strip, data[i:i+3])\n",
    "    \n",
    "    resultados.extend([titulo, fecha, autor, 'Lilium (Lilium Spp.)'])\n"
   ]
  },
  {
   "cell_type": "markdown",
   "id": "c87ad3af",
   "metadata": {},
   "source": [
    "# Lirio (Iris Germanica) (85)"
   ]
  },
  {
   "cell_type": "code",
   "execution_count": null,
   "id": "d6f68cfe",
   "metadata": {},
   "outputs": [],
   "source": [
    "# This is the url you will scrape in this exercise\n",
    "url = 'https://www.museodelprado.es/coleccion/obras-de-arte?searchObras=lirio%20(iris%20germanica)'"
   ]
  },
  {
   "cell_type": "code",
   "execution_count": null,
   "id": "4b674606",
   "metadata": {},
   "outputs": [],
   "source": [
    "driver.get(url)"
   ]
  },
  {
   "cell_type": "code",
   "execution_count": null,
   "id": "d56ce971",
   "metadata": {},
   "outputs": [],
   "source": [
    "data = driver.find_elements(By.XPATH, '//*[@id=\"panResultados\"]/div')[0].text.split('\\n')"
   ]
  },
  {
   "cell_type": "code",
   "execution_count": null,
   "id": "8639ae5e",
   "metadata": {},
   "outputs": [],
   "source": [
    "for i in range(0, len(data), 3):\n",
    "    titulo, fecha, autor = map(str.strip, data[i:i+3])\n",
    "    \n",
    "    resultados.extend([titulo, fecha, autor, 'Lirio (Iris Germanica)'])\n"
   ]
  },
  {
   "cell_type": "markdown",
   "id": "84fc7338",
   "metadata": {},
   "source": [
    "# Madreselva (Lonicera) (7)"
   ]
  },
  {
   "cell_type": "code",
   "execution_count": null,
   "id": "2e6dbb11",
   "metadata": {},
   "outputs": [],
   "source": [
    "# This is the url you will scrape in this exercise\n",
    "url = 'https://www.museodelprado.es/coleccion/obras-de-arte?searchObras=madreselva%20(lonicera)'"
   ]
  },
  {
   "cell_type": "code",
   "execution_count": null,
   "id": "7bb4634d",
   "metadata": {},
   "outputs": [],
   "source": [
    "driver.get(url)"
   ]
  },
  {
   "cell_type": "code",
   "execution_count": null,
   "id": "5a5f0641",
   "metadata": {},
   "outputs": [],
   "source": [
    "data = driver.find_elements(By.XPATH, '//*[@id=\"panResultados\"]/div')[0].text.split('\\n')"
   ]
  },
  {
   "cell_type": "code",
   "execution_count": null,
   "id": "922b01d0",
   "metadata": {},
   "outputs": [],
   "source": [
    "for i in range(0, len(data), 3):\n",
    "    titulo, fecha, autor = map(str.strip, data[i:i+3])\n",
    "    \n",
    "    resultados.extend([titulo, fecha, autor, 'Madreselva (Lonicera)'])\n"
   ]
  },
  {
   "cell_type": "markdown",
   "id": "316e12bb",
   "metadata": {},
   "source": [
    "# Malva (Malva Sylvestris) (1)"
   ]
  },
  {
   "cell_type": "code",
   "execution_count": null,
   "id": "0267c2bd",
   "metadata": {},
   "outputs": [],
   "source": [
    "# This is the url you will scrape in this exercise\n",
    "url = 'https://www.museodelprado.es/coleccion/obras-de-arte?ecidoc:p65_E36_p138_represents_flora@@@pm:floraNode=http://museodelprado.es/items/biologicalobjectflora_545'"
   ]
  },
  {
   "cell_type": "code",
   "execution_count": null,
   "id": "0f5ae124",
   "metadata": {},
   "outputs": [],
   "source": [
    "driver.get(url)"
   ]
  },
  {
   "cell_type": "code",
   "execution_count": null,
   "id": "47f6162e",
   "metadata": {},
   "outputs": [],
   "source": [
    "data = driver.find_elements(By.XPATH, '//*[@id=\"panResultados\"]/div')[0].text.split('\\n')"
   ]
  },
  {
   "cell_type": "code",
   "execution_count": null,
   "id": "4fa3ad2f",
   "metadata": {},
   "outputs": [],
   "source": [
    "for i in range(0, len(data), 3):\n",
    "    titulo, fecha, autor = map(str.strip, data[i:i+3])\n",
    "    \n",
    "    resultados.extend([titulo, fecha, autor, 'Malva (Malva Sylvestris)'])\n"
   ]
  },
  {
   "cell_type": "markdown",
   "id": "4ac50c1f",
   "metadata": {},
   "source": [
    "# Malva Común (Malva Sylvestris) (2)"
   ]
  },
  {
   "cell_type": "code",
   "execution_count": null,
   "id": "c2e55d68",
   "metadata": {},
   "outputs": [],
   "source": [
    "# This is the url you will scrape in this exercise\n",
    "url = 'https://www.museodelprado.es/coleccion/obras-de-arte?searchObras=malva%20comun%20(malva%20sylvestris)'"
   ]
  },
  {
   "cell_type": "code",
   "execution_count": null,
   "id": "48ce0e49",
   "metadata": {},
   "outputs": [],
   "source": [
    "driver.get(url)"
   ]
  },
  {
   "cell_type": "code",
   "execution_count": null,
   "id": "0f7a4250",
   "metadata": {},
   "outputs": [],
   "source": [
    "data = driver.find_elements(By.XPATH, '//*[@id=\"panResultados\"]/div')[0].text.split('\\n')"
   ]
  },
  {
   "cell_type": "code",
   "execution_count": null,
   "id": "d8ce321d",
   "metadata": {},
   "outputs": [],
   "source": [
    "for i in range(0, len(data), 3):\n",
    "    titulo, fecha, autor = map(str.strip, data[i:i+3])\n",
    "    \n",
    "    resultados.extend([titulo, fecha, autor, 'Malva Común (Malva Sylvestris)'])\n"
   ]
  },
  {
   "cell_type": "markdown",
   "id": "16ded377",
   "metadata": {},
   "source": [
    "# Malva Real / Malvarrosa (Althaea Rosea) (23)"
   ]
  },
  {
   "cell_type": "code",
   "execution_count": null,
   "id": "a65a20b1",
   "metadata": {},
   "outputs": [],
   "source": [
    "# This is the url you will scrape in this exercise\n",
    "url = 'https://www.museodelprado.es/coleccion/obras-de-arte?searchObras=malva%20real%20/%20malvarrosa'"
   ]
  },
  {
   "cell_type": "code",
   "execution_count": null,
   "id": "a30cfc4f",
   "metadata": {},
   "outputs": [],
   "source": [
    "driver.get(url)"
   ]
  },
  {
   "cell_type": "code",
   "execution_count": null,
   "id": "b4ef7634",
   "metadata": {},
   "outputs": [],
   "source": [
    "data = driver.find_elements(By.XPATH, '//*[@id=\"panResultados\"]/div')[0].text.split('\\n')"
   ]
  },
  {
   "cell_type": "code",
   "execution_count": null,
   "id": "6c6e8b82",
   "metadata": {},
   "outputs": [],
   "source": [
    "for i in range(0, len(data), 3):\n",
    "    titulo, fecha, autor = map(str.strip, data[i:i+3])\n",
    "    \n",
    "    resultados.extend([titulo, fecha, autor, 'Malva Real / Malvarrosa (Althaea Rosea)'])\n"
   ]
  },
  {
   "cell_type": "markdown",
   "id": "b6501b4d",
   "metadata": {},
   "source": [
    "# Manzano (Malus Domestica) (8)"
   ]
  },
  {
   "cell_type": "code",
   "execution_count": null,
   "id": "d5db26a1",
   "metadata": {},
   "outputs": [],
   "source": [
    "# This is the url you will scrape in this exercise\n",
    "url = 'https://www.museodelprado.es/coleccion/obras-de-arte?searchObras=manzano%20(malus%20domestica)'"
   ]
  },
  {
   "cell_type": "code",
   "execution_count": null,
   "id": "ab25ed24",
   "metadata": {},
   "outputs": [],
   "source": [
    "driver.get(url)"
   ]
  },
  {
   "cell_type": "code",
   "execution_count": null,
   "id": "94bf1b4e",
   "metadata": {},
   "outputs": [],
   "source": [
    "data = driver.find_elements(By.XPATH, '//*[@id=\"panResultados\"]/div')[0].text.split('\\n')"
   ]
  },
  {
   "cell_type": "code",
   "execution_count": null,
   "id": "1f792e61",
   "metadata": {},
   "outputs": [],
   "source": [
    "for i in range(0, len(data), 3):\n",
    "    titulo, fecha, autor = map(str.strip, data[i:i+3])\n",
    "    \n",
    "    resultados.extend([titulo, fecha, autor, 'Manzano (Malus Domestica)'])\n"
   ]
  },
  {
   "cell_type": "markdown",
   "id": "7d678951",
   "metadata": {},
   "source": [
    "# Matricaria / Botón de Plata (Chrysanthemum Parthenium) (1)"
   ]
  },
  {
   "cell_type": "code",
   "execution_count": null,
   "id": "27ce96b7",
   "metadata": {},
   "outputs": [],
   "source": [
    "# This is the url you will scrape in this exercise\n",
    "url = 'https://www.museodelprado.es/coleccion/obras-de-arte?searchObras=matricaria%20/%20boton%20de%20plata%20(chrysanthemum%20parthenium)'"
   ]
  },
  {
   "cell_type": "code",
   "execution_count": null,
   "id": "505f0044",
   "metadata": {},
   "outputs": [],
   "source": [
    "driver.get(url)"
   ]
  },
  {
   "cell_type": "code",
   "execution_count": null,
   "id": "3a2fa1ad",
   "metadata": {},
   "outputs": [],
   "source": [
    "data = driver.find_elements(By.XPATH, '//*[@id=\"panResultados\"]/div')[0].text.split('\\n')"
   ]
  },
  {
   "cell_type": "code",
   "execution_count": null,
   "id": "b869868a",
   "metadata": {},
   "outputs": [],
   "source": [
    "for i in range(0, len(data), 3):\n",
    "    titulo, fecha, autor = map(str.strip, data[i:i+3])\n",
    "    \n",
    "    resultados.extend([titulo, fecha, autor, 'Matricaria / Botón de Plata (Chrysanthemum Parthenium)'])\n"
   ]
  },
  {
   "cell_type": "markdown",
   "id": "bb76ce27",
   "metadata": {},
   "source": [
    "# Minutisa (Dianthus Barbatus) (1)"
   ]
  },
  {
   "cell_type": "code",
   "execution_count": null,
   "id": "04b4bee4",
   "metadata": {},
   "outputs": [],
   "source": [
    "# This is the url you will scrape in this exercise\n",
    "url = 'https://www.museodelprado.es/coleccion/obras-de-arte?searchObras=minutisa%20(dianthus%20barbatus)'"
   ]
  },
  {
   "cell_type": "code",
   "execution_count": null,
   "id": "979279c6",
   "metadata": {},
   "outputs": [],
   "source": [
    "driver.get(url)"
   ]
  },
  {
   "cell_type": "code",
   "execution_count": null,
   "id": "f420d93f",
   "metadata": {},
   "outputs": [],
   "source": [
    "data = driver.find_elements(By.XPATH, '//*[@id=\"panResultados\"]/div')[0].text.split('\\n')"
   ]
  },
  {
   "cell_type": "code",
   "execution_count": null,
   "id": "a0aac7c5",
   "metadata": {},
   "outputs": [],
   "source": [
    "for i in range(0, len(data), 3):\n",
    "    titulo, fecha, autor = map(str.strip, data[i:i+3])\n",
    "    \n",
    "    resultados.extend([titulo, fecha, autor, 'Minutisa (Dianthus Barbatus)'])\n"
   ]
  },
  {
   "cell_type": "markdown",
   "id": "5edf5a3b",
   "metadata": {},
   "source": [
    "# Mirto / Arrayán (Myrtus Communis) (1)"
   ]
  },
  {
   "cell_type": "code",
   "execution_count": null,
   "id": "27f91994",
   "metadata": {},
   "outputs": [],
   "source": [
    "# This is the url you will scrape in this exercise\n",
    "url = 'https://www.museodelprado.es/coleccion/obras-de-arte?searchObras=mirto%20/%20arrayan%20(myrtus%20communis)'"
   ]
  },
  {
   "cell_type": "code",
   "execution_count": null,
   "id": "ceee29ff",
   "metadata": {},
   "outputs": [],
   "source": [
    "driver.get(url)"
   ]
  },
  {
   "cell_type": "code",
   "execution_count": null,
   "id": "d10793bd",
   "metadata": {},
   "outputs": [],
   "source": [
    "data = driver.find_elements(By.XPATH, '//*[@id=\"panResultados\"]/div')[0].text.split('\\n')"
   ]
  },
  {
   "cell_type": "code",
   "execution_count": null,
   "id": "e289641b",
   "metadata": {},
   "outputs": [],
   "source": [
    "for i in range(0, len(data), 3):\n",
    "    titulo, fecha, autor = map(str.strip, data[i:i+3])\n",
    "    \n",
    "    resultados.extend([titulo, fecha, autor, 'Mirto / Arrayán (Myrtus Communis)'])\n"
   ]
  },
  {
   "cell_type": "markdown",
   "id": "374a7ab1",
   "metadata": {},
   "source": [
    "# Moral Blanco / Morera (Morus Alba) (2)"
   ]
  },
  {
   "cell_type": "code",
   "execution_count": null,
   "id": "c5928171",
   "metadata": {},
   "outputs": [],
   "source": [
    "# This is the url you will scrape in this exercise\n",
    "url = 'https://www.museodelprado.es/coleccion/obras-de-arte?searchObras=moral%20blanco%20/%20morera%20(morus%20alba)'"
   ]
  },
  {
   "cell_type": "code",
   "execution_count": null,
   "id": "22ca66c3",
   "metadata": {},
   "outputs": [],
   "source": [
    "driver.get(url)"
   ]
  },
  {
   "cell_type": "code",
   "execution_count": null,
   "id": "a613585a",
   "metadata": {},
   "outputs": [],
   "source": [
    "data = driver.find_elements(By.XPATH, '//*[@id=\"panResultados\"]/div')[0].text.split('\\n')"
   ]
  },
  {
   "cell_type": "code",
   "execution_count": null,
   "id": "ada58cd1",
   "metadata": {},
   "outputs": [],
   "source": [
    "for i in range(0, len(data), 3):\n",
    "    titulo, fecha, autor = map(str.strip, data[i:i+3])\n",
    "    \n",
    "    resultados.extend([titulo, fecha, autor, 'Moral Blanco / Morera (Morus Alba)'])\n"
   ]
  },
  {
   "cell_type": "markdown",
   "id": "081a7ebb",
   "metadata": {},
   "source": [
    "# Muguet / Lirio del Valle (Convallaria Majalis) (10)"
   ]
  },
  {
   "cell_type": "code",
   "execution_count": null,
   "id": "bf84bd9a",
   "metadata": {},
   "outputs": [],
   "source": [
    "# This is the url you will scrape in this exercise\n",
    "url = 'https://www.museodelprado.es/coleccion/obras-de-arte?searchObras=muguet%20/%20lirio%20del%20valle%20(convallaria%20majalis)'"
   ]
  },
  {
   "cell_type": "code",
   "execution_count": null,
   "id": "06ba0c4b",
   "metadata": {},
   "outputs": [],
   "source": [
    "driver.get(url)"
   ]
  },
  {
   "cell_type": "code",
   "execution_count": null,
   "id": "c8929bb8",
   "metadata": {},
   "outputs": [],
   "source": [
    "data = driver.find_elements(By.XPATH, '//*[@id=\"panResultados\"]/div')[0].text.split('\\n')"
   ]
  },
  {
   "cell_type": "code",
   "execution_count": null,
   "id": "ff48a889",
   "metadata": {},
   "outputs": [],
   "source": [
    "for i in range(0, len(data), 3):\n",
    "    titulo, fecha, autor = map(str.strip, data[i:i+3])\n",
    "    \n",
    "    resultados.extend([titulo, fecha, autor, 'Muguet / Lirio del Valle (Convallaria Majalis)'])\n"
   ]
  },
  {
   "cell_type": "markdown",
   "id": "c46182f5",
   "metadata": {},
   "source": [
    "# Mundillo / Bola de Nieve (Viburnum Opulus L.) (30)"
   ]
  },
  {
   "cell_type": "code",
   "execution_count": null,
   "id": "80a429f1",
   "metadata": {},
   "outputs": [],
   "source": [
    "# This is the url you will scrape in this exercise\n",
    "url = 'https://www.museodelprado.es/coleccion/obras-de-arte?searchObras=mundillo%20/%20bola%20de%20nieve%20(viburnum%20opulus%20l%20)'"
   ]
  },
  {
   "cell_type": "code",
   "execution_count": null,
   "id": "6154def7",
   "metadata": {},
   "outputs": [],
   "source": [
    "driver.get(url)"
   ]
  },
  {
   "cell_type": "code",
   "execution_count": null,
   "id": "29f807a3",
   "metadata": {},
   "outputs": [],
   "source": [
    "data = driver.find_elements(By.XPATH, '//*[@id=\"panResultados\"]/div')[0].text.split('\\n')"
   ]
  },
  {
   "cell_type": "code",
   "execution_count": null,
   "id": "76f35ae7",
   "metadata": {},
   "outputs": [],
   "source": [
    "for i in range(0, len(data), 3):\n",
    "    titulo, fecha, autor = map(str.strip, data[i:i+3])\n",
    "    \n",
    "    resultados.extend([titulo, fecha, autor, 'Mundillo / Bola de Nieve (Viburnum Opulus L.)'])\n"
   ]
  },
  {
   "cell_type": "markdown",
   "id": "d2f6c337",
   "metadata": {},
   "source": [
    "# Nabo (Brassica Rapa) (18)"
   ]
  },
  {
   "cell_type": "code",
   "execution_count": null,
   "id": "01f24ae0",
   "metadata": {},
   "outputs": [],
   "source": [
    "# This is the url you will scrape in this exercise\n",
    "url = 'https://www.museodelprado.es/coleccion/obras-de-arte?searchObras=nabo%20(brassica%20rapa)'"
   ]
  },
  {
   "cell_type": "code",
   "execution_count": null,
   "id": "ec40eeca",
   "metadata": {},
   "outputs": [],
   "source": [
    "driver.get(url)"
   ]
  },
  {
   "cell_type": "code",
   "execution_count": null,
   "id": "04d224f5",
   "metadata": {},
   "outputs": [],
   "source": [
    "data = driver.find_elements(By.XPATH, '//*[@id=\"panResultados\"]/div')[0].text.split('\\n')"
   ]
  },
  {
   "cell_type": "code",
   "execution_count": null,
   "id": "682cfc4d",
   "metadata": {},
   "outputs": [],
   "source": [
    "for i in range(0, len(data), 3):\n",
    "    titulo, fecha, autor = map(str.strip, data[i:i+3])\n",
    "    \n",
    "    resultados.extend([titulo, fecha, autor, 'Nabo (Brassica Rapa)'])\n"
   ]
  },
  {
   "cell_type": "markdown",
   "id": "1eef2e08",
   "metadata": {},
   "source": [
    "# Naranjo (Citrus X Sinensis) (5)"
   ]
  },
  {
   "cell_type": "code",
   "execution_count": null,
   "id": "76be3fe8",
   "metadata": {},
   "outputs": [],
   "source": [
    "# This is the url you will scrape in this exercise\n",
    "url = 'https://www.museodelprado.es/coleccion/obras-de-arte?searchObras=naranjo%20(citrus%20x%20sinensis)'"
   ]
  },
  {
   "cell_type": "code",
   "execution_count": null,
   "id": "7519d126",
   "metadata": {},
   "outputs": [],
   "source": [
    "driver.get(url)"
   ]
  },
  {
   "cell_type": "code",
   "execution_count": null,
   "id": "1488374a",
   "metadata": {},
   "outputs": [],
   "source": [
    "data = driver.find_elements(By.XPATH, '//*[@id=\"panResultados\"]/div')[0].text.split('\\n')"
   ]
  },
  {
   "cell_type": "code",
   "execution_count": null,
   "id": "9036dc48",
   "metadata": {},
   "outputs": [],
   "source": [
    "for i in range(0, len(data), 3):\n",
    "    titulo, fecha, autor = map(str.strip, data[i:i+3])\n",
    "    \n",
    "    resultados.extend([titulo, fecha, autor, 'Naranjo (Citrus X Sinensis)'])\n"
   ]
  },
  {
   "cell_type": "markdown",
   "id": "1454db72",
   "metadata": {},
   "source": [
    "# Narciso (Narcissus Spp.) (84)"
   ]
  },
  {
   "cell_type": "code",
   "execution_count": null,
   "id": "d7b4be1e",
   "metadata": {},
   "outputs": [],
   "source": [
    "# This is the url you will scrape in this exercise\n",
    "url = 'https://www.museodelprado.es/coleccion/obras-de-arte?searchObras=narciso%20(narcissus%20spp%20)'"
   ]
  },
  {
   "cell_type": "code",
   "execution_count": null,
   "id": "2bdfe832",
   "metadata": {},
   "outputs": [],
   "source": [
    "driver.get(url)"
   ]
  },
  {
   "cell_type": "code",
   "execution_count": null,
   "id": "5f27ee1f",
   "metadata": {},
   "outputs": [],
   "source": [
    "data = driver.find_elements(By.XPATH, '//*[@id=\"panResultados\"]/div')[0].text.split('\\n')"
   ]
  },
  {
   "cell_type": "code",
   "execution_count": null,
   "id": "2de76661",
   "metadata": {},
   "outputs": [],
   "source": [
    "for i in range(0, len(data), 3):\n",
    "    titulo, fecha, autor = map(str.strip, data[i:i+3])\n",
    "    \n",
    "    resultados.extend([titulo, fecha, autor, 'Narciso (Narcissus Spp.)'])\n"
   ]
  },
  {
   "cell_type": "markdown",
   "id": "9e5bdebf",
   "metadata": {},
   "source": [
    "# Nardo (Polianthes Tuberosa) (10)"
   ]
  },
  {
   "cell_type": "code",
   "execution_count": null,
   "id": "cd95616c",
   "metadata": {},
   "outputs": [],
   "source": [
    "# This is the url you will scrape in this exercise\n",
    "url = 'https://www.museodelprado.es/coleccion/obras-de-arte?searchObras=nardo%20(polianthes%20tuberosa)'"
   ]
  },
  {
   "cell_type": "code",
   "execution_count": null,
   "id": "aec8b2ef",
   "metadata": {},
   "outputs": [],
   "source": [
    "driver.get(url)"
   ]
  },
  {
   "cell_type": "code",
   "execution_count": null,
   "id": "8118dba2",
   "metadata": {},
   "outputs": [],
   "source": [
    "data = driver.find_elements(By.XPATH, '//*[@id=\"panResultados\"]/div')[0].text.split('\\n')"
   ]
  },
  {
   "cell_type": "code",
   "execution_count": null,
   "id": "b335d309",
   "metadata": {},
   "outputs": [],
   "source": [
    "for i in range(0, len(data), 3):\n",
    "    titulo, fecha, autor = map(str.strip, data[i:i+3])\n",
    "    \n",
    "    resultados.extend([titulo, fecha, autor, 'Nardo (Polianthes Tuberosa)'])\n"
   ]
  },
  {
   "cell_type": "markdown",
   "id": "d15c1efb",
   "metadata": {},
   "source": [
    "# Nomeolvides (Myosotis) (1)"
   ]
  },
  {
   "cell_type": "code",
   "execution_count": null,
   "id": "232527f1",
   "metadata": {},
   "outputs": [],
   "source": [
    "# This is the url you will scrape in this exercise\n",
    "url = 'https://www.museodelprado.es/coleccion/obras-de-arte?searchObras=nomeolvides%20(myosotis)'"
   ]
  },
  {
   "cell_type": "code",
   "execution_count": null,
   "id": "72ecf720",
   "metadata": {},
   "outputs": [],
   "source": [
    "driver.get(url)"
   ]
  },
  {
   "cell_type": "code",
   "execution_count": null,
   "id": "d1cf4acc",
   "metadata": {},
   "outputs": [],
   "source": [
    "data = driver.find_elements(By.XPATH, '//*[@id=\"panResultados\"]/div')[0].text.split('\\n')"
   ]
  },
  {
   "cell_type": "code",
   "execution_count": null,
   "id": "828ecaca",
   "metadata": {},
   "outputs": [],
   "source": [
    "for i in range(0, len(data), 3):\n",
    "    titulo, fecha, autor = map(str.strip, data[i:i+3])\n",
    "    \n",
    "    resultados.extend([titulo, fecha, autor, 'Nomeolvides (Myosotis)'])\n"
   ]
  },
  {
   "cell_type": "markdown",
   "id": "453f32ac",
   "metadata": {},
   "source": [
    "# Olivo (Olea Europaea) (13)"
   ]
  },
  {
   "cell_type": "code",
   "execution_count": null,
   "id": "22dd6e4e",
   "metadata": {},
   "outputs": [],
   "source": [
    "# This is the url you will scrape in this exercise\n",
    "url = 'https://www.museodelprado.es/coleccion/obras-de-arte?searchObras=olivo%20(olea%20europaea)'"
   ]
  },
  {
   "cell_type": "code",
   "execution_count": null,
   "id": "2bdd8c50",
   "metadata": {},
   "outputs": [],
   "source": [
    "driver.get(url)"
   ]
  },
  {
   "cell_type": "code",
   "execution_count": null,
   "id": "43297e7c",
   "metadata": {},
   "outputs": [],
   "source": [
    "data = driver.find_elements(By.XPATH, '//*[@id=\"panResultados\"]/div')[0].text.split('\\n')"
   ]
  },
  {
   "cell_type": "code",
   "execution_count": null,
   "id": "fe736291",
   "metadata": {},
   "outputs": [],
   "source": [
    "for i in range(0, len(data), 3):\n",
    "    titulo, fecha, autor = map(str.strip, data[i:i+3])\n",
    "    \n",
    "    resultados.extend([titulo, fecha, autor, 'Olivo (Olea Europaea)'])\n"
   ]
  },
  {
   "cell_type": "markdown",
   "id": "a3ca5b8d",
   "metadata": {},
   "source": [
    "# Olmo Blanco Europeo (Ulmus Laevis Pall) (1)"
   ]
  },
  {
   "cell_type": "code",
   "execution_count": null,
   "id": "92aa0e9f",
   "metadata": {},
   "outputs": [],
   "source": [
    "# This is the url you will scrape in this exercise\n",
    "url = 'https://www.museodelprado.es/coleccion/obras-de-arte?searchObras=olmo%20blanco%20europeo%20(ulmus%20laevis%20pall)'"
   ]
  },
  {
   "cell_type": "code",
   "execution_count": null,
   "id": "935be163",
   "metadata": {},
   "outputs": [],
   "source": [
    "driver.get(url)"
   ]
  },
  {
   "cell_type": "code",
   "execution_count": null,
   "id": "d5dfe2fe",
   "metadata": {},
   "outputs": [],
   "source": [
    "data = driver.find_elements(By.XPATH, '//*[@id=\"panResultados\"]/div')[0].text.split('\\n')"
   ]
  },
  {
   "cell_type": "code",
   "execution_count": null,
   "id": "322c7b8c",
   "metadata": {},
   "outputs": [],
   "source": [
    "for i in range(0, len(data), 3):\n",
    "    titulo, fecha, autor = map(str.strip, data[i:i+3])\n",
    "    \n",
    "    resultados.extend([titulo, fecha, autor, 'Olmo Blanco Europeo (Ulmus Laevis Pall)'])\n"
   ]
  },
  {
   "cell_type": "markdown",
   "id": "a3a4af13",
   "metadata": {},
   "source": [
    "# Ortiga Mayor (Urtica Dioica) (1)"
   ]
  },
  {
   "cell_type": "code",
   "execution_count": null,
   "id": "60afa56d",
   "metadata": {},
   "outputs": [],
   "source": [
    "# This is the url you will scrape in this exercise\n",
    "url = 'https://www.museodelprado.es/coleccion/obras-de-arte?searchObras=ortiga%20mayor%20(urtica%20dioica)'"
   ]
  },
  {
   "cell_type": "code",
   "execution_count": null,
   "id": "607dbfbf",
   "metadata": {},
   "outputs": [],
   "source": [
    "driver.get(url)"
   ]
  },
  {
   "cell_type": "code",
   "execution_count": null,
   "id": "76cffde5",
   "metadata": {},
   "outputs": [],
   "source": [
    "data = driver.find_elements(By.XPATH, '//*[@id=\"panResultados\"]/div')[0].text.split('\\n')"
   ]
  },
  {
   "cell_type": "code",
   "execution_count": null,
   "id": "5a73052f",
   "metadata": {},
   "outputs": [],
   "source": [
    "for i in range(0, len(data), 3):\n",
    "    titulo, fecha, autor = map(str.strip, data[i:i+3])\n",
    "    \n",
    "    resultados.extend([titulo, fecha, autor, 'Ortiga Mayor (Urtica Dioica)'])\n"
   ]
  },
  {
   "cell_type": "markdown",
   "id": "d6985997",
   "metadata": {},
   "source": [
    "# Palmera (Phoenix Dactylifera) (32)"
   ]
  },
  {
   "cell_type": "code",
   "execution_count": null,
   "id": "0c34bea8",
   "metadata": {},
   "outputs": [],
   "source": [
    "# This is the url you will scrape in this exercise\n",
    "url = 'https://www.museodelprado.es/coleccion/obras-de-arte?searchObras=palmera%20(phoenix%20dactylifera)'"
   ]
  },
  {
   "cell_type": "code",
   "execution_count": null,
   "id": "1acb96c5",
   "metadata": {},
   "outputs": [],
   "source": [
    "driver.get(url)"
   ]
  },
  {
   "cell_type": "code",
   "execution_count": null,
   "id": "d9de2b17",
   "metadata": {},
   "outputs": [],
   "source": [
    "data = driver.find_elements(By.XPATH, '//*[@id=\"panResultados\"]/div')[0].text.split('\\n')"
   ]
  },
  {
   "cell_type": "code",
   "execution_count": null,
   "id": "0f61138b",
   "metadata": {},
   "outputs": [],
   "source": [
    "for i in range(0, len(data), 3):\n",
    "    titulo, fecha, autor = map(str.strip, data[i:i+3])\n",
    "    \n",
    "    resultados.extend([titulo, fecha, autor, 'Palmera (Phoenix Dactylifera)'])\n"
   ]
  },
  {
   "cell_type": "markdown",
   "id": "38ecdb03",
   "metadata": {},
   "source": [
    "# Pasionaria / Flor de la Pasión (Passiflora Caerulea) (3)"
   ]
  },
  {
   "cell_type": "code",
   "execution_count": null,
   "id": "f14b3ee2",
   "metadata": {},
   "outputs": [],
   "source": [
    "# This is the url you will scrape in this exercise\n",
    "url = 'https://www.museodelprado.es/coleccion/obras-de-arte?searchObras=pasionaria%20/%20flor%20de%20la%20pasion%20(passiflora%20caerulea)'"
   ]
  },
  {
   "cell_type": "code",
   "execution_count": null,
   "id": "12919a91",
   "metadata": {},
   "outputs": [],
   "source": [
    "driver.get(url)"
   ]
  },
  {
   "cell_type": "code",
   "execution_count": null,
   "id": "e55dd5a3",
   "metadata": {},
   "outputs": [],
   "source": [
    "data = driver.find_elements(By.XPATH, '//*[@id=\"panResultados\"]/div')[0].text.split('\\n')"
   ]
  },
  {
   "cell_type": "code",
   "execution_count": null,
   "id": "96a84880",
   "metadata": {},
   "outputs": [],
   "source": [
    "for i in range(0, len(data), 3):\n",
    "    titulo, fecha, autor = map(str.strip, data[i:i+3])\n",
    "    \n",
    "    resultados.extend([titulo, fecha, autor, 'Pasionaria / Flor de la Pasión (Passiflora Caerulea)'])\n"
   ]
  },
  {
   "cell_type": "markdown",
   "id": "ca3bd3cf",
   "metadata": {},
   "source": [
    "# Pensamiento (Viola Tricolor) (21)"
   ]
  },
  {
   "cell_type": "code",
   "execution_count": null,
   "id": "fa680558",
   "metadata": {},
   "outputs": [],
   "source": [
    "# This is the url you will scrape in this exercise\n",
    "url = 'https://www.museodelprado.es/coleccion/obras-de-arte?searchObras=pensamiento%20(viola%20tricolor)'"
   ]
  },
  {
   "cell_type": "code",
   "execution_count": null,
   "id": "4b338720",
   "metadata": {},
   "outputs": [],
   "source": [
    "driver.get(url)"
   ]
  },
  {
   "cell_type": "code",
   "execution_count": null,
   "id": "bf58137a",
   "metadata": {},
   "outputs": [],
   "source": [
    "data = driver.find_elements(By.XPATH, '//*[@id=\"panResultados\"]/div')[0].text.split('\\n')"
   ]
  },
  {
   "cell_type": "code",
   "execution_count": null,
   "id": "095fa6de",
   "metadata": {},
   "outputs": [],
   "source": [
    "for i in range(0, len(data), 3):\n",
    "    titulo, fecha, autor = map(str.strip, data[i:i+3])\n",
    "    \n",
    "    resultados.extend([titulo, fecha, autor, 'Pensamiento (Viola Tricolor)'])\n"
   ]
  },
  {
   "cell_type": "markdown",
   "id": "bafa5e34",
   "metadata": {},
   "source": [
    "# Peonía (Paeonia) (28)"
   ]
  },
  {
   "cell_type": "code",
   "execution_count": null,
   "id": "b8aa8274",
   "metadata": {},
   "outputs": [],
   "source": [
    "# This is the url you will scrape in this exercise\n",
    "url = 'https://www.museodelprado.es/coleccion/obras-de-arte?searchObras=peonia%20(paeonia)'"
   ]
  },
  {
   "cell_type": "code",
   "execution_count": null,
   "id": "f8555afa",
   "metadata": {},
   "outputs": [],
   "source": [
    "driver.get(url)"
   ]
  },
  {
   "cell_type": "code",
   "execution_count": null,
   "id": "94a61abe",
   "metadata": {},
   "outputs": [],
   "source": [
    "data = driver.find_elements(By.XPATH, '//*[@id=\"panResultados\"]/div')[0].text.split('\\n')"
   ]
  },
  {
   "cell_type": "code",
   "execution_count": null,
   "id": "08ca154e",
   "metadata": {},
   "outputs": [],
   "source": [
    "for i in range(0, len(data), 3):\n",
    "    titulo, fecha, autor = map(str.strip, data[i:i+3])\n",
    "    \n",
    "    resultados.extend([titulo, fecha, autor, 'Peonía (Paeonia)'])\n"
   ]
  },
  {
   "cell_type": "markdown",
   "id": "bbece29b",
   "metadata": {},
   "source": [
    "# Peral (Pyrus Communis) (1)"
   ]
  },
  {
   "cell_type": "code",
   "execution_count": null,
   "id": "bb5153ac",
   "metadata": {},
   "outputs": [],
   "source": [
    "# This is the url you will scrape in this exercise\n",
    "url = 'https://www.museodelprado.es/coleccion/obras-de-arte?searchObras=peral%20(pyrus%20communis)'"
   ]
  },
  {
   "cell_type": "code",
   "execution_count": null,
   "id": "554f541a",
   "metadata": {},
   "outputs": [],
   "source": [
    "driver.get(url)"
   ]
  },
  {
   "cell_type": "code",
   "execution_count": null,
   "id": "8acdcbfa",
   "metadata": {},
   "outputs": [],
   "source": [
    "data = driver.find_elements(By.XPATH, '//*[@id=\"panResultados\"]/div')[0].text.split('\\n')"
   ]
  },
  {
   "cell_type": "code",
   "execution_count": null,
   "id": "50b11b99",
   "metadata": {},
   "outputs": [],
   "source": [
    "for i in range(0, len(data), 3):\n",
    "    titulo, fecha, autor = map(str.strip, data[i:i+3])\n",
    "    \n",
    "    resultados.extend([titulo, fecha, autor, 'Peral (Pyrus Communis)'])\n"
   ]
  },
  {
   "cell_type": "markdown",
   "id": "7e0ffce8",
   "metadata": {},
   "source": [
    "# Pino ( Pinus Spp.) (12)"
   ]
  },
  {
   "cell_type": "code",
   "execution_count": null,
   "id": "7c175ae5",
   "metadata": {},
   "outputs": [],
   "source": [
    "# This is the url you will scrape in this exercise\n",
    "url = 'https://www.museodelprado.es/coleccion/obras-de-arte?searchObras=pino%20(%20pinus%20spp%20)'"
   ]
  },
  {
   "cell_type": "code",
   "execution_count": null,
   "id": "c19630bb",
   "metadata": {},
   "outputs": [],
   "source": [
    "driver.get(url)"
   ]
  },
  {
   "cell_type": "code",
   "execution_count": null,
   "id": "d6a180ae",
   "metadata": {},
   "outputs": [],
   "source": [
    "data = driver.find_elements(By.XPATH, '//*[@id=\"panResultados\"]/div')[0].text.split('\\n')"
   ]
  },
  {
   "cell_type": "code",
   "execution_count": null,
   "id": "1f5d95f0",
   "metadata": {},
   "outputs": [],
   "source": [
    "for i in range(0, len(data), 3):\n",
    "    titulo, fecha, autor = map(str.strip, data[i:i+3])\n",
    "    \n",
    "    resultados.extend([titulo, fecha, autor, 'Pino ( Pinus Spp.)'])\n"
   ]
  },
  {
   "cell_type": "markdown",
   "id": "1d94f466",
   "metadata": {},
   "source": [
    "# Piorno (Cytisus Hispanicus) (1)"
   ]
  },
  {
   "cell_type": "code",
   "execution_count": null,
   "id": "dbfd26af",
   "metadata": {},
   "outputs": [],
   "source": [
    "# This is the url you will scrape in this exercise\n",
    "url = 'https://www.museodelprado.es/coleccion/obras-de-arte?searchObras=piorno%20(cytisus%20hispanicus)'"
   ]
  },
  {
   "cell_type": "code",
   "execution_count": null,
   "id": "2af5f389",
   "metadata": {},
   "outputs": [],
   "source": [
    "driver.get(url)"
   ]
  },
  {
   "cell_type": "code",
   "execution_count": null,
   "id": "43fd56c6",
   "metadata": {},
   "outputs": [],
   "source": [
    "data = driver.find_elements(By.XPATH, '//*[@id=\"panResultados\"]/div')[0].text.split('\\n')"
   ]
  },
  {
   "cell_type": "code",
   "execution_count": null,
   "id": "8107e8a3",
   "metadata": {},
   "outputs": [],
   "source": [
    "for i in range(0, len(data), 3):\n",
    "    titulo, fecha, autor = map(str.strip, data[i:i+3])\n",
    "    \n",
    "    resultados.extend([titulo, fecha, autor, 'Piorno (Cytisus Hispanicus)'])\n"
   ]
  },
  {
   "cell_type": "markdown",
   "id": "a46c0cc5",
   "metadata": {},
   "source": [
    "# Pita (Agave Spp.) (2)"
   ]
  },
  {
   "cell_type": "code",
   "execution_count": null,
   "id": "1b9bd67f",
   "metadata": {},
   "outputs": [],
   "source": [
    "# This is the url you will scrape in this exercise\n",
    "url = 'https://www.museodelprado.es/coleccion/obras-de-arte?searchObras=pita%20(agave%20spp%20)'"
   ]
  },
  {
   "cell_type": "code",
   "execution_count": null,
   "id": "a391b4f3",
   "metadata": {},
   "outputs": [],
   "source": [
    "driver.get(url)"
   ]
  },
  {
   "cell_type": "code",
   "execution_count": null,
   "id": "a14c8a6f",
   "metadata": {},
   "outputs": [],
   "source": [
    "data = driver.find_elements(By.XPATH, '//*[@id=\"panResultados\"]/div')[0].text.split('\\n')"
   ]
  },
  {
   "cell_type": "code",
   "execution_count": null,
   "id": "11184a4e",
   "metadata": {},
   "outputs": [],
   "source": [
    "for i in range(0, len(data), 3):\n",
    "    titulo, fecha, autor = map(str.strip, data[i:i+3])\n",
    "    \n",
    "    resultados.extend([titulo, fecha, autor, 'Pita (Agave Spp.)'])\n",
    "\n"
   ]
  },
  {
   "cell_type": "markdown",
   "id": "9c424135",
   "metadata": {},
   "source": [
    "# Platanera (Musa Paradisiaca) (1)"
   ]
  },
  {
   "cell_type": "code",
   "execution_count": null,
   "id": "7bda423b",
   "metadata": {},
   "outputs": [],
   "source": [
    "# This is the url you will scrape in this exercise\n",
    "url = 'https://www.museodelprado.es/coleccion/obras-de-arte?searchObras=platanera%20(musa%20paradisiaca)'"
   ]
  },
  {
   "cell_type": "code",
   "execution_count": null,
   "id": "dbc25cab",
   "metadata": {},
   "outputs": [],
   "source": [
    "driver.get(url)"
   ]
  },
  {
   "cell_type": "code",
   "execution_count": null,
   "id": "d6594848",
   "metadata": {},
   "outputs": [],
   "source": [
    "data = driver.find_elements(By.XPATH, '//*[@id=\"panResultados\"]/div')[0].text.split('\\n')"
   ]
  },
  {
   "cell_type": "code",
   "execution_count": null,
   "id": "02691585",
   "metadata": {},
   "outputs": [],
   "source": [
    "for i in range(0, len(data), 3):\n",
    "    titulo, fecha, autor = map(str.strip, data[i:i+3])\n",
    "    \n",
    "    resultados.extend([titulo, fecha, autor, 'Platanera (Musa Paradisiaca)'])\n",
    "\n"
   ]
  },
  {
   "cell_type": "markdown",
   "id": "8872851a",
   "metadata": {},
   "source": [
    "# Plumbago (Plumbago Auriculata) (1)"
   ]
  },
  {
   "cell_type": "code",
   "execution_count": null,
   "id": "8d5741a1",
   "metadata": {},
   "outputs": [],
   "source": [
    "# This is the url you will scrape in this exercise\n",
    "url = 'https://www.museodelprado.es/coleccion/obras-de-arte?searchObras=plumbago%20(plumbago%20auriculata)'"
   ]
  },
  {
   "cell_type": "code",
   "execution_count": null,
   "id": "88dfc8a4",
   "metadata": {},
   "outputs": [],
   "source": [
    "driver.get(url)"
   ]
  },
  {
   "cell_type": "code",
   "execution_count": null,
   "id": "543c4f78",
   "metadata": {},
   "outputs": [],
   "source": [
    "data = driver.find_elements(By.XPATH, '//*[@id=\"panResultados\"]/div')[0].text.split('\\n')"
   ]
  },
  {
   "cell_type": "code",
   "execution_count": null,
   "id": "eea09184",
   "metadata": {},
   "outputs": [],
   "source": [
    "for i in range(0, len(data), 3):\n",
    "    titulo, fecha, autor = map(str.strip, data[i:i+3])\n",
    "    \n",
    "    resultados.extend([titulo, fecha, autor, 'Plumbago (Plumbago Auriculata)'])\n",
    "\n"
   ]
  },
  {
   "cell_type": "markdown",
   "id": "d8ef1c83",
   "metadata": {},
   "source": [
    "# Primavera (Primula Officinalis) (3)"
   ]
  },
  {
   "cell_type": "code",
   "execution_count": null,
   "id": "5015bedc",
   "metadata": {},
   "outputs": [],
   "source": [
    "# This is the url you will scrape in this exercise\n",
    "url = 'https://www.museodelprado.es/coleccion/obras-de-arte?searchObras=primavera%20(primula%20officinalis)'"
   ]
  },
  {
   "cell_type": "code",
   "execution_count": null,
   "id": "f96e7dc3",
   "metadata": {},
   "outputs": [],
   "source": [
    "driver.get(url)"
   ]
  },
  {
   "cell_type": "code",
   "execution_count": null,
   "id": "e77eba61",
   "metadata": {},
   "outputs": [],
   "source": [
    "data = driver.find_elements(By.XPATH, '//*[@id=\"panResultados\"]/div')[0].text.split('\\n')"
   ]
  },
  {
   "cell_type": "code",
   "execution_count": null,
   "id": "3013bc68",
   "metadata": {},
   "outputs": [],
   "source": [
    "for i in range(0, len(data), 3):\n",
    "    titulo, fecha, autor = map(str.strip, data[i:i+3])\n",
    "    \n",
    "    resultados.extend([titulo, fecha, autor, 'Primavera (Primula Officinalis)'])\n",
    "\n"
   ]
  },
  {
   "cell_type": "markdown",
   "id": "58aa23c9",
   "metadata": {},
   "source": [
    "# Prímula (Primula Auricula) (14)"
   ]
  },
  {
   "cell_type": "code",
   "execution_count": null,
   "id": "1597f9cc",
   "metadata": {},
   "outputs": [],
   "source": [
    "# This is the url you will scrape in this exercise\n",
    "url = 'https://www.museodelprado.es/coleccion/obras-de-arte?searchObras=primula%20(primula%20auricula)'"
   ]
  },
  {
   "cell_type": "code",
   "execution_count": null,
   "id": "8874d3b5",
   "metadata": {},
   "outputs": [],
   "source": [
    "driver.get(url)"
   ]
  },
  {
   "cell_type": "code",
   "execution_count": null,
   "id": "7de5b157",
   "metadata": {},
   "outputs": [],
   "source": [
    "data = driver.find_elements(By.XPATH, '//*[@id=\"panResultados\"]/div')[0].text.split('\\n')"
   ]
  },
  {
   "cell_type": "code",
   "execution_count": null,
   "id": "6e1a37a2",
   "metadata": {},
   "outputs": [],
   "source": [
    "for i in range(0, len(data), 3):\n",
    "    titulo, fecha, autor = map(str.strip, data[i:i+3])\n",
    "    \n",
    "    resultados.extend([titulo, fecha, autor, 'Prímula (Primula Auricula)'])\n",
    "\n"
   ]
  },
  {
   "cell_type": "markdown",
   "id": "6f007260",
   "metadata": {},
   "source": [
    "# Retama Amarilla (Retama Sphaerocarpa) (9)"
   ]
  },
  {
   "cell_type": "code",
   "execution_count": null,
   "id": "0c4804c9",
   "metadata": {},
   "outputs": [],
   "source": [
    "# This is the url you will scrape in this exercise\n",
    "url = 'https://www.museodelprado.es/coleccion/obras-de-arte?searchObras=retama%20amarilla%20(retama%20sphaerocarpa)'"
   ]
  },
  {
   "cell_type": "code",
   "execution_count": null,
   "id": "68d577e3",
   "metadata": {},
   "outputs": [],
   "source": [
    "driver.get(url)"
   ]
  },
  {
   "cell_type": "code",
   "execution_count": null,
   "id": "3d82268d",
   "metadata": {},
   "outputs": [],
   "source": [
    "data = driver.find_elements(By.XPATH, '//*[@id=\"panResultados\"]/div')[0].text.split('\\n')"
   ]
  },
  {
   "cell_type": "code",
   "execution_count": null,
   "id": "1c89ab4c",
   "metadata": {},
   "outputs": [],
   "source": [
    "for i in range(0, len(data), 3):\n",
    "    titulo, fecha, autor = map(str.strip, data[i:i+3])\n",
    "    \n",
    "    resultados.extend([titulo, fecha, autor, 'Retama Amarilla (Retama Sphaerocarpa)'])\n",
    "\n"
   ]
  },
  {
   "cell_type": "markdown",
   "id": "7091965e",
   "metadata": {},
   "source": [
    "# Retama Negra (Cytisus Scoparius) (1)"
   ]
  },
  {
   "cell_type": "code",
   "execution_count": null,
   "id": "f9b0a2c4",
   "metadata": {},
   "outputs": [],
   "source": [
    "# This is the url you will scrape in this exercise\n",
    "url = 'https://www.museodelprado.es/coleccion/obras-de-arte?searchObras=retama%20negra%20(cytisus%20scoparius)'"
   ]
  },
  {
   "cell_type": "code",
   "execution_count": null,
   "id": "cd7af7be",
   "metadata": {},
   "outputs": [],
   "source": [
    "driver.get(url)"
   ]
  },
  {
   "cell_type": "code",
   "execution_count": null,
   "id": "132ad2aa",
   "metadata": {},
   "outputs": [],
   "source": [
    "data = driver.find_elements(By.XPATH, '//*[@id=\"panResultados\"]/div')[0].text.split('\\n')"
   ]
  },
  {
   "cell_type": "code",
   "execution_count": null,
   "id": "dfa8c71b",
   "metadata": {},
   "outputs": [],
   "source": [
    "for i in range(0, len(data), 3):\n",
    "    titulo, fecha, autor = map(str.strip, data[i:i+3])\n",
    "    \n",
    "    resultados.extend([titulo, fecha, autor, 'Retama Negra (Cytisus Scoparius)'])\n",
    "\n"
   ]
  },
  {
   "cell_type": "markdown",
   "id": "c47a9deb",
   "metadata": {},
   "source": [
    "# Roble (Quercus Spp.) (21)"
   ]
  },
  {
   "cell_type": "code",
   "execution_count": null,
   "id": "2797eeee",
   "metadata": {},
   "outputs": [],
   "source": [
    "# This is the url you will scrape in this exercise\n",
    "url = 'https://www.museodelprado.es/coleccion/obras-de-arte?searchObras=roble%20(quercus%20spp%20)'"
   ]
  },
  {
   "cell_type": "code",
   "execution_count": null,
   "id": "f7db198e",
   "metadata": {},
   "outputs": [],
   "source": [
    "driver.get(url)"
   ]
  },
  {
   "cell_type": "code",
   "execution_count": null,
   "id": "c5cc0e96",
   "metadata": {},
   "outputs": [],
   "source": [
    "data = driver.find_elements(By.XPATH, '//*[@id=\"panResultados\"]/div')[0].text.split('\\n')"
   ]
  },
  {
   "cell_type": "code",
   "execution_count": null,
   "id": "f737d80a",
   "metadata": {},
   "outputs": [],
   "source": [
    "for i in range(0, len(data), 3):\n",
    "    titulo, fecha, autor = map(str.strip, data[i:i+3])\n",
    "    \n",
    "    resultados.extend([titulo, fecha, autor, 'Roble (Quercus Spp.)'])\n",
    "\n"
   ]
  },
  {
   "cell_type": "markdown",
   "id": "96c8f387",
   "metadata": {},
   "source": [
    "# Romero (Rosmarinus Officinalis) (8)"
   ]
  },
  {
   "cell_type": "code",
   "execution_count": null,
   "id": "440af151",
   "metadata": {},
   "outputs": [],
   "source": [
    "# This is the url you will scrape in this exercise\n",
    "url = 'https://www.museodelprado.es/coleccion/obras-de-arte?searchObras=romero%20(rosmarinus%20officinalis)'"
   ]
  },
  {
   "cell_type": "code",
   "execution_count": null,
   "id": "d33513d4",
   "metadata": {},
   "outputs": [],
   "source": [
    "driver.get(url)"
   ]
  },
  {
   "cell_type": "code",
   "execution_count": null,
   "id": "cdde2537",
   "metadata": {},
   "outputs": [],
   "source": [
    "data = driver.find_elements(By.XPATH, '//*[@id=\"panResultados\"]/div')[0].text.split('\\n')"
   ]
  },
  {
   "cell_type": "code",
   "execution_count": null,
   "id": "3f876374",
   "metadata": {},
   "outputs": [],
   "source": [
    "for i in range(0, len(data), 3):\n",
    "    titulo, fecha, autor = map(str.strip, data[i:i+3])\n",
    "    \n",
    "    resultados.extend([titulo, fecha, autor, 'Romero (Rosmarinus Officinalis)'])\n",
    "\n"
   ]
  },
  {
   "cell_type": "markdown",
   "id": "5f32fb45",
   "metadata": {},
   "source": [
    "# Rosa (Rosa) (288)"
   ]
  },
  {
   "cell_type": "code",
   "execution_count": null,
   "id": "5bd3adf6",
   "metadata": {},
   "outputs": [],
   "source": [
    "# This is the url you will scrape in this exercise\n",
    "url = 'https://www.museodelprado.es/coleccion/obras-de-arte?searchObras=rosa%20(rosa)'"
   ]
  },
  {
   "cell_type": "code",
   "execution_count": null,
   "id": "057561b2",
   "metadata": {},
   "outputs": [],
   "source": [
    "driver.get(url)"
   ]
  },
  {
   "cell_type": "code",
   "execution_count": null,
   "id": "ca232d2f",
   "metadata": {},
   "outputs": [],
   "source": [
    "data = driver.find_elements(By.XPATH, '//*[@id=\"panResultados\"]/div')[0].text.split('\\n')"
   ]
  },
  {
   "cell_type": "code",
   "execution_count": null,
   "id": "94dc87d4",
   "metadata": {},
   "outputs": [],
   "source": [
    "for i in range(0, len(data), 3):\n",
    "    titulo, fecha, autor = map(str.strip, data[i:i+3])\n",
    "    \n",
    "    resultados.extend([titulo, fecha, autor, 'Rosa (Rosa)'])\n",
    "\n"
   ]
  },
  {
   "cell_type": "markdown",
   "id": "9507eb45",
   "metadata": {},
   "source": [
    "# Sauce (Salix) (1)"
   ]
  },
  {
   "cell_type": "code",
   "execution_count": null,
   "id": "c9601ce0",
   "metadata": {},
   "outputs": [],
   "source": [
    "# This is the url you will scrape in this exercise\n",
    "url = 'https://www.museodelprado.es/coleccion/obras-de-arte?searchObras=sauce%20(salix)'"
   ]
  },
  {
   "cell_type": "code",
   "execution_count": null,
   "id": "87cc3924",
   "metadata": {},
   "outputs": [],
   "source": [
    "driver.get(url)"
   ]
  },
  {
   "cell_type": "code",
   "execution_count": null,
   "id": "14a496cd",
   "metadata": {},
   "outputs": [],
   "source": [
    "data = driver.find_elements(By.XPATH, '//*[@id=\"panResultados\"]/div')[0].text.split('\\n')"
   ]
  },
  {
   "cell_type": "code",
   "execution_count": null,
   "id": "9a8b68b8",
   "metadata": {},
   "outputs": [],
   "source": [
    "for i in range(0, len(data), 3):\n",
    "    titulo, fecha, autor = map(str.strip, data[i:i+3])\n",
    "    \n",
    "    resultados.extend([titulo, fecha, autor, 'Sauce (Salix)'])\n",
    "\n"
   ]
  },
  {
   "cell_type": "markdown",
   "id": "a401f50d",
   "metadata": {},
   "source": [
    "# Saúco (Sambucus Nigra) (1)"
   ]
  },
  {
   "cell_type": "code",
   "execution_count": null,
   "id": "b25ae0b4",
   "metadata": {},
   "outputs": [],
   "source": [
    "# This is the url you will scrape in this exercise\n",
    "url = 'https://www.museodelprado.es/coleccion/obras-de-arte?searchObras=sauco%20(sambucus%20nigra)'"
   ]
  },
  {
   "cell_type": "code",
   "execution_count": null,
   "id": "4cb22e73",
   "metadata": {},
   "outputs": [],
   "source": [
    "driver.get(url)"
   ]
  },
  {
   "cell_type": "code",
   "execution_count": null,
   "id": "bf3084f9",
   "metadata": {},
   "outputs": [],
   "source": [
    "data = driver.find_elements(By.XPATH, '//*[@id=\"panResultados\"]/div')[0].text.split('\\n')"
   ]
  },
  {
   "cell_type": "code",
   "execution_count": null,
   "id": "3cf2cec1",
   "metadata": {},
   "outputs": [],
   "source": [
    "for i in range(0, len(data), 3):\n",
    "    titulo, fecha, autor = map(str.strip, data[i:i+3])\n",
    "    \n",
    "    resultados.extend([titulo, fecha, autor, 'Saúco (Sambucus Nigra)'])\n",
    "\n"
   ]
  },
  {
   "cell_type": "markdown",
   "id": "839119f8",
   "metadata": {},
   "source": [
    "# Tagetes / Clavelón de India (Tajetes Erecta) (7)"
   ]
  },
  {
   "cell_type": "code",
   "execution_count": null,
   "id": "29a73774",
   "metadata": {},
   "outputs": [],
   "source": [
    "# This is the url you will scrape in this exercise\n",
    "url = 'https://www.museodelprado.es/coleccion/obras-de-arte?searchObras=tagetes%20/%20clavelon%20de%20india%20(tajetes%20erecta)'"
   ]
  },
  {
   "cell_type": "code",
   "execution_count": null,
   "id": "1fa0f379",
   "metadata": {},
   "outputs": [],
   "source": [
    "driver.get(url)"
   ]
  },
  {
   "cell_type": "code",
   "execution_count": null,
   "id": "37cb9300",
   "metadata": {},
   "outputs": [],
   "source": [
    "data = driver.find_elements(By.XPATH, '//*[@id=\"panResultados\"]/div')[0].text.split('\\n')"
   ]
  },
  {
   "cell_type": "code",
   "execution_count": null,
   "id": "19c7fa4c",
   "metadata": {},
   "outputs": [],
   "source": [
    "for i in range(0, len(data), 3):\n",
    "    titulo, fecha, autor = map(str.strip, data[i:i+3])\n",
    "    \n",
    "    resultados.extend([titulo, fecha, autor, 'Tagetes / Clavelón de India (Tajetes Erecta)'])\n",
    "\n"
   ]
  },
  {
   "cell_type": "markdown",
   "id": "1a484465",
   "metadata": {},
   "source": [
    "# Tejo (Taxus Baccata) (2)"
   ]
  },
  {
   "cell_type": "code",
   "execution_count": null,
   "id": "6edd60c0",
   "metadata": {},
   "outputs": [],
   "source": [
    "# This is the url you will scrape in this exercise\n",
    "url = 'https://www.museodelprado.es/coleccion/obras-de-arte?searchObras=tejo%20(taxus%20baccata)'"
   ]
  },
  {
   "cell_type": "code",
   "execution_count": null,
   "id": "d74c9d39",
   "metadata": {},
   "outputs": [],
   "source": [
    "driver.get(url)"
   ]
  },
  {
   "cell_type": "code",
   "execution_count": null,
   "id": "b37fbe58",
   "metadata": {},
   "outputs": [],
   "source": [
    "data = driver.find_elements(By.XPATH, '//*[@id=\"panResultados\"]/div')[0].text.split('\\n')"
   ]
  },
  {
   "cell_type": "code",
   "execution_count": null,
   "id": "04201600",
   "metadata": {},
   "outputs": [],
   "source": [
    "for i in range(0, len(data), 3):\n",
    "    titulo, fecha, autor = map(str.strip, data[i:i+3])\n",
    "    \n",
    "    resultados.extend([titulo, fecha, autor, 'Tejo (Taxus Baccata)'])\n",
    "\n"
   ]
  },
  {
   "cell_type": "markdown",
   "id": "e34bbc47",
   "metadata": {},
   "source": [
    "# Trébol (Trifolium) (3)"
   ]
  },
  {
   "cell_type": "code",
   "execution_count": null,
   "id": "e440a185",
   "metadata": {},
   "outputs": [],
   "source": [
    "# This is the url you will scrape in this exercise\n",
    "url = 'https://www.museodelprado.es/coleccion/obras-de-arte?searchObras=trebol%20(trifolium)'"
   ]
  },
  {
   "cell_type": "code",
   "execution_count": null,
   "id": "3f48960d",
   "metadata": {},
   "outputs": [],
   "source": [
    "driver.get(url)"
   ]
  },
  {
   "cell_type": "code",
   "execution_count": null,
   "id": "0602e1e9",
   "metadata": {},
   "outputs": [],
   "source": [
    "data = driver.find_elements(By.XPATH, '//*[@id=\"panResultados\"]/div')[0].text.split('\\n')"
   ]
  },
  {
   "cell_type": "code",
   "execution_count": null,
   "id": "5bfee52a",
   "metadata": {},
   "outputs": [],
   "source": [
    "for i in range(0, len(data), 3):\n",
    "    titulo, fecha, autor = map(str.strip, data[i:i+3])\n",
    "    \n",
    "    resultados.extend([titulo, fecha, autor, 'Trébol (Trifolium)'])\n",
    "\n"
   ]
  },
  {
   "cell_type": "markdown",
   "id": "e337a5cb",
   "metadata": {},
   "source": [
    "# Tulipán (Tulipa Spp.) (134)"
   ]
  },
  {
   "cell_type": "code",
   "execution_count": null,
   "id": "50cff366",
   "metadata": {},
   "outputs": [],
   "source": [
    "# This is the url you will scrape in this exercise\n",
    "url = 'https://www.museodelprado.es/coleccion/obras-de-arte?searchObras=tulipan%20(tulipa%20spp%20)'"
   ]
  },
  {
   "cell_type": "code",
   "execution_count": null,
   "id": "4a697a96",
   "metadata": {},
   "outputs": [],
   "source": [
    "driver.get(url)"
   ]
  },
  {
   "cell_type": "code",
   "execution_count": null,
   "id": "30edfebb",
   "metadata": {},
   "outputs": [],
   "source": [
    "data = driver.find_elements(By.XPATH, '//*[@id=\"panResultados\"]/div')[0].text.split('\\n')"
   ]
  },
  {
   "cell_type": "code",
   "execution_count": null,
   "id": "ed6ca4d7",
   "metadata": {},
   "outputs": [],
   "source": [
    "for i in range(0, len(data), 3):\n",
    "    titulo, fecha, autor = map(str.strip, data[i:i+3])\n",
    "    \n",
    "    resultados.extend([titulo, fecha, autor, 'Tulipán (Tulipa Spp.)'])\n"
   ]
  },
  {
   "cell_type": "markdown",
   "id": "75894f45",
   "metadata": {},
   "source": [
    "# Vid / Parra (Vitis Vinifera) (32)"
   ]
  },
  {
   "cell_type": "code",
   "execution_count": null,
   "id": "afb8a7bd",
   "metadata": {},
   "outputs": [],
   "source": [
    "# This is the url you will scrape in this exercise\n",
    "url = 'https://www.museodelprado.es/coleccion/obras-de-arte?searchObras=vid%20/%20parra%20(vitis%20vinifera)'"
   ]
  },
  {
   "cell_type": "code",
   "execution_count": null,
   "id": "20e42184",
   "metadata": {},
   "outputs": [],
   "source": [
    "driver.get(url)"
   ]
  },
  {
   "cell_type": "code",
   "execution_count": null,
   "id": "9f9ac493",
   "metadata": {},
   "outputs": [],
   "source": [
    "data = driver.find_elements(By.XPATH, '//*[@id=\"panResultados\"]/div')[0].text.split('\\n')"
   ]
  },
  {
   "cell_type": "code",
   "execution_count": null,
   "id": "a5812615",
   "metadata": {},
   "outputs": [],
   "source": [
    "for i in range(0, len(data), 3):\n",
    "    titulo, fecha, autor = map(str.strip, data[i:i+3])\n",
    "    \n",
    "    resultados.extend([titulo, fecha, autor, 'Vid / Parra (Vitis Vinifera)'])\n",
    "\n"
   ]
  },
  {
   "cell_type": "markdown",
   "id": "d0251133",
   "metadata": {},
   "source": [
    "# Violeta (Viola) (7)"
   ]
  },
  {
   "cell_type": "code",
   "execution_count": null,
   "id": "0b2ace4c",
   "metadata": {},
   "outputs": [],
   "source": [
    "# This is the url you will scrape in this exercise\n",
    "url = 'https://www.museodelprado.es/coleccion/obras-de-arte?searchObras=violeta%20(viola)'"
   ]
  },
  {
   "cell_type": "code",
   "execution_count": null,
   "id": "10d363da",
   "metadata": {},
   "outputs": [],
   "source": [
    "driver.get(url)"
   ]
  },
  {
   "cell_type": "code",
   "execution_count": null,
   "id": "e2835694",
   "metadata": {},
   "outputs": [],
   "source": [
    "data = driver.find_elements(By.XPATH, '//*[@id=\"panResultados\"]/div')[0].text.split('\\n')"
   ]
  },
  {
   "cell_type": "code",
   "execution_count": null,
   "id": "8d00eacd",
   "metadata": {},
   "outputs": [],
   "source": [
    "for i in range(0, len(data), 3):\n",
    "    titulo, fecha, autor = map(str.strip, data[i:i+3])\n",
    "    \n",
    "    resultados.extend([titulo, fecha, autor, 'Violeta (Viola)'])\n",
    "\n"
   ]
  },
  {
   "cell_type": "markdown",
   "id": "7f3b76ac",
   "metadata": {},
   "source": [
    "# Zarzamora (Rubus) (9)"
   ]
  },
  {
   "cell_type": "code",
   "execution_count": null,
   "id": "6212556f",
   "metadata": {},
   "outputs": [],
   "source": [
    "# This is the url you will scrape in this exercise\n",
    "url = 'https://www.museodelprado.es/coleccion/obras-de-arte?searchObras=zarzamora%20(rubus)'"
   ]
  },
  {
   "cell_type": "code",
   "execution_count": null,
   "id": "cf7927b1",
   "metadata": {},
   "outputs": [],
   "source": [
    "driver.get(url)"
   ]
  },
  {
   "cell_type": "code",
   "execution_count": null,
   "id": "760585b8",
   "metadata": {},
   "outputs": [],
   "source": [
    "data = driver.find_elements(By.XPATH, '//*[@id=\"panResultados\"]/div')[0].text.split('\\n')"
   ]
  },
  {
   "cell_type": "code",
   "execution_count": null,
   "id": "06c7b3cc",
   "metadata": {},
   "outputs": [],
   "source": [
    "for i in range(0, len(data), 3):\n",
    "    titulo, fecha, autor = map(str.strip, data[i:i+3])\n",
    "    \n",
    "    resultados.extend([titulo, fecha, autor, 'Zarzamora (Rubus)'])"
   ]
  },
  {
   "cell_type": "markdown",
   "id": "37a1d5c4",
   "metadata": {},
   "source": [
    "# Zulla / Pipirigallo (Hedysarum Coronarium) (1)"
   ]
  },
  {
   "cell_type": "code",
   "execution_count": null,
   "id": "08a19270",
   "metadata": {},
   "outputs": [],
   "source": [
    "# This is the url you will scrape in this exercise\n",
    "url = 'https://www.museodelprado.es/coleccion/obras-de-arte?searchObras=zulla%20/%20pipirigallo%20(hedysarum%20coronarium)'"
   ]
  },
  {
   "cell_type": "code",
   "execution_count": null,
   "id": "ef33d6e8",
   "metadata": {},
   "outputs": [],
   "source": [
    "driver.get(url)"
   ]
  },
  {
   "cell_type": "code",
   "execution_count": null,
   "id": "0f398c53",
   "metadata": {},
   "outputs": [],
   "source": [
    "data = driver.find_elements(By.XPATH, '//*[@id=\"panResultados\"]/div')[0].text.split('\\n')"
   ]
  },
  {
   "cell_type": "code",
   "execution_count": null,
   "id": "61f3e8ee",
   "metadata": {},
   "outputs": [],
   "source": [
    "for i in range(0, len(data), 3):\n",
    "    titulo, fecha, autor = map(str.strip, data[i:i+3])\n",
    "    \n",
    "    resultados.extend([titulo, fecha, autor, 'Zulla / Pipirigallo (Hedysarum Coronarium)'])\n",
    "\n",
    "print(resultados)"
   ]
  },
  {
   "cell_type": "code",
   "execution_count": null,
   "id": "e945f934",
   "metadata": {},
   "outputs": [],
   "source": []
  },
  {
   "cell_type": "code",
   "execution_count": null,
   "id": "bccc1071",
   "metadata": {},
   "outputs": [],
   "source": [
    "titulos = []\n",
    "fechas = []\n",
    "autores = []"
   ]
  },
  {
   "cell_type": "code",
   "execution_count": null,
   "id": "4fcd1bc2",
   "metadata": {},
   "outputs": [],
   "source": [
    "# Iterar sobre los elementos de la lista\n",
    "for i in range(0, len(data), 3):\n",
    "    # Dividir cada elemento en base a las comas\n",
    "    titulo, fecha, autor = map(str.strip, data[i:i+3])\n",
    "    \n",
    "    # Agregar a las listas respectivas\n",
    "    titulos.append(titulo)\n",
    "    fechas.append(fecha)\n",
    "    autores.append(autor)\n",
    "\n",
    "# Imprimir los resultados\n",
    "print(\"Títulos:\", titulos)\n",
    "print(\"Fechas:\", fechas)\n",
    "print(\"Autores:\", autores)"
   ]
  }
 ],
 "metadata": {
  "kernelspec": {
   "display_name": "Python 3 (ipykernel)",
   "language": "python",
   "name": "python3"
  },
  "language_info": {
   "codemirror_mode": {
    "name": "ipython",
    "version": 3
   },
   "file_extension": ".py",
   "mimetype": "text/x-python",
   "name": "python",
   "nbconvert_exporter": "python",
   "pygments_lexer": "ipython3",
   "version": "3.11.4"
  }
 },
 "nbformat": 4,
 "nbformat_minor": 5
}
