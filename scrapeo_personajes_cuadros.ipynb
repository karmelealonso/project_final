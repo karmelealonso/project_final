{
 "cells": [
  {
   "cell_type": "code",
   "execution_count": 1,
   "id": "1fad54f0",
   "metadata": {},
   "outputs": [],
   "source": [
    "import pandas as pd\n",
    "from selenium.webdriver.chrome.options import Options\n",
    "from webdriver_manager.chrome import ChromeDriverManager"
   ]
  },
  {
   "cell_type": "code",
   "execution_count": 2,
   "id": "1bc1a096",
   "metadata": {},
   "outputs": [],
   "source": [
    "import time\n",
    "\n",
    "import warnings\n",
    "warnings.filterwarnings('ignore')\n",
    "\n",
    "from selenium.webdriver.common.by import By"
   ]
  },
  {
   "cell_type": "code",
   "execution_count": 3,
   "id": "05116123",
   "metadata": {},
   "outputs": [],
   "source": [
    "#driver configuration\n",
    "opciones=Options()\n",
    "\n",
    "opciones.add_experimental_option('excludeSwitches', ['enable-automation'])\n",
    "opciones.add_experimental_option('useAutomationExtension', False)\n",
    "opciones.headless=False    # si True, no aperece la ventana (headless=no visible)\n",
    "opciones.add_argument('--start-maximized')         # comienza maximizado\n",
    "#opciones.add_argument('user-data-dir=selenium')    # mantiene las cookies\n",
    "#opciones.add_extension('driver_folder/adblock.crx')       # adblocker\n",
    "opciones.add_argument('--incognito')"
   ]
  },
  {
   "cell_type": "code",
   "execution_count": 4,
   "id": "a2dcd614",
   "metadata": {},
   "outputs": [],
   "source": [
    "from selenium import webdriver\n",
    "\n",
    "PATH = \"driver/chromedriver\" \n",
    "driver = webdriver.Chrome(options = opciones)\n",
    "driver.get('https://www.google.es')"
   ]
  },
  {
   "cell_type": "code",
   "execution_count": 5,
   "id": "19e401fc",
   "metadata": {},
   "outputs": [],
   "source": [
    "# This is the url you will scrape in this exercise\n",
    "url = 'https://www.museodelprado.es/coleccion/obras-de-arte?'"
   ]
  },
  {
   "cell_type": "code",
   "execution_count": 6,
   "id": "e2a49a86",
   "metadata": {},
   "outputs": [],
   "source": [
    "driver.get(url)"
   ]
  },
  {
   "cell_type": "code",
   "execution_count": 45,
   "id": "58afc072",
   "metadata": {},
   "outputs": [
    {
     "data": {
      "text/plain": [
       "[<selenium.webdriver.remote.webelement.WebElement (session=\"03233fbc5eacdec8b7e711dc4c673e37\", element=\"44F9A76D3CA530AE068CC63525A2B8C7_element_51\")>]"
      ]
     },
     "execution_count": 45,
     "metadata": {},
     "output_type": "execute_result"
    }
   ],
   "source": [
    "personajes = driver.find_elements(By.XPATH, '//*[@id=\"modal-autor\"]/div[2]')\n",
    "personajes"
   ]
  },
  {
   "cell_type": "code",
   "execution_count": 60,
   "id": "92ace9a1",
   "metadata": {},
   "outputs": [
    {
     "data": {
      "text/plain": [
       "[<selenium.webdriver.remote.webelement.WebElement (session=\"03233fbc5eacdec8b7e711dc4c673e37\", element=\"44F9A76D3CA530AE068CC63525A2B8C7_element_447\")>,\n",
       " <selenium.webdriver.remote.webelement.WebElement (session=\"03233fbc5eacdec8b7e711dc4c673e37\", element=\"44F9A76D3CA530AE068CC63525A2B8C7_element_448\")>,\n",
       " <selenium.webdriver.remote.webelement.WebElement (session=\"03233fbc5eacdec8b7e711dc4c673e37\", element=\"44F9A76D3CA530AE068CC63525A2B8C7_element_449\")>,\n",
       " <selenium.webdriver.remote.webelement.WebElement (session=\"03233fbc5eacdec8b7e711dc4c673e37\", element=\"44F9A76D3CA530AE068CC63525A2B8C7_element_450\")>,\n",
       " <selenium.webdriver.remote.webelement.WebElement (session=\"03233fbc5eacdec8b7e711dc4c673e37\", element=\"44F9A76D3CA530AE068CC63525A2B8C7_element_451\")>,\n",
       " <selenium.webdriver.remote.webelement.WebElement (session=\"03233fbc5eacdec8b7e711dc4c673e37\", element=\"44F9A76D3CA530AE068CC63525A2B8C7_element_452\")>,\n",
       " <selenium.webdriver.remote.webelement.WebElement (session=\"03233fbc5eacdec8b7e711dc4c673e37\", element=\"44F9A76D3CA530AE068CC63525A2B8C7_element_453\")>,\n",
       " <selenium.webdriver.remote.webelement.WebElement (session=\"03233fbc5eacdec8b7e711dc4c673e37\", element=\"44F9A76D3CA530AE068CC63525A2B8C7_element_454\")>,\n",
       " <selenium.webdriver.remote.webelement.WebElement (session=\"03233fbc5eacdec8b7e711dc4c673e37\", element=\"44F9A76D3CA530AE068CC63525A2B8C7_element_455\")>,\n",
       " <selenium.webdriver.remote.webelement.WebElement (session=\"03233fbc5eacdec8b7e711dc4c673e37\", element=\"44F9A76D3CA530AE068CC63525A2B8C7_element_456\")>,\n",
       " <selenium.webdriver.remote.webelement.WebElement (session=\"03233fbc5eacdec8b7e711dc4c673e37\", element=\"44F9A76D3CA530AE068CC63525A2B8C7_element_457\")>,\n",
       " <selenium.webdriver.remote.webelement.WebElement (session=\"03233fbc5eacdec8b7e711dc4c673e37\", element=\"44F9A76D3CA530AE068CC63525A2B8C7_element_431\")>,\n",
       " <selenium.webdriver.remote.webelement.WebElement (session=\"03233fbc5eacdec8b7e711dc4c673e37\", element=\"44F9A76D3CA530AE068CC63525A2B8C7_element_432\")>,\n",
       " <selenium.webdriver.remote.webelement.WebElement (session=\"03233fbc5eacdec8b7e711dc4c673e37\", element=\"44F9A76D3CA530AE068CC63525A2B8C7_element_433\")>,\n",
       " <selenium.webdriver.remote.webelement.WebElement (session=\"03233fbc5eacdec8b7e711dc4c673e37\", element=\"44F9A76D3CA530AE068CC63525A2B8C7_element_434\")>,\n",
       " <selenium.webdriver.remote.webelement.WebElement (session=\"03233fbc5eacdec8b7e711dc4c673e37\", element=\"44F9A76D3CA530AE068CC63525A2B8C7_element_435\")>,\n",
       " <selenium.webdriver.remote.webelement.WebElement (session=\"03233fbc5eacdec8b7e711dc4c673e37\", element=\"44F9A76D3CA530AE068CC63525A2B8C7_element_436\")>,\n",
       " <selenium.webdriver.remote.webelement.WebElement (session=\"03233fbc5eacdec8b7e711dc4c673e37\", element=\"44F9A76D3CA530AE068CC63525A2B8C7_element_437\")>,\n",
       " <selenium.webdriver.remote.webelement.WebElement (session=\"03233fbc5eacdec8b7e711dc4c673e37\", element=\"44F9A76D3CA530AE068CC63525A2B8C7_element_438\")>,\n",
       " <selenium.webdriver.remote.webelement.WebElement (session=\"03233fbc5eacdec8b7e711dc4c673e37\", element=\"44F9A76D3CA530AE068CC63525A2B8C7_element_439\")>,\n",
       " <selenium.webdriver.remote.webelement.WebElement (session=\"03233fbc5eacdec8b7e711dc4c673e37\", element=\"44F9A76D3CA530AE068CC63525A2B8C7_element_440\")>,\n",
       " <selenium.webdriver.remote.webelement.WebElement (session=\"03233fbc5eacdec8b7e711dc4c673e37\", element=\"44F9A76D3CA530AE068CC63525A2B8C7_element_441\")>]"
      ]
     },
     "execution_count": 60,
     "metadata": {},
     "output_type": "execute_result"
    }
   ],
   "source": [
    "per = []\n",
    "for p in personajes:\n",
    "    per.append(p.find_elements(By.XPATH, '//*[@id=\"modal-autor\"]/div[2]/ul/li'))\n",
    "\n",
    "per[0]\n"
   ]
  },
  {
   "cell_type": "code",
   "execution_count": null,
   "id": "e8ff42dd",
   "metadata": {},
   "outputs": [],
   "source": []
  },
  {
   "cell_type": "code",
   "execution_count": null,
   "id": "9f8a2075",
   "metadata": {},
   "outputs": [],
   "source": []
  }
 ],
 "metadata": {
  "kernelspec": {
   "display_name": "Python 3 (ipykernel)",
   "language": "python",
   "name": "python3"
  },
  "language_info": {
   "codemirror_mode": {
    "name": "ipython",
    "version": 3
   },
   "file_extension": ".py",
   "mimetype": "text/x-python",
   "name": "python",
   "nbconvert_exporter": "python",
   "pygments_lexer": "ipython3",
   "version": "3.11.4"
  }
 },
 "nbformat": 4,
 "nbformat_minor": 5
}
